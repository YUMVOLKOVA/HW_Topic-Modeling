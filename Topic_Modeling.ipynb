{
  "nbformat": 4,
  "nbformat_minor": 0,
  "metadata": {
    "colab": {
      "name": "Topic Modeling.ipynb",
      "provenance": [],
      "mount_file_id": "1zsarbduDYcyUICULUuPHR-rFuFjwxqWT",
      "authorship_tag": "ABX9TyOhqZ2N9fG6Vr9q4EnCW6mE",
      "include_colab_link": true
    },
    "kernelspec": {
      "name": "python3",
      "display_name": "Python 3"
    },
    "language_info": {
      "name": "python"
    },
    "widgets": {
      "application/vnd.jupyter.widget-state+json": {
        "c9daef8402fc47d6a7d95944706eb9bc": {
          "model_module": "@jupyter-widgets/controls",
          "model_name": "HBoxModel",
          "model_module_version": "1.5.0",
          "state": {
            "_view_name": "HBoxView",
            "_dom_classes": [],
            "_model_name": "HBoxModel",
            "_view_module": "@jupyter-widgets/controls",
            "_model_module_version": "1.5.0",
            "_view_count": null,
            "_view_module_version": "1.5.0",
            "box_style": "",
            "layout": "IPY_MODEL_ff2bb1b685964f64a5894e916b17bb39",
            "_model_module": "@jupyter-widgets/controls",
            "children": [
              "IPY_MODEL_ba7c39378d25422fa99e9024b339e930",
              "IPY_MODEL_6a6048d85af6418fb71b391f46513eb7",
              "IPY_MODEL_daf76bd1c4dd431080fa684261e10bcd"
            ]
          }
        },
        "ff2bb1b685964f64a5894e916b17bb39": {
          "model_module": "@jupyter-widgets/base",
          "model_name": "LayoutModel",
          "model_module_version": "1.2.0",
          "state": {
            "_view_name": "LayoutView",
            "grid_template_rows": null,
            "right": null,
            "justify_content": null,
            "_view_module": "@jupyter-widgets/base",
            "overflow": null,
            "_model_module_version": "1.2.0",
            "_view_count": null,
            "flex_flow": null,
            "width": null,
            "min_width": null,
            "border": null,
            "align_items": null,
            "bottom": null,
            "_model_module": "@jupyter-widgets/base",
            "top": null,
            "grid_column": null,
            "overflow_y": null,
            "overflow_x": null,
            "grid_auto_flow": null,
            "grid_area": null,
            "grid_template_columns": null,
            "flex": null,
            "_model_name": "LayoutModel",
            "justify_items": null,
            "grid_row": null,
            "max_height": null,
            "align_content": null,
            "visibility": null,
            "align_self": null,
            "height": null,
            "min_height": null,
            "padding": null,
            "grid_auto_rows": null,
            "grid_gap": null,
            "max_width": null,
            "order": null,
            "_view_module_version": "1.2.0",
            "grid_template_areas": null,
            "object_position": null,
            "object_fit": null,
            "grid_auto_columns": null,
            "margin": null,
            "display": null,
            "left": null
          }
        },
        "ba7c39378d25422fa99e9024b339e930": {
          "model_module": "@jupyter-widgets/controls",
          "model_name": "HTMLModel",
          "model_module_version": "1.5.0",
          "state": {
            "_view_name": "HTMLView",
            "style": "IPY_MODEL_d05723a422644f86a1999a11d430196b",
            "_dom_classes": [],
            "description": "",
            "_model_name": "HTMLModel",
            "placeholder": "​",
            "_view_module": "@jupyter-widgets/controls",
            "_model_module_version": "1.5.0",
            "value": "100%",
            "_view_count": null,
            "_view_module_version": "1.5.0",
            "description_tooltip": null,
            "_model_module": "@jupyter-widgets/controls",
            "layout": "IPY_MODEL_83f7473f37b645029aee590d4dc184cb"
          }
        },
        "6a6048d85af6418fb71b391f46513eb7": {
          "model_module": "@jupyter-widgets/controls",
          "model_name": "FloatProgressModel",
          "model_module_version": "1.5.0",
          "state": {
            "_view_name": "ProgressView",
            "style": "IPY_MODEL_6335ffa3249d4209a417565c9e2f159f",
            "_dom_classes": [],
            "description": "",
            "_model_name": "FloatProgressModel",
            "bar_style": "success",
            "max": 22014,
            "_view_module": "@jupyter-widgets/controls",
            "_model_module_version": "1.5.0",
            "value": 22014,
            "_view_count": null,
            "_view_module_version": "1.5.0",
            "orientation": "horizontal",
            "min": 0,
            "description_tooltip": null,
            "_model_module": "@jupyter-widgets/controls",
            "layout": "IPY_MODEL_16f798fd3c1543b4bed4eb052c54a6be"
          }
        },
        "daf76bd1c4dd431080fa684261e10bcd": {
          "model_module": "@jupyter-widgets/controls",
          "model_name": "HTMLModel",
          "model_module_version": "1.5.0",
          "state": {
            "_view_name": "HTMLView",
            "style": "IPY_MODEL_4c0d5d3310fd438aaf26faa4fe01ee1c",
            "_dom_classes": [],
            "description": "",
            "_model_name": "HTMLModel",
            "placeholder": "​",
            "_view_module": "@jupyter-widgets/controls",
            "_model_module_version": "1.5.0",
            "value": " 22014/22014 [00:53&lt;00:00, 1888.68it/s]",
            "_view_count": null,
            "_view_module_version": "1.5.0",
            "description_tooltip": null,
            "_model_module": "@jupyter-widgets/controls",
            "layout": "IPY_MODEL_f994bc28278f4e59b506328fa3e0d5f7"
          }
        },
        "d05723a422644f86a1999a11d430196b": {
          "model_module": "@jupyter-widgets/controls",
          "model_name": "DescriptionStyleModel",
          "model_module_version": "1.5.0",
          "state": {
            "_view_name": "StyleView",
            "_model_name": "DescriptionStyleModel",
            "description_width": "",
            "_view_module": "@jupyter-widgets/base",
            "_model_module_version": "1.5.0",
            "_view_count": null,
            "_view_module_version": "1.2.0",
            "_model_module": "@jupyter-widgets/controls"
          }
        },
        "83f7473f37b645029aee590d4dc184cb": {
          "model_module": "@jupyter-widgets/base",
          "model_name": "LayoutModel",
          "model_module_version": "1.2.0",
          "state": {
            "_view_name": "LayoutView",
            "grid_template_rows": null,
            "right": null,
            "justify_content": null,
            "_view_module": "@jupyter-widgets/base",
            "overflow": null,
            "_model_module_version": "1.2.0",
            "_view_count": null,
            "flex_flow": null,
            "width": null,
            "min_width": null,
            "border": null,
            "align_items": null,
            "bottom": null,
            "_model_module": "@jupyter-widgets/base",
            "top": null,
            "grid_column": null,
            "overflow_y": null,
            "overflow_x": null,
            "grid_auto_flow": null,
            "grid_area": null,
            "grid_template_columns": null,
            "flex": null,
            "_model_name": "LayoutModel",
            "justify_items": null,
            "grid_row": null,
            "max_height": null,
            "align_content": null,
            "visibility": null,
            "align_self": null,
            "height": null,
            "min_height": null,
            "padding": null,
            "grid_auto_rows": null,
            "grid_gap": null,
            "max_width": null,
            "order": null,
            "_view_module_version": "1.2.0",
            "grid_template_areas": null,
            "object_position": null,
            "object_fit": null,
            "grid_auto_columns": null,
            "margin": null,
            "display": null,
            "left": null
          }
        },
        "6335ffa3249d4209a417565c9e2f159f": {
          "model_module": "@jupyter-widgets/controls",
          "model_name": "ProgressStyleModel",
          "model_module_version": "1.5.0",
          "state": {
            "_view_name": "StyleView",
            "_model_name": "ProgressStyleModel",
            "description_width": "",
            "_view_module": "@jupyter-widgets/base",
            "_model_module_version": "1.5.0",
            "_view_count": null,
            "_view_module_version": "1.2.0",
            "bar_color": null,
            "_model_module": "@jupyter-widgets/controls"
          }
        },
        "16f798fd3c1543b4bed4eb052c54a6be": {
          "model_module": "@jupyter-widgets/base",
          "model_name": "LayoutModel",
          "model_module_version": "1.2.0",
          "state": {
            "_view_name": "LayoutView",
            "grid_template_rows": null,
            "right": null,
            "justify_content": null,
            "_view_module": "@jupyter-widgets/base",
            "overflow": null,
            "_model_module_version": "1.2.0",
            "_view_count": null,
            "flex_flow": null,
            "width": null,
            "min_width": null,
            "border": null,
            "align_items": null,
            "bottom": null,
            "_model_module": "@jupyter-widgets/base",
            "top": null,
            "grid_column": null,
            "overflow_y": null,
            "overflow_x": null,
            "grid_auto_flow": null,
            "grid_area": null,
            "grid_template_columns": null,
            "flex": null,
            "_model_name": "LayoutModel",
            "justify_items": null,
            "grid_row": null,
            "max_height": null,
            "align_content": null,
            "visibility": null,
            "align_self": null,
            "height": null,
            "min_height": null,
            "padding": null,
            "grid_auto_rows": null,
            "grid_gap": null,
            "max_width": null,
            "order": null,
            "_view_module_version": "1.2.0",
            "grid_template_areas": null,
            "object_position": null,
            "object_fit": null,
            "grid_auto_columns": null,
            "margin": null,
            "display": null,
            "left": null
          }
        },
        "4c0d5d3310fd438aaf26faa4fe01ee1c": {
          "model_module": "@jupyter-widgets/controls",
          "model_name": "DescriptionStyleModel",
          "model_module_version": "1.5.0",
          "state": {
            "_view_name": "StyleView",
            "_model_name": "DescriptionStyleModel",
            "description_width": "",
            "_view_module": "@jupyter-widgets/base",
            "_model_module_version": "1.5.0",
            "_view_count": null,
            "_view_module_version": "1.2.0",
            "_model_module": "@jupyter-widgets/controls"
          }
        },
        "f994bc28278f4e59b506328fa3e0d5f7": {
          "model_module": "@jupyter-widgets/base",
          "model_name": "LayoutModel",
          "model_module_version": "1.2.0",
          "state": {
            "_view_name": "LayoutView",
            "grid_template_rows": null,
            "right": null,
            "justify_content": null,
            "_view_module": "@jupyter-widgets/base",
            "overflow": null,
            "_model_module_version": "1.2.0",
            "_view_count": null,
            "flex_flow": null,
            "width": null,
            "min_width": null,
            "border": null,
            "align_items": null,
            "bottom": null,
            "_model_module": "@jupyter-widgets/base",
            "top": null,
            "grid_column": null,
            "overflow_y": null,
            "overflow_x": null,
            "grid_auto_flow": null,
            "grid_area": null,
            "grid_template_columns": null,
            "flex": null,
            "_model_name": "LayoutModel",
            "justify_items": null,
            "grid_row": null,
            "max_height": null,
            "align_content": null,
            "visibility": null,
            "align_self": null,
            "height": null,
            "min_height": null,
            "padding": null,
            "grid_auto_rows": null,
            "grid_gap": null,
            "max_width": null,
            "order": null,
            "_view_module_version": "1.2.0",
            "grid_template_areas": null,
            "object_position": null,
            "object_fit": null,
            "grid_auto_columns": null,
            "margin": null,
            "display": null,
            "left": null
          }
        }
      }
    }
  },
  "cells": [
    {
      "cell_type": "markdown",
      "metadata": {
        "id": "view-in-github",
        "colab_type": "text"
      },
      "source": [
        "<a href=\"https://colab.research.google.com/github/YUMVOLKOVA/Topic-Modeling/blob/main/Topic_Modeling.ipynb\" target=\"_parent\"><img src=\"https://colab.research.google.com/assets/colab-badge.svg\" alt=\"Open In Colab\"/></a>"
      ]
    },
    {
      "cell_type": "markdown",
      "metadata": {
        "id": "1AuPNuV5d6h-"
      },
      "source": [
        "# Домашнее задание: Topic Modeling\n",
        "#### Волкова Юлия, МОиАД, 2 курс"
      ]
    },
    {
      "cell_type": "markdown",
      "metadata": {
        "id": "Qzj7dx9VgAoV"
      },
      "source": [
        "### Задание\n",
        "Постройте тематическую модель обращений в YouTrack от внешних пользователей в течение последних пяти релизов PyCharm. Визуализируйте её так, чтобы по визуализации можно было бы (хотя бы попытаться) ответить на два следующих вопроса:\n",
        "1. Каковы основные причины для обращений в релизе 2020.2?\n",
        "2. Какие новые проблемы добавились в релизе 2020.3 и какие ушли, по сравнению с релизом 2020.2?\n"
      ]
    },
    {
      "cell_type": "markdown",
      "metadata": {
        "id": "r0WGjpAYvFyu"
      },
      "source": [
        "### Данные"
      ]
    },
    {
      "cell_type": "markdown",
      "metadata": {
        "id": "x11qhVmIeDre"
      },
      "source": [
        "Считываем данные "
      ]
    },
    {
      "cell_type": "code",
      "metadata": {
        "id": "CBd2vTYEm96t"
      },
      "source": [
        "import tqdm.notebook as tq"
      ],
      "execution_count": 1,
      "outputs": []
    },
    {
      "cell_type": "code",
      "metadata": {
        "id": "u85n0tA1dcvD"
      },
      "source": [
        "# from google.colab import files\n",
        "# uploaded = files.upload()\n",
        "# import pandas as pd\n",
        "# import io\n",
        "# df = pd.read_json(io.StringIO(uploaded['pycharm_issues.json'].decode('utf-8')), lines=True)"
      ],
      "execution_count": 7,
      "outputs": []
    },
    {
      "cell_type": "code",
      "metadata": {
        "id": "a5oeuAomtDi2"
      },
      "source": [
        "# import pandas as pd\n",
        "# df = pd.read_json('pycharm_issues.json', lines=True)"
      ],
      "execution_count": null,
      "outputs": []
    },
    {
      "cell_type": "code",
      "metadata": {
        "colab": {
          "base_uri": "https://localhost:8080/"
        },
        "id": "cKt4aO9aoHHG",
        "outputId": "ad5031c0-0490-4cfe-ac26-6b251f5f6922"
      },
      "source": [
        "from google.colab import drive\n",
        "drive.mount('/content/drive')\n",
        "import pandas as pd\n",
        "df = pd.read_json('/content/drive/MyDrive/Prod/pycharm_issues.json', lines=True)"
      ],
      "execution_count": 2,
      "outputs": [
        {
          "output_type": "stream",
          "name": "stdout",
          "text": [
            "Drive already mounted at /content/drive; to attempt to forcibly remount, call drive.mount(\"/content/drive\", force_remount=True).\n"
          ]
        }
      ]
    },
    {
      "cell_type": "markdown",
      "metadata": {
        "id": "O0IeBN-_tFdF"
      },
      "source": [
        "Посмотрим на наши данные "
      ]
    },
    {
      "cell_type": "code",
      "metadata": {
        "colab": {
          "base_uri": "https://localhost:8080/",
          "height": 423
        },
        "id": "5u5yk81_fvmU",
        "outputId": "06800a9d-7d6a-4b53-99c0-d26af7630ac1"
      },
      "source": [
        "df"
      ],
      "execution_count": 3,
      "outputs": [
        {
          "output_type": "execute_result",
          "data": {
            "text/html": [
              "<div>\n",
              "<style scoped>\n",
              "    .dataframe tbody tr th:only-of-type {\n",
              "        vertical-align: middle;\n",
              "    }\n",
              "\n",
              "    .dataframe tbody tr th {\n",
              "        vertical-align: top;\n",
              "    }\n",
              "\n",
              "    .dataframe thead th {\n",
              "        text-align: right;\n",
              "    }\n",
              "</style>\n",
              "<table border=\"1\" class=\"dataframe\">\n",
              "  <thead>\n",
              "    <tr style=\"text-align: right;\">\n",
              "      <th></th>\n",
              "      <th>idReadable</th>\n",
              "      <th>created</th>\n",
              "      <th>summary</th>\n",
              "      <th>description</th>\n",
              "      <th>Affected versions</th>\n",
              "    </tr>\n",
              "  </thead>\n",
              "  <tbody>\n",
              "    <tr>\n",
              "      <th>0</th>\n",
              "      <td>PY-22135</td>\n",
              "      <td>1483471995465</td>\n",
              "      <td>\"Parameter foo unfilled\": false positives for ...</td>\n",
              "      <td>I'm getting false \"Incorrect call argument\" in...</td>\n",
              "      <td>[2016.3]</td>\n",
              "    </tr>\n",
              "    <tr>\n",
              "      <th>1</th>\n",
              "      <td>PY-22143</td>\n",
              "      <td>1483528763930</td>\n",
              "      <td>Python Extract Superclass: Incorrect Order of ...</td>\n",
              "      <td>When extracting superclasses, if extractions i...</td>\n",
              "      <td>[2016.3]</td>\n",
              "    </tr>\n",
              "    <tr>\n",
              "      <th>2</th>\n",
              "      <td>PY-22145</td>\n",
              "      <td>1483545972098</td>\n",
              "      <td>Inspection does not report 'Unresolved Referen...</td>\n",
              "      <td>If a variable is deleted using the `del` state...</td>\n",
              "      <td>[2016.2]</td>\n",
              "    </tr>\n",
              "    <tr>\n",
              "      <th>3</th>\n",
              "      <td>PY-22149</td>\n",
              "      <td>1483572086024</td>\n",
              "      <td>ipython notebook clear_output() not working</td>\n",
              "      <td>Below code should print only once \"Hellow Worl...</td>\n",
              "      <td>[]</td>\n",
              "    </tr>\n",
              "    <tr>\n",
              "      <th>4</th>\n",
              "      <td>PY-22128</td>\n",
              "      <td>1483387969625</td>\n",
              "      <td>False negative: no error for round brackets in...</td>\n",
              "      <td>I believe it's rather a common typo to use rou...</td>\n",
              "      <td>[2017.1]</td>\n",
              "    </tr>\n",
              "    <tr>\n",
              "      <th>...</th>\n",
              "      <td>...</td>\n",
              "      <td>...</td>\n",
              "      <td>...</td>\n",
              "      <td>...</td>\n",
              "      <td>...</td>\n",
              "    </tr>\n",
              "    <tr>\n",
              "      <th>22009</th>\n",
              "      <td>PY-51597</td>\n",
              "      <td>1636879129851</td>\n",
              "      <td>Intellij don't recognize python3 installed by ...</td>\n",
              "      <td>\\n\\nIU-212.5457.46, JRE 11.0.12+7-b1504.40x64 ...</td>\n",
              "      <td>[]</td>\n",
              "    </tr>\n",
              "    <tr>\n",
              "      <th>22010</th>\n",
              "      <td>PY-51594</td>\n",
              "      <td>1636908525899</td>\n",
              "      <td>url tag in django template that uses filters o...</td>\n",
              "      <td>When using the {% url %} tag in a Django templ...</td>\n",
              "      <td>[]</td>\n",
              "    </tr>\n",
              "    <tr>\n",
              "      <th>22011</th>\n",
              "      <td>PY-51588</td>\n",
              "      <td>1636866008572</td>\n",
              "      <td>Variable incorrectly marked as used</td>\n",
              "      <td>Hi, in this example, tha variable 'idocking' i...</td>\n",
              "      <td>[]</td>\n",
              "    </tr>\n",
              "    <tr>\n",
              "      <th>22012</th>\n",
              "      <td>PY-51595</td>\n",
              "      <td>1636912616563</td>\n",
              "      <td>Warn on invalid iterable unpack</td>\n",
              "      <td>```python\\nimport time\\n\\ndef foo() -&gt; float:\\...</td>\n",
              "      <td>[2021.2]</td>\n",
              "    </tr>\n",
              "    <tr>\n",
              "      <th>22013</th>\n",
              "      <td>PY-51589</td>\n",
              "      <td>1636892605382</td>\n",
              "      <td>Documentation Pop-up, wrong styling.</td>\n",
              "      <td>PC-212.5457.59, JRE 11.0.12+7-b1504.40x64 JetB...</td>\n",
              "      <td>[]</td>\n",
              "    </tr>\n",
              "  </tbody>\n",
              "</table>\n",
              "<p>22014 rows × 5 columns</p>\n",
              "</div>"
            ],
            "text/plain": [
              "      idReadable  ...  Affected versions\n",
              "0       PY-22135  ...           [2016.3]\n",
              "1       PY-22143  ...           [2016.3]\n",
              "2       PY-22145  ...           [2016.2]\n",
              "3       PY-22149  ...                 []\n",
              "4       PY-22128  ...           [2017.1]\n",
              "...          ...  ...                ...\n",
              "22009   PY-51597  ...                 []\n",
              "22010   PY-51594  ...                 []\n",
              "22011   PY-51588  ...                 []\n",
              "22012   PY-51595  ...           [2021.2]\n",
              "22013   PY-51589  ...                 []\n",
              "\n",
              "[22014 rows x 5 columns]"
            ]
          },
          "metadata": {},
          "execution_count": 3
        }
      ]
    },
    {
      "cell_type": "markdown",
      "metadata": {
        "id": "Z9fZrg_Uhmps"
      },
      "source": [
        "\"...в течение последних пяти релизов ...\" $->$ фильтруем датасет по пяти последним значениям Affected versions"
      ]
    },
    {
      "cell_type": "code",
      "metadata": {
        "id": "F859tbGHhkec"
      },
      "source": [
        "import itertools\n",
        "last_five = sorted(list(set(list(itertools.chain(*df['Affected versions'])))))[-5:]"
      ],
      "execution_count": 4,
      "outputs": []
    },
    {
      "cell_type": "code",
      "metadata": {
        "colab": {
          "base_uri": "https://localhost:8080/"
        },
        "id": "UoBIOTvSjVA2",
        "outputId": "1753a5b7-57c2-4877-ca3e-0eb41af5b310"
      },
      "source": [
        "last_five = [[i] for i in last_five]\n",
        "last_five"
      ],
      "execution_count": 5,
      "outputs": [
        {
          "output_type": "execute_result",
          "data": {
            "text/plain": [
              "[['2020.2'], ['2020.3'], ['2021.1'], ['2021.2'], ['2021.3']]"
            ]
          },
          "metadata": {},
          "execution_count": 5
        }
      ]
    },
    {
      "cell_type": "code",
      "metadata": {
        "colab": {
          "base_uri": "https://localhost:8080/",
          "height": 49,
          "referenced_widgets": [
            "c9daef8402fc47d6a7d95944706eb9bc",
            "ff2bb1b685964f64a5894e916b17bb39",
            "ba7c39378d25422fa99e9024b339e930",
            "6a6048d85af6418fb71b391f46513eb7",
            "daf76bd1c4dd431080fa684261e10bcd",
            "d05723a422644f86a1999a11d430196b",
            "83f7473f37b645029aee590d4dc184cb",
            "6335ffa3249d4209a417565c9e2f159f",
            "16f798fd3c1543b4bed4eb052c54a6be",
            "4c0d5d3310fd438aaf26faa4fe01ee1c",
            "f994bc28278f4e59b506328fa3e0d5f7"
          ]
        },
        "id": "SjUrREsnmBF-",
        "outputId": "a68ea802-5984-4fd9-bbaf-c19374e633a9"
      },
      "source": [
        "for i in tq.tqdm(range(len(df['Affected versions']))):  \n",
        "  if df.loc[(i, 'Affected versions')] not in last_five:\n",
        "    df = df.drop(i)"
      ],
      "execution_count": 6,
      "outputs": [
        {
          "output_type": "display_data",
          "data": {
            "application/vnd.jupyter.widget-view+json": {
              "model_id": "c9daef8402fc47d6a7d95944706eb9bc",
              "version_minor": 0,
              "version_major": 2
            },
            "text/plain": [
              "  0%|          | 0/22014 [00:00<?, ?it/s]"
            ]
          },
          "metadata": {}
        }
      ]
    },
    {
      "cell_type": "code",
      "metadata": {
        "colab": {
          "base_uri": "https://localhost:8080/",
          "height": 423
        },
        "id": "Cm3DHtzAmcDm",
        "outputId": "26cad6cc-1aa7-48d6-b587-d7d4d2131758"
      },
      "source": [
        "df.reset_index(inplace=True, drop=True)\n",
        "df"
      ],
      "execution_count": 7,
      "outputs": [
        {
          "output_type": "execute_result",
          "data": {
            "text/html": [
              "<div>\n",
              "<style scoped>\n",
              "    .dataframe tbody tr th:only-of-type {\n",
              "        vertical-align: middle;\n",
              "    }\n",
              "\n",
              "    .dataframe tbody tr th {\n",
              "        vertical-align: top;\n",
              "    }\n",
              "\n",
              "    .dataframe thead th {\n",
              "        text-align: right;\n",
              "    }\n",
              "</style>\n",
              "<table border=\"1\" class=\"dataframe\">\n",
              "  <thead>\n",
              "    <tr style=\"text-align: right;\">\n",
              "      <th></th>\n",
              "      <th>idReadable</th>\n",
              "      <th>created</th>\n",
              "      <th>summary</th>\n",
              "      <th>description</th>\n",
              "      <th>Affected versions</th>\n",
              "    </tr>\n",
              "  </thead>\n",
              "  <tbody>\n",
              "    <tr>\n",
              "      <th>0</th>\n",
              "      <td>PY-22211</td>\n",
              "      <td>1484097590051</td>\n",
              "      <td>Running subprocesses with Popen inside unittes...</td>\n",
              "      <td>I have the following unittest:\\n\\n```\\nclass M...</td>\n",
              "      <td>[2020.3]</td>\n",
              "    </tr>\n",
              "    <tr>\n",
              "      <th>1</th>\n",
              "      <td>PY-22248</td>\n",
              "      <td>1484322653638</td>\n",
              "      <td>Full project optimize imports alters library f...</td>\n",
              "      <td>Reported by: @matheusbrat on Twitter: https://...</td>\n",
              "      <td>[2020.2]</td>\n",
              "    </tr>\n",
              "    <tr>\n",
              "      <th>2</th>\n",
              "      <td>PY-22369</td>\n",
              "      <td>1485334537463</td>\n",
              "      <td>DataFrame auto-update doesn't work with action...</td>\n",
              "      <td>Consider this example:\\n\\n```python\\nimport pa...</td>\n",
              "      <td>[2021.1]</td>\n",
              "    </tr>\n",
              "    <tr>\n",
              "      <th>3</th>\n",
              "      <td>PY-22469</td>\n",
              "      <td>1485863013851</td>\n",
              "      <td>PowerShell prompt doesn't show virtualenv</td>\n",
              "      <td>Although the virtualenv seems activated, the p...</td>\n",
              "      <td>[2021.1]</td>\n",
              "    </tr>\n",
              "    <tr>\n",
              "      <th>4</th>\n",
              "      <td>PY-23007</td>\n",
              "      <td>1488923938785</td>\n",
              "      <td>Project requirements are not detected from set...</td>\n",
              "      <td>Since setuptools 30.3.0 it's possible to speci...</td>\n",
              "      <td>[2020.3]</td>\n",
              "    </tr>\n",
              "    <tr>\n",
              "      <th>...</th>\n",
              "      <td>...</td>\n",
              "      <td>...</td>\n",
              "      <td>...</td>\n",
              "      <td>...</td>\n",
              "      <td>...</td>\n",
              "    </tr>\n",
              "    <tr>\n",
              "      <th>2180</th>\n",
              "      <td>PY-51608</td>\n",
              "      <td>1636987696450</td>\n",
              "      <td>Breakpoints not always hit in multi-threaded app</td>\n",
              "      <td># Steps to Reproduce\\n\\nCreate a project using...</td>\n",
              "      <td>[2021.2]</td>\n",
              "    </tr>\n",
              "    <tr>\n",
              "      <th>2181</th>\n",
              "      <td>PY-51621</td>\n",
              "      <td>1637063283050</td>\n",
              "      <td>code insighte: Quick solution (+error) instead...</td>\n",
              "      <td>Hi,\\n**What I do:**\\nI open huge JSON file (ab...</td>\n",
              "      <td>[2021.2]</td>\n",
              "    </tr>\n",
              "    <tr>\n",
              "      <th>2182</th>\n",
              "      <td>PY-51614</td>\n",
              "      <td>1637012454711</td>\n",
              "      <td>IDE keeps disabling Python plugin, I get and e...</td>\n",
              "      <td>Here is the job log.\\n\\nI am unable to use the...</td>\n",
              "      <td>[2021.2]</td>\n",
              "    </tr>\n",
              "    <tr>\n",
              "      <th>2183</th>\n",
              "      <td>PY-51605</td>\n",
              "      <td>1636977168955</td>\n",
              "      <td>Better \"Invalid Python SDK\" handling</td>\n",
              "      <td>Quite often OS (usually macOS) or Python updat...</td>\n",
              "      <td>[2021.2]</td>\n",
              "    </tr>\n",
              "    <tr>\n",
              "      <th>2184</th>\n",
              "      <td>PY-51595</td>\n",
              "      <td>1636912616563</td>\n",
              "      <td>Warn on invalid iterable unpack</td>\n",
              "      <td>```python\\nimport time\\n\\ndef foo() -&gt; float:\\...</td>\n",
              "      <td>[2021.2]</td>\n",
              "    </tr>\n",
              "  </tbody>\n",
              "</table>\n",
              "<p>2185 rows × 5 columns</p>\n",
              "</div>"
            ],
            "text/plain": [
              "     idReadable  ...  Affected versions\n",
              "0      PY-22211  ...           [2020.3]\n",
              "1      PY-22248  ...           [2020.2]\n",
              "2      PY-22369  ...           [2021.1]\n",
              "3      PY-22469  ...           [2021.1]\n",
              "4      PY-23007  ...           [2020.3]\n",
              "...         ...  ...                ...\n",
              "2180   PY-51608  ...           [2021.2]\n",
              "2181   PY-51621  ...           [2021.2]\n",
              "2182   PY-51614  ...           [2021.2]\n",
              "2183   PY-51605  ...           [2021.2]\n",
              "2184   PY-51595  ...           [2021.2]\n",
              "\n",
              "[2185 rows x 5 columns]"
            ]
          },
          "metadata": {},
          "execution_count": 7
        }
      ]
    },
    {
      "cell_type": "markdown",
      "metadata": {
        "id": "-yLcFpGyqDHP"
      },
      "source": [
        "Посмотрим, сколько всего записей по каждому релизу"
      ]
    },
    {
      "cell_type": "code",
      "metadata": {
        "colab": {
          "base_uri": "https://localhost:8080/",
          "height": 602
        },
        "id": "mCs5ZY_3qWpD",
        "outputId": "3cffcc75-9ee5-41e1-abe9-85cd9ac0e2bb"
      },
      "source": [
        "import matplotlib.pyplot as plt\n",
        "import seaborn as sns\n",
        "sns.set_theme()\n",
        "large = 22; med = 16; small = 12\n",
        "params = {'axes.titlesize': large,\n",
        "          'legend.fontsize': med,\n",
        "          'figure.figsize': (16, 10),\n",
        "          'axes.labelsize': med,\n",
        "          'axes.titlesize': med,\n",
        "          'xtick.labelsize': med,\n",
        "          'ytick.labelsize': med,\n",
        "          'figure.titlesize': large}\n",
        "plt.rcParams.update(params)\n",
        "sns.histplot(data=df, x=list(itertools.chain(*df['Affected versions'])))\n",
        "plt.show()"
      ],
      "execution_count": 8,
      "outputs": [
        {
          "output_type": "display_data",
          "data": {
            "image/png": "[encoded data removed]",
            "text/plain": [
              "<Figure size 1152x720 with 1 Axes>"
            ]
          },
          "metadata": {}
        }
      ]
    },
    {
      "cell_type": "markdown",
      "metadata": {
        "id": "2QFyHqQItR3V"
      },
      "source": [
        "Посмотрим на содержимое 'summary' и 'description' для одной записи"
      ]
    },
    {
      "cell_type": "code",
      "metadata": {
        "colab": {
          "base_uri": "https://localhost:8080/",
          "height": 35
        },
        "id": "wEWnJJKVskPW",
        "outputId": "759aa927-10e9-488a-bc94-f34df1b01db8"
      },
      "source": [
        "df['summary'][0]"
      ],
      "execution_count": 9,
      "outputs": [
        {
          "output_type": "execute_result",
          "data": {
            "application/vnd.google.colaboratory.intrinsic+json": {
              "type": "string"
            },
            "text/plain": [
              "'Running subprocesses with Popen inside unittests can hang execution for too long'"
            ]
          },
          "metadata": {},
          "execution_count": 9
        }
      ]
    },
    {
      "cell_type": "code",
      "metadata": {
        "colab": {
          "base_uri": "https://localhost:8080/"
        },
        "id": "eHQHVnrqs3g9",
        "outputId": "73d46862-9da2-4d10-ff53-6ecf448e3095"
      },
      "source": [
        "print(df['description'][0])"
      ],
      "execution_count": 10,
      "outputs": [
        {
          "output_type": "stream",
          "name": "stdout",
          "text": [
            "I have the following unittest:\n",
            "\n",
            "```\n",
            "class MyTest(unittest.TestCase):\n",
            "    def test(self):\n",
            "        import subprocess\n",
            "        import sys\n",
            "        import time\n",
            "\n",
            "        start = time.monotonic()\n",
            "\n",
            "        try:\n",
            "            subprocess.run([sys.executable, '-c', 'print(\"hello\"); import time; time.sleep(10)'],\n",
            "                           stdout=subprocess.PIPE, stderr=subprocess.PIPE, timeout=2)\n",
            "        except subprocess.TimeoutExpired:\n",
            "            pass\n",
            "\n",
            "        try:\n",
            "            subprocess.run([sys.executable, '-c', 'print(\"hello\"); import time; time.sleep(10)'],\n",
            "                           stdout=subprocess.PIPE, stderr=subprocess.PIPE, timeout=2)\n",
            "        except subprocess.TimeoutExpired:\n",
            "            pass\n",
            "\n",
            "        end = time.monotonic()\n",
            "\n",
            "        print(end - start)\n",
            "```\n",
            "\n",
            "When `timeout` equal `2` execution roughly takes 4 seconds as expected. But if you change `timeout` to `0.1`. execution will take ~10 seconds.\n",
            "\n"
          ]
        }
      ]
    },
    {
      "cell_type": "markdown",
      "metadata": {
        "id": "KHkEZBxhuyzW"
      },
      "source": [
        "Поработаем с колонкой 'summary'"
      ]
    },
    {
      "cell_type": "markdown",
      "metadata": {
        "id": "DmImUL2bu9Bt"
      },
      "source": [
        "### Предобработка текста"
      ]
    },
    {
      "cell_type": "code",
      "metadata": {
        "id": "pO_q02ML3HSg"
      },
      "source": [
        "import re"
      ],
      "execution_count": 11,
      "outputs": []
    },
    {
      "cell_type": "markdown",
      "metadata": {
        "id": "wZ3s92E43bRv"
      },
      "source": [
        "Удаляем пунктуацию и ненужные символы"
      ]
    },
    {
      "cell_type": "code",
      "metadata": {
        "colab": {
          "base_uri": "https://localhost:8080/",
          "height": 423
        },
        "id": "1ERZbIpPtk8G",
        "outputId": "118147a6-4c83-47bf-cfcb-0436ab48e629"
      },
      "source": [
        "df['cleaned_summary'] = df['summary'].map(lambda x: re.sub('[,\\.!?\\-\\+\\(\\)\\\"\\`\\~:]', '', x))\n",
        "df['cleaned_summary'] = df['cleaned_summary'].map(lambda x: re.sub('\\s+', ' ', x))\n",
        "df['cleaned_summary'] = df['cleaned_summary'].map(lambda x: x.lower())\n",
        "df['cleaned_summary'] = df['cleaned_summary'].map(lambda x: x.replace(\"i'm\", 'i am').replace(\"n't\", ' not'))\n",
        "df"
      ],
      "execution_count": 12,
      "outputs": [
        {
          "output_type": "execute_result",
          "data": {
            "text/html": [
              "<div>\n",
              "<style scoped>\n",
              "    .dataframe tbody tr th:only-of-type {\n",
              "        vertical-align: middle;\n",
              "    }\n",
              "\n",
              "    .dataframe tbody tr th {\n",
              "        vertical-align: top;\n",
              "    }\n",
              "\n",
              "    .dataframe thead th {\n",
              "        text-align: right;\n",
              "    }\n",
              "</style>\n",
              "<table border=\"1\" class=\"dataframe\">\n",
              "  <thead>\n",
              "    <tr style=\"text-align: right;\">\n",
              "      <th></th>\n",
              "      <th>idReadable</th>\n",
              "      <th>created</th>\n",
              "      <th>summary</th>\n",
              "      <th>description</th>\n",
              "      <th>Affected versions</th>\n",
              "      <th>cleaned_summary</th>\n",
              "    </tr>\n",
              "  </thead>\n",
              "  <tbody>\n",
              "    <tr>\n",
              "      <th>0</th>\n",
              "      <td>PY-22211</td>\n",
              "      <td>1484097590051</td>\n",
              "      <td>Running subprocesses with Popen inside unittes...</td>\n",
              "      <td>I have the following unittest:\\n\\n```\\nclass M...</td>\n",
              "      <td>[2020.3]</td>\n",
              "      <td>running subprocesses with popen inside unittes...</td>\n",
              "    </tr>\n",
              "    <tr>\n",
              "      <th>1</th>\n",
              "      <td>PY-22248</td>\n",
              "      <td>1484322653638</td>\n",
              "      <td>Full project optimize imports alters library f...</td>\n",
              "      <td>Reported by: @matheusbrat on Twitter: https://...</td>\n",
              "      <td>[2020.2]</td>\n",
              "      <td>full project optimize imports alters library f...</td>\n",
              "    </tr>\n",
              "    <tr>\n",
              "      <th>2</th>\n",
              "      <td>PY-22369</td>\n",
              "      <td>1485334537463</td>\n",
              "      <td>DataFrame auto-update doesn't work with action...</td>\n",
              "      <td>Consider this example:\\n\\n```python\\nimport pa...</td>\n",
              "      <td>[2021.1]</td>\n",
              "      <td>dataframe autoupdate does not work with action...</td>\n",
              "    </tr>\n",
              "    <tr>\n",
              "      <th>3</th>\n",
              "      <td>PY-22469</td>\n",
              "      <td>1485863013851</td>\n",
              "      <td>PowerShell prompt doesn't show virtualenv</td>\n",
              "      <td>Although the virtualenv seems activated, the p...</td>\n",
              "      <td>[2021.1]</td>\n",
              "      <td>powershell prompt does not show virtualenv</td>\n",
              "    </tr>\n",
              "    <tr>\n",
              "      <th>4</th>\n",
              "      <td>PY-23007</td>\n",
              "      <td>1488923938785</td>\n",
              "      <td>Project requirements are not detected from set...</td>\n",
              "      <td>Since setuptools 30.3.0 it's possible to speci...</td>\n",
              "      <td>[2020.3]</td>\n",
              "      <td>project requirements are not detected from set...</td>\n",
              "    </tr>\n",
              "    <tr>\n",
              "      <th>...</th>\n",
              "      <td>...</td>\n",
              "      <td>...</td>\n",
              "      <td>...</td>\n",
              "      <td>...</td>\n",
              "      <td>...</td>\n",
              "      <td>...</td>\n",
              "    </tr>\n",
              "    <tr>\n",
              "      <th>2180</th>\n",
              "      <td>PY-51608</td>\n",
              "      <td>1636987696450</td>\n",
              "      <td>Breakpoints not always hit in multi-threaded app</td>\n",
              "      <td># Steps to Reproduce\\n\\nCreate a project using...</td>\n",
              "      <td>[2021.2]</td>\n",
              "      <td>breakpoints not always hit in multithreaded app</td>\n",
              "    </tr>\n",
              "    <tr>\n",
              "      <th>2181</th>\n",
              "      <td>PY-51621</td>\n",
              "      <td>1637063283050</td>\n",
              "      <td>code insighte: Quick solution (+error) instead...</td>\n",
              "      <td>Hi,\\n**What I do:**\\nI open huge JSON file (ab...</td>\n",
              "      <td>[2021.2]</td>\n",
              "      <td>code insighte quick solution error instead of ...</td>\n",
              "    </tr>\n",
              "    <tr>\n",
              "      <th>2182</th>\n",
              "      <td>PY-51614</td>\n",
              "      <td>1637012454711</td>\n",
              "      <td>IDE keeps disabling Python plugin, I get and e...</td>\n",
              "      <td>Here is the job log.\\n\\nI am unable to use the...</td>\n",
              "      <td>[2021.2]</td>\n",
              "      <td>ide keeps disabling python plugin i get and er...</td>\n",
              "    </tr>\n",
              "    <tr>\n",
              "      <th>2183</th>\n",
              "      <td>PY-51605</td>\n",
              "      <td>1636977168955</td>\n",
              "      <td>Better \"Invalid Python SDK\" handling</td>\n",
              "      <td>Quite often OS (usually macOS) or Python updat...</td>\n",
              "      <td>[2021.2]</td>\n",
              "      <td>better invalid python sdk handling</td>\n",
              "    </tr>\n",
              "    <tr>\n",
              "      <th>2184</th>\n",
              "      <td>PY-51595</td>\n",
              "      <td>1636912616563</td>\n",
              "      <td>Warn on invalid iterable unpack</td>\n",
              "      <td>```python\\nimport time\\n\\ndef foo() -&gt; float:\\...</td>\n",
              "      <td>[2021.2]</td>\n",
              "      <td>warn on invalid iterable unpack</td>\n",
              "    </tr>\n",
              "  </tbody>\n",
              "</table>\n",
              "<p>2185 rows × 6 columns</p>\n",
              "</div>"
            ],
            "text/plain": [
              "     idReadable  ...                                    cleaned_summary\n",
              "0      PY-22211  ...  running subprocesses with popen inside unittes...\n",
              "1      PY-22248  ...  full project optimize imports alters library f...\n",
              "2      PY-22369  ...  dataframe autoupdate does not work with action...\n",
              "3      PY-22469  ...         powershell prompt does not show virtualenv\n",
              "4      PY-23007  ...  project requirements are not detected from set...\n",
              "...         ...  ...                                                ...\n",
              "2180   PY-51608  ...    breakpoints not always hit in multithreaded app\n",
              "2181   PY-51621  ...  code insighte quick solution error instead of ...\n",
              "2182   PY-51614  ...  ide keeps disabling python plugin i get and er...\n",
              "2183   PY-51605  ...                 better invalid python sdk handling\n",
              "2184   PY-51595  ...                    warn on invalid iterable unpack\n",
              "\n",
              "[2185 rows x 6 columns]"
            ]
          },
          "metadata": {},
          "execution_count": 12
        }
      ]
    },
    {
      "cell_type": "markdown",
      "metadata": {
        "id": "6i6Fde9m6ZJP"
      },
      "source": [
        "Убираем стоп-слова и токенизируем\n",
        "\n",
        "gensim.utils.simple_preprocess() - Convert a document into a list of tokens.\n"
      ]
    },
    {
      "cell_type": "code",
      "metadata": {
        "colab": {
          "base_uri": "https://localhost:8080/"
        },
        "id": "GWD1HM6A6Skn",
        "outputId": "0835e55e-7993-4a32-a29b-fa376cbdba94"
      },
      "source": [
        "import gensim\n",
        "from gensim.utils import simple_preprocess\n",
        "import nltk\n",
        "nltk.download('stopwords')\n",
        "from nltk.corpus import stopwords\n",
        "\n",
        "stop_words = stopwords.words('english')\n"
      ],
      "execution_count": 13,
      "outputs": [
        {
          "output_type": "stream",
          "name": "stdout",
          "text": [
            "[nltk_data] Downloading package stopwords to /root/nltk_data...\n",
            "[nltk_data]   Package stopwords is already up-to-date!\n"
          ]
        }
      ]
    },
    {
      "cell_type": "code",
      "metadata": {
        "id": "HtXZhsd78eJh"
      },
      "source": [
        "list_summary = df['cleaned_summary'].tolist()"
      ],
      "execution_count": 14,
      "outputs": []
    },
    {
      "cell_type": "code",
      "metadata": {
        "id": "obkDmlup94co"
      },
      "source": [
        "final_out = []\n",
        "for text in list_summary:\n",
        "  preprocess_text = simple_preprocess(str(text), deacc=True)\n",
        "  tmp = []\n",
        "  for word in preprocess_text:\n",
        "    if word not in stop_words:\n",
        "      tmp.append(word)\n",
        "  final_out.append(tmp)\n",
        "# final_out"
      ],
      "execution_count": 15,
      "outputs": []
    },
    {
      "cell_type": "markdown",
      "metadata": {
        "id": "suL7nmNd-zlg"
      },
      "source": [
        "Преобразуем данные в такой формат, который можно было бы использовать в LDA"
      ]
    },
    {
      "cell_type": "code",
      "metadata": {
        "id": "-0Z4ZBCl-6MX"
      },
      "source": [
        "import gensim.corpora as corpora\n",
        "from gensim.corpora import Dictionary  #This module implements the concept of a Dictionary – a mapping between words and their integer ids.\n",
        "# doc2bow - Convert document into the bag-of-words (BoW) format = list of (token_id, token_count) tuples."
      ],
      "execution_count": 16,
      "outputs": []
    },
    {
      "cell_type": "code",
      "metadata": {
        "id": "15eF6c8j-7Zf"
      },
      "source": [
        "dict_w_id = Dictionary(final_out)\n",
        "d2bow = [dict_w_id.doc2bow(text) for text in final_out]"
      ],
      "execution_count": 17,
      "outputs": []
    },
    {
      "cell_type": "code",
      "metadata": {
        "colab": {
          "base_uri": "https://localhost:8080/"
        },
        "id": "7aE_7Q0tALUp",
        "outputId": "fe35e695-7528-4d94-ab3c-561fb27ccb1d"
      },
      "source": [
        "d2bow[0]"
      ],
      "execution_count": 18,
      "outputs": [
        {
          "output_type": "execute_result",
          "data": {
            "text/plain": [
              "[(0, 1), (1, 1), (2, 1), (3, 1), (4, 1), (5, 1), (6, 1), (7, 1)]"
            ]
          },
          "metadata": {},
          "execution_count": 18
        }
      ]
    },
    {
      "cell_type": "markdown",
      "metadata": {
        "id": "bdvF-TvFAUT7"
      },
      "source": [
        "### Модель: LDA\n",
        "\n",
        "Количество топиков возьмем 50"
      ]
    },
    {
      "cell_type": "code",
      "metadata": {
        "id": "0taBi2mzCVrQ"
      },
      "source": [
        "from gensim.models import LdaMulticore"
      ],
      "execution_count": 19,
      "outputs": []
    },
    {
      "cell_type": "code",
      "metadata": {
        "id": "Vn1HxeybASP4"
      },
      "source": [
        "lda_model = LdaMulticore(corpus=d2bow,\n",
        "                        id2word=dict_w_id,\n",
        "                        num_topics=50, \n",
        "                        random_state=100,\n",
        "                        chunksize=100,\n",
        "                        passes=10,\n",
        "                        per_word_topics=True)"
      ],
      "execution_count": 20,
      "outputs": []
    },
    {
      "cell_type": "code",
      "metadata": {
        "colab": {
          "base_uri": "https://localhost:8080/"
        },
        "id": "iNT8uBdhCq1h",
        "outputId": "6b382102-65ef-4655-c019-ff9a4e4d0fcd"
      },
      "source": [
        "sorted(lda_model.print_topics(num_topics=10)) #10 самых важных тем"
      ],
      "execution_count": 21,
      "outputs": [
        {
          "output_type": "execute_result",
          "data": {
            "text/plain": [
              "[(4,\n",
              "  '0.096*\"type\" + 0.083*\"breaks\" + 0.078*\"annotations\" + 0.075*\"refactoring\" + 0.048*\"class\" + 0.042*\"decorator\" + 0.036*\"stopped\" + 0.036*\"numpy\" + 0.033*\"super\" + 0.033*\"explicitly\"'),\n",
              " (5,\n",
              "  '0.135*\"string\" + 0.126*\"line\" + 0.064*\"message\" + 0.056*\"different\" + 0.040*\"better\" + 0.038*\"macos\" + 0.037*\"display\" + 0.037*\"action\" + 0.034*\"properly\" + 0.034*\"characters\"'),\n",
              " (12,\n",
              "  '0.180*\"function\" + 0.110*\"type\" + 0.089*\"without\" + 0.042*\"nested\" + 0.040*\"hint\" + 0.037*\"defined\" + 0.037*\"user\" + 0.036*\"hinting\" + 0.022*\"definition\" + 0.021*\"outside\"'),\n",
              " (16,\n",
              "  '0.291*\"false\" + 0.124*\"positive\" + 0.043*\"highlighting\" + 0.033*\"level\" + 0.031*\"problems\" + 0.030*\"attributes\" + 0.026*\"instance\" + 0.023*\"open\" + 0.022*\"keeps\" + 0.017*\"showing\"'),\n",
              " (24,\n",
              "  '0.172*\"debug\" + 0.126*\"add\" + 0.068*\"imported\" + 0.054*\"suggests\" + 0.049*\"compatibility\" + 0.038*\"hide\" + 0.026*\"stops\" + 0.025*\"js\" + 0.023*\"requirements\" + 0.020*\"unhandled\"'),\n",
              " (25,\n",
              "  '0.103*\"inference\" + 0.085*\"type\" + 0.084*\"running\" + 0.072*\"allow\" + 0.047*\"selection\" + 0.046*\"keyword\" + 0.046*\"cython\" + 0.044*\"warnings\" + 0.034*\"generator\" + 0.030*\"execute\"'),\n",
              " (31,\n",
              "  '0.150*\"set\" + 0.126*\"process\" + 0.061*\"starting\" + 0.050*\"becomes\" + 0.037*\"initializing\" + 0.032*\"gherkin\" + 0.024*\"matplotlib\" + 0.022*\"hash\" + 0.020*\"newly\" + 0.018*\"element\"'),\n",
              " (43,\n",
              "  '0.235*\"new\" + 0.084*\"projects\" + 0.062*\"adding\" + 0.035*\"via\" + 0.033*\"twice\" + 0.032*\"scratch\" + 0.025*\"shortcut\" + 0.024*\"copied\" + 0.023*\"loaded\" + 0.023*\"leads\"'),\n",
              " (45,\n",
              "  '0.214*\"list\" + 0.108*\"editor\" + 0.039*\"editing\" + 0.034*\"incompatible\" + 0.033*\"plugins\" + 0.029*\"define\" + 0.029*\"select\" + 0.025*\"already\" + 0.025*\"suggestions\" + 0.024*\"page\"'),\n",
              " (48,\n",
              "  '0.155*\"support\" + 0.097*\"cell\" + 0.064*\"mode\" + 0.035*\"ability\" + 0.034*\"plots\" + 0.032*\"scientific\" + 0.032*\"place\" + 0.027*\"numbers\" + 0.025*\"requires\" + 0.020*\"positives\"')]"
            ]
          },
          "metadata": {},
          "execution_count": 21
        }
      ]
    },
    {
      "cell_type": "markdown",
      "metadata": {
        "id": "0wHuGKLTDlyX"
      },
      "source": [
        "Посчитаем Coherence Score для данной модели"
      ]
    },
    {
      "cell_type": "code",
      "metadata": {
        "id": "4ihlOZITD0EP"
      },
      "source": [
        "from gensim.models import CoherenceModel"
      ],
      "execution_count": 22,
      "outputs": []
    },
    {
      "cell_type": "code",
      "metadata": {
        "colab": {
          "base_uri": "https://localhost:8080/"
        },
        "id": "jiBithiuDlax",
        "outputId": "7e6b284d-d117-42c6-ef4c-b4ab86a96927"
      },
      "source": [
        "coherence_model_lda = CoherenceModel(model=lda_model, texts=final_out, dictionary=dict_w_id, coherence='c_v')\n",
        "coherence_lda = coherence_model_lda.get_coherence()\n",
        "print('Coherence Score: ', coherence_lda)"
      ],
      "execution_count": 23,
      "outputs": [
        {
          "output_type": "stream",
          "name": "stdout",
          "text": [
            "Coherence Score:  0.6047778451252431\n"
          ]
        }
      ]
    },
    {
      "cell_type": "markdown",
      "metadata": {
        "id": "bkgM-50zE7u4"
      },
      "source": [
        "Визуализация"
      ]
    },
    {
      "cell_type": "code",
      "metadata": {
        "colab": {
          "base_uri": "https://localhost:8080/"
        },
        "id": "8lFPD012E4ZB",
        "outputId": "aac9421d-e08e-40e4-bebd-cb2b6c6d1e9b"
      },
      "source": [
        "!pip install pyLDAvis\n",
        "import pyLDAvis\n",
        "import pyLDAvis.gensim_models\n",
        "import pickle \n",
        "pyLDAvis.enable_notebook()"
      ],
      "execution_count": 24,
      "outputs": [
        {
          "output_type": "stream",
          "name": "stdout",
          "text": [
            "Requirement already satisfied: pyLDAvis in /usr/local/lib/python3.7/dist-packages (3.3.1)\n",
            "Requirement already satisfied: jinja2 in /usr/local/lib/python3.7/dist-packages (from pyLDAvis) (2.11.3)\n",
            "Requirement already satisfied: scipy in /usr/local/lib/python3.7/dist-packages (from pyLDAvis) (1.4.1)\n",
            "Requirement already satisfied: pandas>=1.2.0 in /usr/local/lib/python3.7/dist-packages (from pyLDAvis) (1.2.0)\n",
            "Requirement already satisfied: numexpr in /usr/local/lib/python3.7/dist-packages (from pyLDAvis) (2.7.3)\n",
            "Requirement already satisfied: funcy in /usr/local/lib/python3.7/dist-packages (from pyLDAvis) (1.16)\n",
            "Requirement already satisfied: joblib in /usr/local/lib/python3.7/dist-packages (from pyLDAvis) (1.1.0)\n",
            "Requirement already satisfied: scikit-learn in /usr/local/lib/python3.7/dist-packages (from pyLDAvis) (1.0.1)\n",
            "Requirement already satisfied: future in /usr/local/lib/python3.7/dist-packages (from pyLDAvis) (0.16.0)\n",
            "Requirement already satisfied: numpy>=1.20.0 in /usr/local/lib/python3.7/dist-packages (from pyLDAvis) (1.21.4)\n",
            "Requirement already satisfied: setuptools in /usr/local/lib/python3.7/dist-packages (from pyLDAvis) (57.4.0)\n",
            "Requirement already satisfied: gensim in /usr/local/lib/python3.7/dist-packages (from pyLDAvis) (3.6.0)\n",
            "Requirement already satisfied: sklearn in /usr/local/lib/python3.7/dist-packages (from pyLDAvis) (0.0)\n",
            "Requirement already satisfied: pytz>=2017.3 in /usr/local/lib/python3.7/dist-packages (from pandas>=1.2.0->pyLDAvis) (2018.9)\n",
            "Requirement already satisfied: python-dateutil>=2.7.3 in /usr/local/lib/python3.7/dist-packages (from pandas>=1.2.0->pyLDAvis) (2.8.2)\n",
            "Requirement already satisfied: six>=1.5 in /usr/local/lib/python3.7/dist-packages (from python-dateutil>=2.7.3->pandas>=1.2.0->pyLDAvis) (1.15.0)\n",
            "Requirement already satisfied: smart-open>=1.2.1 in /usr/local/lib/python3.7/dist-packages (from gensim->pyLDAvis) (5.2.1)\n",
            "Requirement already satisfied: MarkupSafe>=0.23 in /usr/local/lib/python3.7/dist-packages (from jinja2->pyLDAvis) (2.0.1)\n",
            "Requirement already satisfied: threadpoolctl>=2.0.0 in /usr/local/lib/python3.7/dist-packages (from scikit-learn->pyLDAvis) (3.0.0)\n"
          ]
        },
        {
          "output_type": "stream",
          "name": "stderr",
          "text": [
            "/usr/local/lib/python3.7/dist-packages/past/types/oldstr.py:5: DeprecationWarning: Using or importing the ABCs from 'collections' instead of from 'collections.abc' is deprecated since Python 3.3,and in 3.9 it will stop working\n",
            "  from collections import Iterable\n"
          ]
        }
      ]
    },
    {
      "cell_type": "code",
      "metadata": {
        "id": "g2u2FVIWF42I"
      },
      "source": [
        "result = pyLDAvis.gensim_models.prepare(lda_model, d2bow, dict_w_id, mds=\"mmds\")"
      ],
      "execution_count": 25,
      "outputs": []
    },
    {
      "cell_type": "code",
      "metadata": {
        "colab": {
          "base_uri": "https://localhost:8080/",
          "height": 861
        },
        "id": "tRKH50VwH4aY",
        "outputId": "bd976cc7-7370-4969-93b5-0c3b1acfa811"
      },
      "source": [
        "result"
      ],
      "execution_count": 26,
      "outputs": [
        {
          "output_type": "execute_result",
          "data": {
            "text/html": [
              "\n",
              "<link rel=\"stylesheet\" type=\"text/css\" href=\"https://cdn.jsdelivr.net/gh/bmabey/pyLDAvis@3.3.1/pyLDAvis/js/ldavis.v1.0.0.css\">\n",
              "\n",
              "\n",
              "<div id=\"ldavis_el21011406138852645921451165444\"></div>\n",
              "<script type=\"text/javascript\">\n",
              "\n",
              "var ldavis_el21011406138852645921451165444_data = {\"mdsDat\": {\"x\": [0.3996063481023744, -0.1457739354618547, 0.01710449795853308, -0.3427454636911711, 0.22112946379121284, 0.4120275989911555, -0.39061344813525933, 0.2860276035936175, -0.3106471923171532, 0.42870519887731334, -0.23222728037324392, -0.4666566349378947, -0.40455478598698613, 0.1913160750211406, -0.3462143867842583, -0.3082292302636021, -0.3945372275672969, 0.25456607249393715, -0.34854174278023, -0.014813936504038156, -0.07437666921227495, 0.07905655484064968, 0.33925997032208566, -0.1033150418363191, -0.009375935009963044, 0.15102550627018527, -0.19359020839570118, 0.03635518990947951, -0.18523197665289118, -0.08440975125952335, -0.15058793206507837, 0.08043211777390512, 0.4169793189219641, 0.3189882869648086, 0.313242807738696, 0.1310618003170465, 0.22857650960476267, -0.2624062207049345, 0.12361333315400173, -0.00529840658273474, 0.3820712972730864, 0.23917870298677157, 0.12108509573699118, 0.1791456371286105, 0.10571123911748082, -0.19801738749638242, -0.09279507738456343, -0.22602522999383073, -0.036867611774706155, -0.12841351371791795], \"y\": [0.30884068273876014, -0.46673644371056616, -0.47852691452545165, -0.3054133915104882, -0.39483077490600216, -0.1768532994233727, -0.1838227532308148, -0.3088056573581201, 0.31415958130643, 0.15501631651878658, -0.36118366277057123, -0.03081738872056259, 0.07427892447510774, 0.41339955680899665, 0.008795591735135905, 0.2097368795193353, 0.17298544193883145, 0.30100582575067414, -0.09527811552193793, -0.2490646197164546, -0.3523718215040268, -0.3854769633642314, -0.23831743799849797, -0.18579809721528848, 0.416085841821988, -0.3068876330565399, 0.1681058118278841, 0.33602385168780174, -0.22935500081257398, 0.39682651615387804, 0.35426924172115676, 0.08178079692183031, -0.058105351328391536, -0.0836709826878866, 0.1387774937664629, -0.19927282806271143, 0.17630012491242517, -0.17235439565168492, 0.3528603904164907, 0.17489423689997666, 0.028993485303501067, 0.03891058086789157, 0.2098943706332954, -0.09233524664246395, -0.04391644736963197, 0.05701730525189855, 0.22944783983234623, 0.3338571327982564, -0.015476563575692723, -0.0375920309451775], \"topics\": [1, 2, 3, 4, 5, 6, 7, 8, 9, 10, 11, 12, 13, 14, 15, 16, 17, 18, 19, 20, 21, 22, 23, 24, 25, 26, 27, 28, 29, 30, 31, 32, 33, 34, 35, 36, 37, 38, 39, 40, 41, 42, 43, 44, 45, 46, 47, 48, 49, 50], \"cluster\": [1, 1, 1, 1, 1, 1, 1, 1, 1, 1, 1, 1, 1, 1, 1, 1, 1, 1, 1, 1, 1, 1, 1, 1, 1, 1, 1, 1, 1, 1, 1, 1, 1, 1, 1, 1, 1, 1, 1, 1, 1, 1, 1, 1, 1, 1, 1, 1, 1, 1], \"Freq\": [4.170299569157537, 3.7042394626250337, 3.1467113441281196, 2.77562150404097, 2.745316505964827, 2.7113731245067654, 2.484883317505944, 2.4693653404680473, 2.4525474729087247, 2.3580285829211296, 2.318086573769677, 2.2831417036630124, 2.2718036715965724, 2.2577864231730826, 2.0678619191864156, 2.053052881322149, 2.034937943729583, 2.03159137317999, 1.9928467785731034, 1.9606486624792605, 1.9445072360110247, 1.9381153730001908, 1.9356533748646092, 1.8926755492893306, 1.8678636007546139, 1.8483344904635122, 1.7954483263392016, 1.776115217165706, 1.7497179530424616, 1.738097723173785, 1.7360997453498204, 1.7355518071886837, 1.7248974252541645, 1.7209855478251515, 1.6984590364654026, 1.6721882171558997, 1.6537830999272543, 1.6482822432989972, 1.6305981741966145, 1.5998958943975077, 1.5808691982432594, 1.562334284866544, 1.5020567140572594, 1.48030411955935, 1.4760281609067856, 1.4643157917840215, 1.4544539760739172, 1.4512867716129454, 1.3127294827429727, 1.1182073100890668]}, \"tinfo\": {\"Term\": [\"python\", \"pycharm\", \"code\", \"type\", \"error\", \"interpreter\", \"false\", \"project\", \"work\", \"console\", \"run\", \"incorrect\", \"cannot\", \"import\", \"file\", \"debugger\", \"completion\", \"new\", \"django\", \"class\", \"inspection\", \"jupyter\", \"used\", \"module\", \"function\", \"using\", \"wrong\", \"list\", \"warning\", \"instead\", \"interpreter\", \"using\", \"wsl\", \"docker\", \"compose\", \"ssh\", \"dockercompose\", \"sciview\", \"opened\", \"docstrings\", \"time\", \"google\", \"breakpoints\", \"handle\", \"integration\", \"problem\", \"information\", \"could\", \"app\", \"flask\", \"valid\", \"wslbased\", \"dialog\", \"engine\", \"response\", \"permission\", \"word\", \"experimental\", \"graph\", \"recognizes\", \"remote\", \"python\", \"console\", \"issue\", \"slow\", \"save\", \"python\", \"auto\", \"always\", \"managepy\", \"hidden\", \"queue\", \"causing\", \"profiler\", \"matlabengine\", \"tools\", \"evaluates\", \"database\", \"integrated\", \"scrollable\", \"stretch\", \"interact\", \"pgcli\", \"submitted\", \"invoked\", \"properties\", \"complex\", \"executing\", \"insert\", \"overwritten\", \"runserver\", \"ipython\", \"pycharm\", \"settings\", \"unable\", \"writing\", \"language\", \"breaking\", \"existing\", \"even\", \"resolved\", \"infer\", \"setup\", \"randomly\", \"required\", \"whole\", \"vagrant\", \"well\", \"djangotest\", \"azure\", \"toolkit\", \"slowly\", \"metaclasses\", \"reopen\", \"office\", \"shut\", \"visuals\", \"bounded\", \"customized\", \"detecting\", \"closes\", \"bracketed\", \"project\", \"module\", \"files\", \"imports\", \"root\", \"external\", \"interpreters\", \"number\", \"base\", \"exceptions\", \"link\", \"editable\", \"projectfiles\", \"treating\", \"library\", \"inspect\", \"actually\", \"readonly\", \"switches\", \"venvs\", \"nukes\", \"collectionsabc\", \"microsoft\", \"side\", \"remoter\", \"trigger\", \"masks\", \"entire\", \"populate\", \"pycodestylepy\", \"jupyter\", \"window\", \"call\", \"tool\", \"installed\", \"statement\", \"notebook\", \"server\", \"available\", \"called\", \"cant\", \"gets\", \"got\", \"rendering\", \"examples\", \"anymore\", \"stripped\", \"kernels\", \"pyside\", \"history\", \"pro\", \"token\", \"location\", \"require\", \"exist\", \"disconnected\", \"across\", \"math\", \"forwarding\", \"hierarchy\", \"remote\", \"debugger\", \"failed\", \"enabled\", \"services\", \"cpu\", \"connection\", \"ignored\", \"extension\", \"final\", \"rest\", \"crash\", \"links\", \"mapped\", \"appearing\", \"high\", \"ipynb\", \"silently\", \"lost\", \"framework\", \"extremely\", \"crashes\", \"restartpy\", \"creates\", \"professional\", \"excel\", \"font\", \"request\", \"flag\", \"caused\", \"application\", \"cannot\", \"creating\", \"none\", \"get\", \"intellij\", \"checker\", \"popup\", \"system\", \"target\", \"pandas\", \"infers\", \"markdown\", \"issues\", \"copies\", \"raise\", \"orange\", \"torch\", \"supported\", \"diff\", \"latter\", \"inherited\", \"viewer\", \"latest\", \"pyramid\", \"theme\", \"nearby\", \"projectjdktable\", \"configurable\", \"doublynested\", \"path_or_buf\", \"type\", \"code\", \"working\", \"inspections\", \"displayed\", \"incomplete\", \"insight\", \"analysis\", \"sync\", \"injection\", \"unreachable\", \"except\", \"block\", \"datetime\", \"certain\", \"paste\", \"keys\", \"typo\", \"typechecking\", \"userdefined\", \"regex\", \"column\", \"fstrings\", \"hard\", \"section\", \"wrap\", \"index\", \"keras\", \"tensorflowkeras\", \"tips\", \"dynamically\", \"false\", \"positive\", \"highlighting\", \"level\", \"problems\", \"attributes\", \"instance\", \"open\", \"keeps\", \"showing\", \"performance\", \"separator\", \"conditions\", \"asking\", \"access\", \"py\", \"expressions\", \"renaming\", \"forever\", \"typingprotocol\", \"global\", \"allowed\", \"trivially\", \"stdin\", \"undefined\", \"thread\", \"release\", \"varying\", \"rst\", \"identifier\", \"completion\", \"django\", \"parameter\", \"syntax\", \"methods\", \"empty\", \"configured\", \"passed\", \"size\", \"ospath\", \"provide\", \"render\", \"saved\", \"abstract\", \"item\", \"inserts\", \"epydoc\", \"tensorrt\", \"info\", \"implement\", \"basic\", \"invoke\", \"formulas\", \"strict\", \"unless\", \"need\", \"sporadically\", \"particular\", \"xmldomminidom\", \"active\", \"import\", \"str\", \"quick\", \"generic\", \"classes\", \"missing\", \"expected\", \"install\", \"extended\", \"component\", \"removes\", \"folded\", \"fix\", \"autoimport\", \"parentheses\", \"typesdict\", \"eg\", \"needless\", \"takes\", \"clause\", \"minor\", \"prioritize\", \"irrelevant\", \"parameterized\", \"variants\", \"disable\", \"optimize\", \"confusing\", \"pyx\", \"ast\", \"run\", \"fails\", \"typing\", \"configuration\", \"literal\", \"autocomplete\", \"operator\", \"recognize\", \"fail\", \"walrus\", \"stubs\", \"namedtuple\", \"parenteses\", \"lag\", \"doctest\", \"flags\", \"effect\", \"emulated\", \"passing\", \"frameworks\", \"misnamed\", \"web\", \"flask_debug\", \"multicursor\", \"keywords\", \"initialized\", \"assigning\", \"autotest\", \"enumunique\", \"slower\", \"inference\", \"allow\", \"selection\", \"keyword\", \"cython\", \"warnings\", \"generator\", \"execute\", \"checking\", \"classmethod\", \"something\", \"rerun\", \"check\", \"yield\", \"model\", \"running\", \"key\", \"resolve\", \"speedups\", \"reports\", \"program\", \"helpers\", \"submodule\", \"parametrized\", \"enumeratels\", \"reset\", \"apple\", \"swap\", \"protocol\", \"silicon\", \"type\", \"documentation\", \"pytest\", \"strings\", \"view\", \"preview\", \"change\", \"exception\", \"dataframe\", \"tuple\", \"color\", \"found\", \"loading\", \"formatted\", \"true\", \"thinks\", \"git\", \"horizontal\", \"needlessly\", \"wastes\", \"failure\", \"launch\", \"enable\", \"scheme\", \"condition\", \"commit\", \"state\", \"customize\", \"edition\", \"wo\", \"cause\", \"use\", \"environment\", \"path\", \"shows\", \"terminal\", \"importing\", \"eap\", \"directory\", \"conda\", \"previous\", \"runs\", \"highlights\", \"contextual\", \"bin\", \"raises\", \"changed\", \"activation\", \"environments\", \"activate\", \"float\", \"integer\", \"unactivated\", \"activated\", \"managing\", \"party\", \"third\", \"pymc\", \"theano\", \"ultimate\", \"shortcuts\", \"rename\", \"command\", \"values\", \"correct\", \"toolbar\", \"within\", \"inconsistent\", \"constructor\", \"bracket\", \"content\", \"members\", \"declarations\", \"closing\", \"appears\", \"character\", \"pipenv\", \"folding\", \"wizard\", \"suggested\", \"cells\", \"point\", \"dataframes\", \"jython\", \"unit\", \"sftp\", \"detect\", \"notification\", \"automatic\", \"config\", \"updates\", \"warning\", \"test\", \"unexpected\", \"button\", \"dict\", \"case\", \"result\", \"runner\", \"itemsview\", \"autodetect\", \"able\", \"unittest\", \"exists\", \"export\", \"suite\", \"sphinx\", \"inferring\", \"keyvalue\", \"pair\", \"resets\", \"gives\", \"goes\", \"unicode\", \"pymongo\", \"referenceerror\", \"several\", \"tablecolumns\", \"capture\", \"preserve\", \"captures\", \"type\", \"string\", \"line\", \"message\", \"different\", \"better\", \"macos\", \"display\", \"action\", \"properly\", \"characters\", \"behavior\", \"libraries\", \"redeclared\", \"blank\", \"clickable\", \"rendered\", \"print\", \"quoted\", \"double\", \"upgrade\", \"helper\", \"became\", \"brown\", \"newline\", \"panel\", \"assertion\", \"tree\", \"swing\", \"stack\", \"trace\", \"wrong\", \"functions\", \"value\", \"return\", \"menu\", \"field\", \"right\", \"second\", \"ignore\", \"understand\", \"classdecorated\", \"context\", \"click\", \"annotating\", \"shadowing\", \"traceback\", \"overloads\", \"kwargs\", \"statements\", \"position\", \"overloaded\", \"checkbox\", \"cleared\", \"remains\", \"tip\", \"linux\", \"wild\", \"tempfile\", \"etc\", \"day\", \"type\", \"function\", \"without\", \"nested\", \"hint\", \"defined\", \"user\", \"hinting\", \"definition\", \"outside\", \"ifelse\", \"accepted\", \"calls\", \"works\", \"operators\", \"know\", \"async\", \"raised\", \"dictionary\", \"chain\", \"upper\", \"typingtypeddict\", \"revealed\", \"codecompletion\", \"mistreats\", \"large\", \"amount\", \"foreignkey\", \"classmethods\", \"expecting\", \"returning\", \"type\", \"name\", \"variable\", \"modules\", \"warn\", \"custom\", \"signature\", \"format\", \"autocompletion\", \"introduce\", \"builtin\", \"validate\", \"clone\", \"changes\", \"renders\", \"binary\", \"pydevd\", \"submodules\", \"subscripted\", \"many\", \"falsepositive\", \"objects\", \"override\", \"shadows\", \"enter\", \"outer\", \"translate\", \"rescan\", \"assumed\", \"resolving\", \"accurate\", \"error\", \"broken\", \"report\", \"unused\", \"local\", \"usages\", \"terminated\", \"targets\", \"profiling\", \"insighte\", \"solution\", \"skeletons\", \"uncalled\", \"part\", \"read\", \"configuring\", \"implementations\", \"unqualified\", \"compile\", \"extensions\", \"flagging\", \"intenum\", \"box\", \"identification\", \"unpacked\", \"refresh\", \"prefer\", \"removing\", \"rather\", \"json\", \"find\", \"used\", \"ide\", \"match\", \"annotation\", \"refactor\", \"restart\", \"named\", \"calling\", \"standard\", \"returns\", \"decorators\", \"class\", \"member\", \"testcase\", \"renames\", \"responsive\", \"nonproject\", \"queryset\", \"derivatives\", \"qobject\", \"qobjecttr\", \"declared\", \"near\", \"play\", \"unknown\", \"dictionaries\", \"gone\", \"poor\", \"ms\", \"gt\", \"incorrect\", \"inferred\", \"declaration\", \"updating\", \"stuck\", \"sometimes\", \"go\", \"profile\", \"doc\", \"collection\", \"startup\", \"pytestxdist\", \"regions\", \"mismatch\", \"inferrence\", \"conversion\", \"propose\", \"improve\", \"fewer\", \"inferencer\", \"succeeds\", \"jumps\", \"task\", \"skeleton\", \"screen\", \"spinner\", \"constants\", \"overflows\", \"implementation\", \"instantiating\", \"type\", \"breaks\", \"annotations\", \"refactoring\", \"decorator\", \"stopped\", \"numpy\", \"super\", \"explicitly\", \"actions\", \"enum\", \"subclass\", \"another\", \"icons\", \"overload\", \"unfilled\", \"gutter\", \"indentify\", \"switching\", \"also\", \"body\", \"providing\", \"triple\", \"shape\", \"defintion\", \"hinted\", \"propagate\", \"moving\", \"picks\", \"staticmethod\", \"cache\", \"class\", \"type\", \"windows\", \"typevar\", \"pep\", \"formatting\", \"errors\", \"attach\", \"due\", \"table\", \"current\", \"executed\", \"parse\", \"blocks\", \"ca\", \"subtype\", \"dataclass\", \"big\", \"extending\", \"reused\", \"service\", \"sur\", \"resize\", \"installation\", \"treated\", \"annotated\", \"miniforge\", \"protocols\", \"operations\", \"layout\", \"nonoptimal\", \"letter\", \"types\", \"output\", \"variables\", \"docstring\", \"executable\", \"plot\", \"currently\", \"show\", \"incorreclty\", \"qualified\", \"password\", \"inherit\", \"pid\", \"clear\", \"detected\", \"track\", \"powershell\", \"mixes\", \"parallel\", \"misinterprets\", \"connected\", \"tried\", \"duplication\", \"terraform\", \"separate\", \"real\", \"setupcfg\", \"prompt\", \"post\", \"alongside\", \"method\", \"multiple\", \"idea\", \"create\", \"comment\", \"causes\", \"namespace\", \"additional\", \"session\", \"static\", \"must\", \"resolution\", \"superclass\", \"multiproject\", \"typeerror\", \"bytes\", \"drive\", \"every\", \"nonnative\", \"arg\", \"extract\", \"someclassget\", \"untyped\", \"makes\", \"magic\", \"setupclass\", \"usually\", \"cores\", \"reindex\", \"unusable\", \"work\", \"union\", \"based\", \"iterable\", \"clicking\", \"metaclass\", \"generics\", \"hints\", \"manager\", \"vmprof\", \"sources\", \"source\", \"pyroute\", \"ubuntu\", \"selecting\", \"wrapping\", \"evaluate\", \"throws\", \"altclick\", \"buttons\", \"roles\", \"perceived\", \"loses\", \"sorting\", \"downloaded\", \"crazy\", \"unified\", \"keep\", \"prepended\", \"autoscroll\", \"type\", \"new\", \"projects\", \"adding\", \"via\", \"twice\", \"scratch\", \"copied\", \"loaded\", \"leads\", \"shortcut\", \"single\", \"possible\", \"deployment\", \"continue\", \"navigation\", \"duplicated\", \"slash\", \"focus\", \"steals\", \"mentioned\", \"opens\", \"inline\", \"greyed\", \"mappings\", \"minimalist\", \"resembling\", \"vcs\", \"choice\", \"fullscreen\", \"passwords\", \"reference\", \"attribute\", \"unresolved\", \"disabled\", \"sqlalchemy\", \"int\", \"virtualenv\", \"duplicate\", \"disappear\", \"options\", \"dir\", \"detection\", \"baseformset\", \"is_valid\", \"autodetected\", \"isinstance\", \"arm\", \"tox\", \"moduletype\", \"independent\", \"mixins\", \"evaluation\", \"noheader\", \"nosummary\", \"sysorig_argv\", \"hello\", \"rc\", \"conditional\", \"reading\", \"similar\", \"file\", \"debugging\", \"script\", \"object\", \"stop\", \"poetry\", \"produces\", \"copy\", \"bad\", \"started\", \"iterator\", \"launched\", \"although\", \"higher\", \"old\", \"predefined\", \"children\", \"pdf\", \"tracebacks\", \"npe\", \"subprocess\", \"locate\", \"ones\", \"logic\", \"simple\", \"clash\", \"escape\", \"analyze\", \"priority\", \"rich\", \"debug\", \"add\", \"imported\", \"suggests\", \"compatibility\", \"hide\", \"stops\", \"js\", \"requirements\", \"unhandled\", \"policy\", \"nontoplevel\", \"underscore\", \"quickfix\", \"entrypoint\", \"finishes\", \"overrides\", \"anything\", \"claims\", \"contents\", \"containers\", \"selected\", \"signal\", \"inputs\", \"outputs\", \"tutorial\", \"repl\", \"incompatibility\", \"hides\", \"traitletspy\", \"inspection\", \"template\", \"automatically\", \"optional\", \"assignment\", \"left\", \"tags\", \"hangs\", \"form\", \"unbound\", \"range\", \"erronious\", \"referenced\", \"generates\", \"paths\", \"marks\", \"sql\", \"chosen\", \"indication\", \"backslashes\", \"try\", \"possibly\", \"relative\", \"potential\", \"admin\", \"autoindentation\", \"conflicts\", \"shadowed\", \"equality\", \"meaningful\", \"arguments\", \"package\", \"folder\", \"dunder\", \"make\", \"dependency\", \"bar\", \"html\", \"pattern\", \"templates\", \"formatter\", \"parsing\", \"url\", \"comprehension\", \"patterns\", \"lack\", \"tokenizers\", \"private\", \"aware\", \"contributors\", \"dumb\", \"needs\", \"formatteroff\", \"turn\", \"ssl\", \"unrecognized\", \"pyassert\", \"extend\", \"redraw\", \"corresponding\", \"instead\", \"invalid\", \"parameters\", \"changing\", \"lines\", \"feature\", \"shown\", \"wrongly\", \"completely\", \"chained\", \"tuples\", \"typeddict\", \"unpack\", \"thats\", \"parametersinfo\", \"parametertypes\", \"generators\", \"diagram\", \"anystr\", \"confusion\", \"emailmessage\", \"iterating\", \"subscription\", \"cached\", \"provides\", \"pyenv\", \"despite\", \"way\", \"total\", \"calculated\", \"type\", \"created\", \"bug\", \"subclasses\", \"venv\", \"marked\", \"ignores\", \"mainpy\", \"given\", \"stub\", \"comments\", \"termios\", \"present\", \"attached\", \"inconsistently\", \"typechecker\", \"tag\", \"temporary\", \"actual\", \"regression\", \"deletion\", \"adjacent\", \"fill\", \"paragraph\", \"text\", \"orm\", \"carets\", \"nonascii\", \"interface\", \"find\", \"extra\", \"support\", \"cell\", \"mode\", \"ability\", \"plots\", \"scientific\", \"place\", \"numbers\", \"requires\", \"positives\", \"mypy\", \"processing\", \"toolwindow\", \"fstring\", \"pip\", \"last\", \"absolute\", \"outofthebox\", \"universal\", \"switch\", \"inserted\", \"polars\", \"feedback\", \"narrowing\", \"icon\", \"atpublic\", \"autoall\", \"manage\", \"bottom\", \"interpretation\", \"packages\", \"ui\", \"correctly\", \"host\", \"multiline\", \"indexing\", \"space\", \"coverage\", \"highlight\", \"installing\", \"interpretter\", \"stopping\", \"connect\", \"notation\", \"proxy\", \"bundled\", \"status\", \"speedup\", \"connecting\", \"manual\", \"native\", \"db\", \"makemigrations\", \"postgresql\", \"background\", \"ascii\", \"oserror\", \"winerror\", \"alt\", \"meta\", \"remote\", \"vpn\", \"property\", \"one\", \"sdk\", \"memory\", \"requirementstxt\", \"specific\", \"help\", \"leak\", \"please\", \"widget\", \"dependencies\", \"handling\", \"tabs\", \"notebooks\", \"close\", \"appear\", \"lists\", \"two\", \"intermediary\", \"still\", \"repository\", \"uninstall\", \"antivirus\", \"excessive\", \"typeinference\", \"unsupported\", \"removed\", \"constantly\", \"freezing\", \"flathub\", \"separate\", \"inside\", \"argument\", \"execution\", \"self\", \"incorrectly\", \"considered\", \"specified\", \"top\", \"bound\", \"decorated\", \"long\", \"end\", \"client\", \"order\", \"parser\", \"xml\", \"printed\", \"subprocesses\", \"quotation\", \"pin\", \"recognised\", \"returntype\", \"flagged\", \"dynamic\", \"fragments\", \"modifer\", \"popular\", \"commented\", \"prefixes\", \"spellchecker\", \"default\", \"suggest\", \"negative\", \"whitespace\", \"recognized\", \"typed\", \"added\", \"structure\", \"unpacking\", \"main\", \"timeout\", \"quotes\", \"jinja\", \"disabling\", \"teamcity\", \"yaml\", \"raw\", \"cases\", \"scope\", \"mangled\", \"opening\", \"assigned\", \"pysparkstubs\", \"beta\", \"monterey\", \"commands\", \"commenting\", \"ip\", \"retrieve\", \"uniform\", \"update\", \"longer\", \"freezes\", \"uses\", \"breakpoint\", \"items\", \"hit\", \"references\", \"navigate\", \"included\", \"multithreaded\", \"upgrading\", \"since\", \"getting\", \"drf\", \"mac\", \"folders\", \"fine\", \"multiprocessing\", \"today\", \"limit\", \"recursion\", \"pypi\", \"permissions\", \"flaskbased\", \"severe\", \"fullyqualified\", \"permanent\", \"drives\", \"mounted\", \"move\", \"search\", \"setting\", \"cls\", \"printing\", \"results\", \"disappears\", \"matching\", \"seems\", \"configurations\", \"mouse\", \"whether\", \"hover\", \"narrowed\", \"tab\", \"checked\", \"resolves\", \"pythonpath\", \"csv\", \"ad\", \"infinitum\", \"brings\", \"ellipses\", \"nothing\", \"treat\", \"ctrlshiftf\", \"exporting\", \"accepting\", \"nonvalid\", \"proposed\", \"show\", \"version\", \"usage\", \"names\", \"remove\", \"highlighted\", \"versions\", \"fold\", \"indentation\", \"adds\", \"impossible\", \"redundant\", \"explorer\", \"copypasting\", \"applied\", \"yes\", \"compound\", \"bivariant\", \"inspects\", \"strictness\", \"typeguard\", \"redefined\", \"complete\", \"continuously\", \"increases\", \"selinum\", \"spaces\", \"much\", \"escaping\", \"updated\", \"following\", \"list\", \"editor\", \"editing\", \"incompatible\", \"plugins\", \"define\", \"select\", \"already\", \"suggestions\", \"page\", \"enums\", \"mount\", \"instances\", \"ligatures\", \"load\", \"containing\", \"datalore\", \"ctrl\", \"append\", \"rewritten\", \"listed\", \"description\", \"parent\", \"exports\", \"spellcheck\", \"insists\", \"made\", \"title\", \"gear\", \"popularity\", \"option\", \"first\", \"reported\", \"finished\", \"creation\", \"see\", \"start\", \"parsed\", \"exit\", \"virtual\", \"step\", \"integrate\", \"panels\", \"trying\", \"difference\", \"xc\", \"comprehensions\", \"extern\", \"volume\", \"steps\", \"distinguish\", \"image\", \"failing\", \"uncorrectly\", \"trailing\", \"fastapifastapi\", \"uvicornrun\", \"apscheduler\", \"ctrlc\", \"related\", \"process\", \"plugin\", \"data\", \"fastapi\", \"expression\", \"reload\", \"checks\", \"input\", \"sets\", \"never\", \"keyboard\", \"cursor\", \"endpoints\", \"account\", \"pyqt\", \"indent\", \"loop\", \"erroneous\", \"odoo\", \"torchutilsdata\", \"include_routers\", \"dev\", \"pydev_monkey\", \"pythonid\", \"taking\", \"loads\", \"parts\", \"sysversion_info\", \"postfix\", \"registry\", \"vuejs\", \"tests\", \"style\", \"intention\", \"deprecated\", \"contains\", \"awaited\", \"callable\", \"selector\", \"coroutine\", \"messages\", \"blocktrans\", \"blocktranslate\", \"ipywidgets\", \"currentthread\", \"points\", \"pane\", \"noncoroutine\", \"pylab\", \"iter\", \"yet\", \"replace\", \"paramspec\", \"mark\", \"preferences\", \"convert\", \"literals\", \"invert\", \"attributeerror\", \"sysmodulates\", \"tries\", \"running\", \"set\", \"starting\", \"becomes\", \"initializing\", \"gherkin\", \"process\", \"matplotlib\", \"hash\", \"newly\", \"element\", \"truncates\", \"watch\", \"dummy\", \"attaching\", \"line_profiler\", \"cucumber\", \"translations\", \"killing\", \"unresponsive\", \"sends\", \"sigint\", \"rider\", \"appending\", \"syspath\", \"lacks\", \"substituted\", \"additive\", \"stacked\", \"directive\", \"dotted\"], \"Freq\": [269.0, 235.0, 127.0, 229.0, 107.0, 125.0, 103.0, 99.0, 86.0, 92.0, 76.0, 71.0, 75.0, 70.0, 64.0, 71.0, 68.0, 59.0, 62.0, 65.0, 51.0, 58.0, 52.0, 58.0, 51.0, 65.0, 50.0, 45.0, 49.0, 44.0, 124.78986764191065, 64.24043533723537, 48.136548262696074, 41.055117011586105, 21.27229389057006, 20.885630534136062, 17.761153423918188, 12.594270318646329, 11.063865717672405, 10.404346589950604, 9.335242632599513, 8.54585226040574, 8.439591282242985, 6.89803548327727, 6.830113789517423, 6.035595115556392, 5.809643087827343, 5.37924610934031, 5.362163482387695, 5.3599671526041766, 5.161768188957829, 4.97180518313607, 4.834606518477232, 4.5482752210176445, 4.293153223209187, 4.019503527226911, 3.6632435546143864, 3.0760596949901364, 2.9585697158887125, 2.9508426841503272, 26.568812879428005, 20.19203873522718, 91.27072340857956, 16.50910826782286, 16.156462668337834, 10.915206735051857, 248.93727279923553, 6.649125535581559, 6.621043443926072, 6.313612756507452, 5.443319081621221, 5.301689945972435, 4.624553662061768, 4.2358352123847025, 3.74922328277125, 3.367386149365232, 3.0223766039460718, 2.723038231511616, 2.626844955127457, 2.626844955127457, 2.626844955127457, 2.626844955127457, 2.626844955127457, 2.626844955127457, 2.6138326018044347, 2.4042282679873166, 2.393388727245901, 2.3374462342291067, 2.0544188180758653, 1.7834020618940707, 1.5342807519682524, 1.481515118021841, 234.57037942976854, 40.62370077951425, 36.266930939893506, 7.358801396332558, 7.206239577044756, 6.937497094033313, 6.481785771516947, 5.718600869734749, 4.698227921114267, 4.337613025480362, 4.190424843848995, 4.051881447614956, 3.9906567392737613, 3.9190630859707927, 3.38244293515536, 3.2958854537555426, 2.6898033875609153, 2.6898033875609153, 2.6898033875609153, 2.68980317714359, 2.677837375099246, 2.3874917661221513, 2.215984181271357, 1.9444256831938924, 1.82614526497994, 1.5054024535474841, 1.2415085117569038, 0.6987732652346075, 0.6019757194848325, 0.5778472699882191, 99.10700665176482, 57.54310970190365, 40.75162724565672, 20.829002530381363, 20.66651235984805, 13.052503956648472, 8.190083527546198, 5.998809647972353, 5.887716641510631, 5.393800882476225, 4.877439418401253, 4.363363097631384, 4.003923716114327, 4.003923716114327, 3.5890413978027516, 3.024275431340031, 2.858917881102317, 2.805297565105079, 2.805297565105079, 2.805297565105079, 2.805297565105079, 2.805297565105079, 2.530111706787788, 2.3401571279187445, 2.311133654949904, 2.311133654949904, 2.3111334693469714, 2.309605400403589, 1.7890194279816805, 1.570041004937931, 57.95157237764875, 48.690104284602555, 26.951839466579464, 25.916462308614246, 21.191760607900186, 21.16851101529114, 19.43695754934702, 14.686556611625464, 9.729325941056583, 9.316281823685047, 7.965598128900667, 6.263575508018938, 6.263557150372067, 4.3361771579621005, 4.0869056470080904, 3.9817255092613237, 3.739116722662635, 2.9444261220922563, 2.7424187595014473, 2.565022759764566, 2.5276016145005995, 2.4571881062802685, 2.309162322195656, 2.0906174734212053, 2.0429709352736842, 2.0249163731526325, 1.720811305301148, 1.4788504518487673, 1.2952995920572483, 1.2869576019544127, 9.707372398316622, 71.00066492744084, 26.732339969106867, 21.602621971385588, 14.785489676152553, 14.642527159653117, 12.637163262345371, 9.588234203737033, 8.88429784815811, 7.517308349646982, 7.1613017461994355, 6.960577087581018, 6.302588928898805, 6.271873396547741, 5.915747493285027, 5.6733241044384, 5.398306845725322, 5.381668328950493, 4.991023441174763, 4.913066995084834, 4.351191699043327, 4.350449791986091, 4.262595449984955, 4.054811070693352, 3.9502699843325333, 3.7440702256861518, 3.731580369049077, 3.4480261025898984, 3.4362233983836465, 3.2179812480604197, 3.037115113386068, 74.40071789034064, 20.44325159814751, 14.690212926219184, 13.813212152447013, 10.522303138251074, 8.736594639654967, 8.4169157278203, 6.8983970299507815, 6.409727147493157, 5.163219926828692, 5.128227296864353, 4.958301833563925, 4.8303474539028795, 4.024199635785159, 3.7090489590938867, 3.661756384969315, 3.3402580039279774, 2.6963385466393985, 2.663289342413984, 2.565562411173086, 2.5655622450115145, 2.311570990223211, 2.2397632701795795, 2.1515314757739294, 2.1304598622602606, 2.1136286920483474, 2.1136285258867757, 1.8546133759876344, 1.741796481641371, 1.4358684368082737, 72.08754144701471, 126.8916038703275, 48.37413774574719, 16.98669060519195, 11.286836812684356, 7.741505801512825, 6.165064622410275, 5.652366140254248, 5.140403450198172, 4.913045342552098, 4.437595840084425, 3.647352813001685, 3.600967527907063, 3.0912495321523212, 2.9915219617936066, 2.7215858308232392, 2.4894652196433213, 2.4843924483007234, 2.319504840253893, 2.3150801802201615, 2.2836227562126212, 2.2537166712488523, 2.209971387072998, 2.1058204776717546, 1.914643163202682, 1.7789801737828828, 1.7135793854480594, 1.6888591816986271, 1.6888591816986271, 1.6888591816986271, 1.5046520773110537, 102.4413038123736, 43.538507153031496, 15.051078381863388, 11.57720307760168, 10.873676226532242, 10.521466722882538, 9.195617605593156, 8.044358214530753, 7.722345575276564, 6.00773347680344, 4.827437680441706, 4.504586676730239, 4.430294006672697, 4.201502509489007, 3.2066722173958992, 3.1040411230895333, 2.8739061435830675, 2.862741070763905, 2.8383104220017876, 2.6527484861406574, 2.6264305333538203, 2.6084406293747073, 2.5179130119220403, 2.1656241326077583, 2.1265539217088114, 1.9938822543464811, 1.6598792977604102, 1.4106648028792597, 1.3039104379968158, 1.2199204889175783, 67.44949458377232, 61.29284141696509, 42.14038949553875, 33.768226309875736, 19.942066359568425, 13.979893119636126, 6.401448439221764, 5.259859316398361, 4.609140460573884, 4.499269153668895, 3.488283593760917, 3.1796794439675433, 3.1488585748630453, 3.073757048105156, 2.8842064798396274, 2.532556929105357, 2.4921764597061875, 1.8401458728897195, 1.6343958447222706, 1.5397361392428455, 1.5169434926960073, 0.8649407362101184, 0.704130384770592, 0.704130384770592, 0.6564043243075806, 0.48493621768773293, 0.33166891074812443, 0.27583121557518, 0.27583121557518, 0.27583121557518, 70.05142962025596, 32.26176510097374, 30.983876289221598, 29.281625049963544, 19.341503445134315, 17.857782549195363, 17.08693621664701, 8.697053800541413, 7.6335925791455645, 5.090796879497843, 5.070644593447176, 4.254369742827314, 3.727000748529101, 3.6279822287455366, 2.963855525724528, 2.660681178764119, 2.5678722813052555, 2.501251063178001, 2.3515988551366194, 1.9798275574940223, 1.7435498779586958, 1.5373260884395188, 1.4357561362179971, 1.3225559303014605, 0.8260374898720627, 1.4250960778831991, 0.9962054778320947, 0.6679462562836883, 0.655115232759959, 0.646649390821, 76.02466426519344, 35.110568223104494, 30.212352011778734, 24.96168734343872, 23.599781011925373, 13.062998952276219, 10.038537989337442, 9.183114483184147, 7.593597199992838, 6.848884216703577, 5.252394129039513, 4.375972209696891, 3.579559221690596, 3.4503540952657428, 3.046943952032226, 2.6140853434558067, 2.546651185293384, 2.417445753525893, 1.7927238772285767, 1.6412380512076996, 1.6412380512076996, 1.6412380512076996, 1.6412380512076996, 1.5053950811835624, 1.4595408612638192, 1.4573168981626927, 1.3972347800289544, 1.3733009553928401, 1.115798944218743, 1.115798944218743, 33.59476326048803, 23.635674584307427, 15.350304299651997, 15.155758235089587, 15.106269789968112, 14.270245508912888, 10.982395142313667, 9.90880845968817, 9.51596286029598, 7.913734192501766, 6.210782848471698, 5.577840328408506, 5.55489536527171, 5.3911609347351055, 5.0676418157272884, 27.560874775462192, 4.482719652042498, 4.139539020859475, 4.059409388273632, 3.927977467479361, 2.9345823980075036, 2.9078295796933578, 2.377094383143138, 2.054077640943407, 1.9025477614757054, 1.5765706875979635, 1.195741950569992, 1.0672460553487135, 1.0672459034355573, 0.870017128488388, 27.807343541563608, 36.97847081116395, 31.298718739336852, 21.341470927455866, 18.77522833063722, 17.562549338484295, 15.403991022965176, 14.043250630888496, 13.647466869003333, 11.565712981532473, 9.509085700743508, 6.626796324755377, 6.351545632489272, 5.209325855886549, 4.912602474157495, 4.900668740058882, 4.8877889913625525, 3.9163763324082574, 3.9163763324082574, 3.9163763324082574, 3.790683512567118, 3.6672006770351677, 3.3617668953379267, 3.1813737178638655, 3.161180699599487, 2.563890091318867, 2.553912400170783, 2.2605994116348063, 1.8876774678933448, 1.854650295635559, 1.708721429416357, 34.396678411695575, 23.036172399988754, 21.879994375873395, 18.426730374773722, 17.944829315851983, 16.675251875363738, 16.539566827628203, 14.369734394247285, 10.856283922822033, 9.930205650939497, 5.727714232439278, 5.008953947918218, 4.859493313596803, 4.747159726957757, 4.705360617126071, 4.5878967223935, 4.030464452977064, 3.141039772496582, 2.7307470401114435, 2.404187484553693, 2.04967229915949, 1.8849465715198526, 1.5538757685481828, 1.5538757685481828, 1.5538757685481828, 1.5538757685481828, 1.281484644696899, 1.281484644696899, 0.8729822380095912, 0.8523281917461132, 22.42066242874724, 13.424340251234462, 12.897714103266459, 11.844213595114285, 9.73974412375803, 8.509906408564134, 7.856631624722167, 7.229679416919668, 6.7860423644572485, 6.555410931696866, 6.446197007440482, 5.750634989265988, 5.558947613908847, 5.48756793092987, 4.9502318651478365, 4.563590268252165, 4.416156330413376, 4.231150366636163, 4.2056781370939005, 4.193740886750804, 4.06046328236471, 4.028929348069837, 3.8376862286482734, 3.734240767278495, 3.645457399208959, 3.591111828706644, 3.3833024658530557, 3.3048275927435253, 3.2538180603235682, 3.203785726219259, 48.45832277049934, 35.62887794994699, 21.101551630387814, 17.51135167699287, 14.565319322194833, 11.273520271652968, 9.43542901514722, 9.275491765778057, 7.506387402471014, 7.342814795023235, 6.698904104498358, 5.638490999532128, 5.542119447604372, 4.76268920478546, 3.724463813057244, 2.6944113093705697, 2.609497476447739, 2.609497476447739, 2.609497476447739, 2.428564523751053, 2.404417886463789, 1.6525067436743341, 1.4976315902732271, 1.4604576181913667, 1.4604576181913667, 1.2479153113671138, 1.2044424649979675, 1.2044424649979675, 1.1616928529523667, 0.6779109362200559, 7.195258119820294, 39.46569582364906, 36.67121161215894, 18.733441011804413, 16.23250236406425, 11.54417759376694, 10.947806253127979, 10.926144090311748, 10.845454381386851, 9.889168574787345, 9.84323266089242, 9.621921476611705, 8.892895472001856, 6.3815561169492625, 6.145116087721561, 4.671910780481256, 2.899579989792064, 2.8210242190916124, 2.246344520807633, 2.2256936284359385, 2.127823597537865, 2.0568110566471045, 1.7324695636827547, 1.7324695636827547, 1.5504853067499125, 1.499254623164524, 1.2905038959983937, 1.0951603815460942, 0.6650067710731798, 0.6071848973443169, 0.6071848973443169, 49.68659380806921, 41.13790743488552, 24.601131165875998, 12.815916695466457, 9.356626523644598, 8.877317868099603, 6.859787808069751, 6.262205395773753, 5.614410766907334, 4.89580785102395, 3.914102248483432, 3.8205705347955856, 3.755641661247535, 3.748421123183173, 3.5878185211671463, 3.1107760783477243, 2.5884792090462203, 2.259287224260633, 2.0918851845102937, 1.858894636201225, 1.8535738469676164, 1.5348198199833243, 1.5348198199833243, 1.5348198199833243, 1.4797263043338844, 1.3171891727319958, 1.3066636633747382, 1.2657690911642443, 1.1833065859939722, 1.059399279732582, 13.792782042884177, 50.64266509358043, 25.059864145010884, 11.809113540751914, 11.234566908568139, 10.459043384911187, 10.329110507215228, 10.26508855990643, 6.283850622774591, 5.820369063402469, 4.7210574780178405, 3.9995700406795125, 3.917662276497022, 3.642542536985094, 3.603220538040459, 3.545045942570562, 3.3982268042883517, 3.3970707067880053, 2.8599460775208527, 2.8213595862851024, 2.754138377102472, 2.4460702521503115, 1.8698230369911468, 1.5414086186639349, 1.5414084875573912, 1.5196740381000462, 1.3529049415237036, 1.2712028835079228, 1.1293621228944741, 1.0488888609573952, 1.0488888609573952, 31.104146403027894, 36.18659416024071, 29.798454358530293, 18.100957241526363, 17.5745135850942, 16.054762111274425, 14.316312197139156, 12.366224838835056, 7.223464071621368, 6.3540232694299235, 5.660368296396618, 5.366606203541797, 5.366605683433065, 5.117985907870003, 4.221830760872965, 4.177971031714503, 4.051687591349112, 3.979851733601043, 3.841587848646659, 3.7314485833248905, 3.433386491527635, 2.740840650365481, 2.474829739073645, 2.452350899727709, 2.1485760636445193, 1.6225613668891363, 1.5290189012350797, 1.5063849394598017, 1.5063849394598017, 1.0320779575347587, 1.0250560995701905, 106.71365811170777, 21.680410965951218, 14.273910841811526, 9.812880581328235, 8.750417554388331, 8.550088975655497, 6.610554349905431, 3.6772881185925934, 3.630712036372645, 3.630712036372645, 3.630712036372645, 3.1329048208927364, 2.5438111592008936, 2.452848712403374, 2.452848712403374, 2.393867081404799, 2.0957092122853473, 2.0957092122853473, 1.4236951580610457, 1.4236951580610457, 1.4236951580610457, 1.3307241740936888, 1.1324509180461324, 0.9832698588709832, 0.9058540219897744, 0.8502264329292161, 0.8117612224499494, 0.7828856170387517, 0.772707305034692, 0.6658086230397902, 6.762495560091976, 51.6565308408871, 22.793566534211323, 14.128200100981857, 13.047640391796499, 9.053761923591264, 8.961129857492503, 6.5837445212487085, 5.648304378424579, 4.7285471142373385, 4.011854419684973, 4.009206694573585, 51.75720031109795, 3.045982523517638, 2.72989571217552, 2.4522837534346063, 2.4522837534346063, 2.3667439560957884, 2.220177822671355, 2.0203046057127803, 2.0203046057127803, 2.0203046057127803, 1.4525428244922123, 1.3724698494942515, 1.3724698494942515, 1.1175061917183564, 1.0561032641089054, 0.9835085981595416, 0.9339303466977218, 0.7948432989326925, 0.7449048942091189, 70.41013511986553, 12.746472707622177, 10.103001002366753, 8.175232670141606, 6.801246764050495, 5.394032454405719, 5.158335916329519, 5.115447345543791, 4.639140149104122, 4.457660426345245, 4.2458024594246195, 3.9410103121397855, 3.8232182362975116, 3.52232189746747, 2.678688132953323, 2.678688132953323, 2.5181796096278526, 2.272206551023024, 2.2068270332915394, 2.2068270332915394, 2.2068270332915394, 2.206826780169036, 2.2000562594394673, 2.1162313251779707, 2.0209594319306334, 1.8185991275946822, 1.7082766968372587, 1.4991816886060156, 1.4925002669977574, 1.2763230176736113, 31.036135873663618, 22.33097313577093, 20.841984195133193, 20.16605798148305, 11.165727379139248, 9.781725150633575, 9.665830987686967, 8.8558668320603, 8.854416968453494, 8.062140948986514, 6.741794327650691, 6.273230085103828, 4.4589955697262305, 4.437192159090575, 4.281467714846416, 4.195449635229738, 3.897727987423927, 3.6203906125642, 3.188779656283941, 2.664955226294582, 2.0897515669942504, 1.7221197143295388, 1.7221197143295388, 1.4196477897582132, 1.4196477897582132, 1.4196477897582132, 1.4196477897582132, 1.4025443203407304, 1.2326975700635883, 1.2086123229158068, 1.1707864705605422, 12.95924463256527, 25.824648816633164, 27.563293897453192, 17.72477247116351, 15.492253119027074, 13.244945727409924, 11.360242922746853, 9.701254485332914, 9.661848058115456, 9.577652341489246, 9.20992493877229, 8.864157122096197, 6.502767955593656, 5.326039574760614, 17.808036766741928, 4.525469341404643, 4.125580968564692, 3.9133336444906934, 3.8425765439110346, 3.8425765439110346, 3.654170681790018, 3.3407042405328715, 3.1398186217719912, 2.7041167635749077, 2.5107010526280757, 2.4547769805500153, 1.8278078843458334, 1.5866387996526385, 1.5866387996526385, 1.242638532393281, 1.242638532393281, 1.1616828904443475, 38.98987653388802, 26.547798447868473, 26.487274877972826, 18.460587825717273, 11.078455566283342, 4.17356952997489, 4.164026699354739, 38.389942674297785, 3.6328371421122485, 3.2381735503433746, 2.904880670194971, 2.545300463667128, 2.5453002235475917, 2.4565162650409667, 2.45490818450493, 2.3058330918140033, 2.1497443475810303, 2.1285523577664245, 2.035017394110328, 1.8204301280929005, 1.728040174446672, 1.4182237813832712, 0.9693548850830502, 0.6612334357980196, 3.49904061541019, 0.57387782835435, 0.5722701680275026, 0.5492450456412625, 0.549043105111054, 0.5468038703732899, 37.88166615404741, 17.602547706603925, 16.021090263375086, 12.441201601034697, 10.538729353741472, 9.77931521000901, 7.618326195665763, 6.420961176394124, 4.9730880852896195, 4.848208877972448, 4.381623757830184, 4.143600471280677, 4.097644774766762, 4.059231256759643, 3.9387433398826057, 3.7215185274466998, 3.6476181474346747, 3.5287397607151716, 3.524820450266629, 3.332385870252673, 2.8533945885699876, 2.8440476269851294, 2.8440476269851294, 2.4192022129839796, 2.3430580871236555, 2.3430576120557225, 2.3430576120557225, 1.9308645635513526, 1.9308645635513526, 1.9308645635513526, 85.78401626529288, 23.39112852849218, 8.788597746261702, 7.6588618147643, 7.458567793536324, 6.274788250785565, 4.817142534845716, 4.107906484492698, 4.013410194048036, 3.8828944235841676, 3.352146998225134, 2.8001705276250295, 2.7205000065098335, 2.599367782459331, 2.411105994972723, 2.1750971664794116, 2.0065368483988006, 1.8347677552510253, 1.5225824311605023, 1.3363811628245894, 1.2745004182868622, 1.2556769305801903, 1.0677601814772852, 1.0677600644754597, 1.0539339587439458, 1.0360780761350112, 0.8554012829985981, 0.7968007431425655, 0.7067477140270049, 0.5645174867801072, 14.872124516755848, 58.70102201658945, 20.872897954063976, 15.449717086996273, 8.85230597989866, 8.254561870125395, 7.882857316331971, 5.890699745412512, 5.8488058214707594, 5.740556373879738, 6.127193953961342, 5.526407079110523, 5.271149075100243, 4.607220524572827, 4.186873105564791, 3.2724864025233837, 2.5541553509454777, 2.4670581183095557, 2.3167587731047394, 2.3167587731047394, 2.0594914748751783, 1.8806921833094945, 1.733751850843655, 1.5738624493040687, 1.4021983139979788, 1.2979678035198974, 1.2979678035198974, 1.2979675710703116, 1.0709727635178055, 1.0709727635178055, 1.0709727635178055, 40.10625193636608, 32.68065077194168, 31.571996622925404, 14.777546647967185, 12.686620791933581, 8.102146257757616, 6.643747895026648, 6.346952408784883, 6.0256533228510225, 5.827637972868021, 3.9512421351666034, 3.554744284251346, 2.3936331700437132, 2.3936331700437132, 2.3435182285228944, 1.8058056607874895, 1.6796435598674928, 1.5338414996676784, 1.5279658923506663, 1.3410366705731902, 1.3410366705731902, 0.98148495702153, 0.9618801153267392, 0.9618801153267392, 0.9135506563107741, 0.8919367985244525, 0.7434973786662984, 0.6719897330764368, 0.6550762914890108, 0.5167025582747657, 64.16701754970025, 25.577256729388875, 23.005096098662953, 18.908903402071566, 17.630530037272692, 6.172900669454411, 5.34267798476406, 5.213719561330055, 4.744437668736457, 3.777492511209357, 3.570225119539257, 3.230444785674206, 2.8478614447445696, 2.2058005553569653, 2.2058005553569653, 2.2058005553569653, 1.084582575651865, 1.084582575651865, 1.0121817124530623, 0.9620355858390034, 0.9230594775644839, 0.6118027408905038, 0.512118207314067, 0.5064633913324027, 0.3484867752283708, 0.34231371765316465, 0.2922671948567425, 0.2898177475219998, 0.2898177475219998, 0.28981771850836224, 42.65679449975377, 31.32812570802604, 16.83392705057631, 13.387705257551092, 12.020134546955962, 9.318460790268038, 6.437777474386394, 6.110040732994751, 5.778241181379679, 4.96726993497344, 3.5791697142134304, 3.5791694835292254, 3.5622981634917092, 3.2454248026952137, 2.873568092253922, 2.844584236649656, 2.575639441132018, 2.5542063409350475, 2.507698790360728, 2.2617054584792275, 2.227297294471957, 2.1850334105380083, 1.7025119504019393, 1.7025119504019393, 1.7025119504019393, 1.5615973501843081, 1.4034838583576605, 1.4034838583576605, 1.2240552613050446, 1.1574560391874704, 50.97750678427516, 16.775458560448747, 10.289032542686016, 8.398207131359513, 8.217711162073106, 6.554177141819143, 6.453561323017397, 6.446205376213974, 5.279034350853473, 4.4798157942043675, 4.426445592180856, 3.803811878284034, 3.5491294822934143, 3.3513767287929817, 3.2023440036860116, 3.041594700732513, 3.0371539736478677, 2.8352330037328546, 2.7518145875970976, 2.6650919795868115, 2.665091749425773, 2.572128785167639, 2.446201466434326, 2.1956253735388214, 2.1956253735388214, 2.1956253735388214, 2.1956253735388214, 2.1956253735388214, 1.8093681974032614, 1.8093681974032614, 29.75179072304533, 23.286893137948677, 11.958276054677102, 9.269786780368173, 9.076942340240892, 8.972444994913378, 8.255827259667658, 7.04889927581893, 6.746298550839261, 6.425673146817705, 6.408644740614283, 6.038108475158669, 5.602848547461462, 3.583867568057848, 3.5308038869708334, 2.975057865923638, 2.975057865923638, 2.5542488916487236, 2.450989959343392, 2.450989959343392, 2.450989959343392, 2.420081650770093, 2.01980870813671, 2.01980870813671, 2.01980870813671, 2.01980870813671, 2.01980870813671, 2.01980870813671, 2.0198084809883197, 1.9597861089741935, 43.184062322999786, 26.356055685408922, 18.05311844560234, 7.73377904646503, 7.577408992199198, 7.567370464989042, 7.5349174504945475, 5.903051175304742, 4.7768164450554575, 3.9623807673206324, 3.9251987674316906, 3.836500659650285, 3.783517953525683, 3.783517506255713, 3.783517506255713, 3.783517506255713, 3.783517506255713, 2.196643682808678, 2.183911024933295, 2.183911024933295, 1.7997146186997224, 1.3940907381884493, 1.3840555655030704, 1.2235395422488873, 1.2235395422488873, 1.2235395422488873, 1.0742619597172922, 1.0149231000468202, 1.0095611158271114, 1.0095611158271114, 5.432888138997499, 23.5469772418494, 16.783391827049325, 12.097629919699365, 10.833098612957674, 10.17034242007238, 7.6670482913903815, 6.837079164711259, 5.452173283458867, 4.792994793479359, 4.4990688943567045, 4.257601373733054, 4.177189758373853, 3.9765331761883482, 3.9115669926245595, 3.8482105099601474, 3.7829408763229946, 3.498666768564432, 3.2690559181542658, 2.812004593113759, 2.7405887684498476, 2.7283967991757074, 2.5557786056567, 2.5557786056567, 2.4915980304461107, 2.308342053998101, 2.257823588468103, 2.257823588468103, 2.0043989848515897, 17.709024252877036, 1.8606242516222908, 36.7445241680812, 22.965962906933584, 15.175782764183381, 8.200210414717406, 8.090414730538823, 7.595800692138927, 7.51162429485248, 6.287986576562988, 5.889518710688249, 4.817202317828129, 4.250576965315331, 4.171240942332597, 3.6267367484750443, 3.5014907958488375, 3.359071852979601, 3.232852005933419, 3.0181993271609326, 2.541026331429302, 2.529722278496685, 2.311410551857028, 2.124977885727438, 2.0934151535316907, 2.0934147126559917, 1.9524339063181975, 1.918714630638835, 1.7251390066464907, 1.7251390066464907, 1.7251390066464907, 1.4689765581483936, 1.4221364909981118, 40.379088905732786, 21.002390822855702, 19.10639595147982, 10.072606432822411, 9.942863573034087, 9.635025875745443, 7.335796043988159, 6.725621318196423, 4.8956052504894005, 4.732850091220654, 4.237754136578821, 4.095272771143528, 2.8792407252299066, 2.745538317267651, 2.5022303297658532, 2.2894398886955285, 2.010725598306721, 1.86398505264424, 1.6172543032123914, 1.3613176097279736, 0.863273910273998, 0.863273910273998, 0.863273910273998, 0.863273910273998, 0.8185610772466717, 0.7638623082115464, 0.7132524590502026, 0.7132524590502026, 0.6400907183520967, 0.4882662410611063, 16.197409221451935, 1.1621544300783055, 13.443022272402075, 12.558019807779083, 10.554554891134135, 10.325458969766446, 9.960530958258392, 9.931671121707183, 8.59058053553039, 6.624706155100323, 6.574967870069025, 5.600722865500909, 5.455248577300465, 5.228824672828176, 5.183181711577944, 4.815110956303105, 4.8054627671737515, 4.460184179077946, 4.07100474708956, 3.7269962656794613, 3.1996940154211364, 2.7246103528727983, 2.6407694037768383, 2.380298466597414, 2.3283845675532704, 2.3283845675532704, 2.3283845675532704, 2.0698262792389945, 1.6791055376969564, 1.5817603975113255, 1.5817603975113255, 1.5817603975113255, 3.697547164671978, 23.503787286129864, 23.366104095657505, 17.104225978614753, 16.309339513408894, 9.506462511129504, 7.994017661810693, 6.509689001035541, 6.496350799248567, 6.089593151575785, 5.336100609960276, 5.269195218946216, 3.679889954371943, 3.6263494043381286, 3.566169775358801, 3.1128110874996207, 3.045227665590131, 2.8360746909008983, 2.6027677905339957, 2.540754497084429, 2.5407542856622602, 2.0931906794506348, 1.7249539395160087, 1.5577799992693562, 1.4623576689906224, 1.4433499703243766, 1.4219841744981163, 1.4219841744981163, 1.4219841744981163, 1.4219841744981163, 1.4219841744981163, 20.40132209969729, 18.649611275514705, 17.361921838442186, 12.327090874230786, 9.995029036084622, 8.735669809672888, 7.686585318216453, 6.717384883318676, 5.649307023647598, 5.399668197713379, 5.211007398442615, 4.996335659673221, 4.875733559240977, 4.606912898192272, 4.549148420220169, 4.019126844135514, 3.191090624540973, 2.9377687542125774, 2.609406969904216, 2.581697529930164, 2.4746675536068543, 1.9993525695971692, 1.7538453894251598, 1.4463999834342274, 1.4463999834342274, 1.271298771671521, 1.1159187822760142, 1.042704301855346, 0.730589220981253, 0.6732119150328865, 23.913085429888394, 15.960005085938592, 15.297054472566462, 9.706513804990525, 9.5541239537371, 7.886132014509236, 6.293576068898716, 6.208990304195416, 5.7244935734032385, 4.908364044475725, 4.277345625971067, 3.9014697835076513, 3.7672645699503966, 3.4181108480836753, 3.0421094544011336, 3.0192101173243677, 2.996867424132716, 2.622338495148077, 2.4413727846578146, 2.034615159046616, 2.034615159046616, 2.034615159046616, 1.732128524005873, 1.677256715230539, 1.677256715230539, 1.677256715230539, 1.677256715230539, 1.4532956382073765, 1.383237053525661, 1.383237053525661, 12.624564147027403, 12.033008739270839, 8.661554856868399, 6.767488860005214, 6.523364636289533, 6.109470418531429, 5.7463748343694885, 5.610199241334884, 5.576116639393107, 5.135002744906772, 5.117667058376761, 4.512230589514994, 4.420355766713056, 4.420355766713056, 4.259913459290417, 3.7889369511462703, 3.495581642494232, 3.494042205972553, 3.3388180657102047, 3.097065160237409, 3.097065160237409, 3.0809093916175327, 2.8476841646647126, 2.516294122990357, 1.8618966040964988, 1.7348726998591768, 1.179489595973993, 1.179489595973993, 1.179489595973993, 1.179489595973993, 7.654694477154466, 33.203565530713746, 25.946222404317137, 10.934453723296132, 10.09543258702959, 7.864743468025401, 6.109387141033108, 5.276152616093781, 5.253355965260999, 4.767952961396523, 4.679537472543511, 4.137297998740533, 2.762555567903621, 2.6461930401391482, 2.6461926453372566, 2.6461926453372566, 2.646192447936311, 2.1800555789877416, 2.1800555789877416, 2.1800555789877416, 2.1800555789877416, 2.14565076553311, 2.0885464225110644, 1.79653752011673, 1.79653752011673, 1.79653752011673, 1.4979750050200042, 1.4809948717577375, 1.3842821276474697, 1.3017560960144712, 1.2396886984113769, 44.991078333879436, 22.61185706095424, 8.124208384851032, 7.212758318792564, 6.975607369196411, 6.189953589755171, 6.127846618060501, 5.340785963155257, 5.2974567838800715, 5.000458010049266, 4.64322953459589, 4.422224752630065, 3.8432300904497203, 2.9647319304429387, 2.5295904802916502, 2.1156835670887904, 2.012798357070234, 1.4583635026315813, 1.36840484219408, 1.36840484219408, 1.3647442047204008, 1.1912205884092297, 1.0015151625781917, 0.9321945270257342, 0.9321945270257342, 0.7701957254887586, 0.7701957254887586, 0.6151969323068945, 0.5272477302680785, 0.52724758339216, 27.88036513694364, 16.012009313030724, 10.551703447262037, 8.300102996355248, 8.139128839430123, 7.493625512385282, 6.802417229948009, 5.003298716258053, 4.515812519088373, 4.08885220344222, 3.939761786195456, 3.8822143284443964, 3.8822143284443964, 3.574387462415041, 3.260090422016331, 3.1841649302758244, 2.8048362476257003, 2.720023335419938, 2.4656836072731423, 2.363703132024645, 2.2906831206844345, 2.0992643453719273, 2.0261887025532075, 1.5223156309386767, 1.3989480617119543, 1.2554568749708297, 1.2554568749708297, 1.2554568749708297, 1.2554568749708297, 1.2554568749708297, 2.932945233301336, 27.31562859803946, 11.045167156001394, 8.480241045433845, 7.905618233190031, 6.5887624488475165, 6.458207573256438, 5.708527676087894, 5.614594871229666, 4.708404552292506, 4.562297854397786, 4.395467944719627, 4.354939576708952, 3.5918875113374313, 3.5775196507447475, 3.5128536030130637, 3.5083130128054982, 3.461898996446775, 3.4502977244160578, 3.3014760664536524, 3.3014760664536524, 3.3014760664536524, 3.3014760664536524, 3.3014760664536524, 2.7724155945050075, 2.623884104207829, 2.5488564505844256, 1.9621259800633555, 1.9056684747382016, 1.9056684747382016, 1.8392841297889586, 20.8109471529172, 13.795464335556222, 9.402084278036387, 7.166331766747279, 6.294280190482761, 5.452019331231336, 4.333356207961183, 4.308558115119618, 3.7275450322827886, 3.658397240175633, 3.6583968890521947, 3.6583968890521947, 3.658396537928756, 3.5236592386398455, 3.3534282754502986, 3.1276007781377, 3.003324850574405, 3.0005913546059575, 2.63924636172418, 2.6019038573583084, 2.2502886705181053, 2.1116893645295223, 1.9790180755525373, 1.8940944829168846, 1.8747802359372607, 1.7772688680326512, 1.740198659893309, 1.3920850515431942, 1.183077244741648, 1.183077244741648, 3.7073094374006335, 24.011107664192433, 9.756551707750006, 7.964530883200095, 5.9574702395815455, 5.173505618992295, 20.29060761747507, 3.890020533873385, 3.5702872384141364, 3.2379985979277333, 2.9075018263264054, 2.4606077523718777, 2.4606077523718777, 2.4291299608611374, 2.217006901159425, 2.0271621164992255, 1.6705414757669415, 1.6705414757669415, 1.4853302469016982, 1.3771284042914365, 1.3771284042914365, 1.3771284042914365, 1.0421239204660746, 0.9371003944485772, 0.9371003944485772, 0.833740800091052, 0.773683881282509, 0.773683881282509, 0.773683881282509, 0.554279690527839, 0.5286094340071029], \"Total\": [269.0, 235.0, 127.0, 229.0, 107.0, 125.0, 103.0, 99.0, 86.0, 92.0, 76.0, 71.0, 75.0, 70.0, 64.0, 71.0, 68.0, 59.0, 62.0, 65.0, 51.0, 58.0, 52.0, 58.0, 51.0, 65.0, 50.0, 45.0, 49.0, 44.0, 125.61416000525433, 65.06472782105111, 48.96084062603972, 41.87940937492975, 22.096586253913717, 21.709934706179336, 18.585445787261843, 13.418562681989977, 11.888158081016053, 11.228638953294253, 10.159534995943162, 9.370144623749388, 9.263883645586633, 7.722327846620917, 7.65440615286107, 6.859887478900039, 6.6339354511709905, 6.203538472683958, 6.186455845731342, 6.184259515947824, 5.986060552301477, 5.796097546479717, 5.658898881820879, 5.372567584361292, 5.117445586552835, 4.843795890570559, 4.487535917958033, 3.9003520583337856, 3.7828620792323617, 3.7751350474939764, 53.26274685458288, 269.9374891778916, 92.09464544545133, 17.333030304694606, 16.98038470520958, 11.739128771923594, 269.9374891778916, 7.4730475724532965, 7.444965480797809, 7.1375347933791895, 6.267241118492958, 6.125611982844172, 5.448475698933505, 5.05975724925644, 4.573145319642988, 4.19130818623697, 3.846298640817811, 3.546960268383355, 3.450766991999196, 3.450766991999196, 3.450766991999196, 3.450766991999196, 3.450766991999196, 3.450766991999196, 3.4377546386761737, 3.2281503048590556, 3.21731076411764, 3.1613682711008457, 2.8783408549476044, 2.60732409876581, 2.358202788839992, 2.30543715489358, 235.39391523847286, 41.44723658821866, 37.09046674859791, 8.182337205036966, 8.029775385749165, 7.761032902737722, 7.305321580221356, 6.5421366784391575, 5.521763729818676, 5.161148834184771, 5.013960652553404, 4.8754172563193645, 4.814192547978171, 4.742598894675202, 4.205978743859769, 4.119421262459954, 3.5133391962653264, 3.5133391962653264, 3.5133391962653264, 3.513338985848001, 3.5013731838036573, 3.2110275748265624, 3.0395199899757683, 2.767961491898304, 2.649681073684351, 2.3289382622518953, 2.0650443204613143, 1.5223090739390168, 1.425511528189242, 1.4013830786926287, 99.9298339441378, 58.365936994276595, 41.57445453802966, 21.651829822754323, 21.48933965222101, 13.875331249021421, 9.012910819919147, 6.821636940345301, 6.710543933883579, 6.216628174849173, 5.700266710774201, 5.186190390004333, 4.826751008487276, 4.826751008487276, 4.4118686901757, 3.847102723712982, 3.6817451734752678, 3.62812485747803, 3.62812485747803, 3.62812485747803, 3.62812485747803, 3.62812485747803, 3.352938999160739, 3.1629844202916955, 3.133960947322855, 3.133960947322855, 3.1339607617199223, 3.13243269277654, 2.6118467203546305, 2.3928682973108817, 58.77331209617923, 49.511844003133035, 27.773579185109956, 26.738202027144737, 22.013500326430677, 21.990250733821632, 20.258697267877512, 15.508296330155945, 10.551065659587064, 10.138021542215528, 8.787337847431148, 7.085315226549418, 7.085296868902547, 5.15791687649258, 4.90864536553857, 4.803465227791803, 4.560856441193116, 3.7661658406227385, 3.5641584780319295, 3.386762478295048, 3.3493413330310817, 3.2789278248107507, 3.1309020407261383, 2.9123571919516875, 2.8647106538041665, 2.8466560916831147, 2.54255102383163, 2.3005901703792486, 2.117039310587729, 2.1086973204848936, 53.26274685458288, 71.82238040642198, 27.554055448088008, 22.42433745036673, 15.607205155133682, 15.464242638634246, 13.458878741326501, 10.409949682718162, 9.706013327139239, 8.339023828628113, 7.983017225180565, 7.782292566562147, 7.124304407879935, 7.09358887552887, 6.737462972266156, 6.49503958341953, 6.220022324706451, 6.203383807931623, 5.812738920155892, 5.734782474065963, 5.172907178024457, 5.172165270967221, 5.084310928966085, 4.876526549674481, 4.771985463313663, 4.565785704667283, 4.553295848030208, 4.2697415815710285, 4.257938877364777, 4.039696727041552, 3.8588305923672, 75.2250158746849, 21.267549582491753, 15.514510910563422, 14.637510136791251, 11.346601122595311, 9.560892623999205, 9.241213712164537, 7.722695014295019, 7.234025131837395, 5.9875179111729295, 5.952525281208591, 5.782599817908163, 5.654645438247117, 4.848497620129397, 4.533346943438125, 4.486054369313552, 4.164555988272217, 3.520636530983638, 3.4875873267582236, 3.3898603955173257, 3.389860229355754, 3.1358689745674506, 3.064061254523819, 2.975829460118169, 2.9547578466045, 2.937926676392587, 2.9379265102310153, 2.6789113603318735, 2.5660944659856098, 2.2601664211525128, 229.85045554586756, 127.71312877629481, 49.195662651714485, 17.808215511159254, 12.108361718651654, 8.563030707480122, 6.986589528377573, 6.473891046221546, 5.96192835616547, 5.734570248519396, 5.259120746051723, 4.468877718968982, 4.42249243387436, 3.9127744381196203, 3.8130468677609057, 3.5431107367905383, 3.3109901256106204, 3.3059173542680225, 3.141029746221192, 3.1366050861874606, 3.1051476621799203, 3.0752415772161514, 3.031496293040297, 2.9273453836390537, 2.736168069169981, 2.6005050797501816, 2.5351042914153585, 2.5103840876659262, 2.5103840876659262, 2.5103840876659262, 2.3261769832783528, 103.26259135005431, 44.35979469071217, 15.87236591954407, 12.398490615282363, 11.694963764212924, 11.34275426056322, 10.016905146313146, 8.865645752211435, 8.543633112957245, 6.829021014484122, 5.648725218122388, 5.325874214410921, 5.251581544353379, 5.022790047169689, 4.027959755076583, 3.925328660770217, 3.6951936812637514, 3.684028608444589, 3.6595979596824715, 3.4740360238213412, 3.447718071034504, 3.429728167055391, 3.339200549602724, 2.986911670288442, 2.9478414593894953, 2.8151697920271648, 2.481166835441094, 2.2319523405599426, 2.125197975677498, 2.0412080265982606, 68.27290388830471, 62.11625072149746, 42.96379880007112, 34.591635614408105, 20.76547566410081, 14.803302424168498, 7.224857743754137, 6.083268620930734, 5.432549765106256, 5.322678458201268, 4.311692898293289, 4.003088748499918, 3.9722678793954196, 3.89716635263753, 3.7076157843720017, 3.3559662336377314, 3.3155857642385618, 2.6635551774220936, 2.457805149254645, 2.36314544377522, 2.3403527972283817, 1.6883500407424912, 1.5275396893029642, 1.5275396893029642, 1.4798136288399528, 1.3110924731151103, 1.1550782152804973, 1.0992405201075528, 1.0992405201075528, 1.0992405201075528, 70.87514408520022, 33.08547956591797, 31.807590754165844, 30.10533951490779, 20.16521791007856, 18.68149701413961, 17.910650681591257, 9.52076826548565, 8.4573070440898, 5.914511344442079, 5.894359058391413, 5.078084207771551, 4.550715213473337, 4.4516966936897715, 3.787569990668766, 3.484395643708357, 3.3915867462494935, 3.324965528122239, 3.1753133200808574, 2.8035420224382603, 2.5672643429029343, 2.3610405533837575, 2.2594706011622354, 2.1462703952456974, 1.6497519548162993, 3.051126996246625, 2.218420113951131, 1.4916607212279247, 1.4788296977041953, 1.4703638557652365, 76.84987089783604, 35.935774849905414, 31.03755863857966, 25.786893970239646, 24.4249876387263, 13.88820557907714, 10.863744616138362, 10.008321109985067, 8.41880382679376, 7.674090843504498, 6.077600755840434, 5.201178836497812, 4.4047658484915155, 4.275560722066663, 3.872150578833148, 3.4392919702567286, 3.371857812094306, 3.242652380326815, 2.617930504029499, 2.4664446780086227, 2.4664446780086227, 2.4664446780086227, 2.4664446780086227, 2.330601707984485, 2.2847474880647414, 2.282523524963615, 2.2224414068298763, 2.198507582193762, 1.9410055710196639, 1.9410055710196639, 34.4176087004484, 24.458520024267802, 16.173149739612366, 15.978603675049957, 15.929115229928481, 15.093090948873257, 11.805240582274036, 10.73165389964854, 10.33880830025635, 8.736579632462135, 7.033628288432068, 6.400685768368875, 6.377740805232079, 6.214006374695475, 5.890487255687658, 32.07530526719007, 5.305565092002867, 4.962384460819845, 4.882254828234002, 4.750822907439731, 3.757427837967874, 3.730675019653728, 3.1999398231035086, 2.8769230809037776, 2.7253932014360758, 2.3994161275583346, 2.018587390530361, 1.8900914953090828, 1.8900913433959265, 1.692862568448757, 229.85045554586756, 37.80167439775875, 32.121922325931656, 22.16467451405067, 19.598431917232023, 18.3857529250791, 16.227194609559977, 14.866454217483296, 14.470670455598134, 12.388916568127273, 10.332289287338309, 7.449999911350179, 7.174749219084075, 6.032529442481351, 5.735806060752298, 5.723872326653685, 5.710992577957355, 4.739579919003059, 4.739579919003059, 4.739579919003059, 4.6138870991619205, 4.490404263629968, 4.184970481932729, 4.004577304458668, 3.98438428619429, 3.3870936779136698, 3.377115986765586, 3.083802998229609, 2.7108810544881474, 2.677853882230362, 2.53192501601116, 35.21968289463711, 23.859176882930292, 22.702998858814933, 19.24973485771526, 18.76783379879352, 17.498256358305277, 17.36257131056974, 15.192738877188816, 11.679288405763565, 10.75321013388103, 6.550718715380812, 5.831958430859752, 5.682497796538337, 5.570164209899291, 5.528365100067605, 5.410901205335034, 4.853468935918598, 3.964044255438117, 3.5537515230529784, 3.227191967495228, 2.8726767821010246, 2.7079510544613874, 2.376880251489718, 2.376880251489718, 2.376880251489718, 2.376880251489718, 2.1044891276384328, 2.1044891276384328, 1.6959867209511243, 1.6753326746876465, 23.24251306579896, 14.246190888286174, 13.719564740318171, 12.666064232165997, 10.561594760809742, 9.331757045615847, 8.67848226177388, 8.051530053971382, 7.6078930015089625, 7.37726156874858, 7.268047644492196, 6.572485626317702, 6.380798250960561, 6.309418567981584, 5.7720825021995505, 5.385440905303879, 5.23800696746509, 5.053001003687877, 5.0275287741456145, 5.015591523802518, 4.882313919416424, 4.850779985121551, 4.659536865699987, 4.556091404330209, 4.467308036260672, 4.412962465758356, 4.205153102904768, 4.12667822979524, 4.075668697375282, 4.025636363270973, 49.282351228994294, 36.45290640844194, 21.925580088882775, 18.33538013548783, 15.389347780689787, 12.097548730147922, 10.259457473642174, 10.09952022427301, 8.330415860965967, 8.166843253518188, 7.5229325629933115, 6.4625194580270815, 6.366147906099325, 5.586717663280413, 4.548492271552197, 3.518439767865525, 3.4335259349426943, 3.4335259349426943, 3.4335259349426943, 3.252592982246008, 3.228446344958744, 2.4765352021692895, 2.321660048768182, 2.2844860766863215, 2.2844860766863215, 2.071943769862068, 2.028470923492921, 2.028470923492921, 1.98572131144732, 1.5019393947150095, 229.85045554586756, 40.286742706671724, 37.49225849518161, 19.55448789482709, 17.053549247086927, 12.365224476789612, 11.76885313615065, 11.747190973334419, 11.666501264409522, 10.710215457810015, 10.664279543915091, 10.442968359634376, 9.713942355024527, 7.202602999971933, 6.966162970744232, 5.492957663503927, 3.7206268728147367, 3.642071102114285, 3.067391403830306, 3.0467405114586112, 2.948870480560538, 2.877857939669777, 2.5535164467054274, 2.5535164467054274, 2.3715321897725854, 2.3203015061871968, 2.1115507790210652, 1.9162072645687653, 1.4860536540958507, 1.428231780366988, 1.428231780366988, 50.509807167388935, 41.96112079420524, 25.42434452519573, 13.63913005478618, 10.179839882964322, 9.700531227419326, 7.683001167389476, 7.085418755093477, 6.437624126227059, 5.719021210343675, 4.737315607803156, 4.64378389411531, 4.578855020567259, 4.571634482502897, 4.41103188048687, 3.93398943766745, 3.411692568365946, 3.0825005835803587, 2.915098543830019, 2.682107995520951, 2.676787206287342, 2.35803317930305, 2.35803317930305, 2.35803317930305, 2.3029396636536097, 2.14040253205172, 2.1298770226944623, 2.088982450483969, 2.006519945313696, 1.882612639052306, 229.85045554586756, 51.46580623196048, 25.883005283390933, 12.632254679131954, 12.057708046948179, 11.282184523291226, 11.152251645595268, 11.088229698286469, 7.106991761154633, 6.643510201782512, 5.544198616397883, 4.822711179059555, 4.740803414877064, 4.465683675365135, 4.4263616764205, 4.368187080950603, 4.221367942668394, 4.2202118451680475, 3.6830872159008967, 3.6445007246651464, 3.577279515482516, 3.269211390530355, 2.6929641753711904, 2.364549757043979, 2.364549625937435, 2.34281517648009, 2.176046079903746, 2.0943440218879656, 1.9525032612745161, 1.8720299993374374, 1.8720299993374374, 229.85045554586756, 37.010119200190296, 30.62197939847988, 18.92448228147595, 18.398038625043785, 16.87828715122401, 15.13983723708874, 13.189749878784639, 8.046989111570952, 7.177548309379508, 6.483893336346203, 6.190131243491381, 6.190130723382649, 5.941510947819587, 5.045355800822549, 5.0014960716640875, 4.875212631298696, 4.803376773550627, 4.6651128885962425, 4.554973623274474, 4.256911531477219, 3.564365690315067, 3.298354779023231, 3.2758759396772947, 2.972101103594105, 2.4460864068387225, 2.3525439411846656, 2.329909979409387, 2.329909979409387, 1.8556029974843427, 1.8485811395197744, 107.53808953038208, 22.504842384625523, 15.098342260485826, 10.637312000002535, 9.57484897306263, 9.374520394329796, 7.4349857685797325, 4.5017195372668946, 4.4551434550469455, 4.4551434550469455, 4.4551434550469455, 3.9573362395670393, 3.3682425778751965, 3.277280131077677, 3.277280131077677, 3.218298500079102, 2.9201406309596503, 2.9201406309596503, 2.248126576735348, 2.248126576735348, 2.248126576735348, 2.1551555927679904, 1.9568823367204338, 1.8077012775452845, 1.7302854406640755, 1.674657851603517, 1.6361926411242507, 1.6073170357130528, 1.5971387237089931, 1.4902400417140915, 25.279138679649314, 52.48152374999807, 23.618559443322287, 14.953193010092818, 13.87263330090746, 9.878754832702224, 9.786122766603464, 7.408737430359669, 6.47329728753554, 5.553540023348299, 4.836847328795933, 4.834199603684546, 65.52587682381646, 3.870975432628602, 3.5548886212864836, 3.27727666254557, 3.27727666254557, 3.191736865206752, 3.045170731782319, 2.845297514823744, 2.845297514823744, 2.845297514823744, 2.2775357336031754, 2.197462758605214, 2.197462758605214, 1.9424991008293182, 1.881096173219867, 1.8085015072705033, 1.7589232558086836, 1.619836208043654, 1.5698978033200806, 71.23373911606375, 13.570076703820394, 10.92660499856497, 8.998836666339823, 7.6248507602487114, 6.217636450603936, 5.981939912527736, 5.939051341742008, 5.462744145302339, 5.281264422543462, 5.069406455622836, 4.764614308338002, 4.646822232495729, 4.345925893665687, 3.5022921291515425, 3.5022921291515425, 3.341783605826072, 3.095810547221243, 3.0304310294897587, 3.0304310294897587, 3.0304310294897587, 3.0304307763672553, 3.0236602556376866, 2.93983532137619, 2.8445634281288528, 2.6422031237929016, 2.531880693035478, 2.3227856848042348, 2.3161042631959763, 2.0999270138718296, 229.85045554586756, 23.15544891779535, 21.666459977157615, 20.99053376350747, 11.990203161163667, 10.606200932657993, 10.490306769711385, 9.680342614084719, 9.678892750477912, 8.886616731010932, 7.56627010967511, 7.097705867128247, 5.2834713517506495, 5.261667941114994, 5.105943496870835, 5.019925417254157, 4.722203769448345, 4.444866394588619, 4.013255438308363, 3.4894310083190034, 2.9142273490186716, 2.54659549635396, 2.54659549635396, 2.2441235717826338, 2.2441235717826338, 2.2441235717826338, 2.2441235717826338, 2.2270201023651506, 2.0571733520880082, 2.0330881049402265, 1.995262252584962, 65.52587682381646, 229.85045554586756, 28.386814687706195, 18.548293261416514, 16.31577390928007, 14.068466517662923, 12.183763712999852, 10.524775275585913, 10.485368848368456, 10.401173131742246, 10.033445729025289, 9.687677912349196, 7.326288745846654, 6.1495603650136115, 20.771470077793303, 5.348990131657641, 4.949101758817689, 4.736854434743691, 4.666097334164032, 4.666097334164032, 4.477691472043015, 4.164225030785872, 3.9633394120249914, 3.527637553827908, 3.334221842881076, 3.2782977708030154, 2.6513286745988336, 2.4101595899056387, 2.4101595899056387, 2.06615932264628, 2.06615932264628, 1.985203680697346, 39.814298818820866, 27.37222073280132, 27.311697162905674, 19.28501011065012, 11.902877851216186, 4.997991814907732, 4.988448984287581, 46.8500600266259, 4.4572594270450905, 4.062595835276219, 3.729302955127816, 3.369722748599973, 3.3697225084804368, 3.2809385499738117, 3.279330469437775, 3.1302553767468484, 2.9741666325138754, 2.9529746426992696, 2.859439679043173, 2.6448524130257454, 2.552462459379517, 2.2426460663161154, 1.7937771700158935, 1.4856557207308627, 8.003672089404112, 1.398300113287193, 1.3966924529603457, 1.3736673305741058, 1.3734653900438973, 1.3712261553061331, 38.704255727749015, 18.42513728030553, 16.843679837076692, 13.2637911747363, 11.361318927443074, 10.601904783710612, 8.440915769367367, 7.243550750095726, 5.795677658991221, 5.67079845167405, 5.204213331531785, 4.9661900449822785, 4.920234348468363, 4.881820830461245, 4.761332913584208, 4.544108101148302, 4.470207721136276, 4.351329334416774, 4.347410023968232, 4.154975443954278, 3.6759841622715927, 3.6666372006867345, 3.6666372006867345, 3.2417917866855848, 3.1656476608252606, 3.1656471857573276, 3.1656471857573276, 2.7534541372529575, 2.7534541372529575, 2.7534541372529575, 86.60736376036826, 24.214476023567563, 9.61194524133708, 8.482209309839678, 8.281915288611701, 7.098135745860943, 5.640490029921094, 4.931253979568076, 4.836757689123414, 4.706241918659545, 4.175494493300514, 3.62351802270041, 3.5438475015852138, 3.4227152775347114, 3.2344534900481032, 2.998444661554792, 2.829884343474181, 2.658115250326406, 2.3459299262358826, 2.1597286578999686, 2.097847913362241, 2.0790244256555694, 1.8911076765526638, 1.8911075595508382, 1.877281453819324, 1.8594255712103898, 1.6787487780739767, 1.6201482382179442, 1.5300952091023834, 1.3878649818554856, 229.85045554586756, 59.523807423571576, 21.695683361046108, 16.272502493978404, 9.675091386880789, 9.077347277107524, 8.7056427233141, 6.71348515239464, 6.671591228452888, 6.563341780861866, 7.012366008472706, 6.349192486092652, 6.093934482082371, 5.430005931554955, 5.0096585125469195, 4.0952718095055145, 3.3769407579276085, 3.2898435252916864, 3.13954418008687, 3.13954418008687, 2.882276881857309, 2.7034775902916253, 2.5565372578257857, 2.3966478562861995, 2.224983720980109, 2.1207532105020266, 2.1207532105020266, 2.120752978052441, 1.8937581704999344, 1.8937581704999344, 1.8937581704999344, 40.92846490776391, 33.50286374333951, 32.394209594323236, 15.599759619365015, 13.508833763331412, 8.924359229155446, 7.465960866424477, 7.169165380182712, 6.847866294248852, 6.64985094426585, 4.773455106564433, 4.376957255649176, 3.2158461414415447, 3.2158461414415447, 3.165731199920726, 2.628018632185321, 2.5018565312653243, 2.3560544710655096, 2.3501788637484977, 2.1632496419710208, 2.1632496419710208, 1.80369792841936, 1.784093086724569, 1.784093086724569, 1.735763627708604, 1.7141497699222825, 1.5657103500641283, 1.4942027044742667, 1.4772892628868408, 1.3389155296725954, 64.98958372631024, 26.39982290599887, 23.82766227527295, 19.731469578681562, 18.453096213882688, 6.995466846064407, 6.165244161374056, 6.036285737940051, 5.567003845346453, 4.600058687819353, 4.392791296149253, 4.053010962284204, 3.670427621354567, 3.0283667319669627, 3.0283667319669627, 3.0283667319669627, 1.9071487522618613, 1.9071487522618613, 1.8347478890630586, 1.784601762449, 1.7456256541744806, 1.4343689175005003, 1.3346843839240636, 1.3290295679423993, 1.1710529518383674, 1.164879894263161, 1.1148333714667389, 1.1123839241319964, 1.1123839241319964, 1.1123838951183587, 43.48144745687182, 32.15277866514408, 17.658580007694354, 14.212358214669136, 12.844787504074006, 10.143113747386082, 7.262430431504439, 6.934693690112796, 6.6028941384977236, 5.791922892091484, 4.403822671331475, 4.40382244064727, 4.386951120609754, 4.070077759813259, 3.6982210493719676, 3.6692371937677017, 3.4002923982500635, 3.378859298053093, 3.3323517474787736, 3.086358415597273, 3.0519502515900028, 3.009686367656054, 2.527164907519985, 2.527164907519985, 2.527164907519985, 2.3862503073023538, 2.2281368154757057, 2.2281368154757057, 2.0487082184230894, 1.982108996305515, 51.80119419216903, 17.599145968342615, 11.112719950579883, 9.22189453925338, 9.041398569966972, 7.37786454971301, 7.277248730911264, 7.2698927841078405, 6.1027217587473395, 5.303503202098234, 5.250133000074722, 4.627499286177901, 4.372816890187281, 4.175064136686849, 4.02603141157988, 3.8652821086263813, 3.860841381541736, 3.658920411626723, 3.575501995490966, 3.48877938748068, 3.4887791573196414, 3.3958161930615076, 3.2698888743281946, 3.01931278143269, 3.01931278143269, 3.01931278143269, 3.01931278143269, 3.01931278143269, 2.63305560529713, 2.63305560529713, 30.573576595668595, 24.108679010571944, 12.780061927300366, 10.091572652991438, 9.898728212864157, 9.794230867536642, 9.077613132290923, 7.870685148442195, 7.568084423462526, 7.247459019440971, 7.230430613237548, 6.8598943477819345, 6.424634420084727, 4.405653440681113, 4.352589759594099, 3.7968437385469045, 3.7968437385469045, 3.37603476427199, 3.2727758319666584, 3.2727758319666584, 3.2727758319666584, 3.2418675233933594, 2.8415945807599763, 2.8415945807599763, 2.8415945807599763, 2.8415945807599763, 2.8415945807599763, 2.8415945807599763, 2.841594353611586, 2.7815719815974598, 44.00783695870171, 27.179830321110842, 18.87689308130426, 8.55755368216695, 8.401183627901117, 8.391145100690961, 8.358692086196466, 6.726825811006661, 5.600591080757376, 4.786155403022551, 4.7489734031336095, 4.6602752953522035, 4.607292589227602, 4.6072921419576325, 4.6072921419576325, 4.6072921419576325, 4.6072921419576325, 3.020418318510598, 3.0076856606352154, 3.0076856606352154, 2.6234892544016426, 2.217865373890369, 2.2078302012049904, 2.0473141779508066, 2.0473141779508066, 2.0473141779508066, 1.8980365954192113, 1.8386977357487393, 1.8333357515290307, 1.8333357515290307, 229.85045554586756, 24.37020150083754, 17.606616086037462, 12.920854178687502, 11.656322871945811, 10.993566679060518, 8.490272550378519, 7.660303423699396, 6.2753975424470045, 5.616219052467496, 5.322293153344842, 5.080825632721191, 5.00041401736199, 4.799757435176486, 4.734791251612696, 4.671434768948284, 4.606165135311132, 4.321891027552569, 4.092280177142404, 3.6352288521018976, 3.5638130274379862, 3.551621058163846, 3.3790028646448387, 3.3790028646448387, 3.3148222894342494, 3.13156631298624, 3.0810478474562415, 3.0810478474562415, 2.8276232438397284, 25.279138679649314, 2.6838485106104293, 37.568972671745364, 23.79041141059775, 16.000231267847546, 9.024658918381569, 8.914863234202986, 8.42024919580309, 8.336072798516643, 7.112435080227151, 6.7139672143524125, 5.641650821492292, 5.0750254689794945, 4.99568944599676, 4.451185252139207, 4.325939299513, 4.183520356643765, 4.0573005095975825, 3.8426478308250966, 3.365474835093466, 3.3541707821608493, 3.1358590555211925, 2.949426389391602, 2.917863657195855, 2.9178632163201557, 2.776882409982362, 2.7431631343029994, 2.549587510310655, 2.549587510310655, 2.549587510310655, 2.293425061812558, 2.246584994662276, 41.20228280120925, 21.82558471833217, 19.929589846956286, 10.895800328298877, 10.766057468510553, 10.45821977122191, 8.158989939464623, 7.548815213672889, 5.718799145965867, 5.55604398669712, 5.060948032055287, 4.918466666619994, 3.702434620706373, 3.5687322127441177, 3.32542422524232, 3.112633784171995, 2.8339194937831875, 2.6871789481207067, 2.440448198688858, 2.18451150520444, 1.6864678057504643, 1.6864678057504643, 1.6864678057504643, 1.6864678057504643, 1.641754972723138, 1.5870562036880125, 1.536446354526669, 1.536446354526669, 1.4632846138285627, 1.3114601365375724, 53.26274685458288, 4.765191466816155, 14.265721107773313, 13.38071864315032, 11.377253726505373, 11.148157805137684, 10.78322979362963, 10.75436995707842, 9.413279370901629, 7.447404990471561, 7.397666705440264, 6.423421700872148, 6.277947412671704, 6.0515235081994145, 6.005880546949183, 5.637809791674344, 5.62816160254499, 5.282883014449185, 4.893703582460799, 4.5496951010507, 4.022392850792375, 3.5473091882440375, 3.4634682391480776, 3.202997301968653, 3.1510834029245096, 3.1510834029245096, 3.1510834029245096, 2.8925251146102338, 2.5018043730681954, 2.4044592328825645, 2.4044592328825645, 2.4044592328825645, 8.003672089404112, 24.32823745854947, 24.19055426807711, 17.92867615103436, 17.1337896858285, 10.33091268354911, 8.8184678342303, 7.334139173455148, 7.320800971668175, 6.914043323995392, 6.160550782379883, 6.093645391365823, 4.504340126791551, 4.450799576757736, 4.390619947778409, 3.9372612599192283, 3.8696778380097387, 3.660524863320506, 3.4272179629536033, 3.3652046695040365, 3.365204458081868, 2.9176408518702424, 2.5494041119356163, 2.382230171688964, 2.28680784141023, 2.2678001427439844, 2.246434346917724, 2.246434346917724, 2.246434346917724, 2.246434346917724, 2.246434346917724, 21.222134678021376, 19.470423853838792, 18.182734416766273, 13.147903452554871, 10.815841614408708, 9.556482387996974, 8.507397896540539, 7.538197461642764, 6.470119601971686, 6.220480776037467, 6.031819976766704, 5.817148237997309, 5.696546137565066, 5.42772547651636, 5.369960998544257, 4.839939422459603, 4.011903202865062, 3.758581332536666, 3.4302195482283047, 3.402510108254252, 3.295480131930943, 2.8201651479212577, 2.574657967749248, 2.267212561758316, 2.267212561758316, 2.09211134999561, 1.9367313606001024, 1.8635168801794342, 1.551401799305341, 1.4940244933569746, 24.734737512196443, 16.78165716824664, 16.11870655487451, 10.528165887298572, 10.375776036045147, 8.707784096817283, 7.115228151206765, 7.030642386503466, 6.546145655711288, 5.730016126783775, 5.098997708279117, 4.723121865815701, 4.588916652258446, 4.239762930391724, 3.863761536709182, 3.8408621996324164, 3.8185195064407647, 3.4439905774561255, 3.2630248669658632, 2.8562672413546646, 2.8562672413546646, 2.8562672413546646, 2.553780606313922, 2.4989087975385877, 2.4989087975385877, 2.4989087975385877, 2.4989087975385877, 2.274947720515425, 2.2048891358337097, 2.2048891358337097, 13.45581554447549, 12.854046140493779, 9.482592258091339, 7.588526261228155, 7.344402037512475, 6.930507819754371, 6.56741223559243, 6.431236642557826, 6.397154040616049, 5.956040146129713, 5.938704459599703, 5.3332679907379354, 5.241393167935998, 5.241393167935998, 5.080950860513359, 4.609974352369212, 4.316619043717174, 4.315079607195495, 4.159855466933147, 3.9181025614603504, 3.9181025614603504, 3.9019467928404743, 3.668721565887654, 3.3373315242132984, 2.6829340053194404, 2.5559101010821186, 2.0005269971969337, 2.0005269971969337, 2.0005269971969337, 2.0005269971969337, 46.8500600266259, 34.027368875969174, 26.770025749572564, 11.758257068551558, 10.919235932285016, 8.688546813280828, 6.933190486288535, 6.099955961349209, 6.077159310516427, 5.59175630665195, 5.5033408177989385, 4.961101343995961, 3.586358913159049, 3.4699963853945763, 3.4699959905926847, 3.4699959905926847, 3.469995793191739, 3.0038589242431697, 3.0038589242431697, 3.0038589242431697, 3.0038589242431697, 2.969454110788538, 2.9123497677664925, 2.620340865372158, 2.620340865372158, 2.620340865372158, 2.3217783502754323, 2.3047982170131656, 2.208085472902898, 2.1255594412698993, 2.063492043666805, 45.81292755190089, 23.433706278975702, 8.946057602872495, 8.034607536814024, 7.797456587217873, 7.011802807776633, 6.949695836081963, 6.16263518117672, 6.119306001901533, 5.822307228070729, 5.465078752617352, 5.244073970651527, 4.665079308471182, 3.786581148464401, 3.3514396983131127, 2.937532785110253, 2.8346475750916964, 2.280212720653044, 2.1902540602155427, 2.1902540602155427, 2.1865934227418635, 2.0130698064306918, 1.8233643805996538, 1.7540437450471962, 1.7540437450471962, 1.5920449435102206, 1.5920449435102206, 1.4370461503283565, 1.3490969482895405, 1.349096801413622, 28.703715557357224, 16.835359733444307, 11.375053867675616, 9.123453416768827, 8.962479259843702, 8.316975932798861, 7.625767650361589, 5.826649136671633, 5.339162939501953, 4.9122026238558, 4.763112206609036, 4.705564748857976, 4.705564748857976, 4.397737882828621, 4.083440842429911, 4.007515350689404, 3.6281866680392802, 3.5433737558335183, 3.2890340276867223, 3.1870535524382255, 3.1140335410980144, 2.9226147657855073, 2.849539122966788, 2.345666051352257, 2.2222984821255345, 2.0788072953844097, 2.0788072953844097, 2.0788072953844097, 2.0788072953844097, 2.0788072953844097, 24.031808304948516, 28.141475127522114, 11.871013685484048, 9.306087574916498, 8.731464762672685, 7.414608978330171, 7.284054102739092, 6.534374205570549, 6.44044140071232, 5.53425108177516, 5.388144383880441, 5.2213144742022815, 5.180786106191606, 4.417734040820085, 4.403366180227402, 4.338700132495718, 4.334159542288153, 4.287745525929429, 4.276144253898712, 4.127322595936307, 4.127322595936307, 4.127322595936307, 4.127322595936307, 4.127322595936307, 3.5982621239876615, 3.449730633690483, 3.3747029800670796, 2.7879725095460097, 2.7315150042208556, 2.7315150042208556, 2.665130659271613, 21.63525957826621, 14.619776760905232, 10.226396703385397, 7.990644192096288, 7.11859261583177, 6.276331756580345, 5.157668633310192, 5.132870540468628, 4.551857457631798, 4.482709665524642, 4.4827093144012045, 4.4827093144012045, 4.482708963277766, 4.347971663988855, 4.177740700799308, 3.95191320348671, 3.8276372759234145, 3.824903779954967, 3.4635587870731896, 3.426216282707318, 3.074601095867115, 2.936001789878532, 2.803330500901547, 2.7184069082658944, 2.6990926612862705, 2.6015812933816607, 2.5645110852423185, 2.2163974768922037, 2.0073896700906575, 2.0073896700906575, 32.07530526719007, 24.8360495089331, 10.581493552490672, 8.789472727940762, 6.782412084322211, 5.998447463732961, 24.031808304948516, 4.714962378614051, 4.395229083154803, 4.062940442668399, 3.732443671067071, 3.285549597112544, 3.285549597112544, 3.2540718056018036, 3.0419487459000907, 2.8521039612398917, 2.4954833205076072, 2.4954833205076072, 2.3102720916423642, 2.2020702490321025, 2.2020702490321025, 2.2020702490321025, 1.8670657652067406, 1.7620422391892432, 1.7620422391892432, 1.658682644831718, 1.598625726023175, 1.598625726023175, 1.598625726023175, 1.3792215352685049, 1.3535512787477688], \"Category\": [\"Default\", \"Default\", \"Default\", \"Default\", \"Default\", \"Default\", \"Default\", \"Default\", \"Default\", \"Default\", \"Default\", \"Default\", \"Default\", \"Default\", \"Default\", \"Default\", \"Default\", \"Default\", \"Default\", \"Default\", \"Default\", \"Default\", \"Default\", \"Default\", \"Default\", \"Default\", \"Default\", \"Default\", \"Default\", \"Default\", \"Topic1\", \"Topic1\", \"Topic1\", \"Topic1\", \"Topic1\", \"Topic1\", \"Topic1\", \"Topic1\", \"Topic1\", \"Topic1\", \"Topic1\", \"Topic1\", \"Topic1\", \"Topic1\", \"Topic1\", \"Topic1\", \"Topic1\", \"Topic1\", \"Topic1\", \"Topic1\", \"Topic1\", \"Topic1\", \"Topic1\", \"Topic1\", \"Topic1\", \"Topic1\", \"Topic1\", \"Topic1\", \"Topic1\", \"Topic1\", \"Topic1\", \"Topic1\", \"Topic2\", \"Topic2\", \"Topic2\", \"Topic2\", \"Topic2\", \"Topic2\", \"Topic2\", \"Topic2\", \"Topic2\", \"Topic2\", \"Topic2\", \"Topic2\", \"Topic2\", \"Topic2\", \"Topic2\", \"Topic2\", \"Topic2\", \"Topic2\", \"Topic2\", \"Topic2\", \"Topic2\", \"Topic2\", \"Topic2\", \"Topic2\", \"Topic2\", \"Topic2\", \"Topic2\", \"Topic2\", \"Topic2\", \"Topic2\", \"Topic3\", \"Topic3\", \"Topic3\", \"Topic3\", \"Topic3\", \"Topic3\", \"Topic3\", \"Topic3\", \"Topic3\", \"Topic3\", \"Topic3\", \"Topic3\", \"Topic3\", \"Topic3\", \"Topic3\", \"Topic3\", \"Topic3\", \"Topic3\", \"Topic3\", \"Topic3\", \"Topic3\", \"Topic3\", \"Topic3\", \"Topic3\", \"Topic3\", \"Topic3\", \"Topic3\", \"Topic3\", \"Topic3\", \"Topic3\", \"Topic4\", \"Topic4\", \"Topic4\", \"Topic4\", \"Topic4\", \"Topic4\", \"Topic4\", \"Topic4\", \"Topic4\", \"Topic4\", \"Topic4\", \"Topic4\", \"Topic4\", \"Topic4\", \"Topic4\", \"Topic4\", \"Topic4\", \"Topic4\", \"Topic4\", \"Topic4\", \"Topic4\", \"Topic4\", \"Topic4\", \"Topic4\", \"Topic4\", \"Topic4\", \"Topic4\", \"Topic4\", \"Topic4\", \"Topic4\", \"Topic5\", \"Topic5\", \"Topic5\", \"Topic5\", \"Topic5\", \"Topic5\", \"Topic5\", \"Topic5\", \"Topic5\", \"Topic5\", \"Topic5\", \"Topic5\", \"Topic5\", \"Topic5\", \"Topic5\", \"Topic5\", \"Topic5\", \"Topic5\", \"Topic5\", \"Topic5\", \"Topic5\", \"Topic5\", \"Topic5\", \"Topic5\", \"Topic5\", \"Topic5\", \"Topic5\", \"Topic5\", \"Topic5\", \"Topic5\", \"Topic5\", \"Topic6\", \"Topic6\", \"Topic6\", \"Topic6\", \"Topic6\", \"Topic6\", \"Topic6\", \"Topic6\", \"Topic6\", \"Topic6\", \"Topic6\", \"Topic6\", \"Topic6\", \"Topic6\", \"Topic6\", \"Topic6\", \"Topic6\", \"Topic6\", \"Topic6\", \"Topic6\", \"Topic6\", \"Topic6\", \"Topic6\", \"Topic6\", \"Topic6\", \"Topic6\", \"Topic6\", \"Topic6\", \"Topic6\", \"Topic6\", \"Topic7\", \"Topic7\", \"Topic7\", \"Topic7\", \"Topic7\", \"Topic7\", \"Topic7\", \"Topic7\", \"Topic7\", \"Topic7\", \"Topic7\", \"Topic7\", \"Topic7\", \"Topic7\", \"Topic7\", \"Topic7\", \"Topic7\", \"Topic7\", \"Topic7\", \"Topic7\", \"Topic7\", \"Topic7\", \"Topic7\", \"Topic7\", \"Topic7\", \"Topic7\", \"Topic7\", \"Topic7\", \"Topic7\", \"Topic7\", \"Topic7\", \"Topic8\", \"Topic8\", \"Topic8\", \"Topic8\", \"Topic8\", \"Topic8\", \"Topic8\", \"Topic8\", \"Topic8\", \"Topic8\", \"Topic8\", \"Topic8\", \"Topic8\", \"Topic8\", \"Topic8\", \"Topic8\", \"Topic8\", \"Topic8\", \"Topic8\", \"Topic8\", \"Topic8\", \"Topic8\", \"Topic8\", \"Topic8\", \"Topic8\", \"Topic8\", \"Topic8\", \"Topic8\", \"Topic8\", \"Topic8\", \"Topic9\", \"Topic9\", \"Topic9\", \"Topic9\", \"Topic9\", \"Topic9\", \"Topic9\", \"Topic9\", \"Topic9\", \"Topic9\", \"Topic9\", \"Topic9\", \"Topic9\", \"Topic9\", \"Topic9\", \"Topic9\", \"Topic9\", \"Topic9\", \"Topic9\", \"Topic9\", \"Topic9\", \"Topic9\", \"Topic9\", \"Topic9\", \"Topic9\", \"Topic9\", \"Topic9\", \"Topic9\", \"Topic9\", \"Topic9\", \"Topic10\", \"Topic10\", \"Topic10\", \"Topic10\", \"Topic10\", \"Topic10\", \"Topic10\", \"Topic10\", \"Topic10\", \"Topic10\", \"Topic10\", \"Topic10\", \"Topic10\", \"Topic10\", \"Topic10\", \"Topic10\", \"Topic10\", \"Topic10\", \"Topic10\", \"Topic10\", \"Topic10\", \"Topic10\", \"Topic10\", \"Topic10\", \"Topic10\", \"Topic10\", \"Topic10\", \"Topic10\", \"Topic10\", \"Topic10\", \"Topic11\", \"Topic11\", \"Topic11\", \"Topic11\", \"Topic11\", \"Topic11\", \"Topic11\", \"Topic11\", \"Topic11\", \"Topic11\", \"Topic11\", \"Topic11\", \"Topic11\", \"Topic11\", \"Topic11\", \"Topic11\", \"Topic11\", \"Topic11\", \"Topic11\", \"Topic11\", \"Topic11\", \"Topic11\", \"Topic11\", \"Topic11\", \"Topic11\", \"Topic11\", \"Topic11\", \"Topic11\", \"Topic11\", \"Topic11\", \"Topic12\", \"Topic12\", \"Topic12\", \"Topic12\", \"Topic12\", \"Topic12\", \"Topic12\", \"Topic12\", \"Topic12\", \"Topic12\", \"Topic12\", \"Topic12\", \"Topic12\", \"Topic12\", \"Topic12\", \"Topic12\", \"Topic12\", \"Topic12\", \"Topic12\", \"Topic12\", \"Topic12\", \"Topic12\", \"Topic12\", \"Topic12\", \"Topic12\", \"Topic12\", \"Topic12\", \"Topic12\", \"Topic12\", \"Topic12\", \"Topic13\", \"Topic13\", \"Topic13\", \"Topic13\", \"Topic13\", \"Topic13\", \"Topic13\", \"Topic13\", \"Topic13\", \"Topic13\", \"Topic13\", \"Topic13\", \"Topic13\", \"Topic13\", \"Topic13\", \"Topic13\", \"Topic13\", \"Topic13\", \"Topic13\", \"Topic13\", \"Topic13\", \"Topic13\", \"Topic13\", \"Topic13\", \"Topic13\", \"Topic13\", \"Topic13\", \"Topic13\", \"Topic13\", \"Topic13\", \"Topic13\", \"Topic14\", \"Topic14\", \"Topic14\", \"Topic14\", \"Topic14\", \"Topic14\", \"Topic14\", \"Topic14\", \"Topic14\", \"Topic14\", \"Topic14\", \"Topic14\", \"Topic14\", \"Topic14\", \"Topic14\", \"Topic14\", \"Topic14\", \"Topic14\", \"Topic14\", \"Topic14\", \"Topic14\", \"Topic14\", \"Topic14\", \"Topic14\", \"Topic14\", \"Topic14\", \"Topic14\", \"Topic14\", \"Topic14\", \"Topic14\", \"Topic15\", \"Topic15\", \"Topic15\", \"Topic15\", \"Topic15\", \"Topic15\", \"Topic15\", \"Topic15\", \"Topic15\", \"Topic15\", \"Topic15\", \"Topic15\", \"Topic15\", \"Topic15\", \"Topic15\", \"Topic15\", \"Topic15\", \"Topic15\", \"Topic15\", \"Topic15\", \"Topic15\", \"Topic15\", \"Topic15\", \"Topic15\", \"Topic15\", \"Topic15\", \"Topic15\", \"Topic15\", \"Topic15\", \"Topic15\", \"Topic16\", \"Topic16\", \"Topic16\", \"Topic16\", \"Topic16\", \"Topic16\", \"Topic16\", \"Topic16\", \"Topic16\", \"Topic16\", \"Topic16\", \"Topic16\", \"Topic16\", \"Topic16\", \"Topic16\", \"Topic16\", \"Topic16\", \"Topic16\", \"Topic16\", \"Topic16\", \"Topic16\", \"Topic16\", \"Topic16\", \"Topic16\", \"Topic16\", \"Topic16\", \"Topic16\", \"Topic16\", \"Topic16\", \"Topic16\", \"Topic17\", \"Topic17\", \"Topic17\", \"Topic17\", \"Topic17\", \"Topic17\", \"Topic17\", \"Topic17\", \"Topic17\", \"Topic17\", \"Topic17\", \"Topic17\", \"Topic17\", \"Topic17\", \"Topic17\", \"Topic17\", \"Topic17\", \"Topic17\", \"Topic17\", \"Topic17\", \"Topic17\", \"Topic17\", \"Topic17\", \"Topic17\", \"Topic17\", \"Topic17\", \"Topic17\", \"Topic17\", \"Topic17\", \"Topic17\", \"Topic17\", \"Topic18\", \"Topic18\", \"Topic18\", \"Topic18\", \"Topic18\", \"Topic18\", \"Topic18\", \"Topic18\", \"Topic18\", \"Topic18\", \"Topic18\", \"Topic18\", \"Topic18\", \"Topic18\", \"Topic18\", \"Topic18\", \"Topic18\", \"Topic18\", \"Topic18\", \"Topic18\", \"Topic18\", \"Topic18\", \"Topic18\", \"Topic18\", \"Topic18\", \"Topic18\", \"Topic18\", \"Topic18\", \"Topic18\", \"Topic18\", \"Topic19\", \"Topic19\", \"Topic19\", \"Topic19\", \"Topic19\", \"Topic19\", \"Topic19\", \"Topic19\", \"Topic19\", \"Topic19\", \"Topic19\", \"Topic19\", \"Topic19\", \"Topic19\", \"Topic19\", \"Topic19\", \"Topic19\", \"Topic19\", \"Topic19\", \"Topic19\", \"Topic19\", \"Topic19\", \"Topic19\", \"Topic19\", \"Topic19\", \"Topic19\", \"Topic19\", \"Topic19\", \"Topic19\", \"Topic19\", \"Topic19\", \"Topic20\", \"Topic20\", \"Topic20\", \"Topic20\", \"Topic20\", \"Topic20\", \"Topic20\", \"Topic20\", \"Topic20\", \"Topic20\", \"Topic20\", \"Topic20\", \"Topic20\", \"Topic20\", \"Topic20\", \"Topic20\", \"Topic20\", \"Topic20\", \"Topic20\", \"Topic20\", \"Topic20\", \"Topic20\", \"Topic20\", \"Topic20\", \"Topic20\", \"Topic20\", \"Topic20\", \"Topic20\", \"Topic20\", \"Topic20\", \"Topic20\", \"Topic21\", \"Topic21\", \"Topic21\", \"Topic21\", \"Topic21\", \"Topic21\", \"Topic21\", \"Topic21\", \"Topic21\", \"Topic21\", \"Topic21\", \"Topic21\", \"Topic21\", \"Topic21\", \"Topic21\", \"Topic21\", \"Topic21\", \"Topic21\", \"Topic21\", \"Topic21\", \"Topic21\", \"Topic21\", \"Topic21\", \"Topic21\", \"Topic21\", \"Topic21\", \"Topic21\", \"Topic21\", \"Topic21\", \"Topic21\", \"Topic22\", \"Topic22\", \"Topic22\", \"Topic22\", \"Topic22\", \"Topic22\", \"Topic22\", \"Topic22\", \"Topic22\", \"Topic22\", \"Topic22\", \"Topic22\", \"Topic22\", \"Topic22\", \"Topic22\", \"Topic22\", \"Topic22\", \"Topic22\", \"Topic22\", \"Topic22\", \"Topic22\", \"Topic22\", \"Topic22\", \"Topic22\", \"Topic22\", \"Topic22\", \"Topic22\", \"Topic22\", \"Topic22\", \"Topic22\", \"Topic22\", \"Topic23\", \"Topic23\", \"Topic23\", \"Topic23\", \"Topic23\", \"Topic23\", \"Topic23\", \"Topic23\", \"Topic23\", \"Topic23\", \"Topic23\", \"Topic23\", \"Topic23\", \"Topic23\", \"Topic23\", \"Topic23\", \"Topic23\", \"Topic23\", \"Topic23\", \"Topic23\", \"Topic23\", \"Topic23\", \"Topic23\", \"Topic23\", \"Topic23\", \"Topic23\", \"Topic23\", \"Topic23\", \"Topic23\", \"Topic23\", \"Topic24\", \"Topic24\", \"Topic24\", \"Topic24\", \"Topic24\", \"Topic24\", \"Topic24\", \"Topic24\", \"Topic24\", \"Topic24\", \"Topic24\", \"Topic24\", \"Topic24\", \"Topic24\", \"Topic24\", \"Topic24\", \"Topic24\", \"Topic24\", \"Topic24\", \"Topic24\", \"Topic24\", \"Topic24\", \"Topic24\", \"Topic24\", \"Topic24\", \"Topic24\", \"Topic24\", \"Topic24\", \"Topic24\", \"Topic24\", \"Topic24\", \"Topic25\", \"Topic25\", \"Topic25\", \"Topic25\", \"Topic25\", \"Topic25\", \"Topic25\", \"Topic25\", \"Topic25\", \"Topic25\", \"Topic25\", \"Topic25\", \"Topic25\", \"Topic25\", \"Topic25\", \"Topic25\", \"Topic25\", \"Topic25\", \"Topic25\", \"Topic25\", \"Topic25\", \"Topic25\", \"Topic25\", \"Topic25\", \"Topic25\", \"Topic25\", \"Topic25\", \"Topic25\", \"Topic25\", \"Topic25\", \"Topic25\", \"Topic25\", \"Topic26\", \"Topic26\", \"Topic26\", \"Topic26\", \"Topic26\", \"Topic26\", \"Topic26\", \"Topic26\", \"Topic26\", \"Topic26\", \"Topic26\", \"Topic26\", \"Topic26\", \"Topic26\", \"Topic26\", \"Topic26\", \"Topic26\", \"Topic26\", \"Topic26\", \"Topic26\", \"Topic26\", \"Topic26\", \"Topic26\", \"Topic26\", \"Topic26\", \"Topic26\", \"Topic26\", \"Topic26\", \"Topic26\", \"Topic26\", \"Topic27\", \"Topic27\", \"Topic27\", \"Topic27\", \"Topic27\", \"Topic27\", \"Topic27\", \"Topic27\", \"Topic27\", \"Topic27\", \"Topic27\", \"Topic27\", \"Topic27\", \"Topic27\", \"Topic27\", \"Topic27\", \"Topic27\", \"Topic27\", \"Topic27\", \"Topic27\", \"Topic27\", \"Topic27\", \"Topic27\", \"Topic27\", \"Topic27\", \"Topic27\", \"Topic27\", \"Topic27\", \"Topic27\", \"Topic27\", \"Topic28\", \"Topic28\", \"Topic28\", \"Topic28\", \"Topic28\", \"Topic28\", \"Topic28\", \"Topic28\", \"Topic28\", \"Topic28\", \"Topic28\", \"Topic28\", \"Topic28\", \"Topic28\", \"Topic28\", \"Topic28\", \"Topic28\", \"Topic28\", \"Topic28\", \"Topic28\", \"Topic28\", \"Topic28\", \"Topic28\", \"Topic28\", \"Topic28\", \"Topic28\", \"Topic28\", \"Topic28\", \"Topic28\", \"Topic28\", \"Topic29\", \"Topic29\", \"Topic29\", \"Topic29\", \"Topic29\", \"Topic29\", \"Topic29\", \"Topic29\", \"Topic29\", \"Topic29\", \"Topic29\", \"Topic29\", \"Topic29\", \"Topic29\", \"Topic29\", \"Topic29\", \"Topic29\", \"Topic29\", \"Topic29\", \"Topic29\", \"Topic29\", \"Topic29\", \"Topic29\", \"Topic29\", \"Topic29\", \"Topic29\", \"Topic29\", \"Topic29\", \"Topic29\", \"Topic29\", \"Topic29\", \"Topic30\", \"Topic30\", \"Topic30\", \"Topic30\", \"Topic30\", \"Topic30\", \"Topic30\", \"Topic30\", \"Topic30\", \"Topic30\", \"Topic30\", \"Topic30\", \"Topic30\", \"Topic30\", \"Topic30\", \"Topic30\", \"Topic30\", \"Topic30\", \"Topic30\", \"Topic30\", \"Topic30\", \"Topic30\", \"Topic30\", \"Topic30\", \"Topic30\", \"Topic30\", \"Topic30\", \"Topic30\", \"Topic30\", \"Topic30\", \"Topic31\", \"Topic31\", \"Topic31\", \"Topic31\", \"Topic31\", \"Topic31\", \"Topic31\", \"Topic31\", \"Topic31\", \"Topic31\", \"Topic31\", \"Topic31\", \"Topic31\", \"Topic31\", \"Topic31\", \"Topic31\", \"Topic31\", \"Topic31\", \"Topic31\", \"Topic31\", \"Topic31\", \"Topic31\", \"Topic31\", \"Topic31\", \"Topic31\", \"Topic31\", \"Topic31\", \"Topic31\", \"Topic31\", \"Topic31\", \"Topic32\", \"Topic32\", \"Topic32\", \"Topic32\", \"Topic32\", \"Topic32\", \"Topic32\", \"Topic32\", \"Topic32\", \"Topic32\", \"Topic32\", \"Topic32\", \"Topic32\", \"Topic32\", \"Topic32\", \"Topic32\", \"Topic32\", \"Topic32\", \"Topic32\", \"Topic32\", \"Topic32\", \"Topic32\", \"Topic32\", \"Topic32\", \"Topic32\", \"Topic32\", \"Topic32\", \"Topic32\", \"Topic32\", \"Topic32\", \"Topic33\", \"Topic33\", \"Topic33\", \"Topic33\", \"Topic33\", \"Topic33\", \"Topic33\", \"Topic33\", \"Topic33\", \"Topic33\", \"Topic33\", \"Topic33\", \"Topic33\", \"Topic33\", \"Topic33\", \"Topic33\", \"Topic33\", \"Topic33\", \"Topic33\", \"Topic33\", \"Topic33\", \"Topic33\", \"Topic33\", \"Topic33\", \"Topic33\", \"Topic33\", \"Topic33\", \"Topic33\", \"Topic33\", \"Topic33\", \"Topic34\", \"Topic34\", \"Topic34\", \"Topic34\", \"Topic34\", \"Topic34\", \"Topic34\", \"Topic34\", \"Topic34\", \"Topic34\", \"Topic34\", \"Topic34\", \"Topic34\", \"Topic34\", \"Topic34\", \"Topic34\", \"Topic34\", \"Topic34\", \"Topic34\", \"Topic34\", \"Topic34\", \"Topic34\", \"Topic34\", \"Topic34\", \"Topic34\", \"Topic34\", \"Topic34\", \"Topic34\", \"Topic34\", \"Topic34\", \"Topic35\", \"Topic35\", \"Topic35\", \"Topic35\", \"Topic35\", \"Topic35\", \"Topic35\", \"Topic35\", \"Topic35\", \"Topic35\", \"Topic35\", \"Topic35\", \"Topic35\", \"Topic35\", \"Topic35\", \"Topic35\", \"Topic35\", \"Topic35\", \"Topic35\", \"Topic35\", \"Topic35\", \"Topic35\", \"Topic35\", \"Topic35\", \"Topic35\", \"Topic35\", \"Topic35\", \"Topic35\", \"Topic35\", \"Topic35\", \"Topic36\", \"Topic36\", \"Topic36\", \"Topic36\", \"Topic36\", \"Topic36\", \"Topic36\", \"Topic36\", \"Topic36\", \"Topic36\", \"Topic36\", \"Topic36\", \"Topic36\", \"Topic36\", \"Topic36\", \"Topic36\", \"Topic36\", \"Topic36\", \"Topic36\", \"Topic36\", \"Topic36\", \"Topic36\", \"Topic36\", \"Topic36\", \"Topic36\", \"Topic36\", \"Topic36\", \"Topic36\", \"Topic36\", \"Topic36\", \"Topic36\", \"Topic37\", \"Topic37\", \"Topic37\", \"Topic37\", \"Topic37\", \"Topic37\", \"Topic37\", \"Topic37\", \"Topic37\", \"Topic37\", \"Topic37\", \"Topic37\", \"Topic37\", \"Topic37\", \"Topic37\", \"Topic37\", \"Topic37\", \"Topic37\", \"Topic37\", \"Topic37\", \"Topic37\", \"Topic37\", \"Topic37\", \"Topic37\", \"Topic37\", \"Topic37\", \"Topic37\", \"Topic37\", \"Topic37\", \"Topic37\", \"Topic38\", \"Topic38\", \"Topic38\", \"Topic38\", \"Topic38\", \"Topic38\", \"Topic38\", \"Topic38\", \"Topic38\", \"Topic38\", \"Topic38\", \"Topic38\", \"Topic38\", \"Topic38\", \"Topic38\", \"Topic38\", \"Topic38\", \"Topic38\", \"Topic38\", \"Topic38\", \"Topic38\", \"Topic38\", \"Topic38\", \"Topic38\", \"Topic38\", \"Topic38\", \"Topic38\", \"Topic38\", \"Topic38\", \"Topic38\", \"Topic39\", \"Topic39\", \"Topic39\", \"Topic39\", \"Topic39\", \"Topic39\", \"Topic39\", \"Topic39\", \"Topic39\", \"Topic39\", \"Topic39\", \"Topic39\", \"Topic39\", \"Topic39\", \"Topic39\", \"Topic39\", \"Topic39\", \"Topic39\", \"Topic39\", \"Topic39\", \"Topic39\", \"Topic39\", \"Topic39\", \"Topic39\", \"Topic39\", \"Topic39\", \"Topic39\", \"Topic39\", \"Topic39\", \"Topic39\", \"Topic39\", \"Topic39\", \"Topic40\", \"Topic40\", \"Topic40\", \"Topic40\", \"Topic40\", \"Topic40\", \"Topic40\", \"Topic40\", \"Topic40\", \"Topic40\", \"Topic40\", \"Topic40\", \"Topic40\", \"Topic40\", \"Topic40\", \"Topic40\", \"Topic40\", \"Topic40\", \"Topic40\", \"Topic40\", \"Topic40\", \"Topic40\", \"Topic40\", \"Topic40\", \"Topic40\", \"Topic40\", \"Topic40\", \"Topic40\", \"Topic40\", \"Topic40\", \"Topic40\", \"Topic41\", \"Topic41\", \"Topic41\", \"Topic41\", \"Topic41\", \"Topic41\", \"Topic41\", \"Topic41\", \"Topic41\", \"Topic41\", \"Topic41\", \"Topic41\", \"Topic41\", \"Topic41\", \"Topic41\", \"Topic41\", \"Topic41\", \"Topic41\", \"Topic41\", \"Topic41\", \"Topic41\", \"Topic41\", \"Topic41\", \"Topic41\", \"Topic41\", \"Topic41\", \"Topic41\", \"Topic41\", \"Topic41\", \"Topic41\", \"Topic42\", \"Topic42\", \"Topic42\", \"Topic42\", \"Topic42\", \"Topic42\", \"Topic42\", \"Topic42\", \"Topic42\", \"Topic42\", \"Topic42\", \"Topic42\", \"Topic42\", \"Topic42\", \"Topic42\", \"Topic42\", \"Topic42\", \"Topic42\", \"Topic42\", \"Topic42\", \"Topic42\", \"Topic42\", \"Topic42\", \"Topic42\", \"Topic42\", \"Topic42\", \"Topic42\", \"Topic42\", \"Topic42\", \"Topic42\", \"Topic43\", \"Topic43\", \"Topic43\", \"Topic43\", \"Topic43\", \"Topic43\", \"Topic43\", \"Topic43\", \"Topic43\", \"Topic43\", \"Topic43\", \"Topic43\", \"Topic43\", \"Topic43\", \"Topic43\", \"Topic43\", \"Topic43\", \"Topic43\", \"Topic43\", \"Topic43\", \"Topic43\", \"Topic43\", \"Topic43\", \"Topic43\", \"Topic43\", \"Topic43\", \"Topic43\", \"Topic43\", \"Topic43\", \"Topic43\", \"Topic44\", \"Topic44\", \"Topic44\", \"Topic44\", \"Topic44\", \"Topic44\", \"Topic44\", \"Topic44\", \"Topic44\", \"Topic44\", \"Topic44\", \"Topic44\", \"Topic44\", \"Topic44\", \"Topic44\", \"Topic44\", \"Topic44\", \"Topic44\", \"Topic44\", \"Topic44\", \"Topic44\", \"Topic44\", \"Topic44\", \"Topic44\", \"Topic44\", \"Topic44\", \"Topic44\", \"Topic44\", \"Topic44\", \"Topic44\", \"Topic44\", \"Topic45\", \"Topic45\", \"Topic45\", \"Topic45\", \"Topic45\", \"Topic45\", \"Topic45\", \"Topic45\", \"Topic45\", \"Topic45\", \"Topic45\", \"Topic45\", \"Topic45\", \"Topic45\", \"Topic45\", \"Topic45\", \"Topic45\", \"Topic45\", \"Topic45\", \"Topic45\", \"Topic45\", \"Topic45\", \"Topic45\", \"Topic45\", \"Topic45\", \"Topic45\", \"Topic45\", \"Topic45\", \"Topic45\", \"Topic45\", \"Topic46\", \"Topic46\", \"Topic46\", \"Topic46\", \"Topic46\", \"Topic46\", \"Topic46\", \"Topic46\", \"Topic46\", \"Topic46\", \"Topic46\", \"Topic46\", \"Topic46\", \"Topic46\", \"Topic46\", \"Topic46\", \"Topic46\", \"Topic46\", \"Topic46\", \"Topic46\", \"Topic46\", \"Topic46\", \"Topic46\", \"Topic46\", \"Topic46\", \"Topic46\", \"Topic46\", \"Topic46\", \"Topic46\", \"Topic46\", \"Topic47\", \"Topic47\", \"Topic47\", \"Topic47\", \"Topic47\", \"Topic47\", \"Topic47\", \"Topic47\", \"Topic47\", \"Topic47\", \"Topic47\", \"Topic47\", \"Topic47\", \"Topic47\", \"Topic47\", \"Topic47\", \"Topic47\", \"Topic47\", \"Topic47\", \"Topic47\", \"Topic47\", \"Topic47\", \"Topic47\", \"Topic47\", \"Topic47\", \"Topic47\", \"Topic47\", \"Topic47\", \"Topic47\", \"Topic47\", \"Topic47\", \"Topic48\", \"Topic48\", \"Topic48\", \"Topic48\", \"Topic48\", \"Topic48\", \"Topic48\", \"Topic48\", \"Topic48\", \"Topic48\", \"Topic48\", \"Topic48\", \"Topic48\", \"Topic48\", \"Topic48\", \"Topic48\", \"Topic48\", \"Topic48\", \"Topic48\", \"Topic48\", \"Topic48\", \"Topic48\", \"Topic48\", \"Topic48\", \"Topic48\", \"Topic48\", \"Topic48\", \"Topic48\", \"Topic48\", \"Topic48\", \"Topic49\", \"Topic49\", \"Topic49\", \"Topic49\", \"Topic49\", \"Topic49\", \"Topic49\", \"Topic49\", \"Topic49\", \"Topic49\", \"Topic49\", \"Topic49\", \"Topic49\", \"Topic49\", \"Topic49\", \"Topic49\", \"Topic49\", \"Topic49\", \"Topic49\", \"Topic49\", \"Topic49\", \"Topic49\", \"Topic49\", \"Topic49\", \"Topic49\", \"Topic49\", \"Topic49\", \"Topic49\", \"Topic49\", \"Topic49\", \"Topic49\", \"Topic50\", \"Topic50\", \"Topic50\", \"Topic50\", \"Topic50\", \"Topic50\", \"Topic50\", \"Topic50\", \"Topic50\", \"Topic50\", \"Topic50\", \"Topic50\", \"Topic50\", \"Topic50\", \"Topic50\", \"Topic50\", \"Topic50\", \"Topic50\", \"Topic50\", \"Topic50\", \"Topic50\", \"Topic50\", \"Topic50\", \"Topic50\", \"Topic50\", \"Topic50\", \"Topic50\", \"Topic50\", \"Topic50\", \"Topic50\"], \"logprob\": [30.0, 29.0, 28.0, 27.0, 26.0, 25.0, 24.0, 23.0, 22.0, 21.0, 20.0, 19.0, 18.0, 17.0, 16.0, 15.0, 14.0, 13.0, 12.0, 11.0, 10.0, 9.0, 8.0, 7.0, 6.0, 5.0, 4.0, 3.0, 2.0, 1.0, -1.5684, -2.2324, -2.521, -2.6801, -3.3376, -3.356, -3.518, -3.8618, -3.9913, -4.0528, -4.1612, -4.2496, -4.2621, -4.4638, -4.4737, -4.5973, -4.6355, -4.7125, -4.7157, -4.7161, -4.7537, -4.7912, -4.8192, -4.8803, -4.938, -5.0039, -5.0967, -5.2714, -5.3103, -5.3129, -3.1153, -3.3897, -1.7627, -3.4726, -3.4942, -3.8864, -0.7593, -4.382, -4.3863, -4.4338, -4.5821, -4.6085, -4.7451, -4.8329, -4.955, -5.0624, -5.1705, -5.2748, -5.3107, -5.3107, -5.3107, -5.3107, -5.3107, -5.3107, -5.3157, -5.3993, -5.4038, -5.4275, -5.5565, -5.698, -5.8484, -5.8834, -0.6556, -2.409, -2.5225, -4.1175, -4.1384, -4.1764, -4.2444, -4.3697, -4.5662, -4.6461, -4.6806, -4.7142, -4.7294, -4.7475, -4.8948, -4.9207, -5.1239, -5.1239, -5.1239, -5.1239, -5.1284, -5.2431, -5.3177, -5.4484, -5.5112, -5.7043, -5.8971, -6.4718, -6.6209, -6.6618, -1.3917, -1.9354, -2.2804, -2.9516, -2.9594, -3.4189, -3.885, -4.1963, -4.215, -4.3027, -4.4033, -4.5147, -4.6006, -4.6006, -4.71, -4.8812, -4.9375, -4.9564, -4.9564, -4.9564, -4.9564, -4.9564, -5.0596, -5.1377, -5.1502, -5.1502, -5.1502, -5.1508, -5.4062, -5.5368, -1.9173, -2.0915, -2.6829, -2.722, -2.9233, -2.9244, -3.0098, -3.29, -3.7018, -3.7452, -3.9018, -4.1422, -4.1422, -4.5099, -4.5691, -4.5952, -4.6581, -4.897, -4.9681, -5.035, -5.0497, -5.0779, -5.14, -5.2395, -5.2625, -5.2714, -5.4341, -5.5857, -5.7182, -5.7246, -3.704, -1.7018, -2.6786, -2.8917, -3.2708, -3.2806, -3.4278, -3.704, -3.7802, -3.9473, -3.9958, -4.0242, -4.1235, -4.1284, -4.1869, -4.2287, -4.2784, -4.2815, -4.3568, -4.3726, -4.494, -4.4942, -4.5146, -4.5646, -4.5907, -4.6443, -4.6477, -4.7267, -4.7301, -4.7957, -4.8536, -1.5678, -2.8596, -3.1901, -3.2516, -3.5238, -3.7097, -3.747, -3.946, -4.0194, -4.2357, -4.2425, -4.2762, -4.3023, -4.4849, -4.5665, -4.5793, -4.6712, -4.8854, -4.8977, -4.9351, -4.9351, -5.0393, -5.0709, -5.1111, -5.1209, -5.1289, -5.1289, -5.2596, -5.3223, -5.5155, -1.5994, -1.0277, -1.992, -3.0386, -3.4474, -3.8244, -4.0521, -4.1389, -4.2339, -4.2791, -4.3809, -4.577, -4.5898, -4.7424, -4.7752, -4.8698, -4.9589, -4.961, -5.0296, -5.0315, -5.0452, -5.0584, -5.078, -5.1263, -5.2215, -5.295, -5.3324, -5.3469, -5.3469, -5.3469, -5.4624, -1.2349, -2.0905, -3.1527, -3.4151, -3.4778, -3.5107, -3.6454, -3.7792, -3.82, -4.0711, -4.2898, -4.3591, -4.3757, -4.4287, -4.6989, -4.7315, -4.8085, -4.8124, -4.821, -4.8886, -4.8985, -4.9054, -4.9407, -5.0915, -5.1097, -5.1741, -5.3574, -5.5201, -5.5988, -5.6654, -1.6135, -1.7092, -2.0839, -2.3053, -2.832, -3.1872, -3.9683, -4.1648, -4.2968, -4.3209, -4.5754, -4.6681, -4.6778, -4.702, -4.7656, -4.8956, -4.9117, -5.215, -5.3336, -5.3932, -5.4082, -5.97, -6.1756, -6.1756, -6.2458, -6.5486, -6.9285, -7.1128, -7.1128, -7.1128, -1.5585, -2.3339, -2.3743, -2.4308, -2.8455, -2.9253, -2.9695, -3.6448, -3.7752, -4.1803, -4.1843, -4.3598, -4.4922, -4.5191, -4.7213, -4.8292, -4.8647, -4.891, -4.9527, -5.1248, -5.2519, -5.3777, -5.4461, -5.5282, -5.9989, -5.4535, -5.8116, -6.2113, -6.2307, -6.2437, -1.4615, -2.2341, -2.3843, -2.5752, -2.6313, -3.2228, -3.4862, -3.5752, -3.7653, -3.8685, -4.1339, -4.3165, -4.5173, -4.5541, -4.6784, -4.8317, -4.8578, -4.9099, -5.2088, -5.2971, -5.2971, -5.2971, -5.2971, -5.3835, -5.4145, -5.416, -5.4581, -5.4754, -5.683, -5.683, -2.2732, -2.6248, -3.0565, -3.0692, -3.0725, -3.1294, -3.3913, -3.4942, -3.5346, -3.719, -3.9613, -4.0688, -4.0729, -4.1028, -4.1647, -2.4712, -4.2874, -4.367, -4.3866, -4.4195, -4.711, -4.7202, -4.9217, -5.0678, -5.1444, -5.3324, -5.6088, -5.7225, -5.7225, -5.9268, -2.4623, -2.1711, -2.3378, -2.7208, -2.8489, -2.9156, -3.0468, -3.1393, -3.1679, -3.3334, -3.5292, -3.8903, -3.9327, -4.131, -4.1896, -4.192, -4.1947, -4.4162, -4.4162, -4.4162, -4.4489, -4.482, -4.5689, -4.6241, -4.6305, -4.8399, -4.8438, -4.9658, -5.1461, -5.1637, -5.2457, -2.1556, -2.5565, -2.608, -2.7797, -2.8062, -2.8796, -2.8878, -3.0284, -3.3088, -3.398, -3.9482, -4.0823, -4.1126, -4.136, -4.1448, -4.1701, -4.2997, -4.549, -4.689, -4.8163, -4.9759, -5.0596, -5.2528, -5.2528, -5.2528, -5.2528, -5.4455, -5.4455, -5.8294, -5.8533, -2.5764, -3.0893, -3.1293, -3.2145, -3.4101, -3.5451, -3.625, -3.7082, -3.7715, -3.8061, -3.8229, -3.937, -3.971, -3.9839, -4.0869, -4.1682, -4.2011, -4.2439, -4.2499, -4.2528, -4.2851, -4.2929, -4.3415, -4.3688, -4.3929, -4.4079, -4.4675, -4.491, -4.5065, -4.522, -1.7968, -2.1043, -2.6282, -2.8146, -2.9989, -3.255, -3.433, -3.4501, -3.6617, -3.6838, -3.7756, -3.9479, -3.9651, -4.1167, -4.3626, -4.6863, -4.7183, -4.7183, -4.7183, -4.7902, -4.8002, -5.1752, -5.2736, -5.2987, -5.2987, -5.456, -5.4915, -5.4915, -5.5276, -6.0662, -3.7041, -2.0004, -2.0739, -2.7455, -2.8888, -3.2297, -3.2827, -3.2847, -3.2921, -3.3844, -3.3891, -3.4118, -3.4906, -3.8224, -3.8602, -4.1343, -4.6113, -4.6388, -4.8665, -4.8758, -4.9208, -4.9547, -5.1263, -5.1263, -5.2373, -5.2709, -5.4208, -5.585, -6.0838, -6.1748, -6.1748, -1.7509, -1.9397, -2.4538, -3.1059, -3.4205, -3.4731, -3.7309, -3.8221, -3.9313, -4.0682, -4.292, -4.3162, -4.3333, -4.3353, -4.3791, -4.5217, -4.7055, -4.8415, -4.9185, -5.0366, -5.0395, -5.2282, -5.2282, -5.2282, -5.2647, -5.3811, -5.3891, -5.4209, -5.4883, -5.5989, -3.0325, -1.7155, -2.419, -3.1714, -3.2213, -3.2928, -3.3053, -3.3116, -3.8023, -3.8789, -4.0883, -4.2541, -4.2748, -4.3476, -4.3585, -4.3748, -4.4171, -4.4174, -4.5895, -4.6031, -4.6272, -4.7458, -5.0145, -5.2076, -5.2076, -5.2218, -5.3381, -5.4003, -5.5187, -5.5926, -5.5926, -2.203, -2.0434, -2.2376, -2.7361, -2.7656, -2.856, -2.9706, -3.1171, -3.6547, -3.783, -3.8986, -3.9518, -3.9518, -3.9993, -4.1918, -4.2022, -4.2329, -4.2508, -4.2862, -4.3152, -4.3985, -4.6238, -4.7259, -4.735, -4.8672, -5.148, -5.2074, -5.2223, -5.2223, -5.6005, -5.6073, -0.9586, -2.5523, -2.9703, -3.3451, -3.4596, -3.4828, -3.7401, -4.3266, -4.3393, -4.3393, -4.3393, -4.4868, -4.6951, -4.7315, -4.7315, -4.7558, -4.8889, -4.8889, -5.2755, -5.2755, -5.2755, -5.343, -5.5044, -5.6456, -5.7276, -5.791, -5.8373, -5.8735, -5.8866, -6.0355, -3.7174, -1.6829, -2.501, -2.9793, -3.0589, -3.4243, -3.4346, -3.7429, -3.8961, -4.0739, -4.2382, -4.2389, -1.6809, -4.5137, -4.6232, -4.7305, -4.7305, -4.766, -4.8299, -4.9242, -4.9242, -4.9242, -5.2542, -5.3109, -5.3109, -5.5164, -5.5729, -5.6441, -5.6958, -5.8571, -5.922, -1.3507, -3.0598, -3.2922, -3.5039, -3.6879, -3.9197, -3.9644, -3.9728, -4.0705, -4.1104, -4.1591, -4.2336, -4.2639, -4.3459, -4.6197, -4.6197, -4.6815, -4.7843, -4.8135, -4.8135, -4.8135, -4.8135, -4.8165, -4.8554, -4.9015, -5.007, -5.0695, -5.2001, -5.2046, -5.361, -2.1699, -2.4859, -2.5549, -2.5878, -3.179, -3.3113, -3.3232, -3.4107, -3.4109, -3.5046, -3.6835, -3.7555, -4.0969, -4.1018, -4.1375, -4.1578, -4.2314, -4.3052, -4.4322, -4.6116, -4.8548, -5.0483, -5.0483, -5.2414, -5.2414, -5.2414, -5.2414, -5.2535, -5.3826, -5.4024, -5.4342, -3.03, -2.3405, -2.2648, -2.7064, -2.841, -2.9977, -3.1512, -3.3091, -3.3131, -3.3219, -3.361, -3.3993, -3.7091, -3.9087, -2.7017, -4.0716, -4.1641, -4.2169, -4.2352, -4.2352, -4.2854, -4.3751, -4.4372, -4.5865, -4.6608, -4.6833, -4.9782, -5.1197, -5.1197, -5.3641, -5.3641, -5.4314, -1.889, -2.2733, -2.2756, -2.6366, -3.1473, -4.1235, -4.1258, -1.9045, -4.2623, -4.3773, -4.4859, -4.618, -4.618, -4.6535, -4.6542, -4.7168, -4.7869, -4.7968, -4.8418, -4.9532, -5.0053, -5.2029, -5.5834, -5.9659, -4.2998, -6.1076, -6.1104, -6.1515, -6.1519, -6.156, -1.907, -2.6734, -2.7676, -3.0204, -3.1864, -3.2612, -3.5109, -3.6819, -3.9374, -3.9629, -4.064, -4.1199, -4.131, -4.1405, -4.1706, -4.2273, -4.2474, -4.2805, -4.2816, -4.3378, -4.493, -4.4962, -4.4962, -4.658, -4.69, -4.69, -4.69, -4.8835, -4.8835, -4.8835, -1.0747, -2.3741, -3.353, -3.4906, -3.5171, -3.6899, -3.9543, -4.1136, -4.1368, -4.1699, -4.3169, -4.4968, -4.5257, -4.5712, -4.6464, -4.7494, -4.8301, -4.9196, -5.1061, -5.2365, -5.2839, -5.2988, -5.4609, -5.4609, -5.474, -5.491, -5.6827, -5.7536, -5.8736, -6.0983, -2.827, -1.4474, -2.4814, -2.7822, -3.3391, -3.4091, -3.4551, -3.7464, -3.7536, -3.7723, -3.7071, -3.8103, -3.8576, -3.9922, -4.0879, -4.3343, -4.5821, -4.6168, -4.6797, -4.6797, -4.7974, -4.8882, -4.9695, -5.0663, -5.1818, -5.259, -5.259, -5.259, -5.4513, -5.4513, -5.4513, -1.8271, -2.0319, -2.0664, -2.8256, -2.9781, -3.4265, -3.625, -3.6707, -3.7226, -3.7561, -4.1446, -4.2504, -4.6459, -4.6459, -4.667, -4.9277, -5.0001, -5.0909, -5.0947, -5.2252, -5.2252, -5.5374, -5.5575, -5.5575, -5.6091, -5.633, -5.8151, -5.9162, -5.9417, -6.179, -1.3569, -2.2767, -2.3826, -2.5787, -2.6487, -3.6982, -3.8426, -3.8671, -3.9614, -4.1893, -4.2457, -4.3457, -4.4718, -4.7273, -4.7273, -4.7273, -5.4372, -5.4372, -5.5062, -5.5571, -5.5984, -6.0097, -6.1876, -6.1987, -6.5725, -6.5904, -6.7484, -6.7569, -6.7569, -6.7569, -1.759, -2.0677, -2.6888, -2.9179, -3.0256, -3.2802, -3.65, -3.7023, -3.7581, -3.9093, -4.2371, -4.2371, -4.2418, -4.335, -4.4566, -4.4668, -4.5661, -4.5745, -4.5928, -4.6961, -4.7114, -4.7306, -4.9801, -4.9801, -4.9801, -5.0665, -5.1732, -5.1732, -5.31, -5.366, -1.5785, -2.69, -3.1789, -3.3819, -3.4036, -3.6298, -3.6453, -3.6464, -3.8462, -4.0103, -4.0223, -4.1739, -4.2432, -4.3006, -4.346, -4.3975, -4.399, -4.4678, -4.4977, -4.5297, -4.5297, -4.5652, -4.6154, -4.7235, -4.7235, -4.7235, -4.7235, -4.7235, -4.917, -4.917, -2.1039, -2.3489, -3.0153, -3.27, -3.291, -3.3026, -3.3858, -3.5439, -3.5878, -3.6365, -3.6391, -3.6987, -3.7735, -4.2203, -4.2352, -4.4065, -4.4065, -4.559, -4.6003, -4.6003, -4.6003, -4.613, -4.7938, -4.7938, -4.7938, -4.7938, -4.7938, -4.7938, -4.7938, -4.8239, -1.7157, -2.2095, -2.5878, -3.4356, -3.456, -3.4573, -3.4616, -3.7057, -3.9174, -4.1043, -4.1137, -4.1366, -4.1505, -4.1505, -4.1505, -4.1505, -4.1505, -4.6942, -4.7, -4.7, -4.8935, -5.1489, -5.1561, -5.2794, -5.2794, -5.2794, -5.4095, -5.4664, -5.4716, -5.4716, -3.7887, -2.3111, -2.6497, -2.9771, -3.0875, -3.1506, -3.4332, -3.5477, -3.7741, -3.9029, -3.9662, -4.0214, -4.0405, -4.0897, -4.1062, -4.1225, -4.1396, -4.2177, -4.2856, -4.4362, -4.4619, -4.4664, -4.5317, -4.5317, -4.5572, -4.6336, -4.6557, -4.6557, -4.7748, -2.596, -4.8492, -1.8628, -2.3328, -2.7471, -3.3626, -3.3761, -3.4392, -3.4503, -3.6281, -3.6936, -3.8946, -4.0197, -4.0386, -4.1784, -4.2136, -4.2551, -4.2934, -4.3621, -4.5342, -4.5387, -4.6289, -4.713, -4.728, -4.728, -4.7977, -4.8151, -4.9215, -4.9215, -4.9215, -5.0822, -5.1146, -1.7577, -2.4113, -2.506, -3.1462, -3.1591, -3.1906, -3.4632, -3.5501, -3.8676, -3.9015, -4.0119, -4.0461, -4.3985, -4.446, -4.5388, -4.6277, -4.7575, -4.8333, -4.9752, -5.1475, -5.603, -5.603, -5.603, -5.603, -5.6562, -5.7253, -5.7939, -5.7939, -5.9021, -6.1729, -2.6711, -5.3057, -2.8385, -2.9066, -3.0804, -3.1024, -3.1383, -3.1412, -3.2863, -3.5462, -3.5537, -3.7141, -3.7404, -3.7828, -3.7916, -3.8652, -3.8672, -3.9418, -4.0331, -4.1214, -4.2739, -4.4346, -4.4659, -4.5697, -4.5918, -4.5918, -4.5918, -4.7095, -4.9187, -4.9784, -4.9784, -4.9784, -4.1293, -2.2678, -2.2737, -2.5857, -2.6333, -3.173, -3.3463, -3.5517, -3.5538, -3.6184, -3.7505, -3.7631, -4.1221, -4.1368, -4.1535, -4.2895, -4.3114, -4.3826, -4.4684, -4.4925, -4.4925, -4.6863, -4.8798, -4.9817, -5.045, -5.058, -5.073, -5.073, -5.073, -5.073, -5.073, -2.3976, -2.4874, -2.5589, -2.9014, -3.1111, -3.2458, -3.3737, -3.5085, -3.6817, -3.7269, -3.7624, -3.8045, -3.8289, -3.8857, -3.8983, -4.0221, -4.2528, -4.3356, -4.4541, -4.4648, -4.5071, -4.7204, -4.8514, -5.0441, -5.0441, -5.1732, -5.3035, -5.3714, -5.7271, -5.8089, -2.1994, -2.6038, -2.6462, -3.1011, -3.1169, -3.3088, -3.5343, -3.5479, -3.6291, -3.7829, -3.9205, -4.0125, -4.0475, -4.1448, -4.2613, -4.2689, -4.2763, -4.4098, -4.4813, -4.6636, -4.6636, -4.6636, -4.8245, -4.8567, -4.8567, -4.8567, -4.8567, -5.0, -5.0494, -5.0494, -2.8236, -2.8716, -3.2004, -3.4471, -3.4839, -3.5494, -3.6107, -3.6347, -3.6408, -3.7232, -3.7266, -3.8525, -3.8731, -3.8731, -3.91, -4.0272, -4.1078, -4.1082, -4.1537, -4.2288, -4.2288, -4.2341, -4.3128, -4.4365, -4.7377, -4.8083, -5.1942, -5.1942, -5.1942, -5.1942, -3.324, -1.8537, -2.1004, -2.9645, -3.0443, -3.294, -3.5466, -3.6932, -3.6975, -3.7945, -3.8132, -3.9363, -4.3402, -4.3833, -4.3833, -4.3833, -4.3833, -4.577, -4.577, -4.577, -4.577, -4.5929, -4.6199, -4.7705, -4.7705, -4.7705, -4.9523, -4.9637, -5.0312, -5.0927, -5.1415, -1.542, -2.2299, -3.2536, -3.3726, -3.406, -3.5255, -3.5356, -3.673, -3.6812, -3.7389, -3.813, -3.8618, -4.0021, -4.2616, -4.4204, -4.599, -4.6489, -4.9711, -5.0348, -5.0348, -5.0375, -5.1734, -5.3469, -5.4186, -5.4186, -5.6095, -5.6095, -5.8342, -5.9885, -5.9885, -2.0137, -2.5683, -2.9854, -3.2254, -3.245, -3.3276, -3.4244, -3.7316, -3.8341, -3.9334, -3.9705, -3.9853, -3.9853, -4.0679, -4.1599, -4.1835, -4.3103, -4.341, -4.4392, -4.4814, -4.5128, -4.6001, -4.6355, -4.9214, -5.0059, -5.1142, -5.1142, -5.1142, -5.1142, -5.1142, -4.2657, -2.032, -2.9375, -3.2017, -3.2719, -3.4541, -3.4741, -3.5975, -3.6141, -3.7901, -3.8217, -3.8589, -3.8682, -4.0608, -4.0648, -4.0831, -4.0843, -4.0977, -4.101, -4.1451, -4.1451, -4.1451, -4.1451, -4.1451, -4.3198, -4.3748, -4.4038, -4.6655, -4.6946, -4.6946, -4.7301, -2.2037, -2.6148, -2.9982, -3.2697, -3.3995, -3.5432, -3.7728, -3.7785, -3.9234, -3.9421, -3.9421, -3.9421, -3.9421, -3.9796, -4.0292, -4.0989, -4.1394, -4.1403, -4.2686, -4.2829, -4.4281, -4.4917, -4.5565, -4.6004, -4.6106, -4.6641, -4.6851, -4.9083, -5.071, -5.071, -3.9288, -1.9002, -2.8008, -3.0038, -3.2941, -3.4352, -2.0686, -3.7203, -3.8061, -3.9038, -4.0115, -4.1784, -4.1784, -4.1912, -4.2826, -4.3721, -4.5656, -4.5656, -4.6831, -4.7588, -4.7588, -4.7588, -5.0375, -5.1437, -5.1437, -5.2606, -5.3354, -5.3354, -5.3354, -5.6688, -5.7163], \"loglift\": [30.0, 29.0, 28.0, 27.0, 26.0, 25.0, 24.0, 23.0, 22.0, 21.0, 20.0, 19.0, 18.0, 17.0, 16.0, 15.0, 14.0, 13.0, 12.0, 11.0, 10.0, 9.0, 8.0, 7.0, 6.0, 5.0, 4.0, 3.0, 2.0, 1.0, 3.1706, 3.1644, 3.1602, 3.1573, 3.1392, 3.1385, 3.1318, 3.1138, 3.1053, 3.1009, 3.0926, 3.0851, 3.084, 3.0643, 3.0632, 3.0492, 3.0445, 3.0346, 3.0342, 3.0341, 3.029, 3.0238, 3.0198, 3.0106, 3.0015, 2.9906, 2.9742, 2.9398, 2.9314, 2.9308, 2.4817, 0.5843, 3.2867, 3.247, 3.246, 3.2229, 3.2147, 3.1789, 3.1784, 3.173, 3.1547, 3.1512, 3.1317, 3.118, 3.097, 3.0768, 3.0546, 3.0313, 3.0229, 3.0229, 3.0229, 3.0229, 3.0229, 3.0229, 3.0217, 3.001, 2.9999, 2.9937, 2.9585, 2.9159, 2.8659, 2.8535, 3.4553, 3.4387, 3.4364, 3.3527, 3.3506, 3.3466, 3.3392, 3.3243, 3.2973, 3.285, 3.2794, 3.2738, 3.2712, 3.2681, 3.2409, 3.2358, 3.1917, 3.1917, 3.1917, 3.1917, 3.1907, 3.1625, 3.1428, 3.1057, 3.0866, 3.0225, 2.95, 2.6802, 2.5967, 2.5729, 3.576, 3.5701, 3.5643, 3.5456, 3.5453, 3.5232, 3.4886, 3.4558, 3.4535, 3.4423, 3.4284, 3.4115, 3.3974, 3.3974, 3.3779, 3.3436, 3.3314, 3.3271, 3.3271, 3.3271, 3.3271, 3.3271, 3.3027, 3.283, 3.2797, 3.2797, 3.2797, 3.2796, 3.2059, 3.1629, 3.5812, 3.5785, 3.5652, 3.5641, 3.5572, 3.5572, 3.5539, 3.5408, 3.5142, 3.5107, 3.4971, 3.472, 3.472, 3.4217, 3.4121, 3.4077, 3.3966, 3.3491, 3.3332, 3.3174, 3.3138, 3.3068, 3.2908, 3.2638, 3.2572, 3.2547, 3.2049, 3.1534, 3.104, 3.1015, 1.8929, 3.5962, 3.5774, 3.5704, 3.5536, 3.5531, 3.5447, 3.5255, 3.5193, 3.504, 3.4991, 3.4961, 3.4852, 3.4846, 3.4776, 3.4725, 3.466, 3.4656, 3.4553, 3.4531, 3.4347, 3.4347, 3.4314, 3.4232, 3.4187, 3.4093, 3.4087, 3.394, 3.3933, 3.3803, 3.3683, 3.6839, 3.6554, 3.6404, 3.637, 3.6195, 3.6048, 3.6015, 3.5821, 3.574, 3.5468, 3.5459, 3.5412, 3.5374, 3.5086, 3.4943, 3.4919, 3.4744, 3.4282, 3.4253, 3.4163, 3.4163, 3.39, 3.3816, 3.3706, 3.3679, 3.3656, 3.3656, 3.3272, 3.3075, 3.2413, 2.5354, 3.6948, 3.6844, 3.654, 3.6309, 3.6004, 3.5761, 3.5655, 3.5529, 3.5466, 3.5314, 3.4981, 3.4957, 3.4655, 3.4586, 3.4374, 3.416, 3.4155, 3.398, 3.3975, 3.3939, 3.3904, 3.3851, 3.3718, 3.3442, 3.3215, 3.3096, 3.3048, 3.3048, 3.3048, 3.2655, 3.7001, 3.6894, 3.6549, 3.6395, 3.6352, 3.6329, 3.6225, 3.6108, 3.607, 3.5799, 3.5509, 3.5406, 3.538, 3.5295, 3.48, 3.4733, 3.4567, 3.4558, 3.4539, 3.4383, 3.436, 3.4343, 3.4257, 3.3865, 3.3815, 3.3631, 3.3061, 3.2492, 3.2195, 3.1933, 3.7352, 3.734, 3.728, 3.7233, 3.7069, 3.6901, 3.6263, 3.6019, 3.583, 3.5793, 3.5354, 3.5171, 3.515, 3.51, 3.4962, 3.4658, 3.4619, 3.3775, 3.3393, 3.319, 3.3137, 3.0785, 2.9729, 2.9729, 2.9344, 2.7527, 2.4996, 2.3648, 2.3648, 2.3648, 3.7527, 3.7392, 3.7382, 3.7367, 3.7227, 3.7193, 3.7173, 3.6739, 3.662, 3.6145, 3.6139, 3.5874, 3.5647, 3.5598, 3.5192, 3.4947, 3.4862, 3.4798, 3.4641, 3.4166, 3.3775, 3.3354, 3.311, 3.2803, 3.0727, 3.0032, 2.9638, 2.961, 2.9502, 2.943, 3.7688, 3.7564, 3.7527, 3.7471, 3.7452, 3.7184, 3.7006, 3.6936, 3.6765, 3.6659, 3.6337, 3.6069, 3.5722, 3.5652, 3.5399, 3.5053, 3.4989, 3.4859, 3.401, 3.3723, 3.3723, 3.3723, 3.3723, 3.3425, 3.3315, 3.3309, 3.3155, 3.3091, 3.226, 3.226, 3.7604, 3.7504, 3.7324, 3.7317, 3.7316, 3.7285, 3.7123, 3.7048, 3.7017, 3.6857, 3.6602, 3.647, 3.6465, 3.6426, 3.6341, 3.6329, 3.6161, 3.6033, 3.6, 3.5944, 3.5374, 3.5354, 3.4873, 3.4477, 3.4252, 3.3646, 3.261, 3.2131, 3.2131, 3.1189, 1.6725, 3.7688, 3.7648, 3.7529, 3.7479, 3.745, 3.7387, 3.7338, 3.7322, 3.722, 3.7078, 3.6737, 3.6689, 3.6441, 3.6359, 3.6355, 3.6351, 3.6, 3.6, 3.6, 3.5943, 3.5883, 3.5718, 3.5607, 3.5593, 3.5123, 3.5114, 3.4803, 3.4289, 3.4235, 3.3976, 3.855, 3.8436, 3.8417, 3.835, 3.8338, 3.8305, 3.8301, 3.823, 3.8056, 3.799, 3.7444, 3.7265, 3.7222, 3.7188, 3.7175, 3.7137, 3.6928, 3.6459, 3.6152, 3.5843, 3.5411, 3.5164, 3.4536, 3.4536, 3.4536, 3.4536, 3.3826, 3.3826, 3.2146, 3.2029, 3.8498, 3.8264, 3.8241, 3.8188, 3.8048, 3.7936, 3.7864, 3.7782, 3.7715, 3.7677, 3.7658, 3.7523, 3.748, 3.7463, 3.7322, 3.7203, 3.7152, 3.7083, 3.7073, 3.7069, 3.7015, 3.7002, 3.6918, 3.6869, 3.6825, 3.6798, 3.6684, 3.6638, 3.6606, 3.6575, 3.8778, 3.8718, 3.8564, 3.8487, 3.8397, 3.8242, 3.811, 3.8096, 3.7905, 3.7883, 3.7787, 3.7583, 3.7561, 3.7351, 3.6948, 3.6279, 3.6203, 3.6203, 3.6203, 3.6026, 3.6, 3.4901, 3.4563, 3.4473, 3.4473, 3.3877, 3.3734, 3.3734, 3.3586, 3.0992, 0.4307, 3.8758, 3.8742, 3.8535, 3.847, 3.8276, 3.824, 3.8239, 3.8234, 3.8166, 3.8162, 3.8145, 3.808, 3.7753, 3.7709, 3.7345, 3.647, 3.6409, 3.5848, 3.5823, 3.57, 3.5605, 3.5084, 3.5084, 3.4714, 3.4596, 3.404, 3.3369, 3.0923, 3.041, 3.041, 3.8992, 3.8958, 3.8827, 3.8534, 3.8313, 3.8269, 3.8023, 3.7921, 3.7788, 3.7602, 3.7247, 3.7205, 3.7174, 3.7171, 3.709, 3.6808, 3.6395, 3.6049, 3.5838, 3.549, 3.5481, 3.4862, 3.4862, 3.4862, 3.4733, 3.4301, 3.427, 3.4146, 3.3875, 3.3406, 1.1023, 3.9158, 3.8996, 3.8645, 3.8612, 3.8561, 3.8552, 3.8548, 3.8088, 3.7996, 3.7712, 3.7447, 3.7412, 3.7282, 3.7261, 3.7231, 3.715, 3.7149, 3.6789, 3.6759, 3.6704, 3.6418, 3.5671, 3.504, 3.504, 3.499, 3.4566, 3.4326, 3.3844, 3.3526, 3.3526, 1.9318, 3.9177, 3.9129, 3.8957, 3.8944, 3.8901, 3.8842, 3.8757, 3.8322, 3.8183, 3.8043, 3.7974, 3.7974, 3.791, 3.762, 3.7603, 3.7551, 3.7521, 3.7459, 3.7407, 3.7252, 3.6774, 3.6529, 3.6506, 3.6157, 3.5297, 3.5093, 3.504, 3.504, 3.3535, 3.3505, 3.9358, 3.9061, 3.8873, 3.8628, 3.8534, 3.8514, 3.8259, 3.7412, 3.7388, 3.7388, 3.7388, 3.7098, 3.6627, 3.6537, 3.6537, 3.6475, 3.6117, 3.6117, 3.4866, 3.4866, 3.4866, 3.4613, 3.3965, 3.3345, 3.2963, 3.2656, 3.2425, 3.2241, 3.2174, 3.1378, 2.6249, 3.9289, 3.9092, 3.888, 3.8834, 3.8575, 3.8567, 3.8267, 3.8084, 3.7839, 3.7577, 3.7576, 3.7088, 3.705, 3.6807, 3.6547, 3.6547, 3.6457, 3.6288, 3.6023, 3.6023, 3.6023, 3.4949, 3.474, 3.474, 3.3918, 3.3675, 3.3356, 3.3117, 3.2328, 3.1992, 3.9555, 3.9046, 3.8888, 3.8712, 3.8529, 3.8251, 3.819, 3.8179, 3.8038, 3.7976, 3.7899, 3.7774, 3.7721, 3.7571, 3.6991, 3.6991, 3.6842, 3.6579, 3.65, 3.65, 3.65, 3.65, 3.6492, 3.6385, 3.6253, 3.5936, 3.5737, 3.5293, 3.5277, 3.4693, 1.9649, 3.9441, 3.9416, 3.9403, 3.9091, 3.8995, 3.8985, 3.8914, 3.8913, 3.883, 3.865, 3.8569, 3.8107, 3.8099, 3.8043, 3.801, 3.7885, 3.7752, 3.7504, 3.7108, 3.6478, 3.5892, 3.5892, 3.5225, 3.5225, 3.5225, 3.5225, 3.518, 3.4682, 3.4603, 3.4473, 2.3597, 1.7943, 3.9614, 3.9455, 3.9391, 3.9306, 3.9209, 3.9094, 3.9091, 3.9084, 3.9052, 3.902, 3.8716, 3.8471, 3.837, 3.8237, 3.8089, 3.7999, 3.7967, 3.7967, 3.7876, 3.7705, 3.758, 3.725, 3.7072, 3.7016, 3.6189, 3.5728, 3.5728, 3.4824, 3.4824, 3.455, 3.999, 3.9893, 3.9893, 3.9762, 3.9481, 3.8397, 3.8393, 3.8208, 3.8154, 3.7931, 3.7701, 3.7393, 3.7393, 3.7305, 3.7304, 3.7142, 3.6953, 3.6925, 3.6798, 3.6464, 3.6298, 3.5617, 3.4045, 3.2104, 3.1925, 3.1293, 3.1277, 3.1032, 3.103, 3.1005, 4.0093, 3.9851, 3.9807, 3.9667, 3.9556, 3.95, 3.9282, 3.9102, 3.8777, 3.874, 3.8587, 3.8497, 3.8478, 3.8462, 3.8411, 3.831, 3.8274, 3.8212, 3.821, 3.8101, 3.7774, 3.7767, 3.7767, 3.7381, 3.7298, 3.7298, 3.7298, 3.6759, 3.6759, 3.6759, 4.0362, 4.0111, 3.9562, 3.9436, 3.941, 3.9224, 3.8879, 3.863, 3.8591, 3.8534, 3.8261, 3.788, 3.7813, 3.7705, 3.7519, 3.7247, 3.7019, 3.675, 3.6134, 3.5657, 3.5474, 3.5415, 3.4741, 3.4741, 3.4684, 3.4609, 3.3715, 3.336, 3.2733, 3.1462, 1.3078, 4.0385, 4.0137, 4.0005, 3.9635, 3.9574, 3.9531, 3.9216, 3.9208, 3.9184, 3.9174, 3.9136, 3.9073, 3.8881, 3.873, 3.8281, 3.7731, 3.7646, 3.7485, 3.7485, 3.7163, 3.6895, 3.664, 3.6318, 3.5907, 3.5614, 3.5614, 3.5614, 3.4824, 3.4824, 3.4824, 4.0332, 4.0287, 4.0278, 3.9994, 3.9907, 3.9569, 3.9369, 3.9317, 3.9256, 3.9215, 3.8645, 3.8455, 3.7583, 3.7583, 3.7528, 3.6783, 3.6551, 3.6243, 3.623, 3.5754, 3.5754, 3.445, 3.4358, 3.4358, 3.4117, 3.4003, 3.3088, 3.2544, 3.2403, 3.1014, 4.0411, 4.0222, 4.0187, 4.0113, 4.0082, 3.9288, 3.9106, 3.9073, 3.894, 3.8568, 3.8465, 3.827, 3.8001, 3.7369, 3.7369, 3.7369, 3.4894, 3.4894, 3.459, 3.4359, 3.4167, 3.2018, 3.096, 3.0891, 2.8418, 2.8292, 2.7151, 2.7088, 2.7088, 2.7088, 4.0409, 4.034, 4.0122, 4.0002, 3.9936, 3.9752, 3.9395, 3.9334, 3.9266, 3.9064, 3.8527, 3.8527, 3.8518, 3.8336, 3.8077, 3.8054, 3.7822, 3.7802, 3.7757, 3.7491, 3.745, 3.7398, 3.665, 3.665, 3.665, 3.636, 3.5978, 3.5978, 3.545, 3.5221, 4.0462, 4.0143, 3.9853, 3.9687, 3.9668, 3.9439, 3.9422, 3.942, 3.9173, 3.8935, 3.8916, 3.8663, 3.8536, 3.8425, 3.8334, 3.8226, 3.8223, 3.8072, 3.8004, 3.793, 3.793, 3.7845, 3.7721, 3.7437, 3.7437, 3.7437, 3.7437, 3.7437, 3.6871, 3.6871, 4.0482, 4.0408, 4.009, 3.9905, 3.9888, 3.9878, 3.9806, 3.9652, 3.9605, 3.9551, 3.9548, 3.9478, 3.9386, 3.869, 3.8662, 3.8315, 3.8315, 3.7965, 3.7863, 3.7863, 3.7863, 3.7831, 3.7341, 3.7341, 3.7341, 3.7341, 3.7341, 3.7341, 3.7341, 3.7253, 4.0721, 4.0603, 4.0464, 3.9898, 3.9878, 3.9877, 3.9873, 3.9604, 3.9319, 3.9022, 3.9005, 3.8965, 3.8941, 3.8941, 3.8941, 3.8941, 3.8941, 3.7726, 3.771, 3.771, 3.7142, 3.6267, 3.624, 3.5763, 3.5763, 3.5763, 3.5219, 3.4968, 3.4944, 3.4944, 0.3461, 4.0677, 4.0542, 4.0363, 4.0289, 4.0243, 4.0001, 3.9884, 3.9615, 3.9436, 3.9341, 3.9253, 3.9222, 3.9139, 3.9111, 3.9082, 3.9052, 3.8908, 3.8775, 3.8453, 3.8394, 3.8384, 3.8229, 3.8229, 3.8166, 3.7971, 3.7912, 3.7912, 3.758, 3.7462, 3.7358, 4.0832, 4.0702, 4.0525, 4.0096, 4.0084, 4.0024, 4.0013, 3.9822, 3.9744, 3.9475, 3.9282, 3.9251, 3.9006, 3.894, 3.8859, 3.8783, 3.8639, 3.8244, 3.8233, 3.8004, 3.7776, 3.7734, 3.7734, 3.7532, 3.748, 3.7148, 3.7148, 3.7148, 3.66, 3.6482, 4.096, 4.0778, 4.074, 4.0377, 4.0367, 4.0342, 4.0099, 4.0008, 3.9608, 3.9559, 3.9387, 3.9331, 3.8648, 3.854, 3.8318, 3.8091, 3.7731, 3.7504, 3.7048, 3.6433, 3.4466, 3.4466, 3.4466, 3.4466, 3.4203, 3.385, 3.3488, 3.3488, 3.2894, 3.1282, 2.9258, 2.7052, 4.0758, 4.0718, 4.0602, 4.0586, 4.0559, 4.0556, 4.0438, 4.0182, 4.0173, 3.9982, 3.9948, 3.9891, 3.9879, 3.9775, 3.9772, 3.9659, 3.9512, 3.9358, 3.9064, 3.8714, 3.864, 3.8384, 3.8327, 3.8327, 3.8327, 3.8006, 3.7365, 3.7164, 3.7164, 3.7164, 3.363, 4.1127, 4.1125, 4.1001, 4.0979, 4.064, 4.049, 4.0279, 4.0277, 4.0202, 4.0035, 4.0018, 3.945, 3.9423, 3.9392, 3.9122, 3.9076, 3.892, 3.872, 3.8662, 3.8662, 3.8151, 3.7565, 3.7224, 3.7001, 3.6954, 3.6899, 3.6899, 3.6899, 3.6899, 3.6899, 4.1195, 4.1159, 4.1128, 4.0945, 4.0801, 4.0692, 4.0575, 4.0437, 4.0233, 4.0175, 4.0127, 4.0069, 4.0034, 3.995, 3.9931, 3.9732, 3.9301, 3.9126, 3.8855, 3.8829, 3.8725, 3.815, 3.7751, 3.7095, 3.7095, 3.6609, 3.6077, 3.5783, 3.4059, 3.3618, 4.1646, 4.1481, 4.146, 4.1171, 4.1158, 4.0992, 4.0756, 4.0741, 4.0642, 4.0436, 4.0226, 4.0072, 4.001, 3.9829, 3.9592, 3.9576, 3.956, 3.9258, 3.9082, 3.8591, 3.8591, 3.8591, 3.8101, 3.7996, 3.7996, 3.7996, 3.7996, 3.7502, 3.7321, 3.7321, 4.1492, 4.1469, 4.1224, 4.0984, 4.0944, 4.0868, 4.0794, 4.0763, 4.0756, 4.0646, 4.0641, 4.0458, 4.0426, 4.0426, 4.0367, 4.0168, 4.0019, 4.0019, 3.9931, 3.9778, 3.9778, 3.9767, 3.9596, 3.9305, 3.8476, 3.8254, 3.6846, 3.6846, 3.6846, 3.6846, 2.4013, 4.1913, 4.1846, 4.1432, 4.1374, 4.1162, 4.0893, 4.0707, 4.0701, 4.0564, 4.0537, 4.0342, 3.9548, 3.9448, 3.9448, 3.9448, 3.9448, 3.8953, 3.8953, 3.8953, 3.8953, 3.8909, 3.8833, 3.8384, 3.8384, 3.8384, 3.7776, 3.7735, 3.7489, 3.7255, 3.7063, 4.2057, 4.1881, 4.1274, 4.1159, 4.1124, 4.0991, 4.0979, 4.0807, 4.0796, 4.0716, 4.0608, 4.0533, 4.03, 3.9791, 3.9424, 3.8956, 3.8814, 3.7768, 3.7534, 3.7534, 3.7524, 3.6991, 3.6246, 3.5916, 3.5916, 3.4977, 3.4977, 3.3754, 3.2843, 3.2843, 4.2014, 4.1804, 4.1554, 4.136, 4.1342, 4.1263, 4.1163, 4.0782, 4.0631, 4.0471, 4.0408, 4.0382, 4.0382, 4.0232, 4.0054, 4.0006, 3.9732, 3.9661, 3.9424, 3.9317, 3.9235, 3.8996, 3.8895, 3.7982, 3.7677, 3.7262, 3.7262, 3.7262, 3.7262, 3.7262, 2.1272, 4.2029, 4.1606, 4.1398, 4.1334, 4.1146, 4.1124, 4.0976, 4.0955, 4.0711, 4.0663, 4.0605, 4.0591, 4.0258, 4.025, 4.0216, 4.0213, 4.0188, 4.0181, 4.0095, 4.0095, 4.0095, 4.0095, 4.0095, 3.972, 3.9591, 3.9521, 3.8814, 3.8727, 3.8727, 3.8618, 4.2942, 4.275, 4.249, 4.2242, 4.21, 4.1923, 4.1589, 4.158, 4.1333, 4.1299, 4.1299, 4.1299, 4.1299, 4.1229, 4.1133, 4.0991, 4.0905, 4.0903, 4.0613, 4.0578, 4.0209, 4.0035, 3.9849, 3.9718, 3.9686, 3.952, 3.9453, 3.868, 3.8043, 3.8043, 2.1753, 4.4597, 4.4123, 4.3949, 4.3638, 4.3455, 4.3242, 4.3011, 4.2856, 4.2665, 4.2437, 4.2043, 4.2043, 4.2011, 4.1771, 4.152, 4.0921, 4.0921, 4.0517, 4.024, 4.024, 4.024, 3.9103, 3.862, 3.862, 3.8056, 3.7677, 3.7677, 3.7677, 3.5818, 3.5532]}, \"token.table\": {\"Topic\": [38, 17, 38, 10, 20, 44, 9, 48, 21, 5, 18, 25, 15, 15, 15, 37, 4, 44, 33, 42, 30, 28, 50, 45, 37, 34, 13, 9, 27, 46, 25, 39, 29, 32, 2, 20, 8, 26, 19, 23, 25, 25, 40, 5, 36, 33, 1, 40, 6, 16, 46, 50, 13, 6, 45, 47, 28, 41, 35, 31, 39, 9, 18, 42, 12, 34, 21, 11, 20, 38, 26, 37, 50, 31, 49, 9, 2, 38, 12, 21, 17, 31, 11, 34, 16, 34, 29, 12, 5, 49, 35, 3, 39, 34, 32, 35, 4, 29, 31, 10, 18, 50, 18, 42, 18, 26, 15, 21, 45, 18, 8, 26, 49, 49, 25, 38, 41, 3, 22, 16, 3, 3, 43, 1, 25, 44, 22, 18, 37, 21, 39, 17, 29, 28, 1, 26, 25, 36, 36, 5, 49, 5, 23, 20, 7, 5, 17, 17, 37, 17, 42, 14, 6, 28, 2, 38, 16, 8, 20, 36, 14, 15, 21, 36, 16, 18, 13, 19, 44, 7, 13, 48, 32, 30, 34, 33, 23, 25, 19, 11, 13, 20, 11, 27, 19, 19, 18, 29, 41, 21, 40, 3, 16, 44, 8, 20, 24, 4, 14, 8, 16, 42, 28, 41, 42, 37, 14, 33, 22, 45, 36, 10, 2, 11, 1, 45, 35, 47, 15, 14, 31, 9, 16, 7, 12, 44, 10, 22, 34, 11, 36, 39, 27, 39, 6, 41, 2, 40, 24, 16, 33, 46, 49, 16, 33, 19, 15, 30, 45, 35, 24, 49, 30, 7, 32, 45, 28, 49, 16, 39, 35, 1, 39, 6, 6, 6, 29, 28, 37, 6, 7, 47, 44, 46, 47, 44, 50, 26, 27, 49, 48, 21, 14, 3, 13, 48, 2, 26, 14, 16, 46, 8, 19, 39, 33, 6, 32, 24, 16, 23, 41, 25, 23, 42, 46, 20, 20, 25, 37, 40, 35, 30, 49, 23, 46, 36, 16, 27, 3, 31, 48, 36, 1, 17, 23, 20, 7, 47, 18, 31, 50, 15, 11, 44, 31, 42, 31, 44, 5, 18, 8, 47, 10, 3, 24, 1, 1, 27, 1, 12, 14, 50, 18, 7, 29, 43, 28, 43, 26, 35, 50, 35, 31, 30, 27, 41, 8, 15, 4, 46, 14, 46, 12, 11, 50, 44, 36, 10, 12, 14, 6, 41, 48, 1, 21, 4, 33, 25, 13, 46, 12, 15, 15, 10, 34, 48, 34, 22, 26, 45, 19, 29, 2, 31, 3, 28, 5, 6, 8, 14, 4, 40, 27, 13, 26, 2, 41, 5, 3, 17, 47, 11, 20, 1, 25, 45, 17, 44, 46, 48, 9, 35, 11, 26, 6, 22, 47, 4, 37, 28, 6, 12, 6, 47, 12, 14, 9, 21, 48, 47, 36, 38, 24, 19, 32, 4, 37, 6, 22, 37, 43, 47, 33, 47, 11, 6, 41, 22, 12, 1, 12, 43, 40, 15, 30, 45, 11, 35, 43, 16, 45, 6, 20, 9, 34, 21, 14, 35, 35, 26, 10, 5, 14, 41, 6, 12, 43, 40, 38, 8, 30, 43, 20, 19, 46, 34, 13, 36, 11, 29, 7, 5, 43, 50, 14, 37, 17, 9, 24, 17, 23, 1, 5, 1, 30, 23, 25, 1, 40, 34, 8, 50, 31, 40, 18, 13, 2, 33, 33, 5, 6, 32, 39, 45, 9, 15, 20, 25, 20, 29, 5, 43, 14, 39, 44, 35, 38, 25, 23, 28, 22, 9, 20, 19, 6, 37, 47, 10, 24, 22, 11, 33, 15, 4, 45, 24, 48, 43, 33, 46, 8, 16, 37, 27, 24, 41, 45, 48, 45, 25, 31, 8, 39, 34, 3, 13, 24, 24, 24, 17, 7, 44, 10, 1, 27, 7, 12, 50, 8, 30, 48, 33, 2, 38, 10, 41, 8, 22, 46, 4, 34, 8, 45, 11, 26, 5, 39, 9, 46, 24, 36, 31, 15, 47, 2, 1, 7, 49, 22, 2, 37, 40, 38, 1, 4, 39, 21, 36, 49, 10, 2, 42, 6, 2, 49, 11, 31, 31, 2, 7, 10, 43, 17, 49, 29, 36, 32, 42, 33, 22, 24, 5, 16, 29, 9, 8, 5, 13, 48, 8, 17, 13, 12, 50, 20, 19, 35, 50, 12, 3, 20, 38, 7, 7, 14, 32, 26, 30, 40, 34, 26, 9, 18, 4, 46, 43, 18, 50, 36, 4, 6, 19, 46, 46, 40, 12, 49, 46, 30, 14, 48, 22, 32, 5, 32, 41, 43, 48, 29, 6, 43, 18, 46, 28, 42, 37, 35, 39, 28, 38, 2, 29, 15, 42, 39, 21, 6, 30, 49, 7, 37, 34, 4, 23, 44, 5, 2, 50, 34, 23, 16, 40, 30, 19, 18, 49, 29, 3, 28, 10, 4, 26, 30, 11, 27, 24, 12, 11, 20, 27, 31, 38, 13, 41, 4, 21, 31, 42, 46, 43, 44, 44, 25, 23, 45, 12, 39, 28, 43, 28, 43, 28, 38, 21, 23, 12, 45, 28, 44, 38, 39, 43, 30, 23, 7, 11, 14, 35, 42, 20, 48, 30, 18, 50, 31, 37, 49, 7, 28, 26, 23, 33, 44, 31, 39, 5, 40, 44, 16, 32, 4, 4, 38, 25, 32, 21, 48, 3, 32, 40, 32, 9, 1, 42, 30, 26, 12, 20, 11, 47, 34, 31, 7, 41, 37, 39, 10, 21, 38, 27, 33, 20, 24, 25, 19, 19, 21, 33, 2, 35, 39, 46, 17, 7, 49, 18, 47, 37, 27, 10, 11, 36, 36, 36, 13, 49, 46, 12, 11, 26, 47, 41, 35, 22, 48, 15, 10, 12, 27, 30, 8, 15, 7, 34, 35, 35, 32, 26, 29, 9, 43, 1, 43, 2, 25, 27, 41, 38, 16, 38, 23, 40, 27, 38, 48, 46, 32, 16, 49, 38, 33, 23, 41, 46, 4, 7, 19, 9, 38, 30, 34, 27, 48, 39, 34, 27, 32, 22, 49, 41, 29, 37, 17, 14, 15, 18, 41, 44, 11, 35, 5, 1, 9, 47, 50, 38, 32, 6, 24, 2, 22, 13, 4, 4, 7, 30, 27, 25, 18, 2, 40, 24, 44, 13, 26, 10, 36, 25, 39, 9, 35, 3, 4, 48, 21, 36, 49, 15, 17, 43, 48, 7, 29, 5, 42, 14, 24, 1, 2, 48, 44, 11, 23, 23, 27, 23, 2, 11, 33, 41, 18, 42, 7, 20, 15, 3, 34, 22, 42, 31, 22, 31, 4, 27, 41, 12, 42, 1, 43, 18, 45, 35, 45, 23, 25, 31, 34, 17, 43, 22, 8, 24, 48, 37, 28, 47, 34, 9, 48, 19, 1, 5, 39, 4, 45, 40, 11, 22, 16, 23, 9, 10, 18, 5, 21, 3, 33, 49, 22, 47, 13, 40, 6, 5, 3, 33, 40, 38, 13, 21, 30, 13, 17, 26, 28, 13, 3, 44, 21, 1, 23, 6, 23, 6, 17, 44, 42, 19, 20, 23, 41, 26, 20, 46, 50, 19, 29, 4, 9, 12, 17, 13, 49, 15, 2, 2, 10, 14, 38, 1, 42, 30, 24, 32, 2, 40, 44, 19, 8, 47, 44, 46, 33, 29, 13, 49, 41, 45, 50, 27, 40, 9, 5, 26, 6, 28, 50, 48, 44, 3, 3, 27, 28, 17, 43, 16, 34, 19, 21, 25, 30, 15, 27, 44, 9, 36, 15, 3, 4, 50, 33, 21, 6, 13, 31, 43, 30, 10, 24, 22, 30, 2, 12, 3, 22, 28, 13, 24, 29, 29, 29, 39, 45, 40, 41, 39, 13, 46, 41, 17, 24, 34, 31, 1, 35, 18, 50, 23, 47, 32, 50, 24, 14, 5, 19, 28, 25, 39, 9, 30, 47, 47, 40, 32, 25, 39, 33, 11, 2, 10, 45, 18, 14, 5, 42, 37, 12, 24, 49, 25, 37, 2, 13, 21, 32, 41, 21, 36, 50, 26, 24, 42, 16, 46, 33, 17, 25, 28, 38, 7, 26, 13, 18, 38, 4, 25, 8, 10, 49, 31, 50, 7, 48, 44, 26, 17, 40, 37, 34, 11, 48, 7, 22, 24, 42, 19, 34, 35, 37, 8, 10, 15, 22, 37, 27, 17, 23, 49, 37, 36, 15, 7, 14, 15, 9, 29, 1, 42, 19, 8, 46, 43, 5, 35, 5, 16, 3, 2, 38, 41, 7, 48, 36, 31, 18, 19, 32, 27, 47, 33, 21, 50, 44, 26, 4, 18, 27, 49, 4, 25, 9, 14, 50, 34, 47, 14, 36, 35, 33, 30, 40, 7, 13, 17, 19, 20, 24, 25, 29, 36, 37, 8, 42, 36, 28, 45, 40, 27, 11, 26, 12, 9, 20, 8, 29, 39, 15, 3, 15, 34, 22, 47, 9, 33, 19, 17, 25, 33, 17, 29, 42, 40, 29, 16, 17, 38, 23, 10, 36, 22, 42, 22, 8, 35, 31, 50, 40, 28, 28, 22, 43, 45, 16, 24, 18, 43, 20, 35, 45, 22, 15, 23, 20, 8, 43, 1, 28, 47, 3, 1, 21, 19, 16, 21, 27, 11, 9, 30, 37, 4, 45, 45, 30, 14, 7, 47, 31, 3, 29, 47, 6, 39, 48, 12, 21, 17, 13, 14, 50, 36, 12, 3, 44, 42, 3, 40, 19, 5, 26, 39, 16, 20, 16, 14, 1, 29, 8, 20, 8, 29, 3, 19, 36, 1, 1, 47, 41, 42, 45, 49, 13], \"Freq\": [0.8864600947638556, 0.9304882027567664, 0.7807116686401724, 0.7697900804182135, 0.8294089883234546, 0.4998682854073771, 0.7447939359917864, 0.905441559641164, 0.5409554271768566, 0.7866115492880043, 0.9428705102494792, 0.9002301148065749, 0.844178322693406, 0.8414391085737253, 0.8241527972699252, 0.733087635777389, 0.8148309724456688, 0.7656767409584714, 0.9641468416415973, 0.9403580386492951, 0.9218004425287819, 0.828323043076727, 0.6255372872596341, 0.8941734449428711, 0.8446847090018582, 0.6624023891459774, 0.9812531574350019, 0.8747048902641353, 0.7292743039726696, 0.8113412287120457, 0.8597390213039972, 0.6833940509929801, 0.852540383935961, 0.8173434568075895, 0.9402327006155404, 0.4595490919219107, 0.9267996568310908, 0.6100727084074801, 0.8749605891086166, 0.9370967802594208, 0.9692400153112116, 0.7570780143767831, 0.6347023370259914, 0.8327321652828611, 0.6649631064097321, 0.8878736092173496, 0.8082171965148677, 0.7571623276645766, 0.8905429276120965, 0.7924660483572142, 0.4565680384592416, 0.5675232850604781, 0.4953959410879215, 0.7774376014158346, 0.8645543130692759, 0.4810450695551757, 0.7220259278223095, 0.9507843328067841, 0.9812394669013028, 0.799406350846382, 0.6300974078146653, 0.7963701374008207, 0.47358557981902255, 0.7091783264799932, 0.4499556194943357, 0.8848188627115487, 0.8584022634672707, 0.6801037689270182, 0.7106701052227284, 0.7844406171241047, 0.9501390517284276, 0.8333754474100672, 0.6574732735702996, 0.9849904250815131, 0.45118261071212895, 0.9697820958922723, 0.9366995100904996, 0.7844406171241047, 0.9360460518805079, 0.8698905768288586, 0.857124323646652, 0.6317655775860195, 0.8985338119890229, 0.6624023891459774, 0.7269769613583019, 0.8998697028694744, 0.7205311850026397, 0.45485401465031955, 0.947771563805373, 0.7966436756243501, 0.611102043856811, 0.8538885181336874, 0.6091042918184831, 0.8598996000622333, 0.898149191001472, 0.8812889339315825, 0.894115299611433, 0.9363349222272561, 0.6219203009207008, 0.8545720125480857, 0.7832336473024953, 0.9101797397435326, 0.9575821409795131, 0.44107024496391245, 0.9704635789285375, 0.8444422464538829, 0.8976396047919026, 0.7997607001356952, 0.6658102295878976, 0.8613062923158957, 0.9044673472727162, 0.8130662524180187, 0.8923175069928253, 0.8923175069928253, 0.6862882543029712, 0.4360290713879581, 0.8677990169915225, 0.8587604198945838, 0.5110169279139766, 0.9200970621710384, 0.7135807583269201, 0.9019418017839783, 0.9637833319898471, 0.8635687046664544, 0.9501003447656172, 0.7688469780020014, 0.9775673885647646, 0.7832336473024953, 0.9655461286215853, 0.9253699419091793, 0.6425426627989995, 0.9817085801870719, 0.4630211282987553, 0.8802607488561276, 0.09628591488756456, 0.8665732339880811, 0.5011872492974044, 0.4884448174929936, 0.5454538259923117, 0.9721469393644198, 0.7755442011467107, 0.8877471765593794, 0.9268846668842349, 0.8437388454977153, 0.9837153125135178, 0.9104008675777369, 0.4929821711607541, 0.665805826465953, 0.649129808760104, 0.9092751139400038, 0.7981734954170329, 0.7899128083780442, 0.7426300048511395, 0.943226731800552, 0.9176878591894444, 0.9667760512016346, 0.7975131110691889, 0.7867723907001588, 0.823158019889168, 0.8357438618633071, 0.9243741978150064, 0.9240604864620529, 0.8415367814536969, 0.9348466041961463, 0.8662384846534443, 0.9377098526740963, 0.9407720042617295, 0.8481644862143662, 0.8676837861243789, 0.9413347010517319, 0.9672294629693493, 0.823717110742459, 0.5243429485057256, 0.5280505270300745, 0.8199139807652244, 0.9002651062480941, 0.793579613437538, 0.1983949033593845, 0.8443600408238215, 0.9422164483778682, 0.9156901598280799, 0.5121630369760509, 0.7133832787213177, 0.6095816698596699, 0.8481644862143662, 0.873580836701061, 0.9102564240064664, 0.8452151170424989, 0.8987149232439424, 0.8077373844647514, 0.888389558277619, 0.7015025695865479, 0.9403212206398728, 0.9224452494504637, 0.9944161670524575, 0.8458269884327926, 0.7573943813390045, 0.8268734174946091, 0.9678397228244943, 0.6503554110407452, 0.9125246251395631, 0.47798603071585954, 0.9681974487512789, 0.44514988892155904, 0.5163338707388653, 0.7515557457571018, 0.8857150953816826, 0.934231103176595, 0.4448148117407898, 0.6867307018324994, 0.8927629116110799, 0.981355650399942, 0.6216371829248853, 0.8453783768118978, 0.9503730467089915, 0.8645543622519981, 0.907924341725254, 0.8268593307028603, 0.9418382026230001, 0.7529394216303039, 0.6692532392061549, 0.7616753098503996, 0.7360755308526403, 0.7465719208239248, 0.9694847323936031, 0.8394839318282707, 0.8304661784084231, 0.6214463947178431, 0.6624023891459774, 0.6703937334870673, 0.6649631064097321, 0.8102776435867601, 0.7835570676664071, 0.8195215948752811, 0.9659051284920579, 0.9071870704054411, 0.9881139078156319, 0.8317878600928983, 0.7899266365518176, 0.8693999715677992, 0.6553186766258858, 0.6808434650117224, 0.8428632348838144, 0.9488615707559119, 0.648012878184454, 0.86136652592057, 0.8798947538608636, 0.7984576174167993, 0.7632594775855418, 0.611102043856811, 0.8565818867676162, 0.7409897513658856, 0.8937235822827214, 0.8249978268305818, 0.8283239424160038, 0.8645542147038483, 0.7263603823796908, 0.878762139902572, 0.9474134806237205, 0.9533562981428714, 0.719017883855516, 0.8059916162391031, 0.9272978344099826, 0.9699796071826737, 0.8994778775185873, 0.7733704919394387, 0.5378004989729446, 0.9047187068849925, 0.9848092556467039, 0.8202559668760562, 0.9403998294408469, 0.8926101548534588, 0.7211789024515676, 0.43855557463674, 0.4810450695551757, 0.7825001353346669, 0.8014479534141623, 0.8969999183794176, 0.8018524420313892, 0.9199691969313287, 0.7660906118111426, 0.9479634904090183, 0.6485498591019552, 0.48425110787772735, 0.9416718872004385, 0.9266268485100705, 0.8457946447106242, 0.8082274713534231, 0.9674741777139946, 0.8246096529360047, 0.7055550811939305, 0.766719382229895, 0.5311767164717395, 0.5929552859474885, 0.9889275200107044, 0.9885498029755019, 0.9848550913609342, 0.9151973555659177, 0.9128966331968317, 0.43907104738064856, 0.8116157429138907, 0.9174156477705949, 0.8274379065670493, 0.9424122645264769, 0.8557000481168031, 0.8863531685158799, 0.8442390538279185, 0.4456082599790366, 0.841795003526515, 0.7964386560339395, 0.9189082962941836, 0.9208093072134421, 0.876024489605462, 0.7029141907235289, 0.49675376224189033, 0.5268602314694223, 0.9064205805141854, 0.6098805895408552, 0.6568968267478511, 0.9138768707044943, 0.7268634642113388, 0.6621599358416758, 0.8835641181118148, 0.9747001766261769, 0.53160493027228, 0.8145340645337362, 0.8601935145774701, 0.7346745344827393, 0.9382211156268896, 0.8379674493008678, 0.7250466835303013, 0.9214928337260072, 0.32774774738323253, 0.32774774738323253, 0.9615532781274082, 0.9211961845957463, 0.8761853316322884, 0.9136018548497215, 0.7025787223975761, 0.9363940728442648, 0.9084631146305829, 0.642253840109505, 0.9820296507189037, 0.8538885181336874, 0.915290899043794, 0.9790013902283877, 0.9684997715974563, 0.933367413173381, 0.8905798860926243, 0.7747632585363026, 0.9787926220060167, 0.7387972777249673, 0.6564392315256642, 0.7793945337985916, 0.5326851751321053, 0.7764454331607484, 0.8948130041221541, 0.4535375424315297, 0.9537098927670075, 0.611102043856811, 0.6146145873477806, 0.8918332463604804, 0.8369175045934126, 0.8883780365282651, 0.5574828449796468, 0.4372907866991218, 0.8597798079754613, 0.9791176488732968, 0.7712790505549987, 0.8942486573562052, 0.7377675227353818, 0.9814922029911753, 0.8897172322152754, 0.8845417276493015, 0.8037629672097175, 0.8177235437800645, 0.7623435074660345, 0.9457349177128886, 0.6167790331563161, 0.7168509343020554, 0.9810769236189947, 0.8880324059473739, 0.7720836023744664, 0.9306537184481815, 0.6729246180694991, 0.6384813964597053, 0.8112008341171116, 0.9251586182535287, 0.7338390654772865, 0.914899899220187, 0.5151968726574403, 0.9639896679107577, 0.756802852512158, 0.603211662196079, 0.7595737803548239, 0.6996683879344048, 0.8643977562455366, 0.9949962889174253, 0.90284088391038, 0.45288101944954723, 0.4983753101161731, 0.7067426640993562, 0.7799706367475749, 0.5544165595823093, 0.917131557305143, 0.9192593096463787, 0.8148887732004908, 0.8760814148397461, 0.8950793133187012, 0.9417174933035258, 0.8042945241970031, 0.6347023370259914, 0.9241462558465277, 0.9318228199967852, 0.9290151965650519, 0.6326374621655717, 0.9482016327802998, 0.6981507878794384, 0.8213190800860264, 0.9424851713312341, 0.9364763834059744, 0.9491559129938684, 0.5341794738086074, 0.7691613359850361, 0.9298584282334991, 0.8365030028066672, 0.8949798972057049, 0.4998682854073771, 0.5701112089271713, 0.9162265687883524, 0.8118654281130953, 0.703830171109457, 0.9459275817106133, 0.8572474411780849, 0.9272602145347218, 0.4448148117407898, 0.8466507364799006, 0.9369145692227596, 0.7451985430970204, 0.8161079775017679, 0.7732595738413399, 0.9502537610555943, 0.9798920543971521, 0.7018678858908618, 0.9739597976163333, 0.8669479582035224, 0.9877730034318605, 0.7047362807088805, 0.8596523442959092, 0.4810450695551757, 0.953385968661327, 0.6854330898081943, 0.6599721229546495, 0.9277842407806267, 0.9847731948787722, 0.9861825117271428, 0.8878358853700838, 0.9593449022816994, 0.2769081687753575, 0.7120495768509193, 0.8710825225938698, 0.87686094667794, 0.8176086313241294, 0.9503806424887482, 0.8789827120267095, 0.704566243528768, 0.8395494372326043, 0.4448148117407898, 0.8722725566611499, 0.808504233547463, 0.81088378662309, 0.8003493372667261, 0.8317878600928983, 0.6197338181751524, 0.6370351507347352, 0.8196780487730084, 0.7876986352212041, 0.9389625862740131, 0.7856448015886384, 0.7636492323979825, 0.4846153892713877, 0.8784845381242757, 0.4774764745185181, 0.8197621796303269, 0.8193065647853349, 0.909797388902854, 0.8288397176795804, 0.8298260948684214, 0.703830171109457, 0.9240523822321739, 0.6546474746304711, 0.4723577852328031, 0.9395973266167966, 0.4409559648364885, 0.8718726512489666, 0.81088378662309, 0.9305957614486009, 0.8317878600928983, 0.9246546756794083, 0.659740209675201, 0.5280505270300745, 0.8003493372667261, 0.9909492094642207, 0.9770949684847795, 0.7412365740415136, 0.7185518358002209, 0.931789566111585, 0.8681889224199283, 0.9632842700757306, 0.8864478039100347, 0.9564468184251586, 0.8468218855693777, 0.7075867328560328, 0.8335490191804388, 0.8755045522731786, 0.7967622714226196, 0.6194930273885526, 0.8701407534461876, 0.8358492517667557, 0.8075798794412958, 0.5529439682410101, 0.9604974481598474, 0.8468240796421773, 0.7930503246390563, 0.8344989001008944, 0.6369841386395735, 0.8470621335485669, 0.9064624215692955, 0.8262382180661333, 0.8253216626682781, 0.6832128559813984, 0.9100777056946675, 0.5833795958478813, 0.9560961324297715, 0.6949613364965096, 0.8041440179580296, 0.7977992078917042, 0.8873014957876553, 0.48811245594050956, 0.47422642893578043, 0.9237818989304912, 0.6604219954235776, 0.8743094262240493, 0.9207523619222084, 0.9450386965644547, 0.8573449312571483, 0.9122795109294518, 0.4456082599790366, 0.9018572190604385, 0.8111527040735298, 0.8858017115833435, 0.8432617861989964, 0.8439566519307421, 0.9177848068698286, 0.7631558770423542, 0.8893761938102014, 0.7290853303582956, 0.7602152102271138, 0.9738104500062059, 0.9499111924925356, 0.5531887444135244, 0.4899059708610555, 0.9018435929065879, 0.9320208639637462, 0.960619436672328, 0.942254792473457, 0.6843187215139053, 0.8463296261633899, 0.4317594919583227, 0.6848985212546893, 0.9876523131417102, 0.9627048150300085, 0.9715253709796755, 0.9698949313711444, 0.9085390430171014, 0.646034364665878, 0.7268634642113388, 0.8725978931592416, 0.4488054741766388, 0.8712311046838912, 0.9342486642038672, 0.9218201707039961, 0.8448102117780963, 0.897412426956663, 0.9826804105558242, 0.9679686883738691, 0.7632594775855418, 0.9219351137086098, 0.8227528265299183, 0.8999145632070698, 0.4622674982110993, 0.7889221783784651, 0.9561856815743344, 0.8390430221499732, 0.7750212459493662, 0.9878664231416241, 0.6599721229546495, 0.9579901634852293, 0.8565818867676162, 0.8737373932345351, 0.8399796328096918, 0.7656767409584714, 0.8137341565121713, 0.9044405156129321, 0.8902809589442982, 0.8849922406889775, 0.43811158529721644, 0.8846410282072384, 0.8719049175988289, 0.7823081763732658, 0.9182210585498769, 0.7914006695996287, 0.6948447389620944, 0.6780979539592963, 0.8939303291940818, 0.9865079638790635, 0.8587881076496161, 0.8978386533139932, 0.6281229710733855, 0.7798076150939345, 0.9845332872212018, 0.9546155811820225, 0.6658102295878976, 0.9453018652524586, 0.8504275040230939, 0.9539600558111238, 0.8999208811110098, 0.898481104546804, 0.8574345119356311, 0.4762070269081436, 0.9770986935884285, 0.8964229021467884, 0.6962147682125365, 0.8500573711095539, 0.8693719416453428, 0.9145059538529366, 0.9694533086295685, 0.8800753834457249, 0.4640036215276886, 0.8693719416453428, 0.7073078085481184, 0.7458247146121063, 0.44512003880375234, 0.9951107422504863, 0.8876155727980193, 0.7903657525555684, 0.8359400370958554, 0.9565916965936886, 0.7798757476655718, 0.5922942374913124, 0.8726626287544633, 0.5366197701969365, 0.8038556357168655, 0.4337572151456717, 0.8923175768866315, 0.4425815496274287, 0.6219203009207008, 0.761029612007319, 0.9807863772900457, 0.8842287380532827, 0.8091453307123467, 0.9187182308440582, 0.9603362105229097, 0.8661611320693331, 0.9431505056966353, 0.45088399493152953, 0.9105827548662337, 0.8777248317235964, 0.8652148556402075, 0.6710328349852875, 0.6599721780800782, 0.9868424618487767, 0.8584544162414504, 0.617227471172597, 0.9363697965760289, 0.7966908370023709, 0.7965660905426161, 0.7539253464309091, 0.9279632548374833, 0.6040489171290281, 0.8737373932345351, 0.9387553696836468, 0.4376851294175331, 0.43284944817435056, 0.915711695921577, 0.6488238836525954, 0.7901299623007751, 0.6028880829710829, 0.7016623537859381, 0.8717553933604721, 0.8536738279990379, 0.739407887807046, 0.6527284652182376, 0.884992197309108, 0.8907883934633686, 0.7401904480192312, 0.4839897819298985, 0.9141684526464061, 0.9399247132331349, 0.9487840218308551, 0.5037266501786498, 0.9678597477993666, 0.926503336242752, 0.9066452972426753, 0.7922714138099513, 0.7002145916330449, 0.9868703963180859, 0.7012367105757752, 0.952246773113166, 0.8771519393205565, 0.8421874833651996, 0.4672018393855256, 0.9822554987131102, 0.45733239183810265, 0.8173768461040707, 0.9826002925769152, 0.7687632153136771, 0.8951376930666533, 0.8993356748853711, 0.836266163009661, 0.8696331159023375, 0.9399626067544375, 0.6971707123593963, 0.638793540642411, 0.7524287074727749, 0.8205269061249568, 0.9534219320291175, 0.9229009594529742, 0.5287906195922799, 0.8601796964701632, 0.7810746244130056, 0.9346705131540008, 0.6281229710733855, 0.6317822494113622, 0.8037963913112628, 0.9138019230861595, 0.9092077089563697, 0.5929552859474885, 0.6169427685683677, 0.7844406171241047, 0.8406263750287604, 0.8270002876089781, 0.8414391085737253, 0.8817020095611794, 0.4577682459522747, 0.8781609578508348, 0.8458341898976579, 0.4494414905469503, 0.713437106098194, 0.8646629816082854, 0.9096228996406628, 0.7761399855665698, 0.6381700831832997, 0.936254884863089, 0.9329465441056582, 0.4346710739162863, 0.8746715270163924, 0.848363078811201, 0.7595737803548239, 0.7749984602622078, 0.825531187119675, 0.8970091897507452, 0.6938958614937858, 0.8841003496588634, 0.9716439572435045, 0.8923174370990302, 0.8452923718032179, 0.8568066991194012, 0.9818041785197255, 0.9631370994585905, 0.8947374231236889, 0.7543387657520867, 0.4715305840622913, 0.779039371433991, 0.7561858613169171, 0.9204022567044037, 0.81088378662309, 0.9635202139516015, 0.8458270353311329, 0.677283160878019, 0.4622674982110993, 0.9374864493454222, 0.8488262147027255, 0.44514988892155904, 0.9937302986446962, 0.951148873309952, 0.850999058348279, 0.44107024496391245, 0.762765747086332, 0.4535375424315297, 0.8419344714010274, 0.9661250153906403, 0.44903052241781527, 0.6173463681292464, 0.43387746164430835, 0.8581474874699243, 0.9288451254555179, 0.9769262354012441, 0.6129282127903941, 0.8193664083370449, 0.7844678952307232, 0.7686079999381304, 0.7881733844390608, 0.9727069455051877, 0.9448303527825488, 0.7690564246572572, 0.9355128005680723, 0.9477644628361914, 0.7631558770423542, 0.7202321541633819, 0.5929552859474885, 0.9165698894532244, 0.7325521087603307, 0.4550702832546412, 0.6807521835281997, 0.9022649933138519, 0.8439566519307421, 0.6169283555135961, 0.9349528849920573, 0.949949182058812, 0.9034646108604465, 0.9912000349734996, 0.8433366448177062, 0.7383814856093985, 0.5605088699917044, 0.649129808760104, 0.7837733263991825, 0.9668367946930828, 0.9200880473539685, 0.4839897819298985, 0.6266180717471036, 0.9083018341248299, 0.4998682854073771, 0.5605088699917044, 0.8406346627205182, 0.9378687952520363, 0.8868692248865452, 0.8989217817391346, 0.7134104101769108, 0.5603491047928278, 0.8268734174946091, 0.8795542847661854, 0.8435929372037765, 0.9532609693429515, 0.9629287835979605, 0.8416644813273408, 0.7015666034336409, 0.6579986335329034, 0.6604219954235776, 0.9715472200482137, 0.7492408033275488, 0.9023595374318324, 0.9252905223026657, 0.606891839711419, 0.739787896589984, 0.8298205680555382, 0.9204929196462104, 0.903676719710512, 0.45077124648808914, 0.9754834681262423, 0.8675007034560702, 0.9022758630663421, 0.8916521447804192, 0.911033076780864, 0.6386580388562214, 0.6508525319180888, 0.7515013411784693, 0.8176326046407999, 0.8914046745254253, 0.9864015150091467, 0.7914006695996287, 0.9031370191002563, 0.4305175490541567, 0.7834007568731205, 0.7471643600590746, 0.8793289371430296, 0.6063629093872905, 0.8822770658029082, 0.7670699630117752, 0.9540132825159863, 0.9708199954111775, 0.8587660877622207, 0.8737373932345351, 0.8350705708403503, 0.7591259841823317, 0.4309784729844166, 0.8500573711095539, 0.8878358853700838, 0.6994377306358289, 0.9775671884938275, 0.4659245182783801, 0.9535467474691194, 0.8681889224199283, 0.8681889224199283, 0.6951871648134942, 0.6811984948015798, 0.5484367308256444, 0.9081072950494896, 0.7920645710550405, 0.9554632970162922, 0.8581261515355563, 0.7619509608213157, 0.8746490391561247, 0.6102621442196748, 0.8889671232460192, 0.8414391085737253, 0.8219265515904516, 0.7639622201283094, 0.8044398741794309, 0.5280505270300745, 0.8467135866934531, 0.9690349780138416, 0.4424452954619493, 0.7451506690611615, 0.9249368279109896, 0.9189931100635178, 0.5243429485057256, 0.9193557157266266, 0.48099482991147374, 0.8851554655126203, 0.43957054088848874, 0.8257986278461525, 0.8003493372667261, 0.8693719416453428, 0.4861039051400365, 0.890281022383899, 0.8914762943437824, 0.7170994149068165, 0.9284290901931027, 0.9596845173213404, 0.4550702832546412, 0.9462443063097424, 0.8003214387164506, 0.8973777600207035, 0.9594379782030061, 0.897728627495648, 0.857698296915745, 0.819283656483546, 0.7180914793074695, 0.6854329862424255, 0.9083017865455103, 0.5685296369228113, 0.44514988892155904, 0.7412366547398019, 0.7657417199920693, 0.8656871542175587, 0.7456821288851705, 0.9918891714170286, 0.8862654138310235, 0.8204879810738365, 0.8834400419344669, 0.7280853287231642, 0.7321944038050361, 0.5929552859474885, 0.6624023891459774, 0.6724572786661674, 0.6604219954235776, 0.6111749771181504, 0.735725028478472, 0.44514988892155904, 0.6535541017651059, 0.7999337627067594, 0.5035953405118749, 0.9790189215176001, 0.929954857711947, 0.8237071479078067, 0.8195546026912283, 0.9531068648266534, 0.8470841371757349, 0.8886164419124166, 0.8956984976162655, 0.8746499149519695, 0.9405758086793273, 0.12483455102220728, 0.8322303401480485, 0.8006902837415876, 0.8109978889928738, 0.8382255207505186, 0.8418852965385258, 0.7905517602821406, 0.8978386533139932, 0.7984185270800801, 0.9906951316995324, 0.8287148006943944, 0.6807522220297934, 0.9679344803540421, 0.7279782941202099, 0.4456082599790366, 0.9336880326443743, 0.6195498384909689, 0.9112753503162466, 0.8977241957767087, 0.4998682854073771, 0.5290749589928814, 0.8298205680555382, 0.695782392384091, 0.4884448174929936, 0.785362262229499, 0.9021405381087562, 0.7642672141015954, 0.703830171109457, 0.9983265700046928, 0.8358169993089928, 0.7268634642113388, 0.8204770340313238, 0.4884448174929936, 0.7843334558432528, 0.47517470480931256, 0.4377352132741005, 0.7831526306743952, 0.9083959489813379, 0.6720815244300259, 0.846537555201813, 0.8417134138369041, 0.7768022102556749, 0.9650730017167765, 0.8395223078182973, 0.07409122779096382, 0.9224357859974996, 0.7268634642113388, 0.6952363045625928, 0.6762103855179856, 0.7029141907235289, 0.7029141907235289, 0.73844411840097, 0.6567776246914776, 0.816244975033247, 0.9746101249727607, 0.7370866546140986, 0.8914762383359404, 0.6520198229357247, 0.8595276921671448, 0.882350292158837, 0.7108647883245162, 0.904426518418412, 0.8204425979777062, 0.761885460795578, 0.626119688387322, 0.7477747712999603, 0.6386877368212084, 0.6102621442196748, 0.6769154999785572, 0.8268734174946091, 0.7151540577717258, 0.6854853292577037, 0.8992517227510728, 0.9245697520827362, 0.7946735579675409, 0.7002145916330449, 0.8330321690676802, 0.6735244679261604, 0.7038302273714954, 0.806272583977929, 0.9110459923761616, 0.9528104537660906, 0.9773149344873723, 0.9147421674518565, 0.4377352132741005, 0.8534070814806394, 0.5971369011541556, 0.6440917526594955, 0.8608033188848002, 0.7321944038050361, 0.8252575345470735, 0.7263603823796908, 0.4810450695551757, 0.6116415807588886, 0.8060723573408743, 0.9440821519325023, 0.8481644862143662, 0.5069209080356855, 0.18774848445766126, 0.300397575132258, 0.6381700453888788, 0.9158149949331984, 0.799423017055172, 0.8482686498172906, 0.6221547944686412, 0.9465413631356714, 0.610262790095522, 0.8143259238333145, 0.7494213065159231, 0.8063157372538229, 0.7755068753104893, 0.7928083088506614, 0.6228535736283817, 0.4488054741766388, 0.6504908889443916, 0.9272541156150421, 0.9670283875541545, 0.8419593990203358, 0.8661837767387529, 0.7026186345676139, 0.6867289512175941, 0.8308766132920651, 0.9086924421546317, 0.9273659368650072, 0.8936594130477479, 0.9373995564117523, 0.8584022634672707, 0.4715305840622913, 0.8335361161530644, 0.6148940279084483, 0.7569374429295239, 0.8054464214557205, 0.806064107201229, 0.905507776980561, 0.6949883623310449, 0.5389083771451699, 0.7816399671177436, 0.610262790095522, 0.876861442553341, 0.9196696398203567, 0.7867339460321747, 0.8772393689551443, 0.8657374258922127, 0.6445783422758451, 0.953139969175534, 0.5341794738086074, 0.8269849610894676, 0.7844970480107663, 0.8572474411780849, 0.7426760512788202, 0.4565680384592416, 0.5355997729888586, 0.9111022955081047, 0.47667897831415734, 0.9772287254917843, 0.4705443970137451, 0.9889411538639297, 0.8911314399242012, 0.8729457059490963, 0.12470652942129946, 0.9159300316028304, 0.8481034834938037, 0.9370371697692452, 0.7552360744755716, 0.7491427364031208, 0.9500906462468409, 0.9688071895694342, 0.8745795882218351, 0.9189442128811056, 0.7030955893697879, 0.9652646463714633, 0.8693719416453428, 0.9668414069357976, 0.9335581861805133, 0.8468095122376211, 0.730949250718616, 0.8416520688000034, 0.9379170740466017, 0.863347136553623, 0.6645210682060542, 0.6183424823246587, 0.9274631250869453, 0.7792910357787444, 0.933827267252716, 0.7632594775855418, 0.45411811927414203, 0.37482794978215495, 0.49977059970953996, 0.9388130096033511, 0.9672242315122932, 0.8933174661484523, 0.9610945618322987, 0.8627118853380616, 0.9663372587241627, 0.9316131654169532, 0.9491075599417922, 0.989209495613375, 0.7977725150202294, 0.7159772345590183, 0.6317823442227766, 0.4826385805183175, 0.8003493372667261, 0.8953938182754398, 0.6624023891459774, 0.9068172954484515, 0.6105237306993436, 0.4456082599790366, 0.8556313222599173, 0.5968963747372997, 0.8110982137142148, 0.1707575186766768, 0.8786032415589589, 0.9570875344494613, 0.9350778144762669, 0.7225534046820767, 0.6323142115937317, 0.45411811927414203, 0.7914006695996287, 0.924712715253211, 0.8060117114802762, 0.5907154063406004, 0.7468731057623401, 0.8716654284909252, 0.9450020633556901, 0.9203781311154181, 0.6803102151530596, 0.7580856966372465, 0.6079316492180808, 0.9422636929474985, 0.5151968726574403, 0.8538885692739101, 0.8978386533139932, 0.8181883932880302, 0.853044794799288, 0.8041640967146505, 0.5287906523082762, 0.8279246801604878, 0.718477776659371, 0.8579493358781278, 0.43070433483944326, 0.9298545651591703, 0.9544405736579806, 0.7442749584647911, 0.8192935724837761, 0.5701112089271713, 0.44514988892155904, 0.8526506627737332, 0.7569440751886576, 0.7770326992304513, 0.9623332574635275, 0.9672990860733789, 0.703830171109457, 0.7001664671983754, 0.6255372872596341, 0.900326634719279, 0.9179403728184772, 0.8695541234271057, 0.9450461742847446, 0.7890470087604275, 0.8883319411463961, 0.9549686474334466, 0.6860831529119726, 0.8817100524043442, 0.4918625993482955, 0.705736350093018, 0.6695879291960658, 0.6370351507347352, 0.8397870607477642, 0.6275388747295817, 0.8457114507926605, 0.9754460601824743, 0.9428446682740647, 0.8132615855967219, 0.8261697040114818, 0.9671916629240537, 0.8693719416453428, 0.6546474746304711, 0.6658102295878976, 0.9680603935631998, 0.9474535701703015, 0.8770282624711607, 0.9286039581237664, 0.8902786649326366, 0.8226930660417461, 0.9180507553660854, 0.9576069613755951, 0.8453435676713408, 0.9287311685471678, 0.8693719416453428, 0.6250117535211243, 0.8327475000557211, 0.5728605085566914, 0.8753455521149803, 0.8574283400039268, 0.45293338203917116, 0.6255372872596341, 0.9347558841822934, 0.6599721229546495, 0.9758390542820133, 0.7956195140185479, 0.8170861202963675, 0.9146968999544486, 0.8794122889946075, 0.9297191596199464, 0.8129694068830632, 0.9848552507220067, 0.852118636388126, 0.7204221620640517, 0.5290749164693067, 0.6729232132660937, 0.6377837666137045, 0.8268734174946091, 0.7475228143625309, 0.8386548279851935, 0.9828965701129877, 0.49815938325259895, 0.5761153097326439, 0.5675232850604781, 0.9064193247360822, 0.717367188217246, 0.7872542187105223, 0.9614300111476899, 0.4929821711607541, 0.832517390399957, 0.868401345261325, 0.8244874157611313, 0.6298591031479914, 0.8337358137420361, 0.8294137621382633, 0.8885493569482783, 0.6614499748346239, 0.9311054589326534, 0.47870196313440694, 0.9659559634643431, 0.8278763610674141, 0.6941405928272238, 0.7966908370023709, 0.750876128624333, 0.959087777149706, 0.94149474092903, 0.7872736222710477, 0.6731034559662677, 0.9875755748151523, 0.8439082963207791, 0.9706377648963194, 0.603350594804087, 0.8681889224199283, 0.47517470480931256, 0.6768744187610254, 0.8735345085733458, 0.8414391085737253, 0.7104367223832093, 0.7524128232417342, 0.8858673161314785, 0.828937206226138, 0.434227616025989, 0.7966908370023709, 0.6958718756328779, 0.7002145916330449, 0.6099554814432164, 0.7901299623007751, 0.9723914859198344, 0.9468267081318423, 0.8538885181336874, 0.7157669793529196, 0.8986370535977197, 0.819582450502379, 0.7203649100764363, 0.7268634642113388, 0.5454538259923117, 0.848876808478674, 0.7001664671983754, 0.7625846605675604, 0.545034010373308, 0.6389255058411629, 0.44998455789950514, 0.5045131230744203, 0.8501435254777279, 0.8014479534141623, 0.7454525515851712, 0.8997601663504557, 0.8287148006943944, 0.5218642150514161, 0.4459018366828837, 0.49815938325259895, 0.6381700453888788, 0.785362262229499, 0.8984186350702775, 0.8717170606957741, 0.608726163122806, 0.8598996567913572, 0.9095585290834122, 0.968607701408868, 0.842287303053877, 0.703830171109457, 0.8381350413574139, 0.8813147449118176, 0.8791797936253455, 0.31324714945205806, 0.12181833589802257, 0.030454583974505643, 0.060909167949011286, 0.134870300458525, 0.134870300458525, 0.11311702619102096, 0.0652598228025121, 0.021753274267504032, 0.8562679771509579, 0.6367338616917254, 0.9417691190750354, 0.8583183924755023, 0.8401008861589777, 0.6658102295878976, 0.6347023370259914, 0.9795475785589891, 0.8609814460699915, 0.9704396920143022, 0.9665708681967667, 0.8635489037618225, 0.6117683322018359, 0.6049758011699686, 0.8764970956511516, 0.9621735349138789, 0.5896272580714494, 0.9705998105661711, 0.7385657863737869, 0.7542184566641674, 0.8906721919929245, 0.8526362901688485, 0.6784625386245177, 0.9117949778852401, 0.8742754775864057, 0.9577853773934089, 0.7968245875230463, 0.863271161090075, 0.43072628162360654, 0.5956817440828144, 0.6693330694686711, 0.624415137274934, 0.949845042181151, 0.8779455118477897, 0.9284304734351574, 0.8944088404667687, 0.5148007530984526, 0.6757607718371362, 0.8681888381372773, 0.5779393252111077, 0.9273398900032044, 0.6848985212546893, 0.760583411780951, 0.703830171109457, 0.9878308623899156, 0.45411811927414203, 0.6914373845530115, 0.8181883932880302, 0.7263603823796908, 0.9400871197533378, 0.9702953179982544, 0.47046437779343286, 0.7452237930309218, 0.8890038008939561, 0.6782257861728226, 0.8468974787524745, 0.8386261087555383, 0.9339052789124883, 0.9712355245087928, 0.9600491141332067, 0.9653692823332367, 0.9908248900643232, 0.8966799098323462, 0.6376320719517156, 0.9498330580129095, 0.9836358675935839, 0.6317823442227766, 0.4810450695551757, 0.7132703664705021, 0.8352738760849381, 0.8077373165968419, 0.9833095195522071, 0.9475519264686612, 0.9796884652560782, 0.9519730628572142, 0.6061517291012093, 0.44803824070415604, 0.4715306357453916, 0.9436938321667947, 0.8268734174946091, 0.969807572260025, 0.8654024452185376, 0.9302237715504995, 0.9694653164212669, 0.6377817492441221, 0.8142986570981935, 0.9375886272696698, 0.7548078219161007, 0.8499350584041586, 0.608081273457259, 0.6295654688571074, 0.20985515628570245, 0.7504322510576668, 0.91216016890456, 0.9783651598327462, 0.9739795038788683, 0.9275767334487003, 0.8439566519307421, 0.608726163122806, 0.5438631812927035, 0.81088378662309, 0.7282576383578017, 0.9375114861438225, 0.9126930421494833, 0.8434194180939566, 0.93408159691358, 0.4695106756609455, 0.9896621906649115, 0.986373438092238, 0.6508525319180888, 0.9644485980513489, 0.9658847466233933, 0.7916087879421841, 0.7468667402921241, 0.8913577680777924, 0.9929871579736712, 0.9756957709833223, 0.8957195114526202, 0.7690813663752315, 0.6670124767161567, 0.855501285829539, 0.9899067686855457, 0.8919511473275548, 0.9803753241620468, 0.8626493877827798, 0.7485935143040479, 0.7752583355990602, 0.8264566249399967, 0.8645543130692759, 0.8756014660082896, 0.8046338704061968], \"Term\": [\"ability\", \"able\", \"absolute\", \"abstract\", \"accepted\", \"accepting\", \"access\", \"account\", \"accurate\", \"across\", \"action\", \"actions\", \"activate\", \"activated\", \"activation\", \"actual\", \"actually\", \"ad\", \"add\", \"added\", \"adding\", \"additional\", \"additive\", \"adds\", \"adjacent\", \"admin\", \"allow\", \"allowed\", \"alongside\", \"already\", \"also\", \"alt\", \"altclick\", \"although\", \"always\", \"amount\", \"analysis\", \"annotated\", \"annotating\", \"annotation\", \"annotations\", \"another\", \"antivirus\", \"anymore\", \"anystr\", \"anything\", \"app\", \"appear\", \"appearing\", \"appears\", \"append\", \"appending\", \"apple\", \"application\", \"applied\", \"apscheduler\", \"arg\", \"argument\", \"arguments\", \"arm\", \"ascii\", \"asking\", \"assertion\", \"assigned\", \"assigning\", \"assignment\", \"assumed\", \"ast\", \"async\", \"atpublic\", \"attach\", \"attached\", \"attaching\", \"attribute\", \"attributeerror\", \"attributes\", \"auto\", \"autoall\", \"autocomplete\", \"autocompletion\", \"autodetect\", \"autodetected\", \"autoimport\", \"autoindentation\", \"automatic\", \"automatically\", \"autoscroll\", \"autotest\", \"available\", \"awaited\", \"aware\", \"azure\", \"background\", \"backslashes\", \"bad\", \"bar\", \"base\", \"based\", \"baseformset\", \"basic\", \"became\", \"becomes\", \"behavior\", \"beta\", \"better\", \"big\", \"bin\", \"binary\", \"bivariant\", \"blank\", \"block\", \"blocks\", \"blocktrans\", \"blocktranslate\", \"body\", \"bottom\", \"bound\", \"bounded\", \"box\", \"bracket\", \"bracketed\", \"breaking\", \"breakpoint\", \"breakpoints\", \"breaks\", \"brings\", \"broken\", \"brown\", \"bug\", \"builtin\", \"bundled\", \"button\", \"buttons\", \"bytes\", \"ca\", \"ca\", \"cache\", \"cached\", \"calculated\", \"call\", \"callable\", \"called\", \"calling\", \"calls\", \"cannot\", \"cant\", \"capture\", \"captures\", \"carets\", \"case\", \"cases\", \"cause\", \"caused\", \"causes\", \"causing\", \"cell\", \"cells\", \"certain\", \"chain\", \"chained\", \"change\", \"changed\", \"changes\", \"changing\", \"character\", \"characters\", \"check\", \"checkbox\", \"checked\", \"checker\", \"checking\", \"checks\", \"children\", \"choice\", \"chosen\", \"claims\", \"class\", \"class\", \"classdecorated\", \"classes\", \"classmethod\", \"classmethods\", \"clause\", \"clear\", \"cleared\", \"click\", \"clickable\", \"clicking\", \"client\", \"clone\", \"close\", \"closes\", \"closing\", \"cls\", \"code\", \"codecompletion\", \"collection\", \"collectionsabc\", \"color\", \"column\", \"command\", \"commands\", \"comment\", \"commented\", \"commenting\", \"comments\", \"commit\", \"compatibility\", \"compile\", \"complete\", \"completely\", \"completion\", \"complex\", \"component\", \"compose\", \"compound\", \"comprehension\", \"comprehensions\", \"conda\", \"condition\", \"conditional\", \"conditions\", \"config\", \"configurable\", \"configuration\", \"configurations\", \"configured\", \"configuring\", \"conflicts\", \"confusing\", \"confusion\", \"connect\", \"connected\", \"connecting\", \"connection\", \"considered\", \"console\", \"constantly\", \"constants\", \"constructor\", \"containers\", \"containing\", \"contains\", \"content\", \"contents\", \"context\", \"contextual\", \"continue\", \"continuously\", \"contributors\", \"conversion\", \"convert\", \"copied\", \"copies\", \"copy\", \"copypasting\", \"cores\", \"coroutine\", \"correct\", \"correctly\", \"corresponding\", \"could\", \"coverage\", \"cpu\", \"crash\", \"crashes\", \"crazy\", \"create\", \"created\", \"creates\", \"creating\", \"creation\", \"csv\", \"ctrl\", \"ctrlc\", \"ctrlshiftf\", \"cucumber\", \"current\", \"currently\", \"currentthread\", \"cursor\", \"custom\", \"customize\", \"customized\", \"cython\", \"data\", \"database\", \"dataclass\", \"dataframe\", \"dataframes\", \"datalore\", \"datetime\", \"day\", \"db\", \"debug\", \"debugger\", \"debugging\", \"declaration\", \"declarations\", \"declared\", \"decorated\", \"decorator\", \"decorators\", \"default\", \"define\", \"defined\", \"definition\", \"defintion\", \"deletion\", \"dependencies\", \"dependency\", \"deployment\", \"deprecated\", \"derivatives\", \"description\", \"despite\", \"detect\", \"detected\", \"detecting\", \"detection\", \"dev\", \"diagram\", \"dialog\", \"dict\", \"dictionaries\", \"dictionary\", \"diff\", \"difference\", \"different\", \"dir\", \"directive\", \"directory\", \"disable\", \"disable\", \"disabled\", \"disabling\", \"disappear\", \"disappears\", \"disconnected\", \"display\", \"displayed\", \"distinguish\", \"django\", \"djangotest\", \"doc\", \"docker\", \"dockercompose\", \"docstring\", \"docstrings\", \"doctest\", \"documentation\", \"dotted\", \"double\", \"doublynested\", \"downloaded\", \"drf\", \"drive\", \"drives\", \"due\", \"dumb\", \"dummy\", \"dunder\", \"duplicate\", \"duplicated\", \"duplication\", \"dynamic\", \"dynamically\", \"eap\", \"editable\", \"editing\", \"edition\", \"editor\", \"effect\", \"eg\", \"element\", \"ellipses\", \"emailmessage\", \"empty\", \"emulated\", \"enable\", \"enabled\", \"end\", \"endpoints\", \"engine\", \"enter\", \"entire\", \"entrypoint\", \"enum\", \"enumeratels\", \"enums\", \"enumunique\", \"environment\", \"environments\", \"epydoc\", \"equality\", \"erroneous\", \"erronious\", \"error\", \"errors\", \"escaping\", \"etc\", \"evaluate\", \"evaluates\", \"evaluation\", \"even\", \"every\", \"examples\", \"excel\", \"except\", \"exception\", \"exceptions\", \"excessive\", \"executable\", \"execute\", \"executed\", \"executing\", \"execution\", \"exist\", \"existing\", \"exists\", \"exit\", \"expected\", \"expecting\", \"experimental\", \"explicitly\", \"explorer\", \"export\", \"exporting\", \"exports\", \"expression\", \"expressions\", \"extend\", \"extended\", \"extending\", \"extension\", \"extensions\", \"extern\", \"external\", \"extra\", \"extract\", \"extremely\", \"fail\", \"failed\", \"failing\", \"fails\", \"failure\", \"false\", \"falsepositive\", \"fastapi\", \"fastapifastapi\", \"feature\", \"feedback\", \"fewer\", \"field\", \"file\", \"files\", \"fill\", \"final\", \"find\", \"find\", \"fine\", \"finished\", \"finishes\", \"first\", \"fix\", \"flag\", \"flagged\", \"flagging\", \"flags\", \"flask\", \"flask_debug\", \"flaskbased\", \"flathub\", \"float\", \"focus\", \"fold\", \"folded\", \"folder\", \"folders\", \"folding\", \"following\", \"font\", \"foreignkey\", \"forever\", \"form\", \"format\", \"formatted\", \"formatter\", \"formatteroff\", \"formatting\", \"formulas\", \"forwarding\", \"found\", \"fragments\", \"framework\", \"frameworks\", \"freezes\", \"freezing\", \"fstring\", \"fstrings\", \"fullscreen\", \"fullyqualified\", \"function\", \"functions\", \"gear\", \"generates\", \"generator\", \"generators\", \"generic\", \"generics\", \"get\", \"gets\", \"getting\", \"gherkin\", \"git\", \"given\", \"gives\", \"global\", \"go\", \"goes\", \"gone\", \"google\", \"got\", \"graph\", \"greyed\", \"gt\", \"gutter\", \"handle\", \"handling\", \"hangs\", \"hard\", \"hash\", \"hello\", \"help\", \"helper\", \"helpers\", \"hidden\", \"hide\", \"hides\", \"hierarchy\", \"high\", \"higher\", \"highlight\", \"highlighted\", \"highlighting\", \"highlights\", \"hint\", \"hinted\", \"hinting\", \"hints\", \"history\", \"hit\", \"horizontal\", \"host\", \"hover\", \"html\", \"icon\", \"icons\", \"ide\", \"idea\", \"identification\", \"identifier\", \"ifelse\", \"ignore\", \"ignored\", \"ignores\", \"image\", \"implement\", \"implementation\", \"implementations\", \"import\", \"imported\", \"importing\", \"imports\", \"impossible\", \"improve\", \"include_routers\", \"included\", \"incompatibility\", \"incompatible\", \"incomplete\", \"inconsistent\", \"inconsistently\", \"incorreclty\", \"incorrect\", \"incorrectly\", \"increases\", \"indent\", \"indentation\", \"indentify\", \"independent\", \"index\", \"indexing\", \"indication\", \"infer\", \"inference\", \"inferencer\", \"inferred\", \"inferrence\", \"inferring\", \"infers\", \"infinitum\", \"info\", \"information\", \"inherit\", \"inherited\", \"initialized\", \"initializing\", \"injection\", \"inline\", \"input\", \"inputs\", \"insert\", \"inserted\", \"inserts\", \"inside\", \"insight\", \"insighte\", \"insists\", \"inspect\", \"inspection\", \"inspections\", \"inspects\", \"install\", \"installation\", \"installed\", \"installing\", \"instance\", \"instances\", \"instantiating\", \"instead\", \"int\", \"integer\", \"integrate\", \"integrated\", \"integration\", \"intellij\", \"intention\", \"intenum\", \"interact\", \"interface\", \"intermediary\", \"interpretation\", \"interpreter\", \"interpreters\", \"interpretter\", \"introduce\", \"invalid\", \"invert\", \"invoke\", \"invoked\", \"ip\", \"ipynb\", \"ipython\", \"ipywidgets\", \"irrelevant\", \"is_valid\", \"isinstance\", \"issue\", \"issues\", \"item\", \"items\", \"itemsview\", \"iter\", \"iterable\", \"iterating\", \"iterator\", \"jinja\", \"js\", \"json\", \"jumps\", \"jupyter\", \"jython\", \"keep\", \"keeps\", \"keras\", \"kernels\", \"key\", \"keyboard\", \"keys\", \"keyvalue\", \"keyword\", \"keywords\", \"killing\", \"know\", \"kwargs\", \"lack\", \"lacks\", \"lag\", \"language\", \"large\", \"last\", \"latest\", \"latter\", \"launch\", \"launched\", \"layout\", \"leads\", \"leak\", \"left\", \"letter\", \"level\", \"libraries\", \"library\", \"ligatures\", \"limit\", \"line\", \"line_profiler\", \"lines\", \"link\", \"links\", \"linux\", \"list\", \"listed\", \"lists\", \"literal\", \"literals\", \"load\", \"loaded\", \"loading\", \"loads\", \"local\", \"locate\", \"location\", \"logic\", \"long\", \"longer\", \"loop\", \"loses\", \"lost\", \"mac\", \"macos\", \"made\", \"magic\", \"main\", \"mainpy\", \"make\", \"makemigrations\", \"makes\", \"manage\", \"managepy\", \"manager\", \"managing\", \"mangled\", \"manual\", \"many\", \"mapped\", \"mappings\", \"mark\", \"markdown\", \"marked\", \"marks\", \"masks\", \"match\", \"matching\", \"math\", \"matlabengine\", \"matplotlib\", \"meaningful\", \"member\", \"members\", \"memory\", \"mentioned\", \"menu\", \"message\", \"messages\", \"metaclass\", \"metaclasses\", \"method\", \"methods\", \"microsoft\", \"miniforge\", \"minimalist\", \"minor\", \"misinterprets\", \"mismatch\", \"misnamed\", \"missing\", \"mistreats\", \"mixes\", \"mixins\", \"mode\", \"model\", \"modifer\", \"module\", \"modules\", \"moduletype\", \"monterey\", \"mount\", \"mounted\", \"mouse\", \"move\", \"moving\", \"ms\", \"much\", \"multicursor\", \"multiline\", \"multiple\", \"multiprocessing\", \"multiproject\", \"multithreaded\", \"must\", \"mypy\", \"name\", \"named\", \"namedtuple\", \"names\", \"namespace\", \"narrowed\", \"narrowing\", \"native\", \"navigate\", \"navigation\", \"near\", \"nearby\", \"needless\", \"needlessly\", \"needs\", \"negative\", \"nested\", \"never\", \"new\", \"newline\", \"newly\", \"noheader\", \"nonascii\", \"noncoroutine\", \"none\", \"nonnative\", \"nonoptimal\", \"nonproject\", \"nontoplevel\", \"nonvalid\", \"nosummary\", \"notation\", \"notebook\", \"notebooks\", \"nothing\", \"notification\", \"npe\", \"nukes\", \"number\", \"numbers\", \"numpy\", \"object\", \"objects\", \"odoo\", \"office\", \"old\", \"one\", \"ones\", \"open\", \"opened\", \"opening\", \"opens\", \"operations\", \"operator\", \"operators\", \"optimize\", \"option\", \"optional\", \"options\", \"orange\", \"order\", \"orm\", \"oserror\", \"ospath\", \"outer\", \"outofthebox\", \"output\", \"outputs\", \"outside\", \"overflows\", \"overload\", \"overloaded\", \"overloads\", \"override\", \"overrides\", \"overwritten\", \"package\", \"packages\", \"page\", \"pair\", \"pandas\", \"pane\", \"panel\", \"panels\", \"paragraph\", \"parallel\", \"parameter\", \"parameterized\", \"parameters\", \"parametersinfo\", \"parametertypes\", \"parametrized\", \"paramspec\", \"parent\", \"parenteses\", \"parentheses\", \"parse\", \"parsed\", \"parser\", \"parsing\", \"part\", \"parts\", \"party\", \"passed\", \"passing\", \"password\", \"passwords\", \"paste\", \"path\", \"path_or_buf\", \"paths\", \"pattern\", \"patterns\", \"pdf\", \"pep\", \"perceived\", \"performance\", \"permanent\", \"permission\", \"permissions\", \"pgcli\", \"picks\", \"pid\", \"pin\", \"pip\", \"pipenv\", \"place\", \"play\", \"please\", \"plot\", \"plots\", \"plugin\", \"plugins\", \"poetry\", \"point\", \"points\", \"polars\", \"policy\", \"poor\", \"popular\", \"popularity\", \"populate\", \"popup\", \"position\", \"positive\", \"positives\", \"possible\", \"possibly\", \"post\", \"postfix\", \"postgresql\", \"potential\", \"powershell\", \"predefined\", \"prefer\", \"preferences\", \"prefixes\", \"prepended\", \"present\", \"preserve\", \"preview\", \"previous\", \"print\", \"printed\", \"printing\", \"prioritize\", \"private\", \"pro\", \"problem\", \"problems\", \"process\", \"process\", \"processing\", \"produces\", \"professional\", \"profile\", \"profiler\", \"profiling\", \"program\", \"project\", \"projectfiles\", \"projectjdktable\", \"projects\", \"prompt\", \"propagate\", \"properly\", \"properties\", \"property\", \"propose\", \"proposed\", \"protocol\", \"protocols\", \"provide\", \"provides\", \"providing\", \"proxy\", \"py\", \"pyassert\", \"pycharm\", \"pycodestylepy\", \"pydev_monkey\", \"pydevd\", \"pyenv\", \"pylab\", \"pymc\", \"pymongo\", \"pypi\", \"pyqt\", \"pyramid\", \"pyroute\", \"pyside\", \"pysparkstubs\", \"pytest\", \"pytestxdist\", \"python\", \"python\", \"pythonid\", \"pythonpath\", \"pyx\", \"qobject\", \"qobjecttr\", \"qualified\", \"queryset\", \"queue\", \"quick\", \"quickfix\", \"quotation\", \"quoted\", \"quotes\", \"raise\", \"raised\", \"raises\", \"randomly\", \"range\", \"rather\", \"raw\", \"rc\", \"read\", \"reading\", \"readonly\", \"real\", \"recognised\", \"recognize\", \"recognized\", \"recognizes\", \"recursion\", \"redeclared\", \"redefined\", \"redraw\", \"redundant\", \"refactor\", \"refactoring\", \"reference\", \"referenced\", \"referenceerror\", \"references\", \"refresh\", \"regex\", \"regions\", \"registry\", \"regression\", \"reindex\", \"related\", \"relative\", \"release\", \"reload\", \"remains\", \"remote\", \"remote\", \"remote\", \"remoter\", \"remove\", \"removed\", \"removes\", \"removing\", \"rename\", \"renames\", \"renaming\", \"render\", \"rendered\", \"rendering\", \"renders\", \"reopen\", \"repl\", \"replace\", \"report\", \"reported\", \"reports\", \"repository\", \"request\", \"require\", \"required\", \"requirements\", \"requirementstxt\", \"requires\", \"rerun\", \"rescan\", \"resembling\", \"reset\", \"resets\", \"resize\", \"resolution\", \"resolve\", \"resolved\", \"resolves\", \"resolving\", \"response\", \"responsive\", \"rest\", \"restart\", \"restartpy\", \"result\", \"results\", \"retrieve\", \"return\", \"returning\", \"returns\", \"returntype\", \"reused\", \"revealed\", \"rewritten\", \"rider\", \"right\", \"roles\", \"root\", \"rst\", \"run\", \"runner\", \"running\", \"running\", \"runs\", \"runserver\", \"save\", \"saved\", \"scheme\", \"scientific\", \"sciview\", \"scope\", \"scratch\", \"screen\", \"script\", \"scrollable\", \"sdk\", \"search\", \"second\", \"section\", \"see\", \"seems\", \"select\", \"selected\", \"selecting\", \"selection\", \"selector\", \"self\", \"selinum\", \"sends\", \"separate\", \"separate\", \"separator\", \"server\", \"service\", \"services\", \"session\", \"set\", \"sets\", \"setting\", \"settings\", \"setup\", \"setupcfg\", \"setupclass\", \"several\", \"severe\", \"sftp\", \"shadowed\", \"shadowing\", \"shadows\", \"shape\", \"shortcut\", \"shortcuts\", \"show\", \"show\", \"showing\", \"shown\", \"shows\", \"shut\", \"side\", \"sigint\", \"signal\", \"signature\", \"silently\", \"silicon\", \"similar\", \"since\", \"single\", \"size\", \"skeleton\", \"skeletons\", \"slash\", \"slow\", \"slower\", \"slowly\", \"solution\", \"someclassget\", \"something\", \"sometimes\", \"sorting\", \"source\", \"sources\", \"space\", \"spaces\", \"specific\", \"specified\", \"speedup\", \"speedups\", \"spellcheck\", \"spellchecker\", \"sphinx\", \"spinner\", \"sql\", \"sqlalchemy\", \"ssh\", \"ssl\", \"stack\", \"stacked\", \"standard\", \"start\", \"started\", \"starting\", \"startup\", \"state\", \"statement\", \"statements\", \"static\", \"staticmethod\", \"status\", \"stdin\", \"steals\", \"step\", \"steps\", \"still\", \"stop\", \"stopped\", \"stopping\", \"stops\", \"str\", \"stretch\", \"strict\", \"strictness\", \"string\", \"strings\", \"stripped\", \"structure\", \"stub\", \"stubs\", \"stuck\", \"style\", \"subclass\", \"subclasses\", \"submitted\", \"submodule\", \"submodules\", \"subprocess\", \"subprocesses\", \"subscripted\", \"subscription\", \"substituted\", \"subtype\", \"succeeds\", \"suggest\", \"suggested\", \"suggestions\", \"suggests\", \"suite\", \"super\", \"superclass\", \"support\", \"supported\", \"sur\", \"swap\", \"swing\", \"switch\", \"switches\", \"switching\", \"sync\", \"syntax\", \"sysmodulates\", \"sysorig_argv\", \"syspath\", \"system\", \"sysversion_info\", \"tab\", \"table\", \"tablecolumns\", \"tabs\", \"tag\", \"tags\", \"takes\", \"taking\", \"target\", \"targets\", \"task\", \"teamcity\", \"tempfile\", \"template\", \"templates\", \"temporary\", \"tensorflowkeras\", \"tensorrt\", \"terminal\", \"terminated\", \"termios\", \"terraform\", \"test\", \"testcase\", \"tests\", \"text\", \"thats\", \"theano\", \"theme\", \"thinks\", \"third\", \"thread\", \"throws\", \"time\", \"timeout\", \"tip\", \"tips\", \"title\", \"today\", \"token\", \"tokenizers\", \"tool\", \"toolbar\", \"toolkit\", \"tools\", \"toolwindow\", \"top\", \"torch\", \"torchutilsdata\", \"total\", \"tox\", \"trace\", \"traceback\", \"tracebacks\", \"track\", \"trailing\", \"traitletspy\", \"translate\", \"translations\", \"treat\", \"treated\", \"treating\", \"tree\", \"tried\", \"tries\", \"trigger\", \"triple\", \"trivially\", \"true\", \"truncates\", \"try\", \"trying\", \"tuple\", \"tuples\", \"turn\", \"tutorial\", \"twice\", \"two\", \"type\", \"type\", \"type\", \"type\", \"type\", \"type\", \"type\", \"type\", \"type\", \"typechecker\", \"typechecking\", \"typed\", \"typeddict\", \"typeerror\", \"typeguard\", \"typeinference\", \"types\", \"typesdict\", \"typevar\", \"typing\", \"typingprotocol\", \"typingtypeddict\", \"typo\", \"ubuntu\", \"ui\", \"ultimate\", \"unable\", \"unactivated\", \"unbound\", \"uncalled\", \"uncorrectly\", \"undefined\", \"underscore\", \"understand\", \"unexpected\", \"unfilled\", \"unhandled\", \"unicode\", \"unified\", \"uniform\", \"uninstall\", \"union\", \"unit\", \"unittest\", \"universal\", \"unknown\", \"unless\", \"unpack\", \"unpacked\", \"unpacking\", \"unqualified\", \"unreachable\", \"unrecognized\", \"unresolved\", \"unresponsive\", \"unsupported\", \"untyped\", \"unusable\", \"unused\", \"update\", \"updated\", \"updates\", \"updating\", \"upgrade\", \"upgrading\", \"upper\", \"url\", \"usage\", \"usages\", \"use\", \"used\", \"user\", \"userdefined\", \"uses\", \"using\", \"usually\", \"uvicornrun\", \"vagrant\", \"valid\", \"validate\", \"value\", \"values\", \"variable\", \"variables\", \"variants\", \"varying\", \"vcs\", \"venv\", \"venvs\", \"version\", \"versions\", \"via\", \"view\", \"viewer\", \"virtual\", \"virtualenv\", \"visuals\", \"vmprof\", \"volume\", \"vpn\", \"vpn\", \"vuejs\", \"walrus\", \"warn\", \"warning\", \"warnings\", \"wastes\", \"watch\", \"way\", \"web\", \"well\", \"whether\", \"whitespace\", \"whole\", \"widget\", \"wild\", \"window\", \"windows\", \"winerror\", \"within\", \"without\", \"wizard\", \"wo\", \"word\", \"work\", \"working\", \"works\", \"wrap\", \"wrapping\", \"writing\", \"wrong\", \"wrongly\", \"wsl\", \"wslbased\", \"xc\", \"xml\", \"yaml\", \"yes\", \"yet\", \"yield\"]}, \"R\": 30, \"lambda.step\": 0.01, \"plot.opts\": {\"xlab\": \"PC1\", \"ylab\": \"PC2\"}, \"topic.order\": [3, 21, 45, 24, 33, 8, 22, 28, 17, 39, 7, 14, 26, 41, 15, 11, 10, 6, 36, 13, 40, 29, 2, 47, 5, 48, 37, 34, 43, 44, 1, 27, 25, 18, 19, 16, 9, 49, 23, 42, 30, 50, 4, 31, 35, 46, 20, 38, 12, 32]};\n",
              "\n",
              "function LDAvis_load_lib(url, callback){\n",
              "  var s = document.createElement('script');\n",
              "  s.src = url;\n",
              "  s.async = true;\n",
              "  s.onreadystatechange = s.onload = callback;\n",
              "  s.onerror = function(){console.warn(\"failed to load library \" + url);};\n",
              "  document.getElementsByTagName(\"head\")[0].appendChild(s);\n",
              "}\n",
              "\n",
              "if(typeof(LDAvis) !== \"undefined\"){\n",
              "   // already loaded: just create the visualization\n",
              "   !function(LDAvis){\n",
              "       new LDAvis(\"#\" + \"ldavis_el21011406138852645921451165444\", ldavis_el21011406138852645921451165444_data);\n",
              "   }(LDAvis);\n",
              "}else if(typeof define === \"function\" && define.amd){\n",
              "   // require.js is available: use it to load d3/LDAvis\n",
              "   require.config({paths: {d3: \"https://d3js.org/d3.v5\"}});\n",
              "   require([\"d3\"], function(d3){\n",
              "      window.d3 = d3;\n",
              "      LDAvis_load_lib(\"https://cdn.jsdelivr.net/gh/bmabey/pyLDAvis@3.3.1/pyLDAvis/js/ldavis.v3.0.0.js\", function(){\n",
              "        new LDAvis(\"#\" + \"ldavis_el21011406138852645921451165444\", ldavis_el21011406138852645921451165444_data);\n",
              "      });\n",
              "    });\n",
              "}else{\n",
              "    // require.js not available: dynamically load d3 & LDAvis\n",
              "    LDAvis_load_lib(\"https://d3js.org/d3.v5.js\", function(){\n",
              "         LDAvis_load_lib(\"https://cdn.jsdelivr.net/gh/bmabey/pyLDAvis@3.3.1/pyLDAvis/js/ldavis.v3.0.0.js\", function(){\n",
              "                 new LDAvis(\"#\" + \"ldavis_el21011406138852645921451165444\", ldavis_el21011406138852645921451165444_data);\n",
              "            })\n",
              "         });\n",
              "}\n",
              "</script>"
            ],
            "text/plain": [
              "PreparedData(topic_coordinates=              x         y  topics  cluster      Freq\n",
              "topic                                               \n",
              "2      0.399606  0.308841       1        1  4.170300\n",
              "20    -0.145774 -0.466736       2        1  3.704239\n",
              "44     0.017104 -0.478527       3        1  3.146711\n",
              "23    -0.342745 -0.305413       4        1  2.775622\n",
              "32     0.221129 -0.394831       5        1  2.745317\n",
              "7      0.412028 -0.176853       6        1  2.711373\n",
              "21    -0.390613 -0.183823       7        1  2.484883\n",
              "27     0.286028 -0.308806       8        1  2.469365\n",
              "16    -0.310647  0.314160       9        1  2.452547\n",
              "38     0.428705  0.155016      10        1  2.358029\n",
              "6     -0.232227 -0.361184      11        1  2.318087\n",
              "13    -0.466657 -0.030817      12        1  2.283142\n",
              "25    -0.404555  0.074279      13        1  2.271804\n",
              "40     0.191316  0.413400      14        1  2.257786\n",
              "14    -0.346214  0.008796      15        1  2.067862\n",
              "10    -0.308229  0.209737      16        1  2.053053\n",
              "9     -0.394537  0.172985      17        1  2.034938\n",
              "5      0.254566  0.301006      18        1  2.031591\n",
              "35    -0.348542 -0.095278      19        1  1.992847\n",
              "12    -0.014814 -0.249065      20        1  1.960649\n",
              "39    -0.074377 -0.352372      21        1  1.944507\n",
              "28     0.079057 -0.385477      22        1  1.938115\n",
              "1      0.339260 -0.238317      23        1  1.935653\n",
              "46    -0.103315 -0.185798      24        1  1.892676\n",
              "4     -0.009376  0.416086      25        1  1.867864\n",
              "47     0.151026 -0.306888      26        1  1.848334\n",
              "36    -0.193590  0.168106      27        1  1.795448\n",
              "33     0.036355  0.336024      28        1  1.776115\n",
              "42    -0.185232 -0.229355      29        1  1.749718\n",
              "43    -0.084410  0.396827      30        1  1.738098\n",
              "0     -0.150588  0.354269      31        1  1.736100\n",
              "26     0.080432  0.081781      32        1  1.735552\n",
              "24     0.416979 -0.058105      33        1  1.724897\n",
              "17     0.318988 -0.083671      34        1  1.720986\n",
              "18     0.313243  0.138777      35        1  1.698459\n",
              "15     0.131062 -0.199273      36        1  1.672188\n",
              "8      0.228577  0.176300      37        1  1.653783\n",
              "48    -0.262406 -0.172354      38        1  1.648282\n",
              "22     0.123613  0.352860      39        1  1.630598\n",
              "41    -0.005298  0.174894      40        1  1.599896\n",
              "29     0.382071  0.028993      41        1  1.580869\n",
              "49     0.239179  0.038911      42        1  1.562334\n",
              "3      0.121085  0.209894      43        1  1.502057\n",
              "30     0.179146 -0.092335      44        1  1.480304\n",
              "34     0.105711 -0.043916      45        1  1.476028\n",
              "45    -0.198017  0.057017      46        1  1.464316\n",
              "19    -0.092795  0.229448      47        1  1.454454\n",
              "37    -0.226025  0.333857      48        1  1.451287\n",
              "11    -0.036868 -0.015477      49        1  1.312729\n",
              "31    -0.128414 -0.037592      50        1  1.118207, topic_info=             Term        Freq       Total Category  logprob  loglift\n",
              "58         python  269.000000  269.000000  Default  30.0000  30.0000\n",
              "35        pycharm  235.000000  235.000000  Default  29.0000  29.0000\n",
              "65           code  127.000000  127.000000  Default  28.0000  28.0000\n",
              "79           type  229.000000  229.000000  Default  27.0000  27.0000\n",
              "190         error  107.000000  107.000000  Default  26.0000  26.0000\n",
              "...           ...         ...         ...      ...      ...      ...\n",
              "2330  substituted    0.773684    1.598626  Topic50  -5.3354   3.7677\n",
              "2342     additive    0.773684    1.598626  Topic50  -5.3354   3.7677\n",
              "2343      stacked    0.773684    1.598626  Topic50  -5.3354   3.7677\n",
              "424     directive    0.554280    1.379222  Topic50  -5.6688   3.5818\n",
              "2124       dotted    0.528609    1.353551  Topic50  -5.7163   3.5532\n",
              "\n",
              "[1550 rows x 6 columns], token_table=      Topic      Freq      Term\n",
              "term                           \n",
              "1086     38  0.886460   ability\n",
              "2383     17  0.930488      able\n",
              "1378     38  0.780712  absolute\n",
              "1633     10  0.769790  abstract\n",
              "2260     20  0.829409  accepted\n",
              "...     ...       ...       ...\n",
              "2421     41  0.775258       xml\n",
              "1899     42  0.826457      yaml\n",
              "2765     45  0.864554       yes\n",
              "2449     49  0.875601       yet\n",
              "132      13  0.804634     yield\n",
              "\n",
              "[1511 rows x 3 columns], R=30, lambda_step=0.01, plot_opts={'xlab': 'PC1', 'ylab': 'PC2'}, topic_order=[3, 21, 45, 24, 33, 8, 22, 28, 17, 39, 7, 14, 26, 41, 15, 11, 10, 6, 36, 13, 40, 29, 2, 47, 5, 48, 37, 34, 43, 44, 1, 27, 25, 18, 19, 16, 9, 49, 23, 42, 30, 50, 4, 31, 35, 46, 20, 38, 12, 32])"
            ]
          },
          "metadata": {},
          "execution_count": 26
        }
      ]
    },
    {
      "cell_type": "code",
      "metadata": {
        "id": "hznEMUPiITOQ"
      },
      "source": [
        ""
      ],
      "execution_count": null,
      "outputs": []
    }
  ]
}