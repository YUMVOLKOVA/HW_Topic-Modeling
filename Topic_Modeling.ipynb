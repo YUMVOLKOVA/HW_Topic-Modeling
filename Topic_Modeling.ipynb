{
  "nbformat": 4,
  "nbformat_minor": 0,
  "metadata": {
    "colab": {
      "name": "Topic Modeling.ipynb",
      "provenance": [],
      "collapsed_sections": [],
      "mount_file_id": "1zsarbduDYcyUICULUuPHR-rFuFjwxqWT",
      "authorship_tag": "ABX9TyOb4cicje7ev+o+R8y7CGOT",
      "include_colab_link": true
    },
    "kernelspec": {
      "name": "python3",
      "display_name": "Python 3"
    },
    "language_info": {
      "name": "python"
    },
    "widgets": {
      "application/vnd.jupyter.widget-state+json": {
        "eeaa34b2d6c042ee973944b825d24bf3": {
          "model_module": "@jupyter-widgets/controls",
          "model_name": "HBoxModel",
          "model_module_version": "1.5.0",
          "state": {
            "_view_name": "HBoxView",
            "_dom_classes": [],
            "_model_name": "HBoxModel",
            "_view_module": "@jupyter-widgets/controls",
            "_model_module_version": "1.5.0",
            "_view_count": null,
            "_view_module_version": "1.5.0",
            "box_style": "",
            "layout": "IPY_MODEL_009f8786835446229e1ed07a89e047f9",
            "_model_module": "@jupyter-widgets/controls",
            "children": [
              "IPY_MODEL_0e87bc22ed204c66be4ea7ba089dd95b",
              "IPY_MODEL_5895a8d7cfcf4134b858079681bd9479",
              "IPY_MODEL_ef3ac13d3d7a4896a1439ffe90fddb73"
            ]
          }
        },
        "009f8786835446229e1ed07a89e047f9": {
          "model_module": "@jupyter-widgets/base",
          "model_name": "LayoutModel",
          "model_module_version": "1.2.0",
          "state": {
            "_view_name": "LayoutView",
            "grid_template_rows": null,
            "right": null,
            "justify_content": null,
            "_view_module": "@jupyter-widgets/base",
            "overflow": null,
            "_model_module_version": "1.2.0",
            "_view_count": null,
            "flex_flow": null,
            "width": null,
            "min_width": null,
            "border": null,
            "align_items": null,
            "bottom": null,
            "_model_module": "@jupyter-widgets/base",
            "top": null,
            "grid_column": null,
            "overflow_y": null,
            "overflow_x": null,
            "grid_auto_flow": null,
            "grid_area": null,
            "grid_template_columns": null,
            "flex": null,
            "_model_name": "LayoutModel",
            "justify_items": null,
            "grid_row": null,
            "max_height": null,
            "align_content": null,
            "visibility": null,
            "align_self": null,
            "height": null,
            "min_height": null,
            "padding": null,
            "grid_auto_rows": null,
            "grid_gap": null,
            "max_width": null,
            "order": null,
            "_view_module_version": "1.2.0",
            "grid_template_areas": null,
            "object_position": null,
            "object_fit": null,
            "grid_auto_columns": null,
            "margin": null,
            "display": null,
            "left": null
          }
        },
        "0e87bc22ed204c66be4ea7ba089dd95b": {
          "model_module": "@jupyter-widgets/controls",
          "model_name": "HTMLModel",
          "model_module_version": "1.5.0",
          "state": {
            "_view_name": "HTMLView",
            "style": "IPY_MODEL_a7496ad92b8a4157b97962b6082e9b6e",
            "_dom_classes": [],
            "description": "",
            "_model_name": "HTMLModel",
            "placeholder": "​",
            "_view_module": "@jupyter-widgets/controls",
            "_model_module_version": "1.5.0",
            "value": "100%",
            "_view_count": null,
            "_view_module_version": "1.5.0",
            "description_tooltip": null,
            "_model_module": "@jupyter-widgets/controls",
            "layout": "IPY_MODEL_122f0d62c58943bfa25d824bae12b522"
          }
        },
        "5895a8d7cfcf4134b858079681bd9479": {
          "model_module": "@jupyter-widgets/controls",
          "model_name": "FloatProgressModel",
          "model_module_version": "1.5.0",
          "state": {
            "_view_name": "ProgressView",
            "style": "IPY_MODEL_b6b26e1872d445afbfe58448c0ae2617",
            "_dom_classes": [],
            "description": "",
            "_model_name": "FloatProgressModel",
            "bar_style": "success",
            "max": 22014,
            "_view_module": "@jupyter-widgets/controls",
            "_model_module_version": "1.5.0",
            "value": 22014,
            "_view_count": null,
            "_view_module_version": "1.5.0",
            "orientation": "horizontal",
            "min": 0,
            "description_tooltip": null,
            "_model_module": "@jupyter-widgets/controls",
            "layout": "IPY_MODEL_57bb92589f9b4ba78bbd4698e5c91295"
          }
        },
        "ef3ac13d3d7a4896a1439ffe90fddb73": {
          "model_module": "@jupyter-widgets/controls",
          "model_name": "HTMLModel",
          "model_module_version": "1.5.0",
          "state": {
            "_view_name": "HTMLView",
            "style": "IPY_MODEL_26280aff54254afe8fe1442956af067a",
            "_dom_classes": [],
            "description": "",
            "_model_name": "HTMLModel",
            "placeholder": "​",
            "_view_module": "@jupyter-widgets/controls",
            "_model_module_version": "1.5.0",
            "value": " 22014/22014 [00:43&lt;00:00, 2617.93it/s]",
            "_view_count": null,
            "_view_module_version": "1.5.0",
            "description_tooltip": null,
            "_model_module": "@jupyter-widgets/controls",
            "layout": "IPY_MODEL_a50a6ecbe67c4dd8bef34ec0cba8df66"
          }
        },
        "a7496ad92b8a4157b97962b6082e9b6e": {
          "model_module": "@jupyter-widgets/controls",
          "model_name": "DescriptionStyleModel",
          "model_module_version": "1.5.0",
          "state": {
            "_view_name": "StyleView",
            "_model_name": "DescriptionStyleModel",
            "description_width": "",
            "_view_module": "@jupyter-widgets/base",
            "_model_module_version": "1.5.0",
            "_view_count": null,
            "_view_module_version": "1.2.0",
            "_model_module": "@jupyter-widgets/controls"
          }
        },
        "122f0d62c58943bfa25d824bae12b522": {
          "model_module": "@jupyter-widgets/base",
          "model_name": "LayoutModel",
          "model_module_version": "1.2.0",
          "state": {
            "_view_name": "LayoutView",
            "grid_template_rows": null,
            "right": null,
            "justify_content": null,
            "_view_module": "@jupyter-widgets/base",
            "overflow": null,
            "_model_module_version": "1.2.0",
            "_view_count": null,
            "flex_flow": null,
            "width": null,
            "min_width": null,
            "border": null,
            "align_items": null,
            "bottom": null,
            "_model_module": "@jupyter-widgets/base",
            "top": null,
            "grid_column": null,
            "overflow_y": null,
            "overflow_x": null,
            "grid_auto_flow": null,
            "grid_area": null,
            "grid_template_columns": null,
            "flex": null,
            "_model_name": "LayoutModel",
            "justify_items": null,
            "grid_row": null,
            "max_height": null,
            "align_content": null,
            "visibility": null,
            "align_self": null,
            "height": null,
            "min_height": null,
            "padding": null,
            "grid_auto_rows": null,
            "grid_gap": null,
            "max_width": null,
            "order": null,
            "_view_module_version": "1.2.0",
            "grid_template_areas": null,
            "object_position": null,
            "object_fit": null,
            "grid_auto_columns": null,
            "margin": null,
            "display": null,
            "left": null
          }
        },
        "b6b26e1872d445afbfe58448c0ae2617": {
          "model_module": "@jupyter-widgets/controls",
          "model_name": "ProgressStyleModel",
          "model_module_version": "1.5.0",
          "state": {
            "_view_name": "StyleView",
            "_model_name": "ProgressStyleModel",
            "description_width": "",
            "_view_module": "@jupyter-widgets/base",
            "_model_module_version": "1.5.0",
            "_view_count": null,
            "_view_module_version": "1.2.0",
            "bar_color": null,
            "_model_module": "@jupyter-widgets/controls"
          }
        },
        "57bb92589f9b4ba78bbd4698e5c91295": {
          "model_module": "@jupyter-widgets/base",
          "model_name": "LayoutModel",
          "model_module_version": "1.2.0",
          "state": {
            "_view_name": "LayoutView",
            "grid_template_rows": null,
            "right": null,
            "justify_content": null,
            "_view_module": "@jupyter-widgets/base",
            "overflow": null,
            "_model_module_version": "1.2.0",
            "_view_count": null,
            "flex_flow": null,
            "width": null,
            "min_width": null,
            "border": null,
            "align_items": null,
            "bottom": null,
            "_model_module": "@jupyter-widgets/base",
            "top": null,
            "grid_column": null,
            "overflow_y": null,
            "overflow_x": null,
            "grid_auto_flow": null,
            "grid_area": null,
            "grid_template_columns": null,
            "flex": null,
            "_model_name": "LayoutModel",
            "justify_items": null,
            "grid_row": null,
            "max_height": null,
            "align_content": null,
            "visibility": null,
            "align_self": null,
            "height": null,
            "min_height": null,
            "padding": null,
            "grid_auto_rows": null,
            "grid_gap": null,
            "max_width": null,
            "order": null,
            "_view_module_version": "1.2.0",
            "grid_template_areas": null,
            "object_position": null,
            "object_fit": null,
            "grid_auto_columns": null,
            "margin": null,
            "display": null,
            "left": null
          }
        },
        "26280aff54254afe8fe1442956af067a": {
          "model_module": "@jupyter-widgets/controls",
          "model_name": "DescriptionStyleModel",
          "model_module_version": "1.5.0",
          "state": {
            "_view_name": "StyleView",
            "_model_name": "DescriptionStyleModel",
            "description_width": "",
            "_view_module": "@jupyter-widgets/base",
            "_model_module_version": "1.5.0",
            "_view_count": null,
            "_view_module_version": "1.2.0",
            "_model_module": "@jupyter-widgets/controls"
          }
        },
        "a50a6ecbe67c4dd8bef34ec0cba8df66": {
          "model_module": "@jupyter-widgets/base",
          "model_name": "LayoutModel",
          "model_module_version": "1.2.0",
          "state": {
            "_view_name": "LayoutView",
            "grid_template_rows": null,
            "right": null,
            "justify_content": null,
            "_view_module": "@jupyter-widgets/base",
            "overflow": null,
            "_model_module_version": "1.2.0",
            "_view_count": null,
            "flex_flow": null,
            "width": null,
            "min_width": null,
            "border": null,
            "align_items": null,
            "bottom": null,
            "_model_module": "@jupyter-widgets/base",
            "top": null,
            "grid_column": null,
            "overflow_y": null,
            "overflow_x": null,
            "grid_auto_flow": null,
            "grid_area": null,
            "grid_template_columns": null,
            "flex": null,
            "_model_name": "LayoutModel",
            "justify_items": null,
            "grid_row": null,
            "max_height": null,
            "align_content": null,
            "visibility": null,
            "align_self": null,
            "height": null,
            "min_height": null,
            "padding": null,
            "grid_auto_rows": null,
            "grid_gap": null,
            "max_width": null,
            "order": null,
            "_view_module_version": "1.2.0",
            "grid_template_areas": null,
            "object_position": null,
            "object_fit": null,
            "grid_auto_columns": null,
            "margin": null,
            "display": null,
            "left": null
          }
        },
        "9faae84f860f45478224229cdfc9606a": {
          "model_module": "@jupyter-widgets/controls",
          "model_name": "HBoxModel",
          "model_module_version": "1.5.0",
          "state": {
            "_view_name": "HBoxView",
            "_dom_classes": [],
            "_model_name": "HBoxModel",
            "_view_module": "@jupyter-widgets/controls",
            "_model_module_version": "1.5.0",
            "_view_count": null,
            "_view_module_version": "1.5.0",
            "box_style": "",
            "layout": "IPY_MODEL_0c2247aa675c46a1be2201be475040e7",
            "_model_module": "@jupyter-widgets/controls",
            "children": [
              "IPY_MODEL_ddbfcbb067434871bca2b2f019ae68d9",
              "IPY_MODEL_1e985556d89b4306a142f9cc4c170650",
              "IPY_MODEL_00f0ee6936b94dfb9b412230cfc2f951"
            ]
          }
        },
        "0c2247aa675c46a1be2201be475040e7": {
          "model_module": "@jupyter-widgets/base",
          "model_name": "LayoutModel",
          "model_module_version": "1.2.0",
          "state": {
            "_view_name": "LayoutView",
            "grid_template_rows": null,
            "right": null,
            "justify_content": null,
            "_view_module": "@jupyter-widgets/base",
            "overflow": null,
            "_model_module_version": "1.2.0",
            "_view_count": null,
            "flex_flow": null,
            "width": null,
            "min_width": null,
            "border": null,
            "align_items": null,
            "bottom": null,
            "_model_module": "@jupyter-widgets/base",
            "top": null,
            "grid_column": null,
            "overflow_y": null,
            "overflow_x": null,
            "grid_auto_flow": null,
            "grid_area": null,
            "grid_template_columns": null,
            "flex": null,
            "_model_name": "LayoutModel",
            "justify_items": null,
            "grid_row": null,
            "max_height": null,
            "align_content": null,
            "visibility": null,
            "align_self": null,
            "height": null,
            "min_height": null,
            "padding": null,
            "grid_auto_rows": null,
            "grid_gap": null,
            "max_width": null,
            "order": null,
            "_view_module_version": "1.2.0",
            "grid_template_areas": null,
            "object_position": null,
            "object_fit": null,
            "grid_auto_columns": null,
            "margin": null,
            "display": null,
            "left": null
          }
        },
        "ddbfcbb067434871bca2b2f019ae68d9": {
          "model_module": "@jupyter-widgets/controls",
          "model_name": "HTMLModel",
          "model_module_version": "1.5.0",
          "state": {
            "_view_name": "HTMLView",
            "style": "IPY_MODEL_1edd5f3b72d14b6f9911453cda52f126",
            "_dom_classes": [],
            "description": "",
            "_model_name": "HTMLModel",
            "placeholder": "​",
            "_view_module": "@jupyter-widgets/controls",
            "_model_module_version": "1.5.0",
            "value": "100%",
            "_view_count": null,
            "_view_module_version": "1.5.0",
            "description_tooltip": null,
            "_model_module": "@jupyter-widgets/controls",
            "layout": "IPY_MODEL_c2c5b598e682429799bfd01950842795"
          }
        },
        "1e985556d89b4306a142f9cc4c170650": {
          "model_module": "@jupyter-widgets/controls",
          "model_name": "FloatProgressModel",
          "model_module_version": "1.5.0",
          "state": {
            "_view_name": "ProgressView",
            "style": "IPY_MODEL_1b057655cf274637a45927b80d2caf80",
            "_dom_classes": [],
            "description": "",
            "_model_name": "FloatProgressModel",
            "bar_style": "success",
            "max": 2185,
            "_view_module": "@jupyter-widgets/controls",
            "_model_module_version": "1.5.0",
            "value": 2185,
            "_view_count": null,
            "_view_module_version": "1.5.0",
            "orientation": "horizontal",
            "min": 0,
            "description_tooltip": null,
            "_model_module": "@jupyter-widgets/controls",
            "layout": "IPY_MODEL_c6c717f476bf40b89d2d330ad3df099c"
          }
        },
        "00f0ee6936b94dfb9b412230cfc2f951": {
          "model_module": "@jupyter-widgets/controls",
          "model_name": "HTMLModel",
          "model_module_version": "1.5.0",
          "state": {
            "_view_name": "HTMLView",
            "style": "IPY_MODEL_0b0e9522b8184dce8769b64a327a2829",
            "_dom_classes": [],
            "description": "",
            "_model_name": "HTMLModel",
            "placeholder": "​",
            "_view_module": "@jupyter-widgets/controls",
            "_model_module_version": "1.5.0",
            "value": " 2185/2185 [00:00&lt;00:00, 11228.51it/s]",
            "_view_count": null,
            "_view_module_version": "1.5.0",
            "description_tooltip": null,
            "_model_module": "@jupyter-widgets/controls",
            "layout": "IPY_MODEL_b3e3124498a844da95d2794706f05fa4"
          }
        },
        "1edd5f3b72d14b6f9911453cda52f126": {
          "model_module": "@jupyter-widgets/controls",
          "model_name": "DescriptionStyleModel",
          "model_module_version": "1.5.0",
          "state": {
            "_view_name": "StyleView",
            "_model_name": "DescriptionStyleModel",
            "description_width": "",
            "_view_module": "@jupyter-widgets/base",
            "_model_module_version": "1.5.0",
            "_view_count": null,
            "_view_module_version": "1.2.0",
            "_model_module": "@jupyter-widgets/controls"
          }
        },
        "c2c5b598e682429799bfd01950842795": {
          "model_module": "@jupyter-widgets/base",
          "model_name": "LayoutModel",
          "model_module_version": "1.2.0",
          "state": {
            "_view_name": "LayoutView",
            "grid_template_rows": null,
            "right": null,
            "justify_content": null,
            "_view_module": "@jupyter-widgets/base",
            "overflow": null,
            "_model_module_version": "1.2.0",
            "_view_count": null,
            "flex_flow": null,
            "width": null,
            "min_width": null,
            "border": null,
            "align_items": null,
            "bottom": null,
            "_model_module": "@jupyter-widgets/base",
            "top": null,
            "grid_column": null,
            "overflow_y": null,
            "overflow_x": null,
            "grid_auto_flow": null,
            "grid_area": null,
            "grid_template_columns": null,
            "flex": null,
            "_model_name": "LayoutModel",
            "justify_items": null,
            "grid_row": null,
            "max_height": null,
            "align_content": null,
            "visibility": null,
            "align_self": null,
            "height": null,
            "min_height": null,
            "padding": null,
            "grid_auto_rows": null,
            "grid_gap": null,
            "max_width": null,
            "order": null,
            "_view_module_version": "1.2.0",
            "grid_template_areas": null,
            "object_position": null,
            "object_fit": null,
            "grid_auto_columns": null,
            "margin": null,
            "display": null,
            "left": null
          }
        },
        "1b057655cf274637a45927b80d2caf80": {
          "model_module": "@jupyter-widgets/controls",
          "model_name": "ProgressStyleModel",
          "model_module_version": "1.5.0",
          "state": {
            "_view_name": "StyleView",
            "_model_name": "ProgressStyleModel",
            "description_width": "",
            "_view_module": "@jupyter-widgets/base",
            "_model_module_version": "1.5.0",
            "_view_count": null,
            "_view_module_version": "1.2.0",
            "bar_color": null,
            "_model_module": "@jupyter-widgets/controls"
          }
        },
        "c6c717f476bf40b89d2d330ad3df099c": {
          "model_module": "@jupyter-widgets/base",
          "model_name": "LayoutModel",
          "model_module_version": "1.2.0",
          "state": {
            "_view_name": "LayoutView",
            "grid_template_rows": null,
            "right": null,
            "justify_content": null,
            "_view_module": "@jupyter-widgets/base",
            "overflow": null,
            "_model_module_version": "1.2.0",
            "_view_count": null,
            "flex_flow": null,
            "width": null,
            "min_width": null,
            "border": null,
            "align_items": null,
            "bottom": null,
            "_model_module": "@jupyter-widgets/base",
            "top": null,
            "grid_column": null,
            "overflow_y": null,
            "overflow_x": null,
            "grid_auto_flow": null,
            "grid_area": null,
            "grid_template_columns": null,
            "flex": null,
            "_model_name": "LayoutModel",
            "justify_items": null,
            "grid_row": null,
            "max_height": null,
            "align_content": null,
            "visibility": null,
            "align_self": null,
            "height": null,
            "min_height": null,
            "padding": null,
            "grid_auto_rows": null,
            "grid_gap": null,
            "max_width": null,
            "order": null,
            "_view_module_version": "1.2.0",
            "grid_template_areas": null,
            "object_position": null,
            "object_fit": null,
            "grid_auto_columns": null,
            "margin": null,
            "display": null,
            "left": null
          }
        },
        "0b0e9522b8184dce8769b64a327a2829": {
          "model_module": "@jupyter-widgets/controls",
          "model_name": "DescriptionStyleModel",
          "model_module_version": "1.5.0",
          "state": {
            "_view_name": "StyleView",
            "_model_name": "DescriptionStyleModel",
            "description_width": "",
            "_view_module": "@jupyter-widgets/base",
            "_model_module_version": "1.5.0",
            "_view_count": null,
            "_view_module_version": "1.2.0",
            "_model_module": "@jupyter-widgets/controls"
          }
        },
        "b3e3124498a844da95d2794706f05fa4": {
          "model_module": "@jupyter-widgets/base",
          "model_name": "LayoutModel",
          "model_module_version": "1.2.0",
          "state": {
            "_view_name": "LayoutView",
            "grid_template_rows": null,
            "right": null,
            "justify_content": null,
            "_view_module": "@jupyter-widgets/base",
            "overflow": null,
            "_model_module_version": "1.2.0",
            "_view_count": null,
            "flex_flow": null,
            "width": null,
            "min_width": null,
            "border": null,
            "align_items": null,
            "bottom": null,
            "_model_module": "@jupyter-widgets/base",
            "top": null,
            "grid_column": null,
            "overflow_y": null,
            "overflow_x": null,
            "grid_auto_flow": null,
            "grid_area": null,
            "grid_template_columns": null,
            "flex": null,
            "_model_name": "LayoutModel",
            "justify_items": null,
            "grid_row": null,
            "max_height": null,
            "align_content": null,
            "visibility": null,
            "align_self": null,
            "height": null,
            "min_height": null,
            "padding": null,
            "grid_auto_rows": null,
            "grid_gap": null,
            "max_width": null,
            "order": null,
            "_view_module_version": "1.2.0",
            "grid_template_areas": null,
            "object_position": null,
            "object_fit": null,
            "grid_auto_columns": null,
            "margin": null,
            "display": null,
            "left": null
          }
        },
        "09eb6a4c06f74564b5499bca1bcc70f8": {
          "model_module": "@jupyter-widgets/controls",
          "model_name": "HBoxModel",
          "model_module_version": "1.5.0",
          "state": {
            "_view_name": "HBoxView",
            "_dom_classes": [],
            "_model_name": "HBoxModel",
            "_view_module": "@jupyter-widgets/controls",
            "_model_module_version": "1.5.0",
            "_view_count": null,
            "_view_module_version": "1.5.0",
            "box_style": "",
            "layout": "IPY_MODEL_f04f585e035648248250527a7c406026",
            "_model_module": "@jupyter-widgets/controls",
            "children": [
              "IPY_MODEL_745b77a4676c45b6a118c6306bc8e024",
              "IPY_MODEL_b892d2813db94bd88bc4fd01bbe4a72f",
              "IPY_MODEL_b7e46523c69d4eab8465d3ad1d2e198c"
            ]
          }
        },
        "f04f585e035648248250527a7c406026": {
          "model_module": "@jupyter-widgets/base",
          "model_name": "LayoutModel",
          "model_module_version": "1.2.0",
          "state": {
            "_view_name": "LayoutView",
            "grid_template_rows": null,
            "right": null,
            "justify_content": null,
            "_view_module": "@jupyter-widgets/base",
            "overflow": null,
            "_model_module_version": "1.2.0",
            "_view_count": null,
            "flex_flow": null,
            "width": null,
            "min_width": null,
            "border": null,
            "align_items": null,
            "bottom": null,
            "_model_module": "@jupyter-widgets/base",
            "top": null,
            "grid_column": null,
            "overflow_y": null,
            "overflow_x": null,
            "grid_auto_flow": null,
            "grid_area": null,
            "grid_template_columns": null,
            "flex": null,
            "_model_name": "LayoutModel",
            "justify_items": null,
            "grid_row": null,
            "max_height": null,
            "align_content": null,
            "visibility": null,
            "align_self": null,
            "height": null,
            "min_height": null,
            "padding": null,
            "grid_auto_rows": null,
            "grid_gap": null,
            "max_width": null,
            "order": null,
            "_view_module_version": "1.2.0",
            "grid_template_areas": null,
            "object_position": null,
            "object_fit": null,
            "grid_auto_columns": null,
            "margin": null,
            "display": null,
            "left": null
          }
        },
        "745b77a4676c45b6a118c6306bc8e024": {
          "model_module": "@jupyter-widgets/controls",
          "model_name": "HTMLModel",
          "model_module_version": "1.5.0",
          "state": {
            "_view_name": "HTMLView",
            "style": "IPY_MODEL_bf1e6cb80845403c81926549cb89b284",
            "_dom_classes": [],
            "description": "",
            "_model_name": "HTMLModel",
            "placeholder": "​",
            "_view_module": "@jupyter-widgets/controls",
            "_model_module_version": "1.5.0",
            "value": "100%",
            "_view_count": null,
            "_view_module_version": "1.5.0",
            "description_tooltip": null,
            "_model_module": "@jupyter-widgets/controls",
            "layout": "IPY_MODEL_5344e294503b413c93bf287f152c6a57"
          }
        },
        "b892d2813db94bd88bc4fd01bbe4a72f": {
          "model_module": "@jupyter-widgets/controls",
          "model_name": "FloatProgressModel",
          "model_module_version": "1.5.0",
          "state": {
            "_view_name": "ProgressView",
            "style": "IPY_MODEL_d718d0eea74c4609b0737acb3659e8ae",
            "_dom_classes": [],
            "description": "",
            "_model_name": "FloatProgressModel",
            "bar_style": "success",
            "max": 2185,
            "_view_module": "@jupyter-widgets/controls",
            "_model_module_version": "1.5.0",
            "value": 2185,
            "_view_count": null,
            "_view_module_version": "1.5.0",
            "orientation": "horizontal",
            "min": 0,
            "description_tooltip": null,
            "_model_module": "@jupyter-widgets/controls",
            "layout": "IPY_MODEL_2c0e39a62c2e4e7c9c70a7834129fb8d"
          }
        },
        "b7e46523c69d4eab8465d3ad1d2e198c": {
          "model_module": "@jupyter-widgets/controls",
          "model_name": "HTMLModel",
          "model_module_version": "1.5.0",
          "state": {
            "_view_name": "HTMLView",
            "style": "IPY_MODEL_b3431b3047914058bcbe2167dfd8b81d",
            "_dom_classes": [],
            "description": "",
            "_model_name": "HTMLModel",
            "placeholder": "​",
            "_view_module": "@jupyter-widgets/controls",
            "_model_module_version": "1.5.0",
            "value": " 2185/2185 [00:00&lt;00:00, 2240.20it/s]",
            "_view_count": null,
            "_view_module_version": "1.5.0",
            "description_tooltip": null,
            "_model_module": "@jupyter-widgets/controls",
            "layout": "IPY_MODEL_31cdff39e1a14e35831fa5590f9898ed"
          }
        },
        "bf1e6cb80845403c81926549cb89b284": {
          "model_module": "@jupyter-widgets/controls",
          "model_name": "DescriptionStyleModel",
          "model_module_version": "1.5.0",
          "state": {
            "_view_name": "StyleView",
            "_model_name": "DescriptionStyleModel",
            "description_width": "",
            "_view_module": "@jupyter-widgets/base",
            "_model_module_version": "1.5.0",
            "_view_count": null,
            "_view_module_version": "1.2.0",
            "_model_module": "@jupyter-widgets/controls"
          }
        },
        "5344e294503b413c93bf287f152c6a57": {
          "model_module": "@jupyter-widgets/base",
          "model_name": "LayoutModel",
          "model_module_version": "1.2.0",
          "state": {
            "_view_name": "LayoutView",
            "grid_template_rows": null,
            "right": null,
            "justify_content": null,
            "_view_module": "@jupyter-widgets/base",
            "overflow": null,
            "_model_module_version": "1.2.0",
            "_view_count": null,
            "flex_flow": null,
            "width": null,
            "min_width": null,
            "border": null,
            "align_items": null,
            "bottom": null,
            "_model_module": "@jupyter-widgets/base",
            "top": null,
            "grid_column": null,
            "overflow_y": null,
            "overflow_x": null,
            "grid_auto_flow": null,
            "grid_area": null,
            "grid_template_columns": null,
            "flex": null,
            "_model_name": "LayoutModel",
            "justify_items": null,
            "grid_row": null,
            "max_height": null,
            "align_content": null,
            "visibility": null,
            "align_self": null,
            "height": null,
            "min_height": null,
            "padding": null,
            "grid_auto_rows": null,
            "grid_gap": null,
            "max_width": null,
            "order": null,
            "_view_module_version": "1.2.0",
            "grid_template_areas": null,
            "object_position": null,
            "object_fit": null,
            "grid_auto_columns": null,
            "margin": null,
            "display": null,
            "left": null
          }
        },
        "d718d0eea74c4609b0737acb3659e8ae": {
          "model_module": "@jupyter-widgets/controls",
          "model_name": "ProgressStyleModel",
          "model_module_version": "1.5.0",
          "state": {
            "_view_name": "StyleView",
            "_model_name": "ProgressStyleModel",
            "description_width": "",
            "_view_module": "@jupyter-widgets/base",
            "_model_module_version": "1.5.0",
            "_view_count": null,
            "_view_module_version": "1.2.0",
            "bar_color": null,
            "_model_module": "@jupyter-widgets/controls"
          }
        },
        "2c0e39a62c2e4e7c9c70a7834129fb8d": {
          "model_module": "@jupyter-widgets/base",
          "model_name": "LayoutModel",
          "model_module_version": "1.2.0",
          "state": {
            "_view_name": "LayoutView",
            "grid_template_rows": null,
            "right": null,
            "justify_content": null,
            "_view_module": "@jupyter-widgets/base",
            "overflow": null,
            "_model_module_version": "1.2.0",
            "_view_count": null,
            "flex_flow": null,
            "width": null,
            "min_width": null,
            "border": null,
            "align_items": null,
            "bottom": null,
            "_model_module": "@jupyter-widgets/base",
            "top": null,
            "grid_column": null,
            "overflow_y": null,
            "overflow_x": null,
            "grid_auto_flow": null,
            "grid_area": null,
            "grid_template_columns": null,
            "flex": null,
            "_model_name": "LayoutModel",
            "justify_items": null,
            "grid_row": null,
            "max_height": null,
            "align_content": null,
            "visibility": null,
            "align_self": null,
            "height": null,
            "min_height": null,
            "padding": null,
            "grid_auto_rows": null,
            "grid_gap": null,
            "max_width": null,
            "order": null,
            "_view_module_version": "1.2.0",
            "grid_template_areas": null,
            "object_position": null,
            "object_fit": null,
            "grid_auto_columns": null,
            "margin": null,
            "display": null,
            "left": null
          }
        },
        "b3431b3047914058bcbe2167dfd8b81d": {
          "model_module": "@jupyter-widgets/controls",
          "model_name": "DescriptionStyleModel",
          "model_module_version": "1.5.0",
          "state": {
            "_view_name": "StyleView",
            "_model_name": "DescriptionStyleModel",
            "description_width": "",
            "_view_module": "@jupyter-widgets/base",
            "_model_module_version": "1.5.0",
            "_view_count": null,
            "_view_module_version": "1.2.0",
            "_model_module": "@jupyter-widgets/controls"
          }
        },
        "31cdff39e1a14e35831fa5590f9898ed": {
          "model_module": "@jupyter-widgets/base",
          "model_name": "LayoutModel",
          "model_module_version": "1.2.0",
          "state": {
            "_view_name": "LayoutView",
            "grid_template_rows": null,
            "right": null,
            "justify_content": null,
            "_view_module": "@jupyter-widgets/base",
            "overflow": null,
            "_model_module_version": "1.2.0",
            "_view_count": null,
            "flex_flow": null,
            "width": null,
            "min_width": null,
            "border": null,
            "align_items": null,
            "bottom": null,
            "_model_module": "@jupyter-widgets/base",
            "top": null,
            "grid_column": null,
            "overflow_y": null,
            "overflow_x": null,
            "grid_auto_flow": null,
            "grid_area": null,
            "grid_template_columns": null,
            "flex": null,
            "_model_name": "LayoutModel",
            "justify_items": null,
            "grid_row": null,
            "max_height": null,
            "align_content": null,
            "visibility": null,
            "align_self": null,
            "height": null,
            "min_height": null,
            "padding": null,
            "grid_auto_rows": null,
            "grid_gap": null,
            "max_width": null,
            "order": null,
            "_view_module_version": "1.2.0",
            "grid_template_areas": null,
            "object_position": null,
            "object_fit": null,
            "grid_auto_columns": null,
            "margin": null,
            "display": null,
            "left": null
          }
        },
        "bd0c208f34464a63a316c13977e99937": {
          "model_module": "@jupyter-widgets/controls",
          "model_name": "HBoxModel",
          "model_module_version": "1.5.0",
          "state": {
            "_view_name": "HBoxView",
            "_dom_classes": [],
            "_model_name": "HBoxModel",
            "_view_module": "@jupyter-widgets/controls",
            "_model_module_version": "1.5.0",
            "_view_count": null,
            "_view_module_version": "1.5.0",
            "box_style": "",
            "layout": "IPY_MODEL_3b20f542cc3b4129bd9daef56b1cb600",
            "_model_module": "@jupyter-widgets/controls",
            "children": [
              "IPY_MODEL_4e180fceac0d4c3cbaeeba985b0b97cb",
              "IPY_MODEL_e0c92899f1e94bfea0f6d978c938d58e",
              "IPY_MODEL_bf78a95537c145c4ad1367e4185195dd"
            ]
          }
        },
        "3b20f542cc3b4129bd9daef56b1cb600": {
          "model_module": "@jupyter-widgets/base",
          "model_name": "LayoutModel",
          "model_module_version": "1.2.0",
          "state": {
            "_view_name": "LayoutView",
            "grid_template_rows": null,
            "right": null,
            "justify_content": null,
            "_view_module": "@jupyter-widgets/base",
            "overflow": null,
            "_model_module_version": "1.2.0",
            "_view_count": null,
            "flex_flow": null,
            "width": null,
            "min_width": null,
            "border": null,
            "align_items": null,
            "bottom": null,
            "_model_module": "@jupyter-widgets/base",
            "top": null,
            "grid_column": null,
            "overflow_y": null,
            "overflow_x": null,
            "grid_auto_flow": null,
            "grid_area": null,
            "grid_template_columns": null,
            "flex": null,
            "_model_name": "LayoutModel",
            "justify_items": null,
            "grid_row": null,
            "max_height": null,
            "align_content": null,
            "visibility": null,
            "align_self": null,
            "height": null,
            "min_height": null,
            "padding": null,
            "grid_auto_rows": null,
            "grid_gap": null,
            "max_width": null,
            "order": null,
            "_view_module_version": "1.2.0",
            "grid_template_areas": null,
            "object_position": null,
            "object_fit": null,
            "grid_auto_columns": null,
            "margin": null,
            "display": null,
            "left": null
          }
        },
        "4e180fceac0d4c3cbaeeba985b0b97cb": {
          "model_module": "@jupyter-widgets/controls",
          "model_name": "HTMLModel",
          "model_module_version": "1.5.0",
          "state": {
            "_view_name": "HTMLView",
            "style": "IPY_MODEL_2e3cb99007674aad9bee8305ac8d51d2",
            "_dom_classes": [],
            "description": "",
            "_model_name": "HTMLModel",
            "placeholder": "​",
            "_view_module": "@jupyter-widgets/controls",
            "_model_module_version": "1.5.0",
            "value": "100%",
            "_view_count": null,
            "_view_module_version": "1.5.0",
            "description_tooltip": null,
            "_model_module": "@jupyter-widgets/controls",
            "layout": "IPY_MODEL_e655ad3a03024d24a5788d27e34e9d59"
          }
        },
        "e0c92899f1e94bfea0f6d978c938d58e": {
          "model_module": "@jupyter-widgets/controls",
          "model_name": "FloatProgressModel",
          "model_module_version": "1.5.0",
          "state": {
            "_view_name": "ProgressView",
            "style": "IPY_MODEL_c7036ad8c8574d1c8f1546b37b3ab7bb",
            "_dom_classes": [],
            "description": "",
            "_model_name": "FloatProgressModel",
            "bar_style": "success",
            "max": 559,
            "_view_module": "@jupyter-widgets/controls",
            "_model_module_version": "1.5.0",
            "value": 559,
            "_view_count": null,
            "_view_module_version": "1.5.0",
            "orientation": "horizontal",
            "min": 0,
            "description_tooltip": null,
            "_model_module": "@jupyter-widgets/controls",
            "layout": "IPY_MODEL_feddc52bb980420d8d3aabe63c3a99dc"
          }
        },
        "bf78a95537c145c4ad1367e4185195dd": {
          "model_module": "@jupyter-widgets/controls",
          "model_name": "HTMLModel",
          "model_module_version": "1.5.0",
          "state": {
            "_view_name": "HTMLView",
            "style": "IPY_MODEL_80d5939d7459415fbc83039c68fedb0e",
            "_dom_classes": [],
            "description": "",
            "_model_name": "HTMLModel",
            "placeholder": "​",
            "_view_module": "@jupyter-widgets/controls",
            "_model_module_version": "1.5.0",
            "value": " 559/559 [00:00&lt;00:00, 7231.29it/s]",
            "_view_count": null,
            "_view_module_version": "1.5.0",
            "description_tooltip": null,
            "_model_module": "@jupyter-widgets/controls",
            "layout": "IPY_MODEL_211d35b7b6f64efb81f7839a88cdf4fe"
          }
        },
        "2e3cb99007674aad9bee8305ac8d51d2": {
          "model_module": "@jupyter-widgets/controls",
          "model_name": "DescriptionStyleModel",
          "model_module_version": "1.5.0",
          "state": {
            "_view_name": "StyleView",
            "_model_name": "DescriptionStyleModel",
            "description_width": "",
            "_view_module": "@jupyter-widgets/base",
            "_model_module_version": "1.5.0",
            "_view_count": null,
            "_view_module_version": "1.2.0",
            "_model_module": "@jupyter-widgets/controls"
          }
        },
        "e655ad3a03024d24a5788d27e34e9d59": {
          "model_module": "@jupyter-widgets/base",
          "model_name": "LayoutModel",
          "model_module_version": "1.2.0",
          "state": {
            "_view_name": "LayoutView",
            "grid_template_rows": null,
            "right": null,
            "justify_content": null,
            "_view_module": "@jupyter-widgets/base",
            "overflow": null,
            "_model_module_version": "1.2.0",
            "_view_count": null,
            "flex_flow": null,
            "width": null,
            "min_width": null,
            "border": null,
            "align_items": null,
            "bottom": null,
            "_model_module": "@jupyter-widgets/base",
            "top": null,
            "grid_column": null,
            "overflow_y": null,
            "overflow_x": null,
            "grid_auto_flow": null,
            "grid_area": null,
            "grid_template_columns": null,
            "flex": null,
            "_model_name": "LayoutModel",
            "justify_items": null,
            "grid_row": null,
            "max_height": null,
            "align_content": null,
            "visibility": null,
            "align_self": null,
            "height": null,
            "min_height": null,
            "padding": null,
            "grid_auto_rows": null,
            "grid_gap": null,
            "max_width": null,
            "order": null,
            "_view_module_version": "1.2.0",
            "grid_template_areas": null,
            "object_position": null,
            "object_fit": null,
            "grid_auto_columns": null,
            "margin": null,
            "display": null,
            "left": null
          }
        },
        "c7036ad8c8574d1c8f1546b37b3ab7bb": {
          "model_module": "@jupyter-widgets/controls",
          "model_name": "ProgressStyleModel",
          "model_module_version": "1.5.0",
          "state": {
            "_view_name": "StyleView",
            "_model_name": "ProgressStyleModel",
            "description_width": "",
            "_view_module": "@jupyter-widgets/base",
            "_model_module_version": "1.5.0",
            "_view_count": null,
            "_view_module_version": "1.2.0",
            "bar_color": null,
            "_model_module": "@jupyter-widgets/controls"
          }
        },
        "feddc52bb980420d8d3aabe63c3a99dc": {
          "model_module": "@jupyter-widgets/base",
          "model_name": "LayoutModel",
          "model_module_version": "1.2.0",
          "state": {
            "_view_name": "LayoutView",
            "grid_template_rows": null,
            "right": null,
            "justify_content": null,
            "_view_module": "@jupyter-widgets/base",
            "overflow": null,
            "_model_module_version": "1.2.0",
            "_view_count": null,
            "flex_flow": null,
            "width": null,
            "min_width": null,
            "border": null,
            "align_items": null,
            "bottom": null,
            "_model_module": "@jupyter-widgets/base",
            "top": null,
            "grid_column": null,
            "overflow_y": null,
            "overflow_x": null,
            "grid_auto_flow": null,
            "grid_area": null,
            "grid_template_columns": null,
            "flex": null,
            "_model_name": "LayoutModel",
            "justify_items": null,
            "grid_row": null,
            "max_height": null,
            "align_content": null,
            "visibility": null,
            "align_self": null,
            "height": null,
            "min_height": null,
            "padding": null,
            "grid_auto_rows": null,
            "grid_gap": null,
            "max_width": null,
            "order": null,
            "_view_module_version": "1.2.0",
            "grid_template_areas": null,
            "object_position": null,
            "object_fit": null,
            "grid_auto_columns": null,
            "margin": null,
            "display": null,
            "left": null
          }
        },
        "80d5939d7459415fbc83039c68fedb0e": {
          "model_module": "@jupyter-widgets/controls",
          "model_name": "DescriptionStyleModel",
          "model_module_version": "1.5.0",
          "state": {
            "_view_name": "StyleView",
            "_model_name": "DescriptionStyleModel",
            "description_width": "",
            "_view_module": "@jupyter-widgets/base",
            "_model_module_version": "1.5.0",
            "_view_count": null,
            "_view_module_version": "1.2.0",
            "_model_module": "@jupyter-widgets/controls"
          }
        },
        "211d35b7b6f64efb81f7839a88cdf4fe": {
          "model_module": "@jupyter-widgets/base",
          "model_name": "LayoutModel",
          "model_module_version": "1.2.0",
          "state": {
            "_view_name": "LayoutView",
            "grid_template_rows": null,
            "right": null,
            "justify_content": null,
            "_view_module": "@jupyter-widgets/base",
            "overflow": null,
            "_model_module_version": "1.2.0",
            "_view_count": null,
            "flex_flow": null,
            "width": null,
            "min_width": null,
            "border": null,
            "align_items": null,
            "bottom": null,
            "_model_module": "@jupyter-widgets/base",
            "top": null,
            "grid_column": null,
            "overflow_y": null,
            "overflow_x": null,
            "grid_auto_flow": null,
            "grid_area": null,
            "grid_template_columns": null,
            "flex": null,
            "_model_name": "LayoutModel",
            "justify_items": null,
            "grid_row": null,
            "max_height": null,
            "align_content": null,
            "visibility": null,
            "align_self": null,
            "height": null,
            "min_height": null,
            "padding": null,
            "grid_auto_rows": null,
            "grid_gap": null,
            "max_width": null,
            "order": null,
            "_view_module_version": "1.2.0",
            "grid_template_areas": null,
            "object_position": null,
            "object_fit": null,
            "grid_auto_columns": null,
            "margin": null,
            "display": null,
            "left": null
          }
        },
        "d85ced9d0ed444bb979f84a3592eb088": {
          "model_module": "@jupyter-widgets/controls",
          "model_name": "HBoxModel",
          "model_module_version": "1.5.0",
          "state": {
            "_view_name": "HBoxView",
            "_dom_classes": [],
            "_model_name": "HBoxModel",
            "_view_module": "@jupyter-widgets/controls",
            "_model_module_version": "1.5.0",
            "_view_count": null,
            "_view_module_version": "1.5.0",
            "box_style": "",
            "layout": "IPY_MODEL_543fcfa344f242c0b50f793b8bae9890",
            "_model_module": "@jupyter-widgets/controls",
            "children": [
              "IPY_MODEL_52dc2624cbee4ab08f6489077c4eb6b8",
              "IPY_MODEL_403b4e1edce7464685550ad608d0fa76",
              "IPY_MODEL_325355b70a3f4ecb8c1cadf5217a4a12"
            ]
          }
        },
        "543fcfa344f242c0b50f793b8bae9890": {
          "model_module": "@jupyter-widgets/base",
          "model_name": "LayoutModel",
          "model_module_version": "1.2.0",
          "state": {
            "_view_name": "LayoutView",
            "grid_template_rows": null,
            "right": null,
            "justify_content": null,
            "_view_module": "@jupyter-widgets/base",
            "overflow": null,
            "_model_module_version": "1.2.0",
            "_view_count": null,
            "flex_flow": null,
            "width": null,
            "min_width": null,
            "border": null,
            "align_items": null,
            "bottom": null,
            "_model_module": "@jupyter-widgets/base",
            "top": null,
            "grid_column": null,
            "overflow_y": null,
            "overflow_x": null,
            "grid_auto_flow": null,
            "grid_area": null,
            "grid_template_columns": null,
            "flex": null,
            "_model_name": "LayoutModel",
            "justify_items": null,
            "grid_row": null,
            "max_height": null,
            "align_content": null,
            "visibility": null,
            "align_self": null,
            "height": null,
            "min_height": null,
            "padding": null,
            "grid_auto_rows": null,
            "grid_gap": null,
            "max_width": null,
            "order": null,
            "_view_module_version": "1.2.0",
            "grid_template_areas": null,
            "object_position": null,
            "object_fit": null,
            "grid_auto_columns": null,
            "margin": null,
            "display": null,
            "left": null
          }
        },
        "52dc2624cbee4ab08f6489077c4eb6b8": {
          "model_module": "@jupyter-widgets/controls",
          "model_name": "HTMLModel",
          "model_module_version": "1.5.0",
          "state": {
            "_view_name": "HTMLView",
            "style": "IPY_MODEL_24cd758bbd3d4c38b6e5b01d22cee1bb",
            "_dom_classes": [],
            "description": "",
            "_model_name": "HTMLModel",
            "placeholder": "​",
            "_view_module": "@jupyter-widgets/controls",
            "_model_module_version": "1.5.0",
            "value": "100%",
            "_view_count": null,
            "_view_module_version": "1.5.0",
            "description_tooltip": null,
            "_model_module": "@jupyter-widgets/controls",
            "layout": "IPY_MODEL_426ac095d268461d9556e5ea5c151bae"
          }
        },
        "403b4e1edce7464685550ad608d0fa76": {
          "model_module": "@jupyter-widgets/controls",
          "model_name": "FloatProgressModel",
          "model_module_version": "1.5.0",
          "state": {
            "_view_name": "ProgressView",
            "style": "IPY_MODEL_b6cb09dd8947409892911c23fa380201",
            "_dom_classes": [],
            "description": "",
            "_model_name": "FloatProgressModel",
            "bar_style": "success",
            "max": 2185,
            "_view_module": "@jupyter-widgets/controls",
            "_model_module_version": "1.5.0",
            "value": 2185,
            "_view_count": null,
            "_view_module_version": "1.5.0",
            "orientation": "horizontal",
            "min": 0,
            "description_tooltip": null,
            "_model_module": "@jupyter-widgets/controls",
            "layout": "IPY_MODEL_94d3a466bb164ec3aefbbc7d42589f04"
          }
        },
        "325355b70a3f4ecb8c1cadf5217a4a12": {
          "model_module": "@jupyter-widgets/controls",
          "model_name": "HTMLModel",
          "model_module_version": "1.5.0",
          "state": {
            "_view_name": "HTMLView",
            "style": "IPY_MODEL_85bcdb7f418d46dc8ea7051b8ec307a8",
            "_dom_classes": [],
            "description": "",
            "_model_name": "HTMLModel",
            "placeholder": "​",
            "_view_module": "@jupyter-widgets/controls",
            "_model_module_version": "1.5.0",
            "value": " 2185/2185 [00:00&lt;00:00, 2305.31it/s]",
            "_view_count": null,
            "_view_module_version": "1.5.0",
            "description_tooltip": null,
            "_model_module": "@jupyter-widgets/controls",
            "layout": "IPY_MODEL_29c11d9ee47e4698870c2bbdea5aca67"
          }
        },
        "24cd758bbd3d4c38b6e5b01d22cee1bb": {
          "model_module": "@jupyter-widgets/controls",
          "model_name": "DescriptionStyleModel",
          "model_module_version": "1.5.0",
          "state": {
            "_view_name": "StyleView",
            "_model_name": "DescriptionStyleModel",
            "description_width": "",
            "_view_module": "@jupyter-widgets/base",
            "_model_module_version": "1.5.0",
            "_view_count": null,
            "_view_module_version": "1.2.0",
            "_model_module": "@jupyter-widgets/controls"
          }
        },
        "426ac095d268461d9556e5ea5c151bae": {
          "model_module": "@jupyter-widgets/base",
          "model_name": "LayoutModel",
          "model_module_version": "1.2.0",
          "state": {
            "_view_name": "LayoutView",
            "grid_template_rows": null,
            "right": null,
            "justify_content": null,
            "_view_module": "@jupyter-widgets/base",
            "overflow": null,
            "_model_module_version": "1.2.0",
            "_view_count": null,
            "flex_flow": null,
            "width": null,
            "min_width": null,
            "border": null,
            "align_items": null,
            "bottom": null,
            "_model_module": "@jupyter-widgets/base",
            "top": null,
            "grid_column": null,
            "overflow_y": null,
            "overflow_x": null,
            "grid_auto_flow": null,
            "grid_area": null,
            "grid_template_columns": null,
            "flex": null,
            "_model_name": "LayoutModel",
            "justify_items": null,
            "grid_row": null,
            "max_height": null,
            "align_content": null,
            "visibility": null,
            "align_self": null,
            "height": null,
            "min_height": null,
            "padding": null,
            "grid_auto_rows": null,
            "grid_gap": null,
            "max_width": null,
            "order": null,
            "_view_module_version": "1.2.0",
            "grid_template_areas": null,
            "object_position": null,
            "object_fit": null,
            "grid_auto_columns": null,
            "margin": null,
            "display": null,
            "left": null
          }
        },
        "b6cb09dd8947409892911c23fa380201": {
          "model_module": "@jupyter-widgets/controls",
          "model_name": "ProgressStyleModel",
          "model_module_version": "1.5.0",
          "state": {
            "_view_name": "StyleView",
            "_model_name": "ProgressStyleModel",
            "description_width": "",
            "_view_module": "@jupyter-widgets/base",
            "_model_module_version": "1.5.0",
            "_view_count": null,
            "_view_module_version": "1.2.0",
            "bar_color": null,
            "_model_module": "@jupyter-widgets/controls"
          }
        },
        "94d3a466bb164ec3aefbbc7d42589f04": {
          "model_module": "@jupyter-widgets/base",
          "model_name": "LayoutModel",
          "model_module_version": "1.2.0",
          "state": {
            "_view_name": "LayoutView",
            "grid_template_rows": null,
            "right": null,
            "justify_content": null,
            "_view_module": "@jupyter-widgets/base",
            "overflow": null,
            "_model_module_version": "1.2.0",
            "_view_count": null,
            "flex_flow": null,
            "width": null,
            "min_width": null,
            "border": null,
            "align_items": null,
            "bottom": null,
            "_model_module": "@jupyter-widgets/base",
            "top": null,
            "grid_column": null,
            "overflow_y": null,
            "overflow_x": null,
            "grid_auto_flow": null,
            "grid_area": null,
            "grid_template_columns": null,
            "flex": null,
            "_model_name": "LayoutModel",
            "justify_items": null,
            "grid_row": null,
            "max_height": null,
            "align_content": null,
            "visibility": null,
            "align_self": null,
            "height": null,
            "min_height": null,
            "padding": null,
            "grid_auto_rows": null,
            "grid_gap": null,
            "max_width": null,
            "order": null,
            "_view_module_version": "1.2.0",
            "grid_template_areas": null,
            "object_position": null,
            "object_fit": null,
            "grid_auto_columns": null,
            "margin": null,
            "display": null,
            "left": null
          }
        },
        "85bcdb7f418d46dc8ea7051b8ec307a8": {
          "model_module": "@jupyter-widgets/controls",
          "model_name": "DescriptionStyleModel",
          "model_module_version": "1.5.0",
          "state": {
            "_view_name": "StyleView",
            "_model_name": "DescriptionStyleModel",
            "description_width": "",
            "_view_module": "@jupyter-widgets/base",
            "_model_module_version": "1.5.0",
            "_view_count": null,
            "_view_module_version": "1.2.0",
            "_model_module": "@jupyter-widgets/controls"
          }
        },
        "29c11d9ee47e4698870c2bbdea5aca67": {
          "model_module": "@jupyter-widgets/base",
          "model_name": "LayoutModel",
          "model_module_version": "1.2.0",
          "state": {
            "_view_name": "LayoutView",
            "grid_template_rows": null,
            "right": null,
            "justify_content": null,
            "_view_module": "@jupyter-widgets/base",
            "overflow": null,
            "_model_module_version": "1.2.0",
            "_view_count": null,
            "flex_flow": null,
            "width": null,
            "min_width": null,
            "border": null,
            "align_items": null,
            "bottom": null,
            "_model_module": "@jupyter-widgets/base",
            "top": null,
            "grid_column": null,
            "overflow_y": null,
            "overflow_x": null,
            "grid_auto_flow": null,
            "grid_area": null,
            "grid_template_columns": null,
            "flex": null,
            "_model_name": "LayoutModel",
            "justify_items": null,
            "grid_row": null,
            "max_height": null,
            "align_content": null,
            "visibility": null,
            "align_self": null,
            "height": null,
            "min_height": null,
            "padding": null,
            "grid_auto_rows": null,
            "grid_gap": null,
            "max_width": null,
            "order": null,
            "_view_module_version": "1.2.0",
            "grid_template_areas": null,
            "object_position": null,
            "object_fit": null,
            "grid_auto_columns": null,
            "margin": null,
            "display": null,
            "left": null
          }
        },
        "9c345942568a423b8c44e2b858b764ce": {
          "model_module": "@jupyter-widgets/controls",
          "model_name": "HBoxModel",
          "model_module_version": "1.5.0",
          "state": {
            "_view_name": "HBoxView",
            "_dom_classes": [],
            "_model_name": "HBoxModel",
            "_view_module": "@jupyter-widgets/controls",
            "_model_module_version": "1.5.0",
            "_view_count": null,
            "_view_module_version": "1.5.0",
            "box_style": "",
            "layout": "IPY_MODEL_b1885a1bb8e44204ab761388a4c71831",
            "_model_module": "@jupyter-widgets/controls",
            "children": [
              "IPY_MODEL_b47aa19089134308982b0e9c9765c12d",
              "IPY_MODEL_a64bf3b8846446f1a7381dd2fa3a448c",
              "IPY_MODEL_7d68e781697d4b979eae166816dca57d"
            ]
          }
        },
        "b1885a1bb8e44204ab761388a4c71831": {
          "model_module": "@jupyter-widgets/base",
          "model_name": "LayoutModel",
          "model_module_version": "1.2.0",
          "state": {
            "_view_name": "LayoutView",
            "grid_template_rows": null,
            "right": null,
            "justify_content": null,
            "_view_module": "@jupyter-widgets/base",
            "overflow": null,
            "_model_module_version": "1.2.0",
            "_view_count": null,
            "flex_flow": null,
            "width": null,
            "min_width": null,
            "border": null,
            "align_items": null,
            "bottom": null,
            "_model_module": "@jupyter-widgets/base",
            "top": null,
            "grid_column": null,
            "overflow_y": null,
            "overflow_x": null,
            "grid_auto_flow": null,
            "grid_area": null,
            "grid_template_columns": null,
            "flex": null,
            "_model_name": "LayoutModel",
            "justify_items": null,
            "grid_row": null,
            "max_height": null,
            "align_content": null,
            "visibility": null,
            "align_self": null,
            "height": null,
            "min_height": null,
            "padding": null,
            "grid_auto_rows": null,
            "grid_gap": null,
            "max_width": null,
            "order": null,
            "_view_module_version": "1.2.0",
            "grid_template_areas": null,
            "object_position": null,
            "object_fit": null,
            "grid_auto_columns": null,
            "margin": null,
            "display": null,
            "left": null
          }
        },
        "b47aa19089134308982b0e9c9765c12d": {
          "model_module": "@jupyter-widgets/controls",
          "model_name": "HTMLModel",
          "model_module_version": "1.5.0",
          "state": {
            "_view_name": "HTMLView",
            "style": "IPY_MODEL_089b3ee46bc642299cf80461aaa0d0b3",
            "_dom_classes": [],
            "description": "",
            "_model_name": "HTMLModel",
            "placeholder": "​",
            "_view_module": "@jupyter-widgets/controls",
            "_model_module_version": "1.5.0",
            "value": "100%",
            "_view_count": null,
            "_view_module_version": "1.5.0",
            "description_tooltip": null,
            "_model_module": "@jupyter-widgets/controls",
            "layout": "IPY_MODEL_7c2b5ffac7924d47a45a4c285ab0db0c"
          }
        },
        "a64bf3b8846446f1a7381dd2fa3a448c": {
          "model_module": "@jupyter-widgets/controls",
          "model_name": "FloatProgressModel",
          "model_module_version": "1.5.0",
          "state": {
            "_view_name": "ProgressView",
            "style": "IPY_MODEL_d91b12ef1c704eb6946066c2b267c4ab",
            "_dom_classes": [],
            "description": "",
            "_model_name": "FloatProgressModel",
            "bar_style": "success",
            "max": 475,
            "_view_module": "@jupyter-widgets/controls",
            "_model_module_version": "1.5.0",
            "value": 475,
            "_view_count": null,
            "_view_module_version": "1.5.0",
            "orientation": "horizontal",
            "min": 0,
            "description_tooltip": null,
            "_model_module": "@jupyter-widgets/controls",
            "layout": "IPY_MODEL_59387465257c455093b74d91a1a7651c"
          }
        },
        "7d68e781697d4b979eae166816dca57d": {
          "model_module": "@jupyter-widgets/controls",
          "model_name": "HTMLModel",
          "model_module_version": "1.5.0",
          "state": {
            "_view_name": "HTMLView",
            "style": "IPY_MODEL_b2e66976ab58428ea784f4502c1210cf",
            "_dom_classes": [],
            "description": "",
            "_model_name": "HTMLModel",
            "placeholder": "​",
            "_view_module": "@jupyter-widgets/controls",
            "_model_module_version": "1.5.0",
            "value": " 475/475 [00:00&lt;00:00, 6250.83it/s]",
            "_view_count": null,
            "_view_module_version": "1.5.0",
            "description_tooltip": null,
            "_model_module": "@jupyter-widgets/controls",
            "layout": "IPY_MODEL_edd6abfbe1244684a373e0c48b2b2e2c"
          }
        },
        "089b3ee46bc642299cf80461aaa0d0b3": {
          "model_module": "@jupyter-widgets/controls",
          "model_name": "DescriptionStyleModel",
          "model_module_version": "1.5.0",
          "state": {
            "_view_name": "StyleView",
            "_model_name": "DescriptionStyleModel",
            "description_width": "",
            "_view_module": "@jupyter-widgets/base",
            "_model_module_version": "1.5.0",
            "_view_count": null,
            "_view_module_version": "1.2.0",
            "_model_module": "@jupyter-widgets/controls"
          }
        },
        "7c2b5ffac7924d47a45a4c285ab0db0c": {
          "model_module": "@jupyter-widgets/base",
          "model_name": "LayoutModel",
          "model_module_version": "1.2.0",
          "state": {
            "_view_name": "LayoutView",
            "grid_template_rows": null,
            "right": null,
            "justify_content": null,
            "_view_module": "@jupyter-widgets/base",
            "overflow": null,
            "_model_module_version": "1.2.0",
            "_view_count": null,
            "flex_flow": null,
            "width": null,
            "min_width": null,
            "border": null,
            "align_items": null,
            "bottom": null,
            "_model_module": "@jupyter-widgets/base",
            "top": null,
            "grid_column": null,
            "overflow_y": null,
            "overflow_x": null,
            "grid_auto_flow": null,
            "grid_area": null,
            "grid_template_columns": null,
            "flex": null,
            "_model_name": "LayoutModel",
            "justify_items": null,
            "grid_row": null,
            "max_height": null,
            "align_content": null,
            "visibility": null,
            "align_self": null,
            "height": null,
            "min_height": null,
            "padding": null,
            "grid_auto_rows": null,
            "grid_gap": null,
            "max_width": null,
            "order": null,
            "_view_module_version": "1.2.0",
            "grid_template_areas": null,
            "object_position": null,
            "object_fit": null,
            "grid_auto_columns": null,
            "margin": null,
            "display": null,
            "left": null
          }
        },
        "d91b12ef1c704eb6946066c2b267c4ab": {
          "model_module": "@jupyter-widgets/controls",
          "model_name": "ProgressStyleModel",
          "model_module_version": "1.5.0",
          "state": {
            "_view_name": "StyleView",
            "_model_name": "ProgressStyleModel",
            "description_width": "",
            "_view_module": "@jupyter-widgets/base",
            "_model_module_version": "1.5.0",
            "_view_count": null,
            "_view_module_version": "1.2.0",
            "bar_color": null,
            "_model_module": "@jupyter-widgets/controls"
          }
        },
        "59387465257c455093b74d91a1a7651c": {
          "model_module": "@jupyter-widgets/base",
          "model_name": "LayoutModel",
          "model_module_version": "1.2.0",
          "state": {
            "_view_name": "LayoutView",
            "grid_template_rows": null,
            "right": null,
            "justify_content": null,
            "_view_module": "@jupyter-widgets/base",
            "overflow": null,
            "_model_module_version": "1.2.0",
            "_view_count": null,
            "flex_flow": null,
            "width": null,
            "min_width": null,
            "border": null,
            "align_items": null,
            "bottom": null,
            "_model_module": "@jupyter-widgets/base",
            "top": null,
            "grid_column": null,
            "overflow_y": null,
            "overflow_x": null,
            "grid_auto_flow": null,
            "grid_area": null,
            "grid_template_columns": null,
            "flex": null,
            "_model_name": "LayoutModel",
            "justify_items": null,
            "grid_row": null,
            "max_height": null,
            "align_content": null,
            "visibility": null,
            "align_self": null,
            "height": null,
            "min_height": null,
            "padding": null,
            "grid_auto_rows": null,
            "grid_gap": null,
            "max_width": null,
            "order": null,
            "_view_module_version": "1.2.0",
            "grid_template_areas": null,
            "object_position": null,
            "object_fit": null,
            "grid_auto_columns": null,
            "margin": null,
            "display": null,
            "left": null
          }
        },
        "b2e66976ab58428ea784f4502c1210cf": {
          "model_module": "@jupyter-widgets/controls",
          "model_name": "DescriptionStyleModel",
          "model_module_version": "1.5.0",
          "state": {
            "_view_name": "StyleView",
            "_model_name": "DescriptionStyleModel",
            "description_width": "",
            "_view_module": "@jupyter-widgets/base",
            "_model_module_version": "1.5.0",
            "_view_count": null,
            "_view_module_version": "1.2.0",
            "_model_module": "@jupyter-widgets/controls"
          }
        },
        "edd6abfbe1244684a373e0c48b2b2e2c": {
          "model_module": "@jupyter-widgets/base",
          "model_name": "LayoutModel",
          "model_module_version": "1.2.0",
          "state": {
            "_view_name": "LayoutView",
            "grid_template_rows": null,
            "right": null,
            "justify_content": null,
            "_view_module": "@jupyter-widgets/base",
            "overflow": null,
            "_model_module_version": "1.2.0",
            "_view_count": null,
            "flex_flow": null,
            "width": null,
            "min_width": null,
            "border": null,
            "align_items": null,
            "bottom": null,
            "_model_module": "@jupyter-widgets/base",
            "top": null,
            "grid_column": null,
            "overflow_y": null,
            "overflow_x": null,
            "grid_auto_flow": null,
            "grid_area": null,
            "grid_template_columns": null,
            "flex": null,
            "_model_name": "LayoutModel",
            "justify_items": null,
            "grid_row": null,
            "max_height": null,
            "align_content": null,
            "visibility": null,
            "align_self": null,
            "height": null,
            "min_height": null,
            "padding": null,
            "grid_auto_rows": null,
            "grid_gap": null,
            "max_width": null,
            "order": null,
            "_view_module_version": "1.2.0",
            "grid_template_areas": null,
            "object_position": null,
            "object_fit": null,
            "grid_auto_columns": null,
            "margin": null,
            "display": null,
            "left": null
          }
        }
      }
    }
  },
  "cells": [
    {
      "cell_type": "markdown",
      "metadata": {
        "id": "view-in-github",
        "colab_type": "text"
      },
      "source": [
        "<a href=\"https://colab.research.google.com/github/YUMVOLKOVA/Topic-Modeling/blob/main/Topic_Modeling.ipynb\" target=\"_parent\"><img src=\"https://colab.research.google.com/assets/colab-badge.svg\" alt=\"Open In Colab\"/></a>"
      ]
    },
    {
      "cell_type": "markdown",
      "metadata": {
        "id": "1AuPNuV5d6h-"
      },
      "source": [
        "# Домашнее задание: Topic Modeling\n",
        "#### Волкова Юлия, МОиАД, 2 курс"
      ]
    },
    {
      "cell_type": "markdown",
      "metadata": {
        "id": "Qzj7dx9VgAoV"
      },
      "source": [
        "### Задание\n",
        "Постройте тематическую модель обращений в YouTrack от внешних пользователей в течение последних пяти релизов PyCharm. Визуализируйте её так, чтобы по визуализации можно было бы (хотя бы попытаться) ответить на два следующих вопроса:\n",
        "1. Каковы основные причины для обращений в релизе 2020.2?\n",
        "2. Какие новые проблемы добавились в релизе 2020.3 и какие ушли, по сравнению с релизом 2020.2?\n"
      ]
    },
    {
      "cell_type": "markdown",
      "metadata": {
        "id": "r0WGjpAYvFyu"
      },
      "source": [
        "### Данные"
      ]
    },
    {
      "cell_type": "markdown",
      "metadata": {
        "id": "x11qhVmIeDre"
      },
      "source": [
        "Считываем данные "
      ]
    },
    {
      "cell_type": "code",
      "metadata": {
        "colab": {
          "base_uri": "https://localhost:8080/"
        },
        "id": "rycwc3flaLrl",
        "outputId": "aaae07e3-96b0-4a95-b6e5-e1da48e01c18"
      },
      "source": [
        "import tqdm.notebook as tq\n",
        "import pandas as pd\n",
        "import io\n",
        "import re\n",
        "import numpy\n",
        "\n",
        "import gensim\n",
        "from gensim.utils import simple_preprocess\n",
        "import nltk\n",
        "nltk.download('stopwords')\n",
        "from nltk.corpus import stopwords\n",
        "\n",
        "stop_words = stopwords.words('english')\n",
        "\n",
        "import gensim.corpora as corpora\n",
        "from gensim.corpora import Dictionary  #This module implements the concept of a Dictionary – a mapping between words and their integer ids.\n",
        "# doc2bow - Convert document into the bag-of-words (BoW) format = list of (token_id, token_count) tuples.\n",
        "\n",
        "from gensim.models import LdaMulticore\n"
      ],
      "execution_count": 1,
      "outputs": [
        {
          "output_type": "stream",
          "name": "stdout",
          "text": [
            "[nltk_data] Downloading package stopwords to /root/nltk_data...\n",
            "[nltk_data]   Package stopwords is already up-to-date!\n"
          ]
        }
      ]
    },
    {
      "cell_type": "code",
      "metadata": {
        "id": "u85n0tA1dcvD"
      },
      "source": [
        "# from google.colab import files\n",
        "# uploaded = files.upload()\n",
        "# df = pd.read_json(io.StringIO(uploaded['pycharm_issues.json'].decode('utf-8')), lines=True)"
      ],
      "execution_count": 2,
      "outputs": []
    },
    {
      "cell_type": "code",
      "metadata": {
        "id": "a5oeuAomtDi2"
      },
      "source": [
        "# df = pd.read_json('pycharm_issues.json', lines=True)"
      ],
      "execution_count": 3,
      "outputs": []
    },
    {
      "cell_type": "code",
      "metadata": {
        "colab": {
          "base_uri": "https://localhost:8080/"
        },
        "id": "cKt4aO9aoHHG",
        "outputId": "befcfb27-8127-4da8-a507-5b3f38d8bd83"
      },
      "source": [
        "from google.colab import drive\n",
        "drive.mount('/content/drive')\n",
        "df = pd.read_json('/content/drive/MyDrive/Prod/pycharm_issues.json', lines=True)"
      ],
      "execution_count": 4,
      "outputs": [
        {
          "output_type": "stream",
          "name": "stdout",
          "text": [
            "Drive already mounted at /content/drive; to attempt to forcibly remount, call drive.mount(\"/content/drive\", force_remount=True).\n"
          ]
        }
      ]
    },
    {
      "cell_type": "markdown",
      "metadata": {
        "id": "O0IeBN-_tFdF"
      },
      "source": [
        "Посмотрим на наши данные "
      ]
    },
    {
      "cell_type": "code",
      "metadata": {
        "colab": {
          "base_uri": "https://localhost:8080/",
          "height": 423
        },
        "id": "5u5yk81_fvmU",
        "outputId": "4e68d970-89f2-403b-b109-9844191ed028"
      },
      "source": [
        "df"
      ],
      "execution_count": 5,
      "outputs": [
        {
          "output_type": "execute_result",
          "data": {
            "text/html": [
              "<div>\n",
              "<style scoped>\n",
              "    .dataframe tbody tr th:only-of-type {\n",
              "        vertical-align: middle;\n",
              "    }\n",
              "\n",
              "    .dataframe tbody tr th {\n",
              "        vertical-align: top;\n",
              "    }\n",
              "\n",
              "    .dataframe thead th {\n",
              "        text-align: right;\n",
              "    }\n",
              "</style>\n",
              "<table border=\"1\" class=\"dataframe\">\n",
              "  <thead>\n",
              "    <tr style=\"text-align: right;\">\n",
              "      <th></th>\n",
              "      <th>idReadable</th>\n",
              "      <th>created</th>\n",
              "      <th>summary</th>\n",
              "      <th>description</th>\n",
              "      <th>Affected versions</th>\n",
              "    </tr>\n",
              "  </thead>\n",
              "  <tbody>\n",
              "    <tr>\n",
              "      <th>0</th>\n",
              "      <td>PY-22135</td>\n",
              "      <td>1483471995465</td>\n",
              "      <td>\"Parameter foo unfilled\": false positives for ...</td>\n",
              "      <td>I'm getting false \"Incorrect call argument\" in...</td>\n",
              "      <td>[2016.3]</td>\n",
              "    </tr>\n",
              "    <tr>\n",
              "      <th>1</th>\n",
              "      <td>PY-22143</td>\n",
              "      <td>1483528763930</td>\n",
              "      <td>Python Extract Superclass: Incorrect Order of ...</td>\n",
              "      <td>When extracting superclasses, if extractions i...</td>\n",
              "      <td>[2016.3]</td>\n",
              "    </tr>\n",
              "    <tr>\n",
              "      <th>2</th>\n",
              "      <td>PY-22145</td>\n",
              "      <td>1483545972098</td>\n",
              "      <td>Inspection does not report 'Unresolved Referen...</td>\n",
              "      <td>If a variable is deleted using the `del` state...</td>\n",
              "      <td>[2016.2]</td>\n",
              "    </tr>\n",
              "    <tr>\n",
              "      <th>3</th>\n",
              "      <td>PY-22149</td>\n",
              "      <td>1483572086024</td>\n",
              "      <td>ipython notebook clear_output() not working</td>\n",
              "      <td>Below code should print only once \"Hellow Worl...</td>\n",
              "      <td>[]</td>\n",
              "    </tr>\n",
              "    <tr>\n",
              "      <th>4</th>\n",
              "      <td>PY-22128</td>\n",
              "      <td>1483387969625</td>\n",
              "      <td>False negative: no error for round brackets in...</td>\n",
              "      <td>I believe it's rather a common typo to use rou...</td>\n",
              "      <td>[2017.1]</td>\n",
              "    </tr>\n",
              "    <tr>\n",
              "      <th>...</th>\n",
              "      <td>...</td>\n",
              "      <td>...</td>\n",
              "      <td>...</td>\n",
              "      <td>...</td>\n",
              "      <td>...</td>\n",
              "    </tr>\n",
              "    <tr>\n",
              "      <th>22009</th>\n",
              "      <td>PY-51597</td>\n",
              "      <td>1636879129851</td>\n",
              "      <td>Intellij don't recognize python3 installed by ...</td>\n",
              "      <td>\\n\\nIU-212.5457.46, JRE 11.0.12+7-b1504.40x64 ...</td>\n",
              "      <td>[]</td>\n",
              "    </tr>\n",
              "    <tr>\n",
              "      <th>22010</th>\n",
              "      <td>PY-51594</td>\n",
              "      <td>1636908525899</td>\n",
              "      <td>url tag in django template that uses filters o...</td>\n",
              "      <td>When using the {% url %} tag in a Django templ...</td>\n",
              "      <td>[]</td>\n",
              "    </tr>\n",
              "    <tr>\n",
              "      <th>22011</th>\n",
              "      <td>PY-51588</td>\n",
              "      <td>1636866008572</td>\n",
              "      <td>Variable incorrectly marked as used</td>\n",
              "      <td>Hi, in this example, tha variable 'idocking' i...</td>\n",
              "      <td>[]</td>\n",
              "    </tr>\n",
              "    <tr>\n",
              "      <th>22012</th>\n",
              "      <td>PY-51595</td>\n",
              "      <td>1636912616563</td>\n",
              "      <td>Warn on invalid iterable unpack</td>\n",
              "      <td>```python\\nimport time\\n\\ndef foo() -&gt; float:\\...</td>\n",
              "      <td>[2021.2]</td>\n",
              "    </tr>\n",
              "    <tr>\n",
              "      <th>22013</th>\n",
              "      <td>PY-51589</td>\n",
              "      <td>1636892605382</td>\n",
              "      <td>Documentation Pop-up, wrong styling.</td>\n",
              "      <td>PC-212.5457.59, JRE 11.0.12+7-b1504.40x64 JetB...</td>\n",
              "      <td>[]</td>\n",
              "    </tr>\n",
              "  </tbody>\n",
              "</table>\n",
              "<p>22014 rows × 5 columns</p>\n",
              "</div>"
            ],
            "text/plain": [
              "      idReadable  ...  Affected versions\n",
              "0       PY-22135  ...           [2016.3]\n",
              "1       PY-22143  ...           [2016.3]\n",
              "2       PY-22145  ...           [2016.2]\n",
              "3       PY-22149  ...                 []\n",
              "4       PY-22128  ...           [2017.1]\n",
              "...          ...  ...                ...\n",
              "22009   PY-51597  ...                 []\n",
              "22010   PY-51594  ...                 []\n",
              "22011   PY-51588  ...                 []\n",
              "22012   PY-51595  ...           [2021.2]\n",
              "22013   PY-51589  ...                 []\n",
              "\n",
              "[22014 rows x 5 columns]"
            ]
          },
          "metadata": {},
          "execution_count": 5
        }
      ]
    },
    {
      "cell_type": "markdown",
      "metadata": {
        "id": "Z9fZrg_Uhmps"
      },
      "source": [
        "\"...в течение последних пяти релизов ...\" $->$ фильтруем датасет по пяти последним значениям Affected versions"
      ]
    },
    {
      "cell_type": "code",
      "metadata": {
        "id": "F859tbGHhkec"
      },
      "source": [
        "import itertools\n",
        "last_five = sorted(list(set(list(itertools.chain(*df['Affected versions'])))))[-5:]"
      ],
      "execution_count": 6,
      "outputs": []
    },
    {
      "cell_type": "code",
      "metadata": {
        "colab": {
          "base_uri": "https://localhost:8080/"
        },
        "id": "UoBIOTvSjVA2",
        "outputId": "82b1f168-2cb7-4e25-b73c-aabcc8cc5cb7"
      },
      "source": [
        "last_five = [[i] for i in last_five]\n",
        "last_five"
      ],
      "execution_count": 7,
      "outputs": [
        {
          "output_type": "execute_result",
          "data": {
            "text/plain": [
              "[['2020.2'], ['2020.3'], ['2021.1'], ['2021.2'], ['2021.3']]"
            ]
          },
          "metadata": {},
          "execution_count": 7
        }
      ]
    },
    {
      "cell_type": "code",
      "metadata": {
        "colab": {
          "base_uri": "https://localhost:8080/",
          "height": 49,
          "referenced_widgets": [
            "eeaa34b2d6c042ee973944b825d24bf3",
            "009f8786835446229e1ed07a89e047f9",
            "0e87bc22ed204c66be4ea7ba089dd95b",
            "5895a8d7cfcf4134b858079681bd9479",
            "ef3ac13d3d7a4896a1439ffe90fddb73",
            "a7496ad92b8a4157b97962b6082e9b6e",
            "122f0d62c58943bfa25d824bae12b522",
            "b6b26e1872d445afbfe58448c0ae2617",
            "57bb92589f9b4ba78bbd4698e5c91295",
            "26280aff54254afe8fe1442956af067a",
            "a50a6ecbe67c4dd8bef34ec0cba8df66"
          ]
        },
        "id": "SjUrREsnmBF-",
        "outputId": "e8aadf78-12a1-4b4a-ae31-ae4fa1a91b3c"
      },
      "source": [
        "for i in tq.tqdm(range(len(df['Affected versions']))):  \n",
        "  if df.loc[(i, 'Affected versions')] not in last_five:\n",
        "    df = df.drop(i)"
      ],
      "execution_count": 8,
      "outputs": [
        {
          "output_type": "display_data",
          "data": {
            "application/vnd.jupyter.widget-view+json": {
              "model_id": "eeaa34b2d6c042ee973944b825d24bf3",
              "version_minor": 0,
              "version_major": 2
            },
            "text/plain": [
              "  0%|          | 0/22014 [00:00<?, ?it/s]"
            ]
          },
          "metadata": {}
        }
      ]
    },
    {
      "cell_type": "code",
      "metadata": {
        "colab": {
          "base_uri": "https://localhost:8080/",
          "height": 423
        },
        "id": "Cm3DHtzAmcDm",
        "outputId": "f1936ec1-2ab5-49d7-ee92-51cdc4786101"
      },
      "source": [
        "df.reset_index(inplace=True, drop=True)\n",
        "df"
      ],
      "execution_count": 9,
      "outputs": [
        {
          "output_type": "execute_result",
          "data": {
            "text/html": [
              "<div>\n",
              "<style scoped>\n",
              "    .dataframe tbody tr th:only-of-type {\n",
              "        vertical-align: middle;\n",
              "    }\n",
              "\n",
              "    .dataframe tbody tr th {\n",
              "        vertical-align: top;\n",
              "    }\n",
              "\n",
              "    .dataframe thead th {\n",
              "        text-align: right;\n",
              "    }\n",
              "</style>\n",
              "<table border=\"1\" class=\"dataframe\">\n",
              "  <thead>\n",
              "    <tr style=\"text-align: right;\">\n",
              "      <th></th>\n",
              "      <th>idReadable</th>\n",
              "      <th>created</th>\n",
              "      <th>summary</th>\n",
              "      <th>description</th>\n",
              "      <th>Affected versions</th>\n",
              "    </tr>\n",
              "  </thead>\n",
              "  <tbody>\n",
              "    <tr>\n",
              "      <th>0</th>\n",
              "      <td>PY-22211</td>\n",
              "      <td>1484097590051</td>\n",
              "      <td>Running subprocesses with Popen inside unittes...</td>\n",
              "      <td>I have the following unittest:\\n\\n```\\nclass M...</td>\n",
              "      <td>[2020.3]</td>\n",
              "    </tr>\n",
              "    <tr>\n",
              "      <th>1</th>\n",
              "      <td>PY-22248</td>\n",
              "      <td>1484322653638</td>\n",
              "      <td>Full project optimize imports alters library f...</td>\n",
              "      <td>Reported by: @matheusbrat on Twitter: https://...</td>\n",
              "      <td>[2020.2]</td>\n",
              "    </tr>\n",
              "    <tr>\n",
              "      <th>2</th>\n",
              "      <td>PY-22369</td>\n",
              "      <td>1485334537463</td>\n",
              "      <td>DataFrame auto-update doesn't work with action...</td>\n",
              "      <td>Consider this example:\\n\\n```python\\nimport pa...</td>\n",
              "      <td>[2021.1]</td>\n",
              "    </tr>\n",
              "    <tr>\n",
              "      <th>3</th>\n",
              "      <td>PY-22469</td>\n",
              "      <td>1485863013851</td>\n",
              "      <td>PowerShell prompt doesn't show virtualenv</td>\n",
              "      <td>Although the virtualenv seems activated, the p...</td>\n",
              "      <td>[2021.1]</td>\n",
              "    </tr>\n",
              "    <tr>\n",
              "      <th>4</th>\n",
              "      <td>PY-23007</td>\n",
              "      <td>1488923938785</td>\n",
              "      <td>Project requirements are not detected from set...</td>\n",
              "      <td>Since setuptools 30.3.0 it's possible to speci...</td>\n",
              "      <td>[2020.3]</td>\n",
              "    </tr>\n",
              "    <tr>\n",
              "      <th>...</th>\n",
              "      <td>...</td>\n",
              "      <td>...</td>\n",
              "      <td>...</td>\n",
              "      <td>...</td>\n",
              "      <td>...</td>\n",
              "    </tr>\n",
              "    <tr>\n",
              "      <th>2180</th>\n",
              "      <td>PY-51608</td>\n",
              "      <td>1636987696450</td>\n",
              "      <td>Breakpoints not always hit in multi-threaded app</td>\n",
              "      <td># Steps to Reproduce\\n\\nCreate a project using...</td>\n",
              "      <td>[2021.2]</td>\n",
              "    </tr>\n",
              "    <tr>\n",
              "      <th>2181</th>\n",
              "      <td>PY-51621</td>\n",
              "      <td>1637063283050</td>\n",
              "      <td>code insighte: Quick solution (+error) instead...</td>\n",
              "      <td>Hi,\\n**What I do:**\\nI open huge JSON file (ab...</td>\n",
              "      <td>[2021.2]</td>\n",
              "    </tr>\n",
              "    <tr>\n",
              "      <th>2182</th>\n",
              "      <td>PY-51614</td>\n",
              "      <td>1637012454711</td>\n",
              "      <td>IDE keeps disabling Python plugin, I get and e...</td>\n",
              "      <td>Here is the job log.\\n\\nI am unable to use the...</td>\n",
              "      <td>[2021.2]</td>\n",
              "    </tr>\n",
              "    <tr>\n",
              "      <th>2183</th>\n",
              "      <td>PY-51605</td>\n",
              "      <td>1636977168955</td>\n",
              "      <td>Better \"Invalid Python SDK\" handling</td>\n",
              "      <td>Quite often OS (usually macOS) or Python updat...</td>\n",
              "      <td>[2021.2]</td>\n",
              "    </tr>\n",
              "    <tr>\n",
              "      <th>2184</th>\n",
              "      <td>PY-51595</td>\n",
              "      <td>1636912616563</td>\n",
              "      <td>Warn on invalid iterable unpack</td>\n",
              "      <td>```python\\nimport time\\n\\ndef foo() -&gt; float:\\...</td>\n",
              "      <td>[2021.2]</td>\n",
              "    </tr>\n",
              "  </tbody>\n",
              "</table>\n",
              "<p>2185 rows × 5 columns</p>\n",
              "</div>"
            ],
            "text/plain": [
              "     idReadable  ...  Affected versions\n",
              "0      PY-22211  ...           [2020.3]\n",
              "1      PY-22248  ...           [2020.2]\n",
              "2      PY-22369  ...           [2021.1]\n",
              "3      PY-22469  ...           [2021.1]\n",
              "4      PY-23007  ...           [2020.3]\n",
              "...         ...  ...                ...\n",
              "2180   PY-51608  ...           [2021.2]\n",
              "2181   PY-51621  ...           [2021.2]\n",
              "2182   PY-51614  ...           [2021.2]\n",
              "2183   PY-51605  ...           [2021.2]\n",
              "2184   PY-51595  ...           [2021.2]\n",
              "\n",
              "[2185 rows x 5 columns]"
            ]
          },
          "metadata": {},
          "execution_count": 9
        }
      ]
    },
    {
      "cell_type": "markdown",
      "metadata": {
        "id": "-yLcFpGyqDHP"
      },
      "source": [
        "Посмотрим, сколько всего записей по каждому релизу"
      ]
    },
    {
      "cell_type": "code",
      "metadata": {
        "colab": {
          "base_uri": "https://localhost:8080/",
          "height": 602
        },
        "id": "mCs5ZY_3qWpD",
        "outputId": "45a356e9-fae2-4fc9-a024-52d6bf9dba86"
      },
      "source": [
        "import matplotlib.pyplot as plt\n",
        "import seaborn as sns\n",
        "sns.set_theme()\n",
        "large = 22; med = 16; small = 12\n",
        "params = {'axes.titlesize': large,\n",
        "          'legend.fontsize': med,\n",
        "          'figure.figsize': (16, 10),\n",
        "          'axes.labelsize': med,\n",
        "          'axes.titlesize': med,\n",
        "          'xtick.labelsize': med,\n",
        "          'ytick.labelsize': med,\n",
        "          'figure.titlesize': large}\n",
        "plt.rcParams.update(params)\n",
        "sns.histplot(data=df, x=list(itertools.chain(*df['Affected versions'])))\n",
        "plt.show()"
      ],
      "execution_count": 10,
      "outputs": [
        {
          "output_type": "display_data",
          "data": {
            "image/png": "[encoded data removed]",
            "text/plain": [
              "<Figure size 1152x720 with 1 Axes>"
            ]
          },
          "metadata": {}
        }
      ]
    },
    {
      "cell_type": "markdown",
      "metadata": {
        "id": "FQCY7HFxawfm"
      },
      "source": [
        "Меньше всего записей в релизе \"2021.3\" (меньше 100). \n",
        "\n",
        "Для \"2020.3 и \"2020.2\" количество примерно одинаковое (~500). Их мы и будем анализировать во второй части работы.\n"
      ]
    },
    {
      "cell_type": "markdown",
      "metadata": {
        "id": "2QFyHqQItR3V"
      },
      "source": [
        "Посмотрим на содержимое 'summary' и 'description' для одной записи"
      ]
    },
    {
      "cell_type": "code",
      "metadata": {
        "colab": {
          "base_uri": "https://localhost:8080/",
          "height": 35
        },
        "id": "wEWnJJKVskPW",
        "outputId": "1b5234db-294e-4370-a9ad-82b1c2b98a9b"
      },
      "source": [
        "df['summary'][0]"
      ],
      "execution_count": 11,
      "outputs": [
        {
          "output_type": "execute_result",
          "data": {
            "application/vnd.google.colaboratory.intrinsic+json": {
              "type": "string"
            },
            "text/plain": [
              "'Running subprocesses with Popen inside unittests can hang execution for too long'"
            ]
          },
          "metadata": {},
          "execution_count": 11
        }
      ]
    },
    {
      "cell_type": "code",
      "metadata": {
        "colab": {
          "base_uri": "https://localhost:8080/"
        },
        "id": "eHQHVnrqs3g9",
        "outputId": "a20f703b-8f31-4929-b9b7-515b19dec680"
      },
      "source": [
        "print(df['description'][0])"
      ],
      "execution_count": 12,
      "outputs": [
        {
          "output_type": "stream",
          "name": "stdout",
          "text": [
            "I have the following unittest:\n",
            "\n",
            "```\n",
            "class MyTest(unittest.TestCase):\n",
            "    def test(self):\n",
            "        import subprocess\n",
            "        import sys\n",
            "        import time\n",
            "\n",
            "        start = time.monotonic()\n",
            "\n",
            "        try:\n",
            "            subprocess.run([sys.executable, '-c', 'print(\"hello\"); import time; time.sleep(10)'],\n",
            "                           stdout=subprocess.PIPE, stderr=subprocess.PIPE, timeout=2)\n",
            "        except subprocess.TimeoutExpired:\n",
            "            pass\n",
            "\n",
            "        try:\n",
            "            subprocess.run([sys.executable, '-c', 'print(\"hello\"); import time; time.sleep(10)'],\n",
            "                           stdout=subprocess.PIPE, stderr=subprocess.PIPE, timeout=2)\n",
            "        except subprocess.TimeoutExpired:\n",
            "            pass\n",
            "\n",
            "        end = time.monotonic()\n",
            "\n",
            "        print(end - start)\n",
            "```\n",
            "\n",
            "When `timeout` equal `2` execution roughly takes 4 seconds as expected. But if you change `timeout` to `0.1`. execution will take ~10 seconds.\n",
            "\n"
          ]
        }
      ]
    },
    {
      "cell_type": "markdown",
      "metadata": {
        "id": "KHkEZBxhuyzW"
      },
      "source": [
        "Поработаем с колонкой 'summary'"
      ]
    },
    {
      "cell_type": "markdown",
      "metadata": {
        "id": "DmImUL2bu9Bt"
      },
      "source": [
        "### Предобработка текста"
      ]
    },
    {
      "cell_type": "markdown",
      "metadata": {
        "id": "wZ3s92E43bRv"
      },
      "source": [
        "Удаляем пунктуацию и ненужные символы"
      ]
    },
    {
      "cell_type": "code",
      "metadata": {
        "colab": {
          "base_uri": "https://localhost:8080/",
          "height": 423
        },
        "id": "1ERZbIpPtk8G",
        "outputId": "8c7c1854-1a48-4d4e-f2ad-fcb84091e29b"
      },
      "source": [
        "df['cleaned_summary'] = df['summary'].map(lambda x: re.sub('[,\\.!?\\-\\+\\(\\)\\\"\\`\\~:]', '', x))\n",
        "df['cleaned_summary'] = df['cleaned_summary'].map(lambda x: re.sub('\\s+', ' ', x))\n",
        "df['cleaned_summary'] = df['cleaned_summary'].map(lambda x: x.lower())\n",
        "df['cleaned_summary'] = df['cleaned_summary'].map(lambda x: x.replace(\"i'm\", 'i am').replace(\"n't\", ' not'))\n",
        "df"
      ],
      "execution_count": 13,
      "outputs": [
        {
          "output_type": "execute_result",
          "data": {
            "text/html": [
              "<div>\n",
              "<style scoped>\n",
              "    .dataframe tbody tr th:only-of-type {\n",
              "        vertical-align: middle;\n",
              "    }\n",
              "\n",
              "    .dataframe tbody tr th {\n",
              "        vertical-align: top;\n",
              "    }\n",
              "\n",
              "    .dataframe thead th {\n",
              "        text-align: right;\n",
              "    }\n",
              "</style>\n",
              "<table border=\"1\" class=\"dataframe\">\n",
              "  <thead>\n",
              "    <tr style=\"text-align: right;\">\n",
              "      <th></th>\n",
              "      <th>idReadable</th>\n",
              "      <th>created</th>\n",
              "      <th>summary</th>\n",
              "      <th>description</th>\n",
              "      <th>Affected versions</th>\n",
              "      <th>cleaned_summary</th>\n",
              "    </tr>\n",
              "  </thead>\n",
              "  <tbody>\n",
              "    <tr>\n",
              "      <th>0</th>\n",
              "      <td>PY-22211</td>\n",
              "      <td>1484097590051</td>\n",
              "      <td>Running subprocesses with Popen inside unittes...</td>\n",
              "      <td>I have the following unittest:\\n\\n```\\nclass M...</td>\n",
              "      <td>[2020.3]</td>\n",
              "      <td>running subprocesses with popen inside unittes...</td>\n",
              "    </tr>\n",
              "    <tr>\n",
              "      <th>1</th>\n",
              "      <td>PY-22248</td>\n",
              "      <td>1484322653638</td>\n",
              "      <td>Full project optimize imports alters library f...</td>\n",
              "      <td>Reported by: @matheusbrat on Twitter: https://...</td>\n",
              "      <td>[2020.2]</td>\n",
              "      <td>full project optimize imports alters library f...</td>\n",
              "    </tr>\n",
              "    <tr>\n",
              "      <th>2</th>\n",
              "      <td>PY-22369</td>\n",
              "      <td>1485334537463</td>\n",
              "      <td>DataFrame auto-update doesn't work with action...</td>\n",
              "      <td>Consider this example:\\n\\n```python\\nimport pa...</td>\n",
              "      <td>[2021.1]</td>\n",
              "      <td>dataframe autoupdate does not work with action...</td>\n",
              "    </tr>\n",
              "    <tr>\n",
              "      <th>3</th>\n",
              "      <td>PY-22469</td>\n",
              "      <td>1485863013851</td>\n",
              "      <td>PowerShell prompt doesn't show virtualenv</td>\n",
              "      <td>Although the virtualenv seems activated, the p...</td>\n",
              "      <td>[2021.1]</td>\n",
              "      <td>powershell prompt does not show virtualenv</td>\n",
              "    </tr>\n",
              "    <tr>\n",
              "      <th>4</th>\n",
              "      <td>PY-23007</td>\n",
              "      <td>1488923938785</td>\n",
              "      <td>Project requirements are not detected from set...</td>\n",
              "      <td>Since setuptools 30.3.0 it's possible to speci...</td>\n",
              "      <td>[2020.3]</td>\n",
              "      <td>project requirements are not detected from set...</td>\n",
              "    </tr>\n",
              "    <tr>\n",
              "      <th>...</th>\n",
              "      <td>...</td>\n",
              "      <td>...</td>\n",
              "      <td>...</td>\n",
              "      <td>...</td>\n",
              "      <td>...</td>\n",
              "      <td>...</td>\n",
              "    </tr>\n",
              "    <tr>\n",
              "      <th>2180</th>\n",
              "      <td>PY-51608</td>\n",
              "      <td>1636987696450</td>\n",
              "      <td>Breakpoints not always hit in multi-threaded app</td>\n",
              "      <td># Steps to Reproduce\\n\\nCreate a project using...</td>\n",
              "      <td>[2021.2]</td>\n",
              "      <td>breakpoints not always hit in multithreaded app</td>\n",
              "    </tr>\n",
              "    <tr>\n",
              "      <th>2181</th>\n",
              "      <td>PY-51621</td>\n",
              "      <td>1637063283050</td>\n",
              "      <td>code insighte: Quick solution (+error) instead...</td>\n",
              "      <td>Hi,\\n**What I do:**\\nI open huge JSON file (ab...</td>\n",
              "      <td>[2021.2]</td>\n",
              "      <td>code insighte quick solution error instead of ...</td>\n",
              "    </tr>\n",
              "    <tr>\n",
              "      <th>2182</th>\n",
              "      <td>PY-51614</td>\n",
              "      <td>1637012454711</td>\n",
              "      <td>IDE keeps disabling Python plugin, I get and e...</td>\n",
              "      <td>Here is the job log.\\n\\nI am unable to use the...</td>\n",
              "      <td>[2021.2]</td>\n",
              "      <td>ide keeps disabling python plugin i get and er...</td>\n",
              "    </tr>\n",
              "    <tr>\n",
              "      <th>2183</th>\n",
              "      <td>PY-51605</td>\n",
              "      <td>1636977168955</td>\n",
              "      <td>Better \"Invalid Python SDK\" handling</td>\n",
              "      <td>Quite often OS (usually macOS) or Python updat...</td>\n",
              "      <td>[2021.2]</td>\n",
              "      <td>better invalid python sdk handling</td>\n",
              "    </tr>\n",
              "    <tr>\n",
              "      <th>2184</th>\n",
              "      <td>PY-51595</td>\n",
              "      <td>1636912616563</td>\n",
              "      <td>Warn on invalid iterable unpack</td>\n",
              "      <td>```python\\nimport time\\n\\ndef foo() -&gt; float:\\...</td>\n",
              "      <td>[2021.2]</td>\n",
              "      <td>warn on invalid iterable unpack</td>\n",
              "    </tr>\n",
              "  </tbody>\n",
              "</table>\n",
              "<p>2185 rows × 6 columns</p>\n",
              "</div>"
            ],
            "text/plain": [
              "     idReadable  ...                                    cleaned_summary\n",
              "0      PY-22211  ...  running subprocesses with popen inside unittes...\n",
              "1      PY-22248  ...  full project optimize imports alters library f...\n",
              "2      PY-22369  ...  dataframe autoupdate does not work with action...\n",
              "3      PY-22469  ...         powershell prompt does not show virtualenv\n",
              "4      PY-23007  ...  project requirements are not detected from set...\n",
              "...         ...  ...                                                ...\n",
              "2180   PY-51608  ...    breakpoints not always hit in multithreaded app\n",
              "2181   PY-51621  ...  code insighte quick solution error instead of ...\n",
              "2182   PY-51614  ...  ide keeps disabling python plugin i get and er...\n",
              "2183   PY-51605  ...                 better invalid python sdk handling\n",
              "2184   PY-51595  ...                    warn on invalid iterable unpack\n",
              "\n",
              "[2185 rows x 6 columns]"
            ]
          },
          "metadata": {},
          "execution_count": 13
        }
      ]
    },
    {
      "cell_type": "markdown",
      "metadata": {
        "id": "6i6Fde9m6ZJP"
      },
      "source": [
        "Убираем стоп-слова и токенизируем\n",
        "\n",
        "gensim.utils.simple_preprocess() - Convert a document into a list of tokens.\n"
      ]
    },
    {
      "cell_type": "code",
      "metadata": {
        "id": "HtXZhsd78eJh"
      },
      "source": [
        "list_summary = df['cleaned_summary'].tolist()"
      ],
      "execution_count": 14,
      "outputs": []
    },
    {
      "cell_type": "code",
      "metadata": {
        "colab": {
          "base_uri": "https://localhost:8080/",
          "height": 49,
          "referenced_widgets": [
            "9faae84f860f45478224229cdfc9606a",
            "0c2247aa675c46a1be2201be475040e7",
            "ddbfcbb067434871bca2b2f019ae68d9",
            "1e985556d89b4306a142f9cc4c170650",
            "00f0ee6936b94dfb9b412230cfc2f951",
            "1edd5f3b72d14b6f9911453cda52f126",
            "c2c5b598e682429799bfd01950842795",
            "1b057655cf274637a45927b80d2caf80",
            "c6c717f476bf40b89d2d330ad3df099c",
            "0b0e9522b8184dce8769b64a327a2829",
            "b3e3124498a844da95d2794706f05fa4"
          ]
        },
        "id": "obkDmlup94co",
        "outputId": "58a03742-37ca-4634-aec6-33de8fe11ec2"
      },
      "source": [
        "final_out = []\n",
        "for text in tq.tqdm(list_summary):\n",
        "  preprocess_text = simple_preprocess(str(text), deacc=True)\n",
        "  tmp = []\n",
        "  for word in preprocess_text:\n",
        "    if word not in stop_words:\n",
        "      tmp.append(word)\n",
        "  final_out.append(tmp)\n",
        "# final_out"
      ],
      "execution_count": 15,
      "outputs": [
        {
          "output_type": "display_data",
          "data": {
            "application/vnd.jupyter.widget-view+json": {
              "model_id": "9faae84f860f45478224229cdfc9606a",
              "version_minor": 0,
              "version_major": 2
            },
            "text/plain": [
              "  0%|          | 0/2185 [00:00<?, ?it/s]"
            ]
          },
          "metadata": {}
        }
      ]
    },
    {
      "cell_type": "markdown",
      "metadata": {
        "id": "suL7nmNd-zlg"
      },
      "source": [
        "Преобразуем данные в такой формат, который можно было бы использовать в LDA"
      ]
    },
    {
      "cell_type": "code",
      "metadata": {
        "id": "15eF6c8j-7Zf"
      },
      "source": [
        "dict_w_id = Dictionary(final_out)\n",
        "d2bow = [dict_w_id.doc2bow(text) for text in final_out]"
      ],
      "execution_count": 16,
      "outputs": []
    },
    {
      "cell_type": "code",
      "metadata": {
        "colab": {
          "base_uri": "https://localhost:8080/"
        },
        "id": "7aE_7Q0tALUp",
        "outputId": "e7700091-6b0d-4318-a10c-3af34cc076fe"
      },
      "source": [
        "d2bow[0]"
      ],
      "execution_count": 17,
      "outputs": [
        {
          "output_type": "execute_result",
          "data": {
            "text/plain": [
              "[(0, 1), (1, 1), (2, 1), (3, 1), (4, 1), (5, 1), (6, 1), (7, 1)]"
            ]
          },
          "metadata": {},
          "execution_count": 17
        }
      ]
    },
    {
      "cell_type": "markdown",
      "metadata": {
        "id": "bdvF-TvFAUT7"
      },
      "source": [
        "### Модель: LDA\n",
        "\n",
        "Количество топиков возьмем 50"
      ]
    },
    {
      "cell_type": "code",
      "metadata": {
        "id": "Vn1HxeybASP4"
      },
      "source": [
        "lda_model = LdaMulticore(corpus=d2bow,\n",
        "                        id2word=dict_w_id,\n",
        "                        num_topics=50, \n",
        "                        random_state=100,\n",
        "                        chunksize=100,\n",
        "                        passes=10,\n",
        "                        per_word_topics=True)"
      ],
      "execution_count": 18,
      "outputs": []
    },
    {
      "cell_type": "code",
      "metadata": {
        "colab": {
          "base_uri": "https://localhost:8080/"
        },
        "id": "iNT8uBdhCq1h",
        "outputId": "aa772a9d-f15d-4446-9c33-4332923ff0e4"
      },
      "source": [
        "sorted(lda_model.print_topics(num_topics=10)) #10 самых важных тем"
      ],
      "execution_count": 19,
      "outputs": [
        {
          "output_type": "execute_result",
          "data": {
            "text/plain": [
              "[(2,\n",
              "  '0.208*\"interpreter\" + 0.107*\"using\" + 0.080*\"wsl\" + 0.068*\"docker\" + 0.042*\"remote\" + 0.036*\"python\" + 0.035*\"compose\" + 0.035*\"ssh\" + 0.030*\"dockercompose\" + 0.021*\"sciview\"'),\n",
              " (9,\n",
              "  '0.164*\"warning\" + 0.120*\"test\" + 0.071*\"unexpected\" + 0.059*\"button\" + 0.049*\"dict\" + 0.038*\"case\" + 0.032*\"result\" + 0.031*\"runner\" + 0.025*\"itemsview\" + 0.025*\"autodetect\"'),\n",
              " (12,\n",
              "  '0.183*\"function\" + 0.102*\"type\" + 0.090*\"without\" + 0.043*\"nested\" + 0.040*\"hint\" + 0.038*\"defined\" + 0.037*\"user\" + 0.037*\"hinting\" + 0.023*\"definition\" + 0.021*\"outside\"'),\n",
              " (20,\n",
              "  '0.472*\"python\" + 0.174*\"console\" + 0.031*\"issue\" + 0.031*\"slow\" + 0.021*\"save\" + 0.013*\"auto\" + 0.013*\"always\" + 0.012*\"managepy\" + 0.010*\"hidden\" + 0.010*\"queue\"'),\n",
              " (26,\n",
              "  '0.258*\"file\" + 0.103*\"debugging\" + 0.092*\"script\" + 0.076*\"object\" + 0.071*\"stop\" + 0.025*\"poetry\" + 0.021*\"produces\" + 0.021*\"copy\" + 0.019*\"bad\" + 0.015*\"started\"'),\n",
              " (28,\n",
              "  '0.388*\"error\" + 0.079*\"broken\" + 0.052*\"report\" + 0.036*\"unused\" + 0.031*\"usages\" + 0.025*\"find\" + 0.024*\"local\" + 0.024*\"terminated\" + 0.013*\"targets\" + 0.013*\"profiling\"'),\n",
              " (29,\n",
              "  '0.107*\"inside\" + 0.106*\"argument\" + 0.078*\"execution\" + 0.074*\"self\" + 0.036*\"considered\" + 0.032*\"incorrectly\" + 0.030*\"specified\" + 0.029*\"top\" + 0.028*\"bound\" + 0.024*\"decorated\"'),\n",
              " (34,\n",
              "  '0.162*\"version\" + 0.127*\"usage\" + 0.053*\"names\" + 0.049*\"remove\" + 0.038*\"highlighted\" + 0.030*\"versions\" + 0.026*\"fold\" + 0.023*\"adds\" + 0.023*\"impossible\" + 0.020*\"redundant\"'),\n",
              " (35,\n",
              "  '0.166*\"wrong\" + 0.137*\"functions\" + 0.082*\"value\" + 0.047*\"disabled\" + 0.043*\"return\" + 0.035*\"type\" + 0.031*\"menu\" + 0.030*\"field\" + 0.023*\"right\" + 0.021*\"second\"'),\n",
              " (49,\n",
              "  '0.089*\"default\" + 0.081*\"suggest\" + 0.076*\"negative\" + 0.054*\"whitespace\" + 0.043*\"recognized\" + 0.038*\"typed\" + 0.033*\"added\" + 0.029*\"structure\" + 0.025*\"unpacking\" + 0.024*\"thinks\"')]"
            ]
          },
          "metadata": {},
          "execution_count": 19
        }
      ]
    },
    {
      "cell_type": "markdown",
      "metadata": {
        "id": "0wHuGKLTDlyX"
      },
      "source": [
        "Посчитаем Coherence Score для данной модели"
      ]
    },
    {
      "cell_type": "code",
      "metadata": {
        "id": "4ihlOZITD0EP"
      },
      "source": [
        "from gensim.models import CoherenceModel"
      ],
      "execution_count": 20,
      "outputs": []
    },
    {
      "cell_type": "code",
      "metadata": {
        "colab": {
          "base_uri": "https://localhost:8080/"
        },
        "id": "jiBithiuDlax",
        "outputId": "0f2d8a2b-d8d8-4ec5-ad29-b954a2d1d77d"
      },
      "source": [
        "coherence_model_lda = CoherenceModel(model=lda_model, texts=final_out, dictionary=dict_w_id, coherence='c_v')\n",
        "coherence_lda = coherence_model_lda.get_coherence()\n",
        "print('Coherence Score: ', coherence_lda)"
      ],
      "execution_count": 21,
      "outputs": [
        {
          "output_type": "stream",
          "name": "stdout",
          "text": [
            "Coherence Score:  0.6016160621850803\n"
          ]
        }
      ]
    },
    {
      "cell_type": "markdown",
      "metadata": {
        "id": "bkgM-50zE7u4"
      },
      "source": [
        "Визуализация"
      ]
    },
    {
      "cell_type": "code",
      "metadata": {
        "id": "8lFPD012E4ZB"
      },
      "source": [
        "%%capture\n",
        "!pip install pyLDAvis\n",
        "!pip install --upgrade pandas==1.2\n",
        "import pyLDAvis\n",
        "import pyLDAvis.gensim_models\n",
        "import pickle \n",
        "pyLDAvis.enable_notebook()"
      ],
      "execution_count": 22,
      "outputs": []
    },
    {
      "cell_type": "code",
      "metadata": {
        "id": "g2u2FVIWF42I"
      },
      "source": [
        "result = pyLDAvis.gensim_models.prepare(lda_model, d2bow, dict_w_id, mds=\"mmds\")"
      ],
      "execution_count": 23,
      "outputs": []
    },
    {
      "cell_type": "code",
      "metadata": {
        "colab": {
          "base_uri": "https://localhost:8080/",
          "height": 861
        },
        "id": "tRKH50VwH4aY",
        "outputId": "21e3efd7-c2aa-45a0-8b7d-41580273e5b4"
      },
      "source": [
        "result"
      ],
      "execution_count": 24,
      "outputs": [
        {
          "output_type": "execute_result",
          "data": {
            "text/html": [
              "\n",
              "<link rel=\"stylesheet\" type=\"text/css\" href=\"https://cdn.jsdelivr.net/gh/bmabey/pyLDAvis@3.3.1/pyLDAvis/js/ldavis.v1.0.0.css\">\n",
              "\n",
              "\n",
              "<div id=\"ldavis_el18261404607596575527395519451\"></div>\n",
              "<script type=\"text/javascript\">\n",
              "\n",
              "var ldavis_el18261404607596575527395519451_data = {\"mdsDat\": {\"x\": [-0.41765485764195553, -0.17636705909739675, -0.4149662220570221, 0.4700146806742398, -0.0029051336239877645, 0.404000704994142, 0.291322984879211, -0.4084709308717034, -0.3261575798015829, 0.13791899748763392, 0.218305393812572, -0.2865689551207255, -0.1680186471716042, 0.16842718405591595, 0.41027505092147126, -0.2831143235982831, 0.04055608279252609, -0.4009399747691365, -0.1842200059294, -0.340757085683637, 0.1819454839275192, -0.06311067291855758, 0.4170821137007294, 0.11330809076144743, -0.42663092883827325, 0.036108011759795056, 0.34432422768453996, 0.2776549100435866, 0.17273980619867912, 0.34628185317377524, -0.19597765945569837, -0.2694347842647482, 0.06567017791637557, -0.16686960420783853, -0.28333930867982005, 0.25228630206977065, -0.07666824972918489, -0.17460414021899964, 0.2973661009581221, 0.12882422622631315, -0.05888626531248746, 0.02261981851682319, -0.11913363222678239, 0.2102125504647691, -0.010092266255087586, -0.051486626903075025, 0.27977662464246744, 0.040576888330145125, -0.1523078392632212, 0.13108448764763797], \"y\": [0.2761668998876116, -0.4659644921681674, -0.25886138030379174, 0.03511567357320266, 0.45846232939411385, -0.20655992734470704, -0.33179063267128234, 0.13732107767558782, -0.18927109543904055, 0.4370406802791736, 0.361951264003849, 0.35802249111621914, 0.37840626969948765, -0.31851156972167505, 0.14802132793906655, -0.28732803134287255, -0.41813136509634286, -0.10018844176961317, -0.1262255010132162, 0.06962351371340471, -0.3993326403911563, -0.3950405795318725, -0.09140939599861173, -0.23937090617699533, 0.005652288307199216, 0.34442684229352855, 0.25254473961362667, -0.23094877803092118, -0.07082164581079119, 0.00217281756010555, -0.33168945906496816, 0.18838664036984185, 0.18657374507429747, 0.014659872657320173, -0.04743533730073295, 0.2714669817441364, 0.36661786625169235, 0.2601002970129355, 0.1478704815143133, 0.25026491424438113, 0.20026230527190628, -0.29623431837105524, -0.264863843244248, 0.0356999585269017, 0.04130718227746842, -0.14604426332519813, -0.12567107165720576, -0.09375283812032198, 0.11580447715561157, 0.09150457673780484], \"topics\": [1, 2, 3, 4, 5, 6, 7, 8, 9, 10, 11, 12, 13, 14, 15, 16, 17, 18, 19, 20, 21, 22, 23, 24, 25, 26, 27, 28, 29, 30, 31, 32, 33, 34, 35, 36, 37, 38, 39, 40, 41, 42, 43, 44, 45, 46, 47, 48, 49, 50], \"cluster\": [1, 1, 1, 1, 1, 1, 1, 1, 1, 1, 1, 1, 1, 1, 1, 1, 1, 1, 1, 1, 1, 1, 1, 1, 1, 1, 1, 1, 1, 1, 1, 1, 1, 1, 1, 1, 1, 1, 1, 1, 1, 1, 1, 1, 1, 1, 1, 1, 1, 1], \"Freq\": [4.183891405540454, 3.6781001054625824, 3.146711335793234, 2.836740095372457, 2.72793540369172, 2.7187046366040786, 2.48470179162532, 2.464606763772705, 2.4043120060942593, 2.357332192691524, 2.3184036787216935, 2.2945158909009713, 2.1960473051852247, 2.122053180791942, 2.1004932259715665, 2.082383946349968, 2.078787699997422, 2.0773383668120116, 2.053052891574741, 2.017588116503806, 1.9674825581149498, 1.9449652800089245, 1.9364776737519556, 1.9353123392147134, 1.9012059517179065, 1.891555768130913, 1.7954483212116414, 1.7874481104572757, 1.7491238716495918, 1.7303289789069625, 1.7248974406749211, 1.707204620522941, 1.6984590362090175, 1.6920362072326076, 1.684316752161687, 1.6835662979916208, 1.6483789613314135, 1.641509395105176, 1.6381895406038387, 1.5807606978862858, 1.5704640473914382, 1.5660951965421408, 1.513851535834473, 1.493062953571287, 1.4888021060937746, 1.4696585191978144, 1.4327553512882139, 1.427662991313209, 1.2505433783693716, 1.1047360780562523]}, \"tinfo\": {\"Term\": [\"python\", \"pycharm\", \"code\", \"error\", \"type\", \"interpreter\", \"false\", \"project\", \"work\", \"console\", \"cannot\", \"run\", \"incorrect\", \"file\", \"import\", \"completion\", \"debugger\", \"new\", \"django\", \"class\", \"inspection\", \"jupyter\", \"used\", \"module\", \"function\", \"using\", \"list\", \"warning\", \"wrong\", \"working\", \"interpreter\", \"using\", \"wsl\", \"docker\", \"compose\", \"ssh\", \"dockercompose\", \"sciview\", \"opened\", \"docstrings\", \"time\", \"google\", \"breakpoints\", \"handle\", \"integration\", \"problem\", \"information\", \"could\", \"flask\", \"app\", \"valid\", \"wslbased\", \"dialog\", \"engine\", \"response\", \"permission\", \"word\", \"experimental\", \"graph\", \"recognizes\", \"remote\", \"python\", \"console\", \"issue\", \"slow\", \"save\", \"python\", \"auto\", \"always\", \"managepy\", \"hidden\", \"queue\", \"causing\", \"profiler\", \"matlabengine\", \"tools\", \"evaluates\", \"database\", \"integrated\", \"scrollable\", \"interact\", \"pgcli\", \"invoked\", \"properties\", \"complex\", \"executing\", \"insert\", \"overwritten\", \"runserver\", \"ipython\", \"stay\", \"broke\", \"pycharm\", \"settings\", \"unable\", \"writing\", \"language\", \"breaking\", \"existing\", \"even\", \"resolved\", \"infer\", \"setup\", \"randomly\", \"required\", \"whole\", \"vagrant\", \"well\", \"slowly\", \"azure\", \"toolkit\", \"djangotest\", \"metaclasses\", \"reopen\", \"office\", \"shut\", \"visuals\", \"bounded\", \"customized\", \"detecting\", \"closes\", \"bracketed\", \"project\", \"module\", \"files\", \"imports\", \"root\", \"external\", \"automatically\", \"interpreters\", \"number\", \"base\", \"exceptions\", \"link\", \"editable\", \"projectfiles\", \"treating\", \"library\", \"inspect\", \"actually\", \"readonly\", \"switches\", \"venvs\", \"nukes\", \"collectionsabc\", \"microsoft\", \"side\", \"masks\", \"remoter\", \"trigger\", \"entire\", \"populate\", \"local\", \"jupyter\", \"window\", \"call\", \"tool\", \"installed\", \"statement\", \"notebook\", \"server\", \"available\", \"called\", \"cant\", \"got\", \"rendering\", \"examples\", \"anymore\", \"stripped\", \"kernels\", \"pyside\", \"history\", \"pro\", \"token\", \"location\", \"require\", \"exist\", \"across\", \"math\", \"forwarding\", \"hierarchy\", \"port\", \"located\", \"remote\", \"debugger\", \"failed\", \"enabled\", \"services\", \"cpu\", \"connection\", \"ignored\", \"extension\", \"final\", \"rest\", \"crash\", \"links\", \"mapped\", \"gets\", \"appearing\", \"high\", \"ipynb\", \"silently\", \"lost\", \"framework\", \"extremely\", \"crashes\", \"restartpy\", \"creates\", \"professional\", \"excel\", \"font\", \"request\", \"flag\", \"caused\", \"import\", \"str\", \"quick\", \"generic\", \"classes\", \"missing\", \"expected\", \"install\", \"extended\", \"component\", \"removes\", \"folded\", \"fix\", \"autoimport\", \"parentheses\", \"inherited\", \"typesdict\", \"eg\", \"needless\", \"takes\", \"clause\", \"minor\", \"prioritize\", \"irrelevant\", \"parameterized\", \"typematching\", \"variants\", \"disable\", \"optimize\", \"confusing\", \"type\", \"code\", \"working\", \"inspections\", \"displayed\", \"incomplete\", \"insight\", \"analysis\", \"sync\", \"injection\", \"unreachable\", \"except\", \"block\", \"datetime\", \"certain\", \"paste\", \"keys\", \"typo\", \"typechecking\", \"userdefined\", \"regex\", \"column\", \"fstrings\", \"hard\", \"section\", \"wrap\", \"index\", \"keras\", \"tensorflowkeras\", \"tips\", \"dynamically\", \"false\", \"positive\", \"highlighting\", \"level\", \"attributes\", \"instance\", \"open\", \"keeps\", \"showing\", \"performance\", \"separator\", \"conditions\", \"asking\", \"access\", \"py\", \"expressions\", \"renaming\", \"forever\", \"typingprotocol\", \"global\", \"allowed\", \"trivially\", \"stdin\", \"undefined\", \"thread\", \"release\", \"varying\", \"rst\", \"identifier\", \"caret\", \"completion\", \"django\", \"parameter\", \"syntax\", \"methods\", \"empty\", \"configured\", \"passed\", \"size\", \"ospath\", \"provide\", \"render\", \"saved\", \"abstract\", \"item\", \"inserts\", \"epydoc\", \"tensorrt\", \"info\", \"implement\", \"basic\", \"invoke\", \"highlighing\", \"formulas\", \"strict\", \"unless\", \"sporadically\", \"particular\", \"xmldomminidom\", \"active\", \"need\", \"inference\", \"running\", \"allow\", \"selection\", \"keyword\", \"cython\", \"warnings\", \"generator\", \"execute\", \"checking\", \"classmethod\", \"something\", \"rerun\", \"check\", \"yield\", \"model\", \"key\", \"resolve\", \"speedups\", \"reports\", \"program\", \"helpers\", \"submodule\", \"parametrized\", \"enumeratels\", \"translate\", \"reset\", \"apple\", \"protocol\", \"swap\", \"type\", \"run\", \"fails\", \"typing\", \"configuration\", \"literal\", \"autocomplete\", \"operator\", \"recognize\", \"fail\", \"walrus\", \"initializing\", \"stubs\", \"namedtuple\", \"parenteses\", \"lag\", \"doctest\", \"flags\", \"effect\", \"emulated\", \"passing\", \"frameworks\", \"misnamed\", \"web\", \"flask_debug\", \"multicursor\", \"keywords\", \"initialized\", \"assigning\", \"autotest\", \"enumunique\", \"cannot\", \"creating\", \"none\", \"get\", \"intellij\", \"checker\", \"popup\", \"system\", \"target\", \"pandas\", \"infers\", \"markdown\", \"issues\", \"copies\", \"raise\", \"orange\", \"torch\", \"supported\", \"diff\", \"latter\", \"viewer\", \"latest\", \"pyramid\", \"theme\", \"projectjdktable\", \"nearby\", \"configurable\", \"doublynested\", \"path_or_buf\", \"hvplot\", \"type\", \"incorrect\", \"inferred\", \"declaration\", \"updating\", \"stuck\", \"sometimes\", \"go\", \"profile\", \"doc\", \"collection\", \"startup\", \"pytestxdist\", \"regions\", \"mismatch\", \"loads\", \"inferrence\", \"conversion\", \"propose\", \"improve\", \"fewer\", \"inferencer\", \"succeeds\", \"jumps\", \"task\", \"skeleton\", \"screen\", \"spinner\", \"cores\", \"reindex\", \"unusable\", \"type\", \"documentation\", \"pytest\", \"strings\", \"view\", \"change\", \"exception\", \"dataframe\", \"tuple\", \"color\", \"found\", \"loading\", \"clone\", \"formatted\", \"true\", \"git\", \"horizontal\", \"needlessly\", \"wastes\", \"failure\", \"launch\", \"enable\", \"scheme\", \"condition\", \"commit\", \"state\", \"customize\", \"edition\", \"wo\", \"cause\", \"branch\", \"use\", \"environment\", \"path\", \"shows\", \"terminal\", \"importing\", \"eap\", \"directory\", \"conda\", \"previous\", \"runs\", \"highlights\", \"bin\", \"raises\", \"changed\", \"activation\", \"environments\", \"submitted\", \"activate\", \"float\", \"makes\", \"integer\", \"unactivated\", \"activated\", \"managing\", \"party\", \"third\", \"pymc\", \"theano\", \"comm\", \"string\", \"line\", \"preview\", \"message\", \"different\", \"better\", \"macos\", \"display\", \"properly\", \"characters\", \"behavior\", \"libraries\", \"redeclared\", \"blank\", \"clickable\", \"rendered\", \"print\", \"quoted\", \"double\", \"upgrade\", \"helper\", \"became\", \"brown\", \"newline\", \"give\", \"panel\", \"assertion\", \"tree\", \"swing\", \"stack\", \"warning\", \"test\", \"unexpected\", \"button\", \"dict\", \"case\", \"result\", \"runner\", \"itemsview\", \"autodetect\", \"able\", \"unittest\", \"exists\", \"export\", \"suite\", \"every\", \"sphinx\", \"inferring\", \"keyvalue\", \"pair\", \"resets\", \"gives\", \"goes\", \"unicode\", \"pymongo\", \"referenceerror\", \"several\", \"tablecolumns\", \"capture\", \"preserve\", \"type\", \"rename\", \"command\", \"values\", \"correct\", \"toolbar\", \"within\", \"inconsistent\", \"constructor\", \"bracket\", \"content\", \"members\", \"declarations\", \"closing\", \"appears\", \"character\", \"pipenv\", \"folding\", \"wizard\", \"suggested\", \"cells\", \"point\", \"dataframes\", \"jython\", \"unit\", \"sftp\", \"detect\", \"notification\", \"automatic\", \"config\", \"updates\", \"wrong\", \"functions\", \"value\", \"disabled\", \"return\", \"menu\", \"field\", \"right\", \"second\", \"ignore\", \"understand\", \"classdecorated\", \"context\", \"click\", \"annotating\", \"shadowing\", \"traceback\", \"builtins\", \"overloads\", \"kwargs\", \"statements\", \"position\", \"overloaded\", \"checkbox\", \"cleared\", \"remains\", \"tip\", \"linux\", \"wild\", \"tempfile\", \"type\", \"windows\", \"typevar\", \"pep\", \"formatting\", \"errors\", \"attach\", \"due\", \"problems\", \"table\", \"current\", \"executed\", \"parse\", \"indentation\", \"blocks\", \"ca\", \"subtype\", \"dataclass\", \"big\", \"extending\", \"reused\", \"service\", \"sur\", \"resize\", \"installation\", \"copypasting\", \"treated\", \"annotated\", \"miniforge\", \"protocols\", \"operations\", \"name\", \"variable\", \"modules\", \"warn\", \"custom\", \"signature\", \"format\", \"autocompletion\", \"introduce\", \"builtin\", \"validate\", \"changes\", \"renders\", \"binary\", \"pydevd\", \"submodules\", \"subscripted\", \"many\", \"falsepositive\", \"objects\", \"override\", \"shadows\", \"enter\", \"outer\", \"rescan\", \"assumed\", \"resolving\", \"accurate\", \"differs\", \"typeshed\", \"incorrectly\", \"used\", \"ide\", \"match\", \"annotation\", \"refactor\", \"restart\", \"named\", \"calling\", \"standard\", \"returns\", \"decorators\", \"class\", \"member\", \"testcase\", \"renames\", \"responsive\", \"nonproject\", \"queryset\", \"derivatives\", \"qobject\", \"qobjecttr\", \"declared\", \"near\", \"play\", \"unknown\", \"dictionaries\", \"gone\", \"poor\", \"ms\", \"gt\", \"function\", \"without\", \"nested\", \"hint\", \"defined\", \"user\", \"hinting\", \"definition\", \"outside\", \"ifelse\", \"accepted\", \"calls\", \"works\", \"operators\", \"know\", \"async\", \"raised\", \"dictionary\", \"chain\", \"upper\", \"typingtypeddict\", \"revealed\", \"mistreats\", \"codecompletion\", \"large\", \"amount\", \"foreignkey\", \"classmethods\", \"expecting\", \"returning\", \"type\", \"error\", \"broken\", \"report\", \"unused\", \"usages\", \"terminated\", \"targets\", \"profiling\", \"insighte\", \"solution\", \"skeletons\", \"uncalled\", \"part\", \"read\", \"configuring\", \"implementations\", \"unqualified\", \"local\", \"compile\", \"extensions\", \"flagging\", \"box\", \"identification\", \"unpacked\", \"refresh\", \"prefer\", \"removing\", \"rather\", \"json\", \"distribution\", \"find\", \"breaks\", \"annotations\", \"refactoring\", \"decorator\", \"stopped\", \"numpy\", \"super\", \"explicitly\", \"actions\", \"enum\", \"subclass\", \"another\", \"contextual\", \"icons\", \"overload\", \"unfilled\", \"gutter\", \"indentify\", \"switching\", \"also\", \"body\", \"providing\", \"triple\", \"shape\", \"defintion\", \"hinted\", \"propagate\", \"moving\", \"picks\", \"staticmethod\", \"class\", \"type\", \"types\", \"output\", \"variables\", \"docstring\", \"executable\", \"plot\", \"currently\", \"show\", \"incorreclty\", \"qualified\", \"password\", \"inherit\", \"pid\", \"clear\", \"detected\", \"track\", \"powershell\", \"mixes\", \"parallel\", \"misinterprets\", \"connected\", \"tried\", \"duplication\", \"terraform\", \"separate\", \"real\", \"setupcfg\", \"prompt\", \"post\", \"alongside\", \"work\", \"union\", \"based\", \"iterable\", \"clicking\", \"metaclass\", \"generics\", \"hints\", \"manager\", \"lists\", \"vmprof\", \"sources\", \"source\", \"pyroute\", \"ubuntu\", \"selecting\", \"typeinference\", \"wrapping\", \"evaluate\", \"throws\", \"altclick\", \"buttons\", \"perceived\", \"sorting\", \"loses\", \"downloaded\", \"crazy\", \"unified\", \"array\", \"exploding\", \"type\", \"new\", \"projects\", \"adding\", \"via\", \"twice\", \"scratch\", \"shortcut\", \"copied\", \"loaded\", \"leads\", \"single\", \"possible\", \"deployment\", \"continue\", \"navigation\", \"duplicated\", \"slash\", \"focus\", \"steals\", \"mentioned\", \"opens\", \"inline\", \"greyed\", \"mappings\", \"vcs\", \"minimalist\", \"resembling\", \"choice\", \"fullscreen\", \"passwords\", \"file\", \"debugging\", \"script\", \"object\", \"stop\", \"poetry\", \"produces\", \"copy\", \"bad\", \"started\", \"iterator\", \"launched\", \"although\", \"higher\", \"old\", \"predefined\", \"children\", \"pdf\", \"tracebacks\", \"npe\", \"subprocess\", \"locate\", \"ones\", \"logic\", \"simple\", \"clash\", \"escape\", \"analyze\", \"priority\", \"rich\", \"debug\", \"add\", \"imported\", \"suggests\", \"compatibility\", \"hide\", \"stops\", \"js\", \"requirements\", \"unhandled\", \"nontoplevel\", \"policy\", \"underscore\", \"quickfix\", \"entrypoint\", \"finishes\", \"overrides\", \"anything\", \"claims\", \"contents\", \"containers\", \"selected\", \"inputs\", \"outputs\", \"signal\", \"tutorial\", \"repl\", \"incompatibility\", \"hides\", \"traitletspy\", \"method\", \"multiple\", \"idea\", \"create\", \"comment\", \"causes\", \"namespace\", \"additional\", \"session\", \"static\", \"must\", \"resolution\", \"superclass\", \"multiproject\", \"typeerror\", \"bytes\", \"drive\", \"nonnative\", \"arg\", \"extract\", \"someclassget\", \"untyped\", \"magic\", \"setupclass\", \"usually\", \"simultaneously\", \"assignments\", \"images\", \"declaring\", \"ordering\", \"arguments\", \"package\", \"folder\", \"dunder\", \"make\", \"dependency\", \"bar\", \"html\", \"pattern\", \"templates\", \"formatter\", \"parsing\", \"url\", \"comprehension\", \"patterns\", \"lack\", \"tokenizers\", \"private\", \"aware\", \"contributors\", \"dumb\", \"needs\", \"formatteroff\", \"turn\", \"ssl\", \"unrecognized\", \"pyassert\", \"extend\", \"redraw\", \"corresponding\", \"reference\", \"attribute\", \"unresolved\", \"sqlalchemy\", \"int\", \"virtualenv\", \"duplicate\", \"disappear\", \"options\", \"dir\", \"detection\", \"baseformset\", \"is_valid\", \"autodetected\", \"isinstance\", \"arm\", \"tox\", \"moduletype\", \"independent\", \"mixins\", \"evaluation\", \"noheader\", \"nosummary\", \"sysorig_argv\", \"hello\", \"rc\", \"conditional\", \"reading\", \"similar\", \"defines\", \"instead\", \"invalid\", \"parameters\", \"changing\", \"lines\", \"feature\", \"shown\", \"wrongly\", \"completely\", \"chained\", \"tuples\", \"typeddict\", \"thats\", \"parametersinfo\", \"parametertypes\", \"generators\", \"unpack\", \"diagram\", \"anystr\", \"confusion\", \"emailmessage\", \"iterating\", \"subscription\", \"cached\", \"provides\", \"pyenv\", \"despite\", \"way\", \"total\", \"calculated\", \"type\", \"inspection\", \"template\", \"optional\", \"assignment\", \"left\", \"tags\", \"hangs\", \"form\", \"unbound\", \"range\", \"erronious\", \"referenced\", \"generates\", \"paths\", \"marks\", \"sql\", \"chosen\", \"indication\", \"backslashes\", \"try\", \"possibly\", \"relative\", \"autoindentation\", \"conflicts\", \"potential\", \"admin\", \"shadowed\", \"equality\", \"meaningful\", \"addition\", \"support\", \"cell\", \"mode\", \"ability\", \"plots\", \"scientific\", \"place\", \"numbers\", \"requires\", \"positives\", \"mypy\", \"processing\", \"toolwindow\", \"fstring\", \"pip\", \"last\", \"absolute\", \"outofthebox\", \"universal\", \"switch\", \"inserted\", \"feedback\", \"polars\", \"narrowing\", \"icon\", \"atpublic\", \"autoall\", \"manage\", \"bottom\", \"interpretation\", \"created\", \"bug\", \"subclasses\", \"venv\", \"marked\", \"ignores\", \"mainpy\", \"given\", \"stub\", \"comments\", \"termios\", \"present\", \"attached\", \"inconsistently\", \"typechecker\", \"tag\", \"temporary\", \"actual\", \"regression\", \"deletion\", \"adjacent\", \"fill\", \"paragraph\", \"text\", \"orm\", \"carets\", \"nonascii\", \"interface\", \"find\", \"extra\", \"packages\", \"ui\", \"correctly\", \"host\", \"multiline\", \"indexing\", \"space\", \"coverage\", \"highlight\", \"installing\", \"interpretter\", \"stopping\", \"connect\", \"notation\", \"proxy\", \"bundled\", \"status\", \"speedup\", \"connecting\", \"manual\", \"db\", \"makemigrations\", \"postgresql\", \"native\", \"background\", \"ascii\", \"oserror\", \"winerror\", \"yet\", \"alt\", \"remote\", \"vpn\", \"default\", \"suggest\", \"negative\", \"whitespace\", \"recognized\", \"typed\", \"added\", \"structure\", \"unpacking\", \"thinks\", \"main\", \"timeout\", \"quotes\", \"jinja\", \"disabling\", \"teamcity\", \"yaml\", \"raw\", \"cases\", \"scope\", \"mangled\", \"opening\", \"assigned\", \"pysparkstubs\", \"beta\", \"monterey\", \"commands\", \"commenting\", \"ip\", \"retrieve\", \"property\", \"one\", \"sdk\", \"memory\", \"requirementstxt\", \"specific\", \"help\", \"leak\", \"please\", \"widget\", \"dependencies\", \"handling\", \"tabs\", \"notebooks\", \"close\", \"appear\", \"two\", \"intermediary\", \"still\", \"repository\", \"uninstall\", \"antivirus\", \"excessive\", \"unsupported\", \"removed\", \"constantly\", \"freezing\", \"flathub\", \"freeze\", \"systematic\", \"separate\", \"option\", \"first\", \"reported\", \"action\", \"finished\", \"creation\", \"see\", \"start\", \"parsed\", \"exit\", \"virtual\", \"step\", \"integrate\", \"panels\", \"trying\", \"difference\", \"xc\", \"comprehensions\", \"extern\", \"volume\", \"steps\", \"distinguish\", \"image\", \"failing\", \"uncorrectly\", \"trailing\", \"fastapifastapi\", \"uvicornrun\", \"apscheduler\", \"ctrlc\", \"process\", \"inside\", \"argument\", \"execution\", \"self\", \"considered\", \"specified\", \"top\", \"bound\", \"decorated\", \"long\", \"end\", \"client\", \"order\", \"parser\", \"xml\", \"printed\", \"subprocesses\", \"quotation\", \"pin\", \"recognised\", \"returntype\", \"incorrectly\", \"flagged\", \"dynamic\", \"modifer\", \"popular\", \"commented\", \"prefixes\", \"spellchecker\", \"expressiononly\", \"move\", \"search\", \"setting\", \"cls\", \"printing\", \"results\", \"disappears\", \"matching\", \"seems\", \"configurations\", \"mouse\", \"whether\", \"hover\", \"narrowed\", \"tab\", \"checked\", \"resolves\", \"pythonpath\", \"csv\", \"ad\", \"infinitum\", \"brings\", \"ellipses\", \"fatal\", \"nothing\", \"treat\", \"ctrlshiftf\", \"exporting\", \"accepting\", \"nonvalid\", \"show\", \"list\", \"editor\", \"editing\", \"incompatible\", \"plugins\", \"define\", \"select\", \"already\", \"suggestions\", \"page\", \"enums\", \"mount\", \"instances\", \"ligatures\", \"load\", \"containing\", \"datalore\", \"ctrl\", \"append\", \"rewritten\", \"listed\", \"description\", \"parent\", \"exports\", \"spellcheck\", \"wheel\", \"colour\", \"insists\", \"made\", \"title\", \"update\", \"longer\", \"freezes\", \"uses\", \"breakpoint\", \"items\", \"hit\", \"references\", \"navigate\", \"included\", \"multithreaded\", \"upgrading\", \"since\", \"getting\", \"drf\", \"mac\", \"folders\", \"fine\", \"multiprocessing\", \"today\", \"pypi\", \"permissions\", \"flaskbased\", \"severe\", \"fullyqualified\", \"permanent\", \"drives\", \"mounted\", \"network\", \"toplevel\", \"plugin\", \"data\", \"fastapi\", \"expression\", \"reload\", \"checks\", \"input\", \"sets\", \"never\", \"keyboard\", \"cursor\", \"endpoints\", \"account\", \"pyqt\", \"indent\", \"loop\", \"erroneous\", \"odoo\", \"torchutilsdata\", \"include_routers\", \"dev\", \"pydev_monkey\", \"pythonid\", \"taking\", \"parts\", \"stretch\", \"sysversion_info\", \"postfix\", \"registry\", \"vuejs\", \"version\", \"usage\", \"names\", \"remove\", \"highlighted\", \"versions\", \"fold\", \"adds\", \"impossible\", \"redundant\", \"explorer\", \"compound\", \"applied\", \"yes\", \"bivariant\", \"inspects\", \"strictness\", \"typeguard\", \"redefined\", \"complete\", \"continuously\", \"increases\", \"selinum\", \"fragments\", \"spaces\", \"much\", \"updated\", \"following\", \"break\", \"redundand\", \"tests\", \"style\", \"intention\", \"deprecated\", \"contains\", \"awaited\", \"callable\", \"selector\", \"coroutine\", \"ipywidgets\", \"messages\", \"blocktrans\", \"blocktranslate\", \"currentthread\", \"points\", \"pane\", \"noncoroutine\", \"pylab\", \"iter\", \"replace\", \"paramspec\", \"mark\", \"preferences\", \"convert\", \"literals\", \"invert\", \"attributeerror\", \"sysmodulates\", \"tries\", \"xfail\", \"yet\", \"set\", \"starting\", \"becomes\", \"gherkin\", \"process\", \"matplotlib\", \"hash\", \"newly\", \"element\", \"truncates\", \"watch\", \"dummy\", \"attaching\", \"line_profiler\", \"cucumber\", \"translations\", \"killing\", \"unresponsive\", \"sends\", \"sigint\", \"rider\", \"appending\", \"syspath\", \"lacks\", \"substituted\", \"additive\", \"stacked\", \"directive\", \"dotted\", \"built\"], \"Freq\": [271.0, 235.0, 127.0, 106.0, 230.0, 125.0, 104.0, 99.0, 84.0, 92.0, 76.0, 75.0, 71.0, 64.0, 69.0, 68.0, 70.0, 59.0, 61.0, 65.0, 52.0, 59.0, 52.0, 58.0, 51.0, 65.0, 46.0, 49.0, 48.0, 49.0, 125.01728642584554, 64.3572499503723, 48.22941838764864, 41.1347732462753, 21.31107559291919, 20.883216181050315, 17.795434457936963, 12.623927442848045, 11.08395003875016, 10.422760378051326, 9.353922629027949, 8.559484609898371, 8.455662161433379, 6.911433894265085, 6.845836200281076, 6.04668625303304, 5.819487497888162, 5.38757138505042, 5.37277421855088, 5.369276502998276, 5.17301331012453, 4.982115034338988, 4.843195687726251, 4.5553590451336445, 4.301187425133015, 4.026995845964791, 3.6716540206153674, 3.0818164142817577, 2.963079854420331, 2.9553377105643697, 25.484954229384844, 21.41540834638882, 91.86685170180981, 16.621711132291384, 16.265116007493432, 10.98824089693056, 249.3767047144869, 6.6956778674319475, 6.664830725526113, 6.354799978771373, 5.479741676259102, 5.33716403184185, 4.655496796787375, 4.263785317125514, 3.7743101396676426, 3.3899176621492493, 3.041542703008899, 2.739790166286582, 2.644421782754812, 2.644421782754812, 2.644421782754812, 2.644421782754812, 2.6329518699595758, 2.419259044556673, 2.409402568620807, 2.3519993873831395, 2.070125081430344, 1.7953353865650739, 1.5445470406873874, 1.4892846146972754, 1.4800035405194123, 1.2851051639468811, 234.57250631837962, 40.62582837205695, 36.26351026423276, 7.358678485906111, 7.205200089305856, 6.937381339325033, 6.480389839459501, 5.71918749248015, 4.697402647314716, 4.336435093553553, 4.192012216936967, 4.0534713462136684, 3.9905590911509905, 3.9206247891300676, 3.3823863206184153, 3.295830312454031, 2.689758558908094, 2.689758558908094, 2.689758558908094, 2.6897581380734445, 2.6777923360725304, 2.3874519885823644, 2.2159469293619547, 1.9439932685344206, 1.8261147478398512, 1.5053773032133135, 1.2414877811443568, 0.6987615845368841, 0.6031929815230596, 0.5778376412983133, 98.48077645482452, 57.18226903907836, 40.495032725592644, 20.69509643793478, 20.536688704470563, 12.969103942647827, 10.761899181584383, 8.1400847209224, 5.959179322079959, 5.850537105171846, 5.361458197975647, 4.8475523013229305, 4.334695769026455, 3.978640297002339, 3.978640297002339, 3.5692284791987583, 3.0068962764662674, 2.8420777841836298, 2.787582540429677, 2.787582540429677, 2.787582540429677, 2.787582540429677, 2.787582540429677, 2.5158525616052203, 2.3265012888531467, 2.2965393946382373, 2.2965393946382373, 2.2965393946382373, 2.2945152140443397, 1.7794404484178072, 2.28473708066844, 58.815309529949246, 49.42191156036462, 27.35303739300923, 26.30416442851239, 21.5131441621688, 21.484779481822354, 19.725499475355434, 14.906270675231077, 9.873493205121795, 9.454403119412422, 8.087540592541165, 6.357778853898894, 4.401953370998348, 4.148176165131323, 4.04141970673166, 3.795174018859594, 2.9885692003369297, 2.783498595694275, 2.6060137627118007, 2.5624634640248147, 2.4940265767761605, 2.342572069466098, 2.121960138769034, 2.073564736190746, 1.7466098801131662, 1.5022395927571377, 1.3141697190739168, 1.3062521213987532, 1.241339111902148, 1.1529187477026204, 9.833807898763746, 69.96326582125423, 26.342184677754144, 21.28647374677463, 14.571395788664908, 14.42757694046865, 12.450581535980227, 9.449763825463327, 8.75774351501484, 7.4072815198943065, 7.05643083880206, 6.858612475859891, 6.21193305452668, 6.181057385957683, 6.181057385957683, 5.830087809653325, 5.5905005042741065, 5.317786883955956, 5.303742341576076, 4.921205541065302, 4.844378145594034, 4.288185979743735, 4.283110572202876, 4.200873626377507, 3.9947845925182293, 3.8918940576140617, 3.689856550814587, 3.6763708522910217, 3.3981367854729174, 3.385290648656091, 3.171385072686822, 68.82943619610238, 31.69645755164272, 30.437690840202823, 28.763391043369953, 19.005671453286265, 17.544561316635658, 16.784822432742292, 8.549515474025878, 7.499369977964661, 5.001534567236939, 4.982398472466511, 4.179798351699041, 3.658798590863479, 3.564300436374965, 2.911874480421182, 2.6140436469992148, 2.6140436469992148, 2.5228618351888894, 2.4574087614920717, 2.309653898569022, 1.9451245353021556, 1.712958782253227, 1.5103794248479763, 1.4122010604234956, 1.2993737989595413, 0.8219284504316188, 0.8115288251353658, 1.399612416350432, 0.9988784270841614, 0.6583425372549008, 26.595109044965064, 126.94852738952017, 48.39944684506728, 16.994882350898536, 11.291694116267076, 7.747761804613154, 6.167596851005692, 5.656108520182061, 5.143696288609296, 4.916377480566186, 4.439418910205782, 3.6488512454239124, 3.607891096193351, 3.092519613487616, 2.990962715979187, 2.724564850955, 2.4899060914912448, 2.4848661684071853, 2.319910990541953, 2.317891955922326, 2.2840135075819266, 2.263582874676375, 2.2103316812129217, 2.1074515587464497, 1.915429352084462, 1.7797110348502856, 1.7173589410713448, 1.6895530883255412, 1.6895530883255412, 1.6895530883255412, 1.5059377851801472, 103.55457644152489, 44.010583860762154, 15.217813508743605, 11.701322819467903, 10.634416610540418, 9.292942104790676, 8.131262926080698, 7.807380787439473, 6.070421257599957, 4.876430714926712, 4.554247955892261, 4.4784781337693165, 4.2471981963722065, 3.2415127406806867, 3.1362209809121215, 2.9051629114296142, 2.8908115943795627, 2.871083999746681, 2.681599958114391, 2.6528203133395807, 2.6355757100640322, 2.5452982987077077, 2.1891776266577914, 2.1509258296679694, 2.015568395089156, 1.67793173193339, 1.4260073066302266, 1.3175317422871164, 1.2323306848942805, 1.2266895323916625, 67.30714115574924, 61.1593530197841, 42.04756435362355, 33.700406304602225, 19.899056374143942, 13.946557077079273, 6.38585398359449, 5.24863676221098, 4.597591156343082, 4.4895300752961385, 3.4834872526043457, 3.1727645519269085, 3.142237469138581, 3.0669689631542285, 2.8779002971693153, 2.527074347849007, 2.486750413902492, 1.836161784245497, 1.631283065475182, 1.5364028870854438, 1.5136595325889928, 0.8630681443657019, 0.8503883549801278, 0.7026060473141563, 0.7026060473141563, 0.6560717530664751, 0.3309509126498776, 0.2752032237195623, 0.2752032237195623, 0.2752032237195623, 0.2752032237195623, 33.80407843508398, 31.788794918450762, 23.78282646037161, 15.445142535380349, 15.250202554787798, 15.20396415068771, 14.35755033229393, 11.048907389135497, 9.970384397196066, 9.573911972167982, 7.963017294204036, 6.24948643120429, 5.614337173467634, 5.591782277888959, 5.423825448382817, 5.098482613836659, 4.5105546456474706, 4.167073388807343, 4.085840852136928, 3.952422679263511, 2.9520865193416106, 2.925438851553014, 2.391907236677188, 2.066877871275289, 1.9144041230626796, 1.6018715105043237, 1.586682829757255, 1.2031613157616912, 1.0738966090497173, 1.0738966090497173, 26.998036374913553, 75.07333939062981, 34.66653822817695, 29.83203411800346, 24.642407582033517, 23.302294099609778, 12.896207629757793, 9.910364575571007, 9.069524629020977, 7.498033388341617, 6.76319278964827, 5.779310738785298, 5.186209300720537, 4.320873951531867, 3.5340782432770053, 3.4069316836766417, 3.00859884595717, 2.581187287919001, 2.514169155127634, 2.387023055822967, 1.7707685908019062, 1.6205834644417252, 1.6205834644417252, 1.6205834644417252, 1.6205834644417252, 1.4864497696032721, 1.4417004357355934, 1.4389771729643235, 1.3789879088875114, 1.3560182330502417, 1.1017567975366107, 76.16253192400674, 20.927703214695992, 15.038453763400408, 14.13878431644263, 10.77150397270637, 8.938962880174108, 8.619207351569434, 7.060019181957242, 6.561150347268707, 5.285349477559674, 5.250986009652121, 5.075324792400997, 4.943832925475953, 4.119566391129002, 3.795898260224709, 3.7485349788065756, 3.4194161658666578, 2.7591881702386987, 2.7264050741202346, 2.626362047777912, 2.3663218701917423, 2.2910636022763486, 2.2014700905353797, 2.1809484591674577, 2.163718412416933, 2.163718412416933, 1.8981746877287864, 1.7830742220155678, 1.4698962824442379, 1.1123248299807582, 26.50666174643265, 70.21295594084073, 12.711356864840765, 10.07844122892993, 8.151072024182964, 6.784974356887448, 5.379710725861429, 5.145020311194122, 5.101315266380871, 4.627997577425155, 4.445372074487097, 4.2368189794120665, 3.929747902152155, 3.812678547439011, 3.5142587986601845, 3.030168099956995, 2.671303706603459, 2.671303706603459, 2.51123766936183, 2.265942821548471, 2.2007434086568702, 2.2007434086568702, 2.2007434086568702, 2.200743266757374, 2.193688449507438, 2.1094854303933537, 2.019185131829333, 1.8135858166660968, 1.8135858166660968, 1.8135858166660968, 1.8135858166660968, 54.621774911205584, 36.29984303419506, 30.727340331507232, 20.952504178265396, 18.431053992588406, 15.12064220708124, 13.78604473663842, 13.401115067417125, 11.354951618312029, 9.339755182241081, 6.50713870969097, 6.2404216995731145, 5.371074412836661, 5.114684984154883, 4.823355833901554, 4.797922296526415, 3.844786592116217, 3.844786592116217, 3.844786592116217, 3.721360420232009, 3.5997658181161407, 3.2998266044579654, 3.12487994811778, 3.103491033675853, 2.5170232366004153, 2.50625068484025, 2.2192764288098785, 1.8526826831957994, 1.820748337263294, 1.6774867142529448, 1.6511262958270945, 34.41148723758498, 23.044024510394333, 21.887235156682422, 18.43176093921815, 17.950490387132838, 16.68352112347231, 16.546097844725693, 14.376875795480885, 10.86086038714056, 9.933628943617228, 5.729111913824646, 5.011057653721667, 4.749153255972267, 4.707918363126886, 4.5890202075512105, 4.032156714984176, 3.142358725149243, 2.777579585987987, 2.7307837307186777, 2.4051970115253436, 2.362663224011233, 2.0505327639524835, 1.8857380093007503, 1.5545283628327606, 1.5545283628327606, 1.5545283628327606, 1.5545283628327606, 1.2820226842284692, 1.2820226842284692, 0.8733488284102171, 38.98736579767846, 36.20998944587861, 19.569068837919946, 18.511577258962276, 16.037610685107637, 11.403749660584836, 10.813265022221454, 10.792500805456221, 9.768414127281051, 9.723031324893027, 9.504455471548974, 8.78511080844865, 6.304975131524971, 6.0725442344428044, 4.614453788022552, 2.8631911054062833, 2.7868435202004713, 2.2201020052893354, 2.200156397085922, 2.1011928911495166, 2.0329250516825064, 1.7114780841016004, 1.7114780841016004, 1.5316640203406695, 1.486601349641875, 1.4818649853139925, 1.276752316727618, 1.0831216444921747, 0.6569492175878687, 0.5989786231095219, 48.85542268729084, 35.931937467152615, 21.27676687664678, 17.65666625584129, 14.684120433848744, 11.36747920313108, 9.512870070858904, 9.355847925278713, 7.568391516834678, 7.403467645367199, 6.7542381540696015, 5.685065909117256, 5.587029722222716, 4.803088611999333, 3.7552281346631804, 3.266841632632149, 2.7166676458678123, 2.631052187507443, 2.631052187507443, 2.631052187507443, 2.451838421773085, 2.423802047058171, 1.666156775979634, 1.5092196429907345, 1.472521290898111, 1.472521290898111, 1.2603413925201776, 1.2143913923798573, 1.2143913923798573, 1.1723475263361292, 7.106194727118842, 22.421495018106313, 13.425120086851562, 12.897744906982085, 11.846883571406767, 9.739404793043027, 8.511348489799722, 7.857563550349949, 7.228432344284294, 6.786113231017624, 6.554302240158092, 6.445823067557598, 5.750254456886879, 5.558530837383641, 5.487184102642614, 4.949106692905155, 4.56111008639181, 4.4145770155327275, 4.2311945895530005, 4.205281124252561, 4.192159099838256, 4.061891891763543, 4.028530687092971, 3.8372859194777136, 3.7333978491816615, 3.6449585182648, 3.592501721705761, 3.3833373499521677, 3.3044206917296823, 3.2534117082470937, 3.2013706122375987, 48.06119396940452, 39.787639918361194, 23.78785966983768, 13.491320532553791, 12.396020476041246, 9.050155879028084, 8.587642537144314, 6.6351230464761, 6.058178326356536, 5.430137347492367, 4.736502248692314, 3.7859115156974497, 3.697378233816371, 3.6326402782869636, 3.6256568584937106, 3.4703125321658117, 3.008894692169936, 2.6186170178744246, 2.5036732361693907, 2.185292865085925, 2.024410587835082, 1.7979838390097778, 1.792867224588791, 1.4845527889555516, 1.4845527889555516, 1.4845527889555516, 1.4307823993094735, 1.2735763943422815, 1.2638387047163473, 1.2243137521196445, 10.191461618271187, 27.282699494011993, 17.544324675114783, 15.334990080478066, 13.108794305264173, 11.247432587915982, 9.599146935681848, 9.56496883849816, 9.48555604600574, 9.480362970789274, 9.11744342525003, 8.774114740177282, 6.436712532503112, 5.291544195284625, 5.270389307705913, 17.571166790486803, 4.47949995036198, 4.084005277552847, 3.8735507471156083, 3.803543693713571, 3.803543693713571, 3.6165679888521987, 3.3067690559421936, 3.1089964593420056, 2.677720982562425, 2.664903538300948, 2.4851972441107004, 2.429048828658403, 1.8092405927717348, 1.5705213506330375, 1.5705213506330375, 36.787757275262926, 30.289315701959325, 18.400641643846033, 17.863929470657954, 16.31509908219753, 14.552212263808583, 12.57131421754933, 7.342997985910084, 6.458790588098841, 5.75439383767054, 5.455092835794877, 5.202188137476137, 4.291441662816436, 4.247960475053616, 4.1201794552887065, 4.047675606702941, 3.9049298749945596, 3.7946600991285306, 3.4899981142497047, 2.7852728377887503, 2.5156044678734624, 2.492786345021135, 2.1832427702335093, 1.6493151347964685, 1.5312229017807981, 1.5312229017807981, 1.0501966714744106, 1.0419577041824195, 1.0419577041824195, 0.9723707922001218, 2.6520996211458416, 51.66793333724268, 22.79549338824251, 14.13048830428035, 13.048441840565147, 9.05441957209949, 8.960855093889053, 6.586232767186848, 5.647509224794152, 4.729163304753951, 4.012503894513409, 4.009855818811178, 51.843447535805986, 3.0457946593619143, 2.73033775307664, 2.452680864910722, 2.452680864910722, 2.3671274307782393, 2.219557488092324, 2.0206317105162133, 2.0206317105162133, 2.0206317105162133, 1.4527221581595677, 1.372692130827996, 1.372692130827996, 1.117687361332896, 1.0562742773649103, 0.9836678615722629, 0.934081575753404, 0.7959593067727485, 0.7446605770847383, 50.7253636611946, 25.10005555464986, 11.827625376506562, 11.253584376324037, 10.475510861876566, 10.347982775721194, 10.280312550884585, 6.2924509059629345, 5.827517958579099, 4.728575890389093, 4.006019747723071, 3.924577721587059, 3.6476503479118447, 3.6090311204900978, 3.55076244257975, 3.4048171701389456, 3.402516995391294, 2.8645269055357785, 2.825908713412669, 2.758579101827765, 2.4500148135661126, 1.8728384114602121, 1.5438942695212705, 1.5438942695212705, 1.5221246568355966, 1.3550863393686616, 1.2732528409353816, 1.131152020572246, 1.0505802923533016, 1.0505802923533016, 28.231755250099237, 105.94186031939608, 21.526620011359938, 14.168442310135452, 9.740956773354878, 8.482003365051328, 6.563398296243702, 3.6497895772091256, 3.604254063851573, 3.604253809588231, 3.604253809588231, 3.1100457118045255, 2.525273842672619, 2.4349742509365564, 2.4349742509365564, 2.3759645603066195, 2.0804373292843104, 2.0804370750209684, 6.632969831828965, 1.4133202428014353, 1.4133202428014353, 1.4133202428014353, 1.1252147044631342, 0.9761045102937691, 0.8992529067058848, 0.8440018003603758, 0.8058457084062555, 0.7764791187833945, 0.7667008498816827, 0.6619154306020204, 0.5425016691756758, 6.793240661123612, 22.210501176484424, 20.729558244215717, 20.05680049901933, 11.10456553804533, 9.73005937093071, 9.616975493895788, 8.809231491292948, 8.80725020874421, 8.019450071511327, 6.70239047345481, 6.240080755875427, 4.434528255055712, 4.415557322867884, 4.414602097777991, 4.258112145048111, 4.172620005448201, 3.876457475187325, 3.6006903666484886, 3.1715246323391186, 2.650453899312047, 2.078380192533337, 1.7127488164209104, 1.7127488164209104, 1.4119228600690308, 1.4119228600690308, 1.4119228600690308, 1.4119228600690308, 1.393136092040483, 1.2259899153469795, 1.2020068341374235, 12.810973972040253, 24.65984806683527, 38.92873618766797, 26.506874293324554, 26.44699232306022, 18.4332352583526, 11.061760492708842, 4.167565565094536, 4.158035700965919, 38.7212075964019, 3.6276109264822627, 3.233054669659972, 2.9007013785330606, 2.5416383908644566, 2.5416383908644566, 2.452982176291397, 2.4513769771959577, 2.30181012026808, 2.146651839834383, 2.125490105162567, 2.0320896088052605, 1.8178117376327336, 1.7255540902050819, 1.4161549060234206, 0.9679603271311666, 0.6602821396909847, 3.4940069761610757, 0.5746188950693248, 0.5730133357945819, 0.5480768619933597, 0.5474895296092991, 0.5460172366768103, 83.65929108372572, 22.807344062619283, 8.570925618179539, 7.469313806187183, 7.272768656079868, 6.117386938561642, 4.697143040808698, 4.006359726796239, 3.912696028107611, 3.8210790721283905, 3.786168028911312, 3.271313988108009, 2.734753048013912, 2.6527296307422312, 2.5346458197574626, 2.3503065424301472, 2.1854412020427056, 2.120518915341641, 1.9550786606565904, 1.788001752857786, 1.4846535425782403, 1.3030905873517267, 1.2243967724892943, 1.0427962864749534, 1.0427962864749534, 1.0304683788721136, 1.0102684482849063, 0.8340924758844267, 0.8340924758844267, 0.8340924758844267, 19.100440101400732, 58.80725630161767, 20.91313598154129, 15.478325456517629, 8.867346862176099, 8.271875033440253, 7.8987612563343035, 6.20126035845667, 5.900920867745384, 5.859253353586803, 5.7536716660237825, 5.5374428962760724, 5.280064052699657, 4.6150147456831085, 4.19585111846022, 3.278821002700986, 2.557979136571568, 2.471169632115326, 2.3210993045445827, 2.3210993045445827, 2.062838800659261, 1.884215802227548, 1.7367318575714836, 1.5768112158729206, 1.4054485228292513, 1.3003994806690906, 1.3003994806690906, 1.3003994806690906, 1.0729793093563205, 1.0729793093563205, 1.0729793093563205, 63.99032827865601, 25.50773430981169, 22.940355779115215, 18.851017437175177, 17.58174875538593, 6.15741330762555, 5.327981217988688, 5.19567544159606, 4.731213983635868, 3.7687150081108145, 3.5602744468690526, 3.2214409493350957, 2.839923996238005, 2.1996203268144052, 2.1996203268144052, 2.1996203268144052, 1.081559734256369, 1.081559734256369, 1.009328036457074, 0.9604647605597908, 0.9216296055846298, 0.6100975846764893, 0.5124090420745793, 0.5050518045578742, 0.3475155318653206, 0.34019236956090554, 0.29206821915125664, 0.28897758582602645, 0.28897758582602645, 0.28897758582602645, 42.65731895379271, 31.323397853868467, 16.833065348365636, 13.387683218424643, 12.019064267907394, 9.319530316421131, 6.437447185842326, 6.11127401939796, 5.778926820834279, 4.9670152991450225, 3.5789865794408438, 3.5789865794408438, 3.562116412690079, 3.245230592424293, 2.873420938601515, 2.8444389282402134, 2.575507971634377, 2.5540762553720557, 2.507570549901223, 2.2631357185650667, 2.2281928282918293, 2.1880124837801795, 1.702425342033055, 1.702425342033055, 1.7024249960067446, 1.561517661220049, 1.40341224208217, 1.40341224208217, 1.2255095042894026, 1.1573969932430461, 38.154276785235076, 17.72923107945477, 16.134773197564456, 12.531032841518606, 10.616369002153073, 9.848772085303477, 7.674515239433515, 6.4689550703148395, 5.010658284413038, 4.883228068975396, 4.411577864823531, 4.173432138534234, 4.128911497264973, 4.08845537313919, 3.966305239909169, 3.748312002422765, 3.6738794191825415, 3.5501975004500155, 3.3563772035348176, 2.875184220002612, 2.864523595664713, 2.864523595664713, 2.3599266466056354, 2.3599266466056354, 2.3599266466056354, 1.9361410292394552, 1.8175184092027123, 1.118343718243408, 1.0909282053504585, 1.0909282053504585, 29.754045818588352, 23.2901749515296, 11.957683638143491, 9.274549617313298, 9.074676297632596, 8.97027162896635, 8.256118000263369, 7.052353286255839, 6.746565669710776, 6.426173774596712, 6.407941027650236, 6.037411577065651, 5.605073686746455, 3.582767030053758, 3.5304161406737538, 2.974730996023944, 2.974730996023944, 2.551414758299471, 2.4507207857277766, 2.4507207857277766, 2.4507207857277766, 2.4189899728702615, 2.019586781874126, 2.019586781874126, 2.019586781874126, 2.019586781874126, 2.019586781874126, 2.019586781874126, 2.019586781874126, 1.9578090071721297, 41.55002754451895, 33.85982620583454, 32.7104425322521, 13.142256453871356, 8.393096990339513, 6.88111847440102, 6.57490092404415, 6.242062234457742, 6.033503501298261, 4.091946666175215, 3.682377309546165, 2.479599291018515, 2.479599291018515, 2.42564623751039, 1.8701147779725646, 1.7387642956637535, 1.5878669337826163, 1.58405361772435, 1.3891994240492316, 1.3891994240492316, 1.017911673858361, 0.9964256071536542, 0.9964256071536542, 0.9463603754933211, 0.9231345392022293, 0.7720548446258456, 0.6955780177332411, 0.6804583773990811, 0.5352597749727908, 0.5352597749727908, 43.19113252748382, 26.361531077350598, 18.05765412207163, 7.7335369677043, 7.577510433317601, 7.567067517407677, 7.536491128158045, 5.904252559099623, 4.777699803842579, 3.9630829837033423, 3.9254438855356826, 3.837882423355495, 3.7842171885328013, 3.7842171885328013, 3.7842171885328013, 3.7842171885328013, 3.7842171885328013, 2.1975942943306994, 2.1843144913851944, 2.1843144913851944, 1.800047397655311, 1.3954156042444428, 1.3843115589515251, 1.2237658054008311, 1.2237658054008311, 1.2237658054008311, 1.0744603776461932, 1.012834334126938, 1.009747749673622, 1.009747749673622, 6.221841544641835, 51.735046856528896, 17.022413130263303, 8.522640921247458, 8.338194381880326, 6.651288219173394, 6.549189127814665, 6.540189165569449, 5.357252068541389, 4.546191376069396, 4.49203039042539, 3.8601718882607976, 3.6033827373299303, 3.401032190211996, 3.2487112290773688, 3.086661473570343, 3.0817213111661026, 2.8772416826163973, 2.792586829096914, 2.704579167667055, 2.704579167667055, 2.6102394253250027, 2.4813653787397554, 2.2281575697350466, 2.2281575697350466, 2.228157344578381, 2.228157119421715, 2.228157119421715, 1.8361770390683478, 1.8361770390683478, 1.579683631418004, 36.743276469950516, 22.964806162038332, 15.178667873745491, 8.200868821683455, 8.088719335061159, 7.594072746933196, 7.512069464169594, 6.287896999724841, 5.88940619381437, 4.819053705053441, 4.250828581336707, 4.171488344048089, 3.6269515389132145, 3.5030410029456895, 3.3601317979318446, 3.235391705662799, 3.0179174478002047, 2.541176754180524, 2.5298718175081216, 2.3115472809702773, 2.125103895963985, 2.0935388708571954, 2.0935384299556263, 1.9525493512734955, 1.9179895022612714, 1.7252406736955244, 1.7252406736955244, 1.7252406736955244, 1.4680477980160624, 1.4222205991901677, 23.55006143079842, 16.785900980475287, 12.098132736673412, 10.830215648503682, 10.171269086901534, 7.667624457867773, 6.839671576775498, 5.452894121966818, 4.794910427992155, 4.499663952039658, 4.2581646328966745, 4.177710961582203, 3.9770586561738925, 3.912084190608152, 3.848719334126934, 3.7852284662416635, 3.5008183124415293, 3.269321313144293, 2.8134869137142418, 2.7409511053091378, 2.7287576359444836, 2.5561163045583486, 2.5561163045583486, 2.491111982632066, 2.307552004570014, 2.258122165307722, 2.2581217262435964, 2.0046642761072904, 17.61810136791881, 1.8608703359026362, 40.09828771905541, 20.85471667993203, 18.971505718171194, 10.003533340351966, 9.874281893891334, 9.56674884308211, 7.2836311647421175, 6.678083563515104, 4.860548633203445, 4.702055501725895, 4.208057030713415, 4.067671528415817, 2.859589225132786, 2.7262980137060415, 2.4846951365099215, 2.2733649727992105, 1.996140346831189, 1.850922199833635, 1.6046693973899004, 1.35287487170004, 0.8572244218500019, 0.8572244218500019, 0.8572244218500019, 0.8572242027619296, 0.8138564308759436, 0.7574197816140275, 0.7082541177533173, 0.7082541177533173, 1.525827487320761, 0.6348480018473212, 17.301232588395997, 1.1520212805211638, 20.142574946361037, 18.416950635940815, 17.14168383122004, 12.169377406153405, 9.865830517930965, 8.623620260246819, 7.590023696961589, 6.633905080628764, 5.576402539376087, 5.525549695688418, 5.329206947390868, 5.1447004910498215, 4.93190134783768, 4.814705821360159, 4.547056961278065, 4.491262674992137, 3.9679864398928673, 3.1496269729319177, 2.899160270254354, 2.5761300030424206, 2.548847210553625, 2.444424089142263, 1.9739120343667054, 1.7315290320121897, 1.4279955189484772, 1.4279955189484772, 1.2551219803969318, 1.1017192985555018, 1.028577428372653, 0.7204338013626934, 13.63169618872686, 12.72867212151993, 10.700350277740549, 10.467600241781653, 10.096550092953935, 10.066782035200694, 8.709273581263808, 6.716236879178219, 6.665811891330525, 5.677585968646983, 5.530588908473061, 5.298807953727113, 5.2543789196001, 4.883518638439591, 4.873011647377843, 4.5206638838314674, 3.7779704597466077, 3.2439029562935646, 2.7622555214081523, 2.677255925404463, 2.41318612558022, 2.360554976254242, 2.360554976254242, 2.0979043532301476, 1.7023050921454863, 1.6036149661799077, 1.6036149661799077, 1.6036149661799077, 1.3225045432236158, 1.3225045432236158, 3.748635065040325, 28.732222090689266, 16.50067404346823, 10.877219522966724, 9.821859708682174, 8.553240809244194, 8.388109976051311, 7.723953168446401, 7.009349538071314, 5.155938488897426, 4.653591114675182, 4.213593397831178, 4.058278894964016, 4.0010476868581994, 4.0010476868581994, 3.6866540928915095, 3.3598807550364005, 3.281631189397794, 2.890274449116142, 2.8032821750100037, 2.541507152749809, 2.4360553268544445, 2.3600219127729014, 2.1638720789561514, 2.087792796129594, 1.5689131951940238, 1.4425720307016172, 1.2938859803816785, 1.2938859803816785, 1.2938859803816785, 1.2938859803816785, 2.8553272826806575, 23.185079640685785, 23.05260966805967, 16.87308984802675, 16.089559146485403, 7.886528425025104, 6.421676203057946, 6.407544539352233, 6.007712397626109, 5.264349634182373, 5.199354509023094, 3.6300364938535212, 3.577588990324978, 3.518218996174289, 3.0705013678004347, 3.0042811610210527, 2.7979406495747567, 2.5677706708195442, 2.506591297320174, 2.506591297320174, 2.0650454402415197, 1.7017600484032611, 6.964169716946262, 1.5363794960920685, 1.4422401428224596, 1.4028641245326525, 1.4028641245326525, 1.4028641245326525, 1.4028641245326525, 1.4028641245326525, 1.1569450342014553, 12.61958209537202, 12.013874582687071, 8.65020193450276, 6.757729273563941, 6.5139893295871465, 6.1001523078403945, 5.7375865004182405, 5.602131357900127, 5.568817288952723, 5.127650182831721, 5.109778500127958, 4.505770656312693, 4.414026875745325, 4.414026875745325, 4.2539245378253625, 3.7835116256271326, 3.4930659312632946, 3.490284400793993, 3.3359442039187277, 3.0926307745925024, 3.0926307745925024, 3.0764980975496967, 2.8435713782322054, 2.5862664313191916, 2.5145620502376937, 1.861137012945461, 1.7348782930615305, 1.1778008386697751, 1.1778008386697751, 1.1778008386697751, 7.176799885662479, 45.249106345456546, 22.741423964215322, 8.169379189006676, 7.255858522307511, 7.016713112751795, 6.2257366581224565, 6.162795816988775, 5.369936584756056, 5.32657057777462, 5.029029992555317, 4.669757557912118, 4.4487223344491635, 3.8666103478064375, 2.9816921312215836, 2.5443746225539576, 2.1296337199451516, 2.0243128611164085, 1.4662631346238337, 1.3762331736607925, 1.3762331736607925, 1.3725515430267692, 1.1998730013156351, 1.0084108858367566, 0.9375274749074245, 0.9375274749074245, 0.9375274749074245, 0.9375272757981179, 0.7746019541396943, 0.7746019541396943, 0.6187162415714094, 24.15841385303365, 16.12745920381484, 15.451558355227077, 9.807851130716621, 9.652401247167322, 7.967313628535692, 6.358364800578891, 6.272251930138084, 5.7848400797557815, 4.960111086225027, 4.321378455429116, 3.9434990849235434, 3.807195833745722, 3.4536759703909836, 3.073426217944417, 3.0489010199166136, 3.0277177459470788, 2.6493336373963596, 2.4635361823335136, 2.0555602334933867, 1.7491187892445053, 1.6945231539101853, 1.6945231539101853, 1.6945231539101853, 1.6945231539101853, 1.4677071827940331, 1.3974766575542188, 1.3974766575542188, 1.3974766575542188, 1.231327821220834, 27.14806931243467, 10.980710676404076, 8.429571608898387, 7.855151203116669, 6.549394842364176, 6.419620228325167, 5.671499677074966, 5.581021589979856, 4.6811456472853035, 4.534279854999116, 4.370104444813727, 4.328918223266105, 3.5718435624202862, 3.556117823611977, 3.4918643748107967, 3.484445474418691, 3.4412143511461726, 3.4306077647443796, 3.2817499561227317, 3.2817499561227317, 3.2817499561227317, 3.2817499561227317, 3.281749572895272, 2.755850745467068, 2.5336271055077724, 2.299315513401258, 1.950402432067174, 1.8942824112566887, 1.8942820280292292, 1.8282946665866895, 33.27068383368813, 26.000798006846182, 10.956939616982556, 10.114683595728637, 7.879700393505324, 6.121425707438218, 5.286548088986334, 4.777198484189597, 4.688758463024542, 4.144976820972147, 2.7676046377188896, 2.651406822346201, 2.651406822346201, 2.651406822346201, 2.1843514810390072, 2.1843514810390072, 2.1843514810390072, 2.1843514810390072, 2.149848607756033, 2.0921506587148673, 1.8000774888172728, 1.8000774888172728, 1.8000774888172728, 1.5062094561844404, 1.5005326454994676, 1.4839131005895128, 1.302202079383068, 1.2421317916912635, 1.1693418547119283, 1.0097646099164255, 20.551995751307796, 13.625143454861849, 9.287360036737969, 7.078221134048041, 6.215782417414581, 5.384985466144861, 4.278670645161663, 4.255583465558335, 3.681714424557071, 3.613416551888855, 3.613416551888855, 3.613416217398698, 3.613416217398698, 3.4803352946300237, 3.3121977964867377, 3.0902481908961987, 2.966398861965319, 2.963698522929393, 2.606796522142829, 2.222620695705226, 2.0857257489235272, 1.9562464489183027, 1.8708064574488177, 1.8532291669535392, 1.755388120165408, 1.7188024230389405, 1.3749692871690933, 1.1685311608653755, 1.1685311608653755, 1.1685311608653755, 1.1685311608653755, 24.619200675968415, 10.002227094972048, 8.165371801597846, 5.305818930425093, 20.951597281185947, 3.986197113776836, 3.6605234489965284, 3.3187618189275945, 2.980500861551733, 2.5227980274726405, 2.5227980274726405, 2.490524880611432, 2.2730118667323693, 2.0783972768428653, 1.712763139258356, 1.712763139258356, 1.5224962447912822, 1.4119345880685161, 1.4119345880685161, 1.4119345880685161, 1.0684630299412854, 0.9607850623222332, 0.9607850623222332, 0.854813107515999, 0.7932382634940582, 0.7932382634940582, 0.7932382634940582, 0.5678312651960405, 0.5419697391048557, 0.4486541107979415], \"Total\": [271.0, 235.0, 127.0, 106.0, 230.0, 125.0, 104.0, 99.0, 84.0, 92.0, 76.0, 75.0, 71.0, 64.0, 69.0, 68.0, 70.0, 59.0, 61.0, 65.0, 52.0, 59.0, 52.0, 58.0, 51.0, 65.0, 46.0, 49.0, 48.0, 49.0, 125.84184721186051, 65.18181073638728, 49.053979173663656, 41.959334032290315, 22.13563637893419, 21.753373110757813, 18.619995243951962, 13.448488228863047, 11.908510824765163, 11.247321164066328, 10.178483415042951, 9.384045395913374, 9.280222947448381, 7.73599468028009, 7.6703969862960815, 6.871247039048045, 6.644048283903167, 6.212132171065425, 6.197335004565885, 6.193837289013281, 5.997574096139535, 5.806675820353993, 5.667756473741256, 5.37991983114865, 5.12574821114802, 4.851556631979796, 4.496214806630369, 3.9063772002967596, 3.787640640435333, 3.7798984965793716, 53.40925921410555, 271.6004512491138, 92.69096380058254, 17.445823231064132, 17.08922810626618, 11.81235299570331, 271.6004512491138, 7.519789966204703, 7.488942824298869, 7.178912077544129, 6.3038537750318575, 6.161276130614605, 5.479608895560131, 5.0878974158982695, 4.598422238440396, 4.214029760922002, 3.8656548017816514, 3.5639022650593346, 3.4685338815275646, 3.4685338815275646, 3.4685338815275646, 3.4685338815275646, 3.4570639687323284, 3.2433711433294254, 3.2335146673935595, 3.176111486155892, 2.8942371802030964, 2.6194474853378265, 2.36865913946014, 2.3133967134700284, 2.3041156392921653, 2.1092172627196346, 235.3963402906864, 41.44966234436358, 37.08734423653939, 8.182512458212742, 8.029034061612485, 7.761215311631663, 7.30422381176613, 6.543021464786779, 5.521236619621345, 5.160269065860183, 5.015846189243597, 4.877305318520298, 4.8143930634576195, 4.744458761436697, 4.206220292925042, 4.119664284760657, 3.5135925312147207, 3.5135925312147207, 3.5135925312147207, 3.5135921103800714, 3.5016263083791572, 3.211285960888991, 3.0397809016685815, 2.767827240841047, 2.6499487201464778, 2.3292112755199406, 2.0653217534509847, 1.5225955568435126, 1.427026953829688, 1.4016716136049416, 99.30401030915246, 58.00550289340632, 41.3182665799206, 21.51833029226273, 21.359922558798512, 13.79233779697578, 11.585133035912335, 8.963318575250353, 6.782413176407915, 6.6737709594998025, 6.184692052303603, 5.6707861556508865, 5.157929623354411, 4.801874151330295, 4.801874151330295, 4.392462333526711, 3.8301301307942204, 3.6653116385115827, 3.61081639475763, 3.61081639475763, 3.61081639475763, 3.61081639475763, 3.61081639475763, 3.3390864159331732, 3.1497351431810996, 3.1197732489661902, 3.1197732489661902, 3.1197732489661902, 3.1177490683722926, 2.60267430274576, 9.72544909535233, 59.6370728254675, 50.24367485588287, 28.174800688527473, 27.125927724030632, 22.33490745768704, 22.306542777340596, 20.547262770873676, 15.728033970749323, 10.69545573587569, 10.276166414930668, 8.90930388805941, 7.179542149417142, 5.223716666516596, 4.969939460649571, 4.863183002249908, 4.61693731437784, 3.810332495855175, 3.6052618912125203, 3.427777058230046, 3.38422675954306, 3.3157898722944057, 3.164335364984343, 2.9437234342872793, 2.895328031708991, 2.5683731756314105, 2.3240028882753827, 2.1359330145921627, 2.128015416916999, 2.063102407420394, 1.9746820432208665, 53.40925921410555, 70.78554447958446, 27.164463336084403, 22.108752405104887, 15.393674446995174, 15.249855598798916, 13.272860194310493, 10.272042483793593, 9.580022173345105, 8.229560178224576, 7.878709497132326, 7.680891134190158, 7.034211712856947, 7.003336044287949, 7.003336044287949, 6.652366467983591, 6.412779162604373, 6.140065542286223, 6.126020999906342, 5.743484199395569, 5.6666568039243, 5.110464638074002, 5.1053892305331425, 5.023152284707773, 4.817063250848496, 4.714172715944327, 4.512135209144851, 4.498649510621285, 4.220415443803181, 4.207569306986355, 3.9936637310170857, 69.65373465094898, 32.52075600648935, 31.261989295049442, 29.587689498216573, 19.829969908132885, 18.368859771482278, 17.60912088758891, 9.373813928872503, 8.323668432811292, 5.825833022083564, 5.806696927313136, 5.004096806545666, 4.483097045710101, 4.388598891221587, 3.7361729352678053, 3.438342101845838, 3.438342101845838, 3.3471602900355126, 3.281707216338695, 3.133952353415645, 2.769422990148779, 2.53725723709985, 2.3346778796946, 2.2364995152701193, 2.123672253806166, 1.6462269052782434, 1.6358272799819906, 3.025762613769037, 2.1961609002993847, 1.4826409921015258, 230.92089981544652, 127.77034257661673, 49.221262032163885, 17.816697537995125, 12.113509303363672, 8.569576991709754, 6.989412038102289, 6.4779237072786575, 5.965511475705893, 5.738192667662783, 5.261234097302379, 4.470666432520507, 4.429706283289946, 3.9143348005842116, 3.8127779030757827, 3.5463800380515953, 3.3117212785878403, 3.306681355503781, 3.1417261776385486, 3.1397071430189216, 3.105828694678522, 3.0853980617729704, 3.032146868309517, 2.9292667458430452, 2.7372445391810576, 2.6015262219468807, 2.5391741281679394, 2.511368275422136, 2.511368275422136, 2.511368275422136, 2.3277529722767425, 104.37595794892314, 44.831965368160446, 16.039195016141896, 12.522704326866194, 11.45579811793871, 10.114323612188967, 8.952644433478989, 8.628762294837765, 6.891802764998245, 5.697812222325, 5.375629463290549, 5.299859641167605, 5.068579703770495, 4.062894248078974, 3.9576024883104095, 3.726544418827902, 3.7121931017778507, 3.692465507144969, 3.5029814655126787, 3.4742018207378687, 3.45695721746232, 3.3666798061059957, 3.0105591340560793, 2.9723073370662574, 2.836949902487444, 2.4993132393316775, 2.2473888140285143, 2.1389132496854053, 2.0537121922925694, 2.048071039789951, 68.13088434381811, 61.983096207853, 42.87130754169245, 34.52414949267113, 20.72279956221283, 14.770300265148173, 7.209597171663388, 6.072379950279878, 5.42133434441198, 5.313273263365036, 4.307230440673242, 3.9965077399958053, 3.965980657207478, 3.8907872641060983, 3.701643485238212, 3.350817535917904, 3.310493601971389, 2.6599049723143935, 2.4550262535440788, 2.360146075154341, 2.33740272065789, 1.6868113324346, 1.6741315430490258, 1.5263492353830548, 1.5263492353830548, 1.4798149411353736, 1.1546941007187754, 1.09894641178846, 1.09894641178846, 1.09894641178846, 1.3364538725247948, 34.62711463176346, 32.61183111513024, 24.605862657051077, 16.268178732059823, 16.073238751467272, 16.02700034736719, 15.180586528973409, 11.871943585814975, 10.793420593875544, 10.39694816884746, 8.786053490883514, 7.072522627883766, 6.437373370147109, 6.414818474568435, 6.2468616450622925, 5.921518810516134, 5.333590842326946, 4.9901095854868185, 4.908877048816404, 4.775458875942986, 3.7751227160210847, 3.7484750482324882, 3.2149434333566624, 2.8899140679547637, 2.737440319742154, 2.4249077071837983, 2.4097190264367296, 2.0261975124411666, 1.8969328057291932, 1.8969328057291932, 230.92089981544652, 75.8990305389734, 35.49222937652057, 30.657725266347075, 25.468098730377132, 24.127985247953394, 13.721898778101414, 10.736055723914628, 9.895215777364598, 8.323724536685242, 7.5888839379918895, 6.605001887128918, 6.011900449064156, 5.146565099875486, 4.359769391620623, 4.232622832020259, 3.8342899943007884, 3.406878436262619, 3.3398603034712524, 3.212714204166585, 2.596459739145524, 2.446274612785343, 2.446274612785343, 2.446274612785343, 2.446274612785343, 2.312140917946891, 2.267391584079212, 2.264668321307942, 2.20467905723113, 2.1817093813938606, 1.9274479458802303, 76.98675480943069, 21.75192610011996, 15.862676648824385, 14.963007201866606, 11.595726858130346, 9.763185765598084, 9.44343023699341, 7.884242067381215, 7.38537323269268, 6.109572362983647, 6.075208895076094, 5.8995476778249705, 5.768055810899926, 4.943789276552975, 4.620121145648683, 4.572757864230549, 4.24363905129063, 3.5834110556626717, 3.5506279595442076, 3.450584933201885, 3.1905447556157154, 3.1152864877003217, 3.0256929759593527, 3.0051713445914308, 2.987941297840906, 2.987941297840906, 2.7223975731527594, 2.607297107439541, 2.2941191678682116, 1.9365477154047326, 230.92089981544652, 71.03690312533861, 13.53530404933867, 10.902388413427836, 8.97501920868087, 7.6089215413853495, 6.203657910359331, 5.968967495692024, 5.925262450878773, 5.451944761923057, 5.269319258984999, 5.060766163909968, 4.753695086650057, 4.636625731936913, 4.338205983158085, 3.8541152844548963, 3.4952508911013602, 3.4952508911013602, 3.3351848538597313, 3.0898900060463723, 3.0246905931547716, 3.0246905931547716, 3.0246905931547716, 3.0246904512552755, 3.017635634005339, 2.933432614891255, 2.8431323163272344, 2.637533001163998, 2.637533001163998, 2.637533001163998, 2.637533001163998, 230.92089981544652, 37.1236522123752, 31.551149509687363, 21.776313356445527, 19.254863170768537, 15.944451385261377, 14.609853914818558, 14.224924245597263, 12.178760796492167, 10.16356436042122, 7.330947887871105, 7.064230877753249, 6.194883591016795, 5.938494162335018, 5.647165012081689, 5.621731474706549, 4.668595770296352, 4.668595770296352, 4.668595770296352, 4.545169598412143, 4.423574996296274, 4.123635782638099, 3.9486891262979142, 3.9273002118559877, 3.3408324147805497, 3.3300598630203844, 3.043085606990013, 2.6764918613759336, 2.644557515443428, 2.501295892433079, 2.474935474007229, 35.23478245596154, 23.867319728770884, 22.710530375058973, 19.2550561575947, 18.77378560550939, 17.50681634184886, 17.369393063102244, 15.200171013857446, 11.684155605517121, 10.756924161993789, 6.552407132201202, 5.834352872098223, 5.572448474348823, 5.531213581503442, 5.412315425927766, 4.855451933360732, 3.9656539435257985, 3.600874804364542, 3.554078949095233, 3.228492229901899, 3.1859584423877885, 2.873827982329039, 2.7090332276773057, 2.3778235812093165, 2.3778235812093165, 2.3778235812093165, 2.3778235812093165, 2.105317902605026, 2.105317902605026, 1.6966440467867745, 39.808940660017136, 37.0404094015751, 20.390643700258615, 19.33315212130094, 16.8591855474463, 12.225324522923511, 11.63483988456013, 11.614075667794896, 10.589988989619727, 10.544606187231702, 10.32603033388765, 9.606685670787325, 7.126549993863642, 6.894119096781475, 5.436028650361223, 3.684765967744954, 3.608418382539142, 3.041676867628006, 3.021731259424593, 2.9227677534881873, 2.854499914021177, 2.533052946440271, 2.533052946440271, 2.353238882679341, 2.308176211980547, 2.303439847652664, 2.09832717906629, 1.9046965068308472, 1.4785240799265413, 1.4205534854481945, 49.67961680060155, 36.756131580463325, 22.10096098995748, 18.48086036915199, 15.508314547159452, 12.191673316441788, 10.337064184169613, 10.180042038589422, 8.392585630145389, 8.227661758677906, 7.578432267380307, 6.509260022427961, 6.411223835533421, 5.627282725310038, 4.579422247973885, 4.091035745942853, 3.5408617591785165, 3.455246300818147, 3.455246300818147, 3.455246300818147, 3.276032535083789, 3.247996160368875, 2.4903508892903385, 2.3334137563014394, 2.296715404208816, 2.296715404208816, 2.0845355058308837, 2.0385855056905626, 2.0385855056905626, 1.9965416396468352, 230.92089981544652, 23.243643351541955, 14.24726842028721, 13.719893240417733, 12.669031904842416, 10.561553126478675, 9.333496823235372, 8.679711883785597, 8.050580677719939, 7.608261564453269, 7.376450573593737, 7.267971400993242, 6.572402790322524, 6.380679170819286, 6.309332436078258, 5.7712550263408, 5.383258419827455, 5.236725348968372, 5.053342922988645, 5.027429457688206, 5.014307433273901, 4.884040225199188, 4.850679020528616, 4.659434252913359, 4.555546182617306, 4.467106851700444, 4.414650055141405, 4.2054856833878125, 4.126569025165327, 4.0755600416827376, 4.023518945673244, 48.88525620228102, 40.611702151237694, 24.61590046160852, 14.315382765430286, 13.22008270891774, 9.874218111904579, 9.411704770020808, 7.4591852793525915, 6.882240559233027, 6.254199580368858, 5.560564481568805, 4.609973748573941, 4.521440466692862, 4.456702511163454, 4.449719091370201, 4.294374765042302, 3.8329569250464273, 3.4426792507509156, 3.327735469045882, 3.009355097962416, 2.848472820711573, 2.622046071886269, 2.6169294574652824, 2.308615021832044, 2.308615021832044, 2.308615021832044, 2.254844632185965, 2.097638627218774, 2.0879009375928397, 2.048375984996137, 230.92089981544652, 28.106685941972177, 18.368311123074967, 16.158976528438256, 13.932780753224364, 12.071419035876174, 10.423133383642039, 10.388955286458351, 10.309542493965932, 10.304349418749466, 9.941429873210222, 9.598101188137473, 7.260698980463298, 6.115530643244811, 6.094375755666099, 20.58944973044372, 5.303486398322166, 4.907991725513033, 4.697537195075794, 4.627530141673757, 4.627530141673757, 4.440554436812385, 4.13075550390238, 3.932982907302193, 3.5017074305226124, 3.4888899862611353, 3.3091836920708877, 3.2530352766185904, 2.633227040731922, 2.394507798593225, 2.394507798593225, 37.61130794898664, 31.112866375683026, 19.224192317569734, 18.687480144381656, 17.138649755921232, 15.375762937532294, 13.394864891273041, 8.166548659633792, 7.2823412618225465, 6.577944511394246, 6.278643509518583, 6.025738811199842, 5.1149923365401415, 5.071511148777321, 4.943730129012412, 4.871226280426646, 4.728480548718265, 4.618210772852236, 4.313548787973409, 3.608823511512456, 3.339155141597168, 3.3163370187448407, 3.006793443957215, 2.4728658085201745, 2.354773575504504, 2.354773575504504, 1.873747345198118, 1.8655083779061266, 1.8655083779061266, 1.795921465923829, 10.424442950958046, 52.49322169697102, 23.620781747970838, 14.955776664008688, 13.873730200293485, 9.879707931827829, 9.786143453617392, 7.411521126915181, 6.4727975845224845, 5.554451664482284, 4.837792254241742, 4.835144178539511, 65.46423351374987, 3.8710830190902477, 3.5556261128049735, 3.2779692246390555, 3.2779692246390555, 3.1924157905065726, 3.0448458478206573, 2.8459200702445466, 2.8459200702445466, 2.8459200702445466, 2.2780105178879015, 2.19798049055633, 2.19798049055633, 1.9429757210612306, 1.881562637093245, 1.8089562213005976, 1.7593699354817387, 1.6212476665010833, 1.569948936813073, 51.54877544081377, 25.92346733426902, 12.65103715612573, 12.076996155943204, 11.298922641495734, 11.171394555340362, 11.103724330503752, 7.115862685582097, 6.650929738198261, 5.5519876700082555, 4.8294315273422335, 4.747989501206222, 4.471062127531007, 4.43244290010926, 4.374174222198912, 4.228228949758107, 4.225928775010456, 3.687938685154941, 3.6493204930318317, 3.5819908814469277, 3.2734265931852753, 2.696250191079375, 2.3673060491404336, 2.3673060491404336, 2.3455364364547595, 2.178498118987825, 2.0966646205545456, 1.9545638001914103, 1.8739920719724659, 1.8739920719724659, 230.92089981544652, 106.76670334627475, 22.351463038238627, 14.99328533701415, 10.565799800233576, 9.306846391930026, 7.388241323122395, 4.474632604087819, 4.4290970907302665, 4.4290968364669245, 4.4290968364669245, 3.934888738683219, 3.3501168695513126, 3.25981727781525, 3.25981727781525, 3.200807587185313, 2.905280356163004, 2.905280101899662, 9.72544909535233, 2.2381632696801295, 2.2381632696801295, 2.2381632696801295, 1.950057731341829, 1.8009475371724641, 1.7240959335845796, 1.6688448272390706, 1.6306887352849504, 1.6013221456620894, 1.5915438767603778, 1.4867584574807153, 1.3673446960543707, 25.219370280560735, 23.035359521011483, 21.554416588742775, 20.88165884354639, 11.929423882572395, 10.554917715457776, 10.441833838422854, 9.634089835820014, 9.632108553271275, 8.844308416038393, 7.527248817981871, 7.064939100402487, 5.259386599582772, 5.240416777018325, 5.239460442305052, 5.082970489575171, 4.997478349975262, 4.701315819714385, 4.42554871117555, 3.9963829768661796, 3.4753122438391078, 2.903238537060398, 2.5376071609479713, 2.5376071609479713, 2.236781204596092, 2.236781204596092, 2.236781204596092, 2.236781204596092, 2.2179944365675444, 2.0508482598740416, 2.0268651786644853, 65.46423351374987, 230.92089981544652, 39.75347882340047, 27.331616929057038, 27.271734958792702, 19.257977894085084, 11.886503128441333, 4.992308200827022, 4.982778336698406, 46.70377790973355, 4.452353562214749, 4.057797305392459, 3.7254440142655474, 3.3663810265969434, 3.3663810265969434, 3.2777248120238838, 3.2761196129284444, 3.126552756000567, 2.9713944755668695, 2.950232740895054, 2.856832244537747, 2.6425543733652206, 2.5502967259375686, 2.2408975417559076, 1.7927029628636546, 1.4850247754234724, 8.049807149940074, 1.3993615308018128, 1.3977559715270698, 1.3728194977258477, 1.372232165341787, 1.3707598724092982, 84.4833522132222, 23.631405192115796, 9.39498674767606, 8.293374935683703, 8.096829785576386, 6.9414480680581585, 5.521204170305214, 4.830420856292755, 4.736757157604127, 4.645140201624907, 4.610229158407828, 4.095375117604524, 3.558814177510428, 3.4767907602387473, 3.3587069492539787, 3.1743676719266634, 3.0095023315392218, 2.944580044838157, 2.7791397901531067, 2.6120628823543024, 2.3087146720747573, 2.1271517168482443, 2.048457901985812, 1.866857415971471, 1.866857415971471, 1.8545295083686313, 1.834329577781424, 1.6581536053809443, 1.6581536053809443, 1.6581536053809443, 230.92089981544652, 59.63030727289065, 21.736186952814265, 16.3013764277906, 9.690397833449076, 9.09492600471323, 8.72181222760728, 7.024311329729642, 6.723971839018356, 6.682304324859775, 6.576722637296754, 6.360493867549044, 6.103115023972629, 5.43806571695608, 5.018902089733191, 4.1018719739739575, 3.381030107844541, 3.294220603388299, 3.1441502758175557, 3.1441502758175557, 2.885889771932234, 2.7072667735005207, 2.5597828288444564, 2.3998621871458936, 2.2284994941022247, 2.1234504519420647, 2.1234504519420647, 2.1234504519420647, 1.8960302806292948, 1.8960302806292948, 1.8960302806292948, 64.81324103580569, 26.330647066961394, 23.76326853626492, 19.673930194324882, 18.404661512535636, 6.980326064775253, 6.150893975138391, 6.018588198745763, 5.554126740785572, 4.591627765260518, 4.383187204018756, 4.0443537064848005, 3.66283675338771, 3.02253308396411, 3.02253308396411, 3.02253308396411, 1.9044724914060749, 1.9044724914060749, 1.83224079360678, 1.7833775177094966, 1.7445423627343357, 1.4330103418261952, 1.3353217992242852, 1.3279645617075801, 1.170428289015026, 1.163105126710611, 1.114980976300962, 1.1118903429757319, 1.1118903429757319, 1.1118903429757319, 43.48227058392598, 32.148349484001734, 17.658016978498903, 14.212634848557915, 12.844015898040666, 10.144481946554404, 7.262398815975593, 6.9362256495312264, 6.603878450967546, 5.791966929278289, 4.40393820957411, 4.40393820957411, 4.387068042823346, 4.07018222255756, 3.698372568734783, 3.669390558373481, 3.4004596017676447, 3.3790278855053235, 3.332522180034491, 3.0880873486983345, 3.053144458425097, 3.0129641139134473, 2.527376972166323, 2.527376972166323, 2.5273766261400126, 2.386469291353317, 2.228363872215438, 2.228363872215438, 2.050461134422671, 1.982348623376315, 38.977038633288984, 18.551992927508675, 16.95753504561836, 13.353794689572515, 11.439130850206983, 10.671533933357386, 8.497277087487424, 7.291716918368745, 5.8334201324669435, 5.705989917029301, 5.2343397128774365, 4.996193986588139, 4.951673345318878, 4.911217221193096, 4.789067087963074, 4.57107385047667, 4.496641267236447, 4.372959348503921, 4.179139051588724, 3.6979460680565186, 3.6872854437186193, 3.6872854437186193, 3.182688494659542, 3.182688494659542, 3.182688494659542, 2.7589028772933615, 2.640280257256619, 1.941105566297315, 1.9136900534043655, 1.9136900534043655, 30.57613158212164, 24.112260715062888, 12.779769401676784, 10.096635380846589, 9.896762061165887, 9.792357392499643, 9.078203763796662, 7.874439049789127, 7.568651433244065, 7.24825953813, 7.2300267911835245, 6.8594973405989395, 6.427159450279744, 4.404852793587047, 4.352501904207042, 3.7968167595572333, 3.7968167595572333, 3.3735005218327605, 3.272806549261066, 3.272806549261066, 3.272806549261066, 3.241075736403551, 2.8416725454074157, 2.8416725454074157, 2.8416725454074157, 2.8416725454074157, 2.8416725454074157, 2.8416725454074157, 2.8416725454074157, 2.779894770705419, 42.37189826775278, 34.68169692906837, 33.53231325548594, 13.964127177105185, 9.214967713573342, 7.702989197634846, 7.396771647277976, 7.063932957691568, 6.8553742245320874, 4.913817389409041, 4.504248032779992, 3.301470014252342, 3.301470014252342, 3.247516960744217, 2.6919855012063914, 2.5606350188975804, 2.4097376570164433, 2.405924340958177, 2.2110701472830585, 2.2110701472830585, 1.8397823970921887, 1.818296330387482, 1.818296330387482, 1.7682310987271488, 1.7450052624360572, 1.5939255678596735, 1.517448740967069, 1.502329100632909, 1.3571304982066186, 1.3571304982066186, 44.015202043956556, 27.185600593823324, 18.881723638544354, 8.557606484177029, 8.40157994979033, 8.391137033880407, 8.360560644630773, 6.7283220755723505, 5.601769320315307, 4.787152500176069, 4.74951340200841, 4.6619519398282225, 4.608286705005528, 4.608286705005528, 4.608286705005528, 4.608286705005528, 4.608286705005528, 3.0216638108034264, 3.0083840078579214, 3.0083840078579214, 2.624116914128038, 2.21948512071717, 2.2083810754242528, 2.047835321873559, 2.047835321873559, 2.047835321873559, 1.8985298941189213, 1.836903850599666, 1.8338172661463503, 1.8338172661463503, 230.92089981544652, 52.55878990793715, 17.84615618167155, 9.346383972655707, 9.161937433288575, 7.475031270581641, 7.372932179222912, 7.3639322169776955, 6.180995119949636, 5.369934427477643, 5.315773441833637, 4.6839149396690445, 4.427125788738177, 4.224775241620243, 4.072454280485616, 3.91040452497859, 3.90546436257435, 3.7009847340246447, 3.616329880505161, 3.5283222190753025, 3.5283222190753025, 3.43398247673325, 3.3051084301480027, 3.051900621143294, 3.051900621143294, 3.051900395986628, 3.0519001708299625, 3.0519001708299625, 2.659920090476595, 2.659920090476595, 2.403426682826251, 37.5680219376963, 23.789551629784118, 16.003413341491278, 9.025614289429242, 8.913464802806946, 8.418818214678982, 8.33681493191538, 7.112642467470625, 6.714151661560154, 5.643799172799225, 5.075574049082491, 4.996233811793873, 4.451697006658999, 4.327786470691474, 4.1848772656776285, 4.060137173408584, 3.842662915545989, 3.3659222219263083, 3.354617285253906, 3.1362927487160617, 2.9498493637097694, 2.9182843386029798, 2.9182838977014107, 2.77729481901928, 2.742734970007056, 2.549986141441309, 2.549986141441309, 2.549986141441309, 2.292793265761847, 2.2469660669359524, 24.373581353789763, 17.60942090346663, 12.92165265966476, 11.65373557149503, 10.994789009892882, 8.49114438085912, 7.663191499766844, 6.276414044958164, 5.618430350983502, 5.323183875031004, 5.081684555888021, 5.001230884573548, 4.800578579165238, 4.735604113599498, 4.67223925711828, 4.60874838923301, 4.324338235432876, 4.092841236135639, 3.6370068367055883, 3.5644710283004843, 3.55227755893583, 3.379636227549695, 3.379636227549695, 3.3146319056234126, 3.1310719275613605, 3.0816420882990685, 3.081641649234943, 2.828184199098637, 25.219370280560735, 2.6843902588939828, 40.921897531786584, 21.678326492663196, 19.79511553090236, 10.827143153083135, 10.697891706622503, 10.390358655813278, 8.107240977473287, 7.501693376246272, 5.684158445934613, 5.525665314457063, 5.031666843444583, 4.891281341146985, 3.6831990378639543, 3.54990782643721, 3.3083049492410894, 3.0969747855303784, 2.819750159562357, 2.674532012564803, 2.4282792101210684, 2.176484684431208, 1.6808342345811704, 1.6808342345811704, 1.6808342345811704, 1.6808340154930983, 1.6374662436071121, 1.5810295943451962, 1.5318639304844859, 1.5318639304844859, 3.5024374074232996, 1.4584578145784897, 53.40925921410555, 4.717369444178236, 20.963930026728473, 19.23830571630825, 17.963038911587475, 12.990732486520843, 10.687185598298402, 9.444975340614256, 8.411378777329027, 7.4552601609962, 6.3977576197435235, 6.346904776055855, 6.150562027758305, 5.966055571417258, 5.753256428205117, 5.636060901727595, 5.3684120416455015, 5.3126177553595735, 4.789341520260304, 3.970982053299355, 3.7205153506217914, 3.3974850834098578, 3.3702022909210623, 3.2657791695097003, 2.7952671147341426, 2.5528841123796266, 2.2493505993159144, 2.2493505993159144, 2.076477060764369, 1.9230743789229394, 1.8499325087400904, 1.541788881730131, 14.454453360084775, 13.551429292877845, 11.523107449098465, 11.290357413139569, 10.91930726431185, 10.88953920655861, 9.532030752621724, 7.538994050536134, 7.488569062688439, 6.500343140004897, 6.353346079830976, 6.121565125085028, 6.077136090958015, 5.706275809797506, 5.695768818735758, 5.343421055189382, 4.600727631104522, 4.066660127651479, 3.5850126927660675, 3.500013096762378, 3.235943296938135, 3.183312147612157, 3.183312147612157, 2.9206615245880627, 2.5250622635034015, 2.4263721375378227, 2.4263721375378227, 2.4263721375378227, 2.145261714581531, 2.145261714581531, 8.049807149940074, 29.555359634063795, 17.32381158684276, 11.700357066341258, 10.644997252056708, 9.376378352618726, 9.211247519425843, 8.547090711820934, 7.832487081445844, 5.979076032271956, 5.476728658049712, 5.036730941205708, 4.8814164383385465, 4.82418523023273, 4.82418523023273, 4.50979163626604, 4.183018298410931, 4.104768732772324, 3.713411992490673, 3.626419718384535, 3.36464469612434, 3.2591928702289756, 3.1831594561474326, 2.9870096223306826, 2.9109303395041253, 2.392050738568555, 2.2657095740761486, 2.1170235237562096, 2.1170235237562096, 2.1170235237562096, 2.1170235237562096, 24.614585624344947, 24.010037278179745, 23.87756730555363, 17.69804748552071, 16.914516783979362, 8.711486062519066, 7.246633840551907, 7.232502176846194, 6.83267003512007, 6.089307271676334, 6.0243121465170555, 4.454994131347482, 4.402546627818939, 4.34317663366825, 3.8954590052943963, 3.8292387985150143, 3.6228982870687183, 3.392728308313506, 3.3315489348141356, 3.3315489348141356, 2.8900030777354813, 2.5267176858972227, 10.424442950958046, 2.36133713358603, 2.267197780316421, 2.2278217620266143, 2.2278217620266143, 2.2278217620266143, 2.2278217620266143, 2.2278217620266143, 1.9819026716954171, 13.44094458566042, 12.83523707297547, 9.47156442479116, 7.579091763852339, 7.3353518198755445, 6.921514798128793, 6.5589489907066385, 6.423493848188525, 6.390179779241121, 5.949012673120119, 5.931140990416356, 5.327133146601091, 5.235389366033723, 5.235389366033723, 5.0752870281137605, 4.60487411591553, 4.314428421551693, 4.311646891082391, 4.157306694207126, 3.913993264880901, 3.913993264880901, 3.897860587838095, 3.664933868520604, 3.40762892160759, 3.335924540526092, 2.6824995032338594, 2.556240783349929, 1.999163328958174, 1.999163328958174, 1.999163328958174, 46.70377790973355, 46.07114940535999, 23.563467024118758, 8.991422248910112, 8.077901582210949, 7.838756172655231, 7.047779718025892, 6.984838876892211, 6.191979644659492, 6.148613637678056, 5.851073052458752, 5.491800617815554, 5.270765394352599, 4.688653407709873, 3.80373519112502, 3.366417682457394, 2.951676779848588, 2.846355921019845, 2.2883061945272702, 2.1982762335642287, 2.1982762335642287, 2.1945946029302057, 2.021916061219071, 1.8304539457401932, 1.759570534810861, 1.759570534810861, 1.759570534810861, 1.7595703357015542, 1.5966450140431308, 1.5966450140431308, 1.4407593014748459, 24.98017456323168, 16.949219914012872, 16.273319065425106, 10.629611840914656, 10.474161957365357, 8.789074338733727, 7.180125510776925, 7.094012640336118, 6.6066007899538155, 5.781871796423061, 5.14313916562715, 4.765259795121577, 4.628956543943755, 4.275436680589017, 3.8951869281424516, 3.870661730114648, 3.849478456145113, 3.471094347594394, 3.285296892531548, 2.877320943691421, 2.5708794994425395, 2.5162838641082197, 2.5162838641082197, 2.5162838641082197, 2.5162838641082197, 2.2894678929920675, 2.219237367752253, 2.219237367752253, 2.219237367752253, 2.0530885314188683, 27.974298514265165, 11.80693987823457, 9.25580081072888, 8.681380404947163, 7.375624044194669, 7.24584943015566, 6.497728878905459, 6.407250791810349, 5.507374849115797, 5.360509056829609, 5.19633364664422, 5.155147425096598, 4.39807276425078, 4.382347025442471, 4.3180935766412905, 4.310674676249184, 4.267443552976666, 4.256836966574873, 4.107979157953225, 4.107979157953225, 4.107979157953225, 4.107979157953225, 4.1079787747257654, 3.5820799472975615, 3.3598563073382657, 3.1255447152317513, 2.7766316338976673, 2.720511613087182, 2.7205112298597225, 2.654523868417183, 34.094753079258446, 26.824867252416492, 11.781008862552866, 10.938752841298948, 8.703769639075635, 6.945494953008527, 6.110617334556643, 5.601267729759907, 5.512827708594852, 4.9690460665424565, 3.5916738832891997, 3.475476067916511, 3.475476067916511, 3.475476067916511, 3.0084207266093173, 3.0084207266093173, 3.0084207266093173, 3.0084207266093173, 2.973917853326343, 2.9162199042851773, 2.624146734387583, 2.624146734387583, 2.624146734387583, 2.33027870175475, 2.3246018910697774, 2.3079823461598226, 2.126271324953378, 2.0662010372615733, 1.9934111002822386, 1.833833855486736, 21.376799396165516, 14.449947099719571, 10.11216368159569, 7.903024778905762, 7.040586062272302, 6.209789111002582, 5.103474290019384, 5.080387110416056, 4.506518069414793, 4.438220196746577, 4.438220196746577, 4.438219862256419, 4.438219862256419, 4.305138939487745, 4.137001441344459, 3.9150518357539204, 3.7912025068230406, 3.7885021677871147, 3.4316001670005507, 3.0474243405629475, 2.910529393781249, 2.7810500937760243, 2.695610102306539, 2.678032811811261, 2.5801917650231294, 2.543606067896662, 2.1997729320268147, 1.9933348057230973, 1.9933348057230973, 1.9933348057230973, 3.5024374074232996, 25.444058891423953, 10.827085310427588, 8.990230017053387, 6.130677145880632, 24.614585624344947, 4.811055329232376, 4.485381664452069, 4.143620034383135, 3.805359077007273, 3.3476562429281804, 3.3476562429281804, 3.315383096066972, 3.0978700821879093, 2.9032554922984053, 2.537621354713896, 2.537621354713896, 2.347354460246822, 2.236792803524056, 2.236792803524056, 2.236792803524056, 1.8933212453968253, 1.785643277777773, 1.785643277777773, 1.679671322971539, 1.6180964789495982, 1.6180964789495982, 1.6180964789495982, 1.3926894806515806, 1.3668279545603956, 1.2735123262534813], \"Category\": [\"Default\", \"Default\", \"Default\", \"Default\", \"Default\", \"Default\", \"Default\", \"Default\", \"Default\", \"Default\", \"Default\", \"Default\", \"Default\", \"Default\", \"Default\", \"Default\", \"Default\", \"Default\", \"Default\", \"Default\", \"Default\", \"Default\", \"Default\", \"Default\", \"Default\", \"Default\", \"Default\", \"Default\", \"Default\", \"Default\", \"Topic1\", \"Topic1\", \"Topic1\", \"Topic1\", \"Topic1\", \"Topic1\", \"Topic1\", \"Topic1\", \"Topic1\", \"Topic1\", \"Topic1\", \"Topic1\", \"Topic1\", \"Topic1\", \"Topic1\", \"Topic1\", \"Topic1\", \"Topic1\", \"Topic1\", \"Topic1\", \"Topic1\", \"Topic1\", \"Topic1\", \"Topic1\", \"Topic1\", \"Topic1\", \"Topic1\", \"Topic1\", \"Topic1\", \"Topic1\", \"Topic1\", \"Topic1\", \"Topic2\", \"Topic2\", \"Topic2\", \"Topic2\", \"Topic2\", \"Topic2\", \"Topic2\", \"Topic2\", \"Topic2\", \"Topic2\", \"Topic2\", \"Topic2\", \"Topic2\", \"Topic2\", \"Topic2\", \"Topic2\", \"Topic2\", \"Topic2\", \"Topic2\", \"Topic2\", \"Topic2\", \"Topic2\", \"Topic2\", \"Topic2\", \"Topic2\", \"Topic2\", \"Topic2\", \"Topic2\", \"Topic2\", \"Topic2\", \"Topic3\", \"Topic3\", \"Topic3\", \"Topic3\", \"Topic3\", \"Topic3\", \"Topic3\", \"Topic3\", \"Topic3\", \"Topic3\", \"Topic3\", \"Topic3\", \"Topic3\", \"Topic3\", \"Topic3\", \"Topic3\", \"Topic3\", \"Topic3\", \"Topic3\", \"Topic3\", \"Topic3\", \"Topic3\", \"Topic3\", \"Topic3\", \"Topic3\", \"Topic3\", \"Topic3\", \"Topic3\", \"Topic3\", \"Topic3\", \"Topic4\", \"Topic4\", \"Topic4\", \"Topic4\", \"Topic4\", \"Topic4\", \"Topic4\", \"Topic4\", \"Topic4\", \"Topic4\", \"Topic4\", \"Topic4\", \"Topic4\", \"Topic4\", \"Topic4\", \"Topic4\", \"Topic4\", \"Topic4\", \"Topic4\", \"Topic4\", \"Topic4\", \"Topic4\", \"Topic4\", \"Topic4\", \"Topic4\", \"Topic4\", \"Topic4\", \"Topic4\", \"Topic4\", \"Topic4\", \"Topic4\", \"Topic5\", \"Topic5\", \"Topic5\", \"Topic5\", \"Topic5\", \"Topic5\", \"Topic5\", \"Topic5\", \"Topic5\", \"Topic5\", \"Topic5\", \"Topic5\", \"Topic5\", \"Topic5\", \"Topic5\", \"Topic5\", \"Topic5\", \"Topic5\", \"Topic5\", \"Topic5\", \"Topic5\", \"Topic5\", \"Topic5\", \"Topic5\", \"Topic5\", \"Topic5\", \"Topic5\", \"Topic5\", \"Topic5\", \"Topic5\", \"Topic5\", \"Topic6\", \"Topic6\", \"Topic6\", \"Topic6\", \"Topic6\", \"Topic6\", \"Topic6\", \"Topic6\", \"Topic6\", \"Topic6\", \"Topic6\", \"Topic6\", \"Topic6\", \"Topic6\", \"Topic6\", \"Topic6\", \"Topic6\", \"Topic6\", \"Topic6\", \"Topic6\", \"Topic6\", \"Topic6\", \"Topic6\", \"Topic6\", \"Topic6\", \"Topic6\", \"Topic6\", \"Topic6\", \"Topic6\", \"Topic6\", \"Topic7\", \"Topic7\", \"Topic7\", \"Topic7\", \"Topic7\", \"Topic7\", \"Topic7\", \"Topic7\", \"Topic7\", \"Topic7\", \"Topic7\", \"Topic7\", \"Topic7\", \"Topic7\", \"Topic7\", \"Topic7\", \"Topic7\", \"Topic7\", \"Topic7\", \"Topic7\", \"Topic7\", \"Topic7\", \"Topic7\", \"Topic7\", \"Topic7\", \"Topic7\", \"Topic7\", \"Topic7\", \"Topic7\", \"Topic7\", \"Topic7\", \"Topic8\", \"Topic8\", \"Topic8\", \"Topic8\", \"Topic8\", \"Topic8\", \"Topic8\", \"Topic8\", \"Topic8\", \"Topic8\", \"Topic8\", \"Topic8\", \"Topic8\", \"Topic8\", \"Topic8\", \"Topic8\", \"Topic8\", \"Topic8\", \"Topic8\", \"Topic8\", \"Topic8\", \"Topic8\", \"Topic8\", \"Topic8\", \"Topic8\", \"Topic8\", \"Topic8\", \"Topic8\", \"Topic8\", \"Topic8\", \"Topic9\", \"Topic9\", \"Topic9\", \"Topic9\", \"Topic9\", \"Topic9\", \"Topic9\", \"Topic9\", \"Topic9\", \"Topic9\", \"Topic9\", \"Topic9\", \"Topic9\", \"Topic9\", \"Topic9\", \"Topic9\", \"Topic9\", \"Topic9\", \"Topic9\", \"Topic9\", \"Topic9\", \"Topic9\", \"Topic9\", \"Topic9\", \"Topic9\", \"Topic9\", \"Topic9\", \"Topic9\", \"Topic9\", \"Topic9\", \"Topic10\", \"Topic10\", \"Topic10\", \"Topic10\", \"Topic10\", \"Topic10\", \"Topic10\", \"Topic10\", \"Topic10\", \"Topic10\", \"Topic10\", \"Topic10\", \"Topic10\", \"Topic10\", \"Topic10\", \"Topic10\", \"Topic10\", \"Topic10\", \"Topic10\", \"Topic10\", \"Topic10\", \"Topic10\", \"Topic10\", \"Topic10\", \"Topic10\", \"Topic10\", \"Topic10\", \"Topic10\", \"Topic10\", \"Topic10\", \"Topic10\", \"Topic11\", \"Topic11\", \"Topic11\", \"Topic11\", \"Topic11\", \"Topic11\", \"Topic11\", \"Topic11\", \"Topic11\", \"Topic11\", \"Topic11\", \"Topic11\", \"Topic11\", \"Topic11\", \"Topic11\", \"Topic11\", \"Topic11\", \"Topic11\", \"Topic11\", \"Topic11\", \"Topic11\", \"Topic11\", \"Topic11\", \"Topic11\", \"Topic11\", \"Topic11\", \"Topic11\", \"Topic11\", \"Topic11\", \"Topic11\", \"Topic11\", \"Topic12\", \"Topic12\", \"Topic12\", \"Topic12\", \"Topic12\", \"Topic12\", \"Topic12\", \"Topic12\", \"Topic12\", \"Topic12\", \"Topic12\", \"Topic12\", \"Topic12\", \"Topic12\", \"Topic12\", \"Topic12\", \"Topic12\", \"Topic12\", \"Topic12\", \"Topic12\", \"Topic12\", \"Topic12\", \"Topic12\", \"Topic12\", \"Topic12\", \"Topic12\", \"Topic12\", \"Topic12\", \"Topic12\", \"Topic12\", \"Topic13\", \"Topic13\", \"Topic13\", \"Topic13\", \"Topic13\", \"Topic13\", \"Topic13\", \"Topic13\", \"Topic13\", \"Topic13\", \"Topic13\", \"Topic13\", \"Topic13\", \"Topic13\", \"Topic13\", \"Topic13\", \"Topic13\", \"Topic13\", \"Topic13\", \"Topic13\", \"Topic13\", \"Topic13\", \"Topic13\", \"Topic13\", \"Topic13\", \"Topic13\", \"Topic13\", \"Topic13\", \"Topic13\", \"Topic13\", \"Topic13\", \"Topic14\", \"Topic14\", \"Topic14\", \"Topic14\", \"Topic14\", \"Topic14\", \"Topic14\", \"Topic14\", \"Topic14\", \"Topic14\", \"Topic14\", \"Topic14\", \"Topic14\", \"Topic14\", \"Topic14\", \"Topic14\", \"Topic14\", \"Topic14\", \"Topic14\", \"Topic14\", \"Topic14\", \"Topic14\", \"Topic14\", \"Topic14\", \"Topic14\", \"Topic14\", \"Topic14\", \"Topic14\", \"Topic14\", \"Topic14\", \"Topic14\", \"Topic15\", \"Topic15\", \"Topic15\", \"Topic15\", \"Topic15\", \"Topic15\", \"Topic15\", \"Topic15\", \"Topic15\", \"Topic15\", \"Topic15\", \"Topic15\", \"Topic15\", \"Topic15\", \"Topic15\", \"Topic15\", \"Topic15\", \"Topic15\", \"Topic15\", \"Topic15\", \"Topic15\", \"Topic15\", \"Topic15\", \"Topic15\", \"Topic15\", \"Topic15\", \"Topic15\", \"Topic15\", \"Topic15\", \"Topic15\", \"Topic16\", \"Topic16\", \"Topic16\", \"Topic16\", \"Topic16\", \"Topic16\", \"Topic16\", \"Topic16\", \"Topic16\", \"Topic16\", \"Topic16\", \"Topic16\", \"Topic16\", \"Topic16\", \"Topic16\", \"Topic16\", \"Topic16\", \"Topic16\", \"Topic16\", \"Topic16\", \"Topic16\", \"Topic16\", \"Topic16\", \"Topic16\", \"Topic16\", \"Topic16\", \"Topic16\", \"Topic16\", \"Topic16\", \"Topic16\", \"Topic17\", \"Topic17\", \"Topic17\", \"Topic17\", \"Topic17\", \"Topic17\", \"Topic17\", \"Topic17\", \"Topic17\", \"Topic17\", \"Topic17\", \"Topic17\", \"Topic17\", \"Topic17\", \"Topic17\", \"Topic17\", \"Topic17\", \"Topic17\", \"Topic17\", \"Topic17\", \"Topic17\", \"Topic17\", \"Topic17\", \"Topic17\", \"Topic17\", \"Topic17\", \"Topic17\", \"Topic17\", \"Topic17\", \"Topic17\", \"Topic18\", \"Topic18\", \"Topic18\", \"Topic18\", \"Topic18\", \"Topic18\", \"Topic18\", \"Topic18\", \"Topic18\", \"Topic18\", \"Topic18\", \"Topic18\", \"Topic18\", \"Topic18\", \"Topic18\", \"Topic18\", \"Topic18\", \"Topic18\", \"Topic18\", \"Topic18\", \"Topic18\", \"Topic18\", \"Topic18\", \"Topic18\", \"Topic18\", \"Topic18\", \"Topic18\", \"Topic18\", \"Topic18\", \"Topic18\", \"Topic18\", \"Topic19\", \"Topic19\", \"Topic19\", \"Topic19\", \"Topic19\", \"Topic19\", \"Topic19\", \"Topic19\", \"Topic19\", \"Topic19\", \"Topic19\", \"Topic19\", \"Topic19\", \"Topic19\", \"Topic19\", \"Topic19\", \"Topic19\", \"Topic19\", \"Topic19\", \"Topic19\", \"Topic19\", \"Topic19\", \"Topic19\", \"Topic19\", \"Topic19\", \"Topic19\", \"Topic19\", \"Topic19\", \"Topic19\", \"Topic19\", \"Topic20\", \"Topic20\", \"Topic20\", \"Topic20\", \"Topic20\", \"Topic20\", \"Topic20\", \"Topic20\", \"Topic20\", \"Topic20\", \"Topic20\", \"Topic20\", \"Topic20\", \"Topic20\", \"Topic20\", \"Topic20\", \"Topic20\", \"Topic20\", \"Topic20\", \"Topic20\", \"Topic20\", \"Topic20\", \"Topic20\", \"Topic20\", \"Topic20\", \"Topic20\", \"Topic20\", \"Topic20\", \"Topic20\", \"Topic20\", \"Topic20\", \"Topic21\", \"Topic21\", \"Topic21\", \"Topic21\", \"Topic21\", \"Topic21\", \"Topic21\", \"Topic21\", \"Topic21\", \"Topic21\", \"Topic21\", \"Topic21\", \"Topic21\", \"Topic21\", \"Topic21\", \"Topic21\", \"Topic21\", \"Topic21\", \"Topic21\", \"Topic21\", \"Topic21\", \"Topic21\", \"Topic21\", \"Topic21\", \"Topic21\", \"Topic21\", \"Topic21\", \"Topic21\", \"Topic21\", \"Topic21\", \"Topic22\", \"Topic22\", \"Topic22\", \"Topic22\", \"Topic22\", \"Topic22\", \"Topic22\", \"Topic22\", \"Topic22\", \"Topic22\", \"Topic22\", \"Topic22\", \"Topic22\", \"Topic22\", \"Topic22\", \"Topic22\", \"Topic22\", \"Topic22\", \"Topic22\", \"Topic22\", \"Topic22\", \"Topic22\", \"Topic22\", \"Topic22\", \"Topic22\", \"Topic22\", \"Topic22\", \"Topic22\", \"Topic22\", \"Topic22\", \"Topic22\", \"Topic23\", \"Topic23\", \"Topic23\", \"Topic23\", \"Topic23\", \"Topic23\", \"Topic23\", \"Topic23\", \"Topic23\", \"Topic23\", \"Topic23\", \"Topic23\", \"Topic23\", \"Topic23\", \"Topic23\", \"Topic23\", \"Topic23\", \"Topic23\", \"Topic23\", \"Topic23\", \"Topic23\", \"Topic23\", \"Topic23\", \"Topic23\", \"Topic23\", \"Topic23\", \"Topic23\", \"Topic23\", \"Topic23\", \"Topic23\", \"Topic24\", \"Topic24\", \"Topic24\", \"Topic24\", \"Topic24\", \"Topic24\", \"Topic24\", \"Topic24\", \"Topic24\", \"Topic24\", \"Topic24\", \"Topic24\", \"Topic24\", \"Topic24\", \"Topic24\", \"Topic24\", \"Topic24\", \"Topic24\", \"Topic24\", \"Topic24\", \"Topic24\", \"Topic24\", \"Topic24\", \"Topic24\", \"Topic24\", \"Topic24\", \"Topic24\", \"Topic24\", \"Topic24\", \"Topic24\", \"Topic24\", \"Topic25\", \"Topic25\", \"Topic25\", \"Topic25\", \"Topic25\", \"Topic25\", \"Topic25\", \"Topic25\", \"Topic25\", \"Topic25\", \"Topic25\", \"Topic25\", \"Topic25\", \"Topic25\", \"Topic25\", \"Topic25\", \"Topic25\", \"Topic25\", \"Topic25\", \"Topic25\", \"Topic25\", \"Topic25\", \"Topic25\", \"Topic25\", \"Topic25\", \"Topic25\", \"Topic25\", \"Topic25\", \"Topic25\", \"Topic25\", \"Topic25\", \"Topic26\", \"Topic26\", \"Topic26\", \"Topic26\", \"Topic26\", \"Topic26\", \"Topic26\", \"Topic26\", \"Topic26\", \"Topic26\", \"Topic26\", \"Topic26\", \"Topic26\", \"Topic26\", \"Topic26\", \"Topic26\", \"Topic26\", \"Topic26\", \"Topic26\", \"Topic26\", \"Topic26\", \"Topic26\", \"Topic26\", \"Topic26\", \"Topic26\", \"Topic26\", \"Topic26\", \"Topic26\", \"Topic26\", \"Topic26\", \"Topic26\", \"Topic26\", \"Topic27\", \"Topic27\", \"Topic27\", \"Topic27\", \"Topic27\", \"Topic27\", \"Topic27\", \"Topic27\", \"Topic27\", \"Topic27\", \"Topic27\", \"Topic27\", \"Topic27\", \"Topic27\", \"Topic27\", \"Topic27\", \"Topic27\", \"Topic27\", \"Topic27\", \"Topic27\", \"Topic27\", \"Topic27\", \"Topic27\", \"Topic27\", \"Topic27\", \"Topic27\", \"Topic27\", \"Topic27\", \"Topic27\", \"Topic27\", \"Topic28\", \"Topic28\", \"Topic28\", \"Topic28\", \"Topic28\", \"Topic28\", \"Topic28\", \"Topic28\", \"Topic28\", \"Topic28\", \"Topic28\", \"Topic28\", \"Topic28\", \"Topic28\", \"Topic28\", \"Topic28\", \"Topic28\", \"Topic28\", \"Topic28\", \"Topic28\", \"Topic28\", \"Topic28\", \"Topic28\", \"Topic28\", \"Topic28\", \"Topic28\", \"Topic28\", \"Topic28\", \"Topic28\", \"Topic28\", \"Topic28\", \"Topic29\", \"Topic29\", \"Topic29\", \"Topic29\", \"Topic29\", \"Topic29\", \"Topic29\", \"Topic29\", \"Topic29\", \"Topic29\", \"Topic29\", \"Topic29\", \"Topic29\", \"Topic29\", \"Topic29\", \"Topic29\", \"Topic29\", \"Topic29\", \"Topic29\", \"Topic29\", \"Topic29\", \"Topic29\", \"Topic29\", \"Topic29\", \"Topic29\", \"Topic29\", \"Topic29\", \"Topic29\", \"Topic29\", \"Topic29\", \"Topic30\", \"Topic30\", \"Topic30\", \"Topic30\", \"Topic30\", \"Topic30\", \"Topic30\", \"Topic30\", \"Topic30\", \"Topic30\", \"Topic30\", \"Topic30\", \"Topic30\", \"Topic30\", \"Topic30\", \"Topic30\", \"Topic30\", \"Topic30\", \"Topic30\", \"Topic30\", \"Topic30\", \"Topic30\", \"Topic30\", \"Topic30\", \"Topic30\", \"Topic30\", \"Topic30\", \"Topic30\", \"Topic30\", \"Topic30\", \"Topic31\", \"Topic31\", \"Topic31\", \"Topic31\", \"Topic31\", \"Topic31\", \"Topic31\", \"Topic31\", \"Topic31\", \"Topic31\", \"Topic31\", \"Topic31\", \"Topic31\", \"Topic31\", \"Topic31\", \"Topic31\", \"Topic31\", \"Topic31\", \"Topic31\", \"Topic31\", \"Topic31\", \"Topic31\", \"Topic31\", \"Topic31\", \"Topic31\", \"Topic31\", \"Topic31\", \"Topic31\", \"Topic31\", \"Topic31\", \"Topic32\", \"Topic32\", \"Topic32\", \"Topic32\", \"Topic32\", \"Topic32\", \"Topic32\", \"Topic32\", \"Topic32\", \"Topic32\", \"Topic32\", \"Topic32\", \"Topic32\", \"Topic32\", \"Topic32\", \"Topic32\", \"Topic32\", \"Topic32\", \"Topic32\", \"Topic32\", \"Topic32\", \"Topic32\", \"Topic32\", \"Topic32\", \"Topic32\", \"Topic32\", \"Topic32\", \"Topic32\", \"Topic32\", \"Topic32\", \"Topic33\", \"Topic33\", \"Topic33\", \"Topic33\", \"Topic33\", \"Topic33\", \"Topic33\", \"Topic33\", \"Topic33\", \"Topic33\", \"Topic33\", \"Topic33\", \"Topic33\", \"Topic33\", \"Topic33\", \"Topic33\", \"Topic33\", \"Topic33\", \"Topic33\", \"Topic33\", \"Topic33\", \"Topic33\", \"Topic33\", \"Topic33\", \"Topic33\", \"Topic33\", \"Topic33\", \"Topic33\", \"Topic33\", \"Topic33\", \"Topic34\", \"Topic34\", \"Topic34\", \"Topic34\", \"Topic34\", \"Topic34\", \"Topic34\", \"Topic34\", \"Topic34\", \"Topic34\", \"Topic34\", \"Topic34\", \"Topic34\", \"Topic34\", \"Topic34\", \"Topic34\", \"Topic34\", \"Topic34\", \"Topic34\", \"Topic34\", \"Topic34\", \"Topic34\", \"Topic34\", \"Topic34\", \"Topic34\", \"Topic34\", \"Topic34\", \"Topic34\", \"Topic34\", \"Topic34\", \"Topic35\", \"Topic35\", \"Topic35\", \"Topic35\", \"Topic35\", \"Topic35\", \"Topic35\", \"Topic35\", \"Topic35\", \"Topic35\", \"Topic35\", \"Topic35\", \"Topic35\", \"Topic35\", \"Topic35\", \"Topic35\", \"Topic35\", \"Topic35\", \"Topic35\", \"Topic35\", \"Topic35\", \"Topic35\", \"Topic35\", \"Topic35\", \"Topic35\", \"Topic35\", \"Topic35\", \"Topic35\", \"Topic35\", \"Topic35\", \"Topic35\", \"Topic36\", \"Topic36\", \"Topic36\", \"Topic36\", \"Topic36\", \"Topic36\", \"Topic36\", \"Topic36\", \"Topic36\", \"Topic36\", \"Topic36\", \"Topic36\", \"Topic36\", \"Topic36\", \"Topic36\", \"Topic36\", \"Topic36\", \"Topic36\", \"Topic36\", \"Topic36\", \"Topic36\", \"Topic36\", \"Topic36\", \"Topic36\", \"Topic36\", \"Topic36\", \"Topic36\", \"Topic36\", \"Topic36\", \"Topic36\", \"Topic37\", \"Topic37\", \"Topic37\", \"Topic37\", \"Topic37\", \"Topic37\", \"Topic37\", \"Topic37\", \"Topic37\", \"Topic37\", \"Topic37\", \"Topic37\", \"Topic37\", \"Topic37\", \"Topic37\", \"Topic37\", \"Topic37\", \"Topic37\", \"Topic37\", \"Topic37\", \"Topic37\", \"Topic37\", \"Topic37\", \"Topic37\", \"Topic37\", \"Topic37\", \"Topic37\", \"Topic37\", \"Topic37\", \"Topic37\", \"Topic38\", \"Topic38\", \"Topic38\", \"Topic38\", \"Topic38\", \"Topic38\", \"Topic38\", \"Topic38\", \"Topic38\", \"Topic38\", \"Topic38\", \"Topic38\", \"Topic38\", \"Topic38\", \"Topic38\", \"Topic38\", \"Topic38\", \"Topic38\", \"Topic38\", \"Topic38\", \"Topic38\", \"Topic38\", \"Topic38\", \"Topic38\", \"Topic38\", \"Topic38\", \"Topic38\", \"Topic38\", \"Topic38\", \"Topic38\", \"Topic39\", \"Topic39\", \"Topic39\", \"Topic39\", \"Topic39\", \"Topic39\", \"Topic39\", \"Topic39\", \"Topic39\", \"Topic39\", \"Topic39\", \"Topic39\", \"Topic39\", \"Topic39\", \"Topic39\", \"Topic39\", \"Topic39\", \"Topic39\", \"Topic39\", \"Topic39\", \"Topic39\", \"Topic39\", \"Topic39\", \"Topic39\", \"Topic39\", \"Topic39\", \"Topic39\", \"Topic39\", \"Topic39\", \"Topic39\", \"Topic39\", \"Topic39\", \"Topic40\", \"Topic40\", \"Topic40\", \"Topic40\", \"Topic40\", \"Topic40\", \"Topic40\", \"Topic40\", \"Topic40\", \"Topic40\", \"Topic40\", \"Topic40\", \"Topic40\", \"Topic40\", \"Topic40\", \"Topic40\", \"Topic40\", \"Topic40\", \"Topic40\", \"Topic40\", \"Topic40\", \"Topic40\", \"Topic40\", \"Topic40\", \"Topic40\", \"Topic40\", \"Topic40\", \"Topic40\", \"Topic40\", \"Topic40\", \"Topic41\", \"Topic41\", \"Topic41\", \"Topic41\", \"Topic41\", \"Topic41\", \"Topic41\", \"Topic41\", \"Topic41\", \"Topic41\", \"Topic41\", \"Topic41\", \"Topic41\", \"Topic41\", \"Topic41\", \"Topic41\", \"Topic41\", \"Topic41\", \"Topic41\", \"Topic41\", \"Topic41\", \"Topic41\", \"Topic41\", \"Topic41\", \"Topic41\", \"Topic41\", \"Topic41\", \"Topic41\", \"Topic41\", \"Topic41\", \"Topic41\", \"Topic42\", \"Topic42\", \"Topic42\", \"Topic42\", \"Topic42\", \"Topic42\", \"Topic42\", \"Topic42\", \"Topic42\", \"Topic42\", \"Topic42\", \"Topic42\", \"Topic42\", \"Topic42\", \"Topic42\", \"Topic42\", \"Topic42\", \"Topic42\", \"Topic42\", \"Topic42\", \"Topic42\", \"Topic42\", \"Topic42\", \"Topic42\", \"Topic42\", \"Topic42\", \"Topic42\", \"Topic42\", \"Topic42\", \"Topic42\", \"Topic42\", \"Topic43\", \"Topic43\", \"Topic43\", \"Topic43\", \"Topic43\", \"Topic43\", \"Topic43\", \"Topic43\", \"Topic43\", \"Topic43\", \"Topic43\", \"Topic43\", \"Topic43\", \"Topic43\", \"Topic43\", \"Topic43\", \"Topic43\", \"Topic43\", \"Topic43\", \"Topic43\", \"Topic43\", \"Topic43\", \"Topic43\", \"Topic43\", \"Topic43\", \"Topic43\", \"Topic43\", \"Topic43\", \"Topic43\", \"Topic43\", \"Topic44\", \"Topic44\", \"Topic44\", \"Topic44\", \"Topic44\", \"Topic44\", \"Topic44\", \"Topic44\", \"Topic44\", \"Topic44\", \"Topic44\", \"Topic44\", \"Topic44\", \"Topic44\", \"Topic44\", \"Topic44\", \"Topic44\", \"Topic44\", \"Topic44\", \"Topic44\", \"Topic44\", \"Topic44\", \"Topic44\", \"Topic44\", \"Topic44\", \"Topic44\", \"Topic44\", \"Topic44\", \"Topic44\", \"Topic44\", \"Topic44\", \"Topic45\", \"Topic45\", \"Topic45\", \"Topic45\", \"Topic45\", \"Topic45\", \"Topic45\", \"Topic45\", \"Topic45\", \"Topic45\", \"Topic45\", \"Topic45\", \"Topic45\", \"Topic45\", \"Topic45\", \"Topic45\", \"Topic45\", \"Topic45\", \"Topic45\", \"Topic45\", \"Topic45\", \"Topic45\", \"Topic45\", \"Topic45\", \"Topic45\", \"Topic45\", \"Topic45\", \"Topic45\", \"Topic45\", \"Topic45\", \"Topic46\", \"Topic46\", \"Topic46\", \"Topic46\", \"Topic46\", \"Topic46\", \"Topic46\", \"Topic46\", \"Topic46\", \"Topic46\", \"Topic46\", \"Topic46\", \"Topic46\", \"Topic46\", \"Topic46\", \"Topic46\", \"Topic46\", \"Topic46\", \"Topic46\", \"Topic46\", \"Topic46\", \"Topic46\", \"Topic46\", \"Topic46\", \"Topic46\", \"Topic46\", \"Topic46\", \"Topic46\", \"Topic46\", \"Topic46\", \"Topic47\", \"Topic47\", \"Topic47\", \"Topic47\", \"Topic47\", \"Topic47\", \"Topic47\", \"Topic47\", \"Topic47\", \"Topic47\", \"Topic47\", \"Topic47\", \"Topic47\", \"Topic47\", \"Topic47\", \"Topic47\", \"Topic47\", \"Topic47\", \"Topic47\", \"Topic47\", \"Topic47\", \"Topic47\", \"Topic47\", \"Topic47\", \"Topic47\", \"Topic47\", \"Topic47\", \"Topic47\", \"Topic47\", \"Topic47\", \"Topic48\", \"Topic48\", \"Topic48\", \"Topic48\", \"Topic48\", \"Topic48\", \"Topic48\", \"Topic48\", \"Topic48\", \"Topic48\", \"Topic48\", \"Topic48\", \"Topic48\", \"Topic48\", \"Topic48\", \"Topic48\", \"Topic48\", \"Topic48\", \"Topic48\", \"Topic48\", \"Topic48\", \"Topic48\", \"Topic48\", \"Topic48\", \"Topic48\", \"Topic48\", \"Topic48\", \"Topic48\", \"Topic48\", \"Topic48\", \"Topic49\", \"Topic49\", \"Topic49\", \"Topic49\", \"Topic49\", \"Topic49\", \"Topic49\", \"Topic49\", \"Topic49\", \"Topic49\", \"Topic49\", \"Topic49\", \"Topic49\", \"Topic49\", \"Topic49\", \"Topic49\", \"Topic49\", \"Topic49\", \"Topic49\", \"Topic49\", \"Topic49\", \"Topic49\", \"Topic49\", \"Topic49\", \"Topic49\", \"Topic49\", \"Topic49\", \"Topic49\", \"Topic49\", \"Topic49\", \"Topic49\", \"Topic50\", \"Topic50\", \"Topic50\", \"Topic50\", \"Topic50\", \"Topic50\", \"Topic50\", \"Topic50\", \"Topic50\", \"Topic50\", \"Topic50\", \"Topic50\", \"Topic50\", \"Topic50\", \"Topic50\", \"Topic50\", \"Topic50\", \"Topic50\", \"Topic50\", \"Topic50\", \"Topic50\", \"Topic50\", \"Topic50\", \"Topic50\", \"Topic50\", \"Topic50\", \"Topic50\", \"Topic50\", \"Topic50\", \"Topic50\"], \"logprob\": [30.0, 29.0, 28.0, 27.0, 26.0, 25.0, 24.0, 23.0, 22.0, 21.0, 20.0, 19.0, 18.0, 17.0, 16.0, 15.0, 14.0, 13.0, 12.0, 11.0, 10.0, 9.0, 8.0, 7.0, 6.0, 5.0, 4.0, 3.0, 2.0, 1.0, -1.5698, -2.2338, -2.5223, -2.6814, -3.339, -3.3593, -3.5193, -3.8627, -3.9928, -4.0543, -4.1625, -4.2512, -4.2634, -4.4651, -4.4746, -4.5988, -4.6371, -4.7142, -4.7169, -4.7176, -4.7548, -4.7924, -4.8207, -4.882, -4.9394, -5.0053, -5.0976, -5.2728, -5.312, -5.3147, -3.1602, -3.3342, -1.7491, -3.4587, -3.4804, -3.8726, -0.7505, -4.368, -4.3726, -4.4202, -4.5684, -4.5947, -4.7314, -4.8193, -4.9412, -5.0486, -5.1571, -5.2615, -5.297, -5.297, -5.297, -5.297, -5.3013, -5.386, -5.39, -5.4142, -5.5418, -5.6842, -5.8347, -5.8711, -5.8774, -6.0186, -0.6556, -2.409, -2.5226, -4.1175, -4.1386, -4.1765, -4.2446, -4.3696, -4.5664, -4.6463, -4.6802, -4.7138, -4.7295, -4.7471, -4.8948, -4.9207, -5.1239, -5.1239, -5.1239, -5.1239, -5.1284, -5.2432, -5.3177, -5.4486, -5.5112, -5.7043, -5.8971, -6.4718, -6.6189, -6.6619, -1.4198, -1.9634, -2.3085, -2.9798, -2.9875, -3.4471, -3.6337, -3.9129, -4.2248, -4.2432, -4.3305, -4.4312, -4.543, -4.6287, -4.6287, -4.7373, -4.9088, -4.9652, -4.9845, -4.9845, -4.9845, -4.9845, -4.9845, -5.0871, -5.1653, -5.1783, -5.1783, -5.1783, -5.1792, -5.4334, -5.1834, -1.8962, -2.0702, -2.6617, -2.7008, -2.9019, -2.9032, -2.9887, -3.2688, -3.6807, -3.7241, -3.8803, -4.1209, -4.4885, -4.5479, -4.574, -4.6368, -4.8758, -4.9469, -5.0128, -5.0296, -5.0567, -5.1193, -5.2182, -5.2413, -5.4129, -5.5636, -5.6974, -5.7034, -5.7544, -5.8283, -3.6848, -1.7192, -2.696, -2.9091, -3.2881, -3.298, -3.4454, -3.7212, -3.7972, -3.9647, -4.0132, -4.0417, -4.1407, -4.1457, -4.1457, -4.2042, -4.2461, -4.2961, -4.2988, -4.3736, -4.3894, -4.5113, -4.5125, -4.5319, -4.5822, -4.6083, -4.6616, -4.6653, -4.744, -4.7477, -4.813, -1.6456, -2.421, -2.4615, -2.5181, -2.9324, -3.0124, -3.0567, -3.7313, -3.8624, -4.2674, -4.2713, -4.4469, -4.58, -4.6062, -4.8084, -4.9163, -4.9163, -4.9518, -4.9781, -5.0401, -5.2119, -5.339, -5.4648, -5.532, -5.6153, -6.0733, -6.086, -5.541, -5.8783, -6.2952, -2.5965, -1.0253, -1.9896, -3.0362, -3.445, -3.8217, -4.0498, -4.1363, -4.2313, -4.2765, -4.3785, -4.5747, -4.5859, -4.7401, -4.7735, -4.8668, -4.9568, -4.9588, -5.0275, -5.0284, -5.0431, -5.0521, -5.0759, -5.1236, -5.2191, -5.2926, -5.3283, -5.3446, -5.3446, -5.3446, -5.4596, -1.2042, -2.0599, -3.1218, -3.3846, -3.4802, -3.615, -3.7486, -3.7892, -4.0409, -4.2599, -4.3282, -4.345, -4.398, -4.6683, -4.7013, -4.7778, -4.7828, -4.7896, -4.8579, -4.8687, -4.8752, -4.91, -5.0608, -5.0784, -5.1434, -5.3267, -5.4894, -5.5685, -5.6354, -5.64, -1.6153, -1.7111, -2.0858, -2.3071, -2.8339, -3.1893, -3.9705, -4.1666, -4.299, -4.3228, -4.5765, -4.67, -4.6796, -4.7039, -4.7675, -4.8975, -4.9136, -5.2169, -5.3352, -5.3951, -5.41, -5.9718, -5.9866, -6.1775, -6.1775, -6.246, -6.9303, -7.1148, -7.1148, -7.1148, -7.1148, -2.2873, -2.3488, -2.6389, -3.0706, -3.0833, -3.0864, -3.1436, -3.4056, -3.5083, -3.5489, -3.7331, -3.9754, -4.0826, -4.0866, -4.1171, -4.179, -4.3015, -4.3807, -4.4004, -4.4336, -4.7254, -4.7345, -4.9358, -5.0819, -5.1585, -5.3367, -5.3463, -5.623, -5.7366, -5.7366, -2.5121, -1.4791, -2.2518, -2.402, -2.5931, -2.649, -3.2406, -3.504, -3.5926, -3.7829, -3.8861, -4.0433, -4.1516, -4.3341, -4.5351, -4.5717, -4.6961, -4.8493, -4.8756, -4.9275, -5.2261, -5.3148, -5.3148, -5.3148, -5.3148, -5.4012, -5.4317, -5.4336, -5.4762, -5.493, -5.7006, -1.4208, -2.7126, -3.0431, -3.1048, -3.3768, -3.5633, -3.5997, -3.7992, -3.8725, -4.0888, -4.0953, -4.1293, -4.1555, -4.3379, -4.4198, -4.4323, -4.5242, -4.7388, -4.7507, -4.7881, -4.8924, -4.9247, -4.9646, -4.9739, -4.9819, -4.9819, -5.1128, -5.1754, -5.3685, -5.6472, -2.4763, -1.4679, -3.1769, -3.409, -3.6213, -3.8047, -4.0368, -4.0814, -4.0899, -4.1873, -4.2276, -4.2756, -4.3508, -4.3811, -4.4626, -4.6108, -4.7368, -4.7368, -4.7986, -4.9014, -4.9306, -4.9306, -4.9306, -4.9306, -4.9338, -4.973, -5.0167, -5.1241, -5.1241, -5.1241, -5.1241, -1.719, -2.1174, -2.2841, -2.6669, -2.7952, -2.9931, -3.0855, -3.1139, -3.2795, -3.4749, -3.8363, -3.8782, -4.0282, -4.0771, -4.1357, -4.141, -4.3625, -4.3625, -4.3625, -4.3951, -4.4283, -4.5153, -4.5698, -4.5767, -4.7861, -4.7904, -4.912, -5.0926, -5.11, -5.1919, -5.2077, -2.1622, -2.5631, -2.6146, -2.7865, -2.8129, -2.8861, -2.8944, -3.0349, -3.3154, -3.4046, -3.955, -4.0889, -4.1426, -4.1513, -4.1769, -4.3062, -4.5556, -4.679, -4.696, -4.8229, -4.8408, -4.9824, -5.0662, -5.2594, -5.2594, -5.2594, -5.2594, -5.4521, -5.4521, -5.836, -2.0356, -2.1095, -2.7249, -2.7804, -2.9239, -3.2649, -3.318, -3.32, -3.4197, -3.4243, -3.4471, -3.5258, -3.8575, -3.895, -4.1696, -4.6469, -4.6739, -4.9013, -4.9103, -4.9563, -4.9893, -5.1615, -5.1615, -5.2725, -5.3023, -5.3055, -5.4545, -5.619, -6.119, -6.2113, -1.8093, -2.1165, -2.6405, -2.827, -3.0114, -3.2674, -3.4455, -3.4621, -3.6741, -3.6962, -3.7879, -3.9603, -3.9777, -4.1289, -4.375, -4.5143, -4.6987, -4.7307, -4.7307, -4.7307, -4.8013, -4.8128, -5.1876, -5.2865, -5.3111, -5.3111, -5.4667, -5.5039, -5.5039, -5.5391, -3.7372, -2.5763, -3.0892, -3.1293, -3.2143, -3.4102, -3.545, -3.6249, -3.7083, -3.7715, -3.8062, -3.8229, -3.9371, -3.971, -3.9839, -4.0872, -4.1688, -4.2014, -4.2439, -4.25, -4.2531, -4.2847, -4.293, -4.3416, -4.369, -4.393, -4.4075, -4.4675, -4.4911, -4.5067, -4.5228, -1.7965, -1.9854, -2.4998, -3.0669, -3.1516, -3.4662, -3.5186, -3.7766, -3.8675, -3.977, -4.1136, -4.3376, -4.3613, -4.379, -4.3809, -4.4247, -4.5674, -4.7063, -4.7512, -4.8872, -4.9637, -5.0823, -5.0851, -5.2738, -5.2738, -5.2738, -5.3107, -5.4271, -5.4348, -5.4666, -3.3474, -2.3375, -2.7791, -2.9136, -3.0705, -3.2236, -3.3821, -3.3857, -3.394, -3.3946, -3.4336, -3.472, -3.7818, -3.9777, -3.9817, -2.7775, -4.1443, -4.2367, -4.2896, -4.3079, -4.3079, -4.3583, -4.4478, -4.5095, -4.6588, -4.6636, -4.7334, -4.7563, -5.0509, -5.1924, -5.1924, -2.0271, -2.2215, -2.7199, -2.7495, -2.8402, -2.9545, -3.1009, -3.6385, -3.7668, -3.8823, -3.9357, -3.9832, -4.1757, -4.1858, -4.2164, -4.2341, -4.27, -4.2987, -4.3824, -4.6079, -4.7098, -4.7189, -4.8515, -5.1319, -5.2062, -5.2062, -5.5833, -5.5912, -5.5912, -5.6603, -4.6569, -1.6831, -2.5013, -2.9796, -3.0592, -3.4246, -3.435, -3.7429, -3.8967, -4.0742, -4.2385, -4.2391, -1.6797, -4.5141, -4.6235, -4.7307, -4.7307, -4.7662, -4.8306, -4.9245, -4.9245, -4.9245, -5.2545, -5.3111, -5.3111, -5.5166, -5.5732, -5.6444, -5.6961, -5.8561, -5.9227, -1.7009, -2.4044, -3.1569, -3.2066, -3.2783, -3.2905, -3.2971, -3.7879, -3.8647, -4.0737, -4.2395, -4.26, -4.3332, -4.3439, -4.3601, -4.4021, -4.4028, -4.5749, -4.5885, -4.6126, -4.7312, -4.9998, -5.193, -5.193, -5.2072, -5.3234, -5.3857, -5.5041, -5.578, -5.578, -2.2869, -0.9466, -2.5402, -2.9585, -3.3332, -3.4716, -3.728, -4.3149, -4.3274, -4.3274, -4.3274, -4.4749, -4.6832, -4.7196, -4.7196, -4.7441, -4.8769, -4.8769, -3.7175, -5.2636, -5.2636, -5.2636, -5.4915, -5.6337, -5.7157, -5.7791, -5.8254, -5.8625, -5.8752, -6.0221, -6.2211, -3.6936, -2.5039, -2.5729, -2.6059, -3.1971, -3.3292, -3.3409, -3.4286, -3.4289, -3.5226, -3.702, -3.7734, -4.115, -4.1193, -4.1195, -4.1556, -4.1759, -4.2495, -4.3233, -4.4502, -4.6297, -4.8728, -5.0663, -5.0663, -5.2595, -5.2595, -5.2595, -5.2595, -5.2729, -5.4007, -5.4204, -3.0541, -2.3993, -1.8906, -2.2749, -2.2771, -2.6381, -3.1488, -4.125, -4.1272, -1.8959, -4.2637, -4.3789, -4.4873, -4.6195, -4.6195, -4.655, -4.6556, -4.7186, -4.7884, -4.7983, -4.8432, -4.9547, -5.0067, -5.2043, -5.5849, -5.9674, -4.3012, -6.1063, -6.1091, -6.1536, -6.1547, -6.1574, -1.1211, -2.4207, -3.3994, -3.537, -3.5637, -3.7367, -4.0009, -4.1599, -4.1836, -4.2073, -4.2165, -4.3626, -4.5418, -4.5722, -4.6178, -4.6933, -4.766, -4.7962, -4.8774, -4.9667, -5.1526, -5.2831, -5.3454, -5.5059, -5.5059, -5.5178, -5.5376, -5.7292, -5.7292, -5.7292, -2.5981, -1.4519, -2.4858, -2.7867, -3.3438, -3.4133, -3.4594, -3.7014, -3.751, -3.7581, -3.7763, -3.8146, -3.8622, -3.9968, -4.0921, -4.3387, -4.5869, -4.6215, -4.6841, -4.6841, -4.8021, -4.8926, -4.9741, -5.0707, -5.1858, -5.2635, -5.2635, -5.2635, -5.4557, -5.4557, -5.4557, -1.3566, -2.2764, -2.3824, -2.5788, -2.6485, -3.6977, -3.8424, -3.8675, -3.9612, -4.1886, -4.2455, -4.3455, -4.4716, -4.7271, -4.7271, -4.7271, -5.4369, -5.4369, -5.5061, -5.5557, -5.597, -6.0095, -6.184, -6.1984, -6.5723, -6.5936, -6.7461, -6.7567, -6.7567, -6.7567, -1.759, -2.0678, -2.6889, -2.9179, -3.0257, -3.2801, -3.6501, -3.7021, -3.758, -3.9094, -4.2371, -4.2371, -4.2418, -4.335, -4.4567, -4.4668, -4.5662, -4.5745, -4.5929, -4.6954, -4.711, -4.7292, -4.9801, -4.9801, -4.9801, -5.0665, -5.1733, -5.1733, -5.3088, -5.366, -1.8603, -2.6267, -2.7209, -2.9737, -3.1395, -3.2145, -3.464, -3.6349, -3.8903, -3.9161, -4.0177, -4.0732, -4.0839, -4.0937, -4.1241, -4.1806, -4.2006, -4.2349, -4.291, -4.4458, -4.4495, -4.4495, -4.6433, -4.6433, -4.6433, -4.8412, -4.9044, -5.39, -5.4149, -5.4149, -2.1038, -2.3487, -3.0154, -3.2695, -3.2913, -3.3028, -3.3858, -3.5434, -3.5877, -3.6364, -3.6392, -3.6988, -3.7731, -4.2206, -4.2353, -4.4066, -4.4066, -4.5601, -4.6004, -4.6004, -4.6004, -4.6134, -4.7939, -4.7939, -4.7939, -4.7939, -4.7939, -4.7939, -4.7939, -4.8249, -1.7661, -1.9707, -2.0053, -2.9171, -3.3656, -3.5642, -3.6097, -3.6617, -3.6956, -4.0839, -4.1894, -4.5849, -4.5849, -4.6069, -4.867, -4.9398, -5.0306, -5.033, -5.1642, -5.1642, -5.4752, -5.4965, -5.4965, -5.5481, -5.5729, -5.7517, -5.856, -5.878, -6.118, -6.118, -1.7228, -2.2165, -2.5948, -3.4428, -3.4632, -3.4646, -3.4686, -3.7127, -3.9244, -4.1114, -4.1209, -4.1435, -4.1576, -4.1576, -4.1576, -4.1576, -4.1576, -4.701, -4.7071, -4.7071, -4.9006, -5.1552, -5.1632, -5.2865, -5.2865, -5.2865, -5.4166, -5.4756, -5.4787, -5.4787, -3.6603, -1.5418, -2.6534, -3.3452, -3.3671, -3.5931, -3.6086, -3.61, -3.8095, -3.9737, -3.9856, -4.1372, -4.2061, -4.2639, -4.3097, -4.3609, -4.3625, -4.4311, -4.461, -4.493, -4.493, -4.5285, -4.5791, -4.6868, -4.6868, -4.6868, -4.6868, -4.6868, -4.8803, -4.8803, -5.0307, -1.8629, -2.3329, -2.7469, -3.3626, -3.3764, -3.4395, -3.4503, -3.6282, -3.6937, -3.8942, -4.0197, -4.0386, -4.1784, -4.2132, -4.2548, -4.2927, -4.3623, -4.5342, -4.5387, -4.6289, -4.713, -4.728, -4.728, -4.7977, -4.8155, -4.9215, -4.9215, -4.9215, -5.0829, -5.1146, -2.3035, -2.6421, -2.9696, -3.0803, -3.1431, -3.4256, -3.5399, -3.7665, -3.8951, -3.9586, -4.0138, -4.0329, -4.0821, -4.0986, -4.1149, -4.1315, -4.2097, -4.2781, -4.4282, -4.4543, -4.4588, -4.5242, -4.5242, -4.5499, -4.6265, -4.6481, -4.6481, -4.7672, -2.5937, -4.8416, -1.7693, -2.423, -2.5177, -3.1577, -3.1707, -3.2023, -3.475, -3.5618, -3.8795, -3.9126, -4.0236, -4.0576, -4.4099, -4.4577, -4.5505, -4.6394, -4.7694, -4.8449, -4.9877, -5.1584, -5.6147, -5.6147, -5.6147, -5.6147, -5.6666, -5.7385, -5.8056, -5.8056, -5.0381, -5.915, -2.6098, -5.3191, -2.4221, -2.5117, -2.5834, -2.926, -3.1359, -3.2704, -3.3981, -3.5327, -3.7064, -3.7156, -3.7517, -3.787, -3.8292, -3.8533, -3.9105, -3.9228, -4.0467, -4.2777, -4.3605, -4.4786, -4.4893, -4.5311, -4.7449, -4.8759, -5.0687, -5.0687, -5.1977, -5.3281, -5.3968, -5.7528, -2.806, -2.8745, -3.0481, -3.0701, -3.1062, -3.1092, -3.254, -3.5139, -3.5214, -3.6819, -3.7081, -3.7509, -3.7593, -3.8325, -3.8347, -3.9097, -4.0892, -4.2416, -4.4024, -4.4336, -4.5375, -4.5595, -4.5595, -4.6775, -4.8864, -4.9461, -4.9461, -4.9461, -5.1389, -5.1389, -4.097, -2.0576, -2.6122, -3.0289, -3.131, -3.2693, -3.2888, -3.3713, -3.4684, -3.7755, -3.878, -3.9773, -4.0149, -4.0291, -4.0291, -4.1109, -4.2037, -4.2273, -4.3543, -4.3848, -4.4829, -4.5252, -4.5569, -4.6437, -4.6795, -4.9652, -5.0492, -5.158, -5.158, -5.158, -5.158, -4.3664, -2.2382, -2.2439, -2.556, -2.6035, -3.3165, -3.522, -3.5242, -3.5886, -3.7207, -3.7332, -4.0924, -4.107, -4.1237, -4.2598, -4.2817, -4.3528, -4.4387, -4.4628, -4.4628, -4.6565, -4.85, -3.4409, -4.9523, -5.0155, -5.0432, -5.0432, -5.0432, -5.0432, -5.0432, -5.2359, -2.8326, -2.8818, -3.2103, -3.4572, -3.4939, -3.5595, -3.6208, -3.6447, -3.6507, -3.7332, -3.7367, -3.8625, -3.8831, -3.8831, -3.92, -4.0372, -4.1171, -4.1179, -4.1631, -4.2388, -4.2388, -4.2441, -4.3228, -4.4176, -4.4458, -4.7467, -4.8169, -5.2042, -5.2042, -5.2042, -3.397, -1.5528, -2.2408, -3.2646, -3.3832, -3.4167, -3.5363, -3.5465, -3.6842, -3.6923, -3.7498, -3.8239, -3.8724, -4.0126, -4.2725, -4.4311, -4.6091, -4.6598, -4.9823, -5.0457, -5.0457, -5.0483, -5.1828, -5.3566, -5.4295, -5.4295, -5.4295, -5.4295, -5.6204, -5.6204, -5.8451, -2.1674, -2.5715, -2.6144, -3.0689, -3.0849, -3.2767, -3.5023, -3.5159, -3.5968, -3.7506, -3.8885, -3.98, -4.0152, -4.1126, -4.2293, -4.2373, -4.2443, -4.3778, -4.4505, -4.6315, -4.7929, -4.8247, -4.8247, -4.8247, -4.8247, -4.9684, -5.0174, -5.0174, -5.0174, -5.144, -2.0253, -2.9305, -3.1949, -3.2655, -3.4473, -3.4673, -3.5912, -3.6073, -3.7831, -3.815, -3.8518, -3.8613, -4.0535, -4.058, -4.0762, -4.0783, -4.0908, -4.0939, -4.1383, -4.1383, -4.1383, -4.1383, -4.1383, -4.3129, -4.397, -4.494, -4.6586, -4.6878, -4.6878, -4.7232, -1.8184, -2.0649, -2.9291, -3.0091, -3.2588, -3.5113, -3.6579, -3.7592, -3.7779, -3.9012, -4.3051, -4.348, -4.348, -4.348, -4.5418, -4.5418, -4.5418, -4.5418, -4.5577, -4.5849, -4.7352, -4.7352, -4.7352, -4.9135, -4.9173, -4.9284, -5.059, -5.1062, -5.1666, -5.3134, -2.1677, -2.5787, -2.962, -3.2336, -3.3635, -3.507, -3.737, -3.7424, -3.8872, -3.906, -3.906, -3.906, -3.906, -3.9435, -3.993, -4.0624, -4.1033, -4.1042, -4.2325, -4.3919, -4.4555, -4.5196, -4.5642, -4.5737, -4.6279, -4.649, -4.8722, -5.0349, -5.0349, -5.0349, -5.0349, -1.8631, -2.7638, -2.9667, -3.3978, -2.0244, -3.6838, -3.769, -3.867, -3.9745, -4.1413, -4.1413, -4.1541, -4.2455, -4.335, -4.5285, -4.5285, -4.6463, -4.7217, -4.7217, -4.7217, -5.0004, -5.1066, -5.1066, -5.2235, -5.2983, -5.2983, -5.2983, -5.6326, -5.6792, -5.8681], \"loglift\": [30.0, 29.0, 28.0, 27.0, 26.0, 25.0, 24.0, 23.0, 22.0, 21.0, 20.0, 19.0, 18.0, 17.0, 16.0, 15.0, 14.0, 13.0, 12.0, 11.0, 10.0, 9.0, 8.0, 7.0, 6.0, 5.0, 4.0, 3.0, 2.0, 1.0, 3.1674, 3.1612, 3.157, 3.1541, 3.136, 3.1331, 3.1286, 3.1107, 3.1022, 3.0978, 3.0894, 3.082, 3.0809, 3.0612, 3.0602, 3.0461, 3.0414, 3.0315, 3.0312, 3.0311, 3.026, 3.0208, 3.0167, 3.0076, 2.9985, 2.9876, 2.9713, 2.9368, 2.9284, 2.9278, 2.434, 0.6337, 3.2938, 3.2544, 3.2533, 3.2305, 3.2174, 3.1867, 3.1862, 3.1808, 3.1627, 3.1592, 3.1398, 3.1261, 3.1053, 3.0852, 3.063, 3.0398, 3.0315, 3.0315, 3.0315, 3.0315, 3.0305, 3.0096, 3.0086, 3.0024, 2.9677, 2.925, 2.8752, 2.8624, 2.8601, 2.8073, 3.4553, 3.4387, 3.4363, 3.3527, 3.3506, 3.3466, 3.3391, 3.3242, 3.2972, 3.2849, 3.2794, 3.2738, 3.2711, 3.2681, 3.2408, 3.2357, 3.1916, 3.1916, 3.1916, 3.1916, 3.1906, 3.1624, 3.1427, 3.1055, 3.0865, 3.0223, 2.9498, 2.68, 2.5977, 2.5727, 3.5542, 3.5482, 3.5424, 3.5235, 3.5232, 3.501, 3.4888, 3.4662, 3.4331, 3.4309, 3.4197, 3.4057, 3.3886, 3.3744, 3.3744, 3.355, 3.3205, 3.3081, 3.3038, 3.3038, 3.3038, 3.3038, 3.3038, 3.2794, 3.2596, 3.2562, 3.2562, 3.2562, 3.2559, 3.1823, 2.114, 3.5877, 3.5851, 3.572, 3.5709, 3.5641, 3.5641, 3.5608, 3.548, 3.5217, 3.5183, 3.5049, 3.4801, 3.4305, 3.4209, 3.4165, 3.4056, 3.3587, 3.3429, 3.3275, 3.3235, 3.3168, 3.3009, 3.2743, 3.2678, 3.216, 3.1653, 3.1159, 3.1136, 3.0936, 3.0635, 1.9095, 3.5933, 3.5743, 3.5671, 3.5501, 3.5496, 3.5411, 3.5216, 3.5153, 3.4997, 3.4948, 3.4918, 3.4807, 3.4801, 3.4801, 3.4731, 3.4678, 3.4612, 3.4609, 3.4505, 3.4482, 3.4296, 3.4294, 3.4262, 3.4178, 3.4133, 3.4038, 3.4032, 3.3883, 3.3876, 3.3745, 3.6831, 3.6693, 3.6683, 3.6668, 3.6526, 3.6491, 3.6471, 3.603, 3.5907, 3.5425, 3.5419, 3.515, 3.4918, 3.487, 3.4458, 3.4209, 3.4209, 3.4123, 3.4058, 3.3898, 3.3417, 3.3022, 3.2595, 3.2353, 3.2038, 3.0004, 2.994, 2.924, 2.9072, 2.8832, 1.5337, 3.6967, 3.6863, 3.6559, 3.6329, 3.6023, 3.5781, 3.5675, 3.5549, 3.5486, 3.5333, 3.5, 3.4979, 3.4675, 3.4604, 3.4395, 3.4179, 3.4174, 3.3999, 3.3997, 3.3958, 3.3934, 3.387, 3.3739, 3.3461, 3.3235, 3.3121, 3.3068, 3.3068, 3.3068, 3.2677, 3.72, 3.7094, 3.6753, 3.6601, 3.6535, 3.6432, 3.6317, 3.6279, 3.601, 3.5722, 3.5621, 3.5595, 3.5511, 3.5021, 3.4953, 3.4789, 3.4778, 3.4763, 3.4607, 3.4582, 3.4566, 3.4482, 3.4093, 3.4045, 3.3861, 3.3295, 3.273, 3.2434, 3.2172, 3.2153, 3.7355, 3.7343, 3.7282, 3.7235, 3.7071, 3.6903, 3.6263, 3.6019, 3.5828, 3.5792, 3.5354, 3.5168, 3.5148, 3.5097, 3.4959, 3.4655, 3.4615, 3.377, 3.3389, 3.3184, 3.3131, 3.0775, 3.0703, 2.9718, 2.9718, 2.9342, 2.498, 2.363, 2.363, 2.363, 2.1674, 3.7402, 3.7387, 3.7303, 3.7124, 3.7117, 3.7116, 3.7085, 3.6924, 3.685, 3.6818, 3.6659, 3.6406, 3.6275, 3.627, 3.623, 3.6146, 3.5967, 3.584, 3.5808, 3.5751, 3.5184, 3.5164, 3.4686, 3.4291, 3.4067, 3.3497, 3.3464, 3.2431, 3.1953, 3.1953, 1.618, 3.7637, 3.7511, 3.7473, 3.7417, 3.7398, 3.7126, 3.6946, 3.6875, 3.6702, 3.6595, 3.6411, 3.6269, 3.5998, 3.5647, 3.5576, 3.5321, 3.4971, 3.4907, 3.4776, 3.3919, 3.3629, 3.3629, 3.3629, 3.3629, 3.3329, 3.3218, 3.3212, 3.3054, 3.2991, 3.2154, 3.8077, 3.7799, 3.7652, 3.7619, 3.7448, 3.7303, 3.7272, 3.7081, 3.7002, 3.6736, 3.6727, 3.668, 3.6643, 3.6361, 3.622, 3.6198, 3.6026, 3.5571, 3.5544, 3.5456, 3.5197, 3.5112, 3.5005, 3.4979, 3.4958, 3.4958, 3.4579, 3.4385, 3.3734, 3.2641, 1.6538, 3.8411, 3.79, 3.7742, 3.7565, 3.7382, 3.7103, 3.7042, 3.7031, 3.6889, 3.6827, 3.6751, 3.6624, 3.6571, 3.6422, 3.6123, 3.5839, 3.5839, 3.569, 3.5426, 3.5348, 3.5348, 3.5348, 3.5348, 3.5339, 3.5231, 3.5106, 3.4782, 3.4782, 3.4782, 3.4782, 2.4111, 3.8406, 3.8365, 3.8244, 3.8193, 3.8099, 3.805, 3.8033, 3.793, 3.7785, 3.7438, 3.739, 3.7203, 3.7137, 3.7053, 3.7045, 3.6689, 3.6689, 3.6689, 3.663, 3.6569, 3.6401, 3.629, 3.6276, 3.5799, 3.5788, 3.5473, 3.4951, 3.4897, 3.4635, 3.4582, 3.848, 3.8366, 3.8347, 3.828, 3.8268, 3.8235, 3.8231, 3.816, 3.7986, 3.792, 3.7374, 3.7195, 3.7118, 3.7105, 3.7066, 3.6859, 3.639, 3.6121, 3.6081, 3.5773, 3.5727, 3.5341, 3.5094, 3.4466, 3.4466, 3.4466, 3.4466, 3.3756, 3.3756, 3.2076, 3.8525, 3.8507, 3.8323, 3.83, 3.8234, 3.8038, 3.8002, 3.8, 3.7926, 3.7923, 3.7905, 3.784, 3.7509, 3.7465, 3.7095, 3.6211, 3.615, 3.5585, 3.5561, 3.5434, 3.534, 3.4813, 3.4813, 3.4439, 3.4334, 3.4323, 3.3766, 3.3089, 3.0622, 3.0098, 3.8574, 3.8514, 3.8361, 3.8285, 3.8195, 3.8041, 3.791, 3.7897, 3.7707, 3.7685, 3.7589, 3.7387, 3.7365, 3.7157, 3.6757, 3.6491, 3.6091, 3.6016, 3.6016, 3.6016, 3.5843, 3.5814, 3.4722, 3.4383, 3.4296, 3.4296, 3.3709, 3.3561, 3.3561, 3.3417, 0.393, 3.8498, 3.8264, 3.824, 3.8187, 3.8048, 3.7936, 3.7863, 3.7781, 3.7715, 3.7677, 3.7658, 3.7522, 3.7479, 3.7462, 3.7322, 3.7201, 3.7151, 3.7083, 3.7073, 3.7068, 3.7015, 3.7001, 3.6917, 3.6868, 3.6824, 3.6798, 3.6683, 3.6637, 3.6605, 3.6573, 3.8863, 3.8828, 3.8691, 3.844, 3.8389, 3.8161, 3.8116, 3.7862, 3.7757, 3.762, 3.7429, 3.7063, 3.7021, 3.6988, 3.6985, 3.6902, 3.6612, 3.6297, 3.6187, 3.5833, 3.5618, 3.526, 3.5251, 3.4617, 3.4617, 3.4617, 3.4484, 3.4043, 3.4013, 3.3886, 0.7827, 3.8987, 3.8825, 3.8761, 3.8675, 3.8577, 3.8461, 3.8458, 3.8451, 3.8451, 3.8419, 3.8387, 3.808, 3.7837, 3.7832, 3.7699, 3.7596, 3.7446, 3.7355, 3.7323, 3.7323, 3.7232, 3.7059, 3.6933, 3.6601, 3.659, 3.6421, 3.6363, 3.5531, 3.5066, 3.5066, 3.9178, 3.9131, 3.8961, 3.8949, 3.8907, 3.8849, 3.8765, 3.8336, 3.8199, 3.8062, 3.7993, 3.793, 3.7644, 3.7627, 3.7577, 3.7547, 3.7486, 3.7435, 3.7281, 3.6809, 3.6567, 3.6545, 3.6199, 3.5349, 3.5095, 3.5095, 3.361, 3.3575, 3.3575, 3.3264, 2.5711, 3.9285, 3.9087, 3.8875, 3.883, 3.8571, 3.8562, 3.8262, 3.8079, 3.7834, 3.7573, 3.7571, 3.711, 3.7045, 3.6802, 3.6543, 3.6543, 3.6452, 3.6282, 3.6018, 3.6018, 3.6018, 3.4944, 3.4735, 3.4735, 3.3913, 3.3669, 3.3351, 3.3112, 3.2329, 3.1984, 3.9288, 3.9126, 3.8776, 3.8743, 3.8692, 3.8683, 3.8679, 3.8219, 3.8127, 3.7844, 3.758, 3.7544, 3.7414, 3.7394, 3.7363, 3.7283, 3.7282, 3.6922, 3.6892, 3.6837, 3.6552, 3.5805, 3.5175, 3.5175, 3.5125, 3.4701, 3.4461, 3.398, 3.3662, 3.3662, 1.8433, 3.9549, 3.9251, 3.9061, 3.8814, 3.8699, 3.8443, 3.7589, 3.7566, 3.7566, 3.7566, 3.7274, 3.68, 3.6709, 3.6709, 3.6647, 3.6287, 3.6287, 3.58, 3.503, 3.503, 3.503, 3.4128, 3.3502, 3.3118, 3.2809, 3.2578, 3.2389, 3.2323, 3.1535, 3.0382, 2.651, 3.9313, 3.9288, 3.9275, 3.8961, 3.8864, 3.8855, 3.8783, 3.8782, 3.8699, 3.8517, 3.8436, 3.7972, 3.7965, 3.7965, 3.7907, 3.7874, 3.7748, 3.7615, 3.7366, 3.6968, 3.6335, 3.5746, 3.5746, 3.5077, 3.5077, 3.5077, 3.5077, 3.5027, 3.4533, 3.4453, 2.3366, 1.7309, 3.999, 3.9893, 3.9892, 3.9761, 3.948, 3.8393, 3.839, 3.8325, 3.8151, 3.7927, 3.7697, 3.7389, 3.7389, 3.7301, 3.7299, 3.7137, 3.6948, 3.692, 3.6793, 3.6458, 3.6293, 3.561, 3.4036, 3.2094, 3.1853, 3.1299, 3.1282, 3.1017, 3.1011, 3.0994, 4.0146, 3.9889, 3.9326, 3.9197, 3.917, 3.898, 3.8627, 3.8373, 3.8333, 3.8291, 3.8275, 3.7997, 3.761, 3.7539, 3.7429, 3.7238, 3.7044, 3.6961, 3.6727, 3.6453, 3.5829, 3.5343, 3.5097, 3.442, 3.442, 3.4368, 3.4279, 3.3373, 3.3373, 3.3373, 1.532, 4.0322, 4.0075, 3.9942, 3.9573, 3.9512, 3.9469, 3.9214, 3.9155, 3.9146, 3.9124, 3.9075, 3.9012, 3.8819, 3.8669, 3.8221, 3.7671, 3.7586, 3.7426, 3.7426, 3.7103, 3.6836, 3.6581, 3.626, 3.5851, 3.5557, 3.5557, 3.5557, 3.4767, 3.4767, 3.4767, 4.0441, 4.0251, 4.0216, 4.0141, 4.0111, 3.9314, 3.9132, 3.9098, 3.8965, 3.8594, 3.8489, 3.8294, 3.8024, 3.739, 3.739, 3.739, 3.4911, 3.4911, 3.4606, 3.438, 3.4188, 3.2029, 3.0991, 3.0901, 2.8425, 2.8275, 2.7173, 2.7094, 2.7094, 2.7094, 4.0408, 4.034, 4.0122, 4.0002, 3.9936, 3.9752, 3.9394, 3.9334, 3.9266, 3.9063, 3.8526, 3.8526, 3.8517, 3.8335, 3.8076, 3.8053, 3.7821, 3.7801, 3.7756, 3.7492, 3.745, 3.7401, 3.6649, 3.6649, 3.6649, 3.6358, 3.5976, 3.5976, 3.5453, 3.5219, 4.049, 4.025, 4.0206, 4.0067, 3.9957, 3.9901, 3.9685, 3.9506, 3.9183, 3.9146, 3.8993, 3.8904, 3.8886, 3.887, 3.8818, 3.8719, 3.8682, 3.8619, 3.8511, 3.8187, 3.8178, 3.8178, 3.7712, 3.7712, 3.7712, 3.7162, 3.6969, 3.5189, 3.5083, 3.5083, 4.0482, 4.0408, 4.009, 3.9905, 3.9887, 3.9878, 3.9805, 3.9652, 3.9605, 3.9551, 3.9547, 3.9478, 3.9386, 3.8689, 3.8661, 3.8314, 3.8314, 3.7961, 3.7862, 3.7862, 3.7862, 3.7829, 3.7339, 3.7339, 3.7339, 3.7339, 3.7339, 3.7339, 3.7339, 3.7249, 4.0597, 4.0553, 4.0544, 4.0186, 3.9858, 3.9664, 3.9615, 3.9555, 3.9515, 3.8962, 3.8778, 3.793, 3.793, 3.7874, 3.715, 3.6922, 3.6621, 3.6613, 3.6145, 3.6145, 3.4873, 3.4778, 3.4778, 3.4541, 3.4425, 3.3543, 3.2992, 3.2872, 3.1489, 3.1489, 4.0649, 4.053, 4.0392, 3.9826, 3.9806, 3.9804, 3.98, 3.9532, 3.9247, 3.8949, 3.8932, 3.8893, 3.8868, 3.8868, 3.8868, 3.8868, 3.8868, 3.7654, 3.7637, 3.7637, 3.7069, 3.6197, 3.6168, 3.569, 3.569, 3.569, 3.5145, 3.4885, 3.4871, 3.4871, 0.4698, 4.0685, 4.037, 3.992, 3.99, 3.9675, 3.9658, 3.9656, 3.9412, 3.9177, 3.9159, 3.8908, 3.8784, 3.8674, 3.8583, 3.8477, 3.8474, 3.8325, 3.8258, 3.8184, 3.8184, 3.81, 3.7976, 3.7697, 3.7697, 3.7697, 3.7697, 3.7697, 3.7136, 3.7136, 3.6646, 4.0832, 4.0701, 4.0525, 4.0096, 4.0083, 4.0023, 4.0012, 3.9821, 3.9743, 3.9474, 3.9281, 3.925, 3.9005, 3.894, 3.8859, 3.8783, 3.8638, 3.8243, 3.8232, 3.8003, 3.7774, 3.7732, 3.7732, 3.753, 3.7477, 3.7147, 3.7147, 3.7147, 3.6595, 3.648, 4.0752, 4.0617, 4.0437, 4.0363, 4.0317, 4.0075, 3.9959, 3.9689, 3.9511, 3.9415, 3.9327, 3.9296, 3.9214, 3.9185, 3.9157, 3.9127, 3.8983, 3.8849, 3.8528, 3.8468, 3.8458, 3.8303, 3.8303, 3.8239, 3.8044, 3.7986, 3.7986, 3.7654, 3.7509, 3.7431, 4.0912, 4.0728, 4.0691, 4.0325, 4.0315, 4.029, 4.0045, 3.9953, 3.955, 3.9502, 3.9328, 3.9272, 3.8585, 3.8476, 3.8253, 3.8024, 3.7661, 3.7435, 3.6973, 3.6361, 3.4382, 3.4382, 3.4382, 3.4382, 3.4125, 3.3757, 3.3401, 3.3401, 3.2807, 3.2798, 2.9844, 2.7018, 4.1073, 4.1036, 4.1005, 4.082, 4.0673, 4.0563, 4.0445, 4.0305, 4.0099, 4.0087, 4.0039, 3.9991, 3.9932, 3.9898, 3.9812, 3.9793, 3.9591, 3.9155, 3.8978, 3.8705, 3.8679, 3.8576, 3.7994, 3.759, 3.6929, 3.6929, 3.6438, 3.5902, 3.5603, 3.3864, 4.0952, 4.0912, 4.0797, 4.0781, 4.0755, 4.0752, 4.0635, 4.0382, 4.0374, 4.0185, 4.0151, 4.0095, 4.0083, 3.9981, 3.9978, 3.9866, 3.9568, 3.9278, 3.8931, 3.8858, 3.8604, 3.8548, 3.8548, 3.8229, 3.7595, 3.7397, 3.7397, 3.7397, 3.6701, 3.6701, 3.3895, 4.1283, 4.1079, 4.0836, 4.0761, 4.0647, 4.063, 4.0553, 4.0455, 4.0085, 3.9937, 3.9781, 3.9719, 3.9695, 3.9695, 3.9551, 3.9375, 3.9328, 3.906, 3.8991, 3.876, 3.8655, 3.8574, 3.8342, 3.8242, 3.7348, 3.7051, 3.6642, 3.6642, 3.6642, 3.6642, 2.0024, 4.1556, 4.1554, 4.1428, 4.1405, 4.091, 4.0697, 4.0694, 4.0618, 4.0449, 4.0432, 3.9857, 3.983, 3.9799, 3.9525, 3.9479, 3.9321, 3.9119, 3.906, 3.906, 3.8544, 3.7953, 3.7871, 3.7607, 3.7382, 3.728, 3.728, 3.728, 3.728, 3.728, 3.6522, 4.1413, 4.1382, 4.1136, 4.0896, 4.0856, 4.078, 4.0705, 4.0675, 4.0668, 4.0558, 4.0553, 4.0369, 4.0337, 4.0337, 4.0278, 4.0079, 3.9932, 3.993, 3.9842, 3.9688, 3.9688, 3.9677, 3.9506, 3.9285, 3.9217, 3.8388, 3.8167, 3.6753, 3.6753, 3.6753, 2.3314, 4.1892, 4.1717, 4.1113, 4.0999, 4.0964, 4.0832, 4.082, 4.0648, 4.0637, 4.0558, 4.045, 4.0376, 4.0144, 3.9637, 3.9272, 3.8808, 3.8664, 3.7621, 3.7389, 3.7389, 3.7379, 3.6854, 3.611, 3.5776, 3.5776, 3.5776, 3.5776, 3.4839, 3.4839, 3.3619, 4.1867, 4.1704, 4.1683, 4.1397, 4.1384, 4.122, 4.0986, 4.097, 4.0873, 4.0668, 4.0461, 4.0309, 4.0247, 4.0067, 3.9832, 3.9815, 3.98, 3.95, 3.9323, 3.8838, 3.835, 3.8248, 3.8248, 3.8248, 3.8248, 3.7755, 3.7576, 3.7576, 3.7576, 3.7089, 4.2156, 4.173, 4.1521, 4.1456, 4.1268, 4.1245, 4.1096, 4.1075, 4.083, 4.0782, 4.0724, 4.0709, 4.0375, 4.0367, 4.0332, 4.0328, 4.0304, 4.0298, 4.021, 4.021, 4.021, 4.021, 4.021, 3.9834, 3.9633, 3.9386, 3.8924, 3.8836, 3.8836, 3.8727, 4.2247, 4.2179, 4.1766, 4.1708, 4.1497, 4.1228, 4.1043, 4.09, 4.0872, 4.0678, 3.9885, 3.9785, 3.9785, 3.9785, 3.929, 3.929, 3.929, 3.929, 3.9246, 3.917, 3.8722, 3.8722, 3.8722, 3.8127, 3.8114, 3.8074, 3.7588, 3.7402, 3.7157, 3.6524, 4.3422, 4.3228, 4.2965, 4.2714, 4.257, 4.2391, 4.2053, 4.2044, 4.1794, 4.176, 4.176, 4.176, 4.176, 4.1689, 4.1592, 4.145, 4.1363, 4.1361, 4.1067, 4.066, 4.0484, 4.0298, 4.0163, 4.0134, 3.9964, 3.9896, 3.9117, 3.8475, 3.8475, 3.8475, 3.2839, 4.4726, 4.4263, 4.4093, 4.3611, 4.3444, 4.3175, 4.3023, 4.2836, 4.2612, 4.2227, 4.2227, 4.2195, 4.196, 4.1713, 4.1124, 4.1124, 4.0726, 4.0455, 4.0455, 4.0455, 3.9335, 3.8858, 3.8858, 3.8301, 3.7927, 3.7927, 3.7927, 3.6084, 3.5805, 3.4623]}, \"token.table\": {\"Topic\": [37, 18, 37, 10, 24, 44, 9, 47, 22, 5, 42, 26, 16, 16, 16, 38, 4, 44, 31, 40, 29, 36, 32, 50, 48, 38, 36, 11, 9, 27, 45, 26, 39, 28, 30, 2, 24, 8, 21, 20, 23, 26, 26, 41, 5, 35, 31, 1, 41, 6, 19, 45, 50, 11, 48, 42, 32, 43, 33, 34, 28, 39, 9, 17, 40, 12, 36, 32, 22, 24, 37, 21, 38, 50, 34, 49, 9, 2, 37, 12, 22, 18, 34, 7, 36, 19, 4, 12, 5, 49, 33, 3, 39, 36, 30, 33, 4, 28, 34, 10, 17, 50, 17, 40, 17, 21, 16, 22, 48, 17, 8, 21, 49, 49, 26, 37, 43, 3, 25, 19, 3, 15, 48, 3, 46, 1, 26, 44, 2, 25, 17, 38, 22, 20, 39, 18, 28, 32, 1, 21, 35, 35, 5, 49, 5, 23, 24, 13, 5, 18, 9, 38, 18, 40, 15, 6, 32, 2, 37, 19, 8, 24, 35, 15, 16, 22, 35, 19, 17, 11, 20, 44, 13, 11, 47, 30, 29, 36, 31, 23, 26, 20, 7, 11, 24, 7, 27, 20, 20, 17, 28, 43, 15, 41, 3, 19, 44, 8, 24, 14, 4, 15, 45, 8, 16, 19, 40, 32, 43, 40, 38, 15, 31, 25, 48, 35, 10, 2, 7, 1, 48, 33, 42, 16, 15, 34, 9, 19, 13, 12, 44, 10, 25, 36, 7, 35, 39, 27, 39, 6, 43, 2, 41, 19, 31, 45, 49, 19, 31, 20, 26, 29, 48, 33, 14, 49, 29, 13, 30, 21, 14, 49, 19, 39, 33, 1, 39, 6, 6, 6, 28, 32, 38, 6, 13, 42, 44, 45, 42, 44, 50, 21, 27, 49, 47, 22, 15, 3, 11, 47, 2, 21, 15, 19, 45, 8, 39, 31, 6, 30, 14, 19, 23, 32, 43, 26, 23, 40, 45, 24, 34, 24, 26, 38, 41, 33, 29, 49, 23, 45, 35, 19, 27, 3, 34, 47, 35, 1, 18, 23, 24, 13, 42, 17, 22, 34, 50, 16, 7, 44, 20, 40, 34, 44, 17, 8, 42, 25, 10, 3, 14, 1, 1, 27, 1, 12, 15, 50, 17, 13, 28, 46, 32, 46, 21, 33, 50, 33, 34, 29, 27, 43, 8, 16, 4, 45, 15, 45, 12, 7, 50, 44, 35, 10, 12, 15, 6, 43, 47, 1, 22, 4, 31, 26, 11, 45, 12, 16, 16, 10, 36, 47, 36, 25, 21, 28, 2, 34, 3, 18, 5, 6, 8, 15, 4, 41, 27, 11, 21, 2, 43, 5, 3, 18, 42, 7, 24, 1, 26, 28, 48, 18, 44, 45, 47, 43, 9, 33, 7, 21, 6, 25, 42, 4, 38, 32, 6, 12, 6, 42, 12, 15, 9, 22, 47, 42, 44, 35, 37, 14, 20, 30, 4, 38, 6, 25, 38, 46, 42, 31, 42, 7, 6, 43, 25, 12, 1, 12, 46, 41, 16, 29, 48, 7, 33, 46, 19, 48, 6, 24, 9, 36, 22, 15, 33, 33, 21, 10, 5, 15, 48, 6, 12, 41, 46, 41, 37, 8, 29, 46, 24, 20, 36, 11, 35, 7, 28, 13, 6, 46, 50, 15, 17, 38, 18, 9, 14, 18, 23, 1, 5, 1, 29, 23, 26, 1, 41, 36, 8, 50, 34, 41, 17, 11, 2, 31, 31, 5, 6, 30, 10, 39, 48, 9, 16, 24, 26, 24, 28, 5, 46, 15, 39, 44, 33, 13, 37, 26, 23, 32, 25, 9, 24, 20, 6, 38, 42, 32, 10, 25, 7, 31, 16, 4, 48, 14, 47, 46, 31, 45, 8, 19, 38, 27, 14, 22, 43, 48, 47, 21, 26, 34, 8, 39, 36, 3, 11, 14, 14, 14, 18, 13, 44, 10, 1, 27, 7, 12, 12, 8, 29, 47, 31, 2, 37, 10, 43, 8, 25, 45, 4, 36, 8, 48, 7, 21, 5, 39, 9, 45, 35, 34, 16, 42, 2, 1, 13, 49, 2, 38, 41, 37, 1, 4, 39, 22, 35, 49, 10, 2, 40, 6, 2, 49, 7, 34, 34, 2, 13, 10, 46, 18, 49, 28, 35, 30, 40, 31, 25, 14, 5, 19, 9, 8, 5, 11, 47, 8, 18, 11, 12, 50, 24, 20, 33, 50, 12, 3, 24, 37, 13, 13, 15, 30, 29, 41, 36, 9, 17, 4, 45, 17, 50, 35, 4, 6, 20, 45, 45, 28, 12, 49, 45, 29, 15, 14, 4, 25, 30, 5, 5, 30, 43, 46, 47, 28, 6, 46, 17, 45, 32, 40, 38, 33, 39, 16, 37, 2, 28, 16, 40, 39, 22, 6, 29, 49, 13, 38, 36, 4, 23, 44, 5, 2, 50, 36, 23, 19, 41, 29, 20, 17, 49, 28, 3, 32, 10, 4, 21, 29, 7, 27, 14, 12, 7, 24, 27, 34, 37, 11, 43, 4, 22, 34, 40, 45, 46, 44, 44, 26, 23, 48, 12, 39, 32, 46, 32, 46, 32, 37, 22, 23, 12, 48, 32, 44, 37, 39, 46, 29, 23, 13, 7, 15, 33, 40, 24, 46, 47, 29, 17, 50, 34, 38, 49, 13, 32, 23, 31, 44, 34, 39, 5, 41, 44, 19, 30, 4, 4, 37, 26, 30, 22, 47, 3, 30, 41, 30, 9, 1, 40, 29, 21, 12, 24, 7, 42, 36, 34, 13, 43, 32, 38, 39, 10, 22, 37, 27, 31, 24, 26, 20, 20, 22, 31, 2, 33, 39, 45, 18, 13, 49, 17, 42, 38, 27, 10, 7, 35, 35, 35, 11, 49, 45, 12, 7, 21, 42, 43, 33, 25, 47, 16, 10, 12, 27, 29, 8, 16, 13, 36, 33, 33, 30, 21, 28, 9, 46, 1, 46, 2, 26, 27, 43, 37, 19, 37, 23, 41, 27, 37, 47, 45, 30, 19, 49, 37, 31, 23, 43, 4, 13, 5, 20, 9, 37, 29, 36, 27, 47, 39, 36, 27, 30, 25, 49, 43, 38, 18, 17, 16, 17, 43, 44, 7, 33, 5, 1, 21, 42, 50, 37, 30, 6, 14, 2, 25, 11, 4, 4, 13, 29, 27, 26, 17, 2, 41, 14, 11, 21, 10, 35, 26, 39, 9, 33, 3, 47, 22, 35, 49, 16, 18, 46, 47, 13, 28, 5, 40, 15, 14, 1, 2, 47, 44, 23, 23, 27, 23, 2, 7, 31, 43, 17, 40, 13, 24, 16, 3, 36, 25, 40, 34, 25, 34, 4, 27, 43, 12, 40, 1, 17, 48, 33, 48, 48, 23, 26, 34, 36, 18, 46, 25, 8, 14, 47, 38, 14, 36, 9, 47, 20, 1, 5, 39, 4, 48, 41, 7, 25, 19, 23, 9, 10, 17, 5, 22, 3, 31, 49, 25, 42, 11, 41, 6, 5, 3, 31, 41, 37, 11, 22, 29, 11, 18, 21, 32, 11, 3, 44, 22, 1, 23, 6, 23, 6, 18, 44, 40, 20, 24, 23, 43, 21, 24, 45, 50, 20, 4, 9, 12, 18, 11, 16, 2, 2, 10, 15, 37, 1, 40, 29, 14, 30, 2, 41, 44, 20, 8, 42, 44, 45, 31, 28, 11, 49, 43, 48, 50, 27, 41, 9, 5, 21, 6, 32, 50, 47, 44, 3, 3, 27, 32, 18, 46, 19, 36, 20, 22, 26, 29, 27, 44, 9, 35, 16, 3, 4, 50, 31, 22, 6, 34, 32, 46, 29, 10, 14, 25, 29, 2, 3, 25, 32, 11, 14, 28, 28, 28, 39, 48, 41, 43, 39, 11, 45, 43, 18, 14, 36, 34, 1, 33, 17, 50, 23, 42, 30, 50, 14, 15, 5, 20, 32, 26, 39, 2, 9, 29, 42, 42, 41, 30, 26, 39, 31, 7, 47, 10, 48, 17, 15, 5, 40, 38, 12, 14, 49, 26, 38, 16, 11, 22, 30, 43, 22, 35, 50, 21, 14, 40, 19, 45, 31, 18, 26, 32, 37, 13, 21, 11, 17, 37, 4, 26, 8, 10, 49, 34, 50, 13, 41, 47, 44, 21, 18, 41, 38, 36, 7, 47, 13, 25, 14, 40, 20, 36, 33, 38, 8, 10, 16, 25, 38, 27, 18, 23, 49, 38, 35, 16, 13, 40, 16, 9, 28, 1, 40, 20, 8, 45, 46, 5, 33, 5, 19, 3, 2, 37, 43, 46, 13, 47, 35, 34, 20, 30, 27, 42, 31, 11, 50, 44, 21, 4, 17, 27, 49, 4, 26, 9, 15, 50, 36, 42, 15, 35, 33, 31, 29, 41, 7, 11, 13, 14, 18, 20, 24, 26, 28, 35, 38, 8, 40, 35, 32, 48, 28, 7, 27, 7, 22, 21, 12, 9, 24, 8, 28, 39, 3, 16, 36, 25, 42, 9, 31, 20, 18, 26, 31, 18, 28, 41, 28, 19, 18, 37, 23, 10, 35, 25, 40, 25, 8, 33, 34, 50, 41, 32, 14, 25, 46, 48, 19, 14, 17, 46, 24, 33, 48, 25, 16, 23, 24, 8, 46, 1, 32, 42, 3, 1, 22, 20, 19, 22, 27, 7, 9, 29, 38, 4, 48, 48, 29, 15, 13, 42, 34, 3, 28, 42, 6, 39, 47, 12, 22, 18, 11, 15, 50, 35, 12, 3, 45, 44, 40, 3, 41, 20, 5, 21, 39, 19, 24, 19, 15, 1, 28, 8, 24, 8, 28, 3, 20, 35, 1, 1, 42, 49, 43, 40, 48, 39, 49, 11], \"Freq\": [0.8863662620027496, 0.9236738883489082, 0.7807086038858919, 0.7710521795103195, 0.8282548323448967, 0.5002092552993812, 0.7383898809127178, 0.9094892727818267, 0.5360469091660764, 0.7787030401095506, 0.9394084153537862, 0.9045365249240617, 0.8441005512169937, 0.8411052930103576, 0.8238162080272875, 0.7329871419181964, 0.8184842916162638, 0.766480624000585, 0.9642796752420152, 0.9510925868137331, 0.9201676966632085, 0.832145209292654, 0.822851472042922, 0.6180101205393878, 0.8926550633233739, 0.8445286017849128, 0.6553294302074439, 0.975377304771005, 0.8678151944854664, 0.7295223766963378, 0.8074961945833333, 0.8632317873935725, 0.6856557591204727, 0.4331414410345201, 0.8190373205208611, 0.9347113690449833, 0.4590318400020563, 0.926222702076337, 0.6148104247055464, 0.8989331501302211, 0.9370226905324278, 0.9742782836890918, 0.7605449655131495, 0.628276432614447, 0.8225065760736201, 0.6648087460829419, 0.8878293111663265, 0.8072540118012258, 0.9357301152871228, 0.9019346767615268, 0.7924768667139513, 0.4549018839086595, 0.5600222689744038, 0.4935353014007001, 0.8631910970972242, 0.4723613076465546, 0.7178512040319722, 0.963247206286818, 0.9811574730905949, 0.781056255670928, 0.6030804364293259, 0.6324992293481786, 0.7891757126803031, 0.47657010306894954, 0.7154951272662969, 0.4535807589408982, 0.8731777594259874, 0.7574953433458986, 0.8493385609576094, 0.70951692437838, 0.7843179880458313, 0.9594043971166962, 0.8332328976678371, 0.6456048662271451, 0.9803441875850945, 0.4545923742586584, 0.9602124519613372, 0.930877063250339, 0.7843179880458313, 0.9473907518357823, 0.8571552428996239, 0.8507884992497337, 0.6158551361473629, 0.9114526296766623, 0.6553293335124281, 0.7269961999193284, 0.949492765072399, 0.4583561901178219, 0.9349765215199828, 0.8051803226523325, 0.6110963082897642, 0.8538269515739318, 0.61069961222354, 0.8502624799347933, 0.9002315275385314, 0.8812315969270844, 0.8990419414168356, 0.9579577110341574, 0.6057907512005449, 0.8556505827275995, 0.7895610720694265, 0.8898548741049963, 0.9684263629540489, 0.4445727581570102, 0.8997716158269725, 0.8515100219308557, 0.8972716433388436, 0.7887195517581285, 0.6648006318764225, 0.870306984223859, 0.902994407346845, 0.8204285722539131, 0.9012622457073081, 0.9012622457073081, 0.6888858681329886, 0.4361492224061122, 0.8781340192281892, 0.8586597622208179, 0.51280533080008, 0.9200524904013367, 0.7134338673151214, 0.8081018761922512, 0.5016526695664604, 0.9019206037885799, 0.9547303202589941, 0.8620482552307236, 0.9550534681229051, 0.769652975624743, 0.47410952758398883, 0.9842756137422706, 0.7895610720694265, 0.965392337044618, 0.9121390412471349, 0.8714143205021616, 0.6457915025154092, 0.9739806286316282, 0.470112212532578, 0.8750679010759981, 0.09713712732413554, 0.8742341459172199, 0.48832051548222283, 0.5453106034394779, 0.9583031411112753, 0.7837797885692508, 0.875812986730492, 0.9269562228157697, 0.8424618460053048, 0.9871827977179548, 0.8979377177516535, 0.49053620621189203, 0.4882643133817074, 0.6490046354162797, 0.9022551469752156, 0.8063399065128504, 0.7995855292652103, 0.7511899353719437, 0.9370724080014133, 0.912473881858843, 0.9668109915617068, 0.7977173424702347, 0.7868278919629408, 0.8220708501016362, 0.8355697880635475, 0.9407661409953306, 0.9238190324324846, 0.8297737682733053, 0.9348408360202072, 0.8663626849236975, 0.9483521548778979, 0.9353343393561355, 0.4331601373738059, 0.8686448096756993, 0.9218302525506302, 0.9618207033062988, 0.8280602650987055, 0.5250797816783893, 0.5274177370564456, 0.8105950755267349, 0.9002190646992035, 0.7943268745226828, 0.1985817186306707, 0.8676838997700081, 0.9581456798987633, 0.9105339511420992, 0.5116231048083824, 0.7221720940117407, 0.6101793514401436, 0.4331601373738059, 0.897524568889336, 0.9197891184160244, 0.8645358968110868, 0.9085650506742358, 0.8071176684014697, 0.8778446174909551, 0.7007576117019493, 0.9403387694902068, 0.9235935146458769, 0.9939708811835204, 0.8448421786131953, 0.7591113393213716, 0.8308370385034131, 0.885516112344174, 0.5683205608267387, 0.6482145771656882, 0.5893988205091524, 0.9124556101918331, 0.4815849011266666, 0.9616115196200385, 0.44886894321847176, 0.5200006879401473, 0.7514299888761032, 0.897979792918485, 0.9342872272394633, 0.44679492937211707, 0.6858193365531668, 0.8925751336933961, 0.9834012965674837, 0.6185220126470435, 0.858246362545384, 0.9486964657580416, 0.8631910970972242, 0.908089370392476, 0.8078823481118316, 0.9414458666406265, 0.7638835429345091, 0.6590008433251595, 0.7547369686791866, 0.7360951548541891, 0.7346465555667668, 0.9816201933511901, 0.8404756006978912, 0.8322240282137273, 0.6248423079247746, 0.6553293335124281, 0.6744721111363443, 0.6648087460829419, 0.8145093352706317, 0.7842224709223738, 0.8236285150669658, 0.9041005347998683, 0.9183278194543391, 0.9925455106706076, 0.8242758680989114, 0.869502496804059, 0.6550623552976788, 0.677580964709352, 0.8522017836202034, 0.9489658922217472, 0.6476500740314304, 0.8846738178830292, 0.763298067730389, 0.7969870558308985, 0.7621525022939525, 0.6110963082897642, 0.8583074844892449, 0.7468168392781267, 0.8923297336230294, 0.8090959740074063, 0.8307596125353732, 0.8598723410063572, 0.7582843509891093, 0.8876032312280137, 0.947191552608949, 0.9598327410789244, 0.719451693307256, 0.8048766288793343, 0.9331226496360331, 0.9180414797568736, 0.9113525862696727, 0.7834858067388313, 0.545158303127552, 0.9735060559341397, 0.9846726934229681, 0.8303814568545316, 0.9654317462895475, 0.8685034229216606, 0.7216210447452097, 0.4370044543827252, 0.4723613076465546, 0.7823989089865858, 0.7881396475028836, 0.9053023674444307, 0.8027649896724894, 0.6968416216450753, 0.7697735118650803, 0.9335624584119971, 0.6572276492669054, 0.4841860588206566, 0.9359206136452167, 0.9316554597078861, 0.8417739255680889, 0.8149972990392277, 0.9138888738914454, 0.8246268167964842, 0.702652814860695, 0.7664137466095777, 0.5949426656276903, 0.9889087994382644, 0.988902473162285, 0.9874425012753949, 0.9172302087204656, 0.9129081389890843, 0.4389795359361062, 0.522550659769092, 0.821111462589002, 0.9220897931265412, 0.8272762615339897, 0.9540195933921032, 0.8513319428321493, 0.885040133231341, 0.7368488154392308, 0.8431865910168534, 0.44707099556506485, 0.8416396082844246, 0.9443842543140076, 0.9190841019439772, 0.9194445709638676, 0.8857368154385575, 0.7027604256742679, 0.49458037313234027, 0.5267233363549878, 0.9060740828916906, 0.610478320787637, 0.6567732287838121, 0.8880505626887574, 0.730286080977765, 0.66188700174035, 0.8821832806622911, 0.9672230953522569, 0.5314731384892198, 0.8134625480829981, 0.8449209644552871, 0.7171854833003377, 0.9490375412840483, 0.5360469091660764, 0.81403106444724, 0.7180351498972637, 0.9210422690137307, 0.3304951933272621, 0.3304951933272621, 0.9081140346029197, 0.9313741123469023, 0.8493851847032178, 0.9147807077782413, 0.9471266000532708, 0.908077067059793, 0.6283065701083644, 0.7313444831326104, 0.9841392852568013, 0.8538270538396344, 0.917103935997392, 0.977136576296658, 0.9667027173837036, 0.9346775709784432, 0.8891006004121808, 0.7824134336367723, 0.9697321748962882, 0.7316209744346528, 0.6618722276384188, 0.7670779038926145, 0.5392203227219972, 0.7701812660966822, 0.8895528378358558, 0.45060524598720436, 0.9625606929923607, 0.6110963082897642, 0.6032485363071898, 0.891386056891099, 0.9463588081127273, 0.8873035448692134, 0.5578168947758111, 0.44107312060813464, 0.8591977000221926, 0.9787331047342728, 0.7755049587897707, 0.889736882390293, 0.747246807980891, 0.9760872615416902, 0.8982411620276388, 0.8962821436819122, 0.7883618705332144, 0.818568658432843, 0.7621611633354284, 0.9478480294022347, 0.6225265843460928, 0.7275133300159569, 0.9498500691134033, 0.8978687473130604, 0.7759234935798266, 0.9293818787133239, 0.6651604233138866, 0.6414884444321735, 0.8111675998684749, 0.9299546446874023, 0.730609535329846, 0.9104482023218142, 0.518820755775751, 0.9636607822483991, 0.7564956606709734, 0.6041395152701718, 0.7519022872757231, 0.7029969963884848, 0.8539864731793425, 0.9928188908878444, 0.911243323366381, 0.719647139408492, 0.7760651568312107, 0.5435425415421514, 0.9170075373114377, 0.7333106299486992, 0.8048387775486505, 0.8864982573866815, 0.8947211921030863, 0.95825735709787, 0.8084476895074602, 0.628276432614447, 0.9254193500929504, 0.9264903478026465, 0.937685467530111, 0.6297008177192917, 0.9605579380385433, 0.6907680159541313, 0.8214425180037337, 0.9358587617461953, 0.9129537561900177, 0.9654087849429084, 0.5336201870627192, 0.7679749922183899, 0.9343748515939849, 0.6030804364293259, 0.8352651430738044, 0.8885283082563659, 0.5002092552993812, 0.5683204965167774, 0.921512435446456, 0.5045656450649773, 0.8050353525488313, 0.7038108606962159, 0.8409753531755917, 0.8643919926047673, 0.9394550280938885, 0.44679492937211707, 0.8272622125870233, 0.9425523208147125, 0.7450481513906387, 0.8112611554599202, 0.7827076955389116, 0.8409696848026172, 0.9571328422108908, 0.6870655655541034, 0.9861313480396304, 0.8800551692058755, 0.9963980407336034, 0.6954830343786281, 0.8643228353322798, 0.4723613076465546, 0.8803775496143852, 0.9533868851979016, 0.6853341785596622, 0.6612246570033423, 0.9562560896159625, 0.9874525479237117, 0.9680948236932756, 0.8876694999139185, 0.8505922368150375, 0.27756442457231567, 0.7137370917573832, 0.864280742492384, 0.9598588774402851, 0.8175744588305149, 0.9813082943543042, 0.8922403327912833, 0.7130007329929715, 0.8469777447503705, 0.44679492937211707, 0.8805714838745555, 0.8067984054946604, 0.8175696994716336, 0.7948228848611273, 0.8242758680989114, 0.6194842228444118, 0.6361019113439008, 0.8182479324509649, 0.7993450475953531, 0.9389840788852987, 0.7793263513946809, 0.7638361253350807, 0.48398001064085405, 0.8891557323050003, 0.47694800121896014, 0.8124652740005183, 0.808931232426008, 0.9705211740112212, 0.8419642864537226, 0.8298724435318207, 0.7038108606962159, 0.9330513578196874, 0.6551580574212681, 0.468179476214024, 0.9548560577795607, 0.8582664376127872, 0.8823544769002732, 0.8175696994716336, 0.4661435913403539, 0.9217541879252864, 0.8242758680989114, 0.9242600176992786, 0.6595986562864088, 0.5274177370564456, 0.7948228848611273, 0.9893542487455623, 0.984937785937666, 0.7100969468021855, 0.9265542680933218, 0.8680015493947444, 0.9801373642828043, 0.9055995478108896, 0.9356407980779109, 0.8567345565109232, 0.7016827108258558, 0.8155705937572711, 0.8894056968918098, 0.43324248591139536, 0.7966332310432092, 0.6157642747252693, 0.8635076932182497, 0.8376658113163867, 0.8030996790857569, 0.5528049757229742, 0.959074644280747, 0.835707887095154, 0.7920497969034345, 0.8333811877666852, 0.6369633919622608, 0.8508256312470002, 0.90486101520258, 0.816784580059589, 0.9505790919505421, 0.6827647235739873, 0.8917858722483178, 0.5730641743761752, 0.9441849521440757, 0.7006481205958665, 0.800325455391409, 0.7931656060621, 0.8871818243076346, 0.4876951741304575, 0.4699214075473044, 0.935631782704843, 0.6616966446491171, 0.5973246272982479, 0.8796376891245999, 0.9191419731611398, 0.9352090291878086, 0.856993073544048, 0.9108225139731286, 0.44707099556506485, 0.9005987272692244, 0.8280851956800126, 0.8752027769125302, 0.835639988603872, 0.856788678396564, 0.9236046719445473, 0.7640310434122226, 0.8889522105307877, 0.5163828353132022, 0.7291991467899119, 0.7634373890301264, 0.9737188313835478, 0.9435333588848589, 0.5552632596783063, 0.4869231451967449, 0.9005783688983886, 0.799462814665264, 0.8761646005844972, 0.9421580462150347, 0.6695659716152687, 0.5151703324963998, 0.8474051759144657, 0.6884017219740524, 0.9906145068283131, 0.9627355110542634, 0.9710503422237114, 0.9759121509325888, 0.9069755603289904, 0.6472722317255148, 0.730286080977765, 0.8647718552136069, 0.44875974362562276, 0.8665616842145379, 0.933534993353725, 0.9216895799208089, 0.844665200900763, 0.8984012487117637, 0.9854033174347553, 0.28778516167372653, 0.6714987105720286, 0.7621525022939525, 0.6947510392615129, 0.8175905398369606, 0.9038427234794775, 0.4522696854411382, 0.7876576788544378, 0.9624306851433971, 0.8295703376432388, 0.7751533784281899, 0.9818894921383888, 0.6612246570033423, 0.9604512726579774, 0.8583074844892449, 0.8682449060981985, 0.8230169672111947, 0.766480624000585, 0.8146552392720028, 0.9030638766633391, 0.891164718520495, 0.8725135286536734, 0.44156576510173356, 0.9084024656665312, 0.8713544995059472, 0.7813162809998397, 0.9233995618805657, 0.7913342655352733, 0.6910283696444168, 0.6780007225469892, 0.8953038975839659, 0.9579327067893533, 0.8584413062631622, 0.9031186600089752, 0.6263132951937347, 0.7832632045266609, 0.9893682881794666, 0.9541611156470793, 0.6648006318764225, 0.960121469051022, 0.8567249147802919, 0.9850052005668026, 0.9048684123010962, 0.8898271743207747, 0.853123413520506, 0.9769351951868196, 0.8681527975639313, 0.6959358779641147, 0.8291555587319417, 0.8649187531300057, 0.9125994407468334, 0.9486253112531146, 0.8900172389792456, 0.8649187531300057, 0.7071675178149339, 0.7377061042306768, 0.4450445490543779, 0.9933102761083662, 0.8925265718089858, 0.7949651923420423, 0.8239108528811768, 0.9563886554673838, 0.786285276341483, 0.5928345279472869, 0.8677883970715389, 0.540560261131395, 0.8143235549466585, 0.4322648139756492, 0.9012621777829292, 0.4471273045991348, 0.6057907512005449, 0.7429460519396246, 0.9744452740831229, 0.8668432074723468, 0.8104508205513856, 0.9102209961683619, 0.953222326533642, 0.8742277229290969, 0.8440472129001753, 0.45055494658007683, 0.9125779515719912, 0.8871444235933245, 0.8650237612159432, 0.6726042115102419, 0.6612246880238541, 0.9893175034373008, 0.8584733216267532, 0.9271318094816533, 0.7963786194057182, 0.7873328648519143, 0.9374547369326504, 0.9327472348227266, 0.6039155568227123, 0.8682449060981985, 0.9332282206428807, 0.44103542018133585, 0.8520230045656172, 0.9144583175722678, 0.6645942186597276, 0.7901355767165982, 0.5953545710543422, 0.7087803754458509, 0.8718358829074612, 0.852683407051637, 0.7388912915672322, 0.6419955300728644, 0.8694178112046134, 0.9042460008814317, 0.741774883633382, 0.91230850545131, 0.9285058395161084, 0.9364509319912613, 0.9582594691032683, 0.9368475568392773, 0.9106509507136507, 0.7886984369994218, 0.9719115037229892, 0.6888818449859093, 0.952201853438251, 0.8817119642251976, 0.8529740424265818, 0.4767265376524288, 0.9767501045842071, 0.4556650228998138, 0.8611150205112794, 0.9532499196944315, 0.7751361844928885, 0.8911550149089287, 0.897893856416949, 0.8493493635514184, 0.778388755546606, 0.2056460303674588, 0.7197611062861058, 0.6978316700252303, 0.5064106413652898, 0.6320442586874466, 0.7530321432027804, 0.8299702735175734, 0.9439962476840543, 0.6959467427521967, 0.5356595482036973, 0.8705517115423054, 0.7750612709602863, 0.9454363024451599, 0.6263132951937347, 0.6283995443964879, 0.8129338387995008, 0.9134575327020051, 0.909388337759002, 0.5949426656276903, 0.6277545787763179, 0.7843179880458313, 0.8357812347038204, 0.8444595884715395, 0.8411052930103576, 0.8901542818606631, 0.4594564837295582, 0.866136301858214, 0.8567345565109232, 0.4487324330324162, 0.7191528137073078, 0.8475226022486162, 0.9095217735421942, 0.767184054958208, 0.6410722319844068, 0.9360931441087389, 0.9340711055077987, 0.8605841283976107, 0.8698635733278471, 0.8314184157674646, 0.7519022872757231, 0.7749769212402572, 0.8255398472233998, 0.8857115531490732, 0.693027162524267, 0.9114645734986752, 0.9827678322080816, 0.9012621777829292, 0.8643729580877604, 0.8567447625182621, 0.9749329690620845, 0.9651205639449012, 0.8984493440136353, 0.7595243285379932, 0.47093163821431305, 0.7882527521277469, 0.7568434618255574, 0.9220401279996665, 0.8175696994716336, 0.9799192886182879, 0.8448421786131953, 0.6779126176307133, 0.4522696854411382, 0.9373000421797657, 0.8443779645047159, 0.44886894321847176, 0.9826653878813173, 0.9363202210346753, 0.8312813358060483, 0.4445727581570102, 0.7589030625961515, 0.45060524598720436, 0.8430081173384834, 0.9671939287562539, 0.4508577584836278, 0.6168089062901555, 0.43327887739863685, 0.43249959041768476, 0.9347636220517661, 0.9702461654839148, 0.6087729862547863, 0.8144620406401549, 0.777735128524807, 0.7641842561649688, 0.7880881967869383, 0.983746697939466, 0.9444754835251392, 0.7772174105204215, 0.9337061136559041, 0.9414780661654916, 0.7640310434122226, 0.7201252046789334, 0.594942743175408, 0.9081826177727842, 0.7313733873301641, 0.4549630919366761, 0.6693571930095163, 0.6094388890156208, 0.856788678396564, 0.6170790696237458, 0.9463877511857838, 0.948538831394508, 0.45060524598720436, 0.9078735580896122, 0.9894297497075417, 0.8498924672376857, 0.7240046083150607, 0.5499653622393322, 0.6490047278847382, 0.7913056595106406, 0.9456159469222793, 0.914712367808423, 0.6264848100136229, 0.9082779570576278, 0.5002092552993812, 0.5499653622393322, 0.8450923648377898, 0.9733656605759947, 0.8762282382872465, 0.8993009174982372, 0.7133539918707535, 0.5607337706512991, 0.8308370385034131, 0.8846408857647486, 0.8435683400987398, 0.9576861837432199, 0.9657450144598315, 0.8312958476439047, 0.7047486252248587, 0.6579421559304389, 0.6616966446491171, 0.9593084034930798, 0.748883153544651, 0.8935907216513018, 0.9237091154272786, 0.6124112795723003, 0.7387524641370978, 0.8352447217649496, 0.9314407690456505, 0.9024368931862382, 0.4553400435567713, 0.9812095118807582, 0.9629392529058183, 0.8752257431153627, 0.8747456390134215, 0.9209848775184621, 0.522550659769092, 0.6387588807510093, 0.6527994948505171, 0.7528315977233767, 0.8087782172041316, 0.8912861920746071, 0.9878669114265067, 0.7913342655352733, 0.9021295121402684, 0.7869414170717162, 0.7642544564182365, 0.9015139658502215, 0.8984308523517883, 0.8822336834822341, 0.7635197923206553, 0.9538715706417333, 0.9774717794777115, 0.8545441075802135, 0.8682449060981985, 0.8183878842803688, 0.7662733792188197, 0.4341333250004582, 0.8291555587319417, 0.8876694999139185, 0.7000761083623278, 0.9796762078962694, 0.47088245288685354, 0.9533027992876434, 0.8680015493947444, 0.8680015493947444, 0.6920621004538833, 0.6871602136275546, 0.5463125703474736, 0.9174797198420422, 0.8029606905187228, 0.8263667198081728, 0.8362496099752854, 0.7701274730199035, 0.8746996612256297, 0.613531320792438, 0.8928953281268895, 0.8411052930103576, 0.8234003868235467, 0.7702796118295234, 0.8052731401981449, 0.5274177370564456, 0.8459330268642669, 0.9687136159603174, 0.43589714693384496, 0.736656520461236, 0.9248675357479992, 0.9190116599681851, 0.5250797816783893, 0.9282766129155168, 0.4881721020630114, 0.877529796508412, 0.43678271403628055, 0.82447764777873, 0.7948228848611273, 0.8649187531300057, 0.4876031150453899, 0.891164718520495, 0.9004820456486459, 0.7168669018335548, 0.9288054947509394, 0.9595990873413813, 0.4549630919366761, 0.9347580213791818, 0.801232584025434, 0.8975185494063671, 0.9651716551974187, 0.8929988184118861, 0.8595587003131182, 0.8189940736691754, 0.7251629090622332, 0.6853342821016496, 0.9082779570576278, 0.5683852951177017, 0.44886894321847176, 0.7684403683895626, 0.9530435206418606, 0.48470691343448763, 0.7627631037624077, 0.9814425854113613, 0.8859280507531043, 0.8192537712889784, 0.8736212314204649, 0.7287396588250985, 0.7351558399452816, 0.5949426656276903, 0.6553293818599324, 0.673084646433035, 0.6616966446491171, 0.6132378168573401, 0.7419470635937557, 0.44886894321847176, 0.7998031069387587, 0.5008660877099905, 0.9808420123463949, 0.929633773503011, 0.831389179956728, 0.8280663055620299, 0.9542827899587734, 0.8566492265997829, 0.8892839887186842, 0.8864654212488591, 0.8732039418613671, 0.8729776326415655, 0.12187895607037412, 0.8531526924926188, 0.800603044348683, 0.8128899669234672, 0.8485051865985214, 0.8438444780211302, 0.7861793729372586, 0.9031186081632008, 0.7946761537759888, 0.9868685030434036, 0.8330080868304001, 0.6693571930095163, 0.9661308142770207, 0.7284278826579575, 0.44707099556506485, 0.9442880450397039, 0.6166423488453854, 0.9685596301178898, 0.899500366982109, 0.5271668015755537, 0.8352447217649496, 0.6965032499006683, 0.48832051548222283, 0.7881440558564873, 0.6045391917268059, 0.7580346962235635, 0.7038108606962159, 0.9983162852481183, 0.730286080977765, 0.8091056541549252, 0.48832051548222283, 0.7918696801887583, 0.47498764854592496, 0.4354044032479875, 0.7779438905766191, 0.9127529099766201, 0.6610055996728692, 0.8628646953128676, 0.8321170806792738, 0.7834276496537614, 0.9825315553235822, 0.8414506877467421, 0.07731945916665159, 0.9167878729760117, 0.7302861491051081, 0.6957898166950502, 0.7027604256742679, 0.7027604256742679, 0.7393173621593325, 0.6568477026288527, 0.8115201938695182, 0.9596318301072002, 0.7370677370102867, 0.9004820456486459, 0.6575320413833643, 0.869073030621005, 0.865778163364239, 0.7099031147283302, 0.9039607540595002, 0.8201249950071899, 0.7524775169161891, 0.6283207234195276, 0.7554806241210286, 0.627381867864007, 0.613531320792438, 0.6656331156593551, 0.8308370385034131, 0.7146116125023212, 0.6920407854953357, 0.9095304440543467, 0.9357000407658481, 0.7936721059348174, 0.8419221088979009, 0.6725135321955814, 0.7038108606962159, 0.5453056704172256, 0.8049834810211903, 0.9109581034279547, 0.9577783139667148, 0.9912229972468376, 0.9035207470669323, 0.4354044032479875, 0.8457836635199056, 0.599216885643224, 0.6439505190440054, 0.8626963294553067, 0.7351559435037237, 0.8248540997292733, 0.7582843509891093, 0.6051238687834638, 0.8002198238003992, 0.949072235522861, 0.4331601373738059, 0.46808363133779285, 0.18723345253511714, 0.31829686930969914, 0.6410722319844068, 0.9141809989750648, 0.7920596766691594, 0.8610747319153766, 0.6244839632730713, 0.9464953349725419, 0.6101338551219084, 0.808147614563271, 0.7506553709322101, 0.8141629688997521, 0.7657383153338935, 0.7820148568796607, 0.6228034576672621, 0.44875974362562276, 0.6562919293446813, 0.933751321695852, 0.9401422484484687, 0.8376158404693915, 0.8571396497844805, 0.7108304952311953, 0.6794116514835676, 0.8308420079700066, 0.9085570009425188, 0.9158090122331779, 0.8936348629643245, 0.9320571691281107, 0.8493385609576094, 0.47093163821431305, 0.829972282269529, 0.6104945474690919, 0.7627798215013939, 0.8006094260426361, 0.8015856027758503, 0.9055942254369289, 0.6953412380222185, 0.5336898822366398, 0.7803738762080386, 0.6101338551219084, 0.8884703773565764, 0.9196676957226906, 0.79631270829224, 0.9673926582863054, 0.8668622657026002, 0.6485972313393789, 0.9077099035019863, 0.5336201870627192, 0.8268234330427952, 0.7915407451979787, 0.8643919926047673, 0.7417709256422347, 0.4549018839086595, 0.5281723861871142, 0.9384402904398098, 0.9831496318487234, 0.4675271426492316, 0.9881549140668963, 0.8840827931636978, 0.9812389830865285, 0.9156940157936084, 0.8443595647349394, 0.9312285201772416, 0.7564333412842101, 0.7597458052649093, 0.9502521370578196, 0.9666514019099556, 0.8830060843090074, 0.9172405678119832, 0.7034494977650584, 0.9678803218883756, 0.8649187531300057, 0.954603612661844, 0.9349262449749325, 0.8718091075660763, 0.7306617919487639, 0.9359910020535658, 0.9389407195539876, 0.8590033507930538, 0.6637981483962186, 0.6300467389734069, 0.9220454389549696, 0.7873415771406487, 0.9459330233515421, 0.7621525022939525, 0.44706867727064614, 0.3726797355663773, 0.49690631408850305, 0.9301236318731282, 0.9537110631816217, 0.9007884166084825, 0.9744262197858797, 0.8571301031742263, 0.9825476393794378, 0.9364390742546099, 0.9502126149765848, 0.989151604164401, 0.7974726195906758, 0.7154324648725948, 0.6283995443964879, 0.4797231791940171, 0.7948228848611273, 0.8954341440203887, 0.6553294302074439, 0.698588307760431, 0.6030750158067334, 0.44707099556506485, 0.8541762627470177, 0.8350502196070094, 0.14988080864741196, 0.8705994940064898, 0.9568736284614683, 0.9348193977040324, 0.7225884515076414, 0.634974024508005, 0.44706867727064614, 0.7913343738778421, 0.9755613468379475, 0.8161904766693491, 0.7368488154392308, 0.7249258451468622, 0.8641256322082687, 0.9433229753764456, 0.9222821693618162, 0.6817951057908115, 0.7624103752940998, 0.6071238817287715, 0.9362622992979543, 0.8538269515739318, 0.9031186600089752, 0.8136066615375745, 0.8483535954122943, 0.805976098657959, 0.5356595482036973, 0.8429774217935293, 0.7325336297288358, 0.863425673351778, 0.8603623733092653, 0.9183125025140776, 0.8279706318848638, 0.747794376961693, 0.8148503130597768, 0.5683204965167774, 0.44886894321847176, 0.847251376652446, 0.7582843509891093, 0.7681544936752416, 0.9309568607563303, 0.9653675268234496, 0.7038108606962159, 0.7039509671714282, 0.6180101205393878, 0.9001788658945936, 0.8937135710803916, 0.8711507562227335, 0.923609606213131, 0.7903941558346146, 0.9008847058019497, 0.9414278227521745, 0.7021306243323686, 0.8762721408037715, 0.4933727267735225, 0.7092826976948953, 0.4340059947282874, 0.6643284223769527, 0.6361019113439008, 0.8194342872663107, 0.6136488632719331, 0.8368171209138195, 0.9780130967222616, 0.947425671102571, 0.8177816242853896, 0.8261733005906247, 0.9839869649283235, 0.6398884617626419, 0.6551580574212681, 0.6648006318764225, 0.979679422596904, 0.9643505609173396, 0.8663752023540358, 0.93893436967123, 0.8899282695788431, 0.8316837649529486, 0.9199726875782078, 0.968861678412075, 0.8492642207854534, 0.9286737785065435, 0.8331308815190589, 0.6220949268497198, 0.8211484685227268, 0.573216232154222, 0.8842441030862481, 0.8459377084852909, 0.45282039912784966, 0.6180101205393878, 0.7542208463597564, 0.6612246570033423, 0.9356333278736421, 0.7956352314169207, 0.8131914435736419, 0.9146790963477855, 0.8734726311315266, 0.934182694304714, 0.807807729033953, 0.9848801744569272, 0.8371911436895473, 0.7262593966565826, 0.5271668015755537, 0.6763501613377063, 0.6376955725254799, 0.8308370385034131, 0.7506788056515276, 0.8381510990905193, 0.9848178883369046, 0.5016718702392007, 0.5655369372927805, 0.5600222689744038, 0.8878469154264667, 0.4661435913403539, 0.7202972031232393, 0.7881327652687669, 0.8734175865216572, 0.49053620621189203, 0.822755970108905, 0.8679145968013415, 0.9494187427528707, 0.6381717953753291, 0.8375022456612947, 0.9478193964542299, 0.893928139786445, 0.6627705404397611, 0.7529244873611782, 0.4881916246454558, 0.9525860822320622, 0.827784928014313, 0.924997024336509, 0.7963786194057182, 0.7519065608798018, 0.9587837199290103, 0.9474514561527183, 0.7871405546740008, 0.6733894387148107, 0.9794284232874706, 0.8437332567662326, 0.9823734419179185, 0.6033852496884845, 0.8680015493947444, 0.47498764854592496, 0.6655194565193456, 0.9453426846161963, 0.8411052930103576, 0.7049824877931032, 0.7656783508203148, 0.8842181721000546, 0.838074660912391, 0.44348953614180825, 0.7963786194057182, 0.6940784619445741, 0.6950910375100966, 0.6031745306635107, 0.7901355767165982, 0.9584925634438972, 0.9468304405844614, 0.8538269515739318, 0.7119076442743536, 0.8985337488190829, 0.8295884125978046, 0.48707105645800397, 0.7069404263040706, 0.730286080977765, 0.5453106034394779, 0.8299658654445605, 0.7826855502592589, 0.5457797924210018, 0.6396821535032615, 0.44136283460238, 0.504452137332338, 0.8247736580138668, 0.7881396475028836, 0.7455732974373046, 0.6043786583356452, 0.8330080868304001, 0.5250180259236482, 0.4462497643762984, 0.5016718702392007, 0.6410722319844068, 0.7881440558564873, 0.8910856311785382, 0.8854000174074731, 0.8961493601194587, 0.8502624799347933, 0.8869589379326335, 0.9032117621661734, 0.8421915386760535, 0.7038108606962159, 0.8380581335139836, 0.8796113344797076, 0.8694276907324109, 0.11692315429906334, 0.11692315429906334, 0.11692315429906334, 0.23817679579438827, 0.030313410373831236, 0.04330487196261605, 0.12125364149532494, 0.10826217990654013, 0.0822792567289705, 0.02598292317756963, 0.8561205408960798, 0.6365927158882073, 0.9528876122417365, 0.8580097031518061, 0.8352357414356693, 0.6648006318764225, 0.6645617047842898, 0.6074496758580076, 0.9810462166909291, 0.8725135286536734, 0.556817221116958, 0.9799485581114596, 0.978546181732894, 0.856413323774448, 0.6109805560215293, 0.6048360228817073, 0.8932008791854695, 0.9687094622874709, 0.9706815287283874, 0.73827075266802, 0.9311100661518863, 0.895491147567576, 0.8361026661151991, 0.6728779272112724, 0.9117706771253441, 0.8991892849319765, 0.9501849267795303, 0.8004036675856335, 0.8632645975109231, 0.8571133150299437, 0.6030804364293259, 0.6180578015357715, 0.9732810983103767, 0.8780505870542779, 0.9217637610614291, 0.8942897937082961, 0.514674470277895, 0.6757601725745246, 0.8680015493947444, 0.5800141282862916, 0.9378285887986689, 0.6884017822213663, 0.7602778979272072, 0.7038108606962159, 0.9841253643484065, 0.44706867727064614, 0.6847763710935607, 0.8136066615375745, 0.7582843509891093, 0.9464498844449932, 0.9607619009726858, 0.47030686453993664, 0.7456159746000696, 0.8913629947735593, 0.6842829019216778, 0.8394085888234237, 0.8375230700721842, 0.9335383766990328, 0.969249903656385, 0.8595822540852083, 0.9649555816754412, 0.9906040878988481, 0.8951433906002013, 0.6370020861490097, 0.9407681249007416, 0.9818690103414458, 0.6283995443964879, 0.4723613076465546, 0.7132294057555826, 0.8336704007072385, 0.796350356955268, 0.9749795680816515, 0.9475292389085811, 0.9642313131086883, 0.9533680214803246, 0.6113114827202352, 0.44496083354952226, 0.47093163821431305, 0.9439033460572022, 0.8308370385034131, 0.9678908635380487, 0.8638693196949233, 0.9287544386396627, 0.9348287671722545, 0.6268522002331346, 0.7941659077469935, 0.9087381301468404, 0.7547315858585553, 0.8676358294912667, 0.8916246055506645, 0.6359476474123384, 0.21198254913744616, 0.7534307842530507, 0.9224017730665525, 0.9632117257613063, 0.9863200071906891, 0.922230506264026, 0.856788678396564, 0.8961493601194587, 0.5443943076680607, 0.8175696994716336, 0.7282146778555508, 0.5683204965167774, 0.9385911450683724, 0.9237354408191513, 0.8430887907620336, 0.9230281957077545, 0.478949926212931, 0.9752471358942159, 0.9606255271696922, 0.6527994948505171, 0.9642688234054846, 0.9643771675153863, 0.7915552261065082, 0.7562701844526336, 0.889637210860428, 0.9942787282871742, 0.97518832346546, 0.8946420080744584, 0.7687794891812691, 0.6792140032008965, 0.8554829626900402, 0.9818911411936159, 0.8917527925399744, 0.9785138903832389, 0.8610778618764332, 0.730857252942927, 0.5016718702392007, 0.7834455247772496, 0.8351878818995973, 0.8631910970972242, 0.571030904295696, 0.285515452147848, 0.8004019112464498], \"Term\": [\"ability\", \"able\", \"absolute\", \"abstract\", \"accepted\", \"accepting\", \"access\", \"account\", \"accurate\", \"across\", \"action\", \"actions\", \"activate\", \"activated\", \"activation\", \"actual\", \"actually\", \"ad\", \"add\", \"added\", \"adding\", \"addition\", \"additional\", \"additive\", \"adds\", \"adjacent\", \"admin\", \"allow\", \"allowed\", \"alongside\", \"already\", \"also\", \"alt\", \"altclick\", \"although\", \"always\", \"amount\", \"analysis\", \"annotated\", \"annotating\", \"annotation\", \"annotations\", \"another\", \"antivirus\", \"anymore\", \"anystr\", \"anything\", \"app\", \"appear\", \"appearing\", \"appears\", \"append\", \"appending\", \"apple\", \"applied\", \"apscheduler\", \"arg\", \"argument\", \"arguments\", \"arm\", \"array\", \"ascii\", \"asking\", \"assertion\", \"assigned\", \"assigning\", \"assignment\", \"assignments\", \"assumed\", \"async\", \"atpublic\", \"attach\", \"attached\", \"attaching\", \"attribute\", \"attributeerror\", \"attributes\", \"auto\", \"autoall\", \"autocomplete\", \"autocompletion\", \"autodetect\", \"autodetected\", \"autoimport\", \"autoindentation\", \"automatic\", \"automatically\", \"autotest\", \"available\", \"awaited\", \"aware\", \"azure\", \"background\", \"backslashes\", \"bad\", \"bar\", \"base\", \"based\", \"baseformset\", \"basic\", \"became\", \"becomes\", \"behavior\", \"beta\", \"better\", \"big\", \"bin\", \"binary\", \"bivariant\", \"blank\", \"block\", \"blocks\", \"blocktrans\", \"blocktranslate\", \"body\", \"bottom\", \"bound\", \"bounded\", \"box\", \"bracket\", \"bracketed\", \"branch\", \"break\", \"breaking\", \"breakpoint\", \"breakpoints\", \"breaks\", \"brings\", \"broke\", \"broken\", \"brown\", \"bug\", \"builtin\", \"builtins\", \"bundled\", \"button\", \"buttons\", \"bytes\", \"ca\", \"ca\", \"cached\", \"calculated\", \"call\", \"callable\", \"called\", \"calling\", \"calls\", \"cannot\", \"cant\", \"capture\", \"caret\", \"carets\", \"case\", \"cases\", \"cause\", \"caused\", \"causes\", \"causing\", \"cell\", \"cells\", \"certain\", \"chain\", \"chained\", \"change\", \"changed\", \"changes\", \"changing\", \"character\", \"characters\", \"check\", \"checkbox\", \"checked\", \"checker\", \"checking\", \"checks\", \"children\", \"choice\", \"chosen\", \"claims\", \"class\", \"class\", \"classdecorated\", \"classes\", \"classmethod\", \"classmethods\", \"clause\", \"clear\", \"cleared\", \"click\", \"clickable\", \"clicking\", \"client\", \"clone\", \"close\", \"closes\", \"closing\", \"cls\", \"code\", \"codecompletion\", \"collection\", \"collectionsabc\", \"color\", \"colour\", \"column\", \"comm\", \"command\", \"commands\", \"comment\", \"commented\", \"commenting\", \"comments\", \"commit\", \"compatibility\", \"compile\", \"complete\", \"completely\", \"completion\", \"complex\", \"component\", \"compose\", \"compound\", \"comprehension\", \"comprehensions\", \"conda\", \"condition\", \"conditional\", \"conditions\", \"config\", \"configurable\", \"configuration\", \"configurations\", \"configured\", \"configuring\", \"conflicts\", \"confusing\", \"confusion\", \"connect\", \"connected\", \"connecting\", \"connection\", \"considered\", \"console\", \"constantly\", \"constructor\", \"containers\", \"containing\", \"contains\", \"content\", \"contents\", \"context\", \"contextual\", \"continue\", \"continuously\", \"contributors\", \"conversion\", \"convert\", \"copied\", \"copies\", \"copy\", \"copypasting\", \"cores\", \"coroutine\", \"correct\", \"correctly\", \"corresponding\", \"could\", \"coverage\", \"cpu\", \"crash\", \"crashes\", \"crazy\", \"create\", \"created\", \"creates\", \"creating\", \"creation\", \"csv\", \"ctrl\", \"ctrlc\", \"ctrlshiftf\", \"cucumber\", \"current\", \"currently\", \"currentthread\", \"cursor\", \"custom\", \"customize\", \"customized\", \"cython\", \"data\", \"database\", \"dataclass\", \"dataframe\", \"dataframes\", \"datalore\", \"datetime\", \"db\", \"debug\", \"debugger\", \"debugging\", \"declaration\", \"declarations\", \"declared\", \"declaring\", \"decorated\", \"decorator\", \"decorators\", \"default\", \"define\", \"defined\", \"defines\", \"definition\", \"defintion\", \"deletion\", \"dependencies\", \"dependency\", \"deployment\", \"deprecated\", \"derivatives\", \"description\", \"despite\", \"detect\", \"detected\", \"detecting\", \"detection\", \"dev\", \"diagram\", \"dialog\", \"dict\", \"dictionaries\", \"dictionary\", \"diff\", \"difference\", \"different\", \"differs\", \"dir\", \"directive\", \"directory\", \"disable\", \"disable\", \"disabled\", \"disabling\", \"disappear\", \"disappears\", \"display\", \"displayed\", \"distinguish\", \"distribution\", \"django\", \"djangotest\", \"doc\", \"docker\", \"dockercompose\", \"docstring\", \"docstrings\", \"doctest\", \"documentation\", \"dotted\", \"double\", \"doublynested\", \"downloaded\", \"drf\", \"drive\", \"drives\", \"due\", \"dumb\", \"dummy\", \"dunder\", \"duplicate\", \"duplicated\", \"duplication\", \"dynamic\", \"dynamically\", \"eap\", \"editable\", \"editing\", \"edition\", \"editor\", \"effect\", \"eg\", \"element\", \"ellipses\", \"emailmessage\", \"empty\", \"emulated\", \"enable\", \"enabled\", \"end\", \"endpoints\", \"engine\", \"enter\", \"entire\", \"entrypoint\", \"enum\", \"enumeratels\", \"enums\", \"enumunique\", \"environment\", \"environments\", \"epydoc\", \"equality\", \"erroneous\", \"erronious\", \"error\", \"errors\", \"evaluate\", \"evaluates\", \"evaluation\", \"even\", \"every\", \"examples\", \"excel\", \"except\", \"exception\", \"exceptions\", \"excessive\", \"executable\", \"execute\", \"executed\", \"executing\", \"execution\", \"exist\", \"existing\", \"exists\", \"exit\", \"expected\", \"expecting\", \"experimental\", \"explicitly\", \"exploding\", \"explorer\", \"export\", \"exporting\", \"exports\", \"expression\", \"expressiononly\", \"expressions\", \"extend\", \"extended\", \"extending\", \"extension\", \"extensions\", \"extern\", \"external\", \"extra\", \"extract\", \"extremely\", \"fail\", \"failed\", \"failing\", \"fails\", \"failure\", \"false\", \"falsepositive\", \"fastapi\", \"fastapifastapi\", \"fatal\", \"feature\", \"feedback\", \"fewer\", \"field\", \"file\", \"files\", \"fill\", \"final\", \"find\", \"find\", \"fine\", \"finished\", \"finishes\", \"first\", \"fix\", \"flag\", \"flagged\", \"flagging\", \"flags\", \"flask\", \"flask_debug\", \"flaskbased\", \"flathub\", \"float\", \"focus\", \"fold\", \"folded\", \"folder\", \"folders\", \"folding\", \"following\", \"font\", \"foreignkey\", \"forever\", \"form\", \"format\", \"formatted\", \"formatter\", \"formatteroff\", \"formatting\", \"formulas\", \"forwarding\", \"found\", \"fragments\", \"framework\", \"frameworks\", \"freeze\", \"freezes\", \"freezing\", \"fstring\", \"fstrings\", \"fullscreen\", \"fullyqualified\", \"function\", \"functions\", \"generates\", \"generator\", \"generators\", \"generic\", \"generics\", \"get\", \"gets\", \"getting\", \"gherkin\", \"git\", \"give\", \"given\", \"gives\", \"global\", \"go\", \"goes\", \"gone\", \"google\", \"got\", \"graph\", \"greyed\", \"gt\", \"gutter\", \"handle\", \"handling\", \"hangs\", \"hard\", \"hash\", \"hello\", \"help\", \"helper\", \"helpers\", \"hidden\", \"hide\", \"hides\", \"hierarchy\", \"high\", \"higher\", \"highlighing\", \"highlight\", \"highlighted\", \"highlighting\", \"highlights\", \"hint\", \"hinted\", \"hinting\", \"hints\", \"history\", \"hit\", \"horizontal\", \"host\", \"hover\", \"html\", \"hvplot\", \"icon\", \"icons\", \"ide\", \"idea\", \"identification\", \"identifier\", \"ifelse\", \"ignore\", \"ignored\", \"ignores\", \"image\", \"images\", \"implement\", \"implementations\", \"import\", \"imported\", \"importing\", \"imports\", \"impossible\", \"improve\", \"include_routers\", \"included\", \"incompatibility\", \"incompatible\", \"incomplete\", \"inconsistent\", \"inconsistently\", \"incorreclty\", \"incorrect\", \"incorrectly\", \"incorrectly\", \"increases\", \"indent\", \"indentation\", \"indentify\", \"independent\", \"index\", \"indexing\", \"indication\", \"infer\", \"inference\", \"inferencer\", \"inferred\", \"inferrence\", \"inferring\", \"infers\", \"infinitum\", \"info\", \"information\", \"inherit\", \"inherited\", \"initialized\", \"initializing\", \"injection\", \"inline\", \"input\", \"inputs\", \"insert\", \"inserted\", \"inserts\", \"inside\", \"insight\", \"insighte\", \"insists\", \"inspect\", \"inspection\", \"inspections\", \"inspects\", \"install\", \"installation\", \"installed\", \"installing\", \"instance\", \"instances\", \"instead\", \"int\", \"integer\", \"integrate\", \"integrated\", \"integration\", \"intellij\", \"intention\", \"interact\", \"interface\", \"intermediary\", \"interpretation\", \"interpreter\", \"interpreters\", \"interpretter\", \"introduce\", \"invalid\", \"invert\", \"invoke\", \"invoked\", \"ip\", \"ipynb\", \"ipython\", \"ipywidgets\", \"irrelevant\", \"is_valid\", \"isinstance\", \"issue\", \"issues\", \"item\", \"items\", \"itemsview\", \"iter\", \"iterable\", \"iterating\", \"iterator\", \"jinja\", \"js\", \"json\", \"jumps\", \"jupyter\", \"jython\", \"keeps\", \"keras\", \"kernels\", \"key\", \"keyboard\", \"keys\", \"keyvalue\", \"keyword\", \"keywords\", \"killing\", \"know\", \"kwargs\", \"lack\", \"lacks\", \"lag\", \"language\", \"large\", \"last\", \"latest\", \"latter\", \"launch\", \"launched\", \"leads\", \"leak\", \"left\", \"level\", \"libraries\", \"library\", \"ligatures\", \"line\", \"line_profiler\", \"lines\", \"link\", \"links\", \"linux\", \"list\", \"listed\", \"lists\", \"literal\", \"literals\", \"load\", \"loaded\", \"loading\", \"loads\", \"local\", \"local\", \"locate\", \"located\", \"location\", \"logic\", \"long\", \"longer\", \"loop\", \"loses\", \"lost\", \"mac\", \"macos\", \"made\", \"magic\", \"main\", \"mainpy\", \"make\", \"makemigrations\", \"makes\", \"manage\", \"managepy\", \"manager\", \"managing\", \"mangled\", \"manual\", \"many\", \"mapped\", \"mappings\", \"mark\", \"markdown\", \"marked\", \"marks\", \"masks\", \"match\", \"matching\", \"math\", \"matlabengine\", \"matplotlib\", \"meaningful\", \"member\", \"members\", \"memory\", \"mentioned\", \"menu\", \"message\", \"messages\", \"metaclass\", \"metaclasses\", \"method\", \"methods\", \"microsoft\", \"miniforge\", \"minimalist\", \"minor\", \"misinterprets\", \"mismatch\", \"misnamed\", \"missing\", \"mistreats\", \"mixes\", \"mixins\", \"mode\", \"model\", \"modifer\", \"module\", \"modules\", \"moduletype\", \"monterey\", \"mount\", \"mounted\", \"mouse\", \"move\", \"moving\", \"ms\", \"much\", \"multicursor\", \"multiline\", \"multiple\", \"multiprocessing\", \"multiproject\", \"multithreaded\", \"must\", \"mypy\", \"name\", \"named\", \"namedtuple\", \"names\", \"namespace\", \"narrowed\", \"narrowing\", \"native\", \"navigate\", \"navigation\", \"near\", \"nearby\", \"needless\", \"needlessly\", \"needs\", \"negative\", \"nested\", \"network\", \"never\", \"new\", \"newline\", \"newly\", \"noheader\", \"nonascii\", \"noncoroutine\", \"none\", \"nonnative\", \"nonproject\", \"nontoplevel\", \"nonvalid\", \"nosummary\", \"notation\", \"notebook\", \"notebooks\", \"nothing\", \"notification\", \"npe\", \"nukes\", \"number\", \"numbers\", \"numpy\", \"object\", \"objects\", \"odoo\", \"office\", \"old\", \"one\", \"ones\", \"open\", \"opened\", \"opening\", \"opens\", \"operations\", \"operator\", \"operators\", \"optimize\", \"option\", \"optional\", \"options\", \"orange\", \"order\", \"ordering\", \"orm\", \"oserror\", \"ospath\", \"outer\", \"outofthebox\", \"output\", \"outputs\", \"outside\", \"overload\", \"overloaded\", \"overloads\", \"override\", \"overrides\", \"overwritten\", \"package\", \"packages\", \"page\", \"pair\", \"pandas\", \"pane\", \"panel\", \"panels\", \"paragraph\", \"parallel\", \"parameter\", \"parameterized\", \"parameters\", \"parametersinfo\", \"parametertypes\", \"parametrized\", \"paramspec\", \"parent\", \"parenteses\", \"parentheses\", \"parse\", \"parsed\", \"parser\", \"parsing\", \"part\", \"parts\", \"party\", \"passed\", \"passing\", \"password\", \"passwords\", \"paste\", \"path\", \"path_or_buf\", \"paths\", \"pattern\", \"patterns\", \"pdf\", \"pep\", \"perceived\", \"performance\", \"permanent\", \"permission\", \"permissions\", \"pgcli\", \"picks\", \"pid\", \"pin\", \"pip\", \"pipenv\", \"place\", \"play\", \"please\", \"plot\", \"plots\", \"plugin\", \"plugins\", \"poetry\", \"point\", \"points\", \"polars\", \"policy\", \"poor\", \"popular\", \"populate\", \"popup\", \"port\", \"position\", \"positive\", \"positives\", \"possible\", \"possibly\", \"post\", \"postfix\", \"postgresql\", \"potential\", \"powershell\", \"predefined\", \"prefer\", \"preferences\", \"prefixes\", \"present\", \"preserve\", \"preview\", \"previous\", \"print\", \"printed\", \"printing\", \"prioritize\", \"private\", \"pro\", \"problem\", \"problems\", \"process\", \"process\", \"processing\", \"produces\", \"professional\", \"profile\", \"profiler\", \"profiling\", \"program\", \"project\", \"projectfiles\", \"projectjdktable\", \"projects\", \"prompt\", \"propagate\", \"properly\", \"properties\", \"property\", \"propose\", \"protocol\", \"protocols\", \"provide\", \"provides\", \"providing\", \"proxy\", \"py\", \"pyassert\", \"pycharm\", \"pydev_monkey\", \"pydevd\", \"pyenv\", \"pylab\", \"pymc\", \"pymongo\", \"pypi\", \"pyqt\", \"pyramid\", \"pyroute\", \"pyside\", \"pysparkstubs\", \"pytest\", \"pytestxdist\", \"python\", \"python\", \"pythonid\", \"pythonpath\", \"qobject\", \"qobjecttr\", \"qualified\", \"queryset\", \"queue\", \"quick\", \"quickfix\", \"quotation\", \"quoted\", \"quotes\", \"raise\", \"raised\", \"raises\", \"randomly\", \"range\", \"rather\", \"raw\", \"rc\", \"read\", \"reading\", \"readonly\", \"real\", \"recognised\", \"recognize\", \"recognized\", \"recognizes\", \"redeclared\", \"redefined\", \"redraw\", \"redundand\", \"redundant\", \"refactor\", \"refactoring\", \"reference\", \"referenced\", \"referenceerror\", \"references\", \"refresh\", \"regex\", \"regions\", \"registry\", \"regression\", \"reindex\", \"relative\", \"release\", \"reload\", \"remains\", \"remote\", \"remote\", \"remote\", \"remoter\", \"remove\", \"removed\", \"removes\", \"removing\", \"rename\", \"renames\", \"renaming\", \"render\", \"rendered\", \"rendering\", \"renders\", \"reopen\", \"repl\", \"replace\", \"report\", \"reported\", \"reports\", \"repository\", \"request\", \"require\", \"required\", \"requirements\", \"requirementstxt\", \"requires\", \"rerun\", \"rescan\", \"resembling\", \"reset\", \"resets\", \"resize\", \"resolution\", \"resolve\", \"resolved\", \"resolves\", \"resolving\", \"response\", \"responsive\", \"rest\", \"restart\", \"restartpy\", \"result\", \"results\", \"retrieve\", \"return\", \"returning\", \"returns\", \"returntype\", \"reused\", \"revealed\", \"rewritten\", \"rider\", \"right\", \"root\", \"rst\", \"run\", \"runner\", \"running\", \"runs\", \"runserver\", \"save\", \"saved\", \"scheme\", \"scientific\", \"sciview\", \"scope\", \"scratch\", \"screen\", \"script\", \"scrollable\", \"sdk\", \"search\", \"second\", \"section\", \"see\", \"seems\", \"select\", \"selected\", \"selecting\", \"selection\", \"selector\", \"self\", \"selinum\", \"sends\", \"separate\", \"separate\", \"separator\", \"server\", \"service\", \"services\", \"session\", \"set\", \"sets\", \"setting\", \"settings\", \"setup\", \"setupcfg\", \"setupclass\", \"several\", \"severe\", \"sftp\", \"shadowed\", \"shadowing\", \"shadows\", \"shape\", \"shortcut\", \"show\", \"show\", \"showing\", \"shown\", \"shows\", \"shut\", \"side\", \"sigint\", \"signal\", \"signature\", \"silently\", \"similar\", \"simultaneously\", \"since\", \"single\", \"size\", \"skeleton\", \"skeletons\", \"slash\", \"slow\", \"slowly\", \"solution\", \"someclassget\", \"something\", \"sometimes\", \"sorting\", \"source\", \"sources\", \"space\", \"spaces\", \"specific\", \"specified\", \"speedup\", \"speedups\", \"spellcheck\", \"spellchecker\", \"sphinx\", \"spinner\", \"sql\", \"sqlalchemy\", \"ssh\", \"ssl\", \"stack\", \"stacked\", \"standard\", \"start\", \"started\", \"starting\", \"startup\", \"state\", \"statement\", \"statements\", \"static\", \"staticmethod\", \"status\", \"stay\", \"stdin\", \"steals\", \"step\", \"steps\", \"still\", \"stop\", \"stopped\", \"stopping\", \"stops\", \"str\", \"stretch\", \"strict\", \"strictness\", \"string\", \"strings\", \"stripped\", \"structure\", \"stub\", \"stubs\", \"stuck\", \"style\", \"subclass\", \"subclasses\", \"submitted\", \"submodule\", \"submodules\", \"subprocess\", \"subprocesses\", \"subscripted\", \"subscription\", \"substituted\", \"subtype\", \"succeeds\", \"suggest\", \"suggested\", \"suggestions\", \"suggests\", \"suite\", \"super\", \"superclass\", \"support\", \"supported\", \"sur\", \"swap\", \"swing\", \"switch\", \"switches\", \"switching\", \"sync\", \"syntax\", \"sysmodulates\", \"sysorig_argv\", \"syspath\", \"system\", \"systematic\", \"sysversion_info\", \"tab\", \"table\", \"tablecolumns\", \"tabs\", \"tag\", \"tags\", \"takes\", \"taking\", \"target\", \"targets\", \"task\", \"teamcity\", \"tempfile\", \"template\", \"templates\", \"temporary\", \"tensorflowkeras\", \"tensorrt\", \"terminal\", \"terminated\", \"termios\", \"terraform\", \"test\", \"testcase\", \"tests\", \"text\", \"thats\", \"theano\", \"theme\", \"thinks\", \"third\", \"thread\", \"throws\", \"time\", \"timeout\", \"tip\", \"tips\", \"title\", \"today\", \"token\", \"tokenizers\", \"tool\", \"toolbar\", \"toolkit\", \"tools\", \"toolwindow\", \"top\", \"toplevel\", \"torch\", \"torchutilsdata\", \"total\", \"tox\", \"traceback\", \"tracebacks\", \"track\", \"trailing\", \"traitletspy\", \"translate\", \"translations\", \"treat\", \"treated\", \"treating\", \"tree\", \"tried\", \"tries\", \"trigger\", \"triple\", \"trivially\", \"true\", \"truncates\", \"try\", \"trying\", \"tuple\", \"tuples\", \"turn\", \"tutorial\", \"twice\", \"two\", \"type\", \"type\", \"type\", \"type\", \"type\", \"type\", \"type\", \"type\", \"type\", \"type\", \"typechecker\", \"typechecking\", \"typed\", \"typeddict\", \"typeerror\", \"typeguard\", \"typeinference\", \"typematching\", \"types\", \"typesdict\", \"typeshed\", \"typevar\", \"typing\", \"typingprotocol\", \"typingtypeddict\", \"typo\", \"ubuntu\", \"ui\", \"unable\", \"unactivated\", \"unbound\", \"uncalled\", \"uncorrectly\", \"undefined\", \"underscore\", \"understand\", \"unexpected\", \"unfilled\", \"unhandled\", \"unicode\", \"unified\", \"uninstall\", \"union\", \"unit\", \"unittest\", \"universal\", \"unknown\", \"unless\", \"unpack\", \"unpacked\", \"unpacking\", \"unqualified\", \"unreachable\", \"unrecognized\", \"unresolved\", \"unresponsive\", \"unsupported\", \"untyped\", \"unusable\", \"unused\", \"update\", \"updated\", \"updates\", \"updating\", \"upgrade\", \"upgrading\", \"upper\", \"url\", \"usage\", \"usages\", \"use\", \"used\", \"user\", \"userdefined\", \"uses\", \"using\", \"usually\", \"uvicornrun\", \"vagrant\", \"valid\", \"validate\", \"value\", \"values\", \"variable\", \"variables\", \"variants\", \"varying\", \"vcs\", \"venv\", \"venvs\", \"version\", \"versions\", \"via\", \"view\", \"viewer\", \"virtual\", \"virtualenv\", \"visuals\", \"vmprof\", \"volume\", \"vpn\", \"vpn\", \"vuejs\", \"walrus\", \"warn\", \"warning\", \"warnings\", \"wastes\", \"watch\", \"way\", \"web\", \"well\", \"wheel\", \"whether\", \"whitespace\", \"whole\", \"widget\", \"wild\", \"window\", \"windows\", \"winerror\", \"within\", \"without\", \"wizard\", \"wo\", \"word\", \"work\", \"working\", \"works\", \"wrap\", \"wrapping\", \"writing\", \"wrong\", \"wrongly\", \"wsl\", \"wslbased\", \"xc\", \"xfail\", \"xml\", \"yaml\", \"yes\", \"yet\", \"yet\", \"yield\"]}, \"R\": 30, \"lambda.step\": 0.01, \"plot.opts\": {\"xlab\": \"PC1\", \"ylab\": \"PC2\"}, \"topic.order\": [3, 21, 45, 24, 33, 8, 7, 28, 17, 39, 26, 14, 22, 47, 41, 15, 6, 10, 11, 36, 48, 40, 2, 13, 29, 5, 37, 43, 44, 27, 25, 34, 19, 1, 16, 18, 49, 9, 23, 50, 42, 20, 30, 31, 46, 4, 38, 35, 12, 32]};\n",
              "\n",
              "function LDAvis_load_lib(url, callback){\n",
              "  var s = document.createElement('script');\n",
              "  s.src = url;\n",
              "  s.async = true;\n",
              "  s.onreadystatechange = s.onload = callback;\n",
              "  s.onerror = function(){console.warn(\"failed to load library \" + url);};\n",
              "  document.getElementsByTagName(\"head\")[0].appendChild(s);\n",
              "}\n",
              "\n",
              "if(typeof(LDAvis) !== \"undefined\"){\n",
              "   // already loaded: just create the visualization\n",
              "   !function(LDAvis){\n",
              "       new LDAvis(\"#\" + \"ldavis_el18261404607596575527395519451\", ldavis_el18261404607596575527395519451_data);\n",
              "   }(LDAvis);\n",
              "}else if(typeof define === \"function\" && define.amd){\n",
              "   // require.js is available: use it to load d3/LDAvis\n",
              "   require.config({paths: {d3: \"https://d3js.org/d3.v5\"}});\n",
              "   require([\"d3\"], function(d3){\n",
              "      window.d3 = d3;\n",
              "      LDAvis_load_lib(\"https://cdn.jsdelivr.net/gh/bmabey/pyLDAvis@3.3.1/pyLDAvis/js/ldavis.v3.0.0.js\", function(){\n",
              "        new LDAvis(\"#\" + \"ldavis_el18261404607596575527395519451\", ldavis_el18261404607596575527395519451_data);\n",
              "      });\n",
              "    });\n",
              "}else{\n",
              "    // require.js not available: dynamically load d3 & LDAvis\n",
              "    LDAvis_load_lib(\"https://d3js.org/d3.v5.js\", function(){\n",
              "         LDAvis_load_lib(\"https://cdn.jsdelivr.net/gh/bmabey/pyLDAvis@3.3.1/pyLDAvis/js/ldavis.v3.0.0.js\", function(){\n",
              "                 new LDAvis(\"#\" + \"ldavis_el18261404607596575527395519451\", ldavis_el18261404607596575527395519451_data);\n",
              "            })\n",
              "         });\n",
              "}\n",
              "</script>"
            ],
            "text/plain": [
              "PreparedData(topic_coordinates=              x         y  topics  cluster      Freq\n",
              "topic                                               \n",
              "2     -0.417655  0.276167       1        1  4.183891\n",
              "20    -0.176367 -0.465964       2        1  3.678100\n",
              "44    -0.414966 -0.258861       3        1  3.146711\n",
              "23     0.470015  0.035116       4        1  2.836740\n",
              "32    -0.002905  0.458462       5        1  2.727935\n",
              "7      0.404001 -0.206560       6        1  2.718705\n",
              "6      0.291323 -0.331791       7        1  2.484702\n",
              "27    -0.408471  0.137321       8        1  2.464607\n",
              "16    -0.326158 -0.189271       9        1  2.404312\n",
              "38     0.137919  0.437041      10        1  2.357332\n",
              "25     0.218305  0.361951      11        1  2.318404\n",
              "13    -0.286569  0.358022      12        1  2.294516\n",
              "21    -0.168019  0.378406      13        1  2.196047\n",
              "46     0.168427 -0.318512      14        1  2.122053\n",
              "40     0.410275  0.148021      15        1  2.100493\n",
              "14    -0.283114 -0.287328      16        1  2.082384\n",
              "5      0.040556 -0.418131      17        1  2.078788\n",
              "9     -0.400940 -0.100188      18        1  2.077338\n",
              "10    -0.184220 -0.126226      19        1  2.053053\n",
              "35    -0.340757  0.069624      20        1  2.017588\n",
              "47     0.181945 -0.399333      21        1  1.967483\n",
              "39    -0.063111 -0.395041      22        1  1.944965\n",
              "1      0.417082 -0.091409      23        1  1.936478\n",
              "12     0.113308 -0.239371      24        1  1.935312\n",
              "28    -0.426631  0.005652      25        1  1.901206\n",
              "4      0.036108  0.344427      26        1  1.891556\n",
              "36     0.344324  0.252545      27        1  1.795448\n",
              "42     0.277655 -0.230949      28        1  1.787448\n",
              "43     0.172740 -0.070822      29        1  1.749124\n",
              "26     0.346282  0.002173      30        1  1.730329\n",
              "24    -0.195978 -0.331689      31        1  1.724897\n",
              "33    -0.269435  0.188387      32        1  1.707205\n",
              "18     0.065670  0.186574      33        1  1.698459\n",
              "0     -0.166870  0.014660      34        1  1.692036\n",
              "15    -0.283339 -0.047435      35        1  1.684317\n",
              "17     0.252286  0.271467      36        1  1.683566\n",
              "48    -0.076668  0.366618      37        1  1.648379\n",
              "8     -0.174604  0.260100      38        1  1.641509\n",
              "22     0.297366  0.147870      39        1  1.638190\n",
              "49     0.128824  0.250265      40        1  1.580761\n",
              "41    -0.058886  0.200262      41        1  1.570464\n",
              "19     0.022620 -0.296234      42        1  1.566095\n",
              "29    -0.119134 -0.264864      43        1  1.513852\n",
              "30     0.210213  0.035700      44        1  1.493063\n",
              "45    -0.010092  0.041307      45        1  1.488802\n",
              "3     -0.051487 -0.146044      46        1  1.469659\n",
              "37     0.279777 -0.125671      47        1  1.432755\n",
              "34     0.040577 -0.093753      48        1  1.427663\n",
              "11    -0.152308  0.115804      49        1  1.250543\n",
              "31     0.131084  0.091505      50        1  1.104736, topic_info=           Term        Freq       Total Category  logprob  loglift\n",
              "58       python  271.000000  271.000000  Default  30.0000  30.0000\n",
              "35      pycharm  235.000000  235.000000  Default  29.0000  29.0000\n",
              "65         code  127.000000  127.000000  Default  28.0000  28.0000\n",
              "190       error  106.000000  106.000000  Default  27.0000  27.0000\n",
              "79         type  230.000000  230.000000  Default  26.0000  26.0000\n",
              "...         ...         ...         ...      ...      ...      ...\n",
              "2342   additive    0.793238    1.618096  Topic50  -5.2983   3.7927\n",
              "2343    stacked    0.793238    1.618096  Topic50  -5.2983   3.7927\n",
              "424   directive    0.567831    1.392689  Topic50  -5.6326   3.6084\n",
              "2124     dotted    0.541970    1.366828  Topic50  -5.6792   3.5805\n",
              "2019      built    0.448654    1.273512  Topic50  -5.8681   3.4623\n",
              "\n",
              "[1554 rows x 6 columns], token_table=      Topic      Freq      Term\n",
              "term                           \n",
              "1086     37  0.886366   ability\n",
              "2383     18  0.923674      able\n",
              "1378     37  0.780709  absolute\n",
              "1633     10  0.771052  abstract\n",
              "2260     24  0.828255  accepted\n",
              "...     ...       ...       ...\n",
              "1899     40  0.835188      yaml\n",
              "2765     48  0.863191       yes\n",
              "2449     39  0.571031       yet\n",
              "2449     49  0.285515       yet\n",
              "132      11  0.800402     yield\n",
              "\n",
              "[1515 rows x 3 columns], R=30, lambda_step=0.01, plot_opts={'xlab': 'PC1', 'ylab': 'PC2'}, topic_order=[3, 21, 45, 24, 33, 8, 7, 28, 17, 39, 26, 14, 22, 47, 41, 15, 6, 10, 11, 36, 48, 40, 2, 13, 29, 5, 37, 43, 44, 27, 25, 34, 19, 1, 16, 18, 49, 9, 23, 50, 42, 20, 30, 31, 46, 4, 38, 35, 12, 32])"
            ]
          },
          "metadata": {},
          "execution_count": 24
        }
      ]
    },
    {
      "cell_type": "markdown",
      "metadata": {
        "id": "xp3nfqWVZ3nG"
      },
      "source": [
        "### Анализ 2020.2"
      ]
    },
    {
      "cell_type": "code",
      "metadata": {
        "colab": {
          "base_uri": "https://localhost:8080/",
          "height": 49,
          "referenced_widgets": [
            "09eb6a4c06f74564b5499bca1bcc70f8",
            "f04f585e035648248250527a7c406026",
            "745b77a4676c45b6a118c6306bc8e024",
            "b892d2813db94bd88bc4fd01bbe4a72f",
            "b7e46523c69d4eab8465d3ad1d2e198c",
            "bf1e6cb80845403c81926549cb89b284",
            "5344e294503b413c93bf287f152c6a57",
            "d718d0eea74c4609b0737acb3659e8ae",
            "2c0e39a62c2e4e7c9c70a7834129fb8d",
            "b3431b3047914058bcbe2167dfd8b81d",
            "31cdff39e1a14e35831fa5590f9898ed"
          ]
        },
        "id": "hznEMUPiITOQ",
        "outputId": "73bda537-298e-4099-ff07-1043f5c86b33"
      },
      "source": [
        "df_2020_2 = df.copy()\n",
        "for i in tq.tqdm(range(len(df_2020_2['Affected versions']))):  \n",
        "  if df_2020_2.loc[(i, 'Affected versions')] != ['2020.2']:\n",
        "    df_2020_2 = df_2020_2.drop(i)"
      ],
      "execution_count": 25,
      "outputs": [
        {
          "output_type": "display_data",
          "data": {
            "application/vnd.jupyter.widget-view+json": {
              "model_id": "09eb6a4c06f74564b5499bca1bcc70f8",
              "version_minor": 0,
              "version_major": 2
            },
            "text/plain": [
              "  0%|          | 0/2185 [00:00<?, ?it/s]"
            ]
          },
          "metadata": {}
        }
      ]
    },
    {
      "cell_type": "code",
      "metadata": {
        "colab": {
          "base_uri": "https://localhost:8080/",
          "height": 423
        },
        "id": "caYX4icsgnc2",
        "outputId": "f4be610f-e2e8-4d4f-e0b0-ade9a2fcf1b2"
      },
      "source": [
        "df_2020_2"
      ],
      "execution_count": 26,
      "outputs": [
        {
          "output_type": "execute_result",
          "data": {
            "text/html": [
              "<div>\n",
              "<style scoped>\n",
              "    .dataframe tbody tr th:only-of-type {\n",
              "        vertical-align: middle;\n",
              "    }\n",
              "\n",
              "    .dataframe tbody tr th {\n",
              "        vertical-align: top;\n",
              "    }\n",
              "\n",
              "    .dataframe thead th {\n",
              "        text-align: right;\n",
              "    }\n",
              "</style>\n",
              "<table border=\"1\" class=\"dataframe\">\n",
              "  <thead>\n",
              "    <tr style=\"text-align: right;\">\n",
              "      <th></th>\n",
              "      <th>idReadable</th>\n",
              "      <th>created</th>\n",
              "      <th>summary</th>\n",
              "      <th>description</th>\n",
              "      <th>Affected versions</th>\n",
              "      <th>cleaned_summary</th>\n",
              "    </tr>\n",
              "  </thead>\n",
              "  <tbody>\n",
              "    <tr>\n",
              "      <th>1</th>\n",
              "      <td>PY-22248</td>\n",
              "      <td>1484322653638</td>\n",
              "      <td>Full project optimize imports alters library f...</td>\n",
              "      <td>Reported by: @matheusbrat on Twitter: https://...</td>\n",
              "      <td>[2020.2]</td>\n",
              "      <td>full project optimize imports alters library f...</td>\n",
              "    </tr>\n",
              "    <tr>\n",
              "      <th>8</th>\n",
              "      <td>PY-23558</td>\n",
              "      <td>1491299287883</td>\n",
              "      <td>Django: Relative paths in include and extends ...</td>\n",
              "      <td>Since Django 1.10* it's possible to use relati...</td>\n",
              "      <td>[2020.2]</td>\n",
              "      <td>django relative paths in include and extends t...</td>\n",
              "    </tr>\n",
              "    <tr>\n",
              "      <th>9</th>\n",
              "      <td>PY-24622</td>\n",
              "      <td>1496901895623</td>\n",
              "      <td>Python stub: unresolved submodule name string ...</td>\n",
              "      <td>given a python stub file package with the foll...</td>\n",
              "      <td>[2020.2]</td>\n",
              "      <td>python stub unresolved submodule name string i...</td>\n",
              "    </tr>\n",
              "    <tr>\n",
              "      <th>15</th>\n",
              "      <td>PY-25291</td>\n",
              "      <td>1500917245745</td>\n",
              "      <td>Datetime Index for DataFrame is displayed with...</td>\n",
              "      <td>The new Data View in 172.3317.82 fixs the issu...</td>\n",
              "      <td>[2020.2]</td>\n",
              "      <td>datetime index for dataframe is displayed with...</td>\n",
              "    </tr>\n",
              "    <tr>\n",
              "      <th>21</th>\n",
              "      <td>PY-26947</td>\n",
              "      <td>1510393814382</td>\n",
              "      <td>Class variable mistaken as module global variable</td>\n",
              "      <td>```\\nv = 5\\n\\nclass C:\\n    v = 3\\n```\\n\\nIn t...</td>\n",
              "      <td>[2020.2]</td>\n",
              "      <td>class variable mistaken as module global variable</td>\n",
              "    </tr>\n",
              "    <tr>\n",
              "      <th>...</th>\n",
              "      <td>...</td>\n",
              "      <td>...</td>\n",
              "      <td>...</td>\n",
              "      <td>...</td>\n",
              "      <td>...</td>\n",
              "      <td>...</td>\n",
              "    </tr>\n",
              "    <tr>\n",
              "      <th>942</th>\n",
              "      <td>PY-46623</td>\n",
              "      <td>1611451172232</td>\n",
              "      <td>Deleting a functools.cached_property throws a ...</td>\n",
              "      <td>*What steps will reproduce the problem?*\\n\\n``...</td>\n",
              "      <td>[2020.2]</td>\n",
              "      <td>deleting a functoolscached_property throws a w...</td>\n",
              "    </tr>\n",
              "    <tr>\n",
              "      <th>950</th>\n",
              "      <td>PY-46671</td>\n",
              "      <td>1611750268571</td>\n",
              "      <td>Unexpected kerning on library sources</td>\n",
              "      <td>Hi,\\nI've suddenly opened bs4 sources on pycha...</td>\n",
              "      <td>[2020.2]</td>\n",
              "      <td>unexpected kerning on library sources</td>\n",
              "    </tr>\n",
              "    <tr>\n",
              "      <th>960</th>\n",
              "      <td>PY-46680</td>\n",
              "      <td>1611768468063</td>\n",
              "      <td>Jupyter notebook preview - where are the Javas...</td>\n",
              "      <td>When a widget is not supported in Pycharm's Ju...</td>\n",
              "      <td>[2020.2]</td>\n",
              "      <td>jupyter notebook preview where are the javascr...</td>\n",
              "    </tr>\n",
              "    <tr>\n",
              "      <th>984</th>\n",
              "      <td>PY-46875</td>\n",
              "      <td>1612592204203</td>\n",
              "      <td>Tools-&gt;Development-&gt;Automatic Uploads(Always) ...</td>\n",
              "      <td>What steps will reproduce the problem?\\n\\n1.Cr...</td>\n",
              "      <td>[2020.2]</td>\n",
              "      <td>tools&gt;development&gt;automatic uploadsalways malf...</td>\n",
              "    </tr>\n",
              "    <tr>\n",
              "      <th>985</th>\n",
              "      <td>PY-46861</td>\n",
              "      <td>1612539553665</td>\n",
              "      <td>Pycharm script slow for simple commands</td>\n",
              "      <td>Hello,\\n\\nAfter running a script and using rel...</td>\n",
              "      <td>[2020.2]</td>\n",
              "      <td>pycharm script slow for simple commands</td>\n",
              "    </tr>\n",
              "  </tbody>\n",
              "</table>\n",
              "<p>559 rows × 6 columns</p>\n",
              "</div>"
            ],
            "text/plain": [
              "    idReadable  ...                                    cleaned_summary\n",
              "1     PY-22248  ...  full project optimize imports alters library f...\n",
              "8     PY-23558  ...  django relative paths in include and extends t...\n",
              "9     PY-24622  ...  python stub unresolved submodule name string i...\n",
              "15    PY-25291  ...  datetime index for dataframe is displayed with...\n",
              "21    PY-26947  ...  class variable mistaken as module global variable\n",
              "..         ...  ...                                                ...\n",
              "942   PY-46623  ...  deleting a functoolscached_property throws a w...\n",
              "950   PY-46671  ...              unexpected kerning on library sources\n",
              "960   PY-46680  ...  jupyter notebook preview where are the javascr...\n",
              "984   PY-46875  ...  tools>development>automatic uploadsalways malf...\n",
              "985   PY-46861  ...            pycharm script slow for simple commands\n",
              "\n",
              "[559 rows x 6 columns]"
            ]
          },
          "metadata": {},
          "execution_count": 26
        }
      ]
    },
    {
      "cell_type": "code",
      "metadata": {
        "colab": {
          "base_uri": "https://localhost:8080/",
          "height": 66,
          "referenced_widgets": [
            "bd0c208f34464a63a316c13977e99937",
            "3b20f542cc3b4129bd9daef56b1cb600",
            "4e180fceac0d4c3cbaeeba985b0b97cb",
            "e0c92899f1e94bfea0f6d978c938d58e",
            "bf78a95537c145c4ad1367e4185195dd",
            "2e3cb99007674aad9bee8305ac8d51d2",
            "e655ad3a03024d24a5788d27e34e9d59",
            "c7036ad8c8574d1c8f1546b37b3ab7bb",
            "feddc52bb980420d8d3aabe63c3a99dc",
            "80d5939d7459415fbc83039c68fedb0e",
            "211d35b7b6f64efb81f7839a88cdf4fe"
          ]
        },
        "id": "tQOL7WUghOtm",
        "outputId": "5aba7590-1b33-4a1d-de88-7918d1b6dc0b"
      },
      "source": [
        "list_summary = df_2020_2['cleaned_summary'].tolist()\n",
        "final_out = []\n",
        "for text in tq.tqdm(list_summary):\n",
        "  preprocess_text = simple_preprocess(str(text), deacc=True)\n",
        "  tmp = []\n",
        "  for word in preprocess_text:\n",
        "    if word not in stop_words:\n",
        "      tmp.append(word)\n",
        "  final_out.append(tmp)\n",
        "# dict_w_id = Dictionary(final_out)\n",
        "d2bow_2 = [dict_w_id.doc2bow(text) for text in final_out]\n",
        "topic_2020_2 = lda_model.get_document_topics(d2bow_2)\n",
        "topic_2020_2"
      ],
      "execution_count": 27,
      "outputs": [
        {
          "output_type": "display_data",
          "data": {
            "application/vnd.jupyter.widget-view+json": {
              "model_id": "bd0c208f34464a63a316c13977e99937",
              "version_minor": 0,
              "version_major": 2
            },
            "text/plain": [
              "  0%|          | 0/559 [00:00<?, ?it/s]"
            ]
          },
          "metadata": {}
        },
        {
          "output_type": "execute_result",
          "data": {
            "text/plain": [
              "<gensim.interfaces.TransformedCorpus at 0x7fbf91012850>"
            ]
          },
          "metadata": {},
          "execution_count": 27
        }
      ]
    },
    {
      "cell_type": "code",
      "metadata": {
        "colab": {
          "base_uri": "https://localhost:8080/"
        },
        "id": "pw3QzJS8sKWX",
        "outputId": "ec59271a-09a2-4303-9320-7f3b565138ba"
      },
      "source": [
        "len(topic_2020_2)"
      ],
      "execution_count": 28,
      "outputs": [
        {
          "output_type": "execute_result",
          "data": {
            "text/plain": [
              "559"
            ]
          },
          "metadata": {},
          "execution_count": 28
        }
      ]
    },
    {
      "cell_type": "code",
      "metadata": {
        "id": "WK_VR0YHpbTP"
      },
      "source": [
        "show_2020_2 = pyLDAvis.gensim_models.prepare(lda_model, d2bow_2, dict_w_id, mds=\"mmds\")"
      ],
      "execution_count": 29,
      "outputs": []
    },
    {
      "cell_type": "markdown",
      "metadata": {
        "id": "9TwbCShWsr2o"
      },
      "source": [
        "### 2020.3"
      ]
    },
    {
      "cell_type": "code",
      "metadata": {
        "colab": {
          "base_uri": "https://localhost:8080/",
          "height": 49,
          "referenced_widgets": [
            "d85ced9d0ed444bb979f84a3592eb088",
            "543fcfa344f242c0b50f793b8bae9890",
            "52dc2624cbee4ab08f6489077c4eb6b8",
            "403b4e1edce7464685550ad608d0fa76",
            "325355b70a3f4ecb8c1cadf5217a4a12",
            "24cd758bbd3d4c38b6e5b01d22cee1bb",
            "426ac095d268461d9556e5ea5c151bae",
            "b6cb09dd8947409892911c23fa380201",
            "94d3a466bb164ec3aefbbc7d42589f04",
            "85bcdb7f418d46dc8ea7051b8ec307a8",
            "29c11d9ee47e4698870c2bbdea5aca67"
          ]
        },
        "id": "WF0zoK3rso9P",
        "outputId": "d838c993-047b-47bb-dabb-7e3ce343bf0e"
      },
      "source": [
        "df_2020_3 = df.copy()\n",
        "for i in tq.tqdm(range(len(df_2020_3['Affected versions']))):  \n",
        "  if df_2020_3.loc[(i, 'Affected versions')] != ['2020.3']:\n",
        "    df_2020_3 = df_2020_3.drop(i)"
      ],
      "execution_count": 30,
      "outputs": [
        {
          "output_type": "display_data",
          "data": {
            "application/vnd.jupyter.widget-view+json": {
              "model_id": "d85ced9d0ed444bb979f84a3592eb088",
              "version_minor": 0,
              "version_major": 2
            },
            "text/plain": [
              "  0%|          | 0/2185 [00:00<?, ?it/s]"
            ]
          },
          "metadata": {}
        }
      ]
    },
    {
      "cell_type": "code",
      "metadata": {
        "colab": {
          "base_uri": "https://localhost:8080/",
          "height": 423
        },
        "id": "opWrrhh1so9P",
        "outputId": "538ec7fa-220b-4e0a-9e45-155d3b942052"
      },
      "source": [
        "df_2020_3"
      ],
      "execution_count": 31,
      "outputs": [
        {
          "output_type": "execute_result",
          "data": {
            "text/html": [
              "<div>\n",
              "<style scoped>\n",
              "    .dataframe tbody tr th:only-of-type {\n",
              "        vertical-align: middle;\n",
              "    }\n",
              "\n",
              "    .dataframe tbody tr th {\n",
              "        vertical-align: top;\n",
              "    }\n",
              "\n",
              "    .dataframe thead th {\n",
              "        text-align: right;\n",
              "    }\n",
              "</style>\n",
              "<table border=\"1\" class=\"dataframe\">\n",
              "  <thead>\n",
              "    <tr style=\"text-align: right;\">\n",
              "      <th></th>\n",
              "      <th>idReadable</th>\n",
              "      <th>created</th>\n",
              "      <th>summary</th>\n",
              "      <th>description</th>\n",
              "      <th>Affected versions</th>\n",
              "      <th>cleaned_summary</th>\n",
              "    </tr>\n",
              "  </thead>\n",
              "  <tbody>\n",
              "    <tr>\n",
              "      <th>0</th>\n",
              "      <td>PY-22211</td>\n",
              "      <td>1484097590051</td>\n",
              "      <td>Running subprocesses with Popen inside unittes...</td>\n",
              "      <td>I have the following unittest:\\n\\n```\\nclass M...</td>\n",
              "      <td>[2020.3]</td>\n",
              "      <td>running subprocesses with popen inside unittes...</td>\n",
              "    </tr>\n",
              "    <tr>\n",
              "      <th>4</th>\n",
              "      <td>PY-23007</td>\n",
              "      <td>1488923938785</td>\n",
              "      <td>Project requirements are not detected from set...</td>\n",
              "      <td>Since setuptools 30.3.0 it's possible to speci...</td>\n",
              "      <td>[2020.3]</td>\n",
              "      <td>project requirements are not detected from set...</td>\n",
              "    </tr>\n",
              "    <tr>\n",
              "      <th>33</th>\n",
              "      <td>PY-29891</td>\n",
              "      <td>1525391390656</td>\n",
              "      <td>PyCharm doesn't infer AsyncContextManager type...</td>\n",
              "      <td>**What steps will reproduce the problem?**\\nCo...</td>\n",
              "      <td>[2020.3]</td>\n",
              "      <td>pycharm does not infer asynccontextmanager typ...</td>\n",
              "    </tr>\n",
              "    <tr>\n",
              "      <th>35</th>\n",
              "      <td>PY-30438</td>\n",
              "      <td>1528901580665</td>\n",
              "      <td>pytest-bdd: support multiline steps</td>\n",
              "      <td>`pytest-bdd` supports multiline steps, e.g.:\\n...</td>\n",
              "      <td>[2020.3]</td>\n",
              "      <td>pytestbdd support multiline steps</td>\n",
              "    </tr>\n",
              "    <tr>\n",
              "      <th>37</th>\n",
              "      <td>PY-31032</td>\n",
              "      <td>1532615350942</td>\n",
              "      <td>\"Choose symbol\" window (used to search modules...</td>\n",
              "      <td>See attachmenet</td>\n",
              "      <td>[2020.3]</td>\n",
              "      <td>choose symbol window used to search modules fo...</td>\n",
              "    </tr>\n",
              "    <tr>\n",
              "      <th>...</th>\n",
              "      <td>...</td>\n",
              "      <td>...</td>\n",
              "      <td>...</td>\n",
              "      <td>...</td>\n",
              "      <td>...</td>\n",
              "      <td>...</td>\n",
              "    </tr>\n",
              "    <tr>\n",
              "      <th>1278</th>\n",
              "      <td>PY-48400</td>\n",
              "      <td>1618945708109</td>\n",
              "      <td>Pycharm throws permissiondenied error when run...</td>\n",
              "      <td>I am running on Pycharm CE 2020.03, MAC OS CAT...</td>\n",
              "      <td>[2020.3]</td>\n",
              "      <td>pycharm throws permissiondenied error when run...</td>\n",
              "    </tr>\n",
              "    <tr>\n",
              "      <th>1369</th>\n",
              "      <td>PY-48646</td>\n",
              "      <td>1620141624419</td>\n",
              "      <td>Render math formulas between $$ in Quick Docum...</td>\n",
              "      <td>Because of its widely used in deep learning de...</td>\n",
              "      <td>[2020.3]</td>\n",
              "      <td>render math formulas between $$ in quick docum...</td>\n",
              "    </tr>\n",
              "    <tr>\n",
              "      <th>1574</th>\n",
              "      <td>PY-49475</td>\n",
              "      <td>1624905893573</td>\n",
              "      <td>Import module suggest: put top level modules t...</td>\n",
              "      <td>Hi,\\n\\neverytime I use `time` module PyCharm s...</td>\n",
              "      <td>[2020.3]</td>\n",
              "      <td>import module suggest put top level modules to...</td>\n",
              "    </tr>\n",
              "    <tr>\n",
              "      <th>1610</th>\n",
              "      <td>PY-49584</td>\n",
              "      <td>1625488777732</td>\n",
              "      <td>Spell checker finds typo in Unicode character</td>\n",
              "      <td>One picture worth thousand words.\\n\\nHi!</td>\n",
              "      <td>[2020.3]</td>\n",
              "      <td>spell checker finds typo in unicode character</td>\n",
              "    </tr>\n",
              "    <tr>\n",
              "      <th>1741</th>\n",
              "      <td>PY-50180</td>\n",
              "      <td>1628340512354</td>\n",
              "      <td>JS to TXT Interpretation switch after file rename</td>\n",
              "      <td># Steps to Reproduce\\n\\n1. Create a js file wi...</td>\n",
              "      <td>[2020.3]</td>\n",
              "      <td>js to txt interpretation switch after file rename</td>\n",
              "    </tr>\n",
              "  </tbody>\n",
              "</table>\n",
              "<p>475 rows × 6 columns</p>\n",
              "</div>"
            ],
            "text/plain": [
              "     idReadable  ...                                    cleaned_summary\n",
              "0      PY-22211  ...  running subprocesses with popen inside unittes...\n",
              "4      PY-23007  ...  project requirements are not detected from set...\n",
              "33     PY-29891  ...  pycharm does not infer asynccontextmanager typ...\n",
              "35     PY-30438  ...                  pytestbdd support multiline steps\n",
              "37     PY-31032  ...  choose symbol window used to search modules fo...\n",
              "...         ...  ...                                                ...\n",
              "1278   PY-48400  ...  pycharm throws permissiondenied error when run...\n",
              "1369   PY-48646  ...  render math formulas between $$ in quick docum...\n",
              "1574   PY-49475  ...  import module suggest put top level modules to...\n",
              "1610   PY-49584  ...      spell checker finds typo in unicode character\n",
              "1741   PY-50180  ...  js to txt interpretation switch after file rename\n",
              "\n",
              "[475 rows x 6 columns]"
            ]
          },
          "metadata": {},
          "execution_count": 31
        }
      ]
    },
    {
      "cell_type": "code",
      "metadata": {
        "colab": {
          "base_uri": "https://localhost:8080/",
          "height": 66,
          "referenced_widgets": [
            "9c345942568a423b8c44e2b858b764ce",
            "b1885a1bb8e44204ab761388a4c71831",
            "b47aa19089134308982b0e9c9765c12d",
            "a64bf3b8846446f1a7381dd2fa3a448c",
            "7d68e781697d4b979eae166816dca57d",
            "089b3ee46bc642299cf80461aaa0d0b3",
            "7c2b5ffac7924d47a45a4c285ab0db0c",
            "d91b12ef1c704eb6946066c2b267c4ab",
            "59387465257c455093b74d91a1a7651c",
            "b2e66976ab58428ea784f4502c1210cf",
            "edd6abfbe1244684a373e0c48b2b2e2c"
          ]
        },
        "id": "QcyZdDr0so9Q",
        "outputId": "698dea78-6291-4f9b-c8ee-1dfe74888cf4"
      },
      "source": [
        "list_summary = df_2020_3['cleaned_summary'].tolist()\n",
        "final_out = []\n",
        "for text in tq.tqdm(list_summary):\n",
        "  preprocess_text = simple_preprocess(str(text), deacc=True)\n",
        "  tmp = []\n",
        "  for word in preprocess_text:\n",
        "    if word not in stop_words:\n",
        "      tmp.append(word)\n",
        "  final_out.append(tmp)\n",
        "# dict_w_id = Dictionary(final_out)\n",
        "d2bow_3 = [dict_w_id.doc2bow(text) for text in final_out]\n",
        "topic_2020_3 = lda_model.get_document_topics(d2bow_3)\n",
        "topic_2020_3"
      ],
      "execution_count": 32,
      "outputs": [
        {
          "output_type": "display_data",
          "data": {
            "application/vnd.jupyter.widget-view+json": {
              "model_id": "9c345942568a423b8c44e2b858b764ce",
              "version_minor": 0,
              "version_major": 2
            },
            "text/plain": [
              "  0%|          | 0/475 [00:00<?, ?it/s]"
            ]
          },
          "metadata": {}
        },
        {
          "output_type": "execute_result",
          "data": {
            "text/plain": [
              "<gensim.interfaces.TransformedCorpus at 0x7fbf910c9310>"
            ]
          },
          "metadata": {},
          "execution_count": 32
        }
      ]
    },
    {
      "cell_type": "code",
      "metadata": {
        "colab": {
          "base_uri": "https://localhost:8080/"
        },
        "id": "FRY-nCd2so9Q",
        "outputId": "e3154614-0500-45d6-cc60-bdfb3f31e031"
      },
      "source": [
        "len(topic_2020_3)"
      ],
      "execution_count": 33,
      "outputs": [
        {
          "output_type": "execute_result",
          "data": {
            "text/plain": [
              "475"
            ]
          },
          "metadata": {},
          "execution_count": 33
        }
      ]
    },
    {
      "cell_type": "code",
      "metadata": {
        "id": "gtEdZzm5tBR3"
      },
      "source": [
        "show_2020_3 = pyLDAvis.gensim_models.prepare(lda_model, d2bow_3, dict_w_id, mds=\"mmds\")"
      ],
      "execution_count": 34,
      "outputs": []
    },
    {
      "cell_type": "markdown",
      "metadata": {
        "id": "C9chy30ntO2_"
      },
      "source": [
        "### Сравнение"
      ]
    },
    {
      "cell_type": "code",
      "metadata": {
        "colab": {
          "base_uri": "https://localhost:8080/",
          "height": 861
        },
        "id": "WkvlBbHBtOWP",
        "outputId": "028da28a-0419-4f9f-9394-d05729a4e60b"
      },
      "source": [
        "show_2020_2"
      ],
      "execution_count": 35,
      "outputs": [
        {
          "output_type": "execute_result",
          "data": {
            "text/html": [
              "\n",
              "<link rel=\"stylesheet\" type=\"text/css\" href=\"https://cdn.jsdelivr.net/gh/bmabey/pyLDAvis@3.3.1/pyLDAvis/js/ldavis.v1.0.0.css\">\n",
              "\n",
              "\n",
              "<div id=\"ldavis_el18261404606356779048312958598\"></div>\n",
              "<script type=\"text/javascript\">\n",
              "\n",
              "var ldavis_el18261404606356779048312958598_data = {\"mdsDat\": {\"x\": [-0.42729230399002427, -0.1421082581915915, -0.4424901955748643, 0.47323639279508245, 0.10309104487639596, 0.45485253286135047, 0.15706648530832457, -0.42626826859268974, -0.2720182888957579, 0.10758747229342788, 0.2231583938774643, -0.29347990977370897, -0.2296224702128354, 0.2081729014283906, 0.4019007625640553, -0.33082471871600083, -0.01945837463384774, -0.260290714106123, -0.1611175935466565, -0.350289309411917, 0.234233854885662, -0.0067325421051510495, 0.21803392298141472, 0.1314319299089502, -0.37746041269398256, -0.02249675076151741, 0.2566150854911624, 0.3131264725117718, 0.05238112742119849, 0.3627601544439798, -0.2072266578943459, -0.3134666929233233, 0.09275615460816583, -0.1175670449640837, -0.37640524283739873, 0.22092469046793192, -0.014151382533448581, -0.11178285350359415, 0.3270112745624571, 0.11194051706745871, -0.17932224036406694, 0.07352637558708168, -0.1394357021563437, 0.3148452943001012, -0.05052947317423339, -0.030199025232478825, 0.2887196516128205, 0.011397876166434371, -0.14255072081911915, 0.30581677958802306], \"y\": [0.26910672091869364, -0.4227818465877698, -0.22642142540574509, 0.03417624010889909, 0.4510355525137414, -0.18629346990402323, -0.1790129437020604, 0.08765938623427147, -0.2041877106488712, 0.35362967308747045, 0.3706265976635481, 0.27991082887015584, 0.37560709984505186, -0.4063969332260327, 0.1285371619543138, -0.31407262067576486, -0.4586929631410667, -0.05030365800559234, -0.12482199537678661, 0.06947872066087155, -0.3171388872042203, -0.3344569343586359, -0.0516216140503038, -0.30096751927502563, -0.12273517702591219, 0.42752837443281794, 0.08954739947244235, -0.2477302992575638, 0.010637511451240011, -0.07999381835470563, -0.34100792846213784, 0.17294178576858385, 0.11977134480244502, 0.028507368223202715, -0.023679262439690853, 0.20756407574825905, 0.3040899514576058, 0.3672044371210029, 0.19024820017089333, 0.21374540338198883, 0.30265720897282994, -0.367008228970844, -0.25098313608669154, 0.010648902225686804, 0.18424321701692808, -0.1950887396619015, -0.1611722103632457, -0.08881588100763076, 0.10663732039828429, 0.29964472069099374], \"topics\": [1, 2, 3, 4, 5, 6, 7, 8, 9, 10, 11, 12, 13, 14, 15, 16, 17, 18, 19, 20, 21, 22, 23, 24, 25, 26, 27, 28, 29, 30, 31, 32, 33, 34, 35, 36, 37, 38, 39, 40, 41, 42, 43, 44, 45, 46, 47, 48, 49, 50], \"cluster\": [1, 1, 1, 1, 1, 1, 1, 1, 1, 1, 1, 1, 1, 1, 1, 1, 1, 1, 1, 1, 1, 1, 1, 1, 1, 1, 1, 1, 1, 1, 1, 1, 1, 1, 1, 1, 1, 1, 1, 1, 1, 1, 1, 1, 1, 1, 1, 1, 1, 1], \"Freq\": [4.449016204904059, 4.181107004765865, 3.90437090138052, 3.2829325666647637, 3.255642795741253, 3.097047384455202, 2.9757202817008834, 2.5959765703406705, 2.5042385181378504, 2.3029272533790115, 2.278527612699634, 2.196997050792322, 2.1325073220076445, 2.122746808845504, 2.065148881921615, 2.0549615902592238, 2.052247391913351, 2.0520938298790816, 2.003231633821389, 1.972602544571337, 1.9460881623952744, 1.940393772169836, 1.9310115704932778, 1.9297622457248038, 1.9238313435517271, 1.8231841095263652, 1.7780193202297196, 1.7644944846757888, 1.700528328310796, 1.6350667974779916, 1.62990708436897, 1.6250506571948715, 1.6025516968534135, 1.5664073544686223, 1.545090919085437, 1.5306939404831268, 1.5251746422713535, 1.5142020541881673, 1.5108176503341757, 1.4479248137752014, 1.434415401341161, 1.4180089503349775, 1.3479668784728176, 1.3151894988055146, 1.2907254957813434, 1.2224212690917358, 1.216801988000648, 1.2163222445688628, 1.187151111363641, 1.0007520664791967]}, \"tinfo\": {\"Term\": [\"python\", \"pycharm\", \"error\", \"code\", \"false\", \"interpreter\", \"type\", \"project\", \"work\", \"debugger\", \"console\", \"cannot\", \"file\", \"run\", \"incorrect\", \"jupyter\", \"inspection\", \"completion\", \"import\", \"module\", \"new\", \"django\", \"using\", \"window\", \"class\", \"wrong\", \"instead\", \"warning\", \"positive\", \"string\", \"interpreter\", \"using\", \"wsl\", \"docker\", \"compose\", \"ssh\", \"dockercompose\", \"sciview\", \"opened\", \"docstrings\", \"time\", \"google\", \"breakpoints\", \"handle\", \"integration\", \"problem\", \"information\", \"could\", \"flask\", \"app\", \"valid\", \"wslbased\", \"dialog\", \"engine\", \"response\", \"permission\", \"word\", \"experimental\", \"graph\", \"recognizes\", \"remote\", \"python\", \"debugger\", \"failed\", \"enabled\", \"services\", \"cpu\", \"connection\", \"ignored\", \"extension\", \"final\", \"rest\", \"crash\", \"links\", \"mapped\", \"gets\", \"appearing\", \"high\", \"ipynb\", \"silently\", \"lost\", \"framework\", \"extremely\", \"crashes\", \"restartpy\", \"creates\", \"professional\", \"excel\", \"font\", \"request\", \"flag\", \"caused\", \"console\", \"issue\", \"slow\", \"save\", \"python\", \"auto\", \"always\", \"managepy\", \"hidden\", \"queue\", \"causing\", \"profiler\", \"matlabengine\", \"tools\", \"evaluates\", \"database\", \"integrated\", \"scrollable\", \"interact\", \"pgcli\", \"invoked\", \"properties\", \"complex\", \"executing\", \"insert\", \"overwritten\", \"runserver\", \"ipython\", \"stay\", \"broke\", \"project\", \"module\", \"files\", \"imports\", \"root\", \"external\", \"automatically\", \"interpreters\", \"number\", \"base\", \"exceptions\", \"link\", \"editable\", \"projectfiles\", \"treating\", \"library\", \"inspect\", \"actually\", \"readonly\", \"switches\", \"venvs\", \"nukes\", \"collectionsabc\", \"microsoft\", \"side\", \"masks\", \"remoter\", \"trigger\", \"entire\", \"populate\", \"local\", \"jupyter\", \"window\", \"call\", \"tool\", \"installed\", \"statement\", \"notebook\", \"server\", \"available\", \"called\", \"cant\", \"got\", \"rendering\", \"examples\", \"anymore\", \"stripped\", \"kernels\", \"pyside\", \"history\", \"pro\", \"token\", \"location\", \"require\", \"exist\", \"across\", \"math\", \"forwarding\", \"hierarchy\", \"port\", \"located\", \"remote\", \"pycharm\", \"settings\", \"unable\", \"writing\", \"language\", \"breaking\", \"existing\", \"even\", \"resolved\", \"infer\", \"setup\", \"randomly\", \"required\", \"whole\", \"vagrant\", \"well\", \"slowly\", \"azure\", \"toolkit\", \"djangotest\", \"metaclasses\", \"reopen\", \"office\", \"shut\", \"visuals\", \"bounded\", \"customized\", \"detecting\", \"closes\", \"bracketed\", \"rename\", \"command\", \"values\", \"correct\", \"toolbar\", \"within\", \"inconsistent\", \"constructor\", \"bracket\", \"content\", \"members\", \"declarations\", \"closing\", \"appears\", \"character\", \"pipenv\", \"folding\", \"wizard\", \"suggested\", \"cells\", \"point\", \"dataframes\", \"jython\", \"unit\", \"sftp\", \"detect\", \"notification\", \"automatic\", \"config\", \"updates\", \"false\", \"positive\", \"highlighting\", \"level\", \"attributes\", \"instance\", \"open\", \"keeps\", \"showing\", \"performance\", \"separator\", \"conditions\", \"asking\", \"access\", \"py\", \"expressions\", \"renaming\", \"forever\", \"typingprotocol\", \"global\", \"allowed\", \"trivially\", \"stdin\", \"undefined\", \"thread\", \"release\", \"varying\", \"rst\", \"identifier\", \"caret\", \"string\", \"line\", \"preview\", \"message\", \"different\", \"better\", \"macos\", \"display\", \"properly\", \"characters\", \"behavior\", \"libraries\", \"redeclared\", \"blank\", \"clickable\", \"rendered\", \"print\", \"quoted\", \"double\", \"upgrade\", \"helper\", \"became\", \"brown\", \"newline\", \"give\", \"panel\", \"assertion\", \"tree\", \"swing\", \"stack\", \"cannot\", \"creating\", \"none\", \"get\", \"intellij\", \"checker\", \"popup\", \"system\", \"target\", \"pandas\", \"infers\", \"markdown\", \"issues\", \"copies\", \"raise\", \"orange\", \"torch\", \"supported\", \"diff\", \"latter\", \"viewer\", \"latest\", \"pyramid\", \"theme\", \"projectjdktable\", \"nearby\", \"configurable\", \"doublynested\", \"path_or_buf\", \"hvplot\", \"type\", \"use\", \"environment\", \"path\", \"shows\", \"terminal\", \"importing\", \"eap\", \"directory\", \"conda\", \"previous\", \"runs\", \"highlights\", \"bin\", \"raises\", \"changed\", \"activation\", \"environments\", \"submitted\", \"activate\", \"float\", \"makes\", \"integer\", \"unactivated\", \"activated\", \"managing\", \"party\", \"third\", \"pymc\", \"theano\", \"comm\", \"code\", \"working\", \"inspections\", \"displayed\", \"incomplete\", \"insight\", \"analysis\", \"sync\", \"injection\", \"unreachable\", \"except\", \"block\", \"datetime\", \"certain\", \"paste\", \"keys\", \"typo\", \"typechecking\", \"userdefined\", \"regex\", \"column\", \"fstrings\", \"hard\", \"section\", \"wrap\", \"index\", \"keras\", \"tensorflowkeras\", \"tips\", \"dynamically\", \"documentation\", \"pytest\", \"strings\", \"view\", \"change\", \"exception\", \"dataframe\", \"tuple\", \"color\", \"found\", \"loading\", \"clone\", \"formatted\", \"true\", \"git\", \"horizontal\", \"needlessly\", \"wastes\", \"failure\", \"launch\", \"enable\", \"scheme\", \"condition\", \"commit\", \"state\", \"customize\", \"edition\", \"wo\", \"cause\", \"branch\", \"import\", \"str\", \"quick\", \"generic\", \"classes\", \"missing\", \"expected\", \"install\", \"extended\", \"component\", \"removes\", \"folded\", \"fix\", \"autoimport\", \"parentheses\", \"inherited\", \"typesdict\", \"eg\", \"needless\", \"takes\", \"clause\", \"minor\", \"prioritize\", \"irrelevant\", \"parameterized\", \"typematching\", \"variants\", \"disable\", \"confusing\", \"optimize\", \"type\", \"wrong\", \"functions\", \"value\", \"disabled\", \"return\", \"menu\", \"field\", \"right\", \"second\", \"ignore\", \"understand\", \"classdecorated\", \"context\", \"click\", \"annotating\", \"shadowing\", \"traceback\", \"builtins\", \"overloads\", \"kwargs\", \"statements\", \"position\", \"overloaded\", \"checkbox\", \"cleared\", \"remains\", \"tip\", \"linux\", \"wild\", \"tempfile\", \"type\", \"run\", \"fails\", \"typing\", \"configuration\", \"literal\", \"autocomplete\", \"operator\", \"recognize\", \"fail\", \"walrus\", \"initializing\", \"stubs\", \"namedtuple\", \"parenteses\", \"lag\", \"doctest\", \"flags\", \"effect\", \"emulated\", \"passing\", \"frameworks\", \"misnamed\", \"web\", \"flask_debug\", \"multicursor\", \"keywords\", \"initialized\", \"assigning\", \"autotest\", \"enumunique\", \"completion\", \"django\", \"parameter\", \"syntax\", \"methods\", \"empty\", \"configured\", \"passed\", \"size\", \"ospath\", \"provide\", \"render\", \"saved\", \"abstract\", \"item\", \"inserts\", \"epydoc\", \"tensorrt\", \"info\", \"implement\", \"basic\", \"invoke\", \"highlighing\", \"formulas\", \"strict\", \"unless\", \"sporadically\", \"particular\", \"xmldomminidom\", \"active\", \"need\", \"created\", \"bug\", \"subclasses\", \"venv\", \"marked\", \"ignores\", \"mainpy\", \"given\", \"stub\", \"comments\", \"termios\", \"present\", \"attached\", \"inconsistently\", \"typechecker\", \"tag\", \"temporary\", \"actual\", \"regression\", \"deletion\", \"adjacent\", \"fill\", \"paragraph\", \"text\", \"orm\", \"carets\", \"nonascii\", \"interface\", \"extra\", \"find\", \"warning\", \"test\", \"unexpected\", \"button\", \"dict\", \"case\", \"result\", \"runner\", \"itemsview\", \"autodetect\", \"able\", \"unittest\", \"exists\", \"export\", \"suite\", \"every\", \"sphinx\", \"inferring\", \"keyvalue\", \"pair\", \"resets\", \"gives\", \"goes\", \"unicode\", \"pymongo\", \"referenceerror\", \"several\", \"tablecolumns\", \"capture\", \"preserve\", \"type\", \"error\", \"broken\", \"report\", \"unused\", \"usages\", \"terminated\", \"targets\", \"profiling\", \"insighte\", \"solution\", \"skeletons\", \"uncalled\", \"part\", \"read\", \"configuring\", \"implementations\", \"unqualified\", \"local\", \"compile\", \"extensions\", \"flagging\", \"box\", \"identification\", \"unpacked\", \"refresh\", \"prefer\", \"removing\", \"rather\", \"json\", \"distribution\", \"find\", \"incorrect\", \"inferred\", \"declaration\", \"updating\", \"stuck\", \"sometimes\", \"go\", \"profile\", \"doc\", \"collection\", \"startup\", \"pytestxdist\", \"regions\", \"mismatch\", \"loads\", \"inferrence\", \"conversion\", \"propose\", \"improve\", \"fewer\", \"inferencer\", \"succeeds\", \"jumps\", \"task\", \"skeleton\", \"screen\", \"spinner\", \"cores\", \"reindex\", \"unusable\", \"type\", \"work\", \"union\", \"based\", \"iterable\", \"clicking\", \"metaclass\", \"generics\", \"hints\", \"manager\", \"lists\", \"vmprof\", \"sources\", \"source\", \"pyroute\", \"ubuntu\", \"selecting\", \"typeinference\", \"wrapping\", \"evaluate\", \"throws\", \"altclick\", \"buttons\", \"perceived\", \"sorting\", \"loses\", \"downloaded\", \"crazy\", \"unified\", \"array\", \"exploding\", \"type\", \"inspection\", \"template\", \"optional\", \"assignment\", \"left\", \"tags\", \"hangs\", \"form\", \"unbound\", \"range\", \"erronious\", \"referenced\", \"generates\", \"paths\", \"marks\", \"sql\", \"chosen\", \"indication\", \"backslashes\", \"try\", \"possibly\", \"relative\", \"autoindentation\", \"conflicts\", \"potential\", \"admin\", \"shadowed\", \"equality\", \"meaningful\", \"addition\", \"breaks\", \"annotations\", \"refactoring\", \"decorator\", \"stopped\", \"numpy\", \"super\", \"explicitly\", \"actions\", \"enum\", \"subclass\", \"another\", \"contextual\", \"icons\", \"overload\", \"unfilled\", \"gutter\", \"indentify\", \"switching\", \"also\", \"body\", \"providing\", \"triple\", \"shape\", \"defintion\", \"hinted\", \"propagate\", \"moving\", \"picks\", \"staticmethod\", \"class\", \"type\", \"inference\", \"running\", \"allow\", \"selection\", \"keyword\", \"cython\", \"warnings\", \"generator\", \"execute\", \"checking\", \"classmethod\", \"something\", \"rerun\", \"check\", \"yield\", \"model\", \"key\", \"resolve\", \"speedups\", \"reports\", \"program\", \"helpers\", \"submodule\", \"parametrized\", \"enumeratels\", \"translate\", \"reset\", \"apple\", \"protocol\", \"swap\", \"type\", \"windows\", \"typevar\", \"pep\", \"formatting\", \"errors\", \"attach\", \"due\", \"problems\", \"table\", \"current\", \"executed\", \"parse\", \"indentation\", \"blocks\", \"ca\", \"subtype\", \"dataclass\", \"big\", \"extending\", \"reused\", \"service\", \"sur\", \"resize\", \"installation\", \"copypasting\", \"treated\", \"annotated\", \"miniforge\", \"protocols\", \"operations\", \"instead\", \"invalid\", \"parameters\", \"changing\", \"lines\", \"feature\", \"shown\", \"wrongly\", \"completely\", \"chained\", \"tuples\", \"typeddict\", \"thats\", \"parametersinfo\", \"parametertypes\", \"generators\", \"unpack\", \"diagram\", \"anystr\", \"confusion\", \"emailmessage\", \"iterating\", \"subscription\", \"cached\", \"provides\", \"pyenv\", \"despite\", \"way\", \"total\", \"calculated\", \"type\", \"file\", \"debugging\", \"script\", \"object\", \"stop\", \"poetry\", \"produces\", \"copy\", \"bad\", \"started\", \"iterator\", \"launched\", \"although\", \"higher\", \"old\", \"predefined\", \"children\", \"pdf\", \"tracebacks\", \"npe\", \"subprocess\", \"locate\", \"ones\", \"logic\", \"simple\", \"clash\", \"escape\", \"analyze\", \"priority\", \"rich\", \"update\", \"longer\", \"freezes\", \"uses\", \"breakpoint\", \"items\", \"hit\", \"references\", \"navigate\", \"included\", \"multithreaded\", \"upgrading\", \"since\", \"getting\", \"drf\", \"mac\", \"folders\", \"fine\", \"multiprocessing\", \"today\", \"pypi\", \"permissions\", \"flaskbased\", \"severe\", \"fullyqualified\", \"permanent\", \"drives\", \"mounted\", \"network\", \"toplevel\", \"method\", \"multiple\", \"idea\", \"create\", \"comment\", \"causes\", \"namespace\", \"additional\", \"session\", \"static\", \"must\", \"resolution\", \"superclass\", \"multiproject\", \"typeerror\", \"bytes\", \"drive\", \"nonnative\", \"arg\", \"extract\", \"someclassget\", \"untyped\", \"magic\", \"setupclass\", \"usually\", \"simultaneously\", \"assignments\", \"images\", \"declaring\", \"ordering\", \"types\", \"output\", \"variables\", \"docstring\", \"executable\", \"show\", \"plot\", \"currently\", \"incorreclty\", \"qualified\", \"password\", \"inherit\", \"pid\", \"clear\", \"detected\", \"track\", \"powershell\", \"mixes\", \"parallel\", \"misinterprets\", \"connected\", \"tried\", \"duplication\", \"terraform\", \"separate\", \"real\", \"setupcfg\", \"prompt\", \"post\", \"alongside\", \"name\", \"variable\", \"modules\", \"warn\", \"custom\", \"signature\", \"format\", \"autocompletion\", \"introduce\", \"builtin\", \"validate\", \"changes\", \"renders\", \"binary\", \"pydevd\", \"submodules\", \"subscripted\", \"many\", \"falsepositive\", \"objects\", \"override\", \"shadows\", \"enter\", \"outer\", \"rescan\", \"assumed\", \"resolving\", \"accurate\", \"differs\", \"typeshed\", \"incorrectly\", \"option\", \"first\", \"reported\", \"action\", \"finished\", \"creation\", \"see\", \"start\", \"parsed\", \"exit\", \"virtual\", \"step\", \"integrate\", \"panels\", \"trying\", \"difference\", \"xc\", \"comprehensions\", \"extern\", \"volume\", \"steps\", \"distinguish\", \"image\", \"failing\", \"uncorrectly\", \"trailing\", \"fastapifastapi\", \"uvicornrun\", \"apscheduler\", \"ctrlc\", \"process\", \"property\", \"one\", \"sdk\", \"memory\", \"requirementstxt\", \"specific\", \"help\", \"leak\", \"please\", \"widget\", \"dependencies\", \"handling\", \"tabs\", \"notebooks\", \"close\", \"appear\", \"two\", \"intermediary\", \"still\", \"repository\", \"uninstall\", \"antivirus\", \"excessive\", \"unsupported\", \"removed\", \"constantly\", \"freezing\", \"flathub\", \"freeze\", \"systematic\", \"separate\", \"support\", \"cell\", \"mode\", \"ability\", \"plots\", \"scientific\", \"place\", \"numbers\", \"requires\", \"positives\", \"mypy\", \"processing\", \"toolwindow\", \"fstring\", \"pip\", \"last\", \"absolute\", \"outofthebox\", \"universal\", \"switch\", \"inserted\", \"feedback\", \"polars\", \"narrowing\", \"icon\", \"atpublic\", \"autoall\", \"manage\", \"bottom\", \"interpretation\", \"default\", \"suggest\", \"negative\", \"whitespace\", \"recognized\", \"typed\", \"added\", \"structure\", \"unpacking\", \"thinks\", \"main\", \"timeout\", \"quotes\", \"jinja\", \"disabling\", \"teamcity\", \"yaml\", \"raw\", \"cases\", \"scope\", \"mangled\", \"opening\", \"assigned\", \"pysparkstubs\", \"beta\", \"monterey\", \"commands\", \"commenting\", \"ip\", \"retrieve\", \"function\", \"without\", \"nested\", \"hint\", \"defined\", \"user\", \"hinting\", \"definition\", \"outside\", \"ifelse\", \"accepted\", \"calls\", \"works\", \"operators\", \"know\", \"async\", \"raised\", \"dictionary\", \"chain\", \"upper\", \"typingtypeddict\", \"revealed\", \"mistreats\", \"codecompletion\", \"large\", \"amount\", \"foreignkey\", \"classmethods\", \"expecting\", \"returning\", \"type\", \"new\", \"projects\", \"adding\", \"via\", \"twice\", \"scratch\", \"shortcut\", \"copied\", \"loaded\", \"leads\", \"single\", \"possible\", \"deployment\", \"continue\", \"navigation\", \"duplicated\", \"slash\", \"focus\", \"steals\", \"mentioned\", \"opens\", \"inline\", \"greyed\", \"mappings\", \"vcs\", \"minimalist\", \"resembling\", \"choice\", \"fullscreen\", \"passwords\", \"reference\", \"attribute\", \"unresolved\", \"sqlalchemy\", \"int\", \"virtualenv\", \"duplicate\", \"disappear\", \"options\", \"dir\", \"detection\", \"baseformset\", \"is_valid\", \"autodetected\", \"isinstance\", \"arm\", \"tox\", \"moduletype\", \"independent\", \"mixins\", \"evaluation\", \"noheader\", \"nosummary\", \"sysorig_argv\", \"hello\", \"rc\", \"conditional\", \"reading\", \"similar\", \"defines\", \"tests\", \"style\", \"intention\", \"deprecated\", \"contains\", \"awaited\", \"callable\", \"selector\", \"coroutine\", \"ipywidgets\", \"messages\", \"blocktrans\", \"blocktranslate\", \"currentthread\", \"points\", \"pane\", \"noncoroutine\", \"pylab\", \"iter\", \"replace\", \"paramspec\", \"mark\", \"preferences\", \"convert\", \"literals\", \"invert\", \"attributeerror\", \"sysmodulates\", \"tries\", \"xfail\", \"yet\", \"used\", \"ide\", \"match\", \"annotation\", \"refactor\", \"restart\", \"named\", \"calling\", \"standard\", \"returns\", \"decorators\", \"class\", \"member\", \"testcase\", \"renames\", \"responsive\", \"nonproject\", \"queryset\", \"derivatives\", \"qobject\", \"qobjecttr\", \"declared\", \"near\", \"play\", \"unknown\", \"dictionaries\", \"gone\", \"poor\", \"ms\", \"gt\", \"packages\", \"ui\", \"correctly\", \"host\", \"multiline\", \"indexing\", \"space\", \"coverage\", \"highlight\", \"installing\", \"interpretter\", \"stopping\", \"connect\", \"notation\", \"proxy\", \"bundled\", \"status\", \"speedup\", \"connecting\", \"manual\", \"db\", \"makemigrations\", \"postgresql\", \"native\", \"background\", \"ascii\", \"oserror\", \"winerror\", \"alt\", \"yet\", \"remote\", \"vpn\", \"arguments\", \"package\", \"folder\", \"dunder\", \"make\", \"dependency\", \"bar\", \"html\", \"pattern\", \"templates\", \"formatter\", \"parsing\", \"url\", \"comprehension\", \"patterns\", \"lack\", \"tokenizers\", \"private\", \"aware\", \"contributors\", \"dumb\", \"needs\", \"formatteroff\", \"turn\", \"ssl\", \"unrecognized\", \"pyassert\", \"extend\", \"redraw\", \"corresponding\", \"version\", \"usage\", \"names\", \"remove\", \"highlighted\", \"versions\", \"fold\", \"adds\", \"impossible\", \"redundant\", \"explorer\", \"compound\", \"applied\", \"yes\", \"bivariant\", \"inspects\", \"strictness\", \"typeguard\", \"redefined\", \"complete\", \"continuously\", \"increases\", \"selinum\", \"fragments\", \"spaces\", \"much\", \"updated\", \"following\", \"break\", \"redundand\", \"plugin\", \"data\", \"fastapi\", \"expression\", \"reload\", \"checks\", \"input\", \"sets\", \"never\", \"keyboard\", \"cursor\", \"endpoints\", \"account\", \"pyqt\", \"indent\", \"loop\", \"erroneous\", \"odoo\", \"torchutilsdata\", \"include_routers\", \"dev\", \"pydev_monkey\", \"pythonid\", \"taking\", \"parts\", \"stretch\", \"sysversion_info\", \"postfix\", \"registry\", \"vuejs\", \"list\", \"editor\", \"editing\", \"incompatible\", \"plugins\", \"define\", \"select\", \"already\", \"suggestions\", \"page\", \"enums\", \"mount\", \"instances\", \"ligatures\", \"load\", \"containing\", \"datalore\", \"ctrl\", \"append\", \"rewritten\", \"listed\", \"description\", \"parent\", \"exports\", \"spellcheck\", \"wheel\", \"colour\", \"insists\", \"made\", \"title\", \"inside\", \"argument\", \"execution\", \"self\", \"considered\", \"specified\", \"top\", \"bound\", \"decorated\", \"long\", \"end\", \"client\", \"order\", \"parser\", \"xml\", \"printed\", \"subprocesses\", \"quotation\", \"pin\", \"recognised\", \"incorrectly\", \"returntype\", \"flagged\", \"dynamic\", \"modifer\", \"popular\", \"commented\", \"prefixes\", \"spellchecker\", \"expressiononly\", \"move\", \"search\", \"setting\", \"cls\", \"printing\", \"results\", \"disappears\", \"matching\", \"seems\", \"configurations\", \"mouse\", \"whether\", \"hover\", \"narrowed\", \"tab\", \"checked\", \"resolves\", \"pythonpath\", \"csv\", \"ad\", \"infinitum\", \"brings\", \"ellipses\", \"fatal\", \"nothing\", \"treat\", \"ctrlshiftf\", \"exporting\", \"accepting\", \"nonvalid\", \"show\", \"set\", \"starting\", \"becomes\", \"gherkin\", \"process\", \"matplotlib\", \"hash\", \"newly\", \"element\", \"truncates\", \"watch\", \"dummy\", \"attaching\", \"line_profiler\", \"cucumber\", \"translations\", \"killing\", \"unresponsive\", \"sends\", \"sigint\", \"rider\", \"appending\", \"syspath\", \"lacks\", \"substituted\", \"additive\", \"stacked\", \"directive\", \"dotted\", \"built\", \"debug\", \"add\", \"imported\", \"suggests\", \"compatibility\", \"hide\", \"stops\", \"js\", \"requirements\", \"unhandled\", \"nontoplevel\", \"policy\", \"underscore\", \"quickfix\", \"entrypoint\", \"finishes\", \"overrides\", \"anything\", \"claims\", \"contents\", \"containers\", \"selected\", \"inputs\", \"outputs\", \"signal\", \"tutorial\", \"repl\", \"incompatibility\", \"hides\", \"traitletspy\"], \"Freq\": [72.0, 58.0, 27.0, 28.0, 28.0, 33.0, 54.0, 28.0, 23.0, 27.0, 24.0, 20.0, 16.0, 17.0, 16.0, 17.0, 15.0, 14.0, 15.0, 16.0, 13.0, 13.0, 17.0, 15.0, 13.0, 12.0, 11.0, 12.0, 12.0, 12.0, 33.521831328614205, 17.25659658186149, 12.932119025210937, 11.029778120486881, 5.714300013069992, 5.599574830280683, 4.771624543876252, 3.384949222160771, 2.972023423929926, 2.794733635326837, 2.5081380791061405, 2.295119399532605, 2.2672807005409137, 1.853215086218061, 1.8356258799879106, 1.621343755460999, 1.5604232334613855, 1.444610296734067, 1.4406426204732867, 1.4397047515261838, 1.3870792160052907, 1.3358922163130367, 1.2986427203547661, 1.2214629025948662, 1.153309942170185, 1.0797888785526708, 0.9845083851592172, 0.8263507629929665, 0.794513030420075, 0.7924370707837624, 6.833473686070001, 5.7422755440053335, 27.13147550241404, 10.215394176860064, 8.254809637802042, 5.650729182456764, 5.594956806613256, 4.8282858721502775, 3.664580729967423, 3.3962180130514517, 2.8725142363986613, 2.7364557413109756, 2.659742568975578, 2.4089628680587696, 2.396989406906447, 2.396989406906447, 2.260884804729607, 2.1679738030734934, 2.0622165485773953, 2.056770131046003, 1.9084238851982727, 1.878630527588746, 1.6629414235244002, 1.6609732007185725, 1.629082041052659, 1.5491615355154442, 1.5092609963623014, 1.430911656863151, 1.4256819567508114, 1.3177838951151704, 1.3128022144824105, 1.2298504850839105, 24.59010822509674, 4.449152964945769, 4.353702728555978, 2.9412353624134635, 66.75095580342412, 1.7922399685031647, 1.7839830777547858, 1.700996783192822, 1.4667688983417044, 1.4286049725975232, 1.246142302189479, 1.1412924297984761, 1.0102740334539941, 0.907383246973454, 0.8141333119916708, 0.7333628556437795, 0.7078354882761595, 0.7078354882761595, 0.7078354882761595, 0.7078354882761595, 0.7047653232303084, 0.6475659133643821, 0.6449276188599866, 0.6295624418352985, 0.5541128148931277, 0.48055953413184543, 0.41343072267825975, 0.3986385641280884, 0.39615428808889647, 0.34398561044257425, 28.738755901544543, 16.686985328191067, 11.817299808351097, 6.039263156719304, 5.993036457978424, 3.78465651761477, 3.1405478789909957, 2.3754474348584487, 1.7390135016791668, 1.7073094243483269, 1.5645859422994894, 1.414617424057336, 1.2649551323415302, 1.1610506784341807, 1.1610506784341807, 1.0415757238427934, 0.8774753938934227, 0.8293779012833381, 0.8134750462854549, 0.8134750462854549, 0.8134750462854549, 0.8134750462854549, 0.8134750462854549, 0.7341785397621723, 0.6789218673113323, 0.6701783582206503, 0.6701783582206503, 0.6701783582206503, 0.6695876598723758, 0.5192780411502235, 0.6667341954869519, 17.699750236449006, 14.872921656238034, 8.231563073182238, 7.915917543987079, 6.474118414308672, 6.465582409624158, 5.9361485435218855, 4.485860399563927, 2.971307387287381, 2.8451873361831588, 2.4338467256085687, 1.913296022276065, 1.3247141916254188, 1.2483430359612124, 1.2162159815445437, 1.1421113443850848, 0.8993734596155144, 0.8376599616840906, 0.7842480653657007, 0.7711421340079835, 0.7505468872781437, 0.7049685000691551, 0.6385780295653743, 0.624014023270518, 0.5256209460697513, 0.45208068782783045, 0.39548335257962475, 0.3931006481027959, 0.37356586941390535, 0.34695683896494417, 2.959364578243135, 58.215970004991846, 10.08247745251764, 8.999841707590923, 1.8262694666801318, 1.7881793517168394, 1.7217123622117, 1.6082966688456632, 1.4193822317064158, 1.165796690794943, 1.0762121243325238, 1.0403693992616911, 1.0059864645304308, 0.9903729639921186, 0.9730167388629716, 0.8394372540793706, 0.8179558705441222, 0.6675415889257373, 0.6675415889257373, 0.6675415889257373, 0.667541484483415, 0.664571823710701, 0.5925154466611882, 0.5499514925986083, 0.4824583050551585, 0.4532033316881021, 0.37360303347364243, 0.308111195821762, 0.17341795116784522, 0.14969983085701724, 0.14340716787976818, 8.194653952186028, 4.906640404194682, 4.713894242597862, 4.3298232879261205, 3.5595776247212223, 3.110745090104195, 2.8717984304985196, 2.6418622678980253, 2.480202571846041, 2.3954798158088897, 2.355832625478243, 2.1016147840788895, 2.0315432426843083, 2.005467291845661, 1.8088096573424155, 1.667003862392892, 1.6134486553350373, 1.5464256704447483, 1.5369547640369643, 1.532158899660368, 1.4845485734699138, 1.4723556520129535, 1.4024591223878016, 1.36448989753687, 1.332166909616515, 1.312994892099645, 1.2365490688276939, 1.207706446840446, 1.1890635790140571, 1.170043492586015, 28.193781171498056, 11.982326742467631, 4.143203697196894, 3.18580352820452, 2.8953275181751645, 2.53009751133323, 2.213818601395057, 2.1256384122040575, 1.6527336061504438, 1.3276576004562237, 1.2399400845570003, 1.2193109838668545, 1.1563426808868895, 0.8825346403399228, 0.8538678934313189, 0.7909599962359, 0.7870527049665428, 0.7816816677296365, 0.7300927202504444, 0.7222571707763695, 0.7175621530586865, 0.6929832144161555, 0.5960257583244707, 0.5856113195733587, 0.5487588885018514, 0.4568338908474619, 0.38824491716010834, 0.35871134724326953, 0.3355144973283814, 0.33397863648399206, 11.843049109622088, 10.99937568215941, 5.944424265023348, 5.623193926774816, 4.871686174705333, 3.4640752074659127, 3.2847058546631294, 3.2783983846958162, 2.967315330634737, 2.953529563209392, 2.8871335779365084, 2.668620888055086, 1.9152391701734957, 1.8446344890821271, 1.4017157021900388, 0.8697410604124197, 0.8465492344838434, 0.6743922432065853, 0.6683334389595856, 0.6382716577418606, 0.6175341865412866, 0.519889420209665, 0.519889420209665, 0.46526796158708145, 0.4515794393907876, 0.45014069137105045, 0.38783436835143476, 0.3290158892494165, 0.1995590542535249, 0.18194953939469005, 20.13974586500505, 5.533936617322128, 3.9766356152617206, 3.73873498923844, 2.8483211772771915, 2.363740229684702, 2.279186907698847, 1.8668889877315353, 1.7349725283283335, 1.3976110378262905, 1.3885242665069113, 1.3420739689077585, 1.307303423387715, 1.0893416762212778, 1.0037537403118237, 0.9912294133626397, 0.9042001473369814, 0.7296152995252512, 0.7209464277346879, 0.6944919352801731, 0.6257292122065526, 0.6058285819127909, 0.5821372666159617, 0.576710708043859, 0.5721545469757898, 0.5721545469757898, 0.501936514615702, 0.4715003661599115, 0.3886863636030401, 0.2941333334020404, 7.009187034846155, 9.494476337763759, 6.35807874068921, 6.038908892819375, 5.085508710869849, 4.95272131236864, 4.603151716278637, 4.565235247882218, 3.9667250098412636, 2.99662090282555, 2.7407883972619036, 1.580719749967599, 1.3826013386734797, 1.3103392742640119, 1.2989621515111458, 1.266156951406803, 1.1125126983398366, 0.8670084601315484, 0.7663622171672632, 0.7534507688043282, 0.6636181097295154, 0.6518826088393614, 0.5657626673540572, 0.5202941327386881, 0.428910051326631, 0.428910051326631, 0.428910051326631, 0.428910051326631, 0.3537229866249114, 0.3537229866249114, 0.2409657486962033, 28.53537537258997, 10.87918396494706, 3.8200943111997687, 2.538136808877594, 1.7415349034627905, 1.3863468518247655, 1.2713749666136205, 1.1561954078262184, 1.1050988913864748, 0.9978885745574548, 0.8201854886227626, 0.8109785032591195, 0.6951337666737745, 0.6723058989413135, 0.6124252273554429, 0.5596788432621579, 0.5585459739015599, 0.5214674979489092, 0.5210136611699718, 0.5133984941387866, 0.50880611491984, 0.496836359730356, 0.47371105868648467, 0.4305484804380567, 0.40004183962188933, 0.3860263922761339, 0.3797762178001284, 0.3797762178001284, 0.3797762178001284, 0.33850333573408364, 9.292831818940872, 7.866260073771348, 5.363882629763935, 4.718386380833582, 3.8709143974098934, 3.5292547977492017, 3.4307120389051935, 2.90689013728745, 2.390995852430755, 1.6658404168501386, 1.5975603332161368, 1.3750057034265764, 1.30936950112538, 1.2347886607975351, 1.2282776247810632, 0.984272993869355, 0.984272993869355, 0.984272993869355, 0.9526756490462615, 0.9215471897168545, 0.8447621560789643, 0.7999754650422041, 0.7944998605193058, 0.6443629411857195, 0.6416051465673309, 0.5681391677986694, 0.47429044176814444, 0.46611518586637385, 0.4294399262105794, 0.42269160680662005, 14.82764638407434, 6.828239343186642, 6.557068333967597, 6.196380716860962, 4.094314746358232, 3.7795537134083705, 3.615886245865754, 1.8417874562105743, 1.615558869606144, 1.0774603140641903, 1.0733379027513963, 0.9004370127215968, 0.7882001465376708, 0.7678427922407215, 0.6272933136845953, 0.5631328247380775, 0.5631328247380775, 0.5434898966988199, 0.5293896063991569, 0.4975593753231914, 0.4190302925084909, 0.36901576560035415, 0.32537491595340956, 0.3042247489506553, 0.2799188294498103, 0.17706471372636856, 0.17482436461206846, 0.3015128283962206, 0.14182406367819025, 0.2151843297871302, 5.729276516825072, 12.404735129892925, 10.26930656248406, 6.139716352016683, 3.482149400311481, 3.199449243144262, 2.3358717770318767, 2.2164957269120618, 1.7125447195128023, 1.5636335950361733, 1.4015343763091437, 1.2225051228351402, 0.9771548665090352, 0.9543041667820569, 0.9375951105795765, 0.9357926694481452, 0.895697843188607, 0.7766045453192311, 0.675872732875529, 0.6462054056803938, 0.5640304980748609, 0.5225063104389658, 0.4640649024438016, 0.4627442892544053, 0.38316742911257345, 0.38316742911257345, 0.38316742911257345, 0.36928913383311474, 0.3287138028563589, 0.3262004766026725, 0.31599897040838626, 2.6304461358493043, 16.95401090051635, 7.828836065830268, 6.737047209123267, 5.56506011524124, 5.262418741174739, 2.912384696151206, 2.2380838578134865, 2.048194747576596, 1.6933007220702623, 1.5273497250650063, 1.3051570378800375, 1.1712153706026533, 0.9757943987659061, 0.798110241880015, 0.769396397858621, 0.6794398390116806, 0.5829163558044018, 0.5677814735266207, 0.5390677334550219, 0.39989735683044103, 0.36598065231091703, 0.36598065231091703, 0.36598065231091703, 0.36598065231091703, 0.33568888504870964, 0.3255830245615955, 0.32496802292341287, 0.31142048866787436, 0.3062331859890887, 0.24881265315720197, 14.775566957985493, 13.425976800289385, 9.230470821655162, 7.398065068797434, 4.368330533851195, 3.0616110621740362, 1.401851445453336, 1.1522043959457073, 1.0092839304940016, 0.9855618749862995, 0.7647108206399869, 0.6964995730607485, 0.6897981302713845, 0.6732748486269324, 0.6317696429987113, 0.554754749545043, 0.5459026578382, 0.4030825098637551, 0.35810661019729767, 0.33727808584296265, 0.33228536216697263, 0.18946460861962253, 0.18668108410999923, 0.15423924592419094, 0.15423924592419094, 0.14402382793595447, 0.07265183583342524, 0.060413851922672554, 0.060413851922672554, 0.060413851922672554, 0.060413851922672554, 7.423692436123118, 5.291424249929919, 3.813697758384614, 3.4140119008875636, 3.206291992404533, 2.41706739738962, 2.15607157965503, 1.7189173356161755, 1.5115009521640308, 1.4184303231654103, 1.3423024254051932, 1.3169409921473385, 1.253689309924451, 1.2332073910140096, 1.2132328696244195, 1.193218625624768, 1.1035639334819507, 1.0305890697977065, 0.8868962648715978, 0.8640307817480241, 0.8601870309977988, 0.8057652559319651, 0.8057652559319651, 0.785273925392659, 0.7274102622884909, 0.711828480265181, 0.7118283418588741, 0.6319308791288946, 0.5866026752346324, 5.553759010276815, 11.879845349753172, 8.737328156160213, 5.173728649431341, 4.293453069768775, 3.5706390459017228, 2.7641536501302797, 2.3131807905429884, 2.274998768909096, 1.8403549866281101, 1.8002515553251628, 1.6423827757941498, 1.382399334373911, 1.3585605325598065, 1.1679348324736971, 0.9131336305978952, 0.7943759616248485, 0.6605938445392515, 0.6397753079485528, 0.6397753079485528, 0.6397753079485528, 0.5961970989317488, 0.5893796817964437, 0.4051481644888211, 0.36698681479637907, 0.35806312273783975, 0.35806312273783975, 0.3064687604253853, 0.29529540718306146, 0.29529540718306146, 0.2850718823616262, 1.7279656942844193, 27.717375356869884, 5.631970263885689, 3.7068636754935507, 2.548508723635186, 2.2191310435608673, 1.717169904749356, 0.9548877788261348, 0.9429744056609481, 0.9429743391384946, 0.9429743391384946, 0.8136755774462031, 0.660682781718413, 0.637057864512175, 0.637057864512175, 0.6216192669648816, 0.5443010174483393, 0.5443009509258857, 1.73537177849555, 0.36976439295183755, 0.36976439295183755, 0.36976439295183755, 0.2943878673325895, 0.2553764396602044, 0.23526989502335544, 0.2208146490153671, 0.2108319403895684, 0.20314881320005107, 0.2005905425724441, 0.17317572477195237, 0.14193372054198009, 1.7773031427449961, 16.236693367518793, 2.9394917353062686, 2.330631970466719, 1.8849292883314945, 1.5690202280058057, 1.244054067960923, 1.1897820857008456, 1.179675326887781, 1.0702209665348024, 1.027988956038156, 0.9797612093181151, 0.9087512531541309, 0.8816790527355616, 0.8126697097901323, 0.7007240990180372, 0.6177369773775315, 0.6177369773775315, 0.580721826392634, 0.5239975769260048, 0.5089202616260318, 0.5089202616260318, 0.5089202616260318, 0.5089202288118798, 0.5072888076173696, 0.4878169226403769, 0.46693504636650573, 0.4193903590342984, 0.4193903590342984, 0.4193903590342984, 0.4193903590342984, 12.63124445536991, 22.900485710394445, 6.243170962031563, 2.3461633143357616, 2.044613477705122, 1.9908121683326179, 1.674543620400538, 1.2857729929610096, 1.0966813426900381, 1.0710422993080548, 1.045963521278102, 1.0364071428296215, 0.8954735124865779, 0.7485979415582585, 0.7261452519548052, 0.6938215663120558, 0.6433614329351927, 0.5982319999364905, 0.5804604902855667, 0.5351736830551858, 0.4894388663956204, 0.4064018090073606, 0.3567016524815232, 0.33516039197825165, 0.2854499619578722, 0.2854499619578722, 0.2820753807459019, 0.2765459504128102, 0.2283204002532432, 0.2283204002532432, 0.2283204002532432, 5.228461177929608, 14.962824567156785, 4.9232270357101795, 2.464920565494839, 2.4115748863419215, 1.923687419189582, 1.8941582917355495, 1.8915553201646598, 1.549425925638387, 1.3148507277376313, 1.2991862724830927, 1.1164399816490653, 1.0421713523621698, 0.9836474711334484, 0.939593160606222, 0.8927250854786107, 0.8912962903410921, 0.8321566355915476, 0.807672735432278, 0.7822191352414333, 0.7822191352414333, 0.7549341688570497, 0.7176611814436576, 0.6444283488596185, 0.6444283488596185, 0.6444282837397454, 0.6444282186198721, 0.6444282186198721, 0.5310596313174857, 0.5310596313174857, 0.45687653698401665, 5.713695589037058, 5.332720075135635, 5.15965180753216, 2.856671563993288, 2.5030771195571577, 2.473986067343994, 2.266192316628032, 2.2656826277529625, 2.063019476058032, 1.7242032757337498, 1.6052731816709016, 1.1407912108349172, 1.1359109008094832, 1.1356651672558236, 1.095407815765349, 1.0734147928683004, 0.9972263930954381, 0.9262847561130145, 0.8158810176469278, 0.6818345355249815, 0.5346674369956465, 0.4406080385017943, 0.4406080385017943, 0.36321996309467947, 0.36321996309467947, 0.36321996309467947, 0.36321996309467947, 0.3583870296653958, 0.3153883433723905, 0.3092186480454052, 3.295648526509344, 6.343794946643468, 7.073284461474855, 6.651599438732931, 4.976402394023187, 3.2317960364032845, 3.1910061081023717, 3.181331021533377, 3.004224412308121, 2.311912306733253, 2.0862383563287654, 2.0032790693675846, 1.6662097918661694, 1.3076645574268095, 1.1747636891456825, 1.1700442233352717, 1.134900344627684, 1.0668244637641737, 0.9438043444656979, 0.8719331162208361, 0.8549357340706192, 0.8270188455544552, 0.6177049833287823, 0.6121291314425792, 0.5004910967464444, 0.43248080727101196, 0.40057666303923917, 0.33518123815409195, 0.3320031050857743, 0.2517537123743118, 0.22470590975017748, 0.22470590975017748, 5.649164243531448, 6.375012784763643, 4.099495144476037, 3.583250911029821, 3.0630668093249938, 2.6281316685494733, 2.2429849528353136, 2.2349987267453066, 2.216442734237158, 2.215229294163001, 2.1304276878131203, 2.050203780453981, 1.5040346244169083, 1.236448831006814, 1.231505673574606, 4.105767208158895, 1.0467024884826146, 0.9542892140550783, 0.9051133499715667, 0.888755149766357, 0.888755149766357, 0.845065466155941, 0.7726762893283003, 0.7264637496901747, 0.6256897526438672, 0.6226947641511469, 0.5807036876003544, 0.5675837664418496, 0.42275625665871625, 0.366975917878923, 0.366975917878923, 11.496916685296576, 7.017096074067973, 4.806712230600875, 2.0585667704772534, 2.0170345400964464, 2.0142547719555774, 2.006115735556925, 1.5716350970357842, 1.2717614329094764, 1.0549210500919517, 1.0449020126085535, 1.021594292328522, 1.0073093060929612, 1.0073093060929612, 1.0073093060929612, 1.0073093060929612, 1.0073093060929612, 0.5849709658325335, 0.5814360553282889, 0.5814360553282889, 0.4791491620938435, 0.3714414511625159, 0.36848569899460976, 0.3257505113591394, 0.3257505113591394, 0.3257505113591394, 0.2860073519857346, 0.26960330220689416, 0.2687816936445504, 0.2687816936445504, 1.6561731467065874, 16.45432407678587, 6.558999431452936, 5.8988296916150365, 4.847306748258746, 4.520929953632406, 1.5833029266108454, 1.3700246895757209, 1.336003890174365, 1.216573351903434, 0.9690786055427385, 0.9154806847681537, 0.8283538278435238, 0.7302514465006649, 0.5656052512448533, 0.5656052512448533, 0.5656052512448533, 0.2781097527482551, 0.2781097527482551, 0.2595362620946294, 0.24697167305914108, 0.23698569169722575, 0.1568790729282708, 0.13175966845262785, 0.12986784552147201, 0.08935933502525688, 0.0874762741148796, 0.0751017420869751, 0.07430702382714062, 0.07430702382714062, 0.07430702382714062, 7.04871475362748, 4.705518347355411, 4.508310355456072, 2.8616425476866723, 2.816286842867251, 2.32462782788137, 1.8551838730570507, 1.8300586697201973, 1.6878462247400323, 1.4472145566260026, 1.2608511576999148, 1.1505970694067955, 1.110827788882451, 1.0076810884538545, 0.8967353924144296, 0.8895796608243562, 0.8833990044009858, 0.7729976483887526, 0.7187874146103679, 0.5997520297871436, 0.5103414276532307, 0.4944120267163243, 0.4944120267163243, 0.4944120267163243, 0.4944120267163243, 0.4282337961548835, 0.4077425941072489, 0.4077425941072489, 0.4077425941072489, 0.35926524948165783, 9.214403637376599, 4.281677051984823, 3.896609380823529, 3.026292314356162, 2.563893680905181, 2.3785160923724304, 1.8534247559032229, 1.5622773684181521, 1.2100931222319387, 1.1793182382720182, 1.0654129117166433, 1.007899808823943, 0.9971479038367526, 0.9873775952708979, 0.9578778713401771, 0.9052316714993368, 0.887255918227728, 0.857386262244949, 0.8105779199208211, 0.6943679756805705, 0.6917933941669757, 0.6917933941669757, 0.5699313028215992, 0.5699313028215992, 0.5699313028215992, 0.46758545687339487, 0.43893764085805664, 0.27008428133034623, 0.2634633302075327, 0.2634633302075327, 8.91116176318836, 6.067678219133685, 6.053970660759545, 4.219544667831337, 2.5321432645789597, 8.863656474592723, 0.9539958022324809, 0.9518143247649896, 0.8303949972574115, 0.7400772789458849, 0.6639984171641313, 0.581805449201759, 0.581805449201759, 0.5615111898257575, 0.5611437443291293, 0.5269064536534002, 0.4913892324115552, 0.48654510801098044, 0.46516483694875904, 0.4161145733315469, 0.3949959113704776, 0.32417146522483825, 0.22157541960345023, 0.15114492614826838, 0.7998117692848006, 0.13153578635233001, 0.13116825840719845, 0.12546005995002396, 0.12532561392388294, 0.12498859192499354, 7.750548665801843, 6.381438630392665, 3.876699182162618, 3.7636231447543897, 3.437311181483193, 3.0659012046262535, 2.6485600061768464, 1.5470435671529874, 1.3607562537916411, 1.2123519557699647, 1.1492943748632745, 1.096011698306979, 0.9041330572351574, 0.8949723177184482, 0.8680510513622719, 0.8527757356446766, 0.8227016614856288, 0.7994697134812473, 0.7352826655251892, 0.5868091527105311, 0.5299946584477531, 0.525187271840684, 0.45997175672715446, 0.34748237360148215, 0.32260236821837, 0.32260236821837, 0.2212584026262132, 0.2195225937136252, 0.2195225937136252, 0.20486182644297854, 0.5587518430776253, 7.413737250192943, 4.257647091242346, 2.8066345617617983, 2.5343214652382438, 2.2069814091376085, 2.1643729187349745, 1.9930014164206673, 1.8086131871736268, 1.3303799864205132, 1.200759958110384, 1.0872279293981564, 1.0471523337213915, 1.0323850408169861, 1.0323850408169861, 0.95126247774282, 0.8669455857328784, 0.8467549538438696, 0.7457736919567014, 0.7233271905693734, 0.6557817279325179, 0.6285721328210186, 0.6089533315860685, 0.5583410494939837, 0.5387104128074467, 0.4048245959124192, 0.3722249524016016, 0.33385968756543005, 0.33385968756543005, 0.33385968756543005, 0.33385968756543005, 0.7367563208402712, 3.4284727179668084, 3.201355465995868, 2.6912174752148967, 2.6326791145191253, 2.539357249459854, 2.5318703621010927, 2.1904469152830197, 1.6891833994002496, 1.6765011408796557, 1.4279549901878588, 1.3909841390589732, 1.3326895094773703, 1.3215152777984065, 1.2282411658659682, 1.2255985796680073, 1.1369805032503144, 0.9501875974346731, 0.8158656583457112, 0.6947277553788791, 0.6733497264159208, 0.6069342127628888, 0.5936970882641359, 0.5936970882641359, 0.5276385081044798, 0.428142359195423, 0.40332106038409027, 0.40332106038409027, 0.40332106038409027, 0.3326197035977805, 0.3326197035977805, 0.9428095280419255, 8.684582444422857, 5.4279250952897, 3.587605820995877, 1.938344324193656, 1.9118368497318299, 1.794922968114251, 1.7755408024966515, 1.4861973439088638, 1.3920106901926592, 1.139023876650334, 1.0047190892711753, 0.9859663568506849, 0.8572605028127637, 0.8279732054150298, 0.7941954127888151, 0.7647120427817501, 0.7133101727418809, 0.6006284998993003, 0.5979564830300167, 0.5463536424734877, 0.5022861802364544, 0.4948255210564169, 0.4948254168456227, 0.4615014622282506, 0.4533329512284511, 0.4077751443705312, 0.4077751443705312, 0.4077751443705312, 0.3469854449330522, 0.3361538010341766, 4.91825799035515, 4.49690840741076, 4.185523633177327, 2.971424349907871, 2.4089621066580555, 2.105648824129601, 1.8532732182441385, 1.6198155775488126, 1.361602795062605, 1.349185941434646, 1.301244489399132, 1.2561931314874462, 1.2042334843603582, 1.175617588127286, 1.1102651618256019, 1.0966417450046306, 0.9688722055443895, 0.7690515273003394, 0.7078945071555847, 0.6290194776684199, 0.6223577766438715, 0.5968605473856012, 0.48197455693399943, 0.4227913521436043, 0.34867688912477, 0.34867688912477, 0.3064659670075006, 0.26900928792264384, 0.2511500723846967, 0.17590994743768507, 10.08016786050092, 4.98789471453955, 2.350391216170115, 2.2363175216117384, 2.081698390917552, 2.0563559503199698, 2.0429084917651736, 1.2504387708232685, 1.1580470792661748, 0.9396648003275673, 0.7960781075764318, 0.7798939102617789, 0.7248627737585757, 0.7171883429224715, 0.7056091641457779, 0.6766068517232197, 0.6761497599274925, 0.5692401190375596, 0.5615658939364822, 0.5481861222054937, 0.48686808332048276, 0.3721713202335321, 0.3068033873465452, 0.3068033873465452, 0.30247731978800824, 0.26928338764690757, 0.25302139677525703, 0.22478305565773254, 0.20877180434995848, 0.20877180434995848, 5.610227534658081, 12.837139662224091, 4.56516532574135, 3.3787909540205754, 1.9356687807250732, 1.8056821853431053, 1.7242345210949561, 1.3536840572025173, 1.2881224202411279, 1.2790267451106987, 1.2559791323795717, 1.2087781729944644, 1.152594491440845, 1.0074197056516645, 0.9159197384301594, 0.7157396176285878, 0.5583857757417825, 0.539435975958612, 0.5066768595614685, 0.5066768595614685, 0.4503007188245464, 0.41130878956342803, 0.3791142592528285, 0.344204900417455, 0.3067978360202692, 0.2838664953932495, 0.2838664953932495, 0.2838664953932495, 0.23422254522874145, 0.23422254522874145, 0.23422254522874145, 9.355086304526417, 7.623619408493815, 7.364832974432938, 2.959009912338898, 1.8897255031361526, 1.5492999885672631, 1.4803543877856562, 1.4054149749722689, 1.3584574862875949, 0.9213114040555681, 0.8290959013137519, 0.5582876050627485, 0.5582876050627485, 0.5461399483272521, 0.42106073524399995, 0.39148686560399787, 0.35751197011179, 0.35665339304362087, 0.3127815136164289, 0.3127815136164289, 0.22918520448937915, 0.22434756609908024, 0.22434756609908024, 0.21307526158528192, 0.20784590998581165, 0.17382996185896127, 0.15661102463659546, 0.15320680209864615, 0.12051499568433849, 0.12051499568433849, 6.00033276410282, 3.977978376265783, 2.7115250214525703, 2.06654782806146, 1.8147513917899492, 1.5721930423555288, 1.2491948699111028, 1.242454368313064, 1.0749083425795276, 1.0549681884432296, 1.0549681884432296, 1.0549680907859378, 1.0549680907859378, 1.0161139653360967, 0.9670247697566727, 0.9022246643790789, 0.8660657825269932, 0.8652773952098918, 0.7610767718345586, 0.6489133193677518, 0.6089456566475963, 0.5711430560877451, 0.546198112230096, 0.5410662703720486, 0.5125007312477238, 0.5018192208084509, 0.401434165482971, 0.34116277052896166, 0.34116277052896166, 0.34116277052896166, 0.34116277052896166, 9.650673447572188, 4.257802636120679, 2.6393300345352118, 2.437222529900637, 1.6912084711670354, 1.6737322500918148, 1.2301940019730633, 1.054856732219135, 0.8833256487447755, 0.7494661058012249, 0.7489714912072973, 9.68345645448464, 0.5689015942248612, 0.5099797176816367, 0.45811822864803353, 0.45811822864803353, 0.442138331605474, 0.414574826824992, 0.3774189431715687, 0.3774189431715687, 0.3774189431715687, 0.27134329269455715, 0.2563950722047594, 0.2563950722047594, 0.2087646058977832, 0.19729370740229116, 0.18373208873951377, 0.1744702309293263, 0.14867138766866084, 0.13908967505664477, 8.752149664965017, 4.551905130763703, 4.140861539488334, 2.1834453776843294, 2.155233998391465, 2.0881095539148364, 1.5897793567861649, 1.457608046321933, 1.0608993927544152, 1.0263055064199298, 0.9184817364161426, 0.8878401555210069, 0.6241551523106548, 0.5950620239555261, 0.5423279881402825, 0.4962014992867761, 0.4356923963972518, 0.4039960066287806, 0.3502470436430016, 0.2952885030415464, 0.18710415988483664, 0.18710415988483664, 0.18710415988483664, 0.18710411206504912, 0.17763834053780664, 0.16532005890966875, 0.15458879648018078, 0.15458879648018078, 0.13856663320891127, 0.3330384236233267, 3.7762953386673668, 0.25144870860793433, 5.954485694130163, 4.660912818653824, 2.3930142674505643, 1.856055924377564, 1.8160565632845087, 1.7951627288875343, 1.6522437594320791, 1.4113420745869696, 1.3501467669215423, 1.2860287989785038, 1.2823799966771487, 1.2082283224405828, 1.121707322955942, 0.716996107216066, 0.7065194606521394, 0.5953137690150441, 0.5953137690150441, 0.5105982148012822, 0.49044697813185717, 0.49044697813185717, 0.49044697813185717, 0.4840968947725999, 0.40416690469741295, 0.40416690469741295, 0.40416690469741295, 0.40416690469741295, 0.40416690469741295, 0.40416690469741295, 0.40416690469741295, 0.3918037162449564, 7.728557507314096, 6.039811614226531, 2.5452238480374705, 2.3495734030787356, 1.8304017415460694, 1.4219662824839132, 1.2280297911863864, 1.1097112819643622, 1.089167256090445, 0.9628504147224822, 0.6428960615008961, 0.6159040855372768, 0.6159040855372768, 0.6159040855372768, 0.5074102510722363, 0.5074102510722363, 0.5074102510722363, 0.5074102510722363, 0.4993954641905481, 0.4859926162224155, 0.4181459707738043, 0.4181459707738043, 0.4181459707738043, 0.3498823907068257, 0.34856370552270804, 0.3447030963081803, 0.30249284045269964, 0.28853891407031096, 0.27163029816356665, 0.23456157064880465, 6.1670132780598435, 2.494401637353282, 1.9148794502532724, 1.78439288677519, 1.4877744892752482, 1.4582946113979995, 1.2883499527170141, 1.2677967576419806, 1.0633790208468983, 1.0300166744973975, 0.9927222384587923, 0.9833662886034206, 0.8113875953053186, 0.8078153029657773, 0.7932193526107912, 0.791534059387904, 0.7817135852989805, 0.7793041705291137, 0.7454893135038256, 0.7454893135038256, 0.7454893135038256, 0.7454893135038256, 0.7454892264490591, 0.626024928110159, 0.5755441324942419, 0.5223174119089087, 0.44305757281270824, 0.43030922929257676, 0.43030914223781036, 0.4153193125922126, 9.368455844556067, 4.7084250598127655, 1.6914028671713008, 1.5022659157424272, 1.4527528227600734, 1.2889876440026256, 1.2759562597697893, 1.1118012673725375, 1.1028226917856832, 1.0412193572731927, 0.9668349503321058, 0.9210714226439574, 0.80054991660991, 0.6173348675694789, 0.526791869024375, 0.44092317134539716, 0.41911735250966503, 0.3035777398198947, 0.28493777580535573, 0.28493777580535573, 0.2841755244192734, 0.24842385054150784, 0.20878319198186598, 0.19410736390400052, 0.19410736390400052, 0.19410736390400052, 0.19410732268005385, 0.1603749729124369, 0.1603749729124369, 0.12810011639165667, 4.699149926676076, 4.672300924136511, 3.419836384043082, 3.261030449547375, 1.5984408958057528, 1.301544774760354, 1.2986805703885915, 1.2176426266509317, 1.066977926358057, 1.0538047200391725, 0.7357354811061023, 0.7251054256488847, 0.7130723203939693, 0.6223289503840332, 0.6089074446288516, 0.5670863677009277, 0.520435536409731, 0.5080357063056689, 0.5080357063056689, 0.4185432303654865, 1.4114973130098678, 0.344912578719006, 0.3113932627489616, 0.2923131068094528, 0.2843323788444455, 0.2843323788444455, 0.2843323788444455, 0.2843323788444455, 0.2843323788444455, 0.234489518987704, 2.592325831586265, 2.467900853036865, 1.7769322116833484, 1.3881787864552941, 1.3381095093441169, 1.2530987385092998, 1.1786201463398278, 1.150794829913567, 1.1439514240991009, 1.0533264829084539, 1.0496552658763247, 0.925579434825053, 0.9067333454335993, 0.9067333454335993, 0.8738449801017966, 0.777212339291099, 0.7175487251965793, 0.7169773407218463, 0.6852726395528125, 0.6352909774623121, 0.6352909774623121, 0.6319769885271285, 0.5841289736887595, 0.5312731615519889, 0.5165435835112357, 0.38231642841399416, 0.35638024934367774, 0.241944900827369, 0.241944900827369, 0.241944900827369, 1.4742646460972002, 6.671070020653689, 2.7103055940468046, 2.2125725262194242, 1.4377188791643558, 5.6772587520992275, 1.0801406760573833, 0.99189281414556, 0.8992855928726086, 0.8076269496206193, 0.683603115744739, 0.683603115744739, 0.6748580543054324, 0.6159185068729662, 0.5631837502380369, 0.46410779054822704, 0.46410779054822704, 0.41255112986260356, 0.38259221432733964, 0.38259221432733964, 0.38259221432733964, 0.2895216534863286, 0.2603441317981626, 0.2603441317981626, 0.23162888876315993, 0.21494394023913402, 0.21494394023913402, 0.21494394023913402, 0.1538653581769935, 0.1468576549754975, 0.12157189941218324, 6.2406648328654715, 4.582538992763174, 2.4626376323055745, 1.9585863787001443, 1.758360664483596, 1.363425234659336, 0.9417832918574243, 0.8940649293541766, 0.8454433205600471, 0.7266625859739618, 0.5235972684501801, 0.5235972684501801, 0.5211292029704879, 0.4747695572386834, 0.4203746846109607, 0.41613468506848045, 0.37679072242570644, 0.37365531304540534, 0.3668516383706373, 0.331091400895344, 0.3259793387255887, 0.3201010493929213, 0.24906079948702547, 0.24906079948702547, 0.24906074886419496, 0.22844633918109536, 0.20531589044923737, 0.20531589044923737, 0.17928914083995143, 0.1693244416326337], \"Total\": [72.0, 58.0, 27.0, 28.0, 28.0, 33.0, 54.0, 28.0, 23.0, 27.0, 24.0, 20.0, 16.0, 17.0, 16.0, 17.0, 15.0, 14.0, 15.0, 16.0, 13.0, 13.0, 17.0, 15.0, 13.0, 12.0, 11.0, 12.0, 12.0, 12.0, 33.72798021909487, 17.462745472342153, 13.138267915691598, 11.235927010967542, 5.920448903550654, 5.8223882928076085, 4.977773434356914, 3.5910981126414327, 3.178172314410588, 3.0008825258074987, 2.7142869695868024, 2.501268290013267, 2.4734295910215756, 2.059363976698724, 2.041774770468574, 1.827492645941662, 1.7665721239420484, 1.65075918721473, 1.6467915109539497, 1.6458536420068468, 1.5932281064859537, 1.5420411067936997, 1.5047916108354291, 1.4276117930755292, 1.3594588326508479, 1.2859377690333338, 1.19065727563988, 1.032499653473629, 1.0006619209007375, 0.9985859612644248, 13.766043158654483, 72.69503791586762, 27.3348519110896, 10.418770585535624, 8.458186046477602, 5.854105591132325, 5.798333215288817, 5.031662280825839, 3.867957138642984, 3.5995944217270126, 3.0758906450742223, 2.9398321499865365, 2.8631189776511388, 2.6123392767343305, 2.6003658155820077, 2.6003658155820077, 2.464261213405168, 2.3713502117490544, 2.2655929572529563, 2.260146539721564, 2.1118002938738343, 2.082006936264308, 1.866317832199962, 1.8643496093941343, 1.8324584497282208, 1.752537944191006, 1.7126374050378632, 1.6342880655387129, 1.6290583654263733, 1.5211603037907322, 1.5161786231579724, 1.4332268937594723, 24.796144371786852, 4.655189111635885, 4.559738875246094, 3.147271509103577, 72.69503791586762, 1.9982761151932795, 1.9900192244449006, 1.907032929882937, 1.6728050450318193, 1.634641119287638, 1.452178448879594, 1.347328576488591, 1.216310180144109, 1.1134193936635686, 1.0201694586817855, 0.939399002333894, 0.913871634966274, 0.913871634966274, 0.913871634966274, 0.913871634966274, 0.9108014699204229, 0.8536020600544966, 0.8509637655501011, 0.835598588525413, 0.7601489615832422, 0.6865956808219598, 0.619466869368374, 0.6046747108182027, 0.6021904347790106, 0.5500217571326885, 28.94414398561694, 16.892373412263463, 12.022687892423493, 6.244651240791702, 6.198424542050822, 3.990044601687167, 3.3459359630633925, 2.5808355189308454, 1.9444015857515646, 1.9126975084207247, 1.7699740263718873, 1.6200055081297338, 1.470343216413928, 1.3664387625065786, 1.3664387625065786, 1.2469638079151912, 1.0828634779658204, 1.0347659853557358, 1.0188631303578526, 1.0188631303578526, 1.0188631303578526, 1.0188631303578526, 1.0188631303578526, 0.9395666238345698, 0.8843099513837298, 0.8755664422930478, 0.8755664422930478, 0.8755664422930478, 0.8749757439447733, 0.724666125222621, 2.6034410003510904, 17.904539868213586, 15.077711288002616, 8.43635270494682, 8.120707175751662, 6.678908046073255, 6.670372041388742, 6.140938175286469, 4.69065003132851, 3.1761575400087376, 3.049976967947741, 2.638636357373151, 2.118085654040648, 1.5295038233900022, 1.4531326677257959, 1.4210056133091271, 1.3469009761496682, 1.1041630913800975, 1.0424495934486737, 0.9890376971302837, 0.9759317657725665, 0.9553365190427267, 0.9097581318337381, 0.8433676613299573, 0.828803655035101, 0.7304105778343343, 0.6568703195924134, 0.6002729843442074, 0.5978902798673785, 0.5783555011784879, 0.5517464707295269, 13.766043158654483, 58.4222533403018, 10.2887607878276, 9.206125042900883, 2.0325528019900934, 1.9944626870268005, 1.9279956975216612, 1.8145800041556244, 1.6256655670163769, 1.3720800261049042, 1.282495459642485, 1.2466527345716523, 1.212269799840392, 1.1966562993020797, 1.1793000741729327, 1.0457205893893313, 1.0242392058540828, 0.8738249242356979, 0.8738249242356979, 0.8738249242356979, 0.8738248197933756, 0.8708551590206616, 0.7987987819711487, 0.7562348279085689, 0.6887416403651191, 0.6594866669980628, 0.5798863687836027, 0.5143945311317224, 0.3797012864778059, 0.3559831661669779, 0.3496905031897288, 8.398385631259702, 5.110372083268357, 4.917625921671537, 4.533554966999795, 3.7633093037948964, 3.314476769177869, 3.0755301095721936, 2.8455939469716993, 2.683934250919715, 2.5992114948825638, 2.559564304551917, 2.3053464631525635, 2.2352749217579824, 2.209198970919335, 2.0125413364160902, 1.870735541466567, 1.8171803344087123, 1.7501573495184233, 1.7406864431106392, 1.7358905787340428, 1.6882802525435887, 1.6760873310866284, 1.6061908014614765, 1.568221576610545, 1.53589858869019, 1.51672657117332, 1.4402807479013688, 1.4114381259141209, 1.392795258087732, 1.37377517165969, 28.398999442494322, 12.187545013463897, 4.34842196819316, 3.3910217992007863, 3.1005457891714308, 2.7353157823294962, 2.4190368723913234, 2.3308566832003237, 1.8579518771467107, 1.5328758714524906, 1.4451583555532672, 1.4245292548631214, 1.3615609518831564, 1.0877529113361895, 1.0590861644275857, 0.9961782672321664, 0.9922709759628092, 0.986899938725903, 0.9353109912467108, 0.927475441772636, 0.922780424054953, 0.898201485412422, 0.8012440293207371, 0.7908295905696251, 0.7539771594981178, 0.6620521618437284, 0.5934631881563746, 0.5639296182395357, 0.5407327683246477, 0.5391969074802583, 12.047728972040403, 11.206337832313817, 6.149104127441664, 5.827873789193132, 5.076366037123649, 3.6687550698842273, 3.489385717081444, 3.483078247114131, 3.1719951930530517, 3.1582094256277067, 3.091813440354823, 2.8733007504734007, 2.1199190325918105, 2.0493143515004424, 1.606395564608354, 1.074420922830735, 1.0512290969021585, 0.8790721056249003, 0.8730133013779006, 0.8429515201601755, 0.8222140489596016, 0.72456928262798, 0.72456928262798, 0.6699478240053964, 0.6562593018091026, 0.6548205537893654, 0.5925142307697495, 0.5336957516677312, 0.40423891667183975, 0.386629401813005, 20.34586386878839, 5.74005462110547, 4.182753619045062, 3.9448529930217804, 3.054439181060532, 2.569858233468042, 2.4853049114821872, 2.0730069915148763, 1.9410905321116743, 1.6037290416096313, 1.594642270290252, 1.5481919726910993, 1.5134214271710558, 1.2954596800046185, 1.2098717440951645, 1.1973474171459806, 1.1103181511203222, 0.9357333033085917, 0.9270644315180284, 0.9006099390635136, 0.8318472159898932, 0.8119465856961314, 0.7882552703993022, 0.7828287118271996, 0.7782725507591304, 0.7782725507591304, 0.7080545183990425, 0.6776183699432521, 0.5948043673863804, 0.5002513371853808, 54.38909567365398, 9.700153442407023, 6.563755845332476, 6.24458599746264, 5.291185815513114, 5.158398417011905, 4.808828820921902, 4.7709123525254835, 4.172402114484529, 3.202298007468814, 2.9464655019051675, 1.7863968546108635, 1.5882784433167443, 1.5160163789072765, 1.5046392561544104, 1.4718340560500676, 1.3181898029831012, 1.0726855647748132, 0.9720393218105275, 0.9591278734475925, 0.8692952143727798, 0.8575597134826258, 0.7714397719973216, 0.7259712373819525, 0.6345871559698952, 0.6345871559698952, 0.6345871559698952, 0.6345871559698952, 0.5594000912681756, 0.5594000912681756, 0.4466428533394675, 28.741591042566423, 11.085399634923512, 4.02630998117622, 2.744352478854046, 1.9477505734392428, 1.5925625218012178, 1.4775906365900728, 1.3624110778026708, 1.3113145613629271, 1.2041042445339072, 1.026401158599215, 1.0171941732355718, 0.9013494366502267, 0.8785215689177658, 0.8186408973318952, 0.7658945132386101, 0.7647616438780122, 0.7276831679253615, 0.7272293311464241, 0.7196141641152388, 0.7150217848962922, 0.7030520297068082, 0.6799267286629369, 0.6367641504145087, 0.6062575095983413, 0.5922420622525858, 0.5859918877765802, 0.5859918877765802, 0.5859918877765802, 0.5447190057105357, 9.498979721994168, 8.072407976824644, 5.57003053281723, 4.924534283886878, 4.077062300463188, 3.7354027008024966, 3.6368599419584884, 3.113038040340745, 2.59714375548405, 1.8719883199034344, 1.8037082362694326, 1.5811536064798721, 1.5155174041786759, 1.440936563850831, 1.434425527834359, 1.1904208969226506, 1.1904208969226506, 1.1904208969226506, 1.1588235520995571, 1.1276950927701501, 1.05091005913226, 1.0061233680954995, 1.0006477635726012, 0.8505108442390149, 0.8477530496206264, 0.7742870708519648, 0.6804383448214399, 0.6722630889196693, 0.6355878292638748, 0.6288395098599153, 15.034570230148137, 7.035163189260441, 6.763992180041396, 6.403304562934761, 4.301238592432031, 3.986477559482169, 3.8228100919395525, 2.048711302284373, 1.8224827156799428, 1.284384160137989, 1.280261748825195, 1.1073608587953956, 0.9951239926114692, 0.9747666383145199, 0.8342171597583938, 0.7700566708118759, 0.7700566708118759, 0.7504137427726183, 0.7363134524729553, 0.7044832213969898, 0.6259541385822892, 0.5759396116741523, 0.5322987620272078, 0.5111485950244538, 0.4868426755236087, 0.383988559800167, 0.38174821068586695, 0.6731537760081211, 0.3487479097519887, 0.5309527346159003, 54.38909567365398, 12.610913627821894, 10.475485060413028, 6.3467330639770125, 3.6883278982404484, 3.4056277410732294, 2.542050274960844, 2.422674224841029, 1.9187232174417703, 1.7698120929651413, 1.6077128742381117, 1.4286836207641083, 1.183333364438003, 1.160482664711025, 1.1437736085085444, 1.1419711673771131, 1.1018763411175747, 0.9827830432481987, 0.8820512308044965, 0.8523839036093613, 0.7702089960038285, 0.7286848083679334, 0.6702434003727692, 0.668922787183373, 0.5893459270415409, 0.5893459270415409, 0.5893459270415409, 0.575467631762082, 0.5348923007853263, 0.53237897453164, 0.5221774683373537, 54.38909567365398, 17.16108237786317, 8.03590754317709, 6.9441186864700875, 5.77213159258806, 5.4694902185215595, 3.119456173498026, 2.445155335160307, 2.255266224923416, 1.900372199417083, 1.734421202411827, 1.5122285152268582, 1.378286847949474, 1.1828658761127269, 1.0051817192268355, 0.9764678752054414, 0.886511316358501, 0.7899878331512222, 0.7748529508734411, 0.7461392108018423, 0.6069688341772614, 0.5730521296577372, 0.5730521296577372, 0.5730521296577372, 0.5730521296577372, 0.5427603623955299, 0.5326545019084158, 0.5320395002702332, 0.5184919660146947, 0.5133046633359092, 0.45588413050402243, 14.982303183871897, 13.63271302617579, 9.437207047541566, 7.604801294683838, 4.575066759737599, 3.2683472880604403, 1.6085876713397405, 1.3589406218321118, 1.216020156380406, 1.192298100872704, 0.971447046526391, 0.9032357989471527, 0.8965343561577886, 0.880026791397588, 0.8385058688851155, 0.7614909754314472, 0.7526388837246042, 0.6098187357501592, 0.5648428360837016, 0.5440143117293668, 0.5390215880533766, 0.3962008345060267, 0.39341730999640334, 0.36097547181059514, 0.36097547181059514, 0.35076005382235864, 0.2793880617198295, 0.26715007780907674, 0.26715007780907674, 0.26715007780907674, 0.3205367904024948, 7.628770378790606, 5.496502192597407, 4.018775701052101, 3.6190898435550505, 3.41136993507202, 2.622145340057107, 2.361149522322517, 1.9239952782836631, 1.7165788948315184, 1.6235082658328979, 1.5473803680726808, 1.522018934814826, 1.4587672525919386, 1.4382853336814971, 1.418310812291907, 1.3982965682922557, 1.3086418761494383, 1.235667012465194, 1.0919742075390855, 1.0691087244155117, 1.0652649736652864, 1.0108431985994526, 1.0108431985994526, 0.9903518680601462, 0.9324882049559782, 0.9169064229326682, 0.9169062845263614, 0.8370088217963818, 0.7916806179021196, 7.532087037985491, 12.086299020976837, 8.943781827383878, 5.380182320655006, 4.49990674099244, 3.7770927171253867, 2.9706073213539437, 2.5196344617666524, 2.48145244013276, 2.0468086578517752, 2.0067052265488274, 1.8488364470178147, 1.5888530055975758, 1.5650142037834713, 1.374388503697362, 1.11958730182156, 1.000829632848513, 0.8670475157629159, 0.8462289791722172, 0.8462289791722172, 0.8462289791722172, 0.8026507701554132, 0.7958333530201082, 0.6116018357124856, 0.5734404860200434, 0.564516793961504, 0.564516793961504, 0.5129224316490498, 0.501749078406726, 0.501749078406726, 0.4915255535852907, 54.38909567365398, 27.923700768162323, 5.8382956751781325, 3.913189086785993, 2.7548341349276284, 2.4254564548533097, 1.9234953160417991, 1.1612131901185778, 1.1492998169533912, 1.1492997504309377, 1.1492997504309377, 1.020000988738646, 0.8670081930108557, 0.8433832758046178, 0.8433832758046178, 0.8279446782573243, 0.750626428740782, 0.7506263622183285, 2.6034410003510904, 0.5760898042442801, 0.5760898042442801, 0.5760898042442801, 0.5007132786250322, 0.46170185095264715, 0.4415953063157982, 0.4271400603078098, 0.4171573516820111, 0.4094742244924938, 0.4069159538648868, 0.3795011360643951, 0.3482591318344228, 7.532087037985491, 16.443282236234932, 3.1460806040224134, 2.5372208391828637, 2.0915181570476395, 1.7756090967219509, 1.4506429366770683, 1.3963709544169909, 1.3862641956039263, 1.2768098352509476, 1.2345778247543013, 1.1863500780342604, 1.115340121870276, 1.0882679214517068, 1.0192585785062775, 0.9073129677341822, 0.8243258460936765, 0.8243258460936765, 0.787310695108779, 0.7305864456421498, 0.7155091303421768, 0.7155091303421768, 0.7155091303421768, 0.7155090975280248, 0.7138776763335146, 0.6944057913565219, 0.6735239150826507, 0.6259792277504435, 0.6259792277504435, 0.6259792277504435, 0.6259792277504435, 54.38909567365398, 23.106409532139942, 6.449094783777064, 2.5520871360812625, 2.250537299450623, 2.196735990078119, 1.8804674421460392, 1.4916968147065108, 1.3026051644355394, 1.2769661210535561, 1.2518873430236033, 1.2423309645751228, 1.101397334232079, 0.9545217633037596, 0.9320690737003062, 0.8997453880575569, 0.8492852546806937, 0.8041558216819915, 0.7863843120310677, 0.7410975048006868, 0.6953626881411215, 0.6123256307528616, 0.562625474227024, 0.5410842137237526, 0.4913737837033732, 0.4913737837033732, 0.4879992024914029, 0.4824697721583112, 0.43424422199874424, 0.43424422199874424, 0.43424422199874424, 54.38909567365398, 15.168404395433063, 5.1288068639864575, 2.670500393771117, 2.6171547146181995, 2.12926724746586, 2.0997381200118275, 2.097135148440938, 1.7550057539146653, 1.5204305560139095, 1.504766100759371, 1.3220198099253435, 1.247751180638448, 1.1892272994097266, 1.1451729888825002, 1.0983049137548888, 1.09687611861737, 1.0377364638678257, 1.013252563708556, 0.9877989635177111, 0.9877989635177111, 0.9605139971333275, 0.9232410097199355, 0.8500081771358964, 0.8500081771358964, 0.8500081120160232, 0.85000804689615, 0.85000804689615, 0.7366394595937635, 0.7366394595937635, 0.6624563652602945, 5.920092735240108, 5.539117221338685, 5.36604895373521, 3.063068710196338, 2.709474265760208, 2.680383213547044, 2.472589462831082, 2.4720797739560125, 2.269416622261082, 1.9306004219368, 1.8116703278739517, 1.3471883570379675, 1.3423083531688136, 1.3420623134588736, 1.3018049619683991, 1.2798119390713507, 1.2036235392984882, 1.1326819023160646, 1.0222781638499778, 0.8882316817280315, 0.7410645831986964, 0.6470051847048442, 0.6470051847048442, 0.5696171092977292, 0.5696171092977292, 0.5696171092977292, 0.5696171092977292, 0.5647841758684456, 0.5217854895754404, 0.5156157942484552, 13.182691732213977, 54.38909567365398, 7.280043331039633, 6.858358308297709, 5.183161263587965, 3.4385549059680622, 3.3977649776671495, 3.3880898910981547, 3.210983281872899, 2.5186711762980307, 2.292997225893543, 2.2100379389323623, 1.8729686614309469, 1.514423426991587, 1.38152255871046, 1.3768030929000492, 1.3416592141924615, 1.2735833333289512, 1.1505632140304756, 1.0786919857856139, 1.061694603635397, 1.0337777151192327, 0.8244638528935597, 0.8188880010073566, 0.7072499663112218, 0.6392396768357893, 0.6073355326040165, 0.5419401077188694, 0.5387619746505516, 0.45851258193908934, 0.43146477931495497, 0.43146477931495497, 54.38909567365398, 6.581571239348292, 4.306053599060685, 3.789809365614469, 3.2696252639096417, 2.8346901231341213, 2.4495434074199616, 2.4415571813299546, 2.423001188821806, 2.421787748747649, 2.3369861423977683, 2.256762235038629, 1.7105930790015562, 1.443007285591462, 1.4380641281592539, 4.9006989908857665, 1.2532609430672625, 1.1608476686397262, 1.1116718045562146, 1.095313604351005, 1.095313604351005, 1.0516239207405889, 0.979234743912948, 0.9330222042748223, 0.8322482072285148, 0.8292532187357945, 0.787262142185002, 0.7741422210264973, 0.6293147112433639, 0.5735343724635705, 0.5735343724635705, 11.702965574816877, 7.2231449635882745, 5.012761120121177, 2.2646156599975544, 2.2230834296167474, 2.2203036614758784, 2.212164625077226, 1.7776839865560856, 1.4778103224297778, 1.2609699396122531, 1.250950902128855, 1.2276431818488234, 1.2133581956132626, 1.2133581956132626, 1.2133581956132626, 1.2133581956132626, 1.2133581956132626, 0.7910198553528345, 0.7874849448485899, 0.7874849448485899, 0.6851980516141445, 0.5774903406828169, 0.5745345885149108, 0.5317994008794404, 0.5317994008794404, 0.5317994008794404, 0.49205624150603583, 0.47565219172719536, 0.47483058316485155, 0.47483058316485155, 54.38909567365398, 16.660222708370807, 6.764898063037877, 6.104728323199978, 5.053205379843687, 4.726828585217347, 1.7892015581957865, 1.575923321160662, 1.541902521759306, 1.4224719834883752, 1.1749772371276797, 1.1213793163530947, 1.0342524594284648, 0.9361500780856056, 0.771503882829794, 0.771503882829794, 0.771503882829794, 0.48400838433319604, 0.48400838433319604, 0.4654348936795703, 0.452870304644082, 0.44288432328216665, 0.36277770451321173, 0.33765830003756875, 0.33576647710641294, 0.29525796661019776, 0.2933749056998205, 0.28100037367191605, 0.2802056554120816, 0.2802056554120816, 0.2802056554120816, 7.253673879072077, 4.910477472800008, 4.71326948090067, 3.0666016731312697, 3.0212459683118484, 2.5295869533259676, 2.060142998501648, 2.035017795164795, 1.8928053501846298, 1.6521736820706001, 1.4658102831445123, 1.355556194851393, 1.3157869143270484, 1.212640213898452, 1.101694517859027, 1.0945387862689537, 1.0883581298455833, 0.9779567738333497, 0.9237465400549649, 0.8047111552317406, 0.7153005530978277, 0.6993711521609214, 0.6993711521609214, 0.6993711521609214, 0.6993711521609214, 0.6331929215994806, 0.6127017195518459, 0.6127017195518459, 0.6127017195518459, 0.5642243749262549, 9.420538195877187, 4.487811610485411, 4.102743939324117, 3.2324268728567507, 2.7700282394057694, 2.584650650873019, 2.059559314403811, 1.7684119269187404, 1.416227680732527, 1.3854527967726065, 1.2715474702172316, 1.2140343673245313, 1.2032824623373408, 1.1935121537714861, 1.1640124298407653, 1.111366229999925, 1.0933904767283162, 1.063520820745537, 1.016712478421409, 0.9005025341811583, 0.8979279526675635, 0.8979279526675635, 0.776065861322187, 0.776065861322187, 0.776065861322187, 0.6737200153739827, 0.6450721993586445, 0.47621883983093427, 0.4695978887081208, 0.4695978887081208, 9.117971059233506, 6.27448751517883, 6.26077995680469, 4.4263539638764815, 2.7389525606241047, 10.540833128800088, 1.1608050982776257, 1.1586236208101344, 1.037204293302556, 0.9468865749910292, 0.8708077132092756, 0.7886147452469033, 0.7886147452469033, 0.7683204858709018, 0.7679530403742736, 0.7337157496985445, 0.6981985284566995, 0.6933544040561248, 0.6719741329939033, 0.6229238693766912, 0.6018052074156219, 0.5309807612699826, 0.42838471564859476, 0.3579542221934129, 1.9450097149343477, 0.3383450823974745, 0.337977554452343, 0.3322693559951685, 0.3321349099690275, 0.3317978879701381, 7.957391029057423, 6.588280993648246, 4.083541545418198, 3.97046550800997, 3.6441535447387734, 3.2727435678818337, 2.8554023694324266, 1.7538859304085677, 1.5675986170472214, 1.419194319025545, 1.3561367381188547, 1.3028540615625592, 1.1109754204907376, 1.1018146809740283, 1.0748934146178521, 1.0596180989002568, 1.0295440247412089, 1.0063120767368272, 0.942125028780769, 0.7936515159661109, 0.7368370217033329, 0.7320296350962638, 0.6668141199827342, 0.5543247368570621, 0.5294447314739499, 0.5294447314739499, 0.42810076588179324, 0.42636495696920523, 0.42636495696920523, 0.4117041896985586, 2.1739748979847637, 7.6196783600441425, 4.463588201093545, 3.0125756716129986, 2.7402625750894436, 2.412922518988809, 2.3703140285861743, 2.198942526271867, 2.014554297024827, 1.5363210962717133, 1.4067010679615841, 1.2931690392493564, 1.2530934435725916, 1.2383261506681862, 1.2383261506681862, 1.15720358759402, 1.0728866955840783, 1.0526960636950695, 0.9517148018079011, 0.9292683004205732, 0.8617228377837176, 0.8345132426722184, 0.8148944414372682, 0.7642821593451834, 0.7446515226586464, 0.610765705763619, 0.5781660622528013, 0.5398007974166299, 0.5398007974166299, 0.5398007974166299, 0.5398007974166299, 6.61576251694294, 3.6344303085255367, 3.4073130565545964, 2.897175065773625, 2.8386367050778536, 2.7453148400185823, 2.737827952659821, 2.396404505841748, 1.8951409899589784, 1.8824587314383845, 1.6339125807465875, 1.596941729617702, 1.538647100036099, 1.5274728683571352, 1.434198756424697, 1.431556170226736, 1.3429380938090432, 1.1561451879934017, 1.0218232489044397, 0.9006853459376075, 0.8793073169746491, 0.8128918033216171, 0.7996546788228643, 0.7996546788228643, 0.7335960986632081, 0.6340999497541514, 0.6092786509428186, 0.6092786509428186, 0.6092786509428186, 0.5385772941565088, 0.5385772941565088, 1.9450097149343477, 8.891276267643082, 5.634618918509923, 3.794299644216101, 2.1450381474138798, 2.118530672952054, 2.0016167913344747, 1.9822346257168755, 1.6928911671290878, 1.5987045134128832, 1.345717699870558, 1.2114129124913993, 1.192660180070909, 1.0639543260329876, 1.0346670286352537, 1.000889236009039, 0.9714058660019739, 0.9200039959621047, 0.8073223231195241, 0.8046503062502405, 0.7530474656937115, 0.7089800034566782, 0.7015193442766408, 0.7015192400658465, 0.6681952854484744, 0.6600267744486749, 0.614468967590755, 0.614468967590755, 0.614468967590755, 0.5536792681532761, 0.5428476242544004, 5.1240021631874955, 4.702652580243105, 4.391267806009672, 3.177168522740216, 2.6147062794904006, 2.311392996961946, 2.0590173910764835, 1.8255597503811578, 1.56734696789495, 1.5549301142669911, 1.506988662231477, 1.4619373043197914, 1.4099776571927034, 1.381361760959631, 1.316009334657947, 1.3023859178369759, 1.1746163783767347, 0.9747957001326845, 0.9136386799879297, 0.834763650500765, 0.8281019494762165, 0.8026047202179463, 0.6877187297663444, 0.6285355249759493, 0.554421061957115, 0.554421061957115, 0.5122101398398456, 0.4747534607549889, 0.4568942452170418, 0.38165412027003015, 10.287183399215328, 5.194910253253956, 2.557406754884521, 2.4433330603261445, 2.288713929631958, 2.263371489034376, 2.24992403047958, 1.4574543095376746, 1.365062617980581, 1.1466803390419735, 1.003093646290838, 0.9869094489761849, 0.9318783124729817, 0.9242038816368775, 0.9126247028601839, 0.8836223904376257, 0.8831652986418985, 0.7762556577519656, 0.7685814326508882, 0.7552016609198997, 0.6938836220348888, 0.5791868589479382, 0.5138189260609511, 0.5138189260609511, 0.5094928585024143, 0.47629892636131366, 0.46003693548966307, 0.43179859437213863, 0.41578734306436455, 0.41578734306436455, 54.38909567365398, 13.04374523596307, 4.771770899480326, 3.5853965277595523, 2.14227435446405, 2.012287759082082, 1.9308400948339328, 1.560289630941494, 1.4947279939801046, 1.4856323188496754, 1.4625847061185484, 1.4153837467334411, 1.3592000651798217, 1.2140252793906412, 1.122525312169136, 0.9223451913675645, 0.7649913494807591, 0.7460415496975886, 0.7132824333004452, 0.7132824333004452, 0.6569062925635231, 0.6179143633024047, 0.5857198329918051, 0.5508104741564316, 0.5134034097592459, 0.4904720691322262, 0.4904720691322262, 0.4904720691322262, 0.4408281189677182, 0.4408281189677182, 0.4408281189677182, 9.56130756615217, 7.829840670119566, 7.571054236058688, 3.1652311739646497, 2.095946764761904, 1.7555212501930142, 1.6865756494114073, 1.61163623659802, 1.564678747913346, 1.1275326656813192, 1.0353171629395028, 0.7645088666884994, 0.7645088666884994, 0.7523612099530029, 0.6272819968697508, 0.5977081272297488, 0.5637332317375409, 0.5628746546693717, 0.5190027752421797, 0.5190027752421797, 0.4354064661151301, 0.4305688277248312, 0.4305688277248312, 0.4192965232110329, 0.4140671716115626, 0.3800512234847122, 0.3628322862623464, 0.3594280637243971, 0.3267362573100895, 0.3267362573100895, 6.2061768078165445, 4.183822419979507, 2.917369065166296, 2.2723918717751856, 2.0205954355036746, 1.7780370860692538, 1.4550389136248278, 1.448298412026789, 1.2807523862932526, 1.2608122321569546, 1.2608122321569546, 1.2608121344996626, 1.2608121344996626, 1.2219580090498217, 1.1728688134703975, 1.1080687080928038, 1.071909826240718, 1.0711214389236168, 0.9669208155482832, 0.8547573630814764, 0.8147897003613209, 0.7769870998014697, 0.7520421559438206, 0.7469103140857732, 0.7183447749614484, 0.7076632645221755, 0.6072782091966957, 0.5470068142426863, 0.5470068142426863, 0.5470068142426863, 0.876394740291001, 9.858241521585384, 4.465370710133872, 2.8468981085484057, 2.644790603913831, 1.898776545180229, 1.8813003241050084, 1.4377620759862568, 1.2624248062323284, 1.0908937227579691, 0.9570341798144184, 0.9565395652204909, 13.182691732213977, 0.7764696682380547, 0.7175477916948303, 0.6656863026612271, 0.6656863026612271, 0.6497064056186675, 0.6221429008381856, 0.5849870171847622, 0.5849870171847622, 0.5849870171847622, 0.47891136670775086, 0.46396314621795304, 0.46396314621795304, 0.4163326799109769, 0.40486178141548484, 0.39130016275270746, 0.38203830494251995, 0.35623946168185455, 0.34665774906983843, 8.958877636386259, 4.758633102184941, 4.347589510909573, 2.3901733491055692, 2.361961969812705, 2.294837525336076, 1.7965073282074044, 1.6643360177431725, 1.2676273641756548, 1.2330334778411693, 1.1252097078373822, 1.0945681269422465, 0.8308831237318942, 0.8017899953767655, 0.7490559595615219, 0.7029294707080155, 0.6424203678184912, 0.61072397805002, 0.556975015064241, 0.502016474462786, 0.3938321313060762, 0.3938321313060762, 0.3938321313060762, 0.3938320834862886, 0.38436631195904614, 0.3720480303309083, 0.3613167679014203, 0.3613167679014203, 0.3452946046301508, 0.876394740291001, 13.766043158654483, 1.5214118796584206, 6.161212121250428, 4.867639245774089, 2.5997406945708303, 2.06278235149783, 2.0227829904047745, 2.0018891560077994, 1.8589701865523445, 1.618068501707235, 1.5568731940418077, 1.492755226098769, 1.489106423797414, 1.414954749560848, 1.3284337500762073, 0.9237225343363312, 0.9132458877724047, 0.8020401961353093, 0.8020401961353093, 0.7173246419215474, 0.6971734052521225, 0.6971734052521225, 0.6971734052521225, 0.6908233218928651, 0.6108933318176782, 0.6108933318176782, 0.6108933318176782, 0.6108933318176782, 0.6108933318176782, 0.6108933318176782, 0.6108933318176782, 0.5985301433652217, 7.935157620330889, 6.246411727243324, 2.751823961054264, 2.5561735160955292, 2.0370018545628628, 1.6285663955007066, 1.4346299042031798, 1.3163113949811556, 1.2957673691072384, 1.1694505277392755, 0.8494961745176893, 0.8225041985540701, 0.8225041985540701, 0.8225041985540701, 0.7140103640890295, 0.7140103640890295, 0.7140103640890295, 0.7140103640890295, 0.7059955772073413, 0.6925927292392088, 0.6247460837905975, 0.6247460837905975, 0.6247460837905975, 0.556482503723619, 0.5551638185395013, 0.5513032093249736, 0.509092953469493, 0.49513902708710433, 0.47823041118036, 0.44116168366559805, 6.374187512407253, 2.7015758717006917, 2.122053684600682, 1.9915671211225994, 1.6949487236226577, 1.665468845745409, 1.4955241870644236, 1.47497099198939, 1.2705532551943077, 1.237190908844807, 1.1998964728062018, 1.1905405229508301, 1.0185618296527281, 1.0149895373131868, 1.0003935869582006, 0.9987082937353133, 0.9888878196463898, 0.986478404876523, 0.952663547851235, 0.952663547851235, 0.952663547851235, 0.952663547851235, 0.9526634607964685, 0.8331991624575683, 0.7827183668416512, 0.729491646256318, 0.6502318071601176, 0.6374834636399861, 0.6374833765852197, 0.622493546939622, 9.575047180038142, 4.915016395294842, 1.8979942026533765, 1.7088572512245028, 1.659344158242149, 1.4955789794847012, 1.482547595251865, 1.3183926028546131, 1.3094140272677588, 1.2478106927552683, 1.1734262858141815, 1.127662758126033, 1.0071412520919858, 0.8239262030515544, 0.7333832045064506, 0.6475145068274726, 0.6257086879917405, 0.5101690753019702, 0.49152911128743126, 0.49152911128743126, 0.49076685990134894, 0.4550151860235834, 0.4153745274639415, 0.40069869938607605, 0.40069869938607605, 0.40069869938607605, 0.4006986581621294, 0.36696630839451244, 0.36696630839451244, 0.3346914518737322, 4.9064117743140185, 4.879562771774454, 3.6270982316810243, 3.4682922971853176, 1.8057027434436954, 1.5088066223982965, 1.5059424180265342, 1.4249044742888743, 1.2742397739959996, 1.2610665676771151, 0.9429973287440447, 0.9323672732868271, 0.9203341680319117, 0.8295907980219757, 0.816169292266794, 0.7743482153388701, 0.7276973840476733, 0.7152975539436113, 0.7152975539436113, 0.6258050780034289, 2.1739748979847637, 0.5521744263569484, 0.5186551103869039, 0.49957495444739525, 0.49159422648238793, 0.49159422648238793, 0.49159422648238793, 0.49159422648238793, 0.49159422648238793, 0.44175136662564646, 2.7988070126475355, 2.6743820340981355, 1.9834133927446191, 1.594659967516565, 1.5445906904053877, 1.4595799195705705, 1.3851013274010986, 1.3572760109748379, 1.3504326051603717, 1.2598076639697247, 1.2561364469375955, 1.1320606158863238, 1.11321452649487, 1.11321452649487, 1.0803261611630672, 0.9836935203523697, 0.92402990625785, 0.9234585217831169, 0.8917538206140831, 0.8417721585235828, 0.8417721585235828, 0.8384581695883991, 0.7906101547500302, 0.7377543426132596, 0.7230247645725064, 0.5887976094752648, 0.5628614304049484, 0.4484260818886397, 0.4484260818886397, 0.4484260818886397, 10.540833128800088, 6.877254823802183, 2.916490397195298, 2.4187573293679177, 1.6439036823128494, 6.61576251694294, 1.2863254792058767, 1.1980776172940535, 1.105470396021102, 1.0138117527691128, 0.8897879188932325, 0.8897879188932325, 0.881042857453926, 0.8221033100214598, 0.7693685533865304, 0.6702925936967206, 0.6702925936967206, 0.6187359330110971, 0.5887770174758331, 0.5887770174758331, 0.5887770174758331, 0.4957064566348221, 0.46652893494665615, 0.46652893494665615, 0.4378136919116534, 0.4211287433876275, 0.4211287433876275, 0.4211287433876275, 0.36005016132548706, 0.35304245812399104, 0.3277567025606768, 6.448792795378733, 4.790666955276436, 2.670765594818836, 2.1667143412134053, 1.9664886269968571, 1.5715531971725971, 1.1499112543706853, 1.1021928918674377, 1.0535712830733082, 0.9347905484872229, 0.7317252309634411, 0.7317252309634411, 0.729257165483749, 0.6828975197519445, 0.6285026471242218, 0.6242626475817415, 0.5849186849389675, 0.5817832755586664, 0.5749796008838983, 0.5392193634086051, 0.5341073012388498, 0.5282290119061823, 0.4571887620002866, 0.4571887620002866, 0.45718871137745604, 0.4365743016943564, 0.4134438529624984, 0.4134438529624984, 0.3874171033532125, 0.37745240414589476], \"Category\": [\"Default\", \"Default\", \"Default\", \"Default\", \"Default\", \"Default\", \"Default\", \"Default\", \"Default\", \"Default\", \"Default\", \"Default\", \"Default\", \"Default\", \"Default\", \"Default\", \"Default\", \"Default\", \"Default\", \"Default\", \"Default\", \"Default\", \"Default\", \"Default\", \"Default\", \"Default\", \"Default\", \"Default\", \"Default\", \"Default\", \"Topic1\", \"Topic1\", \"Topic1\", \"Topic1\", \"Topic1\", \"Topic1\", \"Topic1\", \"Topic1\", \"Topic1\", \"Topic1\", \"Topic1\", \"Topic1\", \"Topic1\", \"Topic1\", \"Topic1\", \"Topic1\", \"Topic1\", \"Topic1\", \"Topic1\", \"Topic1\", \"Topic1\", \"Topic1\", \"Topic1\", \"Topic1\", \"Topic1\", \"Topic1\", \"Topic1\", \"Topic1\", \"Topic1\", \"Topic1\", \"Topic1\", \"Topic1\", \"Topic2\", \"Topic2\", \"Topic2\", \"Topic2\", \"Topic2\", \"Topic2\", \"Topic2\", \"Topic2\", \"Topic2\", \"Topic2\", \"Topic2\", \"Topic2\", \"Topic2\", \"Topic2\", \"Topic2\", \"Topic2\", \"Topic2\", \"Topic2\", \"Topic2\", \"Topic2\", \"Topic2\", \"Topic2\", \"Topic2\", \"Topic2\", \"Topic2\", \"Topic2\", \"Topic2\", \"Topic2\", \"Topic2\", \"Topic2\", \"Topic3\", \"Topic3\", \"Topic3\", \"Topic3\", \"Topic3\", \"Topic3\", \"Topic3\", \"Topic3\", \"Topic3\", \"Topic3\", \"Topic3\", \"Topic3\", \"Topic3\", \"Topic3\", \"Topic3\", \"Topic3\", \"Topic3\", \"Topic3\", \"Topic3\", \"Topic3\", \"Topic3\", \"Topic3\", \"Topic3\", \"Topic3\", \"Topic3\", \"Topic3\", \"Topic3\", \"Topic3\", \"Topic3\", \"Topic3\", \"Topic4\", \"Topic4\", \"Topic4\", \"Topic4\", \"Topic4\", \"Topic4\", \"Topic4\", \"Topic4\", \"Topic4\", \"Topic4\", \"Topic4\", \"Topic4\", \"Topic4\", \"Topic4\", \"Topic4\", \"Topic4\", \"Topic4\", \"Topic4\", \"Topic4\", \"Topic4\", \"Topic4\", \"Topic4\", \"Topic4\", \"Topic4\", \"Topic4\", \"Topic4\", \"Topic4\", \"Topic4\", \"Topic4\", \"Topic4\", \"Topic4\", \"Topic5\", \"Topic5\", \"Topic5\", \"Topic5\", \"Topic5\", \"Topic5\", \"Topic5\", \"Topic5\", \"Topic5\", \"Topic5\", \"Topic5\", \"Topic5\", \"Topic5\", \"Topic5\", \"Topic5\", \"Topic5\", \"Topic5\", \"Topic5\", \"Topic5\", \"Topic5\", \"Topic5\", \"Topic5\", \"Topic5\", \"Topic5\", \"Topic5\", \"Topic5\", \"Topic5\", \"Topic5\", \"Topic5\", \"Topic5\", \"Topic5\", \"Topic6\", \"Topic6\", \"Topic6\", \"Topic6\", \"Topic6\", \"Topic6\", \"Topic6\", \"Topic6\", \"Topic6\", \"Topic6\", \"Topic6\", \"Topic6\", \"Topic6\", \"Topic6\", \"Topic6\", \"Topic6\", \"Topic6\", \"Topic6\", \"Topic6\", \"Topic6\", \"Topic6\", \"Topic6\", \"Topic6\", \"Topic6\", \"Topic6\", \"Topic6\", \"Topic6\", \"Topic6\", \"Topic6\", \"Topic6\", \"Topic7\", \"Topic7\", \"Topic7\", \"Topic7\", \"Topic7\", \"Topic7\", \"Topic7\", \"Topic7\", \"Topic7\", \"Topic7\", \"Topic7\", \"Topic7\", \"Topic7\", \"Topic7\", \"Topic7\", \"Topic7\", \"Topic7\", \"Topic7\", \"Topic7\", \"Topic7\", \"Topic7\", \"Topic7\", \"Topic7\", \"Topic7\", \"Topic7\", \"Topic7\", \"Topic7\", \"Topic7\", \"Topic7\", \"Topic7\", \"Topic8\", \"Topic8\", \"Topic8\", \"Topic8\", \"Topic8\", \"Topic8\", \"Topic8\", \"Topic8\", \"Topic8\", \"Topic8\", \"Topic8\", \"Topic8\", \"Topic8\", \"Topic8\", \"Topic8\", \"Topic8\", \"Topic8\", \"Topic8\", \"Topic8\", \"Topic8\", \"Topic8\", \"Topic8\", \"Topic8\", \"Topic8\", \"Topic8\", \"Topic8\", \"Topic8\", \"Topic8\", \"Topic8\", \"Topic8\", \"Topic9\", \"Topic9\", \"Topic9\", \"Topic9\", \"Topic9\", \"Topic9\", \"Topic9\", \"Topic9\", \"Topic9\", \"Topic9\", \"Topic9\", \"Topic9\", \"Topic9\", \"Topic9\", \"Topic9\", \"Topic9\", \"Topic9\", \"Topic9\", \"Topic9\", \"Topic9\", \"Topic9\", \"Topic9\", \"Topic9\", \"Topic9\", \"Topic9\", \"Topic9\", \"Topic9\", \"Topic9\", \"Topic9\", \"Topic9\", \"Topic10\", \"Topic10\", \"Topic10\", \"Topic10\", \"Topic10\", \"Topic10\", \"Topic10\", \"Topic10\", \"Topic10\", \"Topic10\", \"Topic10\", \"Topic10\", \"Topic10\", \"Topic10\", \"Topic10\", \"Topic10\", \"Topic10\", \"Topic10\", \"Topic10\", \"Topic10\", \"Topic10\", \"Topic10\", \"Topic10\", \"Topic10\", \"Topic10\", \"Topic10\", \"Topic10\", \"Topic10\", \"Topic10\", \"Topic10\", \"Topic10\", \"Topic11\", \"Topic11\", \"Topic11\", \"Topic11\", \"Topic11\", \"Topic11\", \"Topic11\", \"Topic11\", \"Topic11\", \"Topic11\", \"Topic11\", \"Topic11\", \"Topic11\", \"Topic11\", \"Topic11\", \"Topic11\", \"Topic11\", \"Topic11\", \"Topic11\", \"Topic11\", \"Topic11\", \"Topic11\", \"Topic11\", \"Topic11\", \"Topic11\", \"Topic11\", \"Topic11\", \"Topic11\", \"Topic11\", \"Topic11\", \"Topic12\", \"Topic12\", \"Topic12\", \"Topic12\", \"Topic12\", \"Topic12\", \"Topic12\", \"Topic12\", \"Topic12\", \"Topic12\", \"Topic12\", \"Topic12\", \"Topic12\", \"Topic12\", \"Topic12\", \"Topic12\", \"Topic12\", \"Topic12\", \"Topic12\", \"Topic12\", \"Topic12\", \"Topic12\", \"Topic12\", \"Topic12\", \"Topic12\", \"Topic12\", \"Topic12\", \"Topic12\", \"Topic12\", \"Topic12\", \"Topic13\", \"Topic13\", \"Topic13\", \"Topic13\", \"Topic13\", \"Topic13\", \"Topic13\", \"Topic13\", \"Topic13\", \"Topic13\", \"Topic13\", \"Topic13\", \"Topic13\", \"Topic13\", \"Topic13\", \"Topic13\", \"Topic13\", \"Topic13\", \"Topic13\", \"Topic13\", \"Topic13\", \"Topic13\", \"Topic13\", \"Topic13\", \"Topic13\", \"Topic13\", \"Topic13\", \"Topic13\", \"Topic13\", \"Topic13\", \"Topic14\", \"Topic14\", \"Topic14\", \"Topic14\", \"Topic14\", \"Topic14\", \"Topic14\", \"Topic14\", \"Topic14\", \"Topic14\", \"Topic14\", \"Topic14\", \"Topic14\", \"Topic14\", \"Topic14\", \"Topic14\", \"Topic14\", \"Topic14\", \"Topic14\", \"Topic14\", \"Topic14\", \"Topic14\", \"Topic14\", \"Topic14\", \"Topic14\", \"Topic14\", \"Topic14\", \"Topic14\", \"Topic14\", \"Topic14\", \"Topic14\", \"Topic15\", \"Topic15\", \"Topic15\", \"Topic15\", \"Topic15\", \"Topic15\", \"Topic15\", \"Topic15\", \"Topic15\", \"Topic15\", \"Topic15\", \"Topic15\", \"Topic15\", \"Topic15\", \"Topic15\", \"Topic15\", \"Topic15\", \"Topic15\", \"Topic15\", \"Topic15\", \"Topic15\", \"Topic15\", \"Topic15\", \"Topic15\", \"Topic15\", \"Topic15\", \"Topic15\", \"Topic15\", \"Topic15\", \"Topic15\", \"Topic15\", \"Topic16\", \"Topic16\", \"Topic16\", \"Topic16\", \"Topic16\", \"Topic16\", \"Topic16\", \"Topic16\", \"Topic16\", \"Topic16\", \"Topic16\", \"Topic16\", \"Topic16\", \"Topic16\", \"Topic16\", \"Topic16\", \"Topic16\", \"Topic16\", \"Topic16\", \"Topic16\", \"Topic16\", \"Topic16\", \"Topic16\", \"Topic16\", \"Topic16\", \"Topic16\", \"Topic16\", \"Topic16\", \"Topic16\", \"Topic16\", \"Topic17\", \"Topic17\", \"Topic17\", \"Topic17\", \"Topic17\", \"Topic17\", \"Topic17\", \"Topic17\", \"Topic17\", \"Topic17\", \"Topic17\", \"Topic17\", \"Topic17\", \"Topic17\", \"Topic17\", \"Topic17\", \"Topic17\", \"Topic17\", \"Topic17\", \"Topic17\", \"Topic17\", \"Topic17\", \"Topic17\", \"Topic17\", \"Topic17\", \"Topic17\", \"Topic17\", \"Topic17\", \"Topic17\", \"Topic17\", \"Topic17\", \"Topic18\", \"Topic18\", \"Topic18\", \"Topic18\", \"Topic18\", \"Topic18\", \"Topic18\", \"Topic18\", \"Topic18\", \"Topic18\", \"Topic18\", \"Topic18\", \"Topic18\", \"Topic18\", \"Topic18\", \"Topic18\", \"Topic18\", \"Topic18\", \"Topic18\", \"Topic18\", \"Topic18\", \"Topic18\", \"Topic18\", \"Topic18\", \"Topic18\", \"Topic18\", \"Topic18\", \"Topic18\", \"Topic18\", \"Topic18\", \"Topic19\", \"Topic19\", \"Topic19\", \"Topic19\", \"Topic19\", \"Topic19\", \"Topic19\", \"Topic19\", \"Topic19\", \"Topic19\", \"Topic19\", \"Topic19\", \"Topic19\", \"Topic19\", \"Topic19\", \"Topic19\", \"Topic19\", \"Topic19\", \"Topic19\", \"Topic19\", \"Topic19\", \"Topic19\", \"Topic19\", \"Topic19\", \"Topic19\", \"Topic19\", \"Topic19\", \"Topic19\", \"Topic19\", \"Topic19\", \"Topic19\", \"Topic20\", \"Topic20\", \"Topic20\", \"Topic20\", \"Topic20\", \"Topic20\", \"Topic20\", \"Topic20\", \"Topic20\", \"Topic20\", \"Topic20\", \"Topic20\", \"Topic20\", \"Topic20\", \"Topic20\", \"Topic20\", \"Topic20\", \"Topic20\", \"Topic20\", \"Topic20\", \"Topic20\", \"Topic20\", \"Topic20\", \"Topic20\", \"Topic20\", \"Topic20\", \"Topic20\", \"Topic20\", \"Topic20\", \"Topic20\", \"Topic20\", \"Topic21\", \"Topic21\", \"Topic21\", \"Topic21\", \"Topic21\", \"Topic21\", \"Topic21\", \"Topic21\", \"Topic21\", \"Topic21\", \"Topic21\", \"Topic21\", \"Topic21\", \"Topic21\", \"Topic21\", \"Topic21\", \"Topic21\", \"Topic21\", \"Topic21\", \"Topic21\", \"Topic21\", \"Topic21\", \"Topic21\", \"Topic21\", \"Topic21\", \"Topic21\", \"Topic21\", \"Topic21\", \"Topic21\", \"Topic21\", \"Topic21\", \"Topic22\", \"Topic22\", \"Topic22\", \"Topic22\", \"Topic22\", \"Topic22\", \"Topic22\", \"Topic22\", \"Topic22\", \"Topic22\", \"Topic22\", \"Topic22\", \"Topic22\", \"Topic22\", \"Topic22\", \"Topic22\", \"Topic22\", \"Topic22\", \"Topic22\", \"Topic22\", \"Topic22\", \"Topic22\", \"Topic22\", \"Topic22\", \"Topic22\", \"Topic22\", \"Topic22\", \"Topic22\", \"Topic22\", \"Topic22\", \"Topic22\", \"Topic23\", \"Topic23\", \"Topic23\", \"Topic23\", \"Topic23\", \"Topic23\", \"Topic23\", \"Topic23\", \"Topic23\", \"Topic23\", \"Topic23\", \"Topic23\", \"Topic23\", \"Topic23\", \"Topic23\", \"Topic23\", \"Topic23\", \"Topic23\", \"Topic23\", \"Topic23\", \"Topic23\", \"Topic23\", \"Topic23\", \"Topic23\", \"Topic23\", \"Topic23\", \"Topic23\", \"Topic23\", \"Topic23\", \"Topic23\", \"Topic24\", \"Topic24\", \"Topic24\", \"Topic24\", \"Topic24\", \"Topic24\", \"Topic24\", \"Topic24\", \"Topic24\", \"Topic24\", \"Topic24\", \"Topic24\", \"Topic24\", \"Topic24\", \"Topic24\", \"Topic24\", \"Topic24\", \"Topic24\", \"Topic24\", \"Topic24\", \"Topic24\", \"Topic24\", \"Topic24\", \"Topic24\", \"Topic24\", \"Topic24\", \"Topic24\", \"Topic24\", \"Topic24\", \"Topic24\", \"Topic24\", \"Topic24\", \"Topic25\", \"Topic25\", \"Topic25\", \"Topic25\", \"Topic25\", \"Topic25\", \"Topic25\", \"Topic25\", \"Topic25\", \"Topic25\", \"Topic25\", \"Topic25\", \"Topic25\", \"Topic25\", \"Topic25\", \"Topic25\", \"Topic25\", \"Topic25\", \"Topic25\", \"Topic25\", \"Topic25\", \"Topic25\", \"Topic25\", \"Topic25\", \"Topic25\", \"Topic25\", \"Topic25\", \"Topic25\", \"Topic25\", \"Topic25\", \"Topic25\", \"Topic26\", \"Topic26\", \"Topic26\", \"Topic26\", \"Topic26\", \"Topic26\", \"Topic26\", \"Topic26\", \"Topic26\", \"Topic26\", \"Topic26\", \"Topic26\", \"Topic26\", \"Topic26\", \"Topic26\", \"Topic26\", \"Topic26\", \"Topic26\", \"Topic26\", \"Topic26\", \"Topic26\", \"Topic26\", \"Topic26\", \"Topic26\", \"Topic26\", \"Topic26\", \"Topic26\", \"Topic26\", \"Topic26\", \"Topic26\", \"Topic27\", \"Topic27\", \"Topic27\", \"Topic27\", \"Topic27\", \"Topic27\", \"Topic27\", \"Topic27\", \"Topic27\", \"Topic27\", \"Topic27\", \"Topic27\", \"Topic27\", \"Topic27\", \"Topic27\", \"Topic27\", \"Topic27\", \"Topic27\", \"Topic27\", \"Topic27\", \"Topic27\", \"Topic27\", \"Topic27\", \"Topic27\", \"Topic27\", \"Topic27\", \"Topic27\", \"Topic27\", \"Topic27\", \"Topic27\", \"Topic27\", \"Topic28\", \"Topic28\", \"Topic28\", \"Topic28\", \"Topic28\", \"Topic28\", \"Topic28\", \"Topic28\", \"Topic28\", \"Topic28\", \"Topic28\", \"Topic28\", \"Topic28\", \"Topic28\", \"Topic28\", \"Topic28\", \"Topic28\", \"Topic28\", \"Topic28\", \"Topic28\", \"Topic28\", \"Topic28\", \"Topic28\", \"Topic28\", \"Topic28\", \"Topic28\", \"Topic28\", \"Topic28\", \"Topic28\", \"Topic28\", \"Topic29\", \"Topic29\", \"Topic29\", \"Topic29\", \"Topic29\", \"Topic29\", \"Topic29\", \"Topic29\", \"Topic29\", \"Topic29\", \"Topic29\", \"Topic29\", \"Topic29\", \"Topic29\", \"Topic29\", \"Topic29\", \"Topic29\", \"Topic29\", \"Topic29\", \"Topic29\", \"Topic29\", \"Topic29\", \"Topic29\", \"Topic29\", \"Topic29\", \"Topic29\", \"Topic29\", \"Topic29\", \"Topic29\", \"Topic29\", \"Topic30\", \"Topic30\", \"Topic30\", \"Topic30\", \"Topic30\", \"Topic30\", \"Topic30\", \"Topic30\", \"Topic30\", \"Topic30\", \"Topic30\", \"Topic30\", \"Topic30\", \"Topic30\", \"Topic30\", \"Topic30\", \"Topic30\", \"Topic30\", \"Topic30\", \"Topic30\", \"Topic30\", \"Topic30\", \"Topic30\", \"Topic30\", \"Topic30\", \"Topic30\", \"Topic30\", \"Topic30\", \"Topic30\", \"Topic30\", \"Topic31\", \"Topic31\", \"Topic31\", \"Topic31\", \"Topic31\", \"Topic31\", \"Topic31\", \"Topic31\", \"Topic31\", \"Topic31\", \"Topic31\", \"Topic31\", \"Topic31\", \"Topic31\", \"Topic31\", \"Topic31\", \"Topic31\", \"Topic31\", \"Topic31\", \"Topic31\", \"Topic31\", \"Topic31\", \"Topic31\", \"Topic31\", \"Topic31\", \"Topic31\", \"Topic31\", \"Topic31\", \"Topic31\", \"Topic31\", \"Topic32\", \"Topic32\", \"Topic32\", \"Topic32\", \"Topic32\", \"Topic32\", \"Topic32\", \"Topic32\", \"Topic32\", \"Topic32\", \"Topic32\", \"Topic32\", \"Topic32\", \"Topic32\", \"Topic32\", \"Topic32\", \"Topic32\", \"Topic32\", \"Topic32\", \"Topic32\", \"Topic32\", \"Topic32\", \"Topic32\", \"Topic32\", \"Topic32\", \"Topic32\", \"Topic32\", \"Topic32\", \"Topic32\", \"Topic32\", \"Topic32\", \"Topic33\", \"Topic33\", \"Topic33\", \"Topic33\", \"Topic33\", \"Topic33\", \"Topic33\", \"Topic33\", \"Topic33\", \"Topic33\", \"Topic33\", \"Topic33\", \"Topic33\", \"Topic33\", \"Topic33\", \"Topic33\", \"Topic33\", \"Topic33\", \"Topic33\", \"Topic33\", \"Topic33\", \"Topic33\", \"Topic33\", \"Topic33\", \"Topic33\", \"Topic33\", \"Topic33\", \"Topic33\", \"Topic33\", \"Topic33\", \"Topic33\", \"Topic34\", \"Topic34\", \"Topic34\", \"Topic34\", \"Topic34\", \"Topic34\", \"Topic34\", \"Topic34\", \"Topic34\", \"Topic34\", \"Topic34\", \"Topic34\", \"Topic34\", \"Topic34\", \"Topic34\", \"Topic34\", \"Topic34\", \"Topic34\", \"Topic34\", \"Topic34\", \"Topic34\", \"Topic34\", \"Topic34\", \"Topic34\", \"Topic34\", \"Topic34\", \"Topic34\", \"Topic34\", \"Topic34\", \"Topic34\", \"Topic34\", \"Topic35\", \"Topic35\", \"Topic35\", \"Topic35\", \"Topic35\", \"Topic35\", \"Topic35\", \"Topic35\", \"Topic35\", \"Topic35\", \"Topic35\", \"Topic35\", \"Topic35\", \"Topic35\", \"Topic35\", \"Topic35\", \"Topic35\", \"Topic35\", \"Topic35\", \"Topic35\", \"Topic35\", \"Topic35\", \"Topic35\", \"Topic35\", \"Topic35\", \"Topic35\", \"Topic35\", \"Topic35\", \"Topic35\", \"Topic35\", \"Topic36\", \"Topic36\", \"Topic36\", \"Topic36\", \"Topic36\", \"Topic36\", \"Topic36\", \"Topic36\", \"Topic36\", \"Topic36\", \"Topic36\", \"Topic36\", \"Topic36\", \"Topic36\", \"Topic36\", \"Topic36\", \"Topic36\", \"Topic36\", \"Topic36\", \"Topic36\", \"Topic36\", \"Topic36\", \"Topic36\", \"Topic36\", \"Topic36\", \"Topic36\", \"Topic36\", \"Topic36\", \"Topic36\", \"Topic36\", \"Topic37\", \"Topic37\", \"Topic37\", \"Topic37\", \"Topic37\", \"Topic37\", \"Topic37\", \"Topic37\", \"Topic37\", \"Topic37\", \"Topic37\", \"Topic37\", \"Topic37\", \"Topic37\", \"Topic37\", \"Topic37\", \"Topic37\", \"Topic37\", \"Topic37\", \"Topic37\", \"Topic37\", \"Topic37\", \"Topic37\", \"Topic37\", \"Topic37\", \"Topic37\", \"Topic37\", \"Topic37\", \"Topic37\", \"Topic37\", \"Topic37\", \"Topic38\", \"Topic38\", \"Topic38\", \"Topic38\", \"Topic38\", \"Topic38\", \"Topic38\", \"Topic38\", \"Topic38\", \"Topic38\", \"Topic38\", \"Topic38\", \"Topic38\", \"Topic38\", \"Topic38\", \"Topic38\", \"Topic38\", \"Topic38\", \"Topic38\", \"Topic38\", \"Topic38\", \"Topic38\", \"Topic38\", \"Topic38\", \"Topic38\", \"Topic38\", \"Topic38\", \"Topic38\", \"Topic38\", \"Topic38\", \"Topic39\", \"Topic39\", \"Topic39\", \"Topic39\", \"Topic39\", \"Topic39\", \"Topic39\", \"Topic39\", \"Topic39\", \"Topic39\", \"Topic39\", \"Topic39\", \"Topic39\", \"Topic39\", \"Topic39\", \"Topic39\", \"Topic39\", \"Topic39\", \"Topic39\", \"Topic39\", \"Topic39\", \"Topic39\", \"Topic39\", \"Topic39\", \"Topic39\", \"Topic39\", \"Topic39\", \"Topic39\", \"Topic39\", \"Topic39\", \"Topic40\", \"Topic40\", \"Topic40\", \"Topic40\", \"Topic40\", \"Topic40\", \"Topic40\", \"Topic40\", \"Topic40\", \"Topic40\", \"Topic40\", \"Topic40\", \"Topic40\", \"Topic40\", \"Topic40\", \"Topic40\", \"Topic40\", \"Topic40\", \"Topic40\", \"Topic40\", \"Topic40\", \"Topic40\", \"Topic40\", \"Topic40\", \"Topic40\", \"Topic40\", \"Topic40\", \"Topic40\", \"Topic40\", \"Topic40\", \"Topic40\", \"Topic41\", \"Topic41\", \"Topic41\", \"Topic41\", \"Topic41\", \"Topic41\", \"Topic41\", \"Topic41\", \"Topic41\", \"Topic41\", \"Topic41\", \"Topic41\", \"Topic41\", \"Topic41\", \"Topic41\", \"Topic41\", \"Topic41\", \"Topic41\", \"Topic41\", \"Topic41\", \"Topic41\", \"Topic41\", \"Topic41\", \"Topic41\", \"Topic41\", \"Topic41\", \"Topic41\", \"Topic41\", \"Topic41\", \"Topic41\", \"Topic42\", \"Topic42\", \"Topic42\", \"Topic42\", \"Topic42\", \"Topic42\", \"Topic42\", \"Topic42\", \"Topic42\", \"Topic42\", \"Topic42\", \"Topic42\", \"Topic42\", \"Topic42\", \"Topic42\", \"Topic42\", \"Topic42\", \"Topic42\", \"Topic42\", \"Topic42\", \"Topic42\", \"Topic42\", \"Topic42\", \"Topic42\", \"Topic42\", \"Topic42\", \"Topic42\", \"Topic42\", \"Topic42\", \"Topic42\", \"Topic42\", \"Topic42\", \"Topic43\", \"Topic43\", \"Topic43\", \"Topic43\", \"Topic43\", \"Topic43\", \"Topic43\", \"Topic43\", \"Topic43\", \"Topic43\", \"Topic43\", \"Topic43\", \"Topic43\", \"Topic43\", \"Topic43\", \"Topic43\", \"Topic43\", \"Topic43\", \"Topic43\", \"Topic43\", \"Topic43\", \"Topic43\", \"Topic43\", \"Topic43\", \"Topic43\", \"Topic43\", \"Topic43\", \"Topic43\", \"Topic43\", \"Topic43\", \"Topic44\", \"Topic44\", \"Topic44\", \"Topic44\", \"Topic44\", \"Topic44\", \"Topic44\", \"Topic44\", \"Topic44\", \"Topic44\", \"Topic44\", \"Topic44\", \"Topic44\", \"Topic44\", \"Topic44\", \"Topic44\", \"Topic44\", \"Topic44\", \"Topic44\", \"Topic44\", \"Topic44\", \"Topic44\", \"Topic44\", \"Topic44\", \"Topic44\", \"Topic44\", \"Topic44\", \"Topic44\", \"Topic44\", \"Topic44\", \"Topic45\", \"Topic45\", \"Topic45\", \"Topic45\", \"Topic45\", \"Topic45\", \"Topic45\", \"Topic45\", \"Topic45\", \"Topic45\", \"Topic45\", \"Topic45\", \"Topic45\", \"Topic45\", \"Topic45\", \"Topic45\", \"Topic45\", \"Topic45\", \"Topic45\", \"Topic45\", \"Topic45\", \"Topic45\", \"Topic45\", \"Topic45\", \"Topic45\", \"Topic45\", \"Topic45\", \"Topic45\", \"Topic45\", \"Topic45\", \"Topic46\", \"Topic46\", \"Topic46\", \"Topic46\", \"Topic46\", \"Topic46\", \"Topic46\", \"Topic46\", \"Topic46\", \"Topic46\", \"Topic46\", \"Topic46\", \"Topic46\", \"Topic46\", \"Topic46\", \"Topic46\", \"Topic46\", \"Topic46\", \"Topic46\", \"Topic46\", \"Topic46\", \"Topic46\", \"Topic46\", \"Topic46\", \"Topic46\", \"Topic46\", \"Topic46\", \"Topic46\", \"Topic46\", \"Topic46\", \"Topic47\", \"Topic47\", \"Topic47\", \"Topic47\", \"Topic47\", \"Topic47\", \"Topic47\", \"Topic47\", \"Topic47\", \"Topic47\", \"Topic47\", \"Topic47\", \"Topic47\", \"Topic47\", \"Topic47\", \"Topic47\", \"Topic47\", \"Topic47\", \"Topic47\", \"Topic47\", \"Topic47\", \"Topic47\", \"Topic47\", \"Topic47\", \"Topic47\", \"Topic47\", \"Topic47\", \"Topic47\", \"Topic47\", \"Topic47\", \"Topic48\", \"Topic48\", \"Topic48\", \"Topic48\", \"Topic48\", \"Topic48\", \"Topic48\", \"Topic48\", \"Topic48\", \"Topic48\", \"Topic48\", \"Topic48\", \"Topic48\", \"Topic48\", \"Topic48\", \"Topic48\", \"Topic48\", \"Topic48\", \"Topic48\", \"Topic48\", \"Topic48\", \"Topic48\", \"Topic48\", \"Topic48\", \"Topic48\", \"Topic48\", \"Topic48\", \"Topic48\", \"Topic48\", \"Topic48\", \"Topic48\", \"Topic49\", \"Topic49\", \"Topic49\", \"Topic49\", \"Topic49\", \"Topic49\", \"Topic49\", \"Topic49\", \"Topic49\", \"Topic49\", \"Topic49\", \"Topic49\", \"Topic49\", \"Topic49\", \"Topic49\", \"Topic49\", \"Topic49\", \"Topic49\", \"Topic49\", \"Topic49\", \"Topic49\", \"Topic49\", \"Topic49\", \"Topic49\", \"Topic49\", \"Topic49\", \"Topic49\", \"Topic49\", \"Topic49\", \"Topic49\", \"Topic50\", \"Topic50\", \"Topic50\", \"Topic50\", \"Topic50\", \"Topic50\", \"Topic50\", \"Topic50\", \"Topic50\", \"Topic50\", \"Topic50\", \"Topic50\", \"Topic50\", \"Topic50\", \"Topic50\", \"Topic50\", \"Topic50\", \"Topic50\", \"Topic50\", \"Topic50\", \"Topic50\", \"Topic50\", \"Topic50\", \"Topic50\", \"Topic50\", \"Topic50\", \"Topic50\", \"Topic50\", \"Topic50\", \"Topic50\"], \"logprob\": [30.0, 29.0, 28.0, 27.0, 26.0, 25.0, 24.0, 23.0, 22.0, 21.0, 20.0, 19.0, 18.0, 17.0, 16.0, 15.0, 14.0, 13.0, 12.0, 11.0, 10.0, 9.0, 8.0, 7.0, 6.0, 5.0, 4.0, 3.0, 2.0, 1.0, -1.5698, -2.2338, -2.5223, -2.6814, -3.339, -3.3593, -3.5193, -3.8627, -3.9928, -4.0543, -4.1625, -4.2512, -4.2634, -4.4651, -4.4746, -4.5988, -4.6371, -4.7142, -4.7169, -4.7176, -4.7548, -4.7924, -4.8207, -4.882, -4.9394, -5.0053, -5.0976, -5.2728, -5.312, -5.3147, -3.1602, -3.3342, -1.7192, -2.696, -2.9091, -3.2881, -3.298, -3.4454, -3.7212, -3.7972, -3.9647, -4.0132, -4.0417, -4.1407, -4.1457, -4.1457, -4.2042, -4.2461, -4.2961, -4.2988, -4.3736, -4.3894, -4.5113, -4.5125, -4.5319, -4.5822, -4.6083, -4.6616, -4.6653, -4.744, -4.7477, -4.813, -1.7491, -3.4587, -3.4804, -3.8726, -0.7505, -4.368, -4.3726, -4.4202, -4.5684, -4.5947, -4.7314, -4.8193, -4.9412, -5.0486, -5.1571, -5.2615, -5.297, -5.297, -5.297, -5.297, -5.3013, -5.386, -5.39, -5.4142, -5.5418, -5.6842, -5.8347, -5.8711, -5.8774, -6.0186, -1.4198, -1.9634, -2.3085, -2.9798, -2.9875, -3.4471, -3.6337, -3.9129, -4.2248, -4.2432, -4.3305, -4.4312, -4.543, -4.6287, -4.6287, -4.7373, -4.9088, -4.9652, -4.9845, -4.9845, -4.9845, -4.9845, -4.9845, -5.0871, -5.1653, -5.1783, -5.1783, -5.1783, -5.1792, -5.4334, -5.1834, -1.8962, -2.0702, -2.6617, -2.7008, -2.9019, -2.9032, -2.9887, -3.2688, -3.6807, -3.7241, -3.8803, -4.1209, -4.4885, -4.5479, -4.574, -4.6368, -4.8758, -4.9469, -5.0128, -5.0296, -5.0567, -5.1193, -5.2182, -5.2413, -5.4129, -5.5636, -5.6974, -5.7034, -5.7544, -5.8283, -3.6848, -0.6556, -2.409, -2.5226, -4.1175, -4.1386, -4.1765, -4.2446, -4.3696, -4.5664, -4.6463, -4.6802, -4.7138, -4.7295, -4.7471, -4.8948, -4.9207, -5.1239, -5.1239, -5.1239, -5.1239, -5.1284, -5.2432, -5.3177, -5.4486, -5.5112, -5.7043, -5.8971, -6.4718, -6.6189, -6.6619, -2.5763, -3.0892, -3.1293, -3.2143, -3.4102, -3.545, -3.6249, -3.7083, -3.7715, -3.8062, -3.8229, -3.9371, -3.971, -3.9839, -4.0872, -4.1688, -4.2014, -4.2439, -4.25, -4.2531, -4.2847, -4.293, -4.3416, -4.369, -4.393, -4.4075, -4.4675, -4.4911, -4.5067, -4.5228, -1.2042, -2.0599, -3.1218, -3.3846, -3.4802, -3.615, -3.7486, -3.7892, -4.0409, -4.2599, -4.3282, -4.345, -4.398, -4.6683, -4.7013, -4.7778, -4.7828, -4.7896, -4.8579, -4.8687, -4.8752, -4.91, -5.0608, -5.0784, -5.1434, -5.3267, -5.4894, -5.5685, -5.6354, -5.64, -2.0356, -2.1095, -2.7249, -2.7804, -2.9239, -3.2649, -3.318, -3.32, -3.4197, -3.4243, -3.4471, -3.5258, -3.8575, -3.895, -4.1696, -4.6469, -4.6739, -4.9013, -4.9103, -4.9563, -4.9893, -5.1615, -5.1615, -5.2725, -5.3023, -5.3055, -5.4545, -5.619, -6.119, -6.2113, -1.4208, -2.7126, -3.0431, -3.1048, -3.3768, -3.5633, -3.5997, -3.7992, -3.8725, -4.0888, -4.0953, -4.1293, -4.1555, -4.3379, -4.4198, -4.4323, -4.5242, -4.7388, -4.7507, -4.7881, -4.8924, -4.9247, -4.9646, -4.9739, -4.9819, -4.9819, -5.1128, -5.1754, -5.3685, -5.6472, -2.4763, -2.1622, -2.5631, -2.6146, -2.7865, -2.8129, -2.8861, -2.8944, -3.0349, -3.3154, -3.4046, -3.955, -4.0889, -4.1426, -4.1513, -4.1769, -4.3062, -4.5556, -4.679, -4.696, -4.8229, -4.8408, -4.9824, -5.0662, -5.2594, -5.2594, -5.2594, -5.2594, -5.4521, -5.4521, -5.836, -1.0253, -1.9896, -3.0362, -3.445, -3.8217, -4.0498, -4.1363, -4.2313, -4.2765, -4.3785, -4.5747, -4.5859, -4.7401, -4.7735, -4.8668, -4.9568, -4.9588, -5.0275, -5.0284, -5.0431, -5.0521, -5.0759, -5.1236, -5.2191, -5.2926, -5.3283, -5.3446, -5.3446, -5.3446, -5.4596, -2.1174, -2.2841, -2.6669, -2.7952, -2.9931, -3.0855, -3.1139, -3.2795, -3.4749, -3.8363, -3.8782, -4.0282, -4.0771, -4.1357, -4.141, -4.3625, -4.3625, -4.3625, -4.3951, -4.4283, -4.5153, -4.5698, -4.5767, -4.7861, -4.7904, -4.912, -5.0926, -5.11, -5.1919, -5.2077, -1.6456, -2.421, -2.4615, -2.5181, -2.9324, -3.0124, -3.0567, -3.7313, -3.8624, -4.2674, -4.2713, -4.4469, -4.58, -4.6062, -4.8084, -4.9163, -4.9163, -4.9518, -4.9781, -5.0401, -5.2119, -5.339, -5.4648, -5.532, -5.6153, -6.0733, -6.086, -5.541, -6.2952, -5.8783, -2.5965, -1.7965, -1.9854, -2.4998, -3.0669, -3.1516, -3.4662, -3.5186, -3.7766, -3.8675, -3.977, -4.1136, -4.3376, -4.3613, -4.379, -4.3809, -4.4247, -4.5674, -4.7063, -4.7512, -4.8872, -4.9637, -5.0823, -5.0851, -5.2738, -5.2738, -5.2738, -5.3107, -5.4271, -5.4348, -5.4666, -3.3474, -1.4791, -2.2518, -2.402, -2.5931, -2.649, -3.2406, -3.504, -3.5926, -3.7829, -3.8861, -4.0433, -4.1516, -4.3341, -4.5351, -4.5717, -4.6961, -4.8493, -4.8756, -4.9275, -5.2261, -5.3148, -5.3148, -5.3148, -5.3148, -5.4012, -5.4317, -5.4336, -5.4762, -5.493, -5.7006, -1.6153, -1.7111, -2.0858, -2.3071, -2.8339, -3.1893, -3.9705, -4.1666, -4.299, -4.3228, -4.5765, -4.67, -4.6796, -4.7039, -4.7675, -4.8975, -4.9136, -5.2169, -5.3352, -5.3951, -5.41, -5.9718, -5.9866, -6.1775, -6.1775, -6.246, -6.9303, -7.1148, -7.1148, -7.1148, -7.1148, -2.3035, -2.6421, -2.9696, -3.0803, -3.1431, -3.4256, -3.5399, -3.7665, -3.8951, -3.9586, -4.0138, -4.0329, -4.0821, -4.0986, -4.1149, -4.1315, -4.2097, -4.2781, -4.4282, -4.4543, -4.4588, -4.5242, -4.5242, -4.5499, -4.6265, -4.6481, -4.6481, -4.7672, -4.8416, -2.5937, -1.8093, -2.1165, -2.6405, -2.827, -3.0114, -3.2674, -3.4455, -3.4621, -3.6741, -3.6962, -3.7879, -3.9603, -3.9777, -4.1289, -4.375, -4.5143, -4.6987, -4.7307, -4.7307, -4.7307, -4.8013, -4.8128, -5.1876, -5.2865, -5.3111, -5.3111, -5.4667, -5.5039, -5.5039, -5.5391, -3.7372, -0.9466, -2.5402, -2.9585, -3.3332, -3.4716, -3.728, -4.3149, -4.3274, -4.3274, -4.3274, -4.4749, -4.6832, -4.7196, -4.7196, -4.7441, -4.8769, -4.8769, -3.7175, -5.2636, -5.2636, -5.2636, -5.4915, -5.6337, -5.7157, -5.7791, -5.8254, -5.8625, -5.8752, -6.0221, -6.2211, -3.6936, -1.4679, -3.1769, -3.409, -3.6213, -3.8047, -4.0368, -4.0814, -4.0899, -4.1873, -4.2276, -4.2756, -4.3508, -4.3811, -4.4626, -4.6108, -4.7368, -4.7368, -4.7986, -4.9014, -4.9306, -4.9306, -4.9306, -4.9306, -4.9338, -4.973, -5.0167, -5.1241, -5.1241, -5.1241, -5.1241, -1.719, -1.1211, -2.4207, -3.3994, -3.537, -3.5637, -3.7367, -4.0009, -4.1599, -4.1836, -4.2073, -4.2165, -4.3626, -4.5418, -4.5722, -4.6178, -4.6933, -4.766, -4.7962, -4.8774, -4.9667, -5.1526, -5.2831, -5.3454, -5.5059, -5.5059, -5.5178, -5.5376, -5.7292, -5.7292, -5.7292, -2.5981, -1.5418, -2.6534, -3.3452, -3.3671, -3.5931, -3.6086, -3.61, -3.8095, -3.9737, -3.9856, -4.1372, -4.2061, -4.2639, -4.3097, -4.3609, -4.3625, -4.4311, -4.461, -4.493, -4.493, -4.5285, -4.5791, -4.6868, -4.6868, -4.6868, -4.6868, -4.6868, -4.8803, -4.8803, -5.0307, -2.5039, -2.5729, -2.6059, -3.1971, -3.3292, -3.3409, -3.4286, -3.4289, -3.5226, -3.702, -3.7734, -4.115, -4.1193, -4.1195, -4.1556, -4.1759, -4.2495, -4.3233, -4.4502, -4.6297, -4.8728, -5.0663, -5.0663, -5.2595, -5.2595, -5.2595, -5.2595, -5.2729, -5.4007, -5.4204, -3.0541, -2.3993, -2.2873, -2.3488, -2.6389, -3.0706, -3.0833, -3.0864, -3.1436, -3.4056, -3.5083, -3.5489, -3.7331, -3.9754, -4.0826, -4.0866, -4.1171, -4.179, -4.3015, -4.3807, -4.4004, -4.4336, -4.7254, -4.7345, -4.9358, -5.0819, -5.1585, -5.3367, -5.3463, -5.623, -5.7366, -5.7366, -2.5121, -2.3375, -2.7791, -2.9136, -3.0705, -3.2236, -3.3821, -3.3857, -3.394, -3.3946, -3.4336, -3.472, -3.7818, -3.9777, -3.9817, -2.7775, -4.1443, -4.2367, -4.2896, -4.3079, -4.3079, -4.3583, -4.4478, -4.5095, -4.6588, -4.6636, -4.7334, -4.7563, -5.0509, -5.1924, -5.1924, -1.7228, -2.2165, -2.5948, -3.4428, -3.4632, -3.4646, -3.4686, -3.7127, -3.9244, -4.1114, -4.1209, -4.1435, -4.1576, -4.1576, -4.1576, -4.1576, -4.1576, -4.701, -4.7071, -4.7071, -4.9006, -5.1552, -5.1632, -5.2865, -5.2865, -5.2865, -5.4166, -5.4756, -5.4787, -5.4787, -3.6603, -1.3566, -2.2764, -2.3824, -2.5788, -2.6485, -3.6977, -3.8424, -3.8675, -3.9612, -4.1886, -4.2455, -4.3455, -4.4716, -4.7271, -4.7271, -4.7271, -5.4369, -5.4369, -5.5061, -5.5557, -5.597, -6.0095, -6.184, -6.1984, -6.5723, -6.5936, -6.7461, -6.7567, -6.7567, -6.7567, -2.1674, -2.5715, -2.6144, -3.0689, -3.0849, -3.2767, -3.5023, -3.5159, -3.5968, -3.7506, -3.8885, -3.98, -4.0152, -4.1126, -4.2293, -4.2373, -4.2443, -4.3778, -4.4505, -4.6315, -4.7929, -4.8247, -4.8247, -4.8247, -4.8247, -4.9684, -5.0174, -5.0174, -5.0174, -5.144, -1.8603, -2.6267, -2.7209, -2.9737, -3.1395, -3.2145, -3.464, -3.6349, -3.8903, -3.9161, -4.0177, -4.0732, -4.0839, -4.0937, -4.1241, -4.1806, -4.2006, -4.2349, -4.291, -4.4458, -4.4495, -4.4495, -4.6433, -4.6433, -4.6433, -4.8412, -4.9044, -5.39, -5.4149, -5.4149, -1.8906, -2.2749, -2.2771, -2.6381, -3.1488, -1.8959, -4.125, -4.1272, -4.2637, -4.3789, -4.4873, -4.6195, -4.6195, -4.655, -4.6556, -4.7186, -4.7884, -4.7983, -4.8432, -4.9547, -5.0067, -5.2043, -5.5849, -5.9674, -4.3012, -6.1063, -6.1091, -6.1536, -6.1547, -6.1574, -2.0271, -2.2215, -2.7199, -2.7495, -2.8402, -2.9545, -3.1009, -3.6385, -3.7668, -3.8823, -3.9357, -3.9832, -4.1757, -4.1858, -4.2164, -4.2341, -4.27, -4.2987, -4.3824, -4.6079, -4.7098, -4.7189, -4.8515, -5.1319, -5.2062, -5.2062, -5.5833, -5.5912, -5.5912, -5.6603, -4.6569, -2.0576, -2.6122, -3.0289, -3.131, -3.2693, -3.2888, -3.3713, -3.4684, -3.7755, -3.878, -3.9773, -4.0149, -4.0291, -4.0291, -4.1109, -4.2037, -4.2273, -4.3543, -4.3848, -4.4829, -4.5252, -4.5569, -4.6437, -4.6795, -4.9652, -5.0492, -5.158, -5.158, -5.158, -5.158, -4.3664, -2.806, -2.8745, -3.0481, -3.0701, -3.1062, -3.1092, -3.254, -3.5139, -3.5214, -3.6819, -3.7081, -3.7509, -3.7593, -3.8325, -3.8347, -3.9097, -4.0892, -4.2416, -4.4024, -4.4336, -4.5375, -4.5595, -4.5595, -4.6775, -4.8864, -4.9461, -4.9461, -4.9461, -5.1389, -5.1389, -4.097, -1.8629, -2.3329, -2.7469, -3.3626, -3.3764, -3.4395, -3.4503, -3.6282, -3.6937, -3.8942, -4.0197, -4.0386, -4.1784, -4.2132, -4.2548, -4.2927, -4.3623, -4.5342, -4.5387, -4.6289, -4.713, -4.728, -4.728, -4.7977, -4.8155, -4.9215, -4.9215, -4.9215, -5.0829, -5.1146, -2.4221, -2.5117, -2.5834, -2.926, -3.1359, -3.2704, -3.3981, -3.5327, -3.7064, -3.7156, -3.7517, -3.787, -3.8292, -3.8533, -3.9105, -3.9228, -4.0467, -4.2777, -4.3605, -4.4786, -4.4893, -4.5311, -4.7449, -4.8759, -5.0687, -5.0687, -5.1977, -5.3281, -5.3968, -5.7528, -1.7009, -2.4044, -3.1569, -3.2066, -3.2783, -3.2905, -3.2971, -3.7879, -3.8647, -4.0737, -4.2395, -4.26, -4.3332, -4.3439, -4.3601, -4.4021, -4.4028, -4.5749, -4.5885, -4.6126, -4.7312, -4.9998, -5.193, -5.193, -5.2072, -5.3234, -5.3857, -5.5041, -5.578, -5.578, -2.2869, -1.4519, -2.4858, -2.7867, -3.3438, -3.4133, -3.4594, -3.7014, -3.751, -3.7581, -3.7763, -3.8146, -3.8622, -3.9968, -4.0921, -4.3387, -4.5869, -4.6215, -4.6841, -4.6841, -4.8021, -4.8926, -4.9741, -5.0707, -5.1858, -5.2635, -5.2635, -5.2635, -5.4557, -5.4557, -5.4557, -1.7661, -1.9707, -2.0053, -2.9171, -3.3656, -3.5642, -3.6097, -3.6617, -3.6956, -4.0839, -4.1894, -4.5849, -4.5849, -4.6069, -4.867, -4.9398, -5.0306, -5.033, -5.1642, -5.1642, -5.4752, -5.4965, -5.4965, -5.5481, -5.5729, -5.7517, -5.856, -5.878, -6.118, -6.118, -2.1677, -2.5787, -2.962, -3.2336, -3.3635, -3.507, -3.737, -3.7424, -3.8872, -3.906, -3.906, -3.906, -3.906, -3.9435, -3.993, -4.0624, -4.1033, -4.1042, -4.2325, -4.3919, -4.4555, -4.5196, -4.5642, -4.5737, -4.6279, -4.649, -4.8722, -5.0349, -5.0349, -5.0349, -5.0349, -1.6831, -2.5013, -2.9796, -3.0592, -3.4246, -3.435, -3.7429, -3.8967, -4.0742, -4.2385, -4.2391, -1.6797, -4.5141, -4.6235, -4.7307, -4.7307, -4.7662, -4.8306, -4.9245, -4.9245, -4.9245, -5.2545, -5.3111, -5.3111, -5.5166, -5.5732, -5.6444, -5.6961, -5.8561, -5.9227, -1.7693, -2.423, -2.5177, -3.1577, -3.1707, -3.2023, -3.475, -3.5618, -3.8795, -3.9126, -4.0236, -4.0576, -4.4099, -4.4577, -4.5505, -4.6394, -4.7694, -4.8449, -4.9877, -5.1584, -5.6147, -5.6147, -5.6147, -5.6147, -5.6666, -5.7385, -5.8056, -5.8056, -5.915, -5.0381, -2.6098, -5.3191, -2.1038, -2.3487, -3.0154, -3.2695, -3.2913, -3.3028, -3.3858, -3.5434, -3.5877, -3.6364, -3.6392, -3.6988, -3.7731, -4.2206, -4.2353, -4.4066, -4.4066, -4.5601, -4.6004, -4.6004, -4.6004, -4.6134, -4.7939, -4.7939, -4.7939, -4.7939, -4.7939, -4.7939, -4.7939, -4.8249, -1.8184, -2.0649, -2.9291, -3.0091, -3.2588, -3.5113, -3.6579, -3.7592, -3.7779, -3.9012, -4.3051, -4.348, -4.348, -4.348, -4.5418, -4.5418, -4.5418, -4.5418, -4.5577, -4.5849, -4.7352, -4.7352, -4.7352, -4.9135, -4.9173, -4.9284, -5.059, -5.1062, -5.1666, -5.3134, -2.0253, -2.9305, -3.1949, -3.2655, -3.4473, -3.4673, -3.5912, -3.6073, -3.7831, -3.815, -3.8518, -3.8613, -4.0535, -4.058, -4.0762, -4.0783, -4.0908, -4.0939, -4.1383, -4.1383, -4.1383, -4.1383, -4.1383, -4.3129, -4.397, -4.494, -4.6586, -4.6878, -4.6878, -4.7232, -1.5528, -2.2408, -3.2646, -3.3832, -3.4167, -3.5363, -3.5465, -3.6842, -3.6923, -3.7498, -3.8239, -3.8724, -4.0126, -4.2725, -4.4311, -4.6091, -4.6598, -4.9823, -5.0457, -5.0457, -5.0483, -5.1828, -5.3566, -5.4295, -5.4295, -5.4295, -5.4295, -5.6204, -5.6204, -5.8451, -2.2382, -2.2439, -2.556, -2.6035, -3.3165, -3.522, -3.5242, -3.5886, -3.7207, -3.7332, -4.0924, -4.107, -4.1237, -4.2598, -4.2817, -4.3528, -4.4387, -4.4628, -4.4628, -4.6565, -3.4409, -4.85, -4.9523, -5.0155, -5.0432, -5.0432, -5.0432, -5.0432, -5.0432, -5.2359, -2.8326, -2.8818, -3.2103, -3.4572, -3.4939, -3.5595, -3.6208, -3.6447, -3.6507, -3.7332, -3.7367, -3.8625, -3.8831, -3.8831, -3.92, -4.0372, -4.1171, -4.1179, -4.1631, -4.2388, -4.2388, -4.2441, -4.3228, -4.4176, -4.4458, -4.7467, -4.8169, -5.2042, -5.2042, -5.2042, -3.397, -1.8631, -2.7638, -2.9667, -3.3978, -2.0244, -3.6838, -3.769, -3.867, -3.9745, -4.1413, -4.1413, -4.1541, -4.2455, -4.335, -4.5285, -4.5285, -4.6463, -4.7217, -4.7217, -4.7217, -5.0004, -5.1066, -5.1066, -5.2235, -5.2983, -5.2983, -5.2983, -5.6326, -5.6792, -5.8681, -1.759, -2.0678, -2.6889, -2.9179, -3.0257, -3.2801, -3.6501, -3.7021, -3.758, -3.9094, -4.2371, -4.2371, -4.2418, -4.335, -4.4567, -4.4668, -4.5662, -4.5745, -4.5929, -4.6954, -4.711, -4.7292, -4.9801, -4.9801, -4.9801, -5.0665, -5.1733, -5.1733, -5.3088, -5.366], \"loglift\": [30.0, 29.0, 28.0, 27.0, 26.0, 25.0, 24.0, 23.0, 22.0, 21.0, 20.0, 19.0, 18.0, 17.0, 16.0, 15.0, 14.0, 13.0, 12.0, 11.0, 10.0, 9.0, 8.0, 7.0, 6.0, 5.0, 4.0, 3.0, 2.0, 1.0, 3.1064, 3.1006, 3.0967, 3.094, 3.077, 3.0735, 3.0702, 3.0534, 3.0454, 3.0413, 3.0335, 3.0265, 3.0255, 3.007, 3.0061, 2.9928, 2.9884, 2.9791, 2.9787, 2.9787, 2.9739, 2.969, 2.9652, 2.9565, 2.948, 2.9378, 2.9224, 2.8898, 2.8818, 2.8813, 2.4121, 0.5741, 3.1671, 3.1549, 3.1503, 3.1392, 3.1389, 3.1333, 3.1206, 3.1164, 3.1062, 3.1029, 3.1009, 3.0935, 3.0932, 3.0932, 3.0885, 3.0849, 3.0805, 3.0803, 3.0733, 3.0718, 3.0592, 3.0591, 3.057, 3.0512, 3.0482, 3.0417, 3.0412, 3.0311, 3.0306, 3.0216, 3.2347, 3.1978, 3.1968, 3.1754, 3.1578, 3.1343, 3.1338, 3.1287, 3.1116, 3.1083, 3.0901, 3.0771, 3.0575, 3.0384, 3.0175, 2.9955, 2.9876, 2.9876, 2.9876, 2.9876, 2.9866, 2.9668, 2.9658, 2.96, 2.9269, 2.8863, 2.8387, 2.8264, 2.8243, 2.7737, 3.4093, 3.4042, 3.3992, 3.383, 3.3827, 3.3636, 3.3531, 3.3335, 3.3048, 3.3028, 3.2931, 3.2809, 3.266, 3.2536, 3.2536, 3.2365, 3.2061, 3.1952, 3.1913, 3.1913, 3.1913, 3.1913, 3.1913, 3.1698, 3.1521, 3.1491, 3.1491, 3.1491, 3.1489, 3.0832, 2.0542, 3.4133, 3.4111, 3.4002, 3.3992, 3.3936, 3.3936, 3.3909, 3.3801, 3.3581, 3.3553, 3.344, 3.3231, 3.281, 3.2729, 3.2692, 3.2599, 3.2196, 3.2061, 3.1928, 3.1893, 3.1835, 3.1698, 3.1466, 3.141, 3.0958, 3.0512, 3.0075, 3.0054, 2.9877, 2.9609, 1.8876, 3.4712, 3.4545, 3.4521, 3.3677, 3.3655, 3.3616, 3.354, 3.339, 3.3118, 3.2994, 3.2938, 3.2882, 3.2855, 3.2824, 3.255, 3.2498, 3.2054, 3.2054, 3.2054, 3.2054, 3.2044, 3.176, 3.1562, 3.1187, 3.0996, 3.0351, 2.9622, 2.691, 2.6085, 2.5834, 3.4901, 3.474, 3.4724, 3.4687, 3.459, 3.4512, 3.4461, 3.4404, 3.4357, 3.4331, 3.4317, 3.4222, 3.4191, 3.4179, 3.408, 3.3994, 3.3958, 3.3909, 3.3902, 3.3898, 3.3861, 3.3851, 3.379, 3.3755, 3.3724, 3.3704, 3.3622, 3.3588, 3.3565, 3.3542, 3.644, 3.6342, 3.6029, 3.5888, 3.5827, 3.5732, 3.5626, 3.559, 3.5342, 3.5075, 3.4981, 3.4957, 3.4878, 3.4421, 3.4358, 3.4205, 3.4195, 3.4181, 3.4035, 3.4011, 3.3997, 3.3918, 3.3553, 3.3508, 3.3335, 3.2802, 3.2269, 3.1988, 3.1739, 3.1722, 3.6701, 3.6685, 3.6533, 3.6514, 3.646, 3.6298, 3.6267, 3.6266, 3.6205, 3.6202, 3.6187, 3.6133, 3.5857, 3.582, 3.5509, 3.4758, 3.4706, 3.4221, 3.42, 3.409, 3.4009, 3.3552, 3.3552, 3.3226, 3.3134, 3.3124, 3.2634, 3.2035, 2.9813, 2.9334, 3.7608, 3.7344, 3.7205, 3.7173, 3.7011, 3.6874, 3.6844, 3.6663, 3.6587, 3.6334, 3.6326, 3.6281, 3.6246, 3.5977, 3.5842, 3.5821, 3.5656, 3.5222, 3.5195, 3.5111, 3.4863, 3.4782, 3.4679, 3.4654, 3.4633, 3.4633, 3.4269, 3.4083, 3.3455, 3.2399, 1.722, 3.7602, 3.7498, 3.7481, 3.742, 3.741, 3.7379, 3.7376, 3.7311, 3.7153, 3.7093, 3.6593, 3.643, 3.6358, 3.6347, 3.6311, 3.612, 3.5688, 3.5439, 3.5403, 3.5117, 3.5074, 3.4716, 3.4485, 3.3899, 3.3899, 3.3899, 3.3899, 3.3233, 3.3233, 3.1645, 3.8109, 3.7993, 3.7655, 3.74, 3.7062, 3.6794, 3.6678, 3.654, 3.647, 3.6302, 3.5938, 3.5915, 3.5583, 3.5506, 3.5279, 3.5044, 3.5039, 3.4849, 3.4846, 3.4804, 3.4778, 3.4709, 3.4567, 3.4267, 3.4023, 3.3901, 3.3844, 3.3844, 3.3844, 3.3423, 3.8259, 3.822, 3.8102, 3.8051, 3.796, 3.7911, 3.7895, 3.7794, 3.7652, 3.7312, 3.7265, 3.7082, 3.7017, 3.6935, 3.6927, 3.6577, 3.6577, 3.6577, 3.652, 3.646, 3.6295, 3.6186, 3.6172, 3.5703, 3.5693, 3.5383, 3.487, 3.4817, 3.4558, 3.4506, 3.8386, 3.8226, 3.8214, 3.8196, 3.8032, 3.7992, 3.7968, 3.746, 3.7319, 3.6768, 3.6762, 3.6456, 3.6193, 3.6138, 3.5674, 3.5395, 3.5395, 3.5298, 3.5225, 3.5047, 3.4511, 3.4073, 3.3602, 3.3336, 3.299, 3.0784, 3.0715, 3.0493, 2.9527, 2.9493, 1.6019, 3.8635, 3.8601, 3.8468, 3.8224, 3.8175, 3.7954, 3.791, 3.7663, 3.7561, 3.7427, 3.7241, 3.6885, 3.6844, 3.6812, 3.6809, 3.6728, 3.6445, 3.6137, 3.603, 3.5684, 3.5474, 3.5124, 3.5115, 3.4494, 3.4494, 3.4494, 3.4364, 3.3931, 3.3901, 3.3777, 0.851, 3.8728, 3.8588, 3.8546, 3.8484, 3.8463, 3.8162, 3.7964, 3.7886, 3.7695, 3.7578, 3.7377, 3.7221, 3.6925, 3.6542, 3.6466, 3.6189, 3.5809, 3.574, 3.5598, 3.4676, 3.4365, 3.4365, 3.4365, 3.4365, 3.4044, 3.3927, 3.3919, 3.3751, 3.3684, 3.2794, 3.8723, 3.871, 3.8641, 3.8587, 3.84, 3.8209, 3.7487, 3.7212, 3.6999, 3.6958, 3.6469, 3.6263, 3.6241, 3.6184, 3.6031, 3.5695, 3.5651, 3.4722, 3.4305, 3.4082, 3.4025, 3.1485, 3.1408, 3.0359, 3.0359, 2.9961, 2.5393, 2.3996, 2.3996, 2.3996, 2.2175, 3.8591, 3.8483, 3.8339, 3.828, 3.8243, 3.8049, 3.7954, 3.7736, 3.7591, 3.7513, 3.7441, 3.7416, 3.7348, 3.7325, 3.7301, 3.7277, 3.7159, 3.7048, 3.6783, 3.6733, 3.6725, 3.6596, 3.6596, 3.6543, 3.6379, 3.6331, 3.6331, 3.6053, 3.5865, 3.5816, 3.8932, 3.8871, 3.8713, 3.8634, 3.8542, 3.8384, 3.8249, 3.8235, 3.8041, 3.8018, 3.792, 3.7712, 3.7689, 3.7476, 3.7066, 3.6794, 3.6385, 3.6307, 3.6307, 3.6307, 3.6131, 3.6101, 3.4986, 3.4641, 3.4551, 3.4551, 3.3954, 3.3803, 3.3803, 3.3656, 0.4612, 3.9184, 3.8898, 3.8716, 3.848, 3.8369, 3.8123, 3.7302, 3.7279, 3.7279, 3.7279, 3.6998, 3.654, 3.6453, 3.6453, 3.6392, 3.6044, 3.6044, 3.5202, 3.4824, 3.4824, 3.4824, 3.3947, 3.3336, 3.2962, 3.266, 3.2434, 3.2249, 3.2185, 3.1413, 3.0282, 2.4817, 3.9267, 3.8714, 3.8544, 3.8353, 3.8157, 3.7857, 3.7792, 3.778, 3.7628, 3.7562, 3.748, 3.7345, 3.7288, 3.7128, 3.681, 3.6508, 3.6508, 3.635, 3.607, 3.5986, 3.5986, 3.5986, 3.5986, 3.5977, 3.5862, 3.573, 3.5388, 3.5388, 3.5388, 3.5388, 2.4794, 3.9333, 3.9098, 3.8581, 3.8463, 3.8438, 3.8263, 3.7937, 3.7702, 3.7664, 3.7626, 3.761, 3.7353, 3.6993, 3.6926, 3.6824, 3.6646, 3.6465, 3.6387, 3.6167, 3.5911, 3.5324, 3.4866, 3.4633, 3.3991, 3.3991, 3.3941, 3.3857, 3.2994, 3.2994, 3.2994, 1.6002, 3.9335, 3.9062, 3.867, 3.8653, 3.8456, 3.8441, 3.844, 3.8225, 3.8019, 3.8002, 3.7781, 3.7671, 3.7573, 3.7493, 3.7399, 3.7396, 3.7263, 3.7204, 3.7138, 3.7138, 3.7063, 3.6952, 3.6702, 3.6702, 3.6702, 3.6702, 3.6702, 3.6199, 3.6199, 3.5756, 3.9123, 3.9098, 3.9086, 3.878, 3.8685, 3.8676, 3.8606, 3.8606, 3.8524, 3.8347, 3.8268, 3.7815, 3.7808, 3.7808, 3.7751, 3.7719, 3.7597, 3.7466, 3.7223, 3.6833, 3.6213, 3.5636, 3.5636, 3.4978, 3.4978, 3.4978, 3.4978, 3.4929, 3.4443, 3.4365, 2.5615, 1.7991, 3.922, 3.9202, 3.9101, 3.8888, 3.8881, 3.8879, 3.8843, 3.8652, 3.8564, 3.8526, 3.8339, 3.8041, 3.7887, 3.7881, 3.7835, 3.7737, 3.7528, 3.7381, 3.7343, 3.7277, 3.6621, 3.6598, 3.6051, 3.5601, 3.5347, 3.4704, 3.4667, 3.3513, 3.2985, 3.2985, 1.6862, 3.9727, 3.9554, 3.9485, 3.9393, 3.9289, 3.9165, 3.9162, 3.9155, 3.9154, 3.912, 3.9086, 3.8759, 3.8501, 3.8495, 3.8276, 3.8245, 3.8086, 3.799, 3.7956, 3.7956, 3.7859, 3.7677, 3.7543, 3.7193, 3.7181, 3.7003, 3.6942, 3.6068, 3.5581, 3.5581, 4.0119, 4.0007, 3.9877, 3.9343, 3.9324, 3.9323, 3.9319, 3.9065, 3.8795, 3.8513, 3.8497, 3.8459, 3.8436, 3.8436, 3.8436, 3.8436, 3.8436, 3.7279, 3.7263, 3.7263, 3.672, 3.5884, 3.5855, 3.5395, 3.5395, 3.5395, 3.4871, 3.4619, 3.4606, 3.4606, 0.538, 4.0249, 4.0064, 4.003, 3.9957, 3.9928, 3.915, 3.8973, 3.894, 3.8809, 3.8446, 3.8344, 3.8153, 3.7889, 3.7269, 3.7269, 3.7269, 3.4832, 3.4832, 3.4532, 3.431, 3.412, 3.199, 3.0963, 3.0874, 2.8421, 2.8272, 2.7178, 2.71, 2.71, 2.71, 4.0456, 4.0316, 4.0298, 4.0051, 4.004, 3.9897, 3.9694, 3.9681, 3.9596, 3.9418, 3.9236, 3.9103, 3.9049, 3.8891, 3.8684, 3.8669, 3.8656, 3.839, 3.8234, 3.7803, 3.7366, 3.7274, 3.7274, 3.7274, 3.7274, 3.6831, 3.667, 3.667, 3.667, 3.6228, 4.0914, 4.0665, 4.0619, 4.0476, 4.0362, 4.0304, 4.008, 3.9895, 3.9562, 3.9524, 3.9366, 3.9274, 3.9256, 3.9239, 3.9186, 3.9083, 3.9046, 3.898, 3.8869, 3.8535, 3.8527, 3.8527, 3.8048, 3.8048, 3.8048, 3.7483, 3.7285, 3.5463, 3.5355, 3.5355, 4.0937, 4.0831, 4.0831, 4.0688, 4.0381, 3.9433, 3.9204, 3.92, 3.8943, 3.8702, 3.8455, 3.8125, 3.8125, 3.8031, 3.8029, 3.7855, 3.7654, 3.7624, 3.7488, 3.7132, 3.6956, 3.6232, 3.4574, 3.2545, 3.228, 3.1719, 3.1701, 3.1427, 3.142, 3.1403, 4.0933, 4.0877, 4.0677, 4.0661, 4.0612, 4.0543, 4.0444, 3.9941, 3.9781, 3.9621, 3.9541, 3.9468, 3.9136, 3.9117, 3.9059, 3.9025, 3.8954, 3.8895, 3.8717, 3.8177, 3.7901, 3.7876, 3.7483, 3.6526, 3.6242, 3.6242, 3.4596, 3.4558, 3.4558, 3.4217, 2.761, 4.1062, 4.0863, 4.0628, 4.0554, 4.0444, 4.0427, 4.0352, 4.0257, 3.9896, 3.9753, 3.9601, 3.954, 3.9517, 3.9517, 3.9376, 3.9204, 3.9159, 3.8897, 3.883, 3.8605, 3.8502, 3.8423, 3.8196, 3.8098, 3.7223, 3.6932, 3.6531, 3.6531, 3.6531, 3.6531, 1.9386, 4.098, 4.094, 4.0826, 4.0811, 4.0784, 4.0782, 4.0665, 4.0413, 4.0405, 4.0217, 4.0183, 4.0127, 4.0115, 4.0014, 4.0011, 3.9899, 3.9602, 3.9313, 3.8967, 3.8895, 3.8642, 3.8586, 3.8586, 3.8268, 3.7636, 3.7438, 3.7438, 3.7438, 3.6745, 3.6745, 3.4322, 4.1466, 4.1327, 4.1141, 4.0688, 4.0674, 4.0611, 4.06, 4.0399, 4.0316, 4.0033, 3.983, 3.9798, 3.9541, 3.9472, 3.9388, 3.9308, 3.9156, 3.8743, 3.8732, 3.8492, 3.8254, 3.821, 3.821, 3.8, 3.7944, 3.76, 3.76, 3.76, 3.7028, 3.6908, 4.1385, 4.1347, 4.1315, 4.1125, 4.0975, 4.0862, 4.0742, 4.0599, 4.0387, 4.0375, 4.0327, 4.0278, 4.0217, 4.0182, 4.0094, 4.0075, 3.9869, 3.9424, 3.9243, 3.8965, 3.8938, 3.8833, 3.824, 3.7829, 3.7157, 3.7157, 3.6658, 3.6114, 3.581, 3.4049, 4.1627, 4.1424, 4.0986, 4.0945, 4.0883, 4.0871, 4.0865, 4.0299, 4.0186, 3.984, 3.9519, 3.9476, 3.9318, 3.9295, 3.9258, 3.9161, 3.916, 3.8729, 3.8692, 3.8627, 3.8288, 3.7408, 3.6674, 3.6674, 3.6617, 3.6128, 3.5852, 3.5302, 3.4941, 3.4941, 1.9115, 4.1743, 4.146, 4.1309, 4.0889, 4.0819, 4.0771, 4.0482, 4.0415, 4.0405, 4.038, 4.0325, 4.0254, 4.0037, 3.9869, 3.9367, 3.8755, 3.866, 3.8483, 3.8483, 3.8127, 3.7833, 3.7553, 3.7201, 3.6754, 3.6434, 3.6434, 3.6434, 3.5579, 3.5579, 3.5579, 4.1707, 4.1658, 4.1649, 4.1251, 4.0889, 4.0676, 4.0621, 4.0556, 4.0512, 3.9905, 3.9704, 3.8782, 3.8782, 3.8722, 3.7939, 3.7694, 3.7371, 3.7362, 3.6861, 3.6861, 3.5508, 3.5406, 3.5406, 3.5156, 3.5033, 3.4103, 3.3523, 3.3398, 3.1951, 3.1951, 4.2013, 4.1846, 4.1619, 4.1401, 4.1276, 4.112, 4.0825, 4.0817, 4.0598, 4.0568, 4.0568, 4.0568, 4.0568, 4.0506, 4.0421, 4.0295, 4.0218, 4.0216, 3.9957, 3.9595, 3.9438, 3.9273, 3.9152, 3.9126, 3.8974, 3.8913, 3.8211, 3.7629, 3.7629, 3.7629, 3.2916, 4.2231, 4.1968, 4.1687, 4.1627, 4.1286, 4.1275, 4.0885, 4.0648, 4.0334, 3.9999, 3.9998, 3.9359, 3.9334, 3.9029, 3.8707, 3.8707, 3.8595, 3.8385, 3.8062, 3.8062, 3.8062, 3.6763, 3.6513, 3.6513, 3.5541, 3.5256, 3.4884, 3.4606, 3.3705, 3.3312, 4.2326, 4.2115, 4.2072, 4.1655, 4.1643, 4.1615, 4.1337, 4.1233, 4.0779, 4.0724, 4.0529, 4.0466, 3.9698, 3.9577, 3.933, 3.9076, 3.8676, 3.8427, 3.792, 3.7252, 3.5117, 3.5117, 3.5117, 3.5117, 3.4841, 3.4448, 3.4069, 3.4069, 3.3429, 3.2884, 2.9625, 2.4558, 4.2724, 4.2632, 4.2237, 4.201, 4.1988, 4.1976, 4.1887, 4.1699, 4.1641, 4.1575, 4.1571, 4.1486, 4.1374, 4.0532, 4.0499, 4.0085, 4.0085, 3.9666, 3.9549, 3.9549, 3.9549, 3.951, 3.8935, 3.8935, 3.8935, 3.8935, 3.8935, 3.8935, 3.8935, 3.8829, 4.3048, 4.2976, 4.2531, 4.2469, 4.2242, 4.1955, 4.1757, 4.1605, 4.1575, 4.1368, 4.0525, 4.0419, 4.0419, 4.0419, 3.9896, 3.9896, 3.9896, 3.9896, 3.985, 3.9769, 3.9297, 3.9297, 3.9297, 3.8672, 3.8657, 3.8616, 3.8106, 3.7912, 3.7655, 3.6995, 4.3169, 4.2702, 4.2472, 4.2401, 4.2196, 4.2171, 4.2009, 4.1986, 4.172, 4.1667, 4.1604, 4.1588, 4.1226, 4.1217, 4.1179, 4.1175, 4.1149, 4.1142, 4.1047, 4.1047, 4.1047, 4.1047, 4.1047, 4.0641, 4.0425, 4.0159, 3.9663, 3.9569, 3.9569, 3.9453, 4.3825, 4.3614, 4.2891, 4.2755, 4.2714, 4.2557, 4.2543, 4.2339, 4.2326, 4.2233, 4.2107, 4.202, 4.1748, 4.1157, 4.0735, 4.0201, 4.0036, 3.8852, 3.8591, 3.8591, 3.858, 3.7991, 3.7165, 3.6795, 3.6795, 3.6795, 3.6795, 3.5766, 3.5766, 3.4439, 4.3658, 4.3655, 4.3501, 4.3473, 4.287, 4.2612, 4.2609, 4.2518, 4.2314, 4.2294, 4.1608, 4.1575, 4.1538, 4.1215, 4.116, 4.0974, 4.0737, 4.0668, 4.0668, 4.0067, 3.977, 3.9384, 3.8988, 3.873, 3.8614, 3.8614, 3.8614, 3.8614, 3.8614, 3.7756, 4.3327, 4.329, 4.2994, 4.2707, 4.2658, 4.2568, 4.2479, 4.2443, 4.2434, 4.2303, 4.2298, 4.208, 4.2042, 4.2042, 4.1972, 4.1737, 4.1564, 4.1563, 4.146, 4.1279, 4.1279, 4.1266, 4.1067, 4.081, 4.0731, 3.9775, 3.9523, 3.7923, 3.7923, 3.7923, 2.4422, 4.4032, 4.3603, 4.3445, 4.2996, 4.2806, 4.2589, 4.2448, 4.2272, 4.2062, 4.17, 4.17, 4.167, 4.1449, 4.1216, 4.066, 4.066, 4.0283, 4.0025, 4.0025, 4.0025, 3.8959, 3.8503, 3.8503, 3.797, 3.7611, 3.7611, 3.7611, 3.5834, 3.5565, 3.4418, 4.5716, 4.56, 4.5233, 4.5034, 4.4926, 4.4624, 4.4048, 4.3951, 4.3843, 4.3526, 4.2697, 4.2697, 4.2684, 4.2409, 4.2022, 4.1989, 4.1646, 4.1617, 4.155, 4.1167, 4.1107, 4.1035, 3.997, 3.997, 3.997, 3.9568, 3.9044, 3.9044, 3.8339, 3.8028]}, \"token.table\": {\"Topic\": [35, 19, 35, 17, 37, 8, 45, 5, 33, 24, 11, 11, 18, 4, 48, 50, 36, 38, 30, 44, 18, 23, 25, 8, 46, 24, 28, 3, 12, 26, 15, 41, 24, 24, 34, 5, 27, 1, 34, 2, 7, 44, 30, 47, 43, 8, 23, 37, 26, 18, 49, 39, 8, 3, 16, 32, 19, 39, 14, 23, 7, 4, 5, 40, 6, 23, 28, 43, 4, 22, 39, 9, 49, 9, 9, 26, 11, 32, 44, 9, 12, 26, 40, 40, 24, 47, 7, 6, 29, 1, 24, 48, 20, 9, 18, 32, 15, 19, 30, 1, 26, 5, 40, 5, 41, 37, 10, 5, 18, 19, 36, 2, 30, 3, 35, 7, 12, 37, 27, 13, 11, 32, 27, 7, 9, 25, 48, 10, 25, 45, 23, 24, 41, 15, 14, 25, 31, 15, 9, 22, 47, 13, 34, 7, 48, 12, 21, 4, 13, 12, 7, 30, 18, 13, 50, 27, 17, 3, 14, 1, 44, 43, 33, 11, 13, 8, 7, 10, 16, 48, 17, 20, 23, 27, 42, 2, 47, 3, 7, 40, 7, 15, 24, 38, 21, 40, 38, 10, 28, 26, 40, 7, 42, 1, 42, 2, 2, 2, 30, 18, 2, 10, 33, 48, 26, 31, 40, 45, 32, 13, 25, 45, 3, 26, 13, 7, 12, 50, 2, 28, 21, 7, 47, 24, 41, 36, 46, 37, 37, 18, 34, 43, 38, 40, 7, 31, 39, 45, 27, 1, 19, 37, 10, 33, 9, 39, 11, 15, 36, 39, 48, 9, 12, 33, 17, 6, 21, 1, 1, 31, 1, 16, 13, 9, 29, 30, 26, 49, 43, 39, 38, 11, 4, 46, 46, 16, 14, 49, 48, 17, 16, 13, 2, 47, 45, 1, 4, 24, 46, 11, 11, 17, 23, 45, 23, 20, 26, 22, 3, 6, 19, 5, 2, 12, 13, 4, 34, 31, 25, 26, 3, 47, 5, 6, 19, 33, 14, 1, 24, 44, 19, 45, 8, 14, 26, 2, 33, 4, 18, 30, 2, 16, 2, 33, 16, 13, 8, 32, 45, 48, 27, 21, 15, 28, 4, 18, 2, 18, 20, 29, 33, 33, 14, 2, 16, 1, 11, 38, 44, 14, 43, 29, 7, 2, 8, 23, 32, 13, 43, 26, 13, 2, 29, 35, 37, 15, 23, 25, 27, 14, 22, 10, 2, 29, 49, 13, 18, 19, 8, 21, 1, 5, 1, 24, 1, 34, 23, 49, 34, 9, 25, 3, 50, 2, 28, 42, 44, 8, 11, 37, 37, 22, 5, 29, 13, 42, 48, 43, 24, 41, 30, 37, 15, 2, 18, 33, 20, 14, 50, 11, 4, 44, 21, 45, 29, 46, 12, 7, 18, 31, 21, 32, 47, 45, 26, 24, 42, 23, 6, 25, 21, 21, 21, 19, 10, 48, 1, 31, 14, 16, 12, 45, 3, 35, 17, 47, 12, 20, 4, 23, 12, 44, 14, 26, 5, 42, 8, 46, 27, 39, 11, 33, 3, 1, 10, 40, 3, 18, 34, 1, 4, 42, 32, 27, 40, 3, 2, 40, 39, 3, 10, 17, 29, 19, 40, 22, 28, 36, 50, 21, 5, 7, 8, 5, 25, 45, 12, 19, 25, 37, 15, 43, 16, 6, 35, 10, 10, 13, 28, 38, 34, 23, 8, 9, 4, 46, 9, 49, 27, 4, 2, 46, 22, 16, 40, 46, 38, 13, 21, 4, 20, 5, 47, 29, 45, 2, 29, 9, 30, 36, 18, 43, 11, 3, 22, 36, 32, 2, 40, 10, 18, 23, 4, 41, 48, 3, 49, 23, 41, 7, 34, 15, 9, 40, 22, 6, 30, 17, 4, 21, 14, 35, 25, 4, 32, 46, 48, 48, 42, 30, 29, 30, 29, 30, 35, 32, 41, 16, 44, 30, 48, 29, 38, 10, 14, 13, 36, 37, 45, 38, 49, 18, 40, 10, 30, 50, 42, 5, 34, 48, 7, 4, 4, 35, 24, 28, 32, 45, 6, 28, 34, 8, 1, 36, 16, 37, 33, 23, 39, 10, 47, 18, 17, 35, 31, 37, 24, 15, 32, 43, 42, 46, 19, 10, 40, 33, 18, 17, 27, 27, 27, 40, 16, 14, 26, 33, 47, 43, 20, 45, 17, 31, 12, 11, 23, 43, 43, 26, 8, 1, 3, 31, 47, 35, 7, 35, 34, 31, 35, 45, 46, 28, 7, 40, 50, 4, 10, 8, 35, 38, 23, 23, 28, 40, 18, 9, 11, 9, 47, 48, 43, 5, 1, 26, 33, 49, 35, 28, 2, 21, 3, 20, 25, 4, 4, 10, 38, 9, 3, 34, 21, 17, 42, 8, 6, 45, 32, 40, 29, 45, 10, 22, 5, 13, 21, 1, 3, 45, 48, 31, 3, 14, 47, 9, 36, 10, 37, 11, 6, 23, 36, 20, 4, 16, 36, 1, 9, 44, 41, 24, 39, 23, 29, 12, 21, 18, 23, 45, 1, 5, 42, 4, 44, 14, 7, 8, 17, 9, 5, 32, 6, 40, 20, 33, 25, 34, 2, 5, 6, 50, 34, 35, 25, 19, 26, 30, 25, 6, 48, 1, 2, 41, 2, 19, 48, 15, 41, 26, 15, 4, 16, 19, 25, 11, 3, 17, 13, 35, 1, 36, 38, 28, 3, 34, 48, 15, 33, 48, 46, 22, 25, 40, 47, 31, 34, 8, 5, 26, 2, 30, 49, 45, 48, 6, 6, 30, 7, 23, 15, 32, 38, 31, 48, 8, 27, 11, 4, 32, 2, 29, 38, 17, 20, 38, 3, 6, 20, 30, 25, 21, 22, 22, 42, 34, 47, 25, 19, 23, 39, 1, 41, 33, 28, 49, 21, 13, 5, 15, 30, 8, 38, 33, 33, 34, 28, 24, 42, 50, 14, 45, 44, 9, 13, 5, 36, 18, 16, 21, 40, 24, 18, 11, 25, 32, 47, 32, 26, 21, 36, 7, 46, 50, 19, 24, 30, 35, 10, 26, 35, 4, 24, 12, 17, 10, 48, 26, 34, 18, 23, 45, 10, 20, 21, 36, 23, 43, 18, 11, 20, 18, 19, 41, 40, 18, 27, 10, 36, 8, 1, 36, 29, 5, 43, 5, 7, 6, 3, 35, 47, 10, 45, 15, 31, 26, 4, 4, 8, 13, 49, 23, 33, 13, 27, 38, 34, 10, 14, 15, 19, 21, 22, 24, 25, 27, 37, 18, 12, 36, 27, 30, 44, 22, 31, 14, 26, 16, 8, 12, 22, 42, 6, 11, 23, 20, 8, 50, 15, 19, 24, 50, 34, 22, 7, 19, 35, 27, 36, 20, 12, 39, 34, 30, 20, 29, 7, 21, 9, 29, 37, 43, 44, 20, 11, 41, 37, 12, 29, 1, 30, 6, 1, 32, 15, 7, 32, 31, 18, 4, 44, 44, 38, 13, 10, 33, 39, 22, 33, 2, 16, 32, 19, 25, 13, 49, 6, 48, 36, 6, 34, 5, 26, 7, 37, 7, 1, 22, 12, 37, 22, 6, 15, 27, 1, 1, 33, 47, 36, 44, 25], \"Freq\": [0.9323843505586407, 1.0817614523047796, 1.086951800632386, 1.1363290410873517, 0.9969158948396519, 0.919326429355731, 0.9817764330918854, 1.369092987351029, 1.0947855972897336, 0.8812837538870872, 1.0426138450189049, 0.7586160943871447, 0.8092795145554376, 0.9664020794578169, 1.1879699154625631, 1.0436960128261483, 0.9713371089859381, 0.8367275353710024, 1.1309582171190034, 0.7596986577893418, 0.938733577768236, 1.176459450768206, 0.9646622487178463, 1.08368141968782, 0.7584994013428, 1.125832393249615, 1.0682047925958253, 1.0050154166515066, 0.6767774343154758, 1.2917523070554398, 0.8756788512417581, 0.7562035334821393, 0.9026709131083541, 0.7422867001305425, 1.250539797343592, 0.7037269878697228, 1.2698655466896203, 0.6075874394157339, 0.7446359624542703, 0.8116022721618696, 0.9053055095203675, 1.2157992649252862, 0.9835622373324684, 1.0246819712868964, 0.9738343497873743, 0.7344511449281163, 0.7641886774323801, 1.13170513878076, 0.8164786931073601, 0.6855103157979447, 1.2163921344312512, 1.0217321574026148, 0.9675715838409534, 1.0008626859889949, 0.9617060901470935, 1.1403250150561959, 0.9966585891838438, 1.3291488008299446, 1.025886566788038, 1.1764592705090218, 0.7084972282099493, 0.8966101064448739, 0.9445375307144704, 1.1248359304031417, 1.1443939996042831, 1.0123517405189808, 0.7030015435155825, 1.075864483716767, 1.0456436478820736, 0.7836723016718803, 1.308029302958303, 1.3801302704595, 0.826870879404281, 0.9703043401142967, 0.8177160761224295, 0.8995460673748089, 0.6596234802692476, 0.9075936428038679, 1.4005398945095853, 0.9759361703272433, 0.983096469004655, 0.6953792813676652, 0.7931395745939878, 0.7931395745939878, 1.3494100550368322, 0.7018014316356673, 0.7451747371660284, 1.0373467132581762, 0.992967812440733, 0.8085938679070951, 1.0134976373400764, 1.1926653424951446, 1.0276971797624712, 1.3801302704595, 0.9096694269919354, 0.7046251430083412, 1.1337209961012416, 0.8889073108030263, 0.899793401136606, 0.20405252431536447, 0.8162100972614579, 0.9482770907988524, 0.687266842581396, 0.983613985130724, 0.79212638650889, 1.0132641865344334, 0.9830007774052316, 0.7579672713943294, 1.0906238357471225, 1.009894501516498, 1.0945245882247578, 0.6977262318717155, 0.7737989655679226, 0.6886206035983626, 0.8873714571139537, 1.1521463532906364, 1.1382759802151257, 1.3010983059412897, 0.7930403164943797, 0.981098571769572, 0.6794244200896401, 0.7675456749167012, 0.883152066519826, 0.9937684080375593, 0.9499053405566156, 0.7263202742329954, 1.0165767887154418, 0.7782530467842133, 0.9049618401420617, 0.6004315256659352, 0.9636357927260498, 0.22757112590815037, 0.7585704196938347, 0.845070400321998, 0.9299646866923271, 1.0678235259270175, 1.3015402015039157, 0.8742988932084016, 0.6225116789610934, 0.9104416775767749, 1.0725387180040657, 0.632449621530639, 0.6985405258961063, 0.8947445258442996, 0.6270929354032412, 1.008990767318722, 0.8099934892310368, 0.9814860997558844, 0.770076741334345, 1.3985587867718485, 0.9784023391115255, 1.083021449862029, 0.6159500515305208, 1.1757639620629867, 1.0170412239069595, 0.6766768270746855, 1.0011811812850746, 1.1751381674324937, 0.7785832549449723, 1.0134366663314394, 1.2157992649252862, 1.082576166357652, 1.0507349450700725, 0.936827238752612, 0.9993526557534207, 0.7019862853543761, 0.717980617892806, 1.4123206250573264, 1.0394773410406206, 0.7937719610697905, 0.6216633496681797, 1.2078101668638312, 1.1764592705090218, 1.2698655466896203, 1.203538706513283, 0.9937073915023085, 1.107602016589816, 1.0082212631591667, 1.0542614497731206, 0.9898072443687665, 0.7694641255387196, 0.861710416199119, 0.7449853065722793, 0.8908485084114748, 1.2131125145945743, 1.3388488298277303, 0.6690180447729746, 0.771926765020147, 0.6485494289606603, 1.2059042731537548, 0.7807910496221641, 0.8823098052447591, 0.9200500622155443, 0.6057818776627656, 0.6008402085511511, 1.0347801302932083, 1.0478083598402035, 1.0727601679010992, 0.9280952417490155, 0.9175790661443023, 1.141202110133613, 1.045286220437475, 0.8437700557309462, 1.1213857197846104, 0.8558031062811449, 0.8630930545855596, 0.8183587263997613, 0.8334052334209273, 0.8232364424740647, 1.2915106523729996, 0.885454665143974, 0.7403086550151053, 1.0645103917670187, 0.8614394696349724, 0.8248874160340823, 0.5966276228289892, 1.1094476341122463, 0.9304066963199156, 0.987750000908044, 1.0347532120619343, 0.7882640600745339, 0.867548558087446, 0.7847816560175428, 0.9794099590432317, 1.0454350623431776, 0.9757997441768531, 0.6686373730289711, 0.8738532038041184, 0.6861278555738837, 0.9353585628502902, 0.6261969246926711, 0.9990563133817225, 0.8237060767811463, 0.8801298864168203, 0.6593146180767526, 1.3021629545377342, 0.9658875905821659, 1.0496885309147537, 1.2641907699699269, 0.6645438430141305, 1.0590155708553166, 1.2882353771127382, 1.078673677904504, 0.93206487145001, 0.984956554242704, 0.8868922652415957, 0.958680369304283, 0.8133767069438642, 0.7598730295176188, 0.6204874135312853, 0.7219688409918181, 0.8613070930822814, 1.0931540402028475, 1.227152805504787, 0.9535886198909245, 1.1443941363858945, 0.7832019870080789, 0.9790024436134864, 1.0044651621726446, 0.9036782942900725, 0.9997059112444726, 1.1280171855083287, 0.9474701771560984, 1.1454579196235302, 0.9076926351084559, 0.9145863452114905, 0.8191493589802261, 1.1350185652600844, 0.9695642385866632, 0.5929173709753173, 1.3072043241779845, 1.0480175762091393, 0.6801133156100351, 1.0537439983768235, 1.0172906045209764, 1.2905674539572514, 1.3325981961700406, 0.9863764128484528, 1.264845883893527, 0.917895111991086, 1.340232473408474, 0.9515562167381892, 0.9458292778191593, 1.0604483910170517, 0.8399546094587663, 0.7004705374741143, 1.1428888251136684, 1.0359471474649204, 0.8522052148389963, 0.9141107837316397, 0.9322396355822389, 1.3286584331801636, 1.357516200057315, 1.0112370484627706, 0.7564183172538629, 1.00273241833062, 1.0583167364632813, 1.3493501105079868, 0.980229305523567, 0.615132669528902, 0.9991710548715953, 0.688168411742498, 0.6118872315636524, 0.974277933751316, 1.0708350130872526, 1.1299600842728876, 1.250539797343592, 1.0953092226308632, 0.8722208546155711, 0.886225393596134, 1.1967468755119697, 0.8271074584626323, 1.2065583856017728, 1.102183422841506, 0.6389718365382681, 0.7108830886501533, 1.0463506959014404, 0.9685233274759069, 0.8090353802779778, 1.1771683381243723, 0.7275963072375919, 1.0042342930790338, 1.0038363944421835, 1.0974040976042003, 0.9129805345497556, 0.8334272277710278, 1.0761154766039203, 1.002495059405758, 1.263135634986123, 1.110491044769037, 1.071628832717339, 1.052425414670598, 0.959806141991743, 1.342910031835666, 0.9955316132018495, 0.8629441455415706, 0.9859502288697789, 1.0614302448732613, 0.942483224865421, 1.3554647424477622, 0.9007776885214708, 1.397606204580187, 0.8255340233089886, 0.9603713155623614, 0.9981129101390223, 0.989273115143401, 0.9753272616515952, 0.7965919631227126, 0.26553065437423756, 1.0225400822985726, 0.8288703778346543, 0.8961400155641667, 1.0048998993338858, 0.6595528948410776, 1.2658422801412645, 0.6072414105539822, 1.1503571899007028, 1.4019691966517072, 0.6970438836317291, 0.9030479920410187, 0.7693074944653907, 0.9188152066653652, 1.1006062316048424, 0.6138515483687229, 1.0132739508434963, 1.139597403335492, 1.0506400191144742, 0.6598406572189404, 0.6715436747965069, 0.9175363406669919, 1.0683827344089247, 0.9606115931527822, 1.0608347390831847, 0.9664945072416387, 0.9720833790872987, 0.9546097333277777, 0.8408821429648902, 0.7940695152352603, 0.8241589364256728, 0.9370161829769473, 0.670377512468409, 1.0139794834118716, 0.769122554994196, 0.8246469056020777, 0.6083081452759294, 0.697143198162237, 1.039503590561895, 1.2565444715342726, 1.0781956642310135, 0.7161420801806332, 0.7995943529869768, 0.944248876897222, 0.9993385169487197, 0.8308245621241616, 0.971173635466865, 0.6499216096897973, 0.9536819796696695, 0.8346704633866491, 0.8345836419204573, 1.2162283060784014, 1.2211682168621938, 0.5977982927358869, 0.636313172089315, 0.8434013626881561, 1.2961697565696062, 0.7888753653170825, 0.9818351394820879, 0.9198739288087224, 0.6296125243075995, 0.818553979592546, 0.8889189025523198, 0.7676923347938146, 1.011083806918102, 0.9708063961844443, 0.8400390169435815, 0.8367593926810469, 0.8982994528005813, 0.6180208062544282, 0.7451218844099106, 0.8957822899053504, 0.9749572625434081, 0.8720826249061515, 0.622001612367442, 1.0341376226840355, 0.7627342273698843, 1.3084173008261417, 1.3322206116264201, 0.9977006173359837, 0.7488489457404683, 1.0397542075622164, 0.9608222731169395, 0.7717434655643342, 1.368763417340776, 1.0496885309147537, 0.6052632425101591, 1.170372773130626, 1.0268255223606468, 0.9754415964463765, 0.6952723333695943, 0.9641302166383307, 0.9730417425264342, 0.45998691195881897, 0.45998691195881897, 0.9996065678915462, 0.6929971941133468, 0.8828604023382366, 0.8715213943989792, 0.9869207696252442, 0.7797298559472212, 0.9615327384322531, 1.397606204580187, 0.9535674312235858, 1.2131125145945743, 1.1817132532830559, 0.6270998948359641, 1.1879699154625631, 1.1321360576759611, 1.2680462875277778, 1.2986057233238344, 0.6612757198603574, 0.7625935297787287, 0.6686618702990742, 1.3155316267448354, 1.4104770164524174, 1.3132131991891538, 1.019074678194752, 0.6279188328939083, 0.8700950292776478, 0.9234774469248136, 0.9888976855414162, 0.9934654854446816, 1.4005398945095853, 0.9762234424000793, 1.2015646189615938, 0.8983504427086091, 0.8110079879995058, 1.0967655067032476, 0.9929093837858867, 0.9399326973729155, 0.9542227090997688, 1.296277475312061, 0.8075416960712748, 1.0942455830100302, 0.9795399712677482, 0.9821770289622759, 1.0283237852283849, 1.0942455830100302, 1.1947305380292264, 0.9786428338483806, 1.008065107342275, 0.7749428374375961, 0.8887232246884615, 0.6379183989608461, 0.9691069520668429, 1.4131014709025689, 1.0979341086124623, 0.8827711057263397, 0.7931395131606822, 1.308029302958303, 0.859256177155466, 0.6607544878423174, 1.1925974964607087, 0.7906429140023621, 0.9771309068523761, 1.0342108515193764, 0.8886766731163347, 0.8917589128111978, 0.7239233257081771, 0.9072822074779551, 1.3976062686761748, 1.005331616030853, 0.6225910390534536, 0.8580536136841973, 0.9056633098921069, 0.8691395551374829, 0.8082826933587174, 1.3056628330858084, 1.1817132532830559, 0.882933345807735, 1.0957406663067306, 1.2983488964533325, 1.2468203025466489, 1.0240992309036359, 1.002776343227285, 1.0294358259495708, 1.2316081102091696, 1.1103586098992375, 0.8867645220868428, 0.9668819163868434, 0.6837210835151082, 1.0553304532995675, 0.9392902663488076, 0.8846890930359267, 1.0440953664546688, 0.8019478942792317, 1.2137009313410905, 0.9815873985416684, 1.2997671864781826, 0.8996513461237007, 0.6172818518095543, 0.7655973394467306, 0.9399431491849994, 0.7987939214919804, 0.9141619785822624, 1.3920891956841577, 1.3635436342900382, 0.6731140587829293, 1.1088267823938938, 1.1021555246777566, 0.3841070336777917, 0.7682140673555834, 1.099193252589419, 0.7929795505101687, 1.0182309210653897, 1.0012933769277668, 0.9470592488323076, 0.9136268285281913, 0.8597501804728052, 1.2885504308826254, 0.663574998977927, 0.8470450435653577, 0.9887368093795295, 1.166099554675804, 1.0487495882531876, 0.7831061321931969, 1.2075807823330338, 0.9937275156656219, 0.769122554994196, 1.2870226548877233, 0.6459147299813081, 0.8794121004459943, 0.9104939689117809, 1.1421177784989902, 1.0537784935090841, 0.7367698183081928, 0.8221587028742287, 0.7774082191214606, 1.357516200057315, 1.2878803138172474, 0.7813829863321697, 1.0568453492599086, 0.7867665009224912, 1.0295349928692774, 0.7931395131606822, 1.0635653429434264, 1.1482965791057276, 0.9553594298825484, 0.8743041817884682, 1.0643204799238066, 0.981105306433132, 1.0033920774207463, 1.0542129971462484, 0.7851861545535097, 1.0063713123733342, 0.9795418891937238, 0.8867899492059267, 0.79609185963671, 1.0718852662735563, 0.8467536842511452, 0.8913030107267251, 1.0825480330789632, 0.8378632733986079, 0.6822165265853926, 0.7864433089778077, 0.8254823683061078, 1.0053546408347893, 0.6955253700888121, 0.8454043862405751, 1.090186015696533, 0.9710815250683605, 0.8982994528005813, 1.0566326853444883, 1.0841927830916496, 1.2848969156429784, 1.358117248355896, 0.8400390169435815, 0.9108986690645006, 0.7820421980899591, 0.7870587052622744, 0.9966462672206706, 0.9045922926559412, 1.0906240003759617, 0.9329142951390677, 0.9563078211891463, 0.9402730821000679, 1.366633208319644, 1.2472093762283658, 0.9770494065786789, 0.6972534284528961, 1.3830784905289615, 0.6943090792938104, 0.9814860997558844, 1.0285941004450194, 0.5907054271515064, 0.7461619629207163, 0.9894709643000236, 1.259998853253246, 1.0137069347454895, 1.3223405787400513, 1.2961697565696062, 0.8804591624561604, 0.8267753265054256, 0.9439387494495776, 1.2459433327634197, 0.8179439445996907, 1.0820123350151682, 0.9186739478015772, 0.7489233121496464, 0.6391088275044312, 0.8351794856530601, 1.0865618540909436, 1.0723996235933182, 0.8387164244143716, 1.2386626398932734, 0.9562533968686993, 0.7325671268321449, 0.768164225221531, 1.173180295598695, 1.3571522202946833, 1.0271919810698424, 1.0045901244868805, 0.8014036149922052, 1.1817132532830559, 0.6235467301859918, 0.9024711127536391, 0.8075416960712748, 0.989273115143401, 0.9536719873433888, 0.9974542732407586, 0.8241589364256728, 0.8241589364256728, 1.2273105557870294, 0.994844992574257, 1.1987286383435463, 1.1691851349985385, 0.6509055967705987, 1.205413563390936, 0.7067363817184716, 1.1857005334211355, 1.2775987409559615, 0.7358673248370549, 1.148359143851171, 1.2215368218949094, 0.9608323117718256, 0.8732305160077474, 0.6423130694439501, 1.094995349433444, 1.0554620599897777, 0.652368543744146, 0.7776426076603387, 1.0942455830100302, 1.2680462875277778, 1.3980195996571694, 0.9991115540291104, 1.0690981999690325, 1.0089622964167018, 1.0624402897118506, 0.8614710613209535, 0.9440505278184677, 0.9412964379101019, 0.6026477358737713, 1.1178170457311587, 0.5923187210733436, 0.8526102736427132, 1.366633208319644, 1.3799458332522376, 0.8047302328015918, 0.9846117480381232, 0.7430979024027016, 0.7357268628939481, 1.0411092425352668, 1.176459360638607, 1.2961697565696062, 1.3297126924287772, 0.6570220495460941, 0.9757518942025627, 1.0181690564712933, 0.9512674287145169, 1.2914086714365063, 0.6474207090666484, 1.3940689355397444, 1.0246618002113914, 1.0943956488369064, 0.8254226243167913, 0.15115415606878332, 0.9069249364127, 0.8384617988508224, 0.6345486398814781, 1.1677895123140696, 0.7213632171783458, 0.7422094487197778, 0.8700949789158055, 1.212909451991587, 1.001929786364068, 0.7318293563083736, 1.2848969156429784, 1.0478290147049032, 0.9457769691991538, 1.1715060761874883, 0.8254388570782856, 1.2701465967788417, 1.0293921872280183, 1.3350137426119328, 0.9442102385885471, 0.992772388667684, 1.0496885309147537, 0.9303247990923097, 0.933600956587063, 1.398013737958393, 0.985231830711412, 1.2686245656098631, 1.072881858454984, 0.9592789965908661, 0.9910301886336118, 0.8965874896736736, 0.08253658257863486, 0.9216585054614227, 1.0496886268357097, 1.0828856699151883, 1.0560927004477532, 0.6117550746770588, 1.034891793733144, 1.3980195996571694, 1.1375631118327163, 0.7092310966054753, 0.8265338907868099, 1.1322908650710868, 0.664611132475582, 0.8248988798794299, 0.6645551089271324, 1.0258559817856037, 1.1857005334211355, 0.9814860997558844, 0.8868132630629519, 0.7649042707733102, 1.0014160410725028, 0.9434322581437473, 0.8551024402316112, 1.053309829993799, 0.9317842686693326, 0.9412938489564706, 0.8014418383385709, 0.982792388721122, 1.389633570136149, 0.9188913688331813, 0.9157725458128154, 1.0831407936518649, 0.5899883495370138, 0.5084976067069219, 0.21792754573153794, 0.29057006097538396, 1.1421177784989902, 0.78241949828779, 0.7810902738581612, 0.9525640225691867, 1.0077892271611504, 1.1071306088240076, 0.9307339225722995, 0.6538067997656871, 0.9001099228264494, 1.2518797256204608, 1.1699226507916947, 1.02218418565746, 0.9958256080564226, 0.9673259399721759, 1.1372588180439656, 0.6573929108641604, 1.1857224859950637, 0.8356618358865661, 0.949152673450781, 1.0927708386188937, 0.6255064595177876, 0.7238390670460129, 1.2458718501028474, 1.071785853989654, 0.8236999107395809, 0.927048697104853, 0.7288204630737359, 1.0822160551597457, 0.735586820271763, 1.020466423572427, 1.0630944854333455, 1.0914299313562215, 0.7937659332527511, 0.6851286363916369, 0.8808948681674168, 1.044894760387673, 0.9129805345497556, 1.0423598264822145, 0.9679879071359686, 0.9906135071019204, 0.8059795818182186, 1.0206524193305742, 1.1195720563646347, 0.9532066081119503, 1.1154062230092625, 0.9939138993391133, 0.9991922573084547, 0.8353990634339281, 1.1979438723764646, 1.0358185565708462, 0.9828447200832876, 1.0942455830100302, 1.035491446630588, 0.7478363130249067, 1.130063472811513, 0.9095280918464211, 0.7405034476942626, 0.6745146012193378, 1.1774606876649125, 0.8724595308317187, 0.6904654397850042, 0.8649789991560518, 0.5141362494602009, 0.5141362494602009, 0.6919656909274542, 0.8527602727307071, 0.9509102829229735, 1.0249217248641147, 0.7061011542174926, 1.017847990127252, 0.6779794351421342, 1.0083626576870233, 0.9719343472180608, 0.8021480018199281, 1.2885504308826254, 0.6510846532210158, 1.176459450768206, 0.9075428545691008, 1.3660649132988958, 0.640906649745913, 0.8538224531237325, 0.0948691614581925, 1.0764541453417162, 0.9040918462070519, 0.9449677585203315, 1.1308252252903446, 0.9166621025373041, 0.8848983748843061, 0.7600014782875723, 0.7065221727378855, 0.8223547897237086, 0.9803912065189468, 1.340407917501853, 0.877243217087539, 1.1443939996042831, 0.8700950292776478, 1.1136750972382594, 0.6603173076809219, 0.6893495116659523, 1.0476450495364638, 0.9079375525247881, 1.1132712728734846, 1.0957591389500851, 0.6627754578717767, 0.9418904424830402, 1.1533393289525766, 0.9116799819295145, 0.9477980706989918, 1.030504957460806, 0.9166795803644612, 0.992775425787073, 0.851080317474554, 1.028633594297108, 0.8429215107036232, 1.179588797052992, 0.8995000522865628, 1.372335457685392, 0.7217856879205747, 1.24805922216701, 1.4019691966517072, 0.7980250835476262, 1.1983033328481065, 1.1102656488310094, 1.057791690529453, 1.1072258695759483, 0.9136023381144587, 0.8696323270157682, 0.995001794796442, 1.3708176168046684, 1.4005398945095853, 0.996038342815383, 0.8976611475540839, 0.7424450777804467, 1.0955543906916336, 1.1651081147635218, 0.7255383750398078, 1.1263740446544848, 0.9560635224139347, 1.1039536107803116, 0.9953280047335846, 1.028764966151156, 1.4139272501003626, 0.9437362395356096, 1.374197601807632, 0.971303777175886, 0.7979184267504377, 1.397606204580187, 0.850583778356261, 1.1489720092413442, 0.763700387482952, 0.923056612474332, 0.8931862645932189, 0.8088686092312416, 0.8310600638669073, 1.0122281356561356, 1.0686805700557758, 1.0212055957125006, 1.3279375411997363, 0.9814860997558844, 0.9782073366743191, 0.7339928574368494, 0.9204711245898526, 0.9647820813852994, 0.9256463797224082, 0.8258362034551694, 0.6546761128893532, 0.7151558708474149, 0.9524997336280843, 1.2001932371732627, 1.0303486452145225, 0.8611683095830874, 1.4008002115096434, 0.7678215698621931, 0.9748856084071101, 0.6699021932841884, 0.7641510012979339, 0.9692931014228133, 1.0397737823014996, 0.6462535137663254, 1.0062857271902579, 1.3936353948466966, 0.9667787731157016, 1.0097421252496368, 0.8241589364256728, 1.2774186547985718, 0.6431157200086832, 1.3263001238202579, 1.1052626467335884, 0.6840238613825365, 1.2426819157390954, 1.0467515687582292, 1.2468203025466489, 0.985135878792417, 1.0628942978368603, 1.1443939996042831, 0.8981341673146396, 0.9398899703980294, 0.6640360136149511, 0.900642756304569, 1.0496885309147537, 1.0175185732701468, 1.3629256294564502, 1.2702249307004094, 0.7318293563083736, 1.1421177784989902, 1.1133359454875937, 0.6939930772021983, 1.1238633148041113, 1.0123517405189808, 0.864152177473916, 0.963688834226911, 0.7993918852436259, 0.9938936372163358, 0.8649432704343939, 0.1287022685944527, 0.11031623022381659, 0.055158115111908296, 0.0367720767412722, 0.23901849881826928, 0.09193019185318049, 0.11031623022381659, 0.11031623022381659, 0.0367720767412722, 0.11031623022381659, 0.7050640743435205, 1.374224448328273, 0.865279077434588, 0.8145689356527895, 0.859097355289237, 1.4005398945095853, 1.2435400864329704, 0.9870616984341006, 1.2986057233238344, 0.9289248050401772, 1.00804728663967, 1.0691631012130658, 1.3075969591376513, 1.1114255357939438, 1.0507218969464645, 0.9776100105157889, 1.3774650406347626, 0.6577084339989097, 1.1533916381197094, 1.2644949201758016, 1.3712583808986714, 0.6999450301426191, 0.9293365358278934, 0.7813648001483826, 1.0697583556212735, 1.230176015939423, 0.9303631286507404, 0.6376649925716089, 0.6293848433284707, 1.242775889392388, 0.8241589364256728, 0.6380208214796662, 1.3322207296912632, 0.830492878452635, 0.9245740133072979, 1.3631479254350523, 1.1136750972382594, 1.0889947826491602, 0.9650282211054506, 0.727921147964755, 0.9562431926592379, 1.1863078434332528, 0.7377045701226927, 1.3241496301556264, 0.7527661804306265, 0.9605514753104386, 0.8245870570044759, 0.9278203745369532, 1.0143796921696657, 0.8836375335156589, 1.3750820506972303, 0.978281602819559, 0.973500989688302, 1.2885504308826254, 0.9562783884593582, 0.6276565144244248, 0.7373887690611017, 0.9453682610436208, 1.0167507817065646, 0.9107079685557725, 0.9583470496321701, 0.8289376969578309, 0.9814860997558844, 1.008171530141125, 0.6140369853895626, 0.9335872391098833, 1.0153244371472947, 1.2021438321579354, 0.7732941090056318, 1.1392627686962524, 0.8049384813828576, 1.1604659365555638, 0.6572842064467873, 1.1531224348611906, 1.0074385464199216, 0.9928597645294844, 0.9342932480950705, 0.8400390169435815, 1.1238633148041113, 0.9763344287979384, 0.8833449251452585, 0.9442369765808288, 0.8479606012925256, 0.6120278476239333, 0.9948459493275713, 0.9116364135251875, 0.9051202373471839, 0.9624805350329452, 1.1427543932265998, 0.8398722457413973, 0.9953948045458152, 0.992296206024502, 1.0731014839762067, 1.271642865582106, 0.983984277329366, 0.951556751092632, 1.1250593553889228, 0.9894759403158114, 0.6484911430663851, 0.949941806080189, 1.2252360012499885, 0.8513417813754254, 1.2157992649252862, 0.7453457550335503], \"Term\": [\"ability\", \"able\", \"absolute\", \"abstract\", \"accepted\", \"access\", \"account\", \"across\", \"action\", \"actions\", \"activate\", \"activation\", \"actual\", \"actually\", \"ad\", \"add\", \"added\", \"adding\", \"additional\", \"adds\", \"adjacent\", \"admin\", \"allow\", \"allowed\", \"already\", \"also\", \"although\", \"always\", \"analysis\", \"annotated\", \"annotating\", \"annotation\", \"annotations\", \"another\", \"antivirus\", \"anymore\", \"anystr\", \"app\", \"appear\", \"appearing\", \"appears\", \"applied\", \"arg\", \"argument\", \"arguments\", \"asking\", \"assignment\", \"async\", \"attach\", \"attached\", \"attaching\", \"attribute\", \"attributes\", \"auto\", \"autocomplete\", \"autocompletion\", \"autodetect\", \"autodetected\", \"autoimport\", \"autoindentation\", \"automatic\", \"automatically\", \"available\", \"awaited\", \"azure\", \"backslashes\", \"bad\", \"bar\", \"base\", \"based\", \"baseformset\", \"became\", \"becomes\", \"behavior\", \"better\", \"big\", \"bin\", \"binary\", \"bivariant\", \"blank\", \"block\", \"blocks\", \"blocktrans\", \"blocktranslate\", \"body\", \"bound\", \"bracket\", \"breaking\", \"breakpoint\", \"breakpoints\", \"breaks\", \"brings\", \"broken\", \"brown\", \"bug\", \"builtin\", \"builtins\", \"button\", \"bytes\", \"ca\", \"ca\", \"call\", \"callable\", \"called\", \"calling\", \"calls\", \"cannot\", \"cant\", \"carets\", \"case\", \"cases\", \"caused\", \"causes\", \"causing\", \"cell\", \"cells\", \"certain\", \"chain\", \"chained\", \"change\", \"changed\", \"changes\", \"changing\", \"character\", \"characters\", \"check\", \"checked\", \"checker\", \"checking\", \"checks\", \"chosen\", \"class\", \"class\", \"classdecorated\", \"classes\", \"classmethod\", \"clear\", \"click\", \"clickable\", \"clicking\", \"client\", \"clone\", \"close\", \"closing\", \"cls\", \"code\", \"collection\", \"collectionsabc\", \"color\", \"column\", \"command\", \"comment\", \"comments\", \"commit\", \"compatibility\", \"completely\", \"completion\", \"complex\", \"component\", \"compose\", \"compound\", \"comprehension\", \"comprehensions\", \"conda\", \"condition\", \"conditions\", \"config\", \"configurable\", \"configuration\", \"configurations\", \"configured\", \"configuring\", \"conflicts\", \"confusion\", \"connect\", \"connection\", \"considered\", \"console\", \"constructor\", \"contains\", \"content\", \"context\", \"contextual\", \"continue\", \"conversion\", \"convert\", \"copied\", \"copies\", \"copy\", \"copypasting\", \"coroutine\", \"correct\", \"correctly\", \"could\", \"coverage\", \"cpu\", \"crash\", \"crashes\", \"create\", \"created\", \"creates\", \"creating\", \"creation\", \"csv\", \"current\", \"currently\", \"currentthread\", \"cursor\", \"custom\", \"customize\", \"cython\", \"data\", \"database\", \"dataclass\", \"dataframe\", \"dataframes\", \"datetime\", \"debug\", \"debugger\", \"debugging\", \"declaration\", \"declarations\", \"decorated\", \"decorator\", \"decorators\", \"default\", \"define\", \"defined\", \"definition\", \"deletion\", \"dependencies\", \"dependency\", \"deployment\", \"deprecated\", \"detect\", \"detected\", \"detection\", \"dev\", \"diagram\", \"dialog\", \"dict\", \"dictionary\", \"diff\", \"difference\", \"different\", \"dir\", \"directory\", \"disabled\", \"disabling\", \"disappear\", \"disappears\", \"display\", \"displayed\", \"distinguish\", \"django\", \"djangotest\", \"doc\", \"docker\", \"dockercompose\", \"docstring\", \"docstrings\", \"doctest\", \"documentation\", \"double\", \"drf\", \"drive\", \"due\", \"dummy\", \"dunder\", \"duplicate\", \"duplicated\", \"eap\", \"editable\", \"editing\", \"editor\", \"effect\", \"eg\", \"element\", \"ellipses\", \"empty\", \"emulated\", \"enable\", \"enabled\", \"end\", \"endpoints\", \"engine\", \"entire\", \"enum\", \"enums\", \"environment\", \"environments\", \"epydoc\", \"equality\", \"erroneous\", \"erronious\", \"error\", \"errors\", \"evaluate\", \"evaluates\", \"even\", \"every\", \"examples\", \"excel\", \"except\", \"exception\", \"exceptions\", \"excessive\", \"executable\", \"execute\", \"executed\", \"executing\", \"execution\", \"exist\", \"existing\", \"exists\", \"exit\", \"expected\", \"experimental\", \"explicitly\", \"explorer\", \"export\", \"expression\", \"expressions\", \"extended\", \"extending\", \"extension\", \"extern\", \"external\", \"extra\", \"extract\", \"extremely\", \"fail\", \"failed\", \"failing\", \"fails\", \"failure\", \"false\", \"falsepositive\", \"fastapi\", \"fatal\", \"feature\", \"fewer\", \"field\", \"file\", \"files\", \"fill\", \"final\", \"find\", \"find\", \"fine\", \"finished\", \"first\", \"fix\", \"flag\", \"flags\", \"flask\", \"float\", \"focus\", \"fold\", \"folded\", \"folder\", \"folders\", \"folding\", \"font\", \"forever\", \"form\", \"format\", \"formatted\", \"formatter\", \"formatting\", \"found\", \"framework\", \"freezes\", \"fstring\", \"function\", \"functions\", \"generates\", \"generator\", \"generators\", \"generic\", \"generics\", \"get\", \"gets\", \"getting\", \"gherkin\", \"git\", \"given\", \"gives\", \"global\", \"go\", \"google\", \"got\", \"graph\", \"gutter\", \"handle\", \"handling\", \"hangs\", \"hash\", \"help\", \"helper\", \"helpers\", \"hidden\", \"hide\", \"high\", \"higher\", \"highlight\", \"highlighted\", \"highlighting\", \"highlights\", \"hint\", \"hinting\", \"hints\", \"history\", \"hit\", \"horizontal\", \"host\", \"hover\", \"html\", \"icons\", \"ide\", \"idea\", \"ifelse\", \"ignore\", \"ignored\", \"ignores\", \"image\", \"implementations\", \"import\", \"imported\", \"importing\", \"imports\", \"impossible\", \"improve\", \"include_routers\", \"included\", \"incompatible\", \"incomplete\", \"inconsistent\", \"inconsistently\", \"incorreclty\", \"incorrect\", \"incorrectly\", \"incorrectly\", \"indent\", \"indentation\", \"indentify\", \"indexing\", \"indication\", \"infer\", \"inference\", \"inferencer\", \"inferred\", \"inferrence\", \"inferring\", \"infers\", \"infinitum\", \"information\", \"inherit\", \"inherited\", \"initializing\", \"injection\", \"input\", \"insert\", \"inserted\", \"inserts\", \"inside\", \"insight\", \"insighte\", \"inspect\", \"inspection\", \"inspections\", \"inspects\", \"install\", \"installation\", \"installed\", \"installing\", \"instance\", \"instances\", \"instead\", \"int\", \"integer\", \"integrate\", \"integrated\", \"integration\", \"intellij\", \"intention\", \"interact\", \"interface\", \"intermediary\", \"interpreter\", \"interpreters\", \"interpretter\", \"introduce\", \"invalid\", \"invert\", \"invoked\", \"ipynb\", \"ipywidgets\", \"is_valid\", \"issue\", \"issues\", \"item\", \"items\", \"itemsview\", \"iter\", \"iterable\", \"iterator\", \"jinja\", \"js\", \"jumps\", \"jupyter\", \"jython\", \"keeps\", \"kernels\", \"key\", \"keyboard\", \"keys\", \"keyvalue\", \"keyword\", \"know\", \"kwargs\", \"lack\", \"lag\", \"language\", \"last\", \"latest\", \"latter\", \"launch\", \"launched\", \"leads\", \"leak\", \"left\", \"level\", \"libraries\", \"library\", \"ligatures\", \"line\", \"line_profiler\", \"lines\", \"link\", \"links\", \"list\", \"lists\", \"literal\", \"literals\", \"load\", \"loaded\", \"loading\", \"loads\", \"local\", \"local\", \"location\", \"long\", \"longer\", \"loop\", \"lost\", \"mac\", \"macos\", \"magic\", \"main\", \"mainpy\", \"make\", \"makes\", \"managepy\", \"manager\", \"mangled\", \"many\", \"mapped\", \"mark\", \"markdown\", \"marked\", \"marks\", \"masks\", \"match\", \"matching\", \"matlabengine\", \"matplotlib\", \"meaningful\", \"member\", \"members\", \"memory\", \"menu\", \"message\", \"messages\", \"metaclass\", \"metaclasses\", \"method\", \"methods\", \"microsoft\", \"mismatch\", \"missing\", \"mode\", \"model\", \"module\", \"modules\", \"mount\", \"mouse\", \"move\", \"multiline\", \"multiple\", \"multiprocessing\", \"multiproject\", \"multithreaded\", \"must\", \"mypy\", \"name\", \"named\", \"namedtuple\", \"names\", \"namespace\", \"narrowed\", \"navigate\", \"navigation\", \"nearby\", \"needless\", \"needlessly\", \"negative\", \"nested\", \"never\", \"new\", \"newly\", \"nonascii\", \"noncoroutine\", \"none\", \"nonnative\", \"nontoplevel\", \"notation\", \"notebook\", \"notebooks\", \"nothing\", \"notification\", \"nukes\", \"number\", \"numbers\", \"numpy\", \"object\", \"objects\", \"odoo\", \"office\", \"old\", \"one\", \"open\", \"opened\", \"opening\", \"operator\", \"operators\", \"option\", \"optional\", \"options\", \"orange\", \"order\", \"orm\", \"ospath\", \"outofthebox\", \"output\", \"outside\", \"overload\", \"overloads\", \"override\", \"package\", \"packages\", \"page\", \"pair\", \"pandas\", \"pane\", \"panels\", \"paragraph\", \"parameter\", \"parameters\", \"parametersinfo\", \"parametertypes\", \"paramspec\", \"parenteses\", \"parentheses\", \"parse\", \"parsed\", \"parser\", \"parsing\", \"part\", \"parts\", \"passed\", \"password\", \"paste\", \"path\", \"paths\", \"pattern\", \"patterns\", \"pep\", \"performance\", \"permission\", \"pgcli\", \"pid\", \"pin\", \"pip\", \"pipenv\", \"place\", \"please\", \"plot\", \"plots\", \"plugin\", \"plugins\", \"poetry\", \"point\", \"points\", \"policy\", \"populate\", \"popup\", \"positive\", \"positives\", \"possible\", \"possibly\", \"potential\", \"predefined\", \"preferences\", \"present\", \"preview\", \"previous\", \"print\", \"printed\", \"printing\", \"private\", \"pro\", \"problem\", \"problems\", \"process\", \"process\", \"processing\", \"produces\", \"professional\", \"profile\", \"profiler\", \"profiling\", \"program\", \"project\", \"projectfiles\", \"projectjdktable\", \"projects\", \"properly\", \"properties\", \"property\", \"propose\", \"provide\", \"proxy\", \"py\", \"pycharm\", \"pydev_monkey\", \"pydevd\", \"pylab\", \"pypi\", \"pyqt\", \"pyramid\", \"pyroute\", \"pyside\", \"pytest\", \"pytestxdist\", \"python\", \"python\", \"pythonid\", \"pythonpath\", \"qualified\", \"queue\", \"quick\", \"quotation\", \"quoted\", \"quotes\", \"raise\", \"raised\", \"raises\", \"randomly\", \"range\", \"raw\", \"read\", \"readonly\", \"recognize\", \"recognized\", \"recognizes\", \"redeclared\", \"redundant\", \"refactor\", \"refactoring\", \"reference\", \"referenced\", \"references\", \"regex\", \"regions\", \"regression\", \"relative\", \"reload\", \"remote\", \"remote\", \"remote\", \"remoter\", \"remove\", \"removes\", \"rename\", \"renaming\", \"render\", \"rendered\", \"rendering\", \"renders\", \"reopen\", \"replace\", \"report\", \"reported\", \"reports\", \"repository\", \"request\", \"require\", \"required\", \"requirements\", \"requirementstxt\", \"requires\", \"rerun\", \"resets\", \"resize\", \"resolution\", \"resolve\", \"resolved\", \"resolves\", \"response\", \"rest\", \"restart\", \"restartpy\", \"result\", \"results\", \"return\", \"returns\", \"reused\", \"right\", \"root\", \"run\", \"runner\", \"running\", \"runs\", \"save\", \"saved\", \"scheme\", \"scientific\", \"sciview\", \"scope\", \"scratch\", \"script\", \"scrollable\", \"sdk\", \"search\", \"second\", \"see\", \"seems\", \"select\", \"selecting\", \"selection\", \"selector\", \"self\", \"separate\", \"separate\", \"separator\", \"server\", \"service\", \"services\", \"session\", \"set\", \"sets\", \"setting\", \"settings\", \"setup\", \"setupclass\", \"sftp\", \"shadowed\", \"shadowing\", \"shadows\", \"shortcut\", \"show\", \"show\", \"showing\", \"shown\", \"shows\", \"side\", \"signature\", \"silently\", \"since\", \"single\", \"size\", \"skeletons\", \"slash\", \"slow\", \"slowly\", \"solution\", \"someclassget\", \"something\", \"sometimes\", \"source\", \"sources\", \"space\", \"specific\", \"specified\", \"speedups\", \"sphinx\", \"sql\", \"sqlalchemy\", \"ssh\", \"standard\", \"start\", \"started\", \"starting\", \"startup\", \"state\", \"statement\", \"statements\", \"static\", \"stdin\", \"steals\", \"step\", \"steps\", \"still\", \"stop\", \"stopped\", \"stopping\", \"stops\", \"str\", \"stretch\", \"strictness\", \"string\", \"strings\", \"stripped\", \"structure\", \"stub\", \"stubs\", \"stuck\", \"style\", \"subclass\", \"subclasses\", \"submitted\", \"submodule\", \"submodules\", \"subprocesses\", \"subscripted\", \"subtype\", \"succeeds\", \"suggest\", \"suggested\", \"suggestions\", \"suggests\", \"suite\", \"super\", \"superclass\", \"support\", \"supported\", \"sur\", \"switch\", \"switches\", \"switching\", \"sync\", \"syntax\", \"system\", \"tab\", \"table\", \"tabs\", \"tag\", \"tags\", \"taking\", \"target\", \"targets\", \"task\", \"teamcity\", \"template\", \"templates\", \"temporary\", \"terminal\", \"terminated\", \"termios\", \"test\", \"testcase\", \"tests\", \"text\", \"thats\", \"theme\", \"thinks\", \"thread\", \"time\", \"timeout\", \"today\", \"token\", \"tokenizers\", \"tool\", \"toolbar\", \"toolkit\", \"tools\", \"toolwindow\", \"top\", \"torch\", \"torchutilsdata\", \"traceback\", \"track\", \"treated\", \"treating\", \"trigger\", \"trivially\", \"true\", \"truncates\", \"try\", \"trying\", \"tuple\", \"tuples\", \"twice\", \"two\", \"type\", \"type\", \"type\", \"type\", \"type\", \"type\", \"type\", \"type\", \"type\", \"type\", \"typechecker\", \"typechecking\", \"typed\", \"typeddict\", \"typeerror\", \"typeguard\", \"typeinference\", \"types\", \"typesdict\", \"typevar\", \"typing\", \"typingprotocol\", \"typo\", \"ubuntu\", \"ui\", \"unable\", \"unactivated\", \"unbound\", \"uncalled\", \"undefined\", \"underscore\", \"understand\", \"unexpected\", \"unfilled\", \"unhandled\", \"uninstall\", \"union\", \"unit\", \"unittest\", \"universal\", \"unpack\", \"unpacking\", \"unqualified\", \"unreachable\", \"unresolved\", \"unsupported\", \"untyped\", \"unused\", \"update\", \"updates\", \"updating\", \"upgrade\", \"upgrading\", \"upper\", \"url\", \"usage\", \"usages\", \"use\", \"used\", \"user\", \"userdefined\", \"uses\", \"using\", \"usually\", \"vagrant\", \"valid\", \"validate\", \"value\", \"values\", \"variable\", \"variables\", \"venv\", \"venvs\", \"version\", \"versions\", \"via\", \"view\", \"viewer\", \"virtual\", \"virtualenv\", \"vmprof\", \"volume\", \"vpn\", \"walrus\", \"warn\", \"warning\", \"warnings\", \"wastes\", \"watch\", \"well\", \"whether\", \"whitespace\", \"whole\", \"widget\", \"window\", \"windows\", \"within\", \"without\", \"wizard\", \"word\", \"work\", \"working\", \"works\", \"wrapping\", \"writing\", \"wrong\", \"wrongly\", \"wsl\", \"wslbased\", \"xc\", \"xml\", \"yaml\", \"yes\", \"yield\"]}, \"R\": 30, \"lambda.step\": 0.01, \"plot.opts\": {\"xlab\": \"PC1\", \"ylab\": \"PC2\"}, \"topic.order\": [3, 8, 21, 24, 33, 45, 11, 17, 6, 22, 15, 28, 41, 7, 36, 14, 39, 9, 10, 29, 47, 43, 18, 5, 26, 48, 16, 27, 4, 34, 37, 40, 20, 42, 49, 50, 13, 44, 1, 12, 2, 23, 19, 35, 38, 46, 30, 31, 32, 25]};\n",
              "\n",
              "function LDAvis_load_lib(url, callback){\n",
              "  var s = document.createElement('script');\n",
              "  s.src = url;\n",
              "  s.async = true;\n",
              "  s.onreadystatechange = s.onload = callback;\n",
              "  s.onerror = function(){console.warn(\"failed to load library \" + url);};\n",
              "  document.getElementsByTagName(\"head\")[0].appendChild(s);\n",
              "}\n",
              "\n",
              "if(typeof(LDAvis) !== \"undefined\"){\n",
              "   // already loaded: just create the visualization\n",
              "   !function(LDAvis){\n",
              "       new LDAvis(\"#\" + \"ldavis_el18261404606356779048312958598\", ldavis_el18261404606356779048312958598_data);\n",
              "   }(LDAvis);\n",
              "}else if(typeof define === \"function\" && define.amd){\n",
              "   // require.js is available: use it to load d3/LDAvis\n",
              "   require.config({paths: {d3: \"https://d3js.org/d3.v5\"}});\n",
              "   require([\"d3\"], function(d3){\n",
              "      window.d3 = d3;\n",
              "      LDAvis_load_lib(\"https://cdn.jsdelivr.net/gh/bmabey/pyLDAvis@3.3.1/pyLDAvis/js/ldavis.v3.0.0.js\", function(){\n",
              "        new LDAvis(\"#\" + \"ldavis_el18261404606356779048312958598\", ldavis_el18261404606356779048312958598_data);\n",
              "      });\n",
              "    });\n",
              "}else{\n",
              "    // require.js not available: dynamically load d3 & LDAvis\n",
              "    LDAvis_load_lib(\"https://d3js.org/d3.v5.js\", function(){\n",
              "         LDAvis_load_lib(\"https://cdn.jsdelivr.net/gh/bmabey/pyLDAvis@3.3.1/pyLDAvis/js/ldavis.v3.0.0.js\", function(){\n",
              "                 new LDAvis(\"#\" + \"ldavis_el18261404606356779048312958598\", ldavis_el18261404606356779048312958598_data);\n",
              "            })\n",
              "         });\n",
              "}\n",
              "</script>"
            ],
            "text/plain": [
              "PreparedData(topic_coordinates=              x         y  topics  cluster      Freq\n",
              "topic                                               \n",
              "2     -0.427292  0.269107       1        1  4.449016\n",
              "7     -0.142108 -0.422782       2        1  4.181107\n",
              "20    -0.442490 -0.226421       3        1  3.904371\n",
              "23     0.473236  0.034176       4        1  3.282933\n",
              "32     0.103091  0.451036       5        1  3.255643\n",
              "44     0.454853 -0.186293       6        1  3.097047\n",
              "10     0.157066 -0.179013       7        1  2.975720\n",
              "16    -0.426268  0.087659       8        1  2.595977\n",
              "5     -0.272018 -0.204188       9        1  2.504239\n",
              "21     0.107587  0.353630      10        1  2.302927\n",
              "14     0.223158  0.370627      11        1  2.278528\n",
              "27    -0.293480  0.279911      12        1  2.196997\n",
              "40    -0.229622  0.375607      13        1  2.132507\n",
              "6      0.208173 -0.406397      14        1  2.122747\n",
              "35     0.401901  0.128537      15        1  2.065149\n",
              "13    -0.330825 -0.314073      16        1  2.054962\n",
              "38    -0.019458 -0.458693      17        1  2.052247\n",
              "8     -0.260291 -0.050304      18        1  2.052094\n",
              "9     -0.161118 -0.124822      19        1  2.003232\n",
              "28    -0.350289  0.069479      20        1  1.972603\n",
              "46     0.234234 -0.317139      21        1  1.946088\n",
              "42    -0.006733 -0.334457      22        1  1.940394\n",
              "17     0.218034 -0.051622      23        1  1.931012\n",
              "4      0.131432 -0.300968      24        1  1.929762\n",
              "25    -0.377460 -0.122735      25        1  1.923831\n",
              "47    -0.022497  0.427528      26        1  1.823184\n",
              "15     0.256615  0.089547      27        1  1.778019\n",
              "26     0.313126 -0.247730      28        1  1.764494\n",
              "3      0.052381  0.010638      29        1  1.700528\n",
              "33     0.362760 -0.079994      30        1  1.635067\n",
              "36    -0.207227 -0.341008      31        1  1.629907\n",
              "39    -0.313467  0.172942      32        1  1.625051\n",
              "19     0.092756  0.119771      33        1  1.602552\n",
              "41    -0.117567  0.028507      34        1  1.566407\n",
              "48    -0.376405 -0.023679      35        1  1.545091\n",
              "49     0.220925  0.207564      36        1  1.530694\n",
              "12    -0.014151  0.304090      37        1  1.525175\n",
              "43    -0.111783  0.367204      38        1  1.514202\n",
              "0      0.327011  0.190248      39        1  1.510818\n",
              "11     0.111941  0.213745      40        1  1.447925\n",
              "1     -0.179322  0.302657      41        1  1.434415\n",
              "22     0.073526 -0.367008      42        1  1.418009\n",
              "18    -0.139436 -0.250983      43        1  1.347967\n",
              "34     0.314845  0.010649      44        1  1.315189\n",
              "37    -0.050529  0.184243      45        1  1.290725\n",
              "45    -0.030199 -0.195089      46        1  1.222421\n",
              "29     0.288720 -0.161172      47        1  1.216802\n",
              "30     0.011398 -0.088816      48        1  1.216322\n",
              "31    -0.142551  0.106637      49        1  1.187151\n",
              "24     0.305817  0.299645      50        1  1.000752, topic_info=                 Term       Freq      Total Category  logprob  loglift\n",
              "58             python  72.000000  72.000000  Default  30.0000  30.0000\n",
              "35            pycharm  58.000000  58.000000  Default  29.0000  29.0000\n",
              "190             error  27.000000  27.000000  Default  28.0000  28.0000\n",
              "65               code  28.000000  28.000000  Default  27.0000  27.0000\n",
              "105             false  28.000000  28.000000  Default  26.0000  26.0000\n",
              "...               ...        ...        ...      ...      ...      ...\n",
              "2276         tutorial   0.228446   0.436574  Topic50  -5.0665   3.9568\n",
              "2521             repl   0.205316   0.413444  Topic50  -5.1733   3.9044\n",
              "2582  incompatibility   0.205316   0.413444  Topic50  -5.1733   3.9044\n",
              "1568            hides   0.179289   0.387417  Topic50  -5.3088   3.8339\n",
              "2455      traitletspy   0.169324   0.377452  Topic50  -5.3660   3.8028\n",
              "\n",
              "[1554 rows x 6 columns], token_table=      Topic      Freq      Term\n",
              "term                           \n",
              "1086     35  0.932384   ability\n",
              "2383     19  1.081761      able\n",
              "1378     35  1.086952  absolute\n",
              "1633     17  1.136329  abstract\n",
              "2260     37  0.996916  accepted\n",
              "...     ...       ...       ...\n",
              "2190     33  0.949942        xc\n",
              "2421     47  1.225236       xml\n",
              "1899     36  0.851342      yaml\n",
              "2765     44  1.215799       yes\n",
              "132      25  0.745346     yield\n",
              "\n",
              "[1119 rows x 3 columns], R=30, lambda_step=0.01, plot_opts={'xlab': 'PC1', 'ylab': 'PC2'}, topic_order=[3, 8, 21, 24, 33, 45, 11, 17, 6, 22, 15, 28, 41, 7, 36, 14, 39, 9, 10, 29, 47, 43, 18, 5, 26, 48, 16, 27, 4, 34, 37, 40, 20, 42, 49, 50, 13, 44, 1, 12, 2, 23, 19, 35, 38, 46, 30, 31, 32, 25])"
            ]
          },
          "metadata": {},
          "execution_count": 35
        }
      ]
    },
    {
      "cell_type": "markdown",
      "metadata": {
        "id": "HoC8qCcq6vrY"
      },
      "source": [
        "Проблемы с jupyter, django, версиями, дебаггером"
      ]
    },
    {
      "cell_type": "code",
      "metadata": {
        "colab": {
          "base_uri": "https://localhost:8080/",
          "height": 861
        },
        "id": "sUk2ql0XtX9H",
        "outputId": "46e296f0-de35-4dc0-ae08-2b3232c4bc86"
      },
      "source": [
        "show_2020_3"
      ],
      "execution_count": 36,
      "outputs": [
        {
          "output_type": "execute_result",
          "data": {
            "text/html": [
              "\n",
              "<link rel=\"stylesheet\" type=\"text/css\" href=\"https://cdn.jsdelivr.net/gh/bmabey/pyLDAvis@3.3.1/pyLDAvis/js/ldavis.v1.0.0.css\">\n",
              "\n",
              "\n",
              "<div id=\"ldavis_el18261404606265481767789512922\"></div>\n",
              "<script type=\"text/javascript\">\n",
              "\n",
              "var ldavis_el18261404606265481767789512922_data = {\"mdsDat\": {\"x\": [0.46480129387234537, -0.13080782587381262, -0.07625475108760499, -0.3337311700745294, 0.17658160199744416, 0.3749567592980047, -0.3534204870816117, 0.33854150941256633, -0.356576814732299, 0.3493686296339524, -0.1924233998184435, -0.38850052308339345, -0.2647005556016426, 0.2402483230845361, -0.4439846822645144, -0.2767929060669762, -0.3954136345402957, 0.20735214300083882, -0.38667098975056957, 0.20313510981365107, -0.19690255915488478, -0.028629512070654055, 0.30619379201154767, 0.09525537288719366, -0.04519993878234888, 0.025376407938235583, -0.21056745456797504, -0.017297025522376847, -0.07164375918960607, -0.14337441408717821, -0.07648602505423266, 0.11647809985711295, 0.3873601968023701, 0.16678194028029453, 0.41428616168513144, 0.20636888539200068, 0.2922749193389697, -0.26319961427967936, 0.07291321042815034, 0.045605112898686136, 0.25228571815106887, 0.356937012237788, 0.10856312036450914, 0.1801902554815597, 0.0814907001612927, -0.34358281054057593, -0.12651415056068452, -0.20423685099877906, -0.008192265184216082, -0.1282421560603639], \"y\": [0.19859625427051522, -0.46917411850104696, -0.3967710856188092, -0.36322202936248127, -0.4074142564413468, -0.1636321548233492, -0.23046680925261762, -0.33227719796812133, 0.28084128851037543, 0.2822137235320672, -0.22325484085788475, -0.14059245050541255, 0.13451595234382044, 0.2888398990877137, 0.03099209383748962, 0.37696249929115866, 0.17000897445308513, 0.38925610597178817, -0.057440790808732156, -0.31173560364133346, -0.3249882029161556, -0.25117408514925066, -0.2083233678425804, -0.3778300070164859, 0.4309204297845596, -0.3940533996533829, 0.05071395213075127, 0.2951478566738468, -0.14508407291599879, 0.3760547523146006, 0.1083212389220377, 0.15782852850670717, -0.07278477130704385, 0.06161950587553851, 0.07196330299527999, -0.2005055725182604, 0.17478322777410202, -0.13438197234433993, 0.4320176205900299, 0.2296879989953304, 0.03790072911989395, -0.005746686030477828, 0.328362595762687, -0.0705134709035651, -0.13455420856313105, 0.06426534965295379, 0.2759976644479113, 0.22618832958642426, -0.02061588475182506, -0.03746283473703424], \"topics\": [1, 2, 3, 4, 5, 6, 7, 8, 9, 10, 11, 12, 13, 14, 15, 16, 17, 18, 19, 20, 21, 22, 23, 24, 25, 26, 27, 28, 29, 30, 31, 32, 33, 34, 35, 36, 37, 38, 39, 40, 41, 42, 43, 44, 45, 46, 47, 48, 49, 50], \"cluster\": [1, 1, 1, 1, 1, 1, 1, 1, 1, 1, 1, 1, 1, 1, 1, 1, 1, 1, 1, 1, 1, 1, 1, 1, 1, 1, 1, 1, 1, 1, 1, 1, 1, 1, 1, 1, 1, 1, 1, 1, 1, 1, 1, 1, 1, 1, 1, 1, 1, 1], \"Freq\": [3.556696444484392, 3.5088637631680775, 3.17319857950305, 3.09467777632795, 2.8996727192442844, 2.6554028339515785, 2.582083831979407, 2.5791083956773546, 2.5459677241074967, 2.3582790945601966, 2.3087348439222564, 2.269310502622021, 2.225077009207604, 2.22441356419007, 2.1726283445336616, 2.1419637878799156, 2.132618940064033, 2.1281208959311506, 2.12069416301249, 2.1113213345580037, 2.101720011413268, 2.0625269342037336, 2.022446716559384, 2.0089289093141023, 1.9805096247848528, 1.9667201843440223, 1.9623451130259544, 1.9293598982653437, 1.9038523129940872, 1.8733172982021828, 1.8650905715450128, 1.8114591465967647, 1.778544500818341, 1.7503462988852576, 1.7345482397959338, 1.6477793625844797, 1.6438301415400627, 1.5629315456403245, 1.5500416359512772, 1.5465491732964092, 1.4897235762929626, 1.4710692769555167, 1.409553117777898, 1.3410219322705608, 1.327014899853398, 1.2482985967933193, 1.2369869568475993, 1.1985248077451482, 1.0142878899725913, 0.7718367768052184]}, \"tinfo\": {\"Term\": [\"pycharm\", \"python\", \"code\", \"type\", \"false\", \"error\", \"interpreter\", \"project\", \"incorrect\", \"work\", \"import\", \"cannot\", \"file\", \"run\", \"completion\", \"console\", \"new\", \"django\", \"class\", \"list\", \"used\", \"function\", \"debugger\", \"working\", \"reference\", \"wrong\", \"method\", \"jupyter\", \"module\", \"show\", \"interpreter\", \"using\", \"wsl\", \"docker\", \"compose\", \"ssh\", \"dockercompose\", \"sciview\", \"opened\", \"docstrings\", \"time\", \"google\", \"breakpoints\", \"handle\", \"integration\", \"problem\", \"information\", \"could\", \"flask\", \"app\", \"valid\", \"wslbased\", \"dialog\", \"engine\", \"response\", \"permission\", \"word\", \"experimental\", \"graph\", \"recognizes\", \"remote\", \"python\", \"pycharm\", \"settings\", \"unable\", \"writing\", \"language\", \"breaking\", \"existing\", \"even\", \"resolved\", \"infer\", \"setup\", \"randomly\", \"required\", \"whole\", \"vagrant\", \"well\", \"slowly\", \"azure\", \"toolkit\", \"djangotest\", \"metaclasses\", \"reopen\", \"office\", \"shut\", \"visuals\", \"bounded\", \"customized\", \"detecting\", \"closes\", \"bracketed\", \"import\", \"str\", \"quick\", \"generic\", \"classes\", \"missing\", \"expected\", \"install\", \"extended\", \"component\", \"removes\", \"folded\", \"fix\", \"autoimport\", \"parentheses\", \"inherited\", \"typesdict\", \"eg\", \"needless\", \"takes\", \"clause\", \"minor\", \"prioritize\", \"irrelevant\", \"parameterized\", \"typematching\", \"variants\", \"optimize\", \"confusing\", \"pyx\", \"disable\", \"type\", \"console\", \"issue\", \"slow\", \"save\", \"python\", \"auto\", \"always\", \"managepy\", \"hidden\", \"queue\", \"causing\", \"profiler\", \"matlabengine\", \"tools\", \"evaluates\", \"database\", \"integrated\", \"scrollable\", \"interact\", \"pgcli\", \"invoked\", \"properties\", \"complex\", \"executing\", \"insert\", \"overwritten\", \"runserver\", \"ipython\", \"stay\", \"broke\", \"code\", \"working\", \"inspections\", \"displayed\", \"incomplete\", \"insight\", \"analysis\", \"sync\", \"injection\", \"unreachable\", \"except\", \"block\", \"datetime\", \"certain\", \"paste\", \"keys\", \"typo\", \"typechecking\", \"userdefined\", \"regex\", \"column\", \"fstrings\", \"hard\", \"section\", \"wrap\", \"index\", \"keras\", \"tensorflowkeras\", \"tips\", \"dynamically\", \"incorrect\", \"inferred\", \"declaration\", \"updating\", \"stuck\", \"sometimes\", \"go\", \"profile\", \"doc\", \"collection\", \"startup\", \"pytestxdist\", \"regions\", \"mismatch\", \"loads\", \"inferrence\", \"conversion\", \"propose\", \"improve\", \"fewer\", \"inferencer\", \"succeeds\", \"jumps\", \"task\", \"skeleton\", \"screen\", \"spinner\", \"cores\", \"reindex\", \"unusable\", \"type\", \"false\", \"positive\", \"highlighting\", \"level\", \"attributes\", \"instance\", \"open\", \"keeps\", \"showing\", \"performance\", \"separator\", \"conditions\", \"asking\", \"access\", \"py\", \"expressions\", \"renaming\", \"forever\", \"typingprotocol\", \"global\", \"allowed\", \"trivially\", \"stdin\", \"undefined\", \"thread\", \"release\", \"varying\", \"rst\", \"identifier\", \"caret\", \"project\", \"module\", \"files\", \"imports\", \"root\", \"external\", \"automatically\", \"interpreters\", \"number\", \"base\", \"exceptions\", \"link\", \"editable\", \"projectfiles\", \"treating\", \"library\", \"inspect\", \"actually\", \"readonly\", \"switches\", \"venvs\", \"nukes\", \"collectionsabc\", \"microsoft\", \"side\", \"masks\", \"remoter\", \"trigger\", \"entire\", \"populate\", \"local\", \"completion\", \"django\", \"parameter\", \"syntax\", \"methods\", \"empty\", \"configured\", \"passed\", \"size\", \"ospath\", \"provide\", \"render\", \"saved\", \"abstract\", \"item\", \"inserts\", \"epydoc\", \"tensorrt\", \"info\", \"implement\", \"basic\", \"invoke\", \"highlighing\", \"formulas\", \"strict\", \"unless\", \"sporadically\", \"particular\", \"xmldomminidom\", \"active\", \"need\", \"jupyter\", \"window\", \"call\", \"tool\", \"installed\", \"statement\", \"notebook\", \"server\", \"available\", \"called\", \"cant\", \"got\", \"rendering\", \"examples\", \"anymore\", \"stripped\", \"kernels\", \"pyside\", \"history\", \"pro\", \"token\", \"location\", \"require\", \"exist\", \"across\", \"math\", \"forwarding\", \"hierarchy\", \"port\", \"located\", \"remote\", \"method\", \"multiple\", \"idea\", \"create\", \"comment\", \"causes\", \"namespace\", \"additional\", \"session\", \"static\", \"must\", \"resolution\", \"superclass\", \"multiproject\", \"typeerror\", \"bytes\", \"drive\", \"nonnative\", \"arg\", \"extract\", \"someclassget\", \"untyped\", \"magic\", \"setupclass\", \"usually\", \"simultaneously\", \"assignments\", \"images\", \"declaring\", \"ordering\", \"inference\", \"running\", \"allow\", \"selection\", \"keyword\", \"cython\", \"warnings\", \"generator\", \"execute\", \"checking\", \"classmethod\", \"something\", \"rerun\", \"check\", \"yield\", \"model\", \"key\", \"resolve\", \"speedups\", \"reports\", \"program\", \"helpers\", \"submodule\", \"parametrized\", \"enumeratels\", \"translate\", \"reset\", \"apple\", \"protocol\", \"swap\", \"type\", \"arguments\", \"package\", \"folder\", \"dunder\", \"make\", \"dependency\", \"bar\", \"html\", \"pattern\", \"templates\", \"formatter\", \"parsing\", \"url\", \"comprehension\", \"patterns\", \"lack\", \"tokenizers\", \"private\", \"aware\", \"contributors\", \"dumb\", \"needs\", \"formatteroff\", \"turn\", \"ssl\", \"unrecognized\", \"pyassert\", \"extend\", \"redraw\", \"corresponding\", \"cannot\", \"creating\", \"none\", \"get\", \"intellij\", \"checker\", \"popup\", \"system\", \"target\", \"pandas\", \"infers\", \"markdown\", \"issues\", \"copies\", \"raise\", \"orange\", \"torch\", \"supported\", \"diff\", \"latter\", \"viewer\", \"latest\", \"pyramid\", \"theme\", \"projectjdktable\", \"nearby\", \"configurable\", \"doublynested\", \"path_or_buf\", \"hvplot\", \"type\", \"documentation\", \"pytest\", \"strings\", \"view\", \"change\", \"exception\", \"dataframe\", \"tuple\", \"color\", \"found\", \"loading\", \"clone\", \"formatted\", \"true\", \"git\", \"horizontal\", \"needlessly\", \"wastes\", \"failure\", \"launch\", \"enable\", \"scheme\", \"condition\", \"commit\", \"state\", \"customize\", \"edition\", \"wo\", \"cause\", \"branch\", \"run\", \"fails\", \"typing\", \"configuration\", \"literal\", \"autocomplete\", \"operator\", \"recognize\", \"fail\", \"walrus\", \"initializing\", \"stubs\", \"namedtuple\", \"parenteses\", \"lag\", \"doctest\", \"flags\", \"effect\", \"emulated\", \"passing\", \"frameworks\", \"misnamed\", \"web\", \"flask_debug\", \"multicursor\", \"keywords\", \"initialized\", \"assigning\", \"autotest\", \"enumunique\", \"use\", \"environment\", \"path\", \"shows\", \"terminal\", \"importing\", \"eap\", \"directory\", \"conda\", \"previous\", \"runs\", \"highlights\", \"bin\", \"raises\", \"changed\", \"activation\", \"environments\", \"submitted\", \"activate\", \"float\", \"makes\", \"integer\", \"unactivated\", \"activated\", \"managing\", \"party\", \"third\", \"pymc\", \"theano\", \"comm\", \"used\", \"ide\", \"match\", \"annotation\", \"refactor\", \"restart\", \"named\", \"calling\", \"standard\", \"returns\", \"decorators\", \"class\", \"member\", \"testcase\", \"renames\", \"responsive\", \"nonproject\", \"queryset\", \"derivatives\", \"qobject\", \"qobjecttr\", \"declared\", \"near\", \"play\", \"unknown\", \"dictionaries\", \"gone\", \"poor\", \"ms\", \"gt\", \"wrong\", \"functions\", \"value\", \"disabled\", \"return\", \"menu\", \"field\", \"right\", \"second\", \"ignore\", \"understand\", \"classdecorated\", \"context\", \"click\", \"annotating\", \"shadowing\", \"traceback\", \"builtins\", \"overloads\", \"kwargs\", \"statements\", \"position\", \"overloaded\", \"checkbox\", \"cleared\", \"remains\", \"tip\", \"linux\", \"wild\", \"tempfile\", \"type\", \"name\", \"variable\", \"modules\", \"warn\", \"custom\", \"signature\", \"format\", \"autocompletion\", \"introduce\", \"builtin\", \"validate\", \"changes\", \"renders\", \"binary\", \"pydevd\", \"submodules\", \"subscripted\", \"many\", \"falsepositive\", \"objects\", \"override\", \"shadows\", \"enter\", \"outer\", \"rescan\", \"assumed\", \"resolving\", \"accurate\", \"differs\", \"typeshed\", \"incorrectly\", \"types\", \"output\", \"variables\", \"docstring\", \"executable\", \"plot\", \"currently\", \"incorreclty\", \"show\", \"qualified\", \"password\", \"inherit\", \"pid\", \"clear\", \"detected\", \"track\", \"powershell\", \"mixes\", \"parallel\", \"misinterprets\", \"connected\", \"tried\", \"duplication\", \"terraform\", \"real\", \"setupcfg\", \"prompt\", \"post\", \"alongside\", \"separate\", \"reference\", \"attribute\", \"unresolved\", \"sqlalchemy\", \"int\", \"virtualenv\", \"duplicate\", \"disappear\", \"options\", \"dir\", \"detection\", \"baseformset\", \"is_valid\", \"autodetected\", \"isinstance\", \"arm\", \"tox\", \"moduletype\", \"independent\", \"mixins\", \"evaluation\", \"noheader\", \"nosummary\", \"sysorig_argv\", \"hello\", \"rc\", \"conditional\", \"reading\", \"similar\", \"defines\", \"function\", \"without\", \"nested\", \"hint\", \"defined\", \"user\", \"hinting\", \"definition\", \"outside\", \"ifelse\", \"accepted\", \"calls\", \"works\", \"operators\", \"know\", \"async\", \"raised\", \"dictionary\", \"chain\", \"upper\", \"typingtypeddict\", \"revealed\", \"mistreats\", \"codecompletion\", \"large\", \"amount\", \"foreignkey\", \"classmethods\", \"expecting\", \"returning\", \"type\", \"debugger\", \"failed\", \"enabled\", \"services\", \"cpu\", \"connection\", \"ignored\", \"extension\", \"final\", \"rest\", \"crash\", \"links\", \"mapped\", \"gets\", \"appearing\", \"high\", \"ipynb\", \"silently\", \"lost\", \"framework\", \"extremely\", \"crashes\", \"restartpy\", \"creates\", \"professional\", \"excel\", \"font\", \"request\", \"flag\", \"caused\", \"warning\", \"test\", \"unexpected\", \"button\", \"dict\", \"case\", \"result\", \"runner\", \"itemsview\", \"autodetect\", \"able\", \"unittest\", \"exists\", \"export\", \"suite\", \"every\", \"sphinx\", \"inferring\", \"keyvalue\", \"pair\", \"resets\", \"gives\", \"goes\", \"unicode\", \"pymongo\", \"referenceerror\", \"several\", \"tablecolumns\", \"capture\", \"preserve\", \"type\", \"string\", \"line\", \"preview\", \"message\", \"different\", \"better\", \"macos\", \"display\", \"properly\", \"characters\", \"behavior\", \"libraries\", \"redeclared\", \"blank\", \"clickable\", \"rendered\", \"print\", \"quoted\", \"double\", \"upgrade\", \"helper\", \"became\", \"brown\", \"newline\", \"give\", \"panel\", \"assertion\", \"tree\", \"swing\", \"stack\", \"new\", \"projects\", \"adding\", \"via\", \"twice\", \"scratch\", \"shortcut\", \"copied\", \"loaded\", \"leads\", \"single\", \"possible\", \"deployment\", \"continue\", \"navigation\", \"duplicated\", \"slash\", \"focus\", \"steals\", \"mentioned\", \"opens\", \"inline\", \"greyed\", \"mappings\", \"vcs\", \"minimalist\", \"resembling\", \"choice\", \"fullscreen\", \"passwords\", \"property\", \"one\", \"sdk\", \"memory\", \"requirementstxt\", \"specific\", \"help\", \"leak\", \"please\", \"widget\", \"dependencies\", \"handling\", \"tabs\", \"notebooks\", \"close\", \"appear\", \"two\", \"intermediary\", \"still\", \"repository\", \"uninstall\", \"antivirus\", \"excessive\", \"unsupported\", \"removed\", \"constantly\", \"freezing\", \"flathub\", \"freeze\", \"systematic\", \"separate\", \"list\", \"editor\", \"editing\", \"incompatible\", \"plugins\", \"define\", \"select\", \"already\", \"suggestions\", \"page\", \"enums\", \"mount\", \"instances\", \"ligatures\", \"load\", \"containing\", \"datalore\", \"ctrl\", \"append\", \"rewritten\", \"listed\", \"description\", \"parent\", \"exports\", \"spellcheck\", \"wheel\", \"colour\", \"insists\", \"made\", \"title\", \"file\", \"debugging\", \"script\", \"object\", \"stop\", \"poetry\", \"produces\", \"copy\", \"bad\", \"started\", \"iterator\", \"launched\", \"although\", \"higher\", \"old\", \"predefined\", \"children\", \"pdf\", \"tracebacks\", \"npe\", \"subprocess\", \"locate\", \"ones\", \"logic\", \"simple\", \"clash\", \"escape\", \"analyze\", \"priority\", \"rich\", \"move\", \"search\", \"setting\", \"cls\", \"printing\", \"results\", \"disappears\", \"matching\", \"seems\", \"configurations\", \"mouse\", \"whether\", \"hover\", \"narrowed\", \"tab\", \"checked\", \"resolves\", \"pythonpath\", \"csv\", \"ad\", \"infinitum\", \"brings\", \"ellipses\", \"fatal\", \"nothing\", \"treat\", \"ctrlshiftf\", \"exporting\", \"accepting\", \"nonvalid\", \"show\", \"debug\", \"add\", \"imported\", \"suggests\", \"compatibility\", \"hide\", \"stops\", \"js\", \"requirements\", \"unhandled\", \"nontoplevel\", \"policy\", \"underscore\", \"quickfix\", \"entrypoint\", \"finishes\", \"overrides\", \"anything\", \"claims\", \"contents\", \"containers\", \"selected\", \"inputs\", \"outputs\", \"signal\", \"tutorial\", \"repl\", \"incompatibility\", \"hides\", \"traitletspy\", \"packages\", \"ui\", \"correctly\", \"host\", \"multiline\", \"indexing\", \"space\", \"coverage\", \"highlight\", \"installing\", \"interpretter\", \"stopping\", \"connect\", \"notation\", \"proxy\", \"bundled\", \"status\", \"speedup\", \"connecting\", \"manual\", \"db\", \"makemigrations\", \"postgresql\", \"native\", \"background\", \"ascii\", \"yet\", \"oserror\", \"winerror\", \"alt\", \"remote\", \"vpn\", \"inside\", \"argument\", \"execution\", \"self\", \"considered\", \"specified\", \"top\", \"bound\", \"decorated\", \"long\", \"end\", \"client\", \"order\", \"parser\", \"xml\", \"printed\", \"subprocesses\", \"quotation\", \"pin\", \"recognised\", \"returntype\", \"incorrectly\", \"flagged\", \"dynamic\", \"modifer\", \"popular\", \"commented\", \"prefixes\", \"spellchecker\", \"expressiononly\", \"windows\", \"typevar\", \"pep\", \"formatting\", \"errors\", \"attach\", \"due\", \"problems\", \"table\", \"current\", \"executed\", \"parse\", \"ca\", \"indentation\", \"blocks\", \"subtype\", \"dataclass\", \"big\", \"extending\", \"reused\", \"service\", \"sur\", \"resize\", \"installation\", \"copypasting\", \"treated\", \"annotated\", \"miniforge\", \"protocols\", \"operations\", \"support\", \"cell\", \"mode\", \"ability\", \"plots\", \"scientific\", \"place\", \"numbers\", \"requires\", \"positives\", \"mypy\", \"processing\", \"toolwindow\", \"fstring\", \"pip\", \"last\", \"absolute\", \"outofthebox\", \"universal\", \"switch\", \"inserted\", \"feedback\", \"polars\", \"narrowing\", \"icon\", \"atpublic\", \"autoall\", \"manage\", \"bottom\", \"interpretation\", \"rename\", \"command\", \"values\", \"correct\", \"toolbar\", \"within\", \"inconsistent\", \"constructor\", \"bracket\", \"content\", \"members\", \"declarations\", \"closing\", \"appears\", \"character\", \"pipenv\", \"folding\", \"wizard\", \"suggested\", \"cells\", \"point\", \"dataframes\", \"jython\", \"unit\", \"sftp\", \"detect\", \"notification\", \"automatic\", \"config\", \"updates\", \"work\", \"union\", \"based\", \"iterable\", \"clicking\", \"metaclass\", \"generics\", \"hints\", \"manager\", \"lists\", \"vmprof\", \"sources\", \"source\", \"pyroute\", \"ubuntu\", \"selecting\", \"typeinference\", \"wrapping\", \"evaluate\", \"throws\", \"altclick\", \"buttons\", \"perceived\", \"sorting\", \"loses\", \"downloaded\", \"crazy\", \"unified\", \"array\", \"exploding\", \"type\", \"error\", \"broken\", \"report\", \"unused\", \"usages\", \"terminated\", \"targets\", \"profiling\", \"insighte\", \"solution\", \"skeletons\", \"uncalled\", \"part\", \"read\", \"configuring\", \"implementations\", \"unqualified\", \"local\", \"compile\", \"extensions\", \"flagging\", \"box\", \"identification\", \"unpacked\", \"refresh\", \"prefer\", \"removing\", \"rather\", \"json\", \"distribution\", \"find\", \"breaks\", \"annotations\", \"refactoring\", \"decorator\", \"stopped\", \"numpy\", \"super\", \"explicitly\", \"actions\", \"enum\", \"subclass\", \"another\", \"contextual\", \"icons\", \"overload\", \"unfilled\", \"gutter\", \"indentify\", \"switching\", \"also\", \"body\", \"providing\", \"triple\", \"shape\", \"defintion\", \"hinted\", \"propagate\", \"moving\", \"picks\", \"staticmethod\", \"class\", \"type\", \"default\", \"suggest\", \"negative\", \"whitespace\", \"recognized\", \"typed\", \"added\", \"structure\", \"unpacking\", \"thinks\", \"main\", \"timeout\", \"quotes\", \"jinja\", \"disabling\", \"teamcity\", \"yaml\", \"raw\", \"cases\", \"scope\", \"mangled\", \"opening\", \"assigned\", \"pysparkstubs\", \"beta\", \"monterey\", \"commands\", \"commenting\", \"ip\", \"retrieve\", \"instead\", \"invalid\", \"parameters\", \"changing\", \"lines\", \"feature\", \"shown\", \"wrongly\", \"completely\", \"chained\", \"tuples\", \"typeddict\", \"thats\", \"parametersinfo\", \"parametertypes\", \"generators\", \"unpack\", \"diagram\", \"anystr\", \"confusion\", \"emailmessage\", \"iterating\", \"subscription\", \"cached\", \"provides\", \"pyenv\", \"despite\", \"way\", \"total\", \"calculated\", \"type\", \"created\", \"bug\", \"subclasses\", \"venv\", \"marked\", \"ignores\", \"mainpy\", \"given\", \"stub\", \"comments\", \"termios\", \"present\", \"attached\", \"inconsistently\", \"typechecker\", \"tag\", \"temporary\", \"actual\", \"regression\", \"deletion\", \"adjacent\", \"fill\", \"paragraph\", \"text\", \"orm\", \"find\", \"carets\", \"nonascii\", \"interface\", \"extra\", \"update\", \"longer\", \"freezes\", \"uses\", \"breakpoint\", \"items\", \"hit\", \"references\", \"navigate\", \"included\", \"multithreaded\", \"upgrading\", \"since\", \"getting\", \"drf\", \"mac\", \"folders\", \"fine\", \"multiprocessing\", \"today\", \"pypi\", \"permissions\", \"flaskbased\", \"severe\", \"fullyqualified\", \"permanent\", \"drives\", \"mounted\", \"network\", \"toplevel\", \"plugin\", \"data\", \"fastapi\", \"expression\", \"reload\", \"checks\", \"input\", \"sets\", \"never\", \"keyboard\", \"cursor\", \"endpoints\", \"account\", \"pyqt\", \"indent\", \"loop\", \"erroneous\", \"odoo\", \"torchutilsdata\", \"include_routers\", \"dev\", \"pydev_monkey\", \"pythonid\", \"taking\", \"parts\", \"stretch\", \"sysversion_info\", \"postfix\", \"registry\", \"vuejs\", \"inspection\", \"template\", \"optional\", \"assignment\", \"left\", \"tags\", \"hangs\", \"form\", \"unbound\", \"range\", \"erronious\", \"referenced\", \"generates\", \"paths\", \"marks\", \"sql\", \"chosen\", \"indication\", \"backslashes\", \"try\", \"possibly\", \"relative\", \"autoindentation\", \"conflicts\", \"potential\", \"admin\", \"shadowed\", \"equality\", \"meaningful\", \"addition\", \"option\", \"first\", \"reported\", \"action\", \"finished\", \"creation\", \"see\", \"start\", \"parsed\", \"exit\", \"virtual\", \"step\", \"integrate\", \"panels\", \"trying\", \"difference\", \"xc\", \"comprehensions\", \"extern\", \"volume\", \"steps\", \"distinguish\", \"image\", \"failing\", \"uncorrectly\", \"trailing\", \"fastapifastapi\", \"uvicornrun\", \"apscheduler\", \"ctrlc\", \"process\", \"version\", \"usage\", \"names\", \"remove\", \"highlighted\", \"versions\", \"fold\", \"adds\", \"impossible\", \"redundant\", \"explorer\", \"compound\", \"applied\", \"yes\", \"bivariant\", \"inspects\", \"strictness\", \"typeguard\", \"redefined\", \"complete\", \"continuously\", \"increases\", \"selinum\", \"fragments\", \"spaces\", \"much\", \"updated\", \"following\", \"break\", \"redundand\", \"tests\", \"style\", \"intention\", \"deprecated\", \"contains\", \"awaited\", \"callable\", \"selector\", \"coroutine\", \"ipywidgets\", \"messages\", \"blocktrans\", \"blocktranslate\", \"currentthread\", \"points\", \"pane\", \"noncoroutine\", \"pylab\", \"iter\", \"replace\", \"paramspec\", \"mark\", \"preferences\", \"convert\", \"literals\", \"invert\", \"attributeerror\", \"sysmodulates\", \"tries\", \"xfail\", \"yet\", \"set\", \"starting\", \"becomes\", \"process\", \"gherkin\", \"matplotlib\", \"hash\", \"newly\", \"element\", \"truncates\", \"watch\", \"dummy\", \"attaching\", \"line_profiler\", \"cucumber\", \"translations\", \"killing\", \"unresponsive\", \"sends\", \"sigint\", \"rider\", \"appending\", \"syspath\", \"lacks\", \"substituted\", \"additive\", \"stacked\", \"directive\", \"dotted\", \"built\"], \"Freq\": [57.0, 50.0, 33.0, 54.0, 24.0, 19.0, 23.0, 19.0, 19.0, 16.0, 19.0, 17.0, 15.0, 15.0, 16.0, 17.0, 14.0, 14.0, 15.0, 12.0, 12.0, 11.0, 11.0, 12.0, 11.0, 11.0, 11.0, 11.0, 11.0, 12.0, 23.416312283179252, 12.054408679062382, 9.033591709504663, 7.70473207002369, 3.991662396785702, 3.911522362650808, 3.3331666555494284, 2.3645196251901206, 2.076074780206341, 1.9522309181615767, 1.7520326957659293, 1.603230803824347, 1.5837843820952804, 1.2945433309229364, 1.2822565813757283, 1.132572123643189, 1.0900167526787286, 1.0091168798091912, 1.0063453025212379, 1.0056901643239606, 0.9689291663418818, 0.9331730419857017, 0.9071528099405229, 0.8532396839866315, 0.8056321714768586, 0.7542748286102817, 0.6877176716958853, 0.5772383773427537, 0.5549984740091074, 0.5535483348847071, 4.773449047078604, 4.011204400987319, 57.63267080974985, 9.98145532777086, 8.909667131355347, 1.8079710253741084, 1.7702625571205224, 1.7044615385076516, 1.5921822220269017, 1.405160626991693, 1.1541159050672782, 1.0654289377605397, 1.0299453415110136, 0.9959069091243347, 0.9804498492035735, 0.9632675260492523, 0.8310264507427833, 0.8097603015105572, 0.660853106854966, 0.660853106854966, 0.660853106854966, 0.6608530034591112, 0.6579130974210297, 0.5865786945435769, 0.5444412131507627, 0.4776242785663383, 0.44866242755763763, 0.36985969038846395, 0.30502405302310254, 0.1716803772452936, 0.14819990238619946, 0.14197028920869165, 19.3677524880927, 8.918991328949978, 8.564789937005425, 8.093662671578846, 5.347961002157705, 4.936822671693003, 4.723041541525038, 2.4057279667711176, 2.1102300058950307, 1.4073699991221238, 1.4019853386107926, 1.176143586229594, 1.0295406940386789, 1.002950081535322, 0.8193654827058509, 0.7355595679137481, 0.7355595679137481, 0.7099021332439835, 0.6914844474251849, 0.6499080555184945, 0.5473339989436349, 0.4820054260282297, 0.4250020991050906, 0.39737592101986635, 0.3656277243948454, 0.23128050541524858, 0.22835417941523783, 0.28107204142051223, 0.1852494516678592, 0.1810007691979193, 0.39383363219632955, 7.4835349211517554, 17.030710262143778, 3.081411206666263, 3.0153039205361196, 2.0370519239485003, 46.23062971512435, 1.2412763434956784, 1.2355577548374026, 1.1780827927316528, 1.0158603573646174, 0.9894286411694129, 0.8630579540243705, 0.790440632401871, 0.6996994153755757, 0.6284389248907972, 0.5638555318409992, 0.5079152233555673, 0.4902353826076712, 0.4902353826076712, 0.4902353826076712, 0.4902353826076712, 0.4881090360753901, 0.44849365221148413, 0.4466664122140323, 0.4360247397318046, 0.38376955142289293, 0.332827741732237, 0.28633541532021695, 0.2760906061427384, 0.2743700368370904, 0.23823885654212468, 32.90872452188401, 12.546534378841272, 4.405564310734321, 2.9271332145305973, 2.0084436120070928, 1.5988192215023755, 1.4662266745751813, 1.3333946258919287, 1.2744670259712125, 1.1508255901617106, 0.9458876201733843, 0.9352695665801524, 0.801670394541249, 0.7753439137846239, 0.7062858937069311, 0.6454555664031324, 0.6441490727887883, 0.6013879268467879, 0.6008645347644711, 0.5920822625586486, 0.5867860524810511, 0.5729818052622291, 0.5463123063822735, 0.49653460489122575, 0.4613524975735958, 0.44518903416265093, 0.4379809541090712, 0.4379809541090712, 0.4379809541090712, 0.390382564797524, 19.358577617170106, 3.5046778075388563, 2.7787505051733783, 2.2473510526496194, 1.8707010829879287, 1.483252574243693, 1.418545533392558, 1.4064955136926032, 1.2759959912547634, 1.225643888482165, 1.1681432288928904, 1.083479946974769, 1.0512024825176973, 0.9689244785251175, 0.83545470447812, 0.7365113667467403, 0.7365113667467403, 0.6923791868051103, 0.6247483729922318, 0.606772091006334, 0.606772091006334, 0.606772091006334, 0.6067720518828934, 0.6048269517873653, 0.5816111412681004, 0.55671423563037, 0.5000279695802974, 0.5000279695802974, 0.5000279695802974, 0.5000279695802974, 15.05989678168657, 24.503653693899555, 10.41402652445208, 3.600922769523027, 2.7688313928904296, 2.5163741750079076, 2.1989470959000292, 1.9240641764126731, 1.8474254025832462, 1.4364164808912157, 1.153887868667329, 1.077651211391412, 1.0597221391519307, 1.004995407730981, 0.7670245813506333, 0.7421098657789166, 0.6874356339647638, 0.6840397463552539, 0.679371694360751, 0.6345349377805151, 0.6277249398718895, 0.6236444269551926, 0.6022824891222834, 0.518015256122905, 0.5089639054359826, 0.47693488445218474, 0.3970414393468929, 0.33742969559987285, 0.3117616106706198, 0.2916008676455444, 0.29026602709953836, 19.728022213695418, 11.454957144351201, 8.112110138787168, 4.145715914713883, 4.113983109621341, 2.5980173987524138, 2.1558622277235937, 1.630650955208352, 1.1937641667083798, 1.172000568312184, 1.0740265281720502, 0.9710790564940163, 0.8683417972460159, 0.7970154885565046, 0.7970154885565046, 0.7150006453867462, 0.6023522424563348, 0.5693352111733694, 0.5584185285676845, 0.5584185285676845, 0.5584185285676845, 0.5584185285676845, 0.5584185285676845, 0.5039846050005308, 0.466053079178758, 0.46005100510994446, 0.46005100510994446, 0.46005100510994446, 0.4596455139962624, 0.3564638902947527, 0.45768672326174054, 16.01678283470461, 14.553820869648451, 10.005873008658144, 8.019536708193966, 4.735290477167796, 3.318800533787206, 1.5196134423936927, 1.2489948875417305, 1.0940684428046836, 1.0683536250558916, 0.8289500619751069, 0.7550087545134346, 0.747744359574029, 0.7298330459460386, 0.684841211321534, 0.601356711065613, 0.5917610027652443, 0.43694330263694126, 0.3881892196429356, 0.36561100303037836, 0.36019886750289515, 0.20538051093076554, 0.20236315750449857, 0.1671960550536588, 0.1671960550536588, 0.15612249476669526, 0.07875492564146148, 0.06548889455172391, 0.06548889455172391, 0.06548889455172391, 0.06548889455172391, 11.202979519886648, 9.413750730368582, 5.210131854607287, 5.010345397065352, 4.097764942211536, 4.092362115370209, 3.75725926477382, 2.839305725450031, 1.8806760187225506, 1.8008488838368817, 1.5404926429632069, 1.211012351400256, 0.838472055267836, 0.7901332662235545, 0.7697985876062797, 0.7228943815392113, 0.5692544987473015, 0.5301932100742804, 0.49638638384342176, 0.48809104189632524, 0.4750553705315243, 0.4462067296393913, 0.4041851716267901, 0.3949669475236736, 0.33268947953382233, 0.28614249463485897, 0.250319458761726, 0.24881133638150807, 0.23644688362632246, 0.2196048141518123, 1.8731168699580056, 11.368776849009379, 5.282754354941473, 4.807655954927509, 3.733854447424961, 3.163344723098649, 2.9346249361460184, 2.286764644303396, 1.9275455554994885, 1.493018888099494, 1.4550486838341525, 1.3145117277289515, 1.2435517765033526, 1.2302860228733192, 1.2182313677700194, 1.1818344622648869, 1.116879320131644, 1.094700746706793, 1.0578474172034664, 1.0000950525906915, 0.8567146477705512, 0.8535381163465406, 0.8535381163465406, 0.7031840644316169, 0.7031840644316169, 0.7031840644316169, 0.5769092527565017, 0.5415634354570782, 0.3332313240994483, 0.32506236180891684, 0.32506236180891684, 7.290477983223265, 6.855844625707487, 5.1292086847191145, 3.331032136201344, 3.2889897051589125, 3.279017533673202, 3.096472657629743, 2.382902294285399, 2.15029875970793, 2.064792110231503, 1.71737272397192, 1.347817936248207, 1.210836190436618, 1.20597180787562, 1.1697487950223644, 1.09958256413951, 0.9727849673336791, 0.8987068484625593, 0.8811875416944628, 0.8524134322696659, 0.6366723416276662, 0.6309252766488032, 0.51585926474508, 0.4457606393110485, 0.41287684079252823, 0.3454733724426513, 0.34219765105911004, 0.25948410632377444, 0.23160576909588027, 0.23160576909588027, 5.822628478381683, 8.588514101835742, 6.722715869465702, 3.4515889092073166, 2.677101482673245, 2.6194079899924616, 2.5892715515865836, 2.383130896013589, 2.03566385625098, 1.9473981705396506, 1.8549169555116778, 1.8496540677276179, 1.7427006325244272, 1.6179061729607265, 1.0341667600036228, 1.0190556603425838, 0.8586569794336508, 0.8586569794336508, 0.7364666225524577, 0.7074012776687854, 0.7074012776687854, 0.7074012776687854, 0.698242169178093, 0.5829543202884643, 0.5829543202884643, 0.5829543202884643, 0.5829543202884643, 0.5829543202884643, 0.5829543202884643, 0.5829543202884643, 0.5651221473986633, 16.99797761584256, 4.670651326945602, 3.3562867986350375, 3.1554982910220772, 2.4039876142734977, 1.9950005220106604, 1.9236373834639102, 1.5756572817467205, 1.4643195797157784, 1.1795859439271934, 1.1719166944479598, 1.1327125692255275, 1.1033661733771414, 0.9194061113049229, 0.8471697569573252, 0.8365992050465566, 0.7631463657831861, 0.6157964759156296, 0.6084799343049112, 0.5861523005008683, 0.5281164526086295, 0.5113202889161024, 0.4913247810380654, 0.4867447569524617, 0.4828993497478067, 0.4828993497478067, 0.4236352184978077, 0.39794706068133084, 0.32805191050537924, 0.24824900228401098, 5.915765031106511, 8.272769788389832, 7.002790963382529, 4.775096228206303, 4.200455260768823, 3.446009171829127, 3.141853100885784, 3.0541272521764924, 2.5878045976151975, 2.128539355661011, 1.4829832866131885, 1.4221982187198066, 1.2240731204223536, 1.1656417184555992, 1.0992475197142255, 1.0934511916306375, 0.8762306308625791, 0.8762306308625791, 0.8762306308625791, 0.8481016853765501, 0.8203901564350106, 0.7520337158088816, 0.7121632014436395, 0.7072886468888185, 0.5736320614060981, 0.5711769863066987, 0.5057752722249796, 0.4222281984684369, 0.414950329746152, 0.3823008655168092, 0.37629330033375147, 15.441476513391674, 7.130394627387551, 6.136008574001773, 5.068579085465445, 4.792937545711208, 2.6525593352196406, 2.0384155423879933, 1.8654671909284286, 1.5422346654950412, 1.3910888134800148, 1.188718814973668, 1.066726613743854, 0.8887399199433089, 0.7269076696601782, 0.7007555012637285, 0.618824322924197, 0.5309120815270562, 0.5171274419749966, 0.49097536825456967, 0.36422093152462226, 0.3333300703990154, 0.3333300703990154, 0.3333300703990154, 0.3333300703990154, 0.3057407515367598, 0.2965364748452406, 0.2959763399363144, 0.2836374348094517, 0.27891291192502426, 0.2266150919983536, 7.7649369551313105, 5.199873992085862, 4.93884498337364, 4.159118746508591, 4.050520258175253, 3.7646292012590052, 3.733619698871982, 3.244135697853001, 2.450748367903093, 2.241519000626279, 1.2927715827158808, 1.130742954846137, 1.0716443427241216, 1.0623397072956864, 1.0355103908016832, 0.9098543887072874, 0.7090718637856553, 0.6267596115258773, 0.6162001473731407, 0.5427316474356265, 0.5331339169966675, 0.462701816012519, 0.42551595213014043, 0.35077864112702084, 0.35077864112702084, 0.35077864112702084, 0.35077864112702084, 0.28928785464434686, 0.28928785464434686, 0.19707077888328606, 12.510853211091888, 5.519691871421332, 3.421550922542405, 3.159544614166139, 2.1924336210390294, 2.1697779548055314, 1.5947878314878141, 1.367485679338332, 1.145117756711427, 0.9715861268445067, 0.9709449228275738, 12.553352150624761, 0.7375075299738721, 0.6611229178160742, 0.5938911872914768, 0.5938911872914768, 0.5731753121441194, 0.5374427838221097, 0.48927497368515704, 0.48927497368515704, 0.48927497368515704, 0.3517615763457375, 0.3323831367652393, 0.3323831367652393, 0.2706363814139486, 0.25576584123288604, 0.23818495205281592, 0.22617814815931034, 0.19273327586064704, 0.1803118214770716, 11.130690876002397, 9.214584242307762, 5.509128898363243, 3.12451077375473, 2.8708456993233686, 2.095963066028371, 1.9888476864601417, 1.5366556145396528, 1.4030385983606402, 1.2575879880897185, 1.0969461640350835, 0.8767949209075406, 0.8562911316449686, 0.8412982005205163, 0.8396808814205052, 0.8037040457888851, 0.6968423780380525, 0.6064563557691531, 0.579836049517671, 0.5061010213414475, 0.46884162872947005, 0.41640252060333605, 0.4152175426877238, 0.34381372617356565, 0.34381372617356565, 0.34381372617356565, 0.3313608190357676, 0.2949528295410615, 0.2926976376883221, 0.28354389029031507, 2.3602827869784866, 8.79888885171406, 7.244592820971655, 4.401062000408808, 4.27269128397975, 3.902242323575626, 3.480595386604383, 3.006804565239665, 1.7562968743361989, 1.5448123155741469, 1.3763348335642605, 1.304748076344856, 1.2442583782658918, 1.0264262081050417, 1.0160263858108236, 0.9854637455863231, 0.9681222887463696, 0.9339803915396264, 0.9076060873305185, 0.8347370912068014, 0.6661810324023419, 0.6016818025103622, 0.5962241681870709, 0.5221875943089996, 0.39448288309443297, 0.36623760505857106, 0.36623760505857106, 0.2511858419528338, 0.24921524730873237, 0.24921524730873237, 0.23257146281584168, 0.6343286875448281, 10.040475736355948, 6.8366367432465465, 6.821192022241843, 4.754288720337657, 2.8530424746644543, 1.074895951779187, 1.0724380150742072, 0.9356311829055243, 9.986950089513416, 0.8338674753925486, 0.7481471186008245, 0.6555378132760821, 0.6555378132760821, 0.6326716568458624, 0.6322576448807145, 0.59368145297179, 0.5536631245452238, 0.5482051029313889, 0.5241153042562339, 0.4688488872841025, 0.44505385150320653, 0.36525380388161455, 0.24965573327280027, 0.17029956407412625, 0.14820535261617077, 0.14779124775379807, 0.1413596477412921, 0.14120816333340103, 0.14082843044420065, 0.9011721340678142, 11.159463826039113, 9.09403742982179, 8.785337140421497, 3.529733772916671, 2.2542093901568783, 1.8481237495087361, 1.76588015358225, 1.6764866793573272, 1.620472188493174, 1.0990108430213879, 0.9890091248598575, 0.6659682370016516, 0.6659682370016516, 0.6514775811703609, 0.5022735109613421, 0.4669955330036276, 0.426467674157974, 0.4254434976381418, 0.3731097579471233, 0.3731097579471233, 0.27338967441969275, 0.2676189686386164, 0.2676189686386164, 0.2541725000157705, 0.24793452870173863, 0.2073576991276125, 0.18681763131841905, 0.18275681380894815, 0.1437595219387682, 0.1437595219387682, 11.679741430369068, 5.779399842735502, 2.7233635436417667, 2.5911880407248415, 2.4120331405596374, 2.3826692294134655, 2.3670878580524715, 1.44886491175937, 1.3418120250778138, 1.0887757079969873, 0.9224039305242486, 0.9036515404342064, 0.8398877763906166, 0.8309955268734053, 0.8175789036624226, 0.7839743531563136, 0.7834447276522626, 0.6595701077760437, 0.6506780966409655, 0.6351751530017371, 0.5641268481415983, 0.4312294049348031, 0.3554885477860427, 0.3554885477860427, 0.3504759972816001, 0.31201467899498114, 0.29317215066088836, 0.2604528024080056, 0.24190080229853853, 0.24190080229853853, 6.5004876780977625, 11.390811120228056, 4.288805655886175, 3.4656787246707217, 2.372388070202767, 2.348972734796359, 2.027095518606642, 1.538528449223939, 1.4258597143507077, 1.2059892247316948, 1.1488667649263513, 1.1166596976613117, 1.0113729724451885, 1.006346064327738, 1.006346064327738, 0.9492042470368861, 0.9101967234408392, 0.8657958610383593, 0.8635092506630235, 0.8012279321738738, 0.7887195630976201, 0.6981651866919, 0.6973388529297825, 0.6839497478614963, 0.6503961218109502, 0.6336443788013127, 0.6007503871881387, 0.5985547629144129, 0.5532551093728664, 0.5511636129799032, 0.5163373654508844, 10.262768352926765, 7.548008601984037, 4.469483994681606, 3.709030967319347, 3.0846059288782057, 2.3878988124852514, 1.9983120918552981, 1.965327382733372, 1.5898470357874102, 1.555202458059114, 1.418822676438496, 1.1942280157893106, 1.173634136523486, 1.0089562855497038, 0.788838461292588, 0.6862460107242596, 0.570674230369212, 0.5526894997446075, 0.5526894997446075, 0.5526894997446075, 0.5150431288359006, 0.509153694187127, 0.3499996538968944, 0.3170328028648898, 0.30932379809644434, 0.30932379809644434, 0.2647524275827115, 0.2550999840806776, 0.2550999840806776, 0.24626807895869998, 1.4927561024701148, 8.127151684984145, 7.548190823291119, 4.079290496439287, 3.858849994960366, 3.343136732524605, 2.3771804371219702, 2.254090350745374, 2.2497619244509, 2.036284876134988, 2.0268245570969907, 1.9812611013862242, 1.8313093651971568, 1.3143101159967965, 1.2658584928051575, 0.9619107398336227, 0.596849464964876, 0.5809343500794577, 0.4627936610736163, 0.4586358786740663, 0.4380063386277652, 0.4237754955019756, 0.35676793521269423, 0.35676793521269423, 0.3192846084636602, 0.3098910228082426, 0.30890369908065846, 0.26614672548146723, 0.22578324331421087, 0.13694502902235545, 0.12486070875719191, 14.53676517103831, 5.169589024769633, 3.826139775137098, 2.191949550655223, 2.0447528493518217, 1.952521589113294, 1.5329105839082262, 1.4586686463883645, 1.4483687122190578, 1.4222696167163935, 1.368819293631715, 1.3051969442081315, 1.14080115002796, 1.0371866711288285, 0.810502886066825, 0.6323155399401508, 0.6108568040586083, 0.5737604107181714, 0.5737604107181714, 0.5099201206920633, 0.465765695785198, 0.42930863921096296, 0.38977731330705717, 0.34741758791745386, 0.3214501588387612, 0.3214501588387612, 0.3214501588387612, 0.2652333952377683, 0.2652333952377683, 0.2652333952377683, 3.689921979661845, 3.445485168012092, 2.8964449569062145, 2.833442564426103, 2.733004139100247, 2.7249463149619446, 2.3574865203473236, 1.8179975358891676, 1.8043481507790988, 1.5368483105173145, 1.4970581277130652, 1.4343180528505286, 1.4222916940400976, 1.321904663410013, 1.3190605582654955, 1.2236846241781696, 1.0226472219547131, 0.8780821295163843, 0.7477064644614976, 0.724698184845072, 0.6532179416643162, 0.6389713774786066, 0.6389713774786066, 0.5678752869077237, 0.4607917377730647, 0.43407761064359296, 0.43407761064359296, 0.43407761064359296, 0.35798469351738343, 0.35798469351738343, 1.0147065140479241, 12.749358231535014, 6.4076085525633575, 2.3017988690145974, 2.0444058910684633, 1.9770244388785434, 1.7541594369536708, 1.7364252672469578, 1.5130297751516815, 1.500810997749615, 1.4169761595448516, 1.315747796336706, 1.2534690581843544, 1.0894535704105535, 0.8401195998627743, 0.7169013082934466, 0.6000441862928311, 0.5703690508722749, 0.41313332957988375, 0.3877665474134956, 0.3877665474134956, 0.3867292136047127, 0.33807542207197966, 0.2841291832364176, 0.26415712032512645, 0.26415712032512645, 0.26415712032512645, 0.26415706422422014, 0.21825133351314538, 0.21825133351314538, 0.17432907839637168, 15.26437534105905, 6.084663746518808, 5.4722363596101, 4.496757767343252, 4.193983987482136, 1.4688011514542951, 1.270946833829877, 1.2393863607869384, 1.1285928359453936, 0.8989964887627253, 0.8492746784722705, 0.7684486876762947, 0.6774409037235175, 0.5247016413184629, 0.5247016413184629, 0.5247016413184629, 0.25799732837082495, 0.25799732837082495, 0.24076704097600077, 0.22911110165276652, 0.21984728948122026, 0.14553384515581183, 0.12223103329488301, 0.12047602378095675, 0.08289701987682056, 0.08115013872923046, 0.06967051181399422, 0.06893326622724773, 0.06893326622724773, 0.06893326622724773, 3.4733521445595614, 3.306640166915576, 2.3808393346953154, 1.8599644019348405, 1.792878610129017, 1.6789761293559524, 1.57918528721582, 1.5419032753234099, 1.532734073685195, 1.4113093939633152, 1.4063904792974506, 1.2401463102123333, 1.2148952001061968, 1.2148952001061968, 1.170829414523072, 1.041355261966829, 0.9614144075254847, 0.9606488326635209, 0.9181689906404603, 0.851200590644052, 0.851200590644052, 0.8467603114033737, 0.7826506987432738, 0.7118313417778913, 0.6920957781180557, 0.5122502620434616, 0.4774994286035, 0.3241721507052104, 0.3241721507052104, 0.3241721507052104, 1.9753073505565824, 9.870538766543353, 7.247966360740544, 3.895027351830978, 3.0977953946145336, 2.7811086749840848, 2.1564596071744444, 1.4895702206287529, 1.4140965396062124, 1.3371942403565027, 1.149324858351554, 0.8281468841390539, 0.8281468841390539, 0.8242432718400284, 0.7509186032904306, 0.6648850294081111, 0.6581788400877401, 0.5959505168408687, 0.5909914009988735, 0.5802303785067535, 0.5236702491369141, 0.5155847631871134, 0.5062873751214237, 0.39392666364910045, 0.39392666364910045, 0.3939265835815716, 0.36132183146367697, 0.3247375897186325, 0.3247375897186325, 0.2835724177592827, 0.2678117652555956, 9.59198412373135, 4.988694597145148, 4.5382082877693355, 2.3929633518060274, 2.3620448789, 2.288479340103117, 1.7423306198214654, 1.5974764799681853, 1.1627006531791586, 1.1247872237702845, 1.0066169536505585, 0.9730350830561019, 0.6840475244241441, 0.6521626920144382, 0.5943684296122632, 0.5438157579026585, 0.4775003523765277, 0.442762456079368, 0.3838558766260472, 0.3236236515050763, 0.20505820853174572, 0.20505820853174572, 0.20505820853174572, 0.20505815612329062, 0.19468407276276106, 0.18118375954465724, 0.36499596033818893, 0.1694227519303462, 0.1694227519303462, 0.15186314182209482, 4.138659223346687, 0.2755770997101312, 5.906515160443108, 5.872767771443564, 4.298504147296552, 4.098895776782035, 2.0091326157850737, 1.635954175557733, 1.6323540634505653, 1.5304948227950548, 1.3411194356911682, 1.3245616020301398, 0.9247699777697799, 0.9114087135636771, 0.8962839102004359, 0.7822256019879744, 0.7653556726484292, 0.7127893939054211, 0.6541524390160861, 0.6385666872015302, 0.6385666872015302, 0.5260806686377063, 0.43353189555974925, 1.774157115288011, 0.3914003715534931, 0.36741789981311107, 0.3573866619398323, 0.3573866619398323, 0.3573866619398323, 0.3573866619398323, 0.3573866619398323, 0.29473754199742486, 5.299621670209847, 3.407957605435727, 2.978797818771257, 2.5463627741730277, 2.1847961742285267, 1.8646192663974956, 1.857980224519658, 1.842554413885447, 1.841545667153539, 1.7710491135223771, 1.7043580538706178, 1.2503213338420462, 3.4131716443299003, 1.0278741769068138, 1.0237648731090865, 0.87013585345001, 0.7933116323375845, 0.7524311692315118, 0.7388324086924968, 0.7388324086924968, 0.7025126707023623, 0.6423347129229976, 0.6039176956133261, 0.5201431093385042, 0.517653340854277, 0.4827456745079622, 0.47183893269730487, 0.3514421530824262, 0.3050713139720229, 0.3050713139720229, 8.092857869395328, 5.058093075057782, 3.3431640711039914, 1.8062751108687158, 1.7815737248586205, 1.672625777971664, 1.654564217436299, 1.3849351937295804, 1.297165953631146, 1.061416412656489, 0.9362624904737485, 0.9187874766647322, 0.7988510041453262, 0.7715591986111658, 0.7400828580253944, 0.712608339301561, 0.6647087389332169, 0.5597046390082596, 0.5572146801776395, 0.50912780243152, 0.4680628795257237, 0.4611105528315581, 0.46111045572117293, 0.43005703086276054, 0.4224450818774155, 0.37999135907589154, 0.37999135907589154, 0.37999135907589154, 0.32334356966067196, 0.31324994050504146, 3.95551836055677, 2.3684107127262326, 2.275373107285959, 2.0899839838617327, 1.7181902655762342, 1.5015410523389525, 1.3862026982389817, 1.2752136658492006, 1.1971813414061325, 1.1562860920133837, 1.1371485921003426, 1.0144389151446727, 0.9806157335733702, 0.9680290028934576, 0.8731033491001403, 0.8046544031374427, 0.7788035733090211, 0.7464519146716072, 0.7418803556520697, 0.7395654159722427, 0.716584150320604, 0.7106986882897189, 0.6769599840217083, 0.6586324296295055, 0.6430302854836979, 0.633776048789949, 0.5968760333281103, 0.5829538443616411, 0.573955025569416, 0.5647741252501991, 16.117687461208472, 4.394032493696997, 1.6512631003390836, 1.4390280376310005, 1.4011619111026794, 1.178567610097712, 0.9049453146402806, 0.7718599225165536, 0.7538147992269805, 0.7361639986584873, 0.7294380836258763, 0.6302469906783749, 0.5268738754594822, 0.5110713532654779, 0.48832148370495093, 0.4528069243499928, 0.4210441877175346, 0.4085363465350471, 0.3766628476806552, 0.344474033419831, 0.2860313717397373, 0.2510516948985167, 0.23589064946468058, 0.20090374199192415, 0.20090374199192415, 0.19852866375232522, 0.19463697206183653, 0.160695144148382, 0.160695144148382, 0.160695144148382, 3.6798653196548208, 19.031097304923236, 3.8669813692831143, 2.5451790581216804, 1.7498380303864436, 1.5236831871209333, 1.179030378079105, 0.6556379166549778, 0.647458045328152, 0.6474579996530015, 0.6474579996530015, 0.5586798493595545, 0.4536330783374145, 0.4374119140899407, 0.4374119140899407, 0.42681157952033766, 0.3737239003642034, 0.373723854689053, 1.1915280127193157, 0.25388486649830405, 0.25388486649830405, 0.25388486649830405, 0.20213039930588994, 0.17534466413154126, 0.16153925858635806, 0.1516141055080943, 0.14475985265124205, 0.1394845212294462, 0.13772798055344573, 0.11890462305871866, 0.0974534713949642, 1.220318612943359, 4.001151333722659, 3.7343641621262016, 3.6131689883624176, 2.0004522572413874, 1.7528393312627768, 1.7324676295246884, 1.5869551096747245, 1.5865981879083322, 1.4446784921414684, 1.207414383354249, 1.1241307542102044, 0.7988661985229212, 0.7954486452663717, 0.7952765644964664, 0.7670853959089569, 0.751684258146917, 0.698331517768118, 0.6486529479168791, 0.5713401022239573, 0.4774708625409508, 0.3744135989214899, 0.3085462663224401, 0.3085462663224401, 0.25435342452605175, 0.25435342452605175, 0.25435342452605175, 0.25435342452605175, 0.25096904785861535, 0.2208581943263264, 0.21653771832239035, 2.3078563237819103, 4.442393406524366, 4.182506126222284, 3.8241887676367785, 3.5593859190677, 2.5269110671842383, 2.0485909418930466, 1.7906521219231233, 1.5760309044524259, 1.3774975997058214, 1.1579124240734469, 1.14735308243883, 1.1065834812443125, 1.068271627569745, 1.0240849373124288, 0.9997498655173187, 0.9441739026649623, 0.9325884948995438, 0.8239327711483646, 0.6540044728483234, 0.6019963000524783, 0.5349206617506722, 0.5292555247446683, 0.5075725797296776, 0.4098730772181712, 0.3595434448380241, 0.2965162111658911, 0.2965162111658911, 0.2606198753707405, 0.22876656673024706, 0.21357901891484787, 0.1495945178688012, 8.311625855541381, 5.072966844635072, 3.474983315057277, 1.4882283018314912, 1.4582028289746778, 1.4561932125371155, 1.450309145771915, 1.1362040158736648, 0.9194121778206209, 0.7626487444857871, 0.7554055423930772, 0.7385553680536396, 0.7282281243072024, 0.7282281243072024, 0.7282281243072024, 0.7282281243072024, 0.7282281243072024, 0.42290119494149203, 0.42034565293415715, 0.42034565293415715, 0.34639796680560575, 0.2685313335575014, 0.26639449054003744, 0.23549934706677456, 0.23549934706677456, 0.23549934706677456, 0.20676727219218202, 0.19490806437068248, 0.1943140874674103, 0.1943140874674103, 1.1973202837091539, 4.455661136442344, 3.175884991155944, 2.288961326776846, 2.049071978267513, 1.9243995822251276, 1.4507111332234837, 1.294062816787935, 1.0316851398361184, 0.9071949179201122, 0.8513344161359137, 0.8056428524877843, 0.7904210536991328, 0.7524577268614305, 0.7401645869079283, 0.7281759842764982, 0.7161635403435311, 0.6623532658854112, 0.6185541366983097, 0.5323104712980213, 0.5185867286461919, 0.5162797296718522, 0.4836160666465458, 0.4836160666465458, 0.4713172778829232, 0.4365878117683389, 3.333336933901838, 0.42723570818980816, 0.4272356251190711, 0.3792815884116678, 0.35207583895286176, 4.857020061138561, 3.2424062839823438, 3.1065172309632807, 1.9718566785198617, 1.9406036663190718, 1.6018188264591369, 1.2783415989278997, 1.2610287098534083, 1.1630351433160826, 0.9972243706821632, 0.8688079431653384, 0.7928357500237965, 0.7654321452426012, 0.6943574017279598, 0.6179086461469295, 0.6129778845684131, 0.6087190128040441, 0.5326453426853375, 0.4952909877165648, 0.41326791368392474, 0.3516582297313424, 0.34068184288398745, 0.34068184288398745, 0.34068184288398745, 0.34068184288398745, 0.2950807645764628, 0.28096100191037027, 0.28096100191037027, 0.28096100191037027, 0.24755697811496122, 5.540191102790549, 2.240867845577019, 1.720248946269042, 1.6030251840652385, 1.336555414557922, 1.3100719046702527, 1.1574006125002156, 1.13893646732094, 0.9552959795221221, 0.9253246196304064, 0.8918208320741593, 0.8834158314993604, 0.7289172462815513, 0.7257080457587466, 0.7125956442367402, 0.7110816461151128, 0.7022593360730376, 0.700094816934018, 0.6697169400612486, 0.6697169400612486, 0.6697169400612486, 0.6697169400612486, 0.6697168618548267, 0.5623950493474744, 0.5170451786526803, 0.4692284818949991, 0.39802470211206875, 0.3865721145853285, 0.3865720363789066, 0.3731057899009983, 8.451915411846633, 2.7809387373607146, 1.3923373907766308, 1.362204499372047, 1.086615917526151, 1.069936066318449, 1.0684657493045817, 0.8752102119249954, 0.7427078410339957, 0.733859601840266, 0.630633357020942, 0.5886819079700418, 0.5556240523828126, 0.5307394923565839, 0.504265546564014, 0.5034584759745698, 0.47005279396676797, 0.4562227946795701, 0.441845049704053, 0.441845049704053, 0.42643283746692795, 0.4053787821078685, 0.36401241417431474, 0.36401241417431474, 0.36401237739064085, 0.3640123406069669, 0.3640123406069669, 0.29997485183338884, 0.29997485183338884, 0.2580717181381805, 5.000324783080683, 2.8716445632594305, 1.8929837789790938, 1.709317447228702, 1.4885372199590576, 1.4597991782211472, 1.3442146705406657, 1.2198508036679432, 0.897298055287825, 0.8098735596428126, 0.7332998967673978, 0.7062702101873893, 0.6963101511514439, 0.6963101511514439, 0.6415956193414284, 0.5847266164996193, 0.5711086916105166, 0.5030001129812933, 0.48786067744524303, 0.4423034585407115, 0.42395147111762344, 0.41071922741666106, 0.37658288835679815, 0.3633426620284657, 0.27304103064737173, 0.2510536307887519, 0.22517750676442536, 0.22517750676442536, 0.22517750676442536, 0.22517750676442536, 0.4969181892834244, 6.154107660631968, 4.809390483115262, 2.0267147609896137, 1.8709219237121373, 1.4575151144340137, 1.1322854988027151, 0.9778574511831313, 0.8836426066524776, 0.867283778127071, 0.7667000093715518, 0.5119262648079551, 0.49043305266634907, 0.49043305266634907, 0.49043305266634907, 0.40404141526431564, 0.40404141526431564, 0.40404141526431564, 0.40404141526431564, 0.39765938843715537, 0.38698694803971884, 0.3329619168345638, 0.3329619168345638, 0.3329619168345638, 0.2786048882901318, 0.2775548436232117, 0.2744807117791584, 0.24086946431524123, 0.22975821035038635, 0.21629419166592917, 0.18677704829828462, 3.672810463072107, 2.4349250577618795, 1.659727528655137, 1.2649362599938978, 1.1108113769149255, 0.9623411372245698, 0.7646335910024337, 0.7605077223599913, 0.657952610743229, 0.6457472198713751, 0.6457472198713751, 0.6457471600952365, 0.6457471600952365, 0.6219645060165455, 0.5919169539496796, 0.5522527362478156, 0.5301198438199427, 0.5296372710525579, 0.4658559517762122, 0.3972005758179131, 0.372736324318176, 0.34959730981248355, 0.3343284814986227, 0.33118727530022185, 0.3137022765336904, 0.30716411192764104, 0.24571830616479634, 0.20882611722898223, 0.20882611722898223, 0.20882611722898223, 0.20882611722898223, 3.7898578037622785, 1.5397339219012325, 1.2569700556165107, 3.2252702068794403, 0.8167730359519558, 0.6136316299549219, 0.5634977163404029, 0.510887235691956, 0.4588156454769914, 0.38835727924611746, 0.38835727924611746, 0.38338917979017906, 0.3499054203489521, 0.3199466238824734, 0.2636612307096898, 0.2636612307096898, 0.23437171460052028, 0.2173519517315871, 0.2173519517315871, 0.2173519517315871, 0.1644782462822663, 0.14790239594311733, 0.14790239594311733, 0.13158916769544388, 0.12211039110137728, 0.12211039110137728, 0.12211039110137728, 0.08741143873627294, 0.08343033846563942, 0.06906541383601279], \"Total\": [57.0, 50.0, 33.0, 54.0, 24.0, 19.0, 23.0, 19.0, 19.0, 16.0, 19.0, 17.0, 15.0, 15.0, 16.0, 17.0, 14.0, 14.0, 15.0, 12.0, 12.0, 11.0, 11.0, 12.0, 11.0, 11.0, 11.0, 11.0, 11.0, 12.0, 23.599897725559007, 12.237994121442155, 9.217177151884435, 7.888317512403461, 4.175247839165473, 4.103151710372331, 3.5167520979291975, 2.5481050675698897, 2.25966022258611, 2.1358163605413463, 1.9356181381457, 1.7868162462041177, 1.767369824475051, 1.478128773302707, 1.465842023755499, 1.3161575660229596, 1.2736021950584993, 1.1927023221889619, 1.1899307449010086, 1.1892756067037313, 1.1525146087216525, 1.1167584843654723, 1.0907382523202933, 1.036825126366402, 0.989217613856629, 0.937860270990052, 0.8713031140756556, 0.760823819722524, 0.7385839163888778, 0.7371337772644774, 10.96127236245455, 50.42241213688399, 57.815156676208694, 10.16394119422969, 9.092152997814177, 1.9904568918329344, 1.9527484235793484, 1.8869474049664776, 1.7746680884857278, 1.587646493450519, 1.3366017715261043, 1.2479148042193657, 1.2124312079698396, 1.178392775583161, 1.1629357156623996, 1.145753392508078, 1.0135123172016092, 0.9922461679693829, 0.8433389733137918, 0.8433389733137918, 0.8433389733137918, 0.843338869917937, 0.8403989638798554, 0.7690645610024026, 0.7269270796095885, 0.6601101450251641, 0.6311482940164633, 0.5523455568472896, 0.4875099194819281, 0.35416624370411925, 0.3306857688450251, 0.3244561556675173, 19.549780056059404, 9.101018896916703, 8.74681750497215, 8.27569023954557, 5.529988570124425, 5.118850239659723, 4.905069109491759, 2.5877555347378363, 2.2922575738617494, 1.5893975670888443, 1.584012906577513, 1.3581711541963144, 1.2115682620053994, 1.1849776495020425, 1.001393050672571, 0.9175871358804683, 0.9175871358804683, 0.8919297012107038, 0.873512015391905, 0.8319356234852148, 0.7293615669103551, 0.66403299399495, 0.6070296670718107, 0.5794034889865864, 0.5476552923615655, 0.41330807338196857, 0.4103817473819579, 0.5378171051728641, 0.3672770196345793, 0.36302833716463945, 0.796558957714197, 54.10771174008025, 17.214242808771086, 3.2649437532935845, 3.1988364671634413, 2.220584470575822, 50.42241213688399, 1.4248088901230016, 1.4190903014647258, 1.361615339358976, 1.1993929039919407, 1.172961187796736, 1.0465905006516933, 0.973973179029194, 0.8832319620028987, 0.8119714715181202, 0.7473880784683223, 0.6914477699828904, 0.6737679292349942, 0.6737679292349942, 0.6737679292349942, 0.6737679292349942, 0.671641582702713, 0.6320261988388071, 0.6301989588413552, 0.6195572863591275, 0.5673020980502158, 0.5163602883595598, 0.46986796194753977, 0.4596231527700612, 0.4579025834644132, 0.4217714031694475, 33.09046369838246, 12.728273555339703, 4.587303487232749, 3.1088723910290237, 2.190182788505519, 1.7805583980008033, 1.647965851073609, 1.5151338023903564, 1.4562062024696403, 1.3325647666601383, 1.127626796671812, 1.1170087430785802, 0.9834095710396765, 0.9570830902830513, 0.8880250702053586, 0.8271947429015599, 0.8258882492872158, 0.7831271033452153, 0.7826037112628986, 0.773821439057076, 0.7685252289794785, 0.7547209817606565, 0.7280514828807009, 0.6782737813896532, 0.6430916740720233, 0.6269282106610783, 0.6197201306074985, 0.6197201306074985, 0.6197201306074985, 0.5721217412959514, 19.5405993462087, 3.6866995365774655, 2.9607722342119875, 2.4293727816882287, 2.052722812026539, 1.6652743032823039, 1.6005672624311689, 1.588517242731214, 1.4580177202933742, 1.4076656175207758, 1.3501649579315012, 1.2655016760133797, 1.2332242115563081, 1.1509462075637282, 1.0174764335167306, 0.9185330957853508, 0.9185330957853508, 0.8744009158437208, 0.8067701020308423, 0.7887938200449445, 0.7887938200449445, 0.7887938200449445, 0.7887937809215039, 0.7868486808259758, 0.7636328703067109, 0.7387359646689805, 0.6820496986189079, 0.6820496986189079, 0.6820496986189079, 0.6820496986189079, 54.10771174008025, 24.68570885421669, 10.59608168476923, 3.7829779298401727, 2.9508865532075754, 2.6984293353250535, 2.381002256217175, 2.10611933672982, 2.0294805629003934, 1.618471641208363, 1.3359430289844765, 1.2597063717085595, 1.241777299469078, 1.1870505680481285, 0.9490797416677803, 0.9241650260960635, 0.8694907942819108, 0.8660949066724009, 0.8614268546778979, 0.816590098097662, 0.8097801001890365, 0.8056995872723396, 0.7843376494394304, 0.700070416440052, 0.6910190657531295, 0.6589900447693318, 0.5790965996640399, 0.5194848559170198, 0.4938167709877667, 0.4736560279626913, 0.4723211874166853, 19.911136479962252, 11.638071410618055, 8.295224405054022, 4.3288301809807335, 4.297097375888191, 2.781131665019263, 2.338976493990443, 1.8137652214752027, 1.3768784329752306, 1.3551148345790347, 1.257140794438901, 1.154193322760867, 1.0514560635128662, 0.980129754823355, 0.980129754823355, 0.8981149116535966, 0.7854665087231851, 0.7524494774402197, 0.7415327948345348, 0.7415327948345348, 0.7415327948345348, 0.7415327948345348, 0.7415327948345348, 0.6870988712673811, 0.6491673454456084, 0.6431652713767948, 0.6431652713767948, 0.6431652713767948, 0.6427597802631128, 0.5395781565616029, 1.8295461220310563, 16.199374595000847, 14.736412629944706, 10.188464768954399, 8.202128468490221, 4.917882237464047, 3.5013922940834568, 1.7022052026899446, 1.4315866478379824, 1.2766602031009355, 1.2509453853521435, 1.0115418222713586, 0.9376005148096863, 0.9303361198702806, 0.912441005731965, 0.8674329716177857, 0.7839484713618646, 0.774352763061496, 0.6195350629331929, 0.5707809799391873, 0.54820276332663, 0.5427906277991467, 0.3879722712270171, 0.38495491780075014, 0.3497878153499104, 0.3497878153499104, 0.3387142550629469, 0.26134668593771304, 0.24808065484797548, 0.24808065484797548, 0.24808065484797548, 0.30964944779097603, 11.385982058449905, 9.596753268931838, 5.393134393170539, 5.193347935628604, 4.280767480774788, 4.275364653933461, 3.940261803337071, 3.022308264013282, 2.0637200890730365, 1.9838514224001342, 1.7234951815264594, 1.3940148899635085, 1.0214745938310885, 0.973135804786807, 0.9528011261695322, 0.9058969201024637, 0.7522570373105539, 0.7131957486375329, 0.6793889224066741, 0.6710935804595777, 0.6580579090947767, 0.6292092682026436, 0.5871877101900423, 0.5779694860869259, 0.5156920180970745, 0.4691450331981112, 0.4333219973249782, 0.4318138749447603, 0.4194494221895747, 0.40260735271506454, 10.96127236245455, 11.550080659870506, 5.464058165802597, 4.988959765788633, 3.9151582582860844, 3.3446485339597722, 3.1159287470071417, 2.4680684551645196, 2.1088493663606127, 1.6743226989606184, 1.636352494695277, 1.495815538590076, 1.424855587364477, 1.4115898337344437, 1.3995351786311439, 1.3631382731260113, 1.2981831309927685, 1.2760045575679175, 1.2391512280645909, 1.181398863451816, 1.0380184586316759, 1.0348419272076652, 1.0348419272076652, 0.8844878752927414, 0.8844878752927414, 0.8844878752927414, 0.7582130636176263, 0.7228672463182028, 0.5145351349605726, 0.5063661726700412, 0.5063661726700412, 7.47328720838427, 7.038653850868492, 5.31201790988012, 3.513841361362349, 3.4717989303199177, 3.4618267588342073, 3.279281882790748, 2.565711519446404, 2.3331079848689353, 2.2476013353925084, 1.9001819491329264, 1.5306271614092133, 1.3936454155976243, 1.3887810330366264, 1.3525580201833707, 1.2823917893005163, 1.1555941924946855, 1.0815160736235656, 1.063996766855469, 1.0352226574306722, 0.8194815667886723, 0.8137345018098093, 0.6986684899060862, 0.6285698644720545, 0.5956860659535343, 0.5282825976036574, 0.5250068762201161, 0.44229333148478045, 0.41441499425688627, 0.41441499425688627, 54.10771174008025, 8.769786510069478, 6.903988277699435, 3.6328613174410487, 2.858373890906977, 2.8006803982261936, 2.7705439598203156, 2.564403304247321, 2.216936264484712, 2.128670578773383, 2.036189363745411, 2.0309264759613512, 1.9239730407581608, 1.79917858119446, 1.2154391682373564, 1.2003280685763174, 1.0399293876673843, 1.0399293876673843, 0.9177390307861909, 0.8886736859025186, 0.8886736859025186, 0.8886736859025186, 0.8795145774118263, 0.7642267285221975, 0.7642267285221975, 0.7642267285221975, 0.7642267285221975, 0.7642267285221975, 0.7642267285221975, 0.7642267285221975, 0.7463945556323965, 17.180921745062843, 4.853595456165893, 3.539230927855328, 3.3384424202423677, 2.586931743493788, 2.177944651230951, 2.106581512684202, 1.7586014109670125, 1.6472637089360704, 1.3625300731474854, 1.3548608236682518, 1.3156566984458196, 1.2863103025974334, 1.1023502405252148, 1.030113886177617, 1.0195433342668485, 0.9460904950034777, 0.7987406051359213, 0.7914240635252029, 0.76909642972116, 0.7110605818289212, 0.6942644181363941, 0.674268910258357, 0.6696888861727534, 0.6658434789680984, 0.6658434789680984, 0.6065793477180994, 0.5808911899016225, 0.5109960397256709, 0.43119313150430255, 54.10771174008025, 8.455543574805423, 7.185564749798118, 4.957870014621892, 4.383229047184412, 3.6287829582447158, 3.3246268873013727, 3.236901038592081, 2.7705783840307863, 2.3113131420765995, 1.665757073028778, 1.6049720051353962, 1.4068469068379432, 1.3484155048711888, 1.2820213061298151, 1.2762249780462271, 1.0590044172781685, 1.0590044172781685, 1.0590044172781685, 1.0308754717921396, 1.0031639428506, 0.934807502224471, 0.8949369878592289, 0.8900624333044079, 0.7564058478216874, 0.7539507727222879, 0.688549058640569, 0.6050019848840262, 0.5977241161617413, 0.5650746519323985, 0.5590670867493408, 15.625004520202461, 7.313922634198335, 6.319536580812557, 5.25210709227623, 4.976465552521993, 2.836087342030425, 2.2219435491987776, 2.0489951977392136, 1.7257626723058264, 1.5746168202908, 1.3722468217844532, 1.2502546205546392, 1.072267926754094, 0.910435676470963, 0.8842835080745134, 0.8023523297349818, 0.714440088337841, 0.7006554487857815, 0.6745033750653545, 0.5477489383354072, 0.5168580772098003, 0.5168580772098003, 0.5168580772098003, 0.5168580772098003, 0.48926875834754463, 0.48006448165602544, 0.47950434674709924, 0.46716544162023654, 0.4624409187358091, 0.41014309880913846, 7.9476319726235864, 5.3825690095781376, 5.121540000865916, 4.341813764000867, 4.233215275667529, 3.947324218751281, 3.916314716364258, 3.426830715345277, 2.6334433853953687, 2.4242140181185547, 1.4754666002081573, 1.3134379723384135, 1.2543393602163981, 1.245034724787963, 1.2182054082939597, 1.0925494061995638, 0.8917668812779316, 0.8094546290181536, 0.7988951648654169, 0.7254266649279028, 0.7158289344889437, 0.6453968335047953, 0.6082109696224167, 0.533473658619297, 0.533473658619297, 0.533473658619297, 0.533473658619297, 0.47198287213662304, 0.47198287213662304, 0.37976579637556224, 12.693749865182363, 5.702588525511807, 3.6044475766328796, 3.342441268256614, 2.375330275129504, 2.352674608896006, 1.7776844855782892, 1.5503823334288072, 1.328014410801902, 1.1544827809349818, 1.153841576918049, 15.04131711244768, 0.9204041840643469, 0.844019571906549, 0.7767878413819516, 0.7767878413819516, 0.7560719662345942, 0.7203394379125845, 0.6721716277756318, 0.6721716277756318, 0.6721716277756318, 0.5346582304362122, 0.5152797908557141, 0.5152797908557141, 0.45353303550442337, 0.43866249532336077, 0.4210816061432907, 0.4090748022497851, 0.37562992995112177, 0.3632084755675463, 11.313462237009741, 9.397355603315106, 5.692851850337099, 3.3072821347620733, 3.053617060330712, 2.2787344270357144, 2.171619047467485, 1.7194269755469966, 1.585809959367984, 1.4403593490970623, 1.2797175250424273, 1.0595662819148843, 1.0390624926523122, 1.0240695615278599, 1.022452242427849, 0.9864754067962287, 0.8796137390453961, 0.7892277167764967, 0.7626074105250146, 0.6888723823487911, 0.6516129897368136, 0.5991738816106796, 0.5979889036950674, 0.5265850871809092, 0.5265850871809092, 0.5265850871809092, 0.514132180043111, 0.47772419054840504, 0.47546899869566556, 0.46631525129765855, 54.10771174008025, 8.981414420518625, 7.427118389776217, 4.583587569213369, 4.455216852784312, 4.084767892380189, 3.663120955408945, 3.1893301340442273, 1.9388224431407612, 1.7273378843787095, 1.558860402368823, 1.4872736451494186, 1.4267839470704542, 1.2089517769096043, 1.1985519546153862, 1.1679893143908855, 1.150647857550932, 1.116505960344189, 1.090131656135081, 1.017262660011364, 0.8487066012069043, 0.7842073713149246, 0.7787497369916333, 0.704713163113562, 0.5770084518989953, 0.5487631738631333, 0.5487631738631333, 0.43371141075739605, 0.4317408161132946, 0.4317408161132946, 0.41509703162040396, 2.587093988368203, 10.2229942097901, 7.019155216680696, 7.003710495675993, 4.9368071937718065, 3.0355609480986048, 1.2574144252133377, 1.254956488508358, 1.1181496563396751, 12.139554095613052, 1.016385948826699, 0.930665592034975, 0.8380562867102326, 0.8380562867102326, 0.8151901302800129, 0.814776118314865, 0.7761999264059405, 0.7361815979793743, 0.7307235763655394, 0.7066337776903844, 0.6513673607182531, 0.627572324937357, 0.5477722773157649, 0.4321742067069507, 0.35281803750827667, 0.3307238260503212, 0.3303097211879485, 0.3238781211754425, 0.3237266367675515, 0.3233469038783511, 2.093639114746876, 11.341044759171819, 9.275618362954496, 8.966918073554202, 3.7113147060493747, 2.435790323289582, 2.0297046826414404, 1.9474610867149542, 1.8580676124900315, 1.8020531216258784, 1.2805917761540921, 1.1705900579925617, 0.8475491701343556, 0.8475491701343556, 0.8330585143030649, 0.683854444094046, 0.6485764661363316, 0.608048607290678, 0.6070244307708458, 0.5546906910798273, 0.5546906910798273, 0.45497060755239666, 0.44919990177132035, 0.44919990177132035, 0.4357534331484744, 0.42951546183444256, 0.38893863226031644, 0.368398564451123, 0.36433774694165205, 0.32534045507147213, 0.32534045507147213, 11.862384821435676, 5.962043233802108, 2.906006934708373, 2.773831431791448, 2.5946765316262437, 2.565312620480072, 2.549731249119078, 1.6315083028259765, 1.5244554161444204, 1.271419099063594, 1.1050473215908552, 1.0862949315008128, 1.0225311674572233, 1.0136389179400118, 1.000222294729029, 0.96661774422292, 0.966088118718869, 0.8422134988426502, 0.833321487707572, 0.8178185440683435, 0.7467702392082047, 0.6138727960014095, 0.538131938852649, 0.538131938852649, 0.5331193883482064, 0.49465807006158746, 0.4758155417274947, 0.44309619347461193, 0.4245441933651448, 0.4245441933651448, 54.10771174008025, 11.57441136130927, 4.472405896967387, 3.649278965751934, 2.555988311283979, 2.5325729758775712, 2.2106957596878543, 1.7221286903051518, 1.6094599554319204, 1.3895894658129075, 1.332467006007564, 1.3002599387425244, 1.1949732135264013, 1.1899463054089507, 1.1899463054089507, 1.1328044881180988, 1.093796964522052, 1.049396102119572, 1.047109491744236, 0.9848281732550863, 0.9723198041788327, 0.8817654277731125, 0.880939094010995, 0.8675499889427088, 0.8339963628921627, 0.8172446198825253, 0.7843506282693512, 0.7821550039956254, 0.7368553504540789, 0.7347638540611158, 0.6999376065320969, 10.445917764783745, 7.731158013841016, 4.652633406538585, 3.8921803791763256, 3.2677553407351843, 2.57104822434223, 2.181461503712277, 2.1484767945903505, 1.7729964476443891, 1.738351869916093, 1.6019720882954749, 1.3773774276462896, 1.3567835483804649, 1.1921056974066828, 0.9719878731495669, 0.8693954225812385, 0.7538236422261909, 0.7358389116015863, 0.7358389116015863, 0.7358389116015863, 0.6981925406928796, 0.6923031060441059, 0.5331490657538732, 0.5001822147218686, 0.4924732099534232, 0.4924732099534232, 0.44790183943969036, 0.43824939593765644, 0.43824939593765644, 0.42941749081567887, 54.10771174008025, 8.30978105260549, 7.732359519802033, 4.261919864060633, 4.041479362581711, 3.525766100145949, 2.559809804743314, 2.4367197183667177, 2.432391292072244, 2.218914243756332, 2.2094539247183347, 2.163890469007568, 2.0139387328185006, 1.4969394836181409, 1.448487860426502, 1.1445401074549673, 0.7794788325862203, 0.763563717700802, 0.6454230286949606, 0.6412652462954106, 0.6206357062491096, 0.6064048631233199, 0.5393973028340384, 0.5393973028340384, 0.5019139760850045, 0.4925203904295869, 0.49153306670200275, 0.44877609310281147, 0.40841261093555514, 0.3195743966436997, 0.30749007637853615, 14.719032716563705, 5.351856570295026, 4.00840732066249, 2.3742170961806153, 2.227020394877214, 2.1347891346386865, 1.715178129433619, 1.6409361919137573, 1.6306362577444506, 1.6045371622417863, 1.5510868391571078, 1.4874644897335243, 1.3230686955533528, 1.2194542166542213, 0.9927704315922178, 0.8145830854655436, 0.7931243495840011, 0.7560279562435642, 0.7560279562435642, 0.6921876662174561, 0.6480332413105908, 0.6115761847363558, 0.5720448588324499, 0.5296851334428466, 0.503717704364154, 0.503717704364154, 0.503717704364154, 0.447500940763161, 0.447500940763161, 0.447500940763161, 3.8717039415106416, 3.6272671298608885, 3.078226918755011, 3.0152245262748996, 2.9147861009490437, 2.906728276810741, 2.5392684821961202, 1.9997794977379646, 1.9861301126278958, 1.7186302723661115, 1.6788400895618623, 1.6161000146993256, 1.6040736558888946, 1.50368662525881, 1.5008425201142925, 1.4054665860269666, 1.2044291838035102, 1.0598640913651813, 0.9294884263102944, 0.9064801466938689, 0.8349999035131132, 0.8207533393274035, 0.8207533393274035, 0.7496572487565206, 0.6425736996218615, 0.6158595724923898, 0.6158595724923898, 0.6158595724923898, 0.5397666553661802, 0.5397666553661802, 2.093639114746876, 12.930744360253756, 6.588994681282097, 2.483184997733336, 2.225792019787202, 2.158410567597282, 1.9355455656724099, 1.9178113959656968, 1.6944159038704205, 1.682197126468354, 1.5983622882635906, 1.497133925055445, 1.4348551869030934, 1.2708396991292925, 1.0215057285815135, 0.8982874370121855, 0.78143031501157, 0.7517551795910138, 0.5945194582986227, 0.5691526761322345, 0.5691526761322345, 0.5681153423234516, 0.5194615507907185, 0.46551531195515644, 0.4455432490438653, 0.4455432490438653, 0.4455432490438653, 0.44554319294295897, 0.39963746223188423, 0.39963746223188423, 0.3557152071151105, 15.446759446522922, 6.267047851982677, 5.654620465073969, 4.679141872807121, 4.376368092946006, 1.651185256918164, 1.453330939293746, 1.4217704662508073, 1.3109769414092625, 1.0813805942265942, 1.031658783936139, 0.9508327931401634, 0.8598250091873862, 0.7070857467823315, 0.7070857467823315, 0.7070857467823315, 0.4403814338346936, 0.4403814338346936, 0.4231511464398694, 0.4114952071166352, 0.4022313949450889, 0.3279179506196805, 0.3046151387587516, 0.30286012924482536, 0.2652811253406892, 0.26353424419309907, 0.2520546172778629, 0.25131737169111634, 0.25131737169111634, 0.25131737169111634, 3.654670295320273, 3.4879583176762874, 2.562157485456027, 2.0412825526955523, 1.974196760889729, 1.8602942801166644, 1.760503437976532, 1.7232214260841219, 1.714052224445907, 1.5926275447240272, 1.5877086300581627, 1.4214644609730454, 1.3962133508669088, 1.3962133508669088, 1.352147565283784, 1.222673412727541, 1.1427325582861967, 1.1419669834242328, 1.0994871414011722, 1.0325187414047639, 1.0325187414047639, 1.0280784621640855, 0.9639688495039855, 0.8931494925386031, 0.8734139288787675, 0.6935684128041734, 0.6588175793642118, 0.5054903014659221, 0.5054903014659221, 0.5054903014659221, 12.139554095613052, 10.053519224777665, 7.430946818974854, 4.078007810065288, 3.280775852848842, 2.964089133218393, 2.339440065408753, 1.6725506788630617, 1.5970769978405213, 1.5201746985908116, 1.332305316585863, 1.0111273423733629, 1.0111273423733629, 1.0072237300743374, 0.9338990615247394, 0.84786548764242, 0.8411592983220489, 0.7789309750751776, 0.7739718592331823, 0.7632108367410624, 0.7066507073712229, 0.6985652214214223, 0.6892678333557326, 0.5769071218834093, 0.5769071218834093, 0.5769070418158805, 0.5443022896979858, 0.5077180479529413, 0.5077180479529413, 0.4665528759935915, 0.45079222348990433, 9.7745233021632, 5.171233775576996, 4.720747466201184, 2.5755025302378747, 2.5445840573318472, 2.4710185185349642, 1.9248697982533132, 1.780015658400033, 1.3452398316110064, 1.3073264022021323, 1.1891561320824062, 1.1555742614879496, 0.8665867028559916, 0.8347018704462857, 0.7769076080441107, 0.726354936334506, 0.6600395308083753, 0.6253016345112156, 0.5663950550578948, 0.5061628299369239, 0.38759738696359325, 0.38759738696359325, 0.38759738696359325, 0.3875973345551382, 0.3772232511946086, 0.36372293797650473, 0.7535857291613546, 0.35196193036219375, 0.35196193036219375, 0.33440232025394234, 10.96127236245455, 0.9045022970032501, 6.08913774582572, 6.055390356826177, 4.481126732679165, 4.281518362164647, 2.191755201167685, 1.8185767609403445, 1.8149766488331769, 1.7131174081776663, 1.5237420210737798, 1.5071841874127514, 1.1073925631523913, 1.0940312989462888, 1.0789064955830474, 0.964848187370586, 0.9479782580310407, 0.8954119792880326, 0.8367750243986977, 0.8211892725841418, 0.8211892725841418, 0.7087032540203179, 0.6161544809423608, 2.587093988368203, 0.5740229569361046, 0.5500404851957226, 0.5400092473224438, 0.5400092473224438, 0.5400092473224438, 0.5400092473224438, 0.5400092473224438, 0.47736012738003636, 5.482986016813552, 3.591321952039431, 3.162162165374961, 2.7297271207767317, 2.3681605208322307, 2.0479836130011995, 2.041344571123362, 2.025918760489151, 2.024910013757243, 1.9544134601260812, 1.887722400474322, 1.4336856804457503, 4.007537808101968, 1.211238523510518, 1.2071292197127905, 1.0535002000537141, 0.9766759789412887, 0.9357955158352159, 0.9221967552962009, 0.9221967552962009, 0.8858770173060665, 0.8256990595267018, 0.7872820422170302, 0.7035074559422083, 0.7010176874579812, 0.6661100211116664, 0.655203279301009, 0.5348064996861303, 0.48843566057572707, 0.48843566057572707, 8.275964245844486, 5.24119945150694, 3.5262704475531486, 1.9893814873178732, 1.964680101307778, 1.8557321544208214, 1.8376705938854563, 1.5680415701787378, 1.4802723300803033, 1.2445227891056463, 1.119368866922906, 1.1018938531138895, 0.9819573805944836, 0.9546655750603231, 0.9231892344745517, 0.8957147157507183, 0.8478151153823742, 0.7428110154574169, 0.7403210566267969, 0.6922341788806773, 0.6511692559748811, 0.6442169292807155, 0.6442168321703302, 0.6131634073119179, 0.6055514583265728, 0.5630977355250489, 0.5630977355250489, 0.5630977355250489, 0.5064499461098294, 0.49635631695419885, 4.138849957051449, 2.5517423092209106, 2.458704703780637, 2.2733155803564107, 1.901521862070913, 1.6848726488336312, 1.5695342947336604, 1.4585452623438793, 1.3805129379008112, 1.3396176885080624, 1.3204801885950213, 1.1977705116393513, 1.1639473300680487, 1.1513605993881362, 1.056434945594819, 0.9879859996321212, 0.9621351698036995, 0.9297835111662857, 0.9252119521467481, 0.9228970124669211, 0.8999157468152824, 0.8940302847843974, 0.8602915805163868, 0.841964026124184, 0.8263618819783763, 0.8171076452846274, 0.7802076298227888, 0.7662854408563196, 0.7572866220640945, 0.7481057217448775, 16.301092185785304, 4.577437218273834, 1.8346678249159198, 1.6224327622078367, 1.5845666356795156, 1.3619723346745483, 1.0883500392171168, 0.9552646470933895, 0.9372195238038165, 0.9195687232353232, 0.9128428082027124, 0.8136517152552109, 0.7102786000363183, 0.6944760778423139, 0.671726208281787, 0.6362116489268289, 0.6044489122943707, 0.5919410711118832, 0.5600675722574913, 0.5278787579966672, 0.46943609631657346, 0.43445641947535285, 0.41929537404151673, 0.3843084665687603, 0.3843084665687603, 0.38193338832916135, 0.3780416966386727, 0.34409986872521814, 0.34409986872521814, 0.34409986872521814, 54.10771174008025, 19.214854393358188, 4.050738457718075, 2.7289361465566393, 1.9335951188214027, 1.7074402755558924, 1.362787466514064, 0.8393950050899368, 0.831215133763111, 0.8312150880879605, 0.8312150880879605, 0.7424369377945135, 0.6373901667723735, 0.6211690025248997, 0.6211690025248997, 0.6105686679552966, 0.5574809887991624, 0.557480943124012, 1.8295461220310563, 0.43764195493326313, 0.43764195493326313, 0.43764195493326313, 0.38588748774084897, 0.3591017525665003, 0.3452963470213171, 0.3353711939430533, 0.3285169410862011, 0.32324160966440524, 0.3214850689884048, 0.3026617114936777, 0.28121055982992327, 4.73423128726918, 4.184903286325004, 3.918116114728545, 3.796920940964761, 2.1842042098437306, 1.9365912838651202, 1.9162195821270318, 1.770707062277068, 1.7703501405106756, 1.6284304447438118, 1.3911663359565924, 1.3078827068125478, 0.9826181511252647, 0.9792008482547427, 0.97902851709881, 0.9508373485113004, 0.9354362107492604, 0.8820834703704614, 0.8324049005192227, 0.7550920548263007, 0.6612228151432943, 0.5581655515238334, 0.4922982189247836, 0.4922982189247836, 0.43810537712839526, 0.43810537712839526, 0.43810537712839526, 0.43810537712839526, 0.43472100046095885, 0.4046101469286699, 0.4002896709247339, 15.04131711244768, 54.10771174008025, 4.365105071012745, 4.006787712427237, 3.7419848638581588, 2.709510011974697, 2.2311898866835054, 1.9732510667135823, 1.758629849242885, 1.5600965444962804, 1.3405113688639059, 1.329952027229289, 1.2891824260347715, 1.250870572360204, 1.2066838821028878, 1.1823488103077777, 1.1267728474554213, 1.1151874396900028, 1.0065317159388238, 0.8366034176387825, 0.7845952448429374, 0.7175196065411313, 0.7118544695351274, 0.6901715245201367, 0.5924720220086303, 0.5421423896284832, 0.4791151559563502, 0.4791151559563502, 0.44321882016119957, 0.4113655115207061, 0.39617796370530695, 0.33219346265926025, 8.495035781095465, 5.256376770189158, 3.6583932406113613, 1.6716382273855759, 1.6416127545287624, 1.6396031380912004, 1.633719071326, 1.3196139414277495, 1.1028221033747057, 0.9460586700398718, 0.9388154679471619, 0.9219652936077243, 0.911638049861287, 0.911638049861287, 0.911638049861287, 0.911638049861287, 0.911638049861287, 0.6063111204955767, 0.6037555784882418, 0.6037555784882418, 0.5298078923596904, 0.45194125911158606, 0.4498044160941221, 0.4189092726208592, 0.4189092726208592, 0.4189092726208592, 0.3901771977462667, 0.3783179899247671, 0.37772401302149494, 0.37772401302149494, 54.10771174008025, 4.639019757083177, 3.359243611796776, 2.4723199474176782, 2.232430598908345, 2.1077582028659596, 1.6340697538643165, 1.477421437428768, 1.2150437604769513, 1.090553538560945, 1.0346930367767464, 0.9890014731286171, 0.9737796743399656, 0.9358163475022633, 0.923523207548761, 0.911534604917331, 0.8995221609843639, 0.845711886526244, 0.8019127573391425, 0.7156690919388541, 0.7019453492870247, 0.699638350312685, 0.6669746872873785, 0.6669746872873785, 0.654675898523756, 0.6199464324091716, 4.73423128726918, 0.6105943288306409, 0.6105942457599038, 0.5626402090525006, 0.5354344595936945, 5.039825751802311, 3.4252119746460923, 3.289322921627029, 2.1546623691836104, 2.1234093569828203, 1.7846245171228863, 1.461147289591649, 1.4438344005171577, 1.345840833979832, 1.1800300613459125, 1.0516136338290878, 0.9756414406875458, 0.9482378359063505, 0.8771630923917091, 0.8007143368106788, 0.7957835752321624, 0.7915247034677934, 0.7154510333490868, 0.6780966783803141, 0.596073604347674, 0.5344639203950917, 0.5234875335477367, 0.5234875335477367, 0.5234875335477367, 0.5234875335477367, 0.4778864552402121, 0.4637666925741195, 0.4637666925741195, 0.4637666925741195, 0.4303626687787105, 5.72385251881204, 2.4245292615985097, 1.9039103622905331, 1.7866866000867296, 1.520216830579413, 1.4937333206917438, 1.3410620285217068, 1.322597883342431, 1.1389573955436132, 1.1089860356518975, 1.0754822480956503, 1.0670772475208516, 0.9125786623030423, 0.9093694617802376, 0.8962570602582312, 0.8947430621366038, 0.8859207520945286, 0.883756232955509, 0.8533783560827396, 0.8533783560827396, 0.8533783560827396, 0.8533783560827396, 0.8533782778763177, 0.7460564653689654, 0.7007065946741713, 0.6528898979164901, 0.5816861181335597, 0.5702335306068195, 0.5702334524003976, 0.5567672059224893, 8.63574481570668, 2.964768141220761, 1.5761667946366775, 1.5460339032320938, 1.2704453213861977, 1.2537654701784957, 1.2522951531646285, 1.0590396157850421, 0.9265372448940424, 0.9176890057003128, 0.8144627608809888, 0.7725113118300886, 0.7394534562428594, 0.7145688962166307, 0.6880949504240608, 0.6872878798346166, 0.6538821978268147, 0.6400521985396168, 0.6256744535640997, 0.6256744535640997, 0.6102622413269747, 0.5892081859679152, 0.5478418180343615, 0.5478418180343615, 0.5478417812506876, 0.5478417444670136, 0.5478417444670136, 0.4838042556934355, 0.4838042556934355, 0.4419011219982271, 5.183871897230689, 3.055191677409436, 2.076530893129099, 1.8928645613787078, 1.6720843341090634, 1.643346292371153, 1.5277617846906715, 1.403397917817949, 1.0808451694378307, 0.9934206737928182, 0.9168470109174034, 0.8898173243373949, 0.8798572653014495, 0.8798572653014495, 0.825142733491434, 0.7682737306496249, 0.7546558057605222, 0.6865472271312989, 0.6714077915952487, 0.6258505726907171, 0.607498585267629, 0.5942663415666667, 0.5601300025068038, 0.5468897761784713, 0.4565881447973773, 0.43460074493875755, 0.40872462091443096, 0.40872462091443096, 0.40872462091443096, 0.40872462091443096, 3.903353074333291, 6.3376389941722735, 4.992921816655568, 2.2102460945299196, 2.0544532572524434, 1.6410464479743199, 1.3158168323430213, 1.1613887847234374, 1.0671739401927838, 1.0508151116673772, 0.950231342911858, 0.6954575983482613, 0.6739643862066552, 0.6739643862066552, 0.6739643862066552, 0.5875727488046218, 0.5875727488046218, 0.5875727488046218, 0.5875727488046218, 0.5811907219774615, 0.5705182815800249, 0.5164932503748699, 0.5164932503748699, 0.5164932503748699, 0.46213622183043795, 0.46108617716351785, 0.45801204531946454, 0.4244007978555474, 0.4132895438906925, 0.3998255252062353, 0.37030838183859077, 3.8565749048862523, 2.618689499576025, 1.8434919704692823, 1.4487007018080431, 1.294575818729071, 1.1461055790387153, 0.9483980328165791, 0.9442721641741367, 0.8417170525573744, 0.8295116616855205, 0.8295116616855205, 0.8295116019093819, 0.8295116019093819, 0.8057289478306909, 0.775681395763825, 0.736017178061961, 0.7138842856340881, 0.7134017128667033, 0.6496203935903576, 0.5809650176320585, 0.5565007661323214, 0.5333617516266289, 0.5180929233127681, 0.5149517171143673, 0.4974667183478358, 0.4909285537417864, 0.4294827479789417, 0.3925905590431276, 0.3925905590431276, 0.3925905590431276, 0.7535857291613546, 3.9740153364345088, 1.723891454573463, 1.441127588288741, 3.903353074333291, 1.0009305686241863, 0.7977891626271523, 0.7476552490126332, 0.6950447683641864, 0.6429731781492217, 0.5725148119183479, 0.5725148119183479, 0.5675467124624094, 0.5340629530211825, 0.5041041565547038, 0.44781876338192017, 0.44781876338192017, 0.41852924727275065, 0.4015094844038175, 0.4015094844038175, 0.4015094844038175, 0.34863577895449666, 0.3320599286153477, 0.3320599286153477, 0.31574670036767427, 0.3062679237736077, 0.3062679237736077, 0.3062679237736077, 0.27156897140850333, 0.2675878711378698, 0.2532229465082432], \"Category\": [\"Default\", \"Default\", \"Default\", \"Default\", \"Default\", \"Default\", \"Default\", \"Default\", \"Default\", \"Default\", \"Default\", \"Default\", \"Default\", \"Default\", \"Default\", \"Default\", \"Default\", \"Default\", \"Default\", \"Default\", \"Default\", \"Default\", \"Default\", \"Default\", \"Default\", \"Default\", \"Default\", \"Default\", \"Default\", \"Default\", \"Topic1\", \"Topic1\", \"Topic1\", \"Topic1\", \"Topic1\", \"Topic1\", \"Topic1\", \"Topic1\", \"Topic1\", \"Topic1\", \"Topic1\", \"Topic1\", \"Topic1\", \"Topic1\", \"Topic1\", \"Topic1\", \"Topic1\", \"Topic1\", \"Topic1\", \"Topic1\", \"Topic1\", \"Topic1\", \"Topic1\", \"Topic1\", \"Topic1\", \"Topic1\", \"Topic1\", \"Topic1\", \"Topic1\", \"Topic1\", \"Topic1\", \"Topic1\", \"Topic2\", \"Topic2\", \"Topic2\", \"Topic2\", \"Topic2\", \"Topic2\", \"Topic2\", \"Topic2\", \"Topic2\", \"Topic2\", \"Topic2\", \"Topic2\", \"Topic2\", \"Topic2\", \"Topic2\", \"Topic2\", \"Topic2\", \"Topic2\", \"Topic2\", \"Topic2\", \"Topic2\", \"Topic2\", \"Topic2\", \"Topic2\", \"Topic2\", \"Topic2\", \"Topic2\", \"Topic2\", \"Topic2\", \"Topic2\", \"Topic3\", \"Topic3\", \"Topic3\", \"Topic3\", \"Topic3\", \"Topic3\", \"Topic3\", \"Topic3\", \"Topic3\", \"Topic3\", \"Topic3\", \"Topic3\", \"Topic3\", \"Topic3\", \"Topic3\", \"Topic3\", \"Topic3\", \"Topic3\", \"Topic3\", \"Topic3\", \"Topic3\", \"Topic3\", \"Topic3\", \"Topic3\", \"Topic3\", \"Topic3\", \"Topic3\", \"Topic3\", \"Topic3\", \"Topic3\", \"Topic3\", \"Topic3\", \"Topic4\", \"Topic4\", \"Topic4\", \"Topic4\", \"Topic4\", \"Topic4\", \"Topic4\", \"Topic4\", \"Topic4\", \"Topic4\", \"Topic4\", \"Topic4\", \"Topic4\", \"Topic4\", \"Topic4\", \"Topic4\", \"Topic4\", \"Topic4\", \"Topic4\", \"Topic4\", \"Topic4\", \"Topic4\", \"Topic4\", \"Topic4\", \"Topic4\", \"Topic4\", \"Topic4\", \"Topic4\", \"Topic4\", \"Topic4\", \"Topic5\", \"Topic5\", \"Topic5\", \"Topic5\", \"Topic5\", \"Topic5\", \"Topic5\", \"Topic5\", \"Topic5\", \"Topic5\", \"Topic5\", \"Topic5\", \"Topic5\", \"Topic5\", \"Topic5\", \"Topic5\", \"Topic5\", \"Topic5\", \"Topic5\", \"Topic5\", \"Topic5\", \"Topic5\", \"Topic5\", \"Topic5\", \"Topic5\", \"Topic5\", \"Topic5\", \"Topic5\", \"Topic5\", \"Topic5\", \"Topic6\", \"Topic6\", \"Topic6\", \"Topic6\", \"Topic6\", \"Topic6\", \"Topic6\", \"Topic6\", \"Topic6\", \"Topic6\", \"Topic6\", \"Topic6\", \"Topic6\", \"Topic6\", \"Topic6\", \"Topic6\", \"Topic6\", \"Topic6\", \"Topic6\", \"Topic6\", \"Topic6\", \"Topic6\", \"Topic6\", \"Topic6\", \"Topic6\", \"Topic6\", \"Topic6\", \"Topic6\", \"Topic6\", \"Topic6\", \"Topic6\", \"Topic7\", \"Topic7\", \"Topic7\", \"Topic7\", \"Topic7\", \"Topic7\", \"Topic7\", \"Topic7\", \"Topic7\", \"Topic7\", \"Topic7\", \"Topic7\", \"Topic7\", \"Topic7\", \"Topic7\", \"Topic7\", \"Topic7\", \"Topic7\", \"Topic7\", \"Topic7\", \"Topic7\", \"Topic7\", \"Topic7\", \"Topic7\", \"Topic7\", \"Topic7\", \"Topic7\", \"Topic7\", \"Topic7\", \"Topic7\", \"Topic8\", \"Topic8\", \"Topic8\", \"Topic8\", \"Topic8\", \"Topic8\", \"Topic8\", \"Topic8\", \"Topic8\", \"Topic8\", \"Topic8\", \"Topic8\", \"Topic8\", \"Topic8\", \"Topic8\", \"Topic8\", \"Topic8\", \"Topic8\", \"Topic8\", \"Topic8\", \"Topic8\", \"Topic8\", \"Topic8\", \"Topic8\", \"Topic8\", \"Topic8\", \"Topic8\", \"Topic8\", \"Topic8\", \"Topic8\", \"Topic8\", \"Topic9\", \"Topic9\", \"Topic9\", \"Topic9\", \"Topic9\", \"Topic9\", \"Topic9\", \"Topic9\", \"Topic9\", \"Topic9\", \"Topic9\", \"Topic9\", \"Topic9\", \"Topic9\", \"Topic9\", \"Topic9\", \"Topic9\", \"Topic9\", \"Topic9\", \"Topic9\", \"Topic9\", \"Topic9\", \"Topic9\", \"Topic9\", \"Topic9\", \"Topic9\", \"Topic9\", \"Topic9\", \"Topic9\", \"Topic9\", \"Topic9\", \"Topic10\", \"Topic10\", \"Topic10\", \"Topic10\", \"Topic10\", \"Topic10\", \"Topic10\", \"Topic10\", \"Topic10\", \"Topic10\", \"Topic10\", \"Topic10\", \"Topic10\", \"Topic10\", \"Topic10\", \"Topic10\", \"Topic10\", \"Topic10\", \"Topic10\", \"Topic10\", \"Topic10\", \"Topic10\", \"Topic10\", \"Topic10\", \"Topic10\", \"Topic10\", \"Topic10\", \"Topic10\", \"Topic10\", \"Topic10\", \"Topic10\", \"Topic11\", \"Topic11\", \"Topic11\", \"Topic11\", \"Topic11\", \"Topic11\", \"Topic11\", \"Topic11\", \"Topic11\", \"Topic11\", \"Topic11\", \"Topic11\", \"Topic11\", \"Topic11\", \"Topic11\", \"Topic11\", \"Topic11\", \"Topic11\", \"Topic11\", \"Topic11\", \"Topic11\", \"Topic11\", \"Topic11\", \"Topic11\", \"Topic11\", \"Topic11\", \"Topic11\", \"Topic11\", \"Topic11\", \"Topic11\", \"Topic12\", \"Topic12\", \"Topic12\", \"Topic12\", \"Topic12\", \"Topic12\", \"Topic12\", \"Topic12\", \"Topic12\", \"Topic12\", \"Topic12\", \"Topic12\", \"Topic12\", \"Topic12\", \"Topic12\", \"Topic12\", \"Topic12\", \"Topic12\", \"Topic12\", \"Topic12\", \"Topic12\", \"Topic12\", \"Topic12\", \"Topic12\", \"Topic12\", \"Topic12\", \"Topic12\", \"Topic12\", \"Topic12\", \"Topic12\", \"Topic12\", \"Topic13\", \"Topic13\", \"Topic13\", \"Topic13\", \"Topic13\", \"Topic13\", \"Topic13\", \"Topic13\", \"Topic13\", \"Topic13\", \"Topic13\", \"Topic13\", \"Topic13\", \"Topic13\", \"Topic13\", \"Topic13\", \"Topic13\", \"Topic13\", \"Topic13\", \"Topic13\", \"Topic13\", \"Topic13\", \"Topic13\", \"Topic13\", \"Topic13\", \"Topic13\", \"Topic13\", \"Topic13\", \"Topic13\", \"Topic13\", \"Topic14\", \"Topic14\", \"Topic14\", \"Topic14\", \"Topic14\", \"Topic14\", \"Topic14\", \"Topic14\", \"Topic14\", \"Topic14\", \"Topic14\", \"Topic14\", \"Topic14\", \"Topic14\", \"Topic14\", \"Topic14\", \"Topic14\", \"Topic14\", \"Topic14\", \"Topic14\", \"Topic14\", \"Topic14\", \"Topic14\", \"Topic14\", \"Topic14\", \"Topic14\", \"Topic14\", \"Topic14\", \"Topic14\", \"Topic14\", \"Topic14\", \"Topic15\", \"Topic15\", \"Topic15\", \"Topic15\", \"Topic15\", \"Topic15\", \"Topic15\", \"Topic15\", \"Topic15\", \"Topic15\", \"Topic15\", \"Topic15\", \"Topic15\", \"Topic15\", \"Topic15\", \"Topic15\", \"Topic15\", \"Topic15\", \"Topic15\", \"Topic15\", \"Topic15\", \"Topic15\", \"Topic15\", \"Topic15\", \"Topic15\", \"Topic15\", \"Topic15\", \"Topic15\", \"Topic15\", \"Topic15\", \"Topic16\", \"Topic16\", \"Topic16\", \"Topic16\", \"Topic16\", \"Topic16\", \"Topic16\", \"Topic16\", \"Topic16\", \"Topic16\", \"Topic16\", \"Topic16\", \"Topic16\", \"Topic16\", \"Topic16\", \"Topic16\", \"Topic16\", \"Topic16\", \"Topic16\", \"Topic16\", \"Topic16\", \"Topic16\", \"Topic16\", \"Topic16\", \"Topic16\", \"Topic16\", \"Topic16\", \"Topic16\", \"Topic16\", \"Topic16\", \"Topic17\", \"Topic17\", \"Topic17\", \"Topic17\", \"Topic17\", \"Topic17\", \"Topic17\", \"Topic17\", \"Topic17\", \"Topic17\", \"Topic17\", \"Topic17\", \"Topic17\", \"Topic17\", \"Topic17\", \"Topic17\", \"Topic17\", \"Topic17\", \"Topic17\", \"Topic17\", \"Topic17\", \"Topic17\", \"Topic17\", \"Topic17\", \"Topic17\", \"Topic17\", \"Topic17\", \"Topic17\", \"Topic17\", \"Topic17\", \"Topic18\", \"Topic18\", \"Topic18\", \"Topic18\", \"Topic18\", \"Topic18\", \"Topic18\", \"Topic18\", \"Topic18\", \"Topic18\", \"Topic18\", \"Topic18\", \"Topic18\", \"Topic18\", \"Topic18\", \"Topic18\", \"Topic18\", \"Topic18\", \"Topic18\", \"Topic18\", \"Topic18\", \"Topic18\", \"Topic18\", \"Topic18\", \"Topic18\", \"Topic18\", \"Topic18\", \"Topic18\", \"Topic18\", \"Topic18\", \"Topic19\", \"Topic19\", \"Topic19\", \"Topic19\", \"Topic19\", \"Topic19\", \"Topic19\", \"Topic19\", \"Topic19\", \"Topic19\", \"Topic19\", \"Topic19\", \"Topic19\", \"Topic19\", \"Topic19\", \"Topic19\", \"Topic19\", \"Topic19\", \"Topic19\", \"Topic19\", \"Topic19\", \"Topic19\", \"Topic19\", \"Topic19\", \"Topic19\", \"Topic19\", \"Topic19\", \"Topic19\", \"Topic19\", \"Topic19\", \"Topic19\", \"Topic20\", \"Topic20\", \"Topic20\", \"Topic20\", \"Topic20\", \"Topic20\", \"Topic20\", \"Topic20\", \"Topic20\", \"Topic20\", \"Topic20\", \"Topic20\", \"Topic20\", \"Topic20\", \"Topic20\", \"Topic20\", \"Topic20\", \"Topic20\", \"Topic20\", \"Topic20\", \"Topic20\", \"Topic20\", \"Topic20\", \"Topic20\", \"Topic20\", \"Topic20\", \"Topic20\", \"Topic20\", \"Topic20\", \"Topic20\", \"Topic20\", \"Topic21\", \"Topic21\", \"Topic21\", \"Topic21\", \"Topic21\", \"Topic21\", \"Topic21\", \"Topic21\", \"Topic21\", \"Topic21\", \"Topic21\", \"Topic21\", \"Topic21\", \"Topic21\", \"Topic21\", \"Topic21\", \"Topic21\", \"Topic21\", \"Topic21\", \"Topic21\", \"Topic21\", \"Topic21\", \"Topic21\", \"Topic21\", \"Topic21\", \"Topic21\", \"Topic21\", \"Topic21\", \"Topic21\", \"Topic21\", \"Topic22\", \"Topic22\", \"Topic22\", \"Topic22\", \"Topic22\", \"Topic22\", \"Topic22\", \"Topic22\", \"Topic22\", \"Topic22\", \"Topic22\", \"Topic22\", \"Topic22\", \"Topic22\", \"Topic22\", \"Topic22\", \"Topic22\", \"Topic22\", \"Topic22\", \"Topic22\", \"Topic22\", \"Topic22\", \"Topic22\", \"Topic22\", \"Topic22\", \"Topic22\", \"Topic22\", \"Topic22\", \"Topic22\", \"Topic22\", \"Topic23\", \"Topic23\", \"Topic23\", \"Topic23\", \"Topic23\", \"Topic23\", \"Topic23\", \"Topic23\", \"Topic23\", \"Topic23\", \"Topic23\", \"Topic23\", \"Topic23\", \"Topic23\", \"Topic23\", \"Topic23\", \"Topic23\", \"Topic23\", \"Topic23\", \"Topic23\", \"Topic23\", \"Topic23\", \"Topic23\", \"Topic23\", \"Topic23\", \"Topic23\", \"Topic23\", \"Topic23\", \"Topic23\", \"Topic23\", \"Topic23\", \"Topic24\", \"Topic24\", \"Topic24\", \"Topic24\", \"Topic24\", \"Topic24\", \"Topic24\", \"Topic24\", \"Topic24\", \"Topic24\", \"Topic24\", \"Topic24\", \"Topic24\", \"Topic24\", \"Topic24\", \"Topic24\", \"Topic24\", \"Topic24\", \"Topic24\", \"Topic24\", \"Topic24\", \"Topic24\", \"Topic24\", \"Topic24\", \"Topic24\", \"Topic24\", \"Topic24\", \"Topic24\", \"Topic24\", \"Topic24\", \"Topic25\", \"Topic25\", \"Topic25\", \"Topic25\", \"Topic25\", \"Topic25\", \"Topic25\", \"Topic25\", \"Topic25\", \"Topic25\", \"Topic25\", \"Topic25\", \"Topic25\", \"Topic25\", \"Topic25\", \"Topic25\", \"Topic25\", \"Topic25\", \"Topic25\", \"Topic25\", \"Topic25\", \"Topic25\", \"Topic25\", \"Topic25\", \"Topic25\", \"Topic25\", \"Topic25\", \"Topic25\", \"Topic25\", \"Topic25\", \"Topic25\", \"Topic26\", \"Topic26\", \"Topic26\", \"Topic26\", \"Topic26\", \"Topic26\", \"Topic26\", \"Topic26\", \"Topic26\", \"Topic26\", \"Topic26\", \"Topic26\", \"Topic26\", \"Topic26\", \"Topic26\", \"Topic26\", \"Topic26\", \"Topic26\", \"Topic26\", \"Topic26\", \"Topic26\", \"Topic26\", \"Topic26\", \"Topic26\", \"Topic26\", \"Topic26\", \"Topic26\", \"Topic26\", \"Topic26\", \"Topic26\", \"Topic27\", \"Topic27\", \"Topic27\", \"Topic27\", \"Topic27\", \"Topic27\", \"Topic27\", \"Topic27\", \"Topic27\", \"Topic27\", \"Topic27\", \"Topic27\", \"Topic27\", \"Topic27\", \"Topic27\", \"Topic27\", \"Topic27\", \"Topic27\", \"Topic27\", \"Topic27\", \"Topic27\", \"Topic27\", \"Topic27\", \"Topic27\", \"Topic27\", \"Topic27\", \"Topic27\", \"Topic27\", \"Topic27\", \"Topic27\", \"Topic28\", \"Topic28\", \"Topic28\", \"Topic28\", \"Topic28\", \"Topic28\", \"Topic28\", \"Topic28\", \"Topic28\", \"Topic28\", \"Topic28\", \"Topic28\", \"Topic28\", \"Topic28\", \"Topic28\", \"Topic28\", \"Topic28\", \"Topic28\", \"Topic28\", \"Topic28\", \"Topic28\", \"Topic28\", \"Topic28\", \"Topic28\", \"Topic28\", \"Topic28\", \"Topic28\", \"Topic28\", \"Topic28\", \"Topic28\", \"Topic28\", \"Topic29\", \"Topic29\", \"Topic29\", \"Topic29\", \"Topic29\", \"Topic29\", \"Topic29\", \"Topic29\", \"Topic29\", \"Topic29\", \"Topic29\", \"Topic29\", \"Topic29\", \"Topic29\", \"Topic29\", \"Topic29\", \"Topic29\", \"Topic29\", \"Topic29\", \"Topic29\", \"Topic29\", \"Topic29\", \"Topic29\", \"Topic29\", \"Topic29\", \"Topic29\", \"Topic29\", \"Topic29\", \"Topic29\", \"Topic29\", \"Topic30\", \"Topic30\", \"Topic30\", \"Topic30\", \"Topic30\", \"Topic30\", \"Topic30\", \"Topic30\", \"Topic30\", \"Topic30\", \"Topic30\", \"Topic30\", \"Topic30\", \"Topic30\", \"Topic30\", \"Topic30\", \"Topic30\", \"Topic30\", \"Topic30\", \"Topic30\", \"Topic30\", \"Topic30\", \"Topic30\", \"Topic30\", \"Topic30\", \"Topic30\", \"Topic30\", \"Topic30\", \"Topic30\", \"Topic30\", \"Topic31\", \"Topic31\", \"Topic31\", \"Topic31\", \"Topic31\", \"Topic31\", \"Topic31\", \"Topic31\", \"Topic31\", \"Topic31\", \"Topic31\", \"Topic31\", \"Topic31\", \"Topic31\", \"Topic31\", \"Topic31\", \"Topic31\", \"Topic31\", \"Topic31\", \"Topic31\", \"Topic31\", \"Topic31\", \"Topic31\", \"Topic31\", \"Topic31\", \"Topic31\", \"Topic31\", \"Topic31\", \"Topic31\", \"Topic31\", \"Topic31\", \"Topic32\", \"Topic32\", \"Topic32\", \"Topic32\", \"Topic32\", \"Topic32\", \"Topic32\", \"Topic32\", \"Topic32\", \"Topic32\", \"Topic32\", \"Topic32\", \"Topic32\", \"Topic32\", \"Topic32\", \"Topic32\", \"Topic32\", \"Topic32\", \"Topic32\", \"Topic32\", \"Topic32\", \"Topic32\", \"Topic32\", \"Topic32\", \"Topic32\", \"Topic32\", \"Topic32\", \"Topic32\", \"Topic32\", \"Topic32\", \"Topic33\", \"Topic33\", \"Topic33\", \"Topic33\", \"Topic33\", \"Topic33\", \"Topic33\", \"Topic33\", \"Topic33\", \"Topic33\", \"Topic33\", \"Topic33\", \"Topic33\", \"Topic33\", \"Topic33\", \"Topic33\", \"Topic33\", \"Topic33\", \"Topic33\", \"Topic33\", \"Topic33\", \"Topic33\", \"Topic33\", \"Topic33\", \"Topic33\", \"Topic33\", \"Topic33\", \"Topic33\", \"Topic33\", \"Topic33\", \"Topic33\", \"Topic33\", \"Topic34\", \"Topic34\", \"Topic34\", \"Topic34\", \"Topic34\", \"Topic34\", \"Topic34\", \"Topic34\", \"Topic34\", \"Topic34\", \"Topic34\", \"Topic34\", \"Topic34\", \"Topic34\", \"Topic34\", \"Topic34\", \"Topic34\", \"Topic34\", \"Topic34\", \"Topic34\", \"Topic34\", \"Topic34\", \"Topic34\", \"Topic34\", \"Topic34\", \"Topic34\", \"Topic34\", \"Topic34\", \"Topic34\", \"Topic34\", \"Topic35\", \"Topic35\", \"Topic35\", \"Topic35\", \"Topic35\", \"Topic35\", \"Topic35\", \"Topic35\", \"Topic35\", \"Topic35\", \"Topic35\", \"Topic35\", \"Topic35\", \"Topic35\", \"Topic35\", \"Topic35\", \"Topic35\", \"Topic35\", \"Topic35\", \"Topic35\", \"Topic35\", \"Topic35\", \"Topic35\", \"Topic35\", \"Topic35\", \"Topic35\", \"Topic35\", \"Topic35\", \"Topic35\", \"Topic35\", \"Topic36\", \"Topic36\", \"Topic36\", \"Topic36\", \"Topic36\", \"Topic36\", \"Topic36\", \"Topic36\", \"Topic36\", \"Topic36\", \"Topic36\", \"Topic36\", \"Topic36\", \"Topic36\", \"Topic36\", \"Topic36\", \"Topic36\", \"Topic36\", \"Topic36\", \"Topic36\", \"Topic36\", \"Topic36\", \"Topic36\", \"Topic36\", \"Topic36\", \"Topic36\", \"Topic36\", \"Topic36\", \"Topic36\", \"Topic36\", \"Topic37\", \"Topic37\", \"Topic37\", \"Topic37\", \"Topic37\", \"Topic37\", \"Topic37\", \"Topic37\", \"Topic37\", \"Topic37\", \"Topic37\", \"Topic37\", \"Topic37\", \"Topic37\", \"Topic37\", \"Topic37\", \"Topic37\", \"Topic37\", \"Topic37\", \"Topic37\", \"Topic37\", \"Topic37\", \"Topic37\", \"Topic37\", \"Topic37\", \"Topic37\", \"Topic37\", \"Topic37\", \"Topic37\", \"Topic37\", \"Topic38\", \"Topic38\", \"Topic38\", \"Topic38\", \"Topic38\", \"Topic38\", \"Topic38\", \"Topic38\", \"Topic38\", \"Topic38\", \"Topic38\", \"Topic38\", \"Topic38\", \"Topic38\", \"Topic38\", \"Topic38\", \"Topic38\", \"Topic38\", \"Topic38\", \"Topic38\", \"Topic38\", \"Topic38\", \"Topic38\", \"Topic38\", \"Topic38\", \"Topic38\", \"Topic38\", \"Topic38\", \"Topic38\", \"Topic38\", \"Topic38\", \"Topic39\", \"Topic39\", \"Topic39\", \"Topic39\", \"Topic39\", \"Topic39\", \"Topic39\", \"Topic39\", \"Topic39\", \"Topic39\", \"Topic39\", \"Topic39\", \"Topic39\", \"Topic39\", \"Topic39\", \"Topic39\", \"Topic39\", \"Topic39\", \"Topic39\", \"Topic39\", \"Topic39\", \"Topic39\", \"Topic39\", \"Topic39\", \"Topic39\", \"Topic39\", \"Topic39\", \"Topic39\", \"Topic39\", \"Topic39\", \"Topic39\", \"Topic40\", \"Topic40\", \"Topic40\", \"Topic40\", \"Topic40\", \"Topic40\", \"Topic40\", \"Topic40\", \"Topic40\", \"Topic40\", \"Topic40\", \"Topic40\", \"Topic40\", \"Topic40\", \"Topic40\", \"Topic40\", \"Topic40\", \"Topic40\", \"Topic40\", \"Topic40\", \"Topic40\", \"Topic40\", \"Topic40\", \"Topic40\", \"Topic40\", \"Topic40\", \"Topic40\", \"Topic40\", \"Topic40\", \"Topic40\", \"Topic40\", \"Topic40\", \"Topic41\", \"Topic41\", \"Topic41\", \"Topic41\", \"Topic41\", \"Topic41\", \"Topic41\", \"Topic41\", \"Topic41\", \"Topic41\", \"Topic41\", \"Topic41\", \"Topic41\", \"Topic41\", \"Topic41\", \"Topic41\", \"Topic41\", \"Topic41\", \"Topic41\", \"Topic41\", \"Topic41\", \"Topic41\", \"Topic41\", \"Topic41\", \"Topic41\", \"Topic41\", \"Topic41\", \"Topic41\", \"Topic41\", \"Topic41\", \"Topic42\", \"Topic42\", \"Topic42\", \"Topic42\", \"Topic42\", \"Topic42\", \"Topic42\", \"Topic42\", \"Topic42\", \"Topic42\", \"Topic42\", \"Topic42\", \"Topic42\", \"Topic42\", \"Topic42\", \"Topic42\", \"Topic42\", \"Topic42\", \"Topic42\", \"Topic42\", \"Topic42\", \"Topic42\", \"Topic42\", \"Topic42\", \"Topic42\", \"Topic42\", \"Topic42\", \"Topic42\", \"Topic42\", \"Topic42\", \"Topic42\", \"Topic43\", \"Topic43\", \"Topic43\", \"Topic43\", \"Topic43\", \"Topic43\", \"Topic43\", \"Topic43\", \"Topic43\", \"Topic43\", \"Topic43\", \"Topic43\", \"Topic43\", \"Topic43\", \"Topic43\", \"Topic43\", \"Topic43\", \"Topic43\", \"Topic43\", \"Topic43\", \"Topic43\", \"Topic43\", \"Topic43\", \"Topic43\", \"Topic43\", \"Topic43\", \"Topic43\", \"Topic43\", \"Topic43\", \"Topic43\", \"Topic44\", \"Topic44\", \"Topic44\", \"Topic44\", \"Topic44\", \"Topic44\", \"Topic44\", \"Topic44\", \"Topic44\", \"Topic44\", \"Topic44\", \"Topic44\", \"Topic44\", \"Topic44\", \"Topic44\", \"Topic44\", \"Topic44\", \"Topic44\", \"Topic44\", \"Topic44\", \"Topic44\", \"Topic44\", \"Topic44\", \"Topic44\", \"Topic44\", \"Topic44\", \"Topic44\", \"Topic44\", \"Topic44\", \"Topic44\", \"Topic45\", \"Topic45\", \"Topic45\", \"Topic45\", \"Topic45\", \"Topic45\", \"Topic45\", \"Topic45\", \"Topic45\", \"Topic45\", \"Topic45\", \"Topic45\", \"Topic45\", \"Topic45\", \"Topic45\", \"Topic45\", \"Topic45\", \"Topic45\", \"Topic45\", \"Topic45\", \"Topic45\", \"Topic45\", \"Topic45\", \"Topic45\", \"Topic45\", \"Topic45\", \"Topic45\", \"Topic45\", \"Topic45\", \"Topic45\", \"Topic46\", \"Topic46\", \"Topic46\", \"Topic46\", \"Topic46\", \"Topic46\", \"Topic46\", \"Topic46\", \"Topic46\", \"Topic46\", \"Topic46\", \"Topic46\", \"Topic46\", \"Topic46\", \"Topic46\", \"Topic46\", \"Topic46\", \"Topic46\", \"Topic46\", \"Topic46\", \"Topic46\", \"Topic46\", \"Topic46\", \"Topic46\", \"Topic46\", \"Topic46\", \"Topic46\", \"Topic46\", \"Topic46\", \"Topic46\", \"Topic47\", \"Topic47\", \"Topic47\", \"Topic47\", \"Topic47\", \"Topic47\", \"Topic47\", \"Topic47\", \"Topic47\", \"Topic47\", \"Topic47\", \"Topic47\", \"Topic47\", \"Topic47\", \"Topic47\", \"Topic47\", \"Topic47\", \"Topic47\", \"Topic47\", \"Topic47\", \"Topic47\", \"Topic47\", \"Topic47\", \"Topic47\", \"Topic47\", \"Topic47\", \"Topic47\", \"Topic47\", \"Topic47\", \"Topic47\", \"Topic47\", \"Topic48\", \"Topic48\", \"Topic48\", \"Topic48\", \"Topic48\", \"Topic48\", \"Topic48\", \"Topic48\", \"Topic48\", \"Topic48\", \"Topic48\", \"Topic48\", \"Topic48\", \"Topic48\", \"Topic48\", \"Topic48\", \"Topic48\", \"Topic48\", \"Topic48\", \"Topic48\", \"Topic48\", \"Topic48\", \"Topic48\", \"Topic48\", \"Topic48\", \"Topic48\", \"Topic48\", \"Topic48\", \"Topic48\", \"Topic48\", \"Topic49\", \"Topic49\", \"Topic49\", \"Topic49\", \"Topic49\", \"Topic49\", \"Topic49\", \"Topic49\", \"Topic49\", \"Topic49\", \"Topic49\", \"Topic49\", \"Topic49\", \"Topic49\", \"Topic49\", \"Topic49\", \"Topic49\", \"Topic49\", \"Topic49\", \"Topic49\", \"Topic49\", \"Topic49\", \"Topic49\", \"Topic49\", \"Topic49\", \"Topic49\", \"Topic49\", \"Topic49\", \"Topic49\", \"Topic49\", \"Topic49\", \"Topic50\", \"Topic50\", \"Topic50\", \"Topic50\", \"Topic50\", \"Topic50\", \"Topic50\", \"Topic50\", \"Topic50\", \"Topic50\", \"Topic50\", \"Topic50\", \"Topic50\", \"Topic50\", \"Topic50\", \"Topic50\", \"Topic50\", \"Topic50\", \"Topic50\", \"Topic50\", \"Topic50\", \"Topic50\", \"Topic50\", \"Topic50\", \"Topic50\", \"Topic50\", \"Topic50\", \"Topic50\", \"Topic50\", \"Topic50\"], \"logprob\": [30.0, 29.0, 28.0, 27.0, 26.0, 25.0, 24.0, 23.0, 22.0, 21.0, 20.0, 19.0, 18.0, 17.0, 16.0, 15.0, 14.0, 13.0, 12.0, 11.0, 10.0, 9.0, 8.0, 7.0, 6.0, 5.0, 4.0, 3.0, 2.0, 1.0, -1.5698, -2.2338, -2.5223, -2.6814, -3.339, -3.3593, -3.5193, -3.8627, -3.9928, -4.0543, -4.1625, -4.2512, -4.2634, -4.4651, -4.4746, -4.5988, -4.6371, -4.7142, -4.7169, -4.7176, -4.7548, -4.7924, -4.8207, -4.882, -4.9394, -5.0053, -5.0976, -5.2728, -5.312, -5.3147, -3.1602, -3.3342, -0.6556, -2.409, -2.5226, -4.1175, -4.1386, -4.1765, -4.2446, -4.3696, -4.5664, -4.6463, -4.6802, -4.7138, -4.7295, -4.7471, -4.8948, -4.9207, -5.1239, -5.1239, -5.1239, -5.1239, -5.1284, -5.2432, -5.3177, -5.4486, -5.5112, -5.7043, -5.8971, -6.4718, -6.6189, -6.6619, -1.6456, -2.421, -2.4615, -2.5181, -2.9324, -3.0124, -3.0567, -3.7313, -3.8624, -4.2674, -4.2713, -4.4469, -4.58, -4.6062, -4.8084, -4.9163, -4.9163, -4.9518, -4.9781, -5.0401, -5.2119, -5.339, -5.4648, -5.532, -5.6153, -6.0733, -6.086, -5.8783, -6.2952, -6.3184, -5.541, -2.5965, -1.7491, -3.4587, -3.4804, -3.8726, -0.7505, -4.368, -4.3726, -4.4202, -4.5684, -4.5947, -4.7314, -4.8193, -4.9412, -5.0486, -5.1571, -5.2615, -5.297, -5.297, -5.297, -5.297, -5.3013, -5.386, -5.39, -5.4142, -5.5418, -5.6842, -5.8347, -5.8711, -5.8774, -6.0186, -1.0253, -1.9896, -3.0362, -3.445, -3.8217, -4.0498, -4.1363, -4.2313, -4.2765, -4.3785, -4.5747, -4.5859, -4.7401, -4.7735, -4.8668, -4.9568, -4.9588, -5.0275, -5.0284, -5.0431, -5.0521, -5.0759, -5.1236, -5.2191, -5.2926, -5.3283, -5.3446, -5.3446, -5.3446, -5.4596, -1.4679, -3.1769, -3.409, -3.6213, -3.8047, -4.0368, -4.0814, -4.0899, -4.1873, -4.2276, -4.2756, -4.3508, -4.3811, -4.4626, -4.6108, -4.7368, -4.7368, -4.7986, -4.9014, -4.9306, -4.9306, -4.9306, -4.9306, -4.9338, -4.973, -5.0167, -5.1241, -5.1241, -5.1241, -5.1241, -1.719, -1.2042, -2.0599, -3.1218, -3.3846, -3.4802, -3.615, -3.7486, -3.7892, -4.0409, -4.2599, -4.3282, -4.345, -4.398, -4.6683, -4.7013, -4.7778, -4.7828, -4.7896, -4.8579, -4.8687, -4.8752, -4.91, -5.0608, -5.0784, -5.1434, -5.3267, -5.4894, -5.5685, -5.6354, -5.64, -1.4198, -1.9634, -2.3085, -2.9798, -2.9875, -3.4471, -3.6337, -3.9129, -4.2248, -4.2432, -4.3305, -4.4312, -4.543, -4.6287, -4.6287, -4.7373, -4.9088, -4.9652, -4.9845, -4.9845, -4.9845, -4.9845, -4.9845, -5.0871, -5.1653, -5.1783, -5.1783, -5.1783, -5.1792, -5.4334, -5.1834, -1.6153, -1.7111, -2.0858, -2.3071, -2.8339, -3.1893, -3.9705, -4.1666, -4.299, -4.3228, -4.5765, -4.67, -4.6796, -4.7039, -4.7675, -4.8975, -4.9136, -5.2169, -5.3352, -5.3951, -5.41, -5.9718, -5.9866, -6.1775, -6.1775, -6.246, -6.9303, -7.1148, -7.1148, -7.1148, -7.1148, -1.8962, -2.0702, -2.6617, -2.7008, -2.9019, -2.9032, -2.9887, -3.2688, -3.6807, -3.7241, -3.8803, -4.1209, -4.4885, -4.5479, -4.574, -4.6368, -4.8758, -4.9469, -5.0128, -5.0296, -5.0567, -5.1193, -5.2182, -5.2413, -5.4129, -5.5636, -5.6974, -5.7034, -5.7544, -5.8283, -3.6848, -1.8603, -2.6267, -2.7209, -2.9737, -3.1395, -3.2145, -3.464, -3.6349, -3.8903, -3.9161, -4.0177, -4.0732, -4.0839, -4.0937, -4.1241, -4.1806, -4.2006, -4.2349, -4.291, -4.4458, -4.4495, -4.4495, -4.6433, -4.6433, -4.6433, -4.8412, -4.9044, -5.39, -5.4149, -5.4149, -2.2873, -2.3488, -2.6389, -3.0706, -3.0833, -3.0864, -3.1436, -3.4056, -3.5083, -3.5489, -3.7331, -3.9754, -4.0826, -4.0866, -4.1171, -4.179, -4.3015, -4.3807, -4.4004, -4.4336, -4.7254, -4.7345, -4.9358, -5.0819, -5.1585, -5.3367, -5.3463, -5.623, -5.7366, -5.7366, -2.5121, -2.1038, -2.3487, -3.0154, -3.2695, -3.2913, -3.3028, -3.3858, -3.5434, -3.5877, -3.6364, -3.6392, -3.6988, -3.7731, -4.2206, -4.2353, -4.4066, -4.4066, -4.5601, -4.6004, -4.6004, -4.6004, -4.6134, -4.7939, -4.7939, -4.7939, -4.7939, -4.7939, -4.7939, -4.7939, -4.8249, -1.4208, -2.7126, -3.0431, -3.1048, -3.3768, -3.5633, -3.5997, -3.7992, -3.8725, -4.0888, -4.0953, -4.1293, -4.1555, -4.3379, -4.4198, -4.4323, -4.5242, -4.7388, -4.7507, -4.7881, -4.8924, -4.9247, -4.9646, -4.9739, -4.9819, -4.9819, -5.1128, -5.1754, -5.3685, -5.6472, -2.4763, -2.1174, -2.2841, -2.6669, -2.7952, -2.9931, -3.0855, -3.1139, -3.2795, -3.4749, -3.8363, -3.8782, -4.0282, -4.0771, -4.1357, -4.141, -4.3625, -4.3625, -4.3625, -4.3951, -4.4283, -4.5153, -4.5698, -4.5767, -4.7861, -4.7904, -4.912, -5.0926, -5.11, -5.1919, -5.2077, -1.4791, -2.2518, -2.402, -2.5931, -2.649, -3.2406, -3.504, -3.5926, -3.7829, -3.8861, -4.0433, -4.1516, -4.3341, -4.5351, -4.5717, -4.6961, -4.8493, -4.8756, -4.9275, -5.2261, -5.3148, -5.3148, -5.3148, -5.3148, -5.4012, -5.4317, -5.4336, -5.4762, -5.493, -5.7006, -2.1622, -2.5631, -2.6146, -2.7865, -2.8129, -2.8861, -2.8944, -3.0349, -3.3154, -3.4046, -3.955, -4.0889, -4.1426, -4.1513, -4.1769, -4.3062, -4.5556, -4.679, -4.696, -4.8229, -4.8408, -4.9824, -5.0662, -5.2594, -5.2594, -5.2594, -5.2594, -5.4521, -5.4521, -5.836, -1.6831, -2.5013, -2.9796, -3.0592, -3.4246, -3.435, -3.7429, -3.8967, -4.0742, -4.2385, -4.2391, -1.6797, -4.5141, -4.6235, -4.7307, -4.7307, -4.7662, -4.8306, -4.9245, -4.9245, -4.9245, -5.2545, -5.3111, -5.3111, -5.5166, -5.5732, -5.6444, -5.6961, -5.8561, -5.9227, -1.7965, -1.9854, -2.4998, -3.0669, -3.1516, -3.4662, -3.5186, -3.7766, -3.8675, -3.977, -4.1136, -4.3376, -4.3613, -4.379, -4.3809, -4.4247, -4.5674, -4.7063, -4.7512, -4.8872, -4.9637, -5.0823, -5.0851, -5.2738, -5.2738, -5.2738, -5.3107, -5.4271, -5.4348, -5.4666, -3.3474, -2.0271, -2.2215, -2.7199, -2.7495, -2.8402, -2.9545, -3.1009, -3.6385, -3.7668, -3.8823, -3.9357, -3.9832, -4.1757, -4.1858, -4.2164, -4.2341, -4.27, -4.2987, -4.3824, -4.6079, -4.7098, -4.7189, -4.8515, -5.1319, -5.2062, -5.2062, -5.5833, -5.5912, -5.5912, -5.6603, -4.6569, -1.8906, -2.2749, -2.2771, -2.6381, -3.1488, -4.125, -4.1272, -4.2637, -1.8959, -4.3789, -4.4873, -4.6195, -4.6195, -4.655, -4.6556, -4.7186, -4.7884, -4.7983, -4.8432, -4.9547, -5.0067, -5.2043, -5.5849, -5.9674, -6.1063, -6.1091, -6.1536, -6.1547, -6.1574, -4.3012, -1.7661, -1.9707, -2.0053, -2.9171, -3.3656, -3.5642, -3.6097, -3.6617, -3.6956, -4.0839, -4.1894, -4.5849, -4.5849, -4.6069, -4.867, -4.9398, -5.0306, -5.033, -5.1642, -5.1642, -5.4752, -5.4965, -5.4965, -5.5481, -5.5729, -5.7517, -5.856, -5.878, -6.118, -6.118, -1.7009, -2.4044, -3.1569, -3.2066, -3.2783, -3.2905, -3.2971, -3.7879, -3.8647, -4.0737, -4.2395, -4.26, -4.3332, -4.3439, -4.3601, -4.4021, -4.4028, -4.5749, -4.5885, -4.6126, -4.7312, -4.9998, -5.193, -5.193, -5.2072, -5.3234, -5.3857, -5.5041, -5.578, -5.578, -2.2869, -1.7192, -2.696, -2.9091, -3.2881, -3.298, -3.4454, -3.7212, -3.7972, -3.9647, -4.0132, -4.0417, -4.1407, -4.1457, -4.1457, -4.2042, -4.2461, -4.2961, -4.2988, -4.3736, -4.3894, -4.5113, -4.5125, -4.5319, -4.5822, -4.6083, -4.6616, -4.6653, -4.744, -4.7477, -4.813, -1.8093, -2.1165, -2.6405, -2.827, -3.0114, -3.2674, -3.4455, -3.4621, -3.6741, -3.6962, -3.7879, -3.9603, -3.9777, -4.1289, -4.375, -4.5143, -4.6987, -4.7307, -4.7307, -4.7307, -4.8013, -4.8128, -5.1876, -5.2865, -5.3111, -5.3111, -5.4667, -5.5039, -5.5039, -5.5391, -3.7372, -2.0356, -2.1095, -2.7249, -2.7804, -2.9239, -3.2649, -3.318, -3.32, -3.4197, -3.4243, -3.4471, -3.5258, -3.8575, -3.895, -4.1696, -4.6469, -4.6739, -4.9013, -4.9103, -4.9563, -4.9893, -5.1615, -5.1615, -5.2725, -5.3023, -5.3055, -5.4545, -5.619, -6.119, -6.2113, -1.4519, -2.4858, -2.7867, -3.3438, -3.4133, -3.4594, -3.7014, -3.751, -3.7581, -3.7763, -3.8146, -3.8622, -3.9968, -4.0921, -4.3387, -4.5869, -4.6215, -4.6841, -4.6841, -4.8021, -4.8926, -4.9741, -5.0707, -5.1858, -5.2635, -5.2635, -5.2635, -5.4557, -5.4557, -5.4557, -2.806, -2.8745, -3.0481, -3.0701, -3.1062, -3.1092, -3.254, -3.5139, -3.5214, -3.6819, -3.7081, -3.7509, -3.7593, -3.8325, -3.8347, -3.9097, -4.0892, -4.2416, -4.4024, -4.4336, -4.5375, -4.5595, -4.5595, -4.6775, -4.8864, -4.9461, -4.9461, -4.9461, -5.1389, -5.1389, -4.097, -1.5528, -2.2408, -3.2646, -3.3832, -3.4167, -3.5363, -3.5465, -3.6842, -3.6923, -3.7498, -3.8239, -3.8724, -4.0126, -4.2725, -4.4311, -4.6091, -4.6598, -4.9823, -5.0457, -5.0457, -5.0483, -5.1828, -5.3566, -5.4295, -5.4295, -5.4295, -5.4295, -5.6204, -5.6204, -5.8451, -1.3566, -2.2764, -2.3824, -2.5788, -2.6485, -3.6977, -3.8424, -3.8675, -3.9612, -4.1886, -4.2455, -4.3455, -4.4716, -4.7271, -4.7271, -4.7271, -5.4369, -5.4369, -5.5061, -5.5557, -5.597, -6.0095, -6.184, -6.1984, -6.5723, -6.5936, -6.7461, -6.7567, -6.7567, -6.7567, -2.8326, -2.8818, -3.2103, -3.4572, -3.4939, -3.5595, -3.6208, -3.6447, -3.6507, -3.7332, -3.7367, -3.8625, -3.8831, -3.8831, -3.92, -4.0372, -4.1171, -4.1179, -4.1631, -4.2388, -4.2388, -4.2441, -4.3228, -4.4176, -4.4458, -4.7467, -4.8169, -5.2042, -5.2042, -5.2042, -3.397, -1.759, -2.0678, -2.6889, -2.9179, -3.0257, -3.2801, -3.6501, -3.7021, -3.758, -3.9094, -4.2371, -4.2371, -4.2418, -4.335, -4.4567, -4.4668, -4.5662, -4.5745, -4.5929, -4.6954, -4.711, -4.7292, -4.9801, -4.9801, -4.9801, -5.0665, -5.1733, -5.1733, -5.3088, -5.366, -1.7693, -2.423, -2.5177, -3.1577, -3.1707, -3.2023, -3.475, -3.5618, -3.8795, -3.9126, -4.0236, -4.0576, -4.4099, -4.4577, -4.5505, -4.6394, -4.7694, -4.8449, -4.9877, -5.1584, -5.6147, -5.6147, -5.6147, -5.6147, -5.6666, -5.7385, -5.0381, -5.8056, -5.8056, -5.915, -2.6098, -5.3191, -2.2382, -2.2439, -2.556, -2.6035, -3.3165, -3.522, -3.5242, -3.5886, -3.7207, -3.7332, -4.0924, -4.107, -4.1237, -4.2598, -4.2817, -4.3528, -4.4387, -4.4628, -4.4628, -4.6565, -4.85, -3.4409, -4.9523, -5.0155, -5.0432, -5.0432, -5.0432, -5.0432, -5.0432, -5.2359, -2.3375, -2.7791, -2.9136, -3.0705, -3.2236, -3.3821, -3.3857, -3.394, -3.3946, -3.4336, -3.472, -3.7818, -2.7775, -3.9777, -3.9817, -4.1443, -4.2367, -4.2896, -4.3079, -4.3079, -4.3583, -4.4478, -4.5095, -4.6588, -4.6636, -4.7334, -4.7563, -5.0509, -5.1924, -5.1924, -1.8629, -2.3329, -2.7469, -3.3626, -3.3764, -3.4395, -3.4503, -3.6282, -3.6937, -3.8942, -4.0197, -4.0386, -4.1784, -4.2132, -4.2548, -4.2927, -4.3623, -4.5342, -4.5387, -4.6289, -4.713, -4.728, -4.728, -4.7977, -4.8155, -4.9215, -4.9215, -4.9215, -5.0829, -5.1146, -2.5763, -3.0892, -3.1293, -3.2143, -3.4102, -3.545, -3.6249, -3.7083, -3.7715, -3.8062, -3.8229, -3.9371, -3.971, -3.9839, -4.0872, -4.1688, -4.2014, -4.2439, -4.25, -4.2531, -4.2847, -4.293, -4.3416, -4.369, -4.393, -4.4075, -4.4675, -4.4911, -4.5067, -4.5228, -1.1211, -2.4207, -3.3994, -3.537, -3.5637, -3.7367, -4.0009, -4.1599, -4.1836, -4.2073, -4.2165, -4.3626, -4.5418, -4.5722, -4.6178, -4.6933, -4.766, -4.7962, -4.8774, -4.9667, -5.1526, -5.2831, -5.3454, -5.5059, -5.5059, -5.5178, -5.5376, -5.7292, -5.7292, -5.7292, -2.5981, -0.9466, -2.5402, -2.9585, -3.3332, -3.4716, -3.728, -4.3149, -4.3274, -4.3274, -4.3274, -4.4749, -4.6832, -4.7196, -4.7196, -4.7441, -4.8769, -4.8769, -3.7175, -5.2636, -5.2636, -5.2636, -5.4915, -5.6337, -5.7157, -5.7791, -5.8254, -5.8625, -5.8752, -6.0221, -6.2211, -3.6936, -2.5039, -2.5729, -2.6059, -3.1971, -3.3292, -3.3409, -3.4286, -3.4289, -3.5226, -3.702, -3.7734, -4.115, -4.1193, -4.1195, -4.1556, -4.1759, -4.2495, -4.3233, -4.4502, -4.6297, -4.8728, -5.0663, -5.0663, -5.2595, -5.2595, -5.2595, -5.2595, -5.2729, -5.4007, -5.4204, -3.0541, -2.3993, -2.4221, -2.5117, -2.5834, -2.926, -3.1359, -3.2704, -3.3981, -3.5327, -3.7064, -3.7156, -3.7517, -3.787, -3.8292, -3.8533, -3.9105, -3.9228, -4.0467, -4.2777, -4.3605, -4.4786, -4.4893, -4.5311, -4.7449, -4.8759, -5.0687, -5.0687, -5.1977, -5.3281, -5.3968, -5.7528, -1.7228, -2.2165, -2.5948, -3.4428, -3.4632, -3.4646, -3.4686, -3.7127, -3.9244, -4.1114, -4.1209, -4.1435, -4.1576, -4.1576, -4.1576, -4.1576, -4.1576, -4.701, -4.7071, -4.7071, -4.9006, -5.1552, -5.1632, -5.2865, -5.2865, -5.2865, -5.4166, -5.4756, -5.4787, -5.4787, -3.6603, -2.3035, -2.6421, -2.9696, -3.0803, -3.1431, -3.4256, -3.5399, -3.7665, -3.8951, -3.9586, -4.0138, -4.0329, -4.0821, -4.0986, -4.1149, -4.1315, -4.2097, -4.2781, -4.4282, -4.4543, -4.4588, -4.5242, -4.5242, -4.5499, -4.6265, -2.5937, -4.6481, -4.6481, -4.7672, -4.8416, -2.1674, -2.5715, -2.6144, -3.0689, -3.0849, -3.2767, -3.5023, -3.5159, -3.5968, -3.7506, -3.8885, -3.98, -4.0152, -4.1126, -4.2293, -4.2373, -4.2443, -4.3778, -4.4505, -4.6315, -4.7929, -4.8247, -4.8247, -4.8247, -4.8247, -4.9684, -5.0174, -5.0174, -5.0174, -5.144, -2.0253, -2.9305, -3.1949, -3.2655, -3.4473, -3.4673, -3.5912, -3.6073, -3.7831, -3.815, -3.8518, -3.8613, -4.0535, -4.058, -4.0762, -4.0783, -4.0908, -4.0939, -4.1383, -4.1383, -4.1383, -4.1383, -4.1383, -4.3129, -4.397, -4.494, -4.6586, -4.6878, -4.6878, -4.7232, -1.5418, -2.6534, -3.3452, -3.3671, -3.5931, -3.6086, -3.61, -3.8095, -3.9737, -3.9856, -4.1372, -4.2061, -4.2639, -4.3097, -4.3609, -4.3625, -4.4311, -4.461, -4.493, -4.493, -4.5285, -4.5791, -4.6868, -4.6868, -4.6868, -4.6868, -4.6868, -4.8803, -4.8803, -5.0307, -2.0576, -2.6122, -3.0289, -3.131, -3.2693, -3.2888, -3.3713, -3.4684, -3.7755, -3.878, -3.9773, -4.0149, -4.0291, -4.0291, -4.1109, -4.2037, -4.2273, -4.3543, -4.3848, -4.4829, -4.5252, -4.5569, -4.6437, -4.6795, -4.9652, -5.0492, -5.158, -5.158, -5.158, -5.158, -4.3664, -1.8184, -2.0649, -2.9291, -3.0091, -3.2588, -3.5113, -3.6579, -3.7592, -3.7779, -3.9012, -4.3051, -4.348, -4.348, -4.348, -4.5418, -4.5418, -4.5418, -4.5418, -4.5577, -4.5849, -4.7352, -4.7352, -4.7352, -4.9135, -4.9173, -4.9284, -5.059, -5.1062, -5.1666, -5.3134, -2.1677, -2.5787, -2.962, -3.2336, -3.3635, -3.507, -3.737, -3.7424, -3.8872, -3.906, -3.906, -3.906, -3.906, -3.9435, -3.993, -4.0624, -4.1033, -4.1042, -4.2325, -4.3919, -4.4555, -4.5196, -4.5642, -4.5737, -4.6279, -4.649, -4.8722, -5.0349, -5.0349, -5.0349, -5.0349, -1.8631, -2.7638, -2.9667, -2.0244, -3.3978, -3.6838, -3.769, -3.867, -3.9745, -4.1413, -4.1413, -4.1541, -4.2455, -4.335, -4.5285, -4.5285, -4.6463, -4.7217, -4.7217, -4.7217, -5.0004, -5.1066, -5.1066, -5.2235, -5.2983, -5.2983, -5.2983, -5.6326, -5.6792, -5.8681], \"loglift\": [30.0, 29.0, 28.0, 27.0, 26.0, 25.0, 24.0, 23.0, 22.0, 21.0, 20.0, 19.0, 18.0, 17.0, 16.0, 15.0, 14.0, 13.0, 12.0, 11.0, 10.0, 9.0, 8.0, 7.0, 6.0, 5.0, 4.0, 3.0, 2.0, 1.0, 3.3285, 3.3212, 3.3162, 3.3128, 3.2914, 3.2885, 3.2827, 3.2616, 3.2516, 3.2465, 3.2367, 3.2279, 3.2267, 3.2037, 3.2025, 3.1861, 3.1807, 3.1692, 3.1688, 3.1687, 3.1628, 3.1567, 3.152, 3.1415, 3.1311, 3.1185, 3.0997, 3.0602, 3.0506, 3.0499, 2.505, 0.805, 3.3467, 3.3318, 3.3296, 3.2537, 3.2518, 3.2482, 3.2414, 3.2278, 3.2031, 3.1918, 3.1868, 3.1816, 3.1792, 3.1764, 3.1514, 3.1466, 3.106, 3.106, 3.106, 3.106, 3.1051, 3.079, 3.0608, 3.0263, 3.0086, 2.9488, 2.881, 2.6257, 2.5473, 2.5233, 3.4411, 3.4302, 3.4294, 3.4282, 3.417, 3.4142, 3.4126, 3.3775, 3.3677, 3.3288, 3.3284, 3.3065, 3.2876, 3.2837, 3.2498, 3.2293, 3.2293, 3.2222, 3.2167, 3.2035, 3.1633, 3.1301, 3.0939, 3.0733, 3.0464, 2.8699, 2.8642, 2.8015, 2.766, 2.7545, 2.7461, 1.4722, 3.4648, 3.4176, 3.4164, 3.3892, 3.3887, 3.3376, 3.337, 3.3307, 3.3094, 3.3053, 3.2827, 3.2667, 3.2425, 3.2193, 3.1937, 3.167, 3.1575, 3.1575, 3.1575, 3.1575, 3.1563, 3.1325, 3.1313, 3.1242, 3.0846, 3.0363, 2.9802, 2.9658, 2.9633, 2.9043, 3.5351, 3.5262, 3.5001, 3.4803, 3.4539, 3.4329, 3.4237, 3.4128, 3.4073, 3.3939, 3.3648, 3.363, 3.3362, 3.33, 3.3116, 3.2925, 3.292, 3.2765, 3.2763, 3.2729, 3.2708, 3.2651, 3.2534, 3.2287, 3.2084, 3.1982, 3.1935, 3.1935, 3.1935, 3.1583, 3.6192, 3.5779, 3.5651, 3.5507, 3.5357, 3.5128, 3.5078, 3.5069, 3.4952, 3.4901, 3.4838, 3.4733, 3.4689, 3.4564, 3.4315, 3.4077, 3.4077, 3.3952, 3.3729, 3.3662, 3.3662, 3.3662, 3.3662, 3.3655, 3.3563, 3.3457, 3.3181, 3.3181, 3.3181, 3.3181, 2.3496, 3.6492, 3.6392, 3.6073, 3.5929, 3.5867, 3.577, 3.5662, 3.5626, 3.5372, 3.5101, 3.5005, 3.498, 3.4901, 3.4436, 3.4372, 3.4216, 3.4206, 3.4192, 3.4043, 3.4019, 3.4004, 3.3925, 3.3554, 3.3508, 3.3332, 3.2791, 3.2251, 3.1966, 3.1715, 3.1697, 3.6485, 3.6419, 3.6354, 3.6145, 3.6142, 3.5896, 3.5762, 3.5513, 3.515, 3.5126, 3.5003, 3.485, 3.4664, 3.4509, 3.4509, 3.4297, 3.3923, 3.3789, 3.3741, 3.3741, 3.3741, 3.3741, 3.3741, 3.3478, 3.3263, 3.3227, 3.3227, 3.3227, 3.3224, 3.2432, 2.2721, 3.6593, 3.6582, 3.6526, 3.6481, 3.6328, 3.6171, 3.5572, 3.5342, 3.5163, 3.5129, 3.4716, 3.4541, 3.4522, 3.4474, 3.4343, 3.4055, 3.4017, 3.3215, 3.2851, 3.2656, 3.2606, 3.0346, 3.0276, 2.9325, 2.9325, 2.8961, 2.4712, 2.3388, 2.3388, 2.3388, 2.1171, 3.731, 3.728, 3.7127, 3.7114, 3.7035, 3.7035, 3.6997, 3.6848, 3.6544, 3.6505, 3.635, 3.6065, 3.5498, 3.5389, 3.534, 3.5216, 3.4685, 3.4507, 3.4334, 3.4288, 3.4214, 3.4036, 3.3738, 3.3665, 3.3089, 3.2528, 3.1985, 3.1959, 3.174, 3.1411, 1.9805, 3.7526, 3.7347, 3.7315, 3.7211, 3.7127, 3.7085, 3.6922, 3.6786, 3.6539, 3.651, 3.6393, 3.6324, 3.631, 3.6297, 3.6257, 3.618, 3.6152, 3.6103, 3.6019, 3.5765, 3.5759, 3.5759, 3.5391, 3.5391, 3.5391, 3.4952, 3.4797, 3.334, 3.3252, 3.3252, 3.7609, 3.7594, 3.7507, 3.7323, 3.7316, 3.7314, 3.7283, 3.7118, 3.7041, 3.7009, 3.6845, 3.6585, 3.6451, 3.6446, 3.6405, 3.6319, 3.6135, 3.6005, 3.5972, 3.5914, 3.5333, 3.5312, 3.4824, 3.442, 3.4191, 3.361, 3.3577, 3.2524, 3.2039, 3.2039, 1.5565, 3.7845, 3.7788, 3.7542, 3.7399, 3.7385, 3.7377, 3.7321, 3.7201, 3.7164, 3.7121, 3.7119, 3.7064, 3.6992, 3.6439, 3.6417, 3.6138, 3.6138, 3.5853, 3.5772, 3.5772, 3.5772, 3.5746, 3.5346, 3.5346, 3.5346, 3.5346, 3.5346, 3.5346, 3.5346, 3.5272, 3.795, 3.7673, 3.7526, 3.7493, 3.7323, 3.7179, 3.7148, 3.6958, 3.688, 3.6615, 3.6606, 3.656, 3.6523, 3.6242, 3.6102, 3.6079, 3.5908, 3.5456, 3.5428, 3.534, 3.5082, 3.4998, 3.4892, 3.4866, 3.4844, 3.4844, 3.4467, 3.4274, 3.3625, 3.2536, 1.5923, 3.8074, 3.8035, 3.7917, 3.7866, 3.7776, 3.7727, 3.7711, 3.761, 3.7469, 3.713, 3.7083, 3.6901, 3.6836, 3.6754, 3.6747, 3.6398, 3.6398, 3.6398, 3.6341, 3.6281, 3.6117, 3.6008, 3.5994, 3.5526, 3.5516, 3.5207, 3.4695, 3.4643, 3.4385, 3.4333, 3.8316, 3.818, 3.814, 3.8079, 3.8059, 3.7765, 3.7572, 3.7496, 3.731, 3.7195, 3.6999, 3.6847, 3.6557, 3.6183, 3.6108, 3.5837, 3.5465, 3.5397, 3.5259, 3.4354, 3.4048, 3.4048, 3.4048, 3.4048, 3.3733, 3.3617, 3.361, 3.3445, 3.3378, 3.2502, 3.8246, 3.8133, 3.8115, 3.8048, 3.8037, 3.8004, 3.8, 3.793, 3.7759, 3.7695, 3.7156, 3.698, 3.6904, 3.6891, 3.6853, 3.6648, 3.6186, 3.592, 3.5882, 3.5577, 3.5532, 3.515, 3.4906, 3.4286, 3.4286, 3.4286, 3.4286, 3.3583, 3.3583, 3.1918, 3.8354, 3.8173, 3.7979, 3.7937, 3.7698, 3.769, 3.7414, 3.7244, 3.7018, 3.6775, 3.6773, 3.6691, 3.6284, 3.6057, 3.5815, 3.5815, 3.573, 3.557, 3.5323, 3.5323, 3.5323, 3.4313, 3.4115, 3.4115, 3.3336, 3.3105, 3.2802, 3.2574, 3.1826, 3.1496, 3.8371, 3.8338, 3.8206, 3.7966, 3.7917, 3.7698, 3.7655, 3.741, 3.731, 3.7177, 3.6993, 3.6641, 3.66, 3.6568, 3.6565, 3.6485, 3.6205, 3.59, 3.5794, 3.5451, 3.5242, 3.4895, 3.4887, 3.4271, 3.4271, 3.4271, 3.4142, 3.3712, 3.3683, 3.3559, 0.7212, 3.8373, 3.833, 3.8172, 3.816, 3.8121, 3.8067, 3.7989, 3.759, 3.7462, 3.7333, 3.7269, 3.721, 3.6942, 3.6926, 3.6879, 3.6851, 3.6794, 3.6746, 3.6601, 3.6157, 3.5929, 3.5908, 3.5581, 3.4776, 3.4535, 3.4535, 3.3117, 3.3083, 3.3083, 3.2785, 2.4521, 3.8444, 3.8361, 3.836, 3.8247, 3.8004, 3.7056, 3.7052, 3.6842, 3.6672, 3.6645, 3.6441, 3.6168, 3.6168, 3.6089, 3.6088, 3.5943, 3.5775, 3.575, 3.5636, 3.5336, 3.5188, 3.4571, 3.3137, 3.134, 3.0597, 3.0582, 3.0334, 3.0327, 3.0312, 3.0195, 3.8651, 3.8615, 3.8608, 3.8311, 3.8038, 3.7875, 3.7834, 3.7784, 3.775, 3.7283, 3.7127, 3.6401, 3.6401, 3.6354, 3.5726, 3.5528, 3.5265, 3.5258, 3.4847, 3.4847, 3.3719, 3.3633, 3.3633, 3.3422, 3.3317, 3.2523, 3.2022, 3.1913, 3.0645, 3.0645, 3.8853, 3.8697, 3.8359, 3.8327, 3.8279, 3.827, 3.8265, 3.7821, 3.7732, 3.7458, 3.7202, 3.7168, 3.7041, 3.7022, 3.6992, 3.6914, 3.6913, 3.6564, 3.6535, 3.6481, 3.6204, 3.5477, 3.4863, 3.4863, 3.4814, 3.44, 3.4166, 3.3695, 3.3384, 3.3384, 1.7818, 3.8916, 3.8657, 3.8559, 3.833, 3.8323, 3.8209, 3.7948, 3.7864, 3.7659, 3.7593, 3.7553, 3.7408, 3.74, 3.74, 3.7307, 3.7238, 3.7152, 3.7148, 3.7012, 3.6983, 3.6741, 3.6739, 3.6698, 3.6589, 3.6531, 3.6409, 3.64, 3.621, 3.6201, 3.6033, 3.9041, 3.8978, 3.8817, 3.8736, 3.8641, 3.8479, 3.8341, 3.8327, 3.8128, 3.8105, 3.8004, 3.7791, 3.7768, 3.755, 3.713, 3.6853, 3.6435, 3.6356, 3.6356, 3.6356, 3.6176, 3.6145, 3.5009, 3.4658, 3.4568, 3.4568, 3.396, 3.3807, 3.3807, 3.3658, 0.3315, 3.9066, 3.9047, 3.885, 3.8826, 3.8756, 3.8548, 3.8509, 3.8508, 3.8429, 3.8425, 3.8406, 3.8337, 3.7987, 3.794, 3.755, 3.6618, 3.6554, 3.5962, 3.5936, 3.5803, 3.5705, 3.5154, 3.5154, 3.4765, 3.4655, 3.4643, 3.4063, 3.3361, 3.0814, 3.0276, 3.9186, 3.8964, 3.8845, 3.8512, 3.8456, 3.8418, 3.8187, 3.8133, 3.8125, 3.8104, 3.806, 3.8003, 3.7828, 3.7691, 3.7282, 3.6777, 3.6699, 3.6552, 3.6552, 3.6254, 3.6008, 3.5772, 3.5474, 3.5093, 3.4819, 3.4819, 3.4819, 3.408, 3.408, 3.408, 3.8999, 3.8966, 3.8871, 3.8858, 3.8836, 3.8834, 3.8737, 3.8527, 3.852, 3.8362, 3.8334, 3.8287, 3.8277, 3.8191, 3.8189, 3.8095, 3.7844, 3.7598, 3.7304, 3.7242, 3.7025, 3.6976, 3.6976, 3.6703, 3.6154, 3.5982, 3.5982, 3.5982, 3.5373, 3.5373, 3.2237, 3.9472, 3.9334, 3.8854, 3.8763, 3.8735, 3.8629, 3.8619, 3.8481, 3.8472, 3.8408, 3.8321, 3.8261, 3.8073, 3.7658, 3.7357, 3.6972, 3.6852, 3.5973, 3.5775, 3.5775, 3.5767, 3.5318, 3.4676, 3.4385, 3.4385, 3.4385, 3.4385, 3.3564, 3.3564, 3.2481, 3.9656, 3.9479, 3.9447, 3.9377, 3.9349, 3.8604, 3.8434, 3.8402, 3.8277, 3.7927, 3.7829, 3.7645, 3.7391, 3.6791, 3.6791, 3.6791, 3.4428, 3.4428, 3.4136, 3.3919, 3.3734, 3.1651, 3.0643, 3.0556, 2.8143, 2.7996, 2.6916, 2.6839, 2.6839, 2.6839, 3.931, 3.9285, 3.9085, 3.8888, 3.8855, 3.8793, 3.8732, 3.8707, 3.8701, 3.861, 3.8606, 3.8454, 3.8428, 3.8428, 3.8379, 3.8213, 3.8091, 3.809, 3.8016, 3.7888, 3.7888, 3.7878, 3.7735, 3.7549, 3.7492, 3.6788, 3.66, 3.5376, 3.5376, 3.5376, 2.1661, 3.9927, 3.9861, 3.9651, 3.9536, 3.9473, 3.9296, 3.8952, 3.8894, 3.8828, 3.8633, 3.8114, 3.8114, 3.8106, 3.793, 3.7679, 3.7657, 3.7433, 3.7413, 3.7369, 3.7114, 3.7073, 3.7025, 3.6295, 3.6295, 3.6295, 3.6013, 3.5641, 3.5641, 3.5131, 3.4903, 4.0105, 3.9934, 3.9899, 3.9559, 3.9549, 3.9526, 3.9297, 3.9212, 3.8835, 3.879, 3.8627, 3.8574, 3.7928, 3.7826, 3.7616, 3.7399, 3.7056, 3.6842, 3.6404, 3.5821, 3.3927, 3.3927, 3.3927, 3.3927, 3.3679, 3.3325, 3.3044, 3.2982, 3.2982, 3.24, 3.0554, 2.8409, 4.0149, 4.0147, 4.0037, 4.0018, 3.9584, 3.9395, 3.9393, 3.9326, 3.9177, 3.9162, 3.8651, 3.8627, 3.8599, 3.8355, 3.8314, 3.8173, 3.7991, 3.7938, 3.7938, 3.7474, 3.6938, 3.6681, 3.6624, 3.6419, 3.6326, 3.6326, 3.6326, 3.6326, 3.6326, 3.5632, 4.0204, 4.002, 3.9947, 3.9849, 3.9738, 3.9606, 3.9603, 3.9596, 3.9595, 3.9559, 3.9522, 3.9176, 3.8939, 3.8903, 3.8897, 3.8632, 3.8465, 3.8363, 3.8327, 3.8327, 3.8225, 3.8033, 3.7893, 3.7524, 3.7512, 3.7325, 3.7261, 3.6346, 3.5838, 3.5838, 4.0834, 4.0702, 4.0524, 4.0092, 4.0079, 4.0019, 4.0008, 3.9816, 3.9737, 3.9466, 3.9271, 3.924, 3.8994, 3.8928, 3.8847, 3.8771, 3.8624, 3.8227, 3.8216, 3.7985, 3.7756, 3.7713, 3.7713, 3.751, 3.7457, 3.7124, 3.7124, 3.7124, 3.657, 3.6454, 4.0628, 4.0336, 4.0307, 4.0241, 4.0068, 3.9929, 3.9839, 3.9738, 3.9657, 3.961, 3.9587, 3.942, 3.9367, 3.9347, 3.9175, 3.9029, 3.8967, 3.8885, 3.8873, 3.8867, 3.8803, 3.8787, 3.8685, 3.8626, 3.8573, 3.8541, 3.8403, 3.8347, 3.831, 3.827, 4.1473, 4.1177, 4.0533, 4.0386, 4.0356, 4.014, 3.9741, 3.9454, 3.9408, 3.9362, 3.9343, 3.9032, 3.8599, 3.852, 3.8397, 3.8185, 3.797, 3.7878, 3.7619, 3.7318, 3.6632, 3.6102, 3.5834, 3.51, 3.51, 3.5043, 3.4947, 3.3972, 3.3972, 3.3972, 1.4705, 4.1573, 4.1205, 4.0972, 4.067, 4.053, 4.022, 3.9198, 3.9171, 3.9171, 3.9171, 3.8825, 3.8268, 3.8162, 3.8162, 3.8088, 3.767, 3.767, 3.7381, 3.6224, 3.6224, 3.6224, 3.5203, 3.45, 3.4072, 3.373, 3.3474, 3.3264, 3.3192, 3.2326, 3.1072, 2.8112, 4.1242, 4.1211, 4.1195, 4.0813, 4.0695, 4.0683, 4.0596, 4.0596, 4.0494, 4.0275, 4.0177, 3.9621, 3.9613, 3.9613, 3.9544, 3.9504, 3.9356, 3.9197, 3.8903, 3.8436, 3.7698, 3.7019, 3.7019, 3.6254, 3.6254, 3.6254, 3.6254, 3.6198, 3.5637, 3.5547, 2.2947, 1.6694, 4.1638, 4.1599, 4.1566, 4.1368, 4.1212, 4.1095, 4.097, 4.0821, 4.0601, 4.0589, 4.0538, 4.0488, 4.0425, 4.0388, 4.0298, 4.0278, 4.0064, 3.9603, 3.9417, 3.9129, 3.9102, 3.8993, 3.8381, 3.7959, 3.7267, 3.7267, 3.6756, 3.6198, 3.5887, 3.4088, 4.1974, 4.1837, 4.1677, 4.103, 4.1007, 4.1006, 4.1001, 4.0695, 4.0373, 4.0037, 4.0018, 3.9974, 3.9946, 3.9946, 3.9946, 3.9946, 3.9946, 3.8589, 3.8571, 3.8571, 3.7943, 3.6986, 3.6953, 3.6432, 3.6432, 3.6432, 3.5842, 3.556, 3.5545, 3.5545, 0.4083, 4.2216, 4.2058, 4.1848, 4.1762, 4.1709, 4.1429, 4.1294, 4.0983, 4.0778, 4.0668, 4.0568, 4.0533, 4.0438, 4.0406, 4.0373, 4.0339, 4.0175, 4.0023, 3.9659, 3.9591, 3.958, 3.9404, 3.9404, 3.9333, 3.9113, 3.9111, 3.9048, 3.9048, 3.8675, 3.8427, 4.2748, 4.2569, 4.2546, 4.2231, 4.2217, 4.2037, 4.1781, 4.1764, 4.1658, 4.1434, 4.1208, 4.1043, 4.0976, 4.078, 4.0526, 4.0507, 4.0491, 4.0167, 3.9976, 3.9455, 3.8931, 3.8822, 3.8822, 3.8822, 3.8822, 3.8296, 3.8106, 3.8106, 3.8106, 3.7588, 4.2896, 4.2435, 4.2208, 4.2138, 4.1935, 4.191, 4.175, 4.1727, 4.1464, 4.1412, 4.135, 4.1334, 4.0975, 4.0966, 4.0929, 4.0925, 4.0899, 4.0893, 4.0799, 4.0799, 4.0799, 4.0799, 4.0799, 4.0396, 4.0183, 3.9919, 3.9428, 3.9335, 3.9335, 3.922, 4.3619, 4.3194, 4.2594, 4.2568, 4.2271, 4.2248, 4.2246, 4.1927, 4.1622, 4.1598, 4.1276, 4.1116, 4.0976, 4.086, 4.0726, 4.0721, 4.0533, 4.0448, 4.0355, 4.0355, 4.025, 4.0094, 3.9746, 3.9746, 3.9746, 3.9746, 3.9746, 3.9054, 3.9054, 3.8455, 4.3564, 4.3305, 4.2999, 4.2905, 4.2762, 4.2741, 4.2645, 4.2523, 4.2064, 4.1882, 4.1691, 4.1615, 4.1585, 4.1585, 4.1409, 4.1195, 4.1138, 4.0814, 4.0731, 4.0454, 4.0328, 4.0231, 3.9955, 3.9836, 3.8783, 3.8437, 3.7963, 3.7963, 3.7963, 3.7963, 2.3313, 4.3947, 4.3866, 4.3374, 4.3305, 4.3055, 4.2739, 4.2521, 4.2354, 4.2321, 4.2095, 4.1177, 4.1062, 4.1062, 4.1062, 4.0496, 4.0496, 4.0496, 4.0496, 4.0446, 4.0359, 3.985, 3.985, 3.985, 3.918, 3.9165, 3.9121, 3.8577, 3.837, 3.8097, 3.7397, 4.5422, 4.5182, 4.486, 4.4553, 4.4379, 4.4162, 4.3756, 4.3746, 4.3447, 4.3406, 4.3406, 4.3406, 4.3406, 4.3321, 4.3206, 4.3037, 4.2934, 4.2931, 4.2585, 4.2107, 4.1902, 4.1686, 4.153, 4.1496, 4.1299, 4.1221, 4.0326, 3.9597, 3.9597, 3.9597, 3.3076, 4.8167, 4.7512, 4.7274, 4.6733, 4.6608, 4.6017, 4.5814, 4.5563, 4.5267, 4.476, 4.476, 4.4719, 4.4413, 4.4095, 4.3344, 4.3344, 4.2843, 4.2504, 4.2504, 4.2504, 4.1129, 4.0554, 4.0554, 3.9889, 3.9446, 3.9446, 3.9446, 3.7306, 3.6987, 3.5649]}, \"token.table\": {\"Topic\": [36, 25, 36, 9, 23, 7, 45, 47, 40, 17, 17, 43, 8, 31, 32, 41, 27, 11, 48, 43, 12, 7, 29, 30, 4, 5, 19, 18, 40, 40, 28, 10, 32, 1, 28, 24, 37, 11, 34, 13, 7, 46, 11, 23, 35, 43, 22, 7, 4, 16, 20, 25, 22, 3, 37, 8, 10, 49, 13, 2, 30, 13, 8, 38, 22, 50, 26, 26, 35, 17, 20, 26, 5, 35, 49, 49, 34, 37, 2, 44, 1, 40, 31, 39, 43, 20, 19, 33, 25, 11, 35, 10, 49, 10, 18, 23, 14, 10, 25, 41, 24, 11, 4, 36, 37, 5, 23, 42, 15, 17, 20, 42, 37, 26, 12, 31, 14, 12, 45, 32, 18, 40, 19, 3, 12, 3, 21, 19, 26, 38, 34, 15, 28, 37, 31, 5, 6, 8, 15, 5, 37, 11, 43, 15, 32, 42, 9, 3, 1, 13, 47, 17, 15, 7, 37, 16, 31, 9, 33, 24, 34, 4, 37, 32, 29, 49, 37, 32, 19, 40, 27, 13, 6, 27, 14, 30, 35, 6, 49, 37, 33, 13, 1, 33, 24, 24, 24, 11, 43, 24, 14, 47, 31, 35, 21, 49, 45, 20, 15, 12, 45, 4, 35, 15, 37, 29, 5, 32, 24, 30, 6, 37, 34, 40, 18, 41, 29, 23, 23, 43, 28, 13, 27, 49, 37, 21, 22, 45, 1, 25, 23, 14, 47, 26, 22, 17, 19, 41, 22, 31, 26, 5, 9, 2, 6, 1, 1, 21, 1, 16, 15, 44, 11, 35, 13, 13, 22, 27, 17, 8, 29, 29, 16, 3, 31, 9, 15, 24, 34, 45, 1, 20, 32, 40, 29, 17, 17, 9, 45, 46, 39, 35, 4, 2, 25, 10, 24, 5, 15, 8, 28, 21, 12, 35, 34, 2, 25, 47, 3, 1, 40, 48, 25, 45, 7, 13, 3, 35, 24, 8, 11, 24, 16, 24, 16, 15, 7, 20, 45, 31, 42, 6, 19, 30, 8, 24, 39, 43, 44, 47, 32, 47, 3, 24, 16, 1, 17, 27, 48, 3, 13, 44, 37, 24, 7, 46, 20, 15, 13, 13, 35, 15, 24, 44, 36, 5, 23, 19, 46, 12, 42, 3, 38, 14, 24, 44, 50, 15, 43, 25, 7, 6, 1, 10, 1, 40, 1, 28, 46, 5, 50, 28, 12, 4, 32, 24, 30, 33, 48, 7, 17, 23, 23, 38, 44, 15, 33, 31, 13, 40, 18, 11, 23, 19, 24, 43, 3, 32, 17, 8, 48, 6, 45, 44, 29, 5, 37, 43, 21, 6, 20, 34, 45, 35, 40, 33, 2, 12, 6, 6, 6, 25, 14, 31, 1, 21, 3, 16, 5, 45, 9, 34, 5, 39, 8, 46, 5, 3, 35, 10, 33, 7, 29, 42, 22, 47, 1, 14, 49, 28, 1, 8, 33, 20, 42, 24, 49, 22, 22, 4, 14, 9, 44, 25, 38, 30, 41, 32, 6, 10, 37, 7, 10, 12, 45, 5, 25, 12, 23, 19, 13, 16, 2, 36, 14, 14, 15, 30, 27, 28, 46, 7, 26, 8, 29, 26, 42, 8, 24, 29, 38, 16, 29, 27, 15, 6, 39, 34, 44, 45, 24, 44, 26, 11, 41, 43, 13, 17, 4, 38, 41, 20, 24, 14, 43, 46, 18, 31, 4, 50, 18, 37, 28, 27, 19, 26, 49, 38, 2, 11, 9, 8, 6, 3, 21, 36, 12, 8, 20, 29, 31, 31, 33, 11, 11, 44, 11, 36, 20, 18, 16, 48, 11, 31, 44, 27, 3, 15, 13, 41, 23, 45, 27, 50, 49, 14, 11, 18, 32, 33, 10, 28, 31, 37, 8, 8, 36, 40, 30, 20, 45, 2, 30, 28, 7, 1, 41, 16, 23, 47, 46, 22, 14, 34, 9, 36, 21, 23, 40, 19, 20, 32, 13, 33, 29, 25, 14, 49, 47, 21, 9, 42, 42, 42, 16, 3, 35, 47, 34, 13, 45, 9, 21, 5, 17, 46, 13, 13, 35, 7, 1, 21, 34, 36, 37, 36, 28, 21, 36, 45, 29, 30, 37, 49, 32, 14, 7, 36, 27, 21, 30, 43, 26, 17, 26, 34, 31, 13, 1, 35, 50, 36, 30, 24, 6, 4, 39, 12, 8, 8, 27, 26, 28, 6, 9, 33, 7, 13, 2, 45, 20, 49, 45, 38, 10, 15, 6, 1, 4, 45, 31, 21, 18, 4, 3, 32, 34, 41, 14, 23, 17, 2, 46, 41, 8, 34, 16, 41, 1, 26, 13, 48, 18, 40, 22, 46, 44, 5, 6, 43, 6, 45, 1, 10, 33, 48, 3, 37, 18, 7, 9, 26, 10, 20, 2, 39, 47, 12, 28, 24, 2, 32, 28, 36, 12, 25, 35, 11, 12, 2, 31, 1, 18, 24, 18, 24, 25, 31, 19, 18, 35, 19, 8, 16, 25, 12, 17, 4, 9, 15, 36, 1, 41, 27, 6, 30, 28, 31, 19, 47, 31, 29, 32, 12, 49, 34, 21, 28, 7, 10, 35, 24, 11, 50, 45, 31, 2, 2, 11, 37, 19, 20, 27, 21, 31, 7, 42, 17, 20, 24, 11, 44, 27, 9, 6, 39, 27, 4, 2, 39, 11, 12, 6, 38, 38, 33, 28, 34, 12, 25, 6, 46, 22, 1, 13, 18, 47, 30, 50, 6, 15, 10, 11, 7, 27, 47, 28, 30, 40, 33, 32, 3, 26, 15, 10, 41, 43, 16, 6, 49, 40, 43, 17, 12, 20, 34, 20, 35, 6, 41, 37, 29, 32, 25, 40, 11, 36, 14, 35, 36, 8, 40, 5, 9, 14, 31, 35, 28, 43, 46, 3, 45, 14, 39, 6, 41, 46, 13, 43, 17, 39, 43, 25, 18, 49, 42, 41, 1, 41, 13, 10, 37, 2, 4, 36, 34, 14, 45, 19, 21, 31, 8, 7, 15, 47, 15, 42, 13, 27, 28, 3, 6, 12, 14, 19, 23, 25, 38, 40, 42, 43, 5, 41, 42, 11, 21, 3, 35, 16, 7, 23, 5, 33, 2, 46, 7, 32, 19, 25, 40, 32, 28, 38, 37, 25, 36, 42, 41, 5, 13, 22, 28, 11, 6, 39, 44, 37, 6, 44, 23, 13, 48, 39, 17, 18, 23, 5, 44, 1, 11, 2, 1, 20, 19, 37, 20, 21, 43, 8, 48, 48, 27, 15, 14, 47, 22, 38, 16, 20, 25, 12, 15, 2, 31, 41, 2, 28, 10, 35, 37, 23, 37, 1, 38, 5, 23, 2, 19, 42, 1, 1, 47, 34, 41, 12], \"Freq\": [1.0053375950011694, 0.6242306013358927, 1.1795024432290155, 1.095961266227612, 0.9049386215971038, 1.0536522444813115, 1.0957959475803825, 1.0565996325396139, 0.6140882487353165, 1.2517286922977704, 0.9152904155414837, 1.2470184453956543, 1.3289928825546264, 0.9685054226129384, 0.942006472462643, 1.1372489787211495, 0.9979025782586634, 0.9483844753935832, 0.9370543660570939, 1.4293098706682907, 0.9412618866928555, 1.241157393893493, 1.180347750178429, 1.1630273477914908, 0.7046767911582805, 0.6068086904522474, 0.9780407910549099, 0.8975475585737882, 1.0208987898453663, 1.0176893219963727, 1.2183928496952408, 1.049536962682042, 1.2920366394079967, 0.8408479870966671, 0.7115074879345534, 0.8827648640951946, 0.8685376245560485, 0.8464541747384079, 0.9908527190548937, 1.0262507519044153, 0.8424240945727389, 0.6468163459478016, 1.3833798738196041, 1.0345351158475955, 0.9765703139924629, 1.0685857355121502, 0.9702857154995427, 1.1117578514015893, 0.7018485124090372, 1.0577953490854854, 1.0315539760103742, 1.150515056595841, 1.200395869954703, 0.843897773447647, 1.3049967370938247, 0.8550748607942924, 0.9691236765051515, 0.8725199652537596, 1.1252724322363845, 1.185762820933828, 0.7627899228532797, 0.7799085255768771, 0.7379448401586196, 1.0901155908654239, 1.1798725492722475, 0.6939010869866452, 0.9242611992820812, 0.7813080472986744, 1.0686095232113613, 0.7972324170928355, 0.834340135318455, 0.6903751334895921, 0.8952481403537691, 0.8284117256625829, 1.2055286480601182, 1.2055286480601182, 1.1674623061168388, 0.7243684376624432, 1.0599129550383684, 0.9418815045827178, 1.1316250692432441, 0.9558165927205028, 0.9726884054112165, 0.9874742696306644, 0.8930581841295441, 0.6414942598326403, 1.2670614307419115, 1.376737391014953, 1.0277015991860303, 0.7703073442614088, 0.7485893193409064, 0.9271046548240343, 1.0544096100981695, 1.0081400136207421, 0.6450021897427145, 0.9205603110183082, 0.9894696135779308, 1.1604326031411627, 0.7778928380511706, 1.2745425193090265, 1.428698773530099, 0.9627948016723773, 0.9554835433508309, 0.9539801044133913, 1.0835445195851063, 1.044841362419491, 1.2000170579435707, 1.0570168972267384, 0.8267234592203703, 0.8208796260397938, 0.7008769632243559, 0.5982155610092676, 0.9465798193914878, 0.9052010443055353, 0.7200559168161011, 0.8178798930200004, 0.918296981913485, 0.8898375207855673, 0.6694635422184347, 1.3102539322817215, 0.8642860131737827, 0.13296707894981272, 0.9437823919734081, 0.9041610008042927, 1.0525307857558701, 1.3710620978235732, 1.226707688004645, 0.9764961654636534, 0.8737133749062138, 0.6310873758686496, 0.9140506317901008, 0.7108093959190056, 0.6662924234874741, 0.859145404750863, 0.9797761693298961, 0.9972661701205813, 0.7103959829332416, 1.3485580232808712, 0.8653089724584441, 1.30119345766683, 0.7837782023572095, 0.8969552314808581, 0.966470213344799, 1.3220416035648321, 1.012115312720915, 0.9067645606122117, 0.987692451098552, 0.6291692026631257, 0.9580269612927935, 0.8227478808751995, 1.4565640359199277, 0.7594619315120505, 1.123516691169003, 0.8052973753245046, 1.32050398206475, 0.9519988667696857, 0.6278931965686185, 1.174946473456584, 1.1539526243644416, 0.9046925571895049, 0.9125106667635488, 0.9875543286364055, 0.6856146503078019, 1.4315055621652994, 1.2797046400550685, 0.7724537918387305, 0.7464816332141031, 1.4151262987056952, 0.9624060218432087, 1.0212409453916713, 0.8200389865752148, 1.1252724322363845, 1.088692399423011, 0.6094082176551548, 0.9071527026868974, 0.703348412234915, 1.4264975305062324, 1.4661688173529206, 1.1880476900898196, 0.8797722662361025, 1.0591543046515752, 1.3397739740380763, 0.8384321732221531, 1.1235856215993627, 0.7897107088521201, 0.7690769900725354, 1.1351522560395293, 1.021670066984995, 0.8622511240424279, 1.1990459964743299, 1.0301641422644976, 0.6085144711387148, 0.9095149568785433, 1.023324921161246, 0.7968403758672148, 1.2411121664330864, 0.9298154402554702, 0.9792478068243935, 1.4523293401552846, 0.8665944915771202, 0.8249023972106592, 1.4462408346833553, 1.023881022531131, 0.9268123937779935, 1.118530341778252, 1.3302202993054757, 1.016870314718194, 0.9946765681169871, 0.9503723046141765, 0.957388573010785, 1.0132491670026935, 0.8348844710088338, 0.6562790722902692, 0.9156652985954506, 0.8666701044618575, 0.9163582399339503, 1.0333003962658966, 0.7708089912643087, 0.6129297646036339, 1.4246123305976932, 0.5956493451743676, 1.0828198518079337, 0.7558186535293737, 0.6902737043972957, 1.223828960322192, 1.2273310146451255, 0.8542700266179386, 1.1718131739247493, 0.9168102410204568, 0.9180613868494377, 1.1873473903875635, 1.2635451031723084, 1.3016194099913265, 0.85087890540323, 0.7808889754104364, 0.8754444701823355, 0.9070892284839257, 0.8874903244769246, 1.0763870951497627, 1.1360386789694303, 0.8222361289149848, 0.9649801029649251, 1.0178868070998284, 1.1857629663118778, 0.685862720378176, 1.014157960480284, 0.8530598451242891, 1.0128003391155151, 0.9364100944957074, 1.2463352606333198, 0.9461248622545351, 1.248884844479112, 0.7836962603848484, 0.9797464025876779, 1.1252724322363845, 1.0495477899317378, 1.0269781581996436, 1.2276218569263422, 1.0213683755511436, 0.9510620887562777, 0.805417237066755, 0.9106093251288694, 1.4272350293328557, 1.1211645925038731, 1.0373779199551463, 0.8568020227465818, 1.0697389544054758, 0.8220802049266875, 0.9030221380151957, 0.93713927677055, 0.9644827990468777, 1.4190170587729658, 1.1794323681939292, 0.71882130422052, 0.6679429163045423, 0.9289244580241579, 1.1213692961628792, 1.2914010870786858, 1.1287691338483277, 1.2278032195337196, 0.9888183179034417, 0.844537345507791, 1.337992976887421, 0.629863136488681, 1.150224597492124, 1.027605802891076, 1.2749400127420991, 0.8868182300664526, 0.9023568964862475, 0.7954558506283534, 1.2183928496952408, 0.9882852136041349, 0.8572256462070066, 1.059477812785114, 0.8926326432210699, 1.1269712984508227, 0.7370372386912103, 1.0066229004295455, 1.019353629559376, 1.3143647373773137, 1.1297200221776917, 1.4379021846551663, 0.8388517915612758, 1.1193904962979606, 1.1500984329867152, 1.3085122028298102, 0.872502297650004, 1.0843672939174562, 0.6213264248203283, 1.078697581180221, 0.963374005235136, 1.1340884644632614, 1.1589079032099816, 0.8943732058649435, 0.9570787592514992, 0.970049271093371, 1.0127317043087312, 0.9830302824531365, 1.0504696227367891, 1.1196333965971308, 0.6099036875253752, 1.2677584111181566, 0.9209718446393143, 0.9710774646248869, 0.9644103172333529, 0.7196370040233442, 0.21122753395870195, 0.6336826018761058, 1.3977196948321053, 0.5980559590212475, 1.1888354583903522, 0.9819351179117396, 0.8253765234364843, 1.3609814833335863, 1.3996974922369205, 0.8403850428145639, 1.3784990934947035, 1.322702410329701, 0.8610381064064873, 0.7362842281772219, 0.8257953546416053, 1.2633844472811067, 1.0393550006118433, 1.2785189571012359, 1.1608646683924393, 0.9442517400623608, 0.9406363950776876, 0.7416111698415452, 0.9847722326103844, 1.3085122028298102, 1.0990109513753754, 0.6003276325171117, 1.0284682012052038, 0.9120418005405445, 1.0474872312608656, 1.324992976433678, 1.0116009706847184, 0.9577162320882131, 1.3523501601858348, 0.7795108627144233, 1.096926570969869, 0.966686737714254, 0.9188220369977019, 0.8986226576231328, 0.8403740533959038, 1.140038846451415, 0.999070296528694, 0.7835609059547636, 0.8230156250565508, 1.4444540133787742, 1.2349031542841795, 0.6247784916461793, 1.119309276624704, 0.7173524524018371, 1.3539422912013181, 1.1336795593505629, 0.6765310425326585, 0.6187735851150582, 0.7985337941083116, 1.3735292400521912, 1.3375148523609213, 0.787628411104553, 1.22890205315852, 0.8337551411815919, 0.8549054235550826, 0.9142464574647656, 1.4142556324329911, 0.7433618723602908, 0.6093672736895309, 1.0573680508278822, 0.7613606588666109, 1.0815365222328899, 0.7843963949890767, 1.0468303239764267, 0.6843937001583685, 0.9442831244936443, 0.7765474801592522, 0.7162229177790773, 0.9021459173364486, 1.0214207068894536, 1.052153767216003, 1.002212933102222, 0.7865227136642076, 0.6942711904684644, 1.161353394353828, 0.6119689796810437, 0.9718779416196551, 0.9808710984140957, 1.0133446806822934, 0.9240371723461247, 0.9516421955649776, 1.2395104844400526, 1.1718131739247493, 0.8474360380780683, 0.8985565507559018, 0.9131657916847702, 0.6371316659695502, 1.0828098220230173, 0.8943346665003282, 0.972334556549127, 0.3865340820612185, 0.773068164122437, 1.115751322184149, 0.825601217753306, 1.2013384344280504, 0.8093828455748583, 0.801336755216676, 0.9366694741969385, 1.2677584111181566, 1.0849812848359717, 1.088692399423011, 1.3589930951374334, 0.7380831909306559, 0.9685054226129384, 0.7851745261432027, 1.1932372751781066, 1.0898147553479514, 0.7287318754359453, 0.6867159323343485, 0.7456776634726808, 1.2755940428875556, 0.9853611874872059, 1.1232431366730706, 1.2030580463839924, 1.2731287571070977, 0.926382167459327, 0.8719719571928661, 0.7728705332293372, 1.4214490430107793, 0.9344118824403023, 0.7649199146560073, 0.8399824043751669, 0.786881304294431, 0.9417264630954116, 0.8210887369397877, 1.1365479827655776, 0.6822017542094966, 0.7731166487210421, 1.0848975921988295, 0.9435172001269785, 0.9745804946896313, 1.1026785475428433, 0.8409324671679883, 1.1578510597649294, 0.9512255720245998, 0.9529290207769958, 1.2055285611875026, 1.1798725492722475, 1.4622994829327693, 0.9188519701062793, 0.7774173914184704, 1.152826826648027, 1.12068392023681, 1.1280338449956901, 0.616358362142035, 0.9693127374776477, 0.8457740992183935, 0.6261438874594928, 1.2677584739977992, 0.9661002400611148, 1.1623965904673317, 0.9854738382622095, 1.3293328615112316, 0.8653556815141219, 0.9017246095548607, 1.208905168439888, 1.3589930951374334, 0.8641053414126023, 0.9997777546749355, 1.4516476863107544, 0.9616037510422242, 1.1308590410980908, 1.02419747257255, 1.1164268962153625, 1.440373399351631, 1.3002270734276524, 0.996846036110898, 1.051709624672767, 0.6232326826278336, 1.00011026328767, 0.7871255717710766, 1.0166436241810242, 0.9930788694852731, 1.1134432654712458, 0.9789470308586748, 1.0346130414025057, 0.6091570604829137, 0.8664059826719223, 0.8368388418088222, 1.0053558896392012, 1.087466303205371, 1.0047291490777186, 1.1132294172187502, 0.613257552228866, 0.6230638271573089, 0.9828237461418873, 0.546583651517819, 0.6634889141960882, 0.8758582015380152, 1.1176392892190163, 1.0154055571895018, 1.2566230707994437, 0.8207755635270839, 1.1305977480686518, 0.7756854110056168, 0.67685494109274, 1.0711682782155525, 1.3969818092278379, 0.7344218084901878, 1.0669858817509281, 1.4047815147568636, 0.9173203937085628, 0.8403740533959038, 0.7600766987172993, 0.9488754437205185, 1.4532878048061793, 0.8323050720583572, 1.160616952485807, 1.1322054035865134, 1.2534640063384155, 1.086479198284575, 0.7573002674610293, 0.9949507818929463, 1.4446949126739312, 0.8776801615279471, 0.9897365892881329, 1.2055285611875026, 0.7342293044733219, 1.1899110339014667, 0.9523743014382834, 1.0166977895302953, 1.4553946190530924, 0.8688503367301201, 0.9767818486388021, 1.368506549321678, 0.8507572078260975, 0.7797928903969764, 0.9451737845468187, 0.8726788655390467, 0.6969344426724629, 0.6298384861480326, 0.8208674812175084, 0.7859830742227958, 0.9150707859028743, 0.7145229468101538, 0.9509195847517167, 0.6685316298710059, 0.8933605619646671, 1.002069337702413, 1.1250590395682, 0.932602733933431, 0.9048766130385878, 0.8103502947071545, 0.7162229177790773, 0.7430299146466419, 1.0072822156842316, 1.1448039435969815, 0.9442831244936443, 1.13699081934802, 1.068951410956755, 1.0323444050215453, 0.8779959671122815, 1.0190887056810545, 1.4387562435057775, 1.40078724258761, 0.8476417790059022, 0.8070040018940084, 1.3226254174985768, 0.9889951127745746, 1.1980325376117047, 1.0151609714390897, 0.6650321837024274, 1.1449325078702781, 1.2817101009729082, 1.3485580232808712, 0.7262805314185566, 0.6377381945849893, 1.0437217209626732, 0.8548576018278136, 1.1782634877329206, 1.1315337450642264, 1.37565380084213, 1.4142556324329911, 0.8270689454611673, 0.9496138063598086, 0.8850888199957172, 1.448915181911165, 0.9001128767295599, 0.9865445991677887, 0.9645300075164056, 0.6344506199488298, 1.1098451960148248, 0.9808312863122174, 0.9268643799012389, 0.7993954106305753, 1.3462374401976367, 0.9972710082496574, 0.6559719552370722, 1.0517045860321665, 1.3112906932173047, 1.2751729154537834, 1.2838108022389099, 1.0139067041308127, 1.023067794803548, 0.6256403866274697, 1.3589930951374334, 0.7339287548273852, 1.3586639412861854, 1.1365479827655776, 1.4151602025995362, 0.981502142547651, 0.8200321295965067, 1.096926570969869, 1.096926570969869, 1.0983752348943605, 0.9986088872180255, 0.6975029559401666, 0.9252018959571426, 1.0364324803523859, 1.0395156052768182, 1.4271308527715516, 0.6985256543920864, 1.074499808049656, 1.1260943339907588, 0.9762688564679048, 1.3994451833750643, 0.939553550438261, 0.833105570201385, 0.9487179477540386, 0.7485349137681079, 1.0662569158029802, 1.1932372751781066, 1.2177460585343152, 1.0832015394646217, 1.0121600917142066, 1.0883343329618855, 1.0069833729844377, 0.7952827484306427, 1.017977429846575, 1.048245037809827, 0.9266077687093504, 0.6056255624922661, 1.1112151371268992, 1.2891890993663515, 0.9889951127745746, 0.949405464710266, 0.9437450840317666, 0.8035208424898606, 0.6722849566507283, 1.3583604952157702, 1.4142556324329911, 1.0269263431461606, 0.9385441602810703, 0.8250096670723035, 1.3096483984481884, 1.1168043572469606, 1.0130702469082373, 1.0896343802042934, 0.7597874493262272, 0.9872064166665335, 0.7685699814671294, 0.9075284313221793, 0.6880745279433433, 1.223623840000005, 0.6295178756011813, 1.0267223179561764, 1.203057980276128, 1.2202837019491857, 1.0044630059226993, 1.0202730761706404, 0.9342552316801663, 0.9013417285628224, 1.0331368463156045, 1.143640156226377, 0.9885898714049784, 1.2871543406783355, 1.0820578270790933, 1.3085122028298102, 1.003197143005709, 1.1718131739247493, 0.8561722163712662, 1.4017347897605155, 1.0996630544886987, 1.439934407974032, 1.4021395975934645, 0.9741753423343195, 0.7902004548506243, 0.07932980257154339, 0.9122927295727489, 1.1718132813136035, 0.8756820595648578, 0.9838782218057867, 1.3882344175099202, 0.852543127943029, 1.0289456702262199, 1.0707795319628444, 1.2177460585343152, 0.8287174585089345, 0.9707664496307697, 1.0351022651288804, 0.8031904493027744, 0.8486134850114995, 1.0896937783806984, 1.1953094846568828, 1.3485580232808712, 1.4110278093506974, 0.976088183225967, 0.8963826933497123, 1.3566058575025908, 0.6680296771803858, 1.3085122028298102, 1.0523753057183238, 0.8419881735776551, 1.0534851955552276, 0.9699282767669172, 1.2944794266261137, 0.6926002037642381, 1.2922877934456418, 0.810882555361135, 1.3972938209345485, 1.4661688173529206, 0.6578009004273828, 0.4561514242750149, 0.18246056971000596, 0.3649211394200119, 0.9734950128165645, 0.6313079873576557, 0.9664520438063025, 1.287352796641282, 1.1546078752986462, 1.066552315410129, 1.2829084744766142, 0.9789768693604537, 0.8271628522324195, 1.3002809526115662, 1.0993294965092488, 0.9631448328641161, 0.9659757664905716, 1.1031681208322306, 1.3571184621021766, 0.8598927580708168, 0.6578191315294164, 1.0292350437046516, 0.6755513696224741, 0.7175426322994641, 1.4322696702081772, 1.270192823379972, 0.7018255105064207, 0.9246279592031859, 0.7481659992551264, 0.875095395461333, 1.0108999132166017, 1.287352796641282, 0.7504876259535114, 0.8500963084472193, 1.1526713304655898, 0.9168165455115862, 1.075098720335029, 0.9824414590070095, 0.8661887526725425, 1.0843672939174562, 1.1631782148606489, 0.9308609161255551, 0.9599997222788411, 0.930892065036867, 0.9945083461003381, 0.6777517023149972, 0.9006637786138251, 1.0748803347970977, 1.1173971056801344, 1.0777417394183186, 0.7848969908871875, 1.393690138755359, 0.9368606798434452, 1.3536636197861154, 0.8842326431778643, 0.9745870201191503, 0.8601020215168826, 0.6305925839931946, 0.6545523065315263, 1.1668255911202063, 1.0428554154006984, 1.4508148380165273, 0.8537664884327254, 1.0590167093134668, 0.9342480077506156, 0.47763723602427127, 0.47763723602427127, 0.7938357878143335, 0.992618799253899, 1.1288248599574002, 0.7824761917613453, 0.5972564312845889, 1.0065386419944733, 0.7560877063199504, 0.7805921421118378, 0.9838703125985456, 0.8247890630219377, 1.1305977480686518, 1.2101235812159197, 1.0137100155874084, 1.28410958296188, 1.1660596445807259, 0.8237534856089783, 0.16475069712179566, 0.6178668655901765, 0.6121003405979432, 0.9212739692257332, 0.8189737757827014, 0.9550099658959611, 1.3188904913201405, 1.0545877438482234, 0.644709228880712, 0.7832937829275609, 1.3095298000966786, 1.3469157434038836, 1.260836337359339, 0.9378410027506786, 1.185762820933828, 1.2030580463839924, 0.9663311600626002, 0.653326966365423, 0.6005016699224692, 1.4078982528107529, 1.229027090155324, 1.039031316203757, 1.0320882154459916, 1.0997611115220924, 0.9398524799613773, 1.3265702267533046, 1.4661688173529206, 1.4549943762148576, 1.0777851830996907, 0.9748603713307566, 1.3085122028298102, 0.7530038769655855, 0.7125562802279443, 0.9247438000449807, 1.1601658530727237, 0.7406502399025628, 1.3263465416837532, 0.9355927093423207, 0.6111152720711444, 1.4284277360056556, 1.322702410329701, 1.1238261749338865, 1.0758606257956422, 0.9139999001563306, 1.0327424359818074, 0.8653706069157097, 0.597889207566352, 0.9889002651174665, 0.9627209127840546, 1.0084975978099178, 1.1038783528338882, 0.6409859720078267, 0.9169655268090403, 0.7998370760320638, 0.9743156690627466, 0.7637407948990543, 0.7645945578996978, 0.8089567865554727, 1.2353996927696524, 1.4312939748211893, 0.8690756198237968, 1.1950643492479893, 0.8956512867085159, 0.9492167158098438, 1.2677584111181566, 0.9983059465800534, 1.0808334216605426, 1.1889213032950836, 0.9144178494836726, 1.0288194201020888, 1.1294923042934437, 0.7084210838742309, 0.9666547319869038, 1.2519709071630714, 1.2110949969753013, 1.4445978405992193, 1.3485580232808712, 1.3243418383339198, 0.6600077157689613, 0.975356583444562, 1.137267369130705, 0.7395642499937671, 0.9876982119758387, 0.623412769313172, 1.1117013491982024, 0.7975973368110324, 1.2020160836612763, 1.3403811191495347, 0.6070673411762812, 1.191334227552206, 1.2708923893095603, 0.8967102429686419, 1.011883512335886, 0.9822269164205615, 1.1824357868582094, 0.9449082410223624, 0.7337901357120237, 1.011120839725941, 1.0347738315110981, 1.1848066481931314, 1.037189759994556, 1.096926570969869, 0.7519068203409686, 1.0332616545513347, 0.799443221462274, 0.9616037510422242, 0.9627700785648976, 1.0517891168612894, 1.185762820933828, 1.2315703630945656, 1.0183741369656933, 1.1019425518701698, 1.056981340877253, 1.1718131739247493, 1.136862642783699, 1.288327872730325, 1.4418188336416446, 1.0202730761706404, 1.2749611098162945, 0.7800182377770419, 1.2119115389511956, 1.082806397859583, 1.0651720536588791, 1.3085122028298102, 0.8980609268781615, 0.8302688223163641, 0.12937157707992214, 0.2772248080284046, 0.11088992321136183, 0.11088992321136183, 0.036963307737120615, 0.12937157707992214, 0.018481653868560308, 0.07392661547424123, 0.07392661547424123, 0.018481653868560308, 1.0970510550070582, 1.276931925518077, 1.0135557678075744, 1.0846395270335174, 0.7336012932178583, 0.9781869963717138, 1.0898147553479514, 0.8353469948012785, 0.9494367068334191, 1.224604611701283, 1.339099963410825, 1.2108175662543348, 0.9668872491540202, 0.9898645570706596, 1.0792874280130624, 1.4471380741284143, 0.9928280779546326, 0.781422447087959, 0.8597281690791702, 1.0690199807414187, 0.7505787056097462, 1.1976049288061932, 0.8738514171273358, 1.1876991996953878, 0.7260174153636558, 1.3507653079008797, 1.096926570969869, 0.745983975389562, 0.7504325680967394, 1.3085122028298102, 1.0036893307348669, 1.3339429474719688, 0.9663311600626002, 1.4661688173529206, 1.0343427021159806, 0.9920977919151136, 1.336709466233737, 0.8232577622814036, 1.024966712458717, 1.2227651320125017, 1.111618391250643, 1.001417643537061, 1.1713440456058464, 1.0065891359283874, 1.0241260571596458, 0.7796320744821037, 1.2777859159219753, 0.9282196731164841, 0.9805528488508451, 1.1305977480686518, 0.9866678312909726, 0.8676679605034953, 0.6723712231850483, 1.0539533010409736, 0.8134364394897412, 0.9424920450488354, 0.9994702100153506, 0.8958845130406279, 1.3485580232808712, 0.9467247985436301, 0.7599841979672359, 0.8423829494014614, 0.9125692399235716, 1.4063499307300888, 1.090694508562986, 0.9853650223623749, 1.0954788612169608, 0.6350751415289214, 0.8978238618172264, 0.9573117676373957, 0.9148344385225363, 0.9442831244936443, 1.0078144237598672, 0.7034998253248363, 1.1072112620885255, 0.872788164136245, 1.1637174278598705, 0.9378171708484218, 0.9119118642045635, 1.187033335358918, 1.0063664023740544, 1.0755191805301403, 1.1477062159485976, 0.9815293243941128, 1.02134825618564, 0.9779653000570607, 1.0047944309702068, 0.9722929877306425, 0.7577973895289823, 0.9764377804282481, 0.8954487599601153, 1.3251074097180322, 1.0548765138105687, 0.9935106705179861, 0.7393398176474727], \"Term\": [\"ability\", \"able\", \"absolute\", \"abstract\", \"accepted\", \"access\", \"account\", \"action\", \"actions\", \"activate\", \"activation\", \"actual\", \"actually\", \"ad\", \"add\", \"added\", \"adding\", \"additional\", \"adds\", \"adjacent\", \"allow\", \"allowed\", \"already\", \"although\", \"always\", \"analysis\", \"annotating\", \"annotation\", \"annotations\", \"another\", \"antivirus\", \"anymore\", \"anything\", \"app\", \"appear\", \"appearing\", \"appears\", \"arg\", \"argument\", \"arguments\", \"asking\", \"assignment\", \"assignments\", \"async\", \"attach\", \"attached\", \"attribute\", \"attributes\", \"auto\", \"autocomplete\", \"autocompletion\", \"autodetect\", \"autodetected\", \"autoimport\", \"automatic\", \"automatically\", \"available\", \"awaited\", \"aware\", \"azure\", \"bad\", \"bar\", \"base\", \"based\", \"baseformset\", \"becomes\", \"behavior\", \"better\", \"big\", \"bin\", \"binary\", \"blank\", \"block\", \"blocks\", \"blocktrans\", \"blocktranslate\", \"bound\", \"bracket\", \"breaking\", \"breakpoint\", \"breakpoints\", \"breaks\", \"brings\", \"broken\", \"bug\", \"builtin\", \"builtins\", \"bundled\", \"button\", \"bytes\", \"ca\", \"call\", \"callable\", \"called\", \"calling\", \"calls\", \"cannot\", \"cant\", \"case\", \"cases\", \"caused\", \"causes\", \"causing\", \"cell\", \"cells\", \"certain\", \"chain\", \"chained\", \"change\", \"changed\", \"changes\", \"changing\", \"character\", \"characters\", \"check\", \"checked\", \"checker\", \"checking\", \"checks\", \"claims\", \"class\", \"class\", \"classdecorated\", \"classes\", \"classmethod\", \"clause\", \"clear\", \"click\", \"clickable\", \"clicking\", \"client\", \"clone\", \"close\", \"closing\", \"cls\", \"code\", \"collection\", \"collectionsabc\", \"color\", \"column\", \"command\", \"comment\", \"comments\", \"commit\", \"compatibility\", \"completely\", \"completion\", \"component\", \"compose\", \"comprehension\", \"comprehensions\", \"conda\", \"condition\", \"conditions\", \"config\", \"configuration\", \"configurations\", \"configured\", \"connect\", \"connection\", \"considered\", \"console\", \"constructor\", \"containers\", \"containing\", \"contains\", \"content\", \"contents\", \"context\", \"contextual\", \"continue\", \"contributors\", \"conversion\", \"copied\", \"copies\", \"copy\", \"copypasting\", \"cores\", \"coroutine\", \"correct\", \"correctly\", \"corresponding\", \"could\", \"coverage\", \"cpu\", \"crash\", \"crashes\", \"create\", \"created\", \"creates\", \"creating\", \"creation\", \"csv\", \"current\", \"currently\", \"currentthread\", \"cursor\", \"custom\", \"customize\", \"cython\", \"data\", \"database\", \"dataclass\", \"dataframe\", \"dataframes\", \"datalore\", \"datetime\", \"debug\", \"debugger\", \"debugging\", \"declaration\", \"declarations\", \"decorated\", \"decorator\", \"decorators\", \"default\", \"define\", \"defined\", \"definition\", \"deletion\", \"dependencies\", \"dependency\", \"deployment\", \"deprecated\", \"detect\", \"detected\", \"detection\", \"dev\", \"dialog\", \"dict\", \"dictionary\", \"diff\", \"difference\", \"different\", \"dir\", \"directory\", \"disabled\", \"disabling\", \"disappear\", \"disappears\", \"display\", \"displayed\", \"django\", \"djangotest\", \"doc\", \"docker\", \"dockercompose\", \"docstring\", \"docstrings\", \"doctest\", \"documentation\", \"drf\", \"drive\", \"due\", \"dumb\", \"dunder\", \"duplicate\", \"duplicated\", \"eap\", \"editable\", \"editing\", \"editor\", \"effect\", \"eg\", \"ellipses\", \"empty\", \"enable\", \"enabled\", \"end\", \"endpoints\", \"engine\", \"enter\", \"entrypoint\", \"enum\", \"enums\", \"environment\", \"environments\", \"epydoc\", \"erroneous\", \"erronious\", \"error\", \"errors\", \"evaluates\", \"even\", \"every\", \"examples\", \"excel\", \"except\", \"exception\", \"exceptions\", \"excessive\", \"executable\", \"execute\", \"executed\", \"execution\", \"existing\", \"exists\", \"exit\", \"expected\", \"experimental\", \"explicitly\", \"explorer\", \"export\", \"expression\", \"expressions\", \"extend\", \"extended\", \"extending\", \"extension\", \"external\", \"extract\", \"extremely\", \"fail\", \"failed\", \"fails\", \"failure\", \"false\", \"falsepositive\", \"fastapi\", \"fatal\", \"feature\", \"fewer\", \"field\", \"file\", \"files\", \"final\", \"find\", \"find\", \"fine\", \"finished\", \"finishes\", \"first\", \"fix\", \"flag\", \"flags\", \"flask\", \"float\", \"focus\", \"fold\", \"folded\", \"folder\", \"folders\", \"folding\", \"font\", \"forever\", \"form\", \"format\", \"formatted\", \"formatter\", \"formatteroff\", \"formatting\", \"found\", \"framework\", \"freezes\", \"fstring\", \"fstrings\", \"function\", \"functions\", \"generates\", \"generator\", \"generators\", \"generic\", \"generics\", \"get\", \"gets\", \"getting\", \"gherkin\", \"git\", \"given\", \"gives\", \"global\", \"go\", \"google\", \"got\", \"graph\", \"gutter\", \"handle\", \"handling\", \"hangs\", \"hard\", \"hash\", \"help\", \"helpers\", \"hidden\", \"hide\", \"high\", \"higher\", \"highlight\", \"highlighted\", \"highlighting\", \"highlights\", \"hint\", \"hinting\", \"hints\", \"hit\", \"horizontal\", \"host\", \"hover\", \"html\", \"icons\", \"ide\", \"idea\", \"ifelse\", \"ignore\", \"ignored\", \"ignores\", \"import\", \"imported\", \"importing\", \"imports\", \"impossible\", \"improve\", \"include_routers\", \"included\", \"incompatible\", \"incomplete\", \"inconsistent\", \"inconsistently\", \"incorreclty\", \"incorrect\", \"incorrectly\", \"incorrectly\", \"indent\", \"indentation\", \"indentify\", \"indexing\", \"infer\", \"inference\", \"inferencer\", \"inferred\", \"inferrence\", \"inferring\", \"infers\", \"infinitum\", \"information\", \"inherit\", \"inherited\", \"initializing\", \"injection\", \"input\", \"inserts\", \"inside\", \"insight\", \"insighte\", \"inspect\", \"inspection\", \"inspections\", \"install\", \"installation\", \"installed\", \"installing\", \"instance\", \"instances\", \"instead\", \"int\", \"integrate\", \"integration\", \"intellij\", \"intention\", \"intermediary\", \"interpreter\", \"interpreters\", \"interpretter\", \"introduce\", \"invalid\", \"ipynb\", \"ipywidgets\", \"is_valid\", \"isinstance\", \"issue\", \"issues\", \"item\", \"items\", \"itemsview\", \"iterable\", \"iterator\", \"jinja\", \"js\", \"jumps\", \"jupyter\", \"jython\", \"keeps\", \"kernels\", \"key\", \"keyboard\", \"keys\", \"keyvalue\", \"keyword\", \"know\", \"kwargs\", \"lack\", \"lag\", \"language\", \"last\", \"latest\", \"latter\", \"launch\", \"launched\", \"leads\", \"leak\", \"left\", \"level\", \"libraries\", \"library\", \"ligatures\", \"line\", \"lines\", \"link\", \"links\", \"list\", \"lists\", \"literal\", \"load\", \"loaded\", \"loading\", \"loads\", \"local\", \"long\", \"longer\", \"loop\", \"lost\", \"mac\", \"macos\", \"magic\", \"main\", \"mainpy\", \"make\", \"makes\", \"managepy\", \"manager\", \"mangled\", \"many\", \"mapped\", \"markdown\", \"marked\", \"marks\", \"match\", \"matching\", \"matlabengine\", \"matplotlib\", \"member\", \"members\", \"memory\", \"mentioned\", \"menu\", \"message\", \"messages\", \"metaclass\", \"metaclasses\", \"method\", \"methods\", \"microsoft\", \"mismatch\", \"missing\", \"mixes\", \"mode\", \"model\", \"module\", \"modules\", \"mount\", \"mouse\", \"move\", \"multiline\", \"multiple\", \"multiproject\", \"multithreaded\", \"must\", \"mypy\", \"name\", \"named\", \"namedtuple\", \"names\", \"namespace\", \"narrowed\", \"navigate\", \"navigation\", \"needless\", \"needlessly\", \"needs\", \"negative\", \"nested\", \"never\", \"new\", \"newly\", \"noncoroutine\", \"none\", \"nonnative\", \"nonproject\", \"nontoplevel\", \"notation\", \"notebook\", \"notebooks\", \"nothing\", \"notification\", \"nukes\", \"number\", \"numbers\", \"numpy\", \"object\", \"objects\", \"odoo\", \"office\", \"old\", \"one\", \"open\", \"opened\", \"opening\", \"operator\", \"operators\", \"option\", \"optional\", \"options\", \"orange\", \"order\", \"ospath\", \"outofthebox\", \"output\", \"outside\", \"overload\", \"overloads\", \"override\", \"overrides\", \"package\", \"packages\", \"page\", \"pair\", \"pandas\", \"pane\", \"panels\", \"parallel\", \"parameter\", \"parameters\", \"parametersinfo\", \"parametertypes\", \"parenteses\", \"parentheses\", \"parse\", \"parsed\", \"parser\", \"parsing\", \"parts\", \"passed\", \"password\", \"paste\", \"path\", \"paths\", \"pattern\", \"patterns\", \"pep\", \"performance\", \"permission\", \"pid\", \"pin\", \"pip\", \"pipenv\", \"place\", \"please\", \"plot\", \"plots\", \"plugin\", \"plugins\", \"poetry\", \"point\", \"points\", \"policy\", \"popup\", \"positive\", \"positives\", \"possible\", \"powershell\", \"predefined\", \"present\", \"preview\", \"previous\", \"print\", \"printed\", \"printing\", \"private\", \"problem\", \"problems\", \"process\", \"processing\", \"produces\", \"professional\", \"profile\", \"profiler\", \"profiling\", \"program\", \"project\", \"projectfiles\", \"projects\", \"properly\", \"property\", \"propose\", \"provide\", \"proxy\", \"py\", \"pyassert\", \"pycharm\", \"pydev_monkey\", \"pydevd\", \"pylab\", \"pyqt\", \"pyroute\", \"pyside\", \"pytest\", \"pytestxdist\", \"python\", \"python\", \"pythonid\", \"pythonpath\", \"qualified\", \"queryset\", \"queue\", \"quick\", \"quickfix\", \"quotation\", \"quotes\", \"raise\", \"raised\", \"raises\", \"randomly\", \"range\", \"raw\", \"readonly\", \"recognised\", \"recognize\", \"recognized\", \"recognizes\", \"redeclared\", \"redraw\", \"redundant\", \"refactor\", \"refactoring\", \"reference\", \"referenced\", \"references\", \"regex\", \"regions\", \"regression\", \"reindex\", \"reload\", \"remote\", \"remote\", \"remote\", \"remove\", \"removes\", \"rename\", \"renames\", \"renaming\", \"render\", \"rendered\", \"rendering\", \"renders\", \"reopen\", \"report\", \"reported\", \"reports\", \"repository\", \"request\", \"required\", \"requirements\", \"requirementstxt\", \"requires\", \"rerun\", \"resets\", \"resize\", \"resolution\", \"resolve\", \"resolved\", \"resolves\", \"response\", \"responsive\", \"rest\", \"restart\", \"restartpy\", \"result\", \"results\", \"return\", \"returns\", \"reused\", \"right\", \"root\", \"run\", \"runner\", \"running\", \"runs\", \"save\", \"saved\", \"scheme\", \"scientific\", \"sciview\", \"scope\", \"scratch\", \"screen\", \"script\", \"sdk\", \"search\", \"second\", \"see\", \"seems\", \"select\", \"selected\", \"selection\", \"selector\", \"self\", \"separate\", \"separate\", \"separator\", \"server\", \"service\", \"services\", \"session\", \"set\", \"sets\", \"setting\", \"settings\", \"setup\", \"setupclass\", \"sftp\", \"shadowing\", \"shadows\", \"shortcut\", \"show\", \"show\", \"showing\", \"shown\", \"shows\", \"signature\", \"silently\", \"simultaneously\", \"since\", \"single\", \"size\", \"skeleton\", \"skeletons\", \"slash\", \"slow\", \"slowly\", \"solution\", \"someclassget\", \"something\", \"sometimes\", \"source\", \"sources\", \"space\", \"specific\", \"specified\", \"speedups\", \"sphinx\", \"spinner\", \"sql\", \"sqlalchemy\", \"ssh\", \"ssl\", \"standard\", \"start\", \"started\", \"starting\", \"startup\", \"state\", \"statement\", \"static\", \"stdin\", \"steals\", \"step\", \"still\", \"stop\", \"stopped\", \"stopping\", \"stops\", \"str\", \"string\", \"strings\", \"stripped\", \"structure\", \"stub\", \"stubs\", \"stuck\", \"style\", \"subclass\", \"subclasses\", \"submitted\", \"submodule\", \"submodules\", \"subprocesses\", \"subscripted\", \"subtype\", \"succeeds\", \"suggest\", \"suggested\", \"suggestions\", \"suggests\", \"suite\", \"super\", \"superclass\", \"support\", \"supported\", \"sur\", \"switch\", \"switches\", \"switching\", \"sync\", \"syntax\", \"system\", \"tab\", \"table\", \"tabs\", \"tag\", \"tags\", \"takes\", \"taking\", \"target\", \"targets\", \"task\", \"teamcity\", \"template\", \"templates\", \"temporary\", \"terminal\", \"terminated\", \"termios\", \"test\", \"testcase\", \"tests\", \"thats\", \"thinks\", \"time\", \"timeout\", \"tokenizers\", \"tool\", \"toolbar\", \"toolkit\", \"tools\", \"toolwindow\", \"top\", \"torch\", \"torchutilsdata\", \"traceback\", \"track\", \"treat\", \"treating\", \"trivially\", \"true\", \"trying\", \"tuple\", \"tuples\", \"turn\", \"twice\", \"two\", \"type\", \"type\", \"type\", \"type\", \"type\", \"type\", \"type\", \"type\", \"type\", \"type\", \"typechecker\", \"typechecking\", \"typed\", \"typeddict\", \"typeerror\", \"types\", \"typesdict\", \"typevar\", \"typing\", \"typingprotocol\", \"typingtypeddict\", \"typo\", \"ui\", \"unable\", \"unbound\", \"undefined\", \"underscore\", \"understand\", \"unexpected\", \"unfilled\", \"unhandled\", \"uninstall\", \"union\", \"unit\", \"unittest\", \"universal\", \"unpack\", \"unpacking\", \"unreachable\", \"unrecognized\", \"unresolved\", \"unsupported\", \"untyped\", \"unusable\", \"unused\", \"update\", \"updates\", \"updating\", \"upgrading\", \"upper\", \"url\", \"usage\", \"usages\", \"use\", \"used\", \"user\", \"userdefined\", \"uses\", \"using\", \"usually\", \"vagrant\", \"valid\", \"validate\", \"value\", \"values\", \"variable\", \"variables\", \"venv\", \"venvs\", \"version\", \"versions\", \"via\", \"view\", \"viewer\", \"virtual\", \"virtualenv\", \"vmprof\", \"walrus\", \"warn\", \"warning\", \"warnings\", \"wastes\", \"well\", \"whether\", \"whitespace\", \"whole\", \"widget\", \"window\", \"windows\", \"within\", \"without\", \"wizard\", \"word\", \"work\", \"working\", \"works\", \"writing\", \"wrong\", \"wrongly\", \"wsl\", \"wslbased\", \"xc\", \"xml\", \"yaml\", \"yield\"]}, \"R\": 30, \"lambda.step\": 0.01, \"plot.opts\": {\"xlab\": \"PC1\", \"ylab\": \"PC2\"}, \"topic.order\": [3, 45, 7, 21, 28, 47, 17, 24, 39, 33, 34, 26, 19, 22, 41, 14, 15, 2, 36, 40, 37, 1, 13, 8, 10, 6, 44, 42, 46, 27, 31, 25, 23, 30, 48, 49, 11, 43, 29, 5, 50, 16, 9, 4, 38, 18, 20, 35, 12, 32]};\n",
              "\n",
              "function LDAvis_load_lib(url, callback){\n",
              "  var s = document.createElement('script');\n",
              "  s.src = url;\n",
              "  s.async = true;\n",
              "  s.onreadystatechange = s.onload = callback;\n",
              "  s.onerror = function(){console.warn(\"failed to load library \" + url);};\n",
              "  document.getElementsByTagName(\"head\")[0].appendChild(s);\n",
              "}\n",
              "\n",
              "if(typeof(LDAvis) !== \"undefined\"){\n",
              "   // already loaded: just create the visualization\n",
              "   !function(LDAvis){\n",
              "       new LDAvis(\"#\" + \"ldavis_el18261404606265481767789512922\", ldavis_el18261404606265481767789512922_data);\n",
              "   }(LDAvis);\n",
              "}else if(typeof define === \"function\" && define.amd){\n",
              "   // require.js is available: use it to load d3/LDAvis\n",
              "   require.config({paths: {d3: \"https://d3js.org/d3.v5\"}});\n",
              "   require([\"d3\"], function(d3){\n",
              "      window.d3 = d3;\n",
              "      LDAvis_load_lib(\"https://cdn.jsdelivr.net/gh/bmabey/pyLDAvis@3.3.1/pyLDAvis/js/ldavis.v3.0.0.js\", function(){\n",
              "        new LDAvis(\"#\" + \"ldavis_el18261404606265481767789512922\", ldavis_el18261404606265481767789512922_data);\n",
              "      });\n",
              "    });\n",
              "}else{\n",
              "    // require.js not available: dynamically load d3 & LDAvis\n",
              "    LDAvis_load_lib(\"https://d3js.org/d3.v5.js\", function(){\n",
              "         LDAvis_load_lib(\"https://cdn.jsdelivr.net/gh/bmabey/pyLDAvis@3.3.1/pyLDAvis/js/ldavis.v3.0.0.js\", function(){\n",
              "                 new LDAvis(\"#\" + \"ldavis_el18261404606265481767789512922\", ldavis_el18261404606265481767789512922_data);\n",
              "            })\n",
              "         });\n",
              "}\n",
              "</script>"
            ],
            "text/plain": [
              "PreparedData(topic_coordinates=              x         y  topics  cluster      Freq\n",
              "topic                                               \n",
              "2      0.464801  0.198596       1        1  3.556696\n",
              "44    -0.130808 -0.469174       2        1  3.508864\n",
              "6     -0.076255 -0.396771       3        1  3.173199\n",
              "20    -0.333731 -0.363222       4        1  3.094678\n",
              "27     0.176582 -0.407414       5        1  2.899673\n",
              "46     0.374957 -0.163632       6        1  2.655403\n",
              "16    -0.353420 -0.230467       7        1  2.582084\n",
              "23     0.338542 -0.332277       8        1  2.579108\n",
              "38    -0.356577  0.280841       9        1  2.545968\n",
              "32     0.349369  0.282214      10        1  2.358279\n",
              "33    -0.192423 -0.223255      11        1  2.308735\n",
              "25    -0.388501 -0.140592      12        1  2.269311\n",
              "18    -0.264701  0.134516      13        1  2.225077\n",
              "21     0.240248  0.288840      14        1  2.224414\n",
              "40    -0.443985  0.030992      15        1  2.172628\n",
              "13    -0.276793  0.376962      16        1  2.141964\n",
              "14    -0.395414  0.170009      17        1  2.132619\n",
              "1      0.207352  0.389256      18        1  2.128121\n",
              "35    -0.386671 -0.057441      19        1  2.120694\n",
              "39     0.203135 -0.311736      20        1  2.111321\n",
              "36    -0.196903 -0.324988      21        1  2.101720\n",
              "0     -0.028630 -0.251174      22        1  2.062527\n",
              "12     0.306194 -0.208323      23        1  2.022447\n",
              "7      0.095255 -0.377830      24        1  2.008929\n",
              "9     -0.045200  0.430920      25        1  1.980510\n",
              "5      0.025376 -0.394053      26        1  1.966720\n",
              "43    -0.210567  0.050714      27        1  1.962345\n",
              "41    -0.017297  0.295148      28        1  1.929360\n",
              "45    -0.071644 -0.145084      29        1  1.903852\n",
              "26    -0.143374  0.376055      30        1  1.873317\n",
              "30    -0.076486  0.108321      31        1  1.865091\n",
              "24     0.116478  0.157829      32        1  1.811459\n",
              "22     0.387360 -0.072785      33        1  1.778545\n",
              "29     0.166782  0.061620      34        1  1.750346\n",
              "47     0.414286  0.071963      35        1  1.734548\n",
              "48     0.206369 -0.200506      36        1  1.647779\n",
              "10     0.292275  0.174783      37        1  1.643830\n",
              "42    -0.263200 -0.134382      38        1  1.562932\n",
              "28     0.072913  0.432018      39        1  1.550042\n",
              "4      0.045605  0.229688      40        1  1.546549\n",
              "49     0.252286  0.037901      41        1  1.489724\n",
              "15     0.356937 -0.005747      42        1  1.471069\n",
              "8      0.108563  0.328363      43        1  1.409553\n",
              "3      0.180190 -0.070513      44        1  1.341022\n",
              "37     0.081491 -0.134554      45        1  1.327015\n",
              "17    -0.343583  0.064265      46        1  1.248299\n",
              "19    -0.126514  0.275998      47        1  1.236987\n",
              "34    -0.204237  0.226188      48        1  1.198525\n",
              "11    -0.008192 -0.020616      49        1  1.014288\n",
              "31    -0.128242 -0.037463      50        1  0.771837, topic_info=           Term       Freq      Total Category  logprob  loglift\n",
              "35      pycharm  57.000000  57.000000  Default  30.0000  30.0000\n",
              "58       python  50.000000  50.000000  Default  29.0000  29.0000\n",
              "65         code  33.000000  33.000000  Default  28.0000  28.0000\n",
              "79         type  54.000000  54.000000  Default  27.0000  27.0000\n",
              "105       false  24.000000  24.000000  Default  26.0000  26.0000\n",
              "...         ...        ...        ...      ...      ...      ...\n",
              "2342   additive   0.122110   0.306268  Topic50  -5.2983   3.9446\n",
              "2343    stacked   0.122110   0.306268  Topic50  -5.2983   3.9446\n",
              "424   directive   0.087411   0.271569  Topic50  -5.6326   3.7306\n",
              "2124     dotted   0.083430   0.267588  Topic50  -5.6792   3.6987\n",
              "2019      built   0.069065   0.253223  Topic50  -5.8681   3.5649\n",
              "\n",
              "[1555 rows x 6 columns], token_table=      Topic      Freq      Term\n",
              "term                           \n",
              "1086     36  1.005338   ability\n",
              "2383     25  0.624231      able\n",
              "1378     36  1.179502  absolute\n",
              "1633      9  1.095961  abstract\n",
              "2260     23  0.904939  accepted\n",
              "...     ...       ...       ...\n",
              "1402      1  0.895449  wslbased\n",
              "2190     47  1.325107        xc\n",
              "2421     34  1.054877       xml\n",
              "1899     41  0.993511      yaml\n",
              "132      12  0.739340     yield\n",
              "\n",
              "[1055 rows x 3 columns], R=30, lambda_step=0.01, plot_opts={'xlab': 'PC1', 'ylab': 'PC2'}, topic_order=[3, 45, 7, 21, 28, 47, 17, 24, 39, 33, 34, 26, 19, 22, 41, 14, 15, 2, 36, 40, 37, 1, 13, 8, 10, 6, 44, 42, 46, 27, 31, 25, 23, 30, 48, 49, 11, 43, 29, 5, 50, 16, 9, 4, 38, 18, 20, 35, 12, 32])"
            ]
          },
          "metadata": {},
          "execution_count": 36
        }
      ]
    },
    {
      "cell_type": "code",
      "metadata": {
        "id": "oSm_odAYuQQG"
      },
      "source": [
        "list_2020_2 = ['python', 'pycharm', 'code', 'error', 'false', 'interpreter', 'project',\n",
        "                'type', 'work', 'debugger', 'console', 'cannot', 'file', 'incorrect',\n",
        "                'run', 'jupyter', 'inspection',  'completion', 'import', 'module',\n",
        "                'new', 'django', 'using','wrong','window','class','instead','warning', 'positive','string']"
      ],
      "execution_count": 37,
      "outputs": []
    },
    {
      "cell_type": "code",
      "metadata": {
        "id": "ha5HsAxAu7-w"
      },
      "source": [
        "list_2020_3 = ['pycharm','python','code','false','type','error','interpreter','project','incorrect','import',\n",
        "              'work', 'cannot', 'file', 'run', 'console', 'completion', 'new', 'django', 'class', 'list', 'used',\n",
        "              'function','wrong','working','debugger','show','method','jupyter','module','reference']"
      ],
      "execution_count": 38,
      "outputs": []
    },
    {
      "cell_type": "markdown",
      "metadata": {
        "id": "bphXgCuMvv3_"
      },
      "source": [
        "Общее в двух релизах"
      ]
    },
    {
      "cell_type": "code",
      "metadata": {
        "colab": {
          "base_uri": "https://localhost:8080/"
        },
        "id": "F_QwdusRvR1n",
        "outputId": "6c4529cf-13d4-48f0-e157-1416e4e362ff"
      },
      "source": [
        "print(*list(set(list_2020_2) & set(list_2020_3)))"
      ],
      "execution_count": 39,
      "outputs": [
        {
          "output_type": "stream",
          "name": "stdout",
          "text": [
            "completion error run cannot import new django interpreter pycharm work incorrect jupyter code python debugger false console module wrong file project type class\n"
          ]
        }
      ]
    },
    {
      "cell_type": "markdown",
      "metadata": {
        "id": "_MVRorfnv1jH"
      },
      "source": [
        "Слова, которые появились в релизе 2020.3"
      ]
    },
    {
      "cell_type": "code",
      "metadata": {
        "colab": {
          "base_uri": "https://localhost:8080/"
        },
        "id": "cK3Fsd9twMqX",
        "outputId": "5075e910-9939-4781-877a-f269d4f0f53b"
      },
      "source": [
        "print(*list(set(list_2020_3) - set(list_2020_2)))"
      ],
      "execution_count": 40,
      "outputs": [
        {
          "output_type": "stream",
          "name": "stdout",
          "text": [
            "method function show list reference used working\n"
          ]
        }
      ]
    },
    {
      "cell_type": "markdown",
      "metadata": {
        "id": "jKeOMQy_wM53"
      },
      "source": [
        "Слова, которые ушли из релиза 2020.2"
      ]
    },
    {
      "cell_type": "code",
      "metadata": {
        "colab": {
          "base_uri": "https://localhost:8080/"
        },
        "id": "PZlJ6CT2wPdv",
        "outputId": "53931b00-83ae-4de9-a1e8-4873fa41f495"
      },
      "source": [
        "print(*list(set(list_2020_2) - set(list_2020_3)))"
      ],
      "execution_count": 41,
      "outputs": [
        {
          "output_type": "stream",
          "name": "stdout",
          "text": [
            "instead using inspection window positive warning string\n"
          ]
        }
      ]
    },
    {
      "cell_type": "markdown",
      "metadata": {
        "id": "HbCzSxSwxVpv"
      },
      "source": [
        "Посмотрим график распределния топиков в двух релизах"
      ]
    },
    {
      "cell_type": "code",
      "metadata": {
        "id": "flGo6JIfwfJf"
      },
      "source": [
        "def collect_topics(topic_2020_n):\n",
        "  topics = []\n",
        "  for topic in topic_2020_n:\n",
        "    if not topic:\n",
        "      continue\n",
        "    probas = []   \n",
        "    for x in topic:\n",
        "      probas.append(x[1])\n",
        "    topics.append(topic[numpy.argmax(probas)][0])\n",
        "  return topics\n",
        "t_2 = collect_topics(topic_2020_2)\n",
        "t_3 = collect_topics(topic_2020_3)"
      ],
      "execution_count": 42,
      "outputs": []
    },
    {
      "cell_type": "code",
      "metadata": {
        "id": "NEKFZTHC0oPh"
      },
      "source": [
        "import warnings\n",
        "warnings.filterwarnings(\"ignore\")"
      ],
      "execution_count": 43,
      "outputs": []
    },
    {
      "cell_type": "code",
      "metadata": {
        "colab": {
          "base_uri": "https://localhost:8080/",
          "height": 635
        },
        "id": "68IdROtCybGX",
        "outputId": "2fe41d28-dbe8-4925-bc9a-39db05de708a"
      },
      "source": [
        "fig, ax = plt.subplots()\n",
        "i = 2\n",
        "for a in [t_2, t_3]:\n",
        "    sns.distplot(a, bins=50, ax=ax, kde=False, label=f'2020.{i}')\n",
        "    i += 1\n",
        "# ax.set_xlim([0, 50])\n",
        "ax.set_xticks(range(0, 51, 2))\n",
        "ax.legend()\n",
        "plt.xlabel(\"Тема\")\n",
        "plt.ylabel(\"Частота\")\n",
        "plt.title('Сравнение встречаемости тем по релизу')\n",
        "plt.show()"
      ],
      "execution_count": 44,
      "outputs": [
        {
          "output_type": "display_data",
          "data": {
            "image/png": "[encoded data removed]",
            "text/plain": [
              "<Figure size 1152x720 with 1 Axes>"
            ]
          },
          "metadata": {}
        }
      ]
    },
    {
      "cell_type": "markdown",
      "metadata": {
        "id": "V9Zern7G2kko"
      },
      "source": [
        "Голубые полосы отвечают за релиз 2020.2, оранжевые - 2020.3\n",
        "\n",
        "Из графика видно, что многие проблемы значительно \"поубавили свою популярность\" с наступлением нового релиза, то есть их смогли решить. Например, топики 3-6, 8-11, 19-23, 32, 49 показали значительный спад частотности. \n",
        "\n",
        "Топики 19 и 49 практичеески не встречаются в новом релизе. \n",
        "\n",
        "Однако есть и темы, которые стали встречаться чаще, например, тема 1, 7, 9 (большие яркие оранжевые ступеньки). Это потенциальные проблемы релиза, на которые стоит обратить внимание. "
      ]
    }
  ]
}